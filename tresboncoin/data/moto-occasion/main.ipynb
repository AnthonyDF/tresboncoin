{
 "cells": [
  {
   "cell_type": "code",
   "execution_count": 1,
   "id": "6ceb4738",
   "metadata": {},
   "outputs": [],
   "source": [
    "from scraping import scraping\n",
    "import pandas as pd\n",
    "import seaborn as sns\n",
    "import matplotlib.pyplot as plt\n",
    "from datetime import datetime"
   ]
  },
  {
   "cell_type": "code",
   "execution_count": 2,
   "id": "5f0ba9bf",
   "metadata": {},
   "outputs": [
    {
     "name": "stdout",
     "output_type": "stream",
     "text": [
      "page number: 1\n",
      "page number: 2\n",
      "page number: 3\n",
      "page number: 4\n",
      "page number: 5\n",
      "page number: 6\n",
      "page number: 7\n",
      "page number: 8\n",
      "page number: 9\n",
      "page number: 10\n",
      "page number: 11\n",
      "page number: 12\n",
      "page number: 13\n",
      "page number: 14\n",
      "page number: 15\n",
      "page number: 16\n",
      "page number: 17\n",
      "page number: 18\n",
      "page number: 19\n",
      "page number: 20\n",
      "page number: 21\n",
      "page number: 22\n",
      "page number: 23\n",
      "page number: 24\n",
      "page number: 25\n",
      "page number: 26\n",
      "page number: 27\n",
      "page number: 28\n",
      "page number: 29\n",
      "page number: 30\n",
      "page number: 31\n",
      "page number: 32\n",
      "page number: 33\n",
      "page number: 34\n",
      "page number: 35\n",
      "page number: 36\n",
      "page number: 37\n",
      "page number: 38\n",
      "page number: 39\n",
      "page number: 40\n",
      "page number: 41\n",
      "page number: 42\n",
      "page number: 43\n",
      "page number: 44\n",
      "page number: 45\n",
      "page number: 46\n",
      "page number: 47\n",
      "page number: 48\n",
      "page number: 49\n",
      "page number: 50\n",
      "page number: 51\n",
      "page number: 52\n",
      "page number: 53\n",
      "page number: 54\n",
      "page number: 55\n",
      "page number: 56\n",
      "page number: 57\n",
      "page number: 58\n",
      "page number: 59\n",
      "page number: 60\n",
      "page number: 61\n",
      "page number: 62\n",
      "page number: 63\n",
      "page number: 64\n",
      "page number: 65\n",
      "page number: 66\n",
      "page number: 67\n",
      "page number: 68\n",
      "page number: 69\n",
      "page number: 70\n",
      "page number: 71\n",
      "page number: 72\n",
      "page number: 73\n",
      "page number: 74\n",
      "page number: 75\n",
      "page number: 76\n",
      "page number: 77\n",
      "page number: 78\n",
      "page number: 79\n",
      "page number: 80\n",
      "page number: 81\n",
      "page number: 82\n",
      "page number: 83\n",
      "page number: 84\n",
      "page number: 85\n",
      "page number: 86\n",
      "page number: 87\n",
      "page number: 88\n",
      "page number: 89\n",
      "page number: 90\n",
      "page number: 91\n",
      "page number: 92\n",
      "page number: 93\n",
      "page number: 94\n",
      "page number: 95\n",
      "page number: 96\n",
      "page number: 97\n",
      "page number: 98\n",
      "page number: 99\n",
      "page number: 100\n",
      "page number: 101\n",
      "page number: 102\n",
      "page number: 103\n",
      "page number: 104\n",
      "page number: 105\n",
      "page number: 106\n",
      "page number: 107\n",
      "page number: 108\n",
      "page number: 109\n",
      "page number: 110\n",
      "page number: 111\n",
      "page number: 112\n",
      "page number: 113\n",
      "page number: 114\n",
      "page number: 115\n",
      "page number: 116\n",
      "page number: 117\n",
      "page number: 118\n",
      "page number: 119\n",
      "page number: 120\n",
      "page number: 121\n",
      "page number: 122\n",
      "page number: 123\n",
      "page number: 124\n",
      "page number: 125\n",
      "page number: 126\n",
      "page number: 127\n",
      "page number: 128\n",
      "page number: 129\n",
      "page number: 130\n",
      "page number: 131\n",
      "page number: 132\n",
      "page number: 133\n",
      "page number: 134\n",
      "page number: 135\n",
      "page number: 136\n",
      "page number: 137\n",
      "page number: 138\n",
      "page number: 139\n",
      "page number: 140\n",
      "page number: 141\n",
      "page number: 142\n",
      "1\n",
      "2\n",
      "3\n",
      "4\n",
      "5\n",
      "6\n",
      "7\n",
      "8\n",
      "9\n",
      "10\n",
      "11\n",
      "12\n",
      "13\n",
      "14\n",
      "15\n",
      "16\n",
      "17\n",
      "18\n",
      "19\n",
      "20\n",
      "21\n",
      "22\n",
      "23\n",
      "24\n",
      "25\n",
      "26\n",
      "27\n",
      "28\n",
      "29\n",
      "30\n",
      "31\n",
      "32\n",
      "33\n",
      "34\n",
      "35\n",
      "36\n",
      "37\n",
      "38\n",
      "39\n",
      "40\n",
      "41\n",
      "42\n",
      "43\n",
      "44\n",
      "45\n",
      "46\n",
      "47\n",
      "48\n",
      "49\n",
      "50\n",
      "51\n",
      "52\n",
      "53\n",
      "54\n",
      "55\n",
      "56\n",
      "57\n",
      "58\n",
      "59\n",
      "60\n",
      "61\n",
      "62\n",
      "63\n",
      "64\n",
      "65\n",
      "66\n",
      "67\n",
      "68\n",
      "69\n",
      "70\n",
      "71\n",
      "72\n",
      "73\n",
      "74\n",
      "75\n",
      "76\n",
      "77\n",
      "78\n",
      "79\n",
      "80\n",
      "81\n",
      "82\n",
      "83\n",
      "84\n",
      "85\n",
      "86\n",
      "87\n",
      "88\n",
      "89\n",
      "90\n",
      "91\n",
      "92\n",
      "93\n",
      "94\n",
      "95\n",
      "96\n",
      "97\n",
      "98\n",
      "99\n",
      "100\n",
      "101\n",
      "102\n",
      "103\n",
      "104\n",
      "105\n",
      "106\n",
      "107\n",
      "108\n",
      "109\n",
      "110\n",
      "111\n",
      "112\n",
      "113\n",
      "114\n",
      "115\n",
      "116\n",
      "117\n",
      "118\n",
      "119\n",
      "120\n",
      "121\n",
      "122\n",
      "123\n",
      "124\n",
      "125\n",
      "126\n",
      "127\n",
      "128\n",
      "129\n",
      "130\n",
      "131\n",
      "132\n",
      "133\n",
      "134\n",
      "135\n",
      "136\n",
      "137\n",
      "138\n",
      "139\n",
      "140\n",
      "141\n",
      "142\n",
      "143\n",
      "144\n",
      "145\n",
      "146\n",
      "147\n",
      "148\n",
      "149\n",
      "150\n",
      "151\n",
      "152\n",
      "153\n",
      "154\n",
      "155\n",
      "156\n",
      "157\n",
      "158\n",
      "159\n",
      "160\n",
      "161\n",
      "162\n",
      "163\n",
      "164\n",
      "165\n",
      "166\n",
      "167\n",
      "168\n",
      "169\n",
      "170\n",
      "171\n",
      "172\n",
      "173\n",
      "174\n",
      "175\n",
      "176\n",
      "177\n",
      "178\n",
      "179\n",
      "180\n",
      "181\n",
      "182\n",
      "183\n",
      "184\n",
      "185\n",
      "186\n",
      "187\n",
      "188\n",
      "189\n",
      "190\n",
      "191\n",
      "192\n",
      "193\n",
      "194\n",
      "195\n",
      "196\n",
      "197\n",
      "198\n",
      "199\n",
      "200\n",
      "201\n",
      "202\n",
      "203\n",
      "204\n",
      "205\n"
     ]
    }
   ],
   "source": [
    "scraping()"
   ]
  },
  {
   "cell_type": "markdown",
   "id": "3a435327",
   "metadata": {},
   "source": [
    "# Check duplicates"
   ]
  },
  {
   "cell_type": "code",
   "execution_count": 3,
   "id": "a70974ab",
   "metadata": {},
   "outputs": [
    {
     "data": {
      "text/plain": [
       "WT696738800.0      1\n",
       "WT1412484790.0     1\n",
       "WT1412376890.0     1\n",
       "WT1405732990.0     1\n",
       "WT1401221800.0     1\n",
       "                  ..\n",
       "WT1415632490.0     1\n",
       "WT1286929290.0     1\n",
       "WT1266183690.0     1\n",
       "WT13919217999.0    1\n",
       "WT1343244990.0     1\n",
       "Name: reference+price, Length: 3317, dtype: int64"
      ]
     },
     "execution_count": 3,
     "metadata": {},
     "output_type": "execute_result"
    }
   ],
   "source": [
    "df=pd.read_csv(\"moto-occasion.csv\")\n",
    "df['reference+price'] = df['reference']  + df['price'].astype(str)\n",
    "df['reference+price'].value_counts()"
   ]
  },
  {
   "cell_type": "markdown",
   "id": "13e3e510",
   "metadata": {},
   "source": [
    "# Use this to remove duplicates in a dataframe"
   ]
  },
  {
   "cell_type": "code",
   "execution_count": 4,
   "id": "92d3f997",
   "metadata": {},
   "outputs": [],
   "source": [
    "df=pd.read_csv(\"moto-occasion.csv\")\n",
    "df.drop_duplicates(subset=['reference','price'], inplace=True)\n",
    "df.to_csv(\"moto-occasion.csv\", index=False)"
   ]
  },
  {
   "cell_type": "markdown",
   "id": "7f25b2a9",
   "metadata": {},
   "source": [
    "# Explore data"
   ]
  },
  {
   "cell_type": "code",
   "execution_count": 5,
   "id": "c40c2359",
   "metadata": {},
   "outputs": [
    {
     "data": {
      "text/plain": [
       "(3317, 17)"
      ]
     },
     "execution_count": 5,
     "metadata": {},
     "output_type": "execute_result"
    }
   ],
   "source": [
    "df = pd.read_csv(\"moto-occasion.csv\")\n",
    "df.shape"
   ]
  },
  {
   "cell_type": "code",
   "execution_count": 6,
   "id": "cf121c2b",
   "metadata": {},
   "outputs": [
    {
     "data": {
      "text/plain": [
       "WT140227    2\n",
       "WT126305    2\n",
       "WT139077    2\n",
       "WT140350    2\n",
       "WT137796    2\n",
       "           ..\n",
       "WT137676    1\n",
       "WT137346    1\n",
       "WT138091    1\n",
       "WT138422    1\n",
       "WT140766    1\n",
       "Name: reference, Length: 2575, dtype: int64"
      ]
     },
     "execution_count": 6,
     "metadata": {},
     "output_type": "execute_result"
    }
   ],
   "source": [
    "df.reference.value_counts()"
   ]
  },
  {
   "cell_type": "code",
   "execution_count": 7,
   "id": "253c69b1",
   "metadata": {},
   "outputs": [
    {
     "data": {
      "text/html": [
       "<div>\n",
       "<style scoped>\n",
       "    .dataframe tbody tr th:only-of-type {\n",
       "        vertical-align: middle;\n",
       "    }\n",
       "\n",
       "    .dataframe tbody tr th {\n",
       "        vertical-align: top;\n",
       "    }\n",
       "\n",
       "    .dataframe thead th {\n",
       "        text-align: right;\n",
       "    }\n",
       "</style>\n",
       "<table border=\"1\" class=\"dataframe\">\n",
       "  <thead>\n",
       "    <tr style=\"text-align: right;\">\n",
       "      <th></th>\n",
       "      <th>uniq_id</th>\n",
       "      <th>reference</th>\n",
       "      <th>url</th>\n",
       "      <th>bike_type</th>\n",
       "      <th>bike_size</th>\n",
       "      <th>bike_year</th>\n",
       "      <th>bike_km</th>\n",
       "      <th>bike_brand</th>\n",
       "      <th>bike_model</th>\n",
       "      <th>bike_description</th>\n",
       "      <th>price</th>\n",
       "      <th>vendor_type</th>\n",
       "      <th>vendor_name</th>\n",
       "      <th>vendor_city</th>\n",
       "      <th>vendor_country</th>\n",
       "      <th>source</th>\n",
       "      <th>scrap_date</th>\n",
       "    </tr>\n",
       "  </thead>\n",
       "  <tbody>\n",
       "    <tr>\n",
       "      <th>1154</th>\n",
       "      <td>moto-occasion-WT139599</td>\n",
       "      <td>WT139599</td>\n",
       "      <td>http://moto-occasion.motorevue.com/motos/yamah...</td>\n",
       "      <td>TRAIL-SUPERMOTARD</td>\n",
       "      <td>1200</td>\n",
       "      <td>2020</td>\n",
       "      <td>4582</td>\n",
       "      <td>YAMAHA</td>\n",
       "      <td>XT Z Standard 1200</td>\n",
       "      <td>AUVERGNE MOTOS VEND UNE TENERE 1200  DU 18/06/...</td>\n",
       "      <td>11899.0</td>\n",
       "      <td>PROFESSIONNEL</td>\n",
       "      <td>AUVERGNE MOTOS, AUBIERE(63)</td>\n",
       "      <td>AUBIERE</td>\n",
       "      <td>FRANCE</td>\n",
       "      <td>moto-occasion</td>\n",
       "      <td>2021-05-31 00:29:56.196985</td>\n",
       "    </tr>\n",
       "    <tr>\n",
       "      <th>2492</th>\n",
       "      <td>moto-occasion-WT139599</td>\n",
       "      <td>WT139599</td>\n",
       "      <td>http://moto-occasion.motorevue.com/motos/yamah...</td>\n",
       "      <td>TRAIL-SUPERMOTARD</td>\n",
       "      <td>1200</td>\n",
       "      <td>2020</td>\n",
       "      <td>4582</td>\n",
       "      <td>YAMAHA</td>\n",
       "      <td>XT Z Standard 1200</td>\n",
       "      <td>AUVERGNE MOTOS VEND UNE TENERE 1200  DU 18/06/...</td>\n",
       "      <td>11499.0</td>\n",
       "      <td>PROFESSIONNEL</td>\n",
       "      <td>AUVERGNE MOTOS, AUBIERE(63)</td>\n",
       "      <td>AUBIERE</td>\n",
       "      <td>FRANCE</td>\n",
       "      <td>moto-occasion</td>\n",
       "      <td>2021-06-05 15:50:16.254643</td>\n",
       "    </tr>\n",
       "  </tbody>\n",
       "</table>\n",
       "</div>"
      ],
      "text/plain": [
       "                     uniq_id reference  \\\n",
       "1154  moto-occasion-WT139599  WT139599   \n",
       "2492  moto-occasion-WT139599  WT139599   \n",
       "\n",
       "                                                    url          bike_type  \\\n",
       "1154  http://moto-occasion.motorevue.com/motos/yamah...  TRAIL-SUPERMOTARD   \n",
       "2492  http://moto-occasion.motorevue.com/motos/yamah...  TRAIL-SUPERMOTARD   \n",
       "\n",
       "      bike_size  bike_year  bike_km bike_brand          bike_model  \\\n",
       "1154       1200       2020     4582     YAMAHA  XT Z Standard 1200   \n",
       "2492       1200       2020     4582     YAMAHA  XT Z Standard 1200   \n",
       "\n",
       "                                       bike_description    price  \\\n",
       "1154  AUVERGNE MOTOS VEND UNE TENERE 1200  DU 18/06/...  11899.0   \n",
       "2492  AUVERGNE MOTOS VEND UNE TENERE 1200  DU 18/06/...  11499.0   \n",
       "\n",
       "        vendor_type                  vendor_name vendor_city vendor_country  \\\n",
       "1154  PROFESSIONNEL  AUVERGNE MOTOS, AUBIERE(63)     AUBIERE         FRANCE   \n",
       "2492  PROFESSIONNEL  AUVERGNE MOTOS, AUBIERE(63)     AUBIERE         FRANCE   \n",
       "\n",
       "             source                  scrap_date  \n",
       "1154  moto-occasion  2021-05-31 00:29:56.196985  \n",
       "2492  moto-occasion  2021-06-05 15:50:16.254643  "
      ]
     },
     "execution_count": 7,
     "metadata": {},
     "output_type": "execute_result"
    }
   ],
   "source": [
    "df[df.reference == 'WT139599']"
   ]
  },
  {
   "cell_type": "code",
   "execution_count": 8,
   "id": "c9c83366",
   "metadata": {},
   "outputs": [
    {
     "data": {
      "text/plain": [
       "YAMAHA              576\n",
       "HONDA               378\n",
       "SUZUKI              331\n",
       "BMW                 274\n",
       "KAWASAKI            221\n",
       "PIAGGIO             211\n",
       "TRIUMPH             131\n",
       "KTM                 101\n",
       "DUCATI               80\n",
       "KYMCO                64\n",
       "APRILIA              50\n",
       "PEUGEOT              35\n",
       "INDIAN               30\n",
       "HARLEY-DAVIDSON      20\n",
       "MASH                 18\n",
       "HUSQVARNA            17\n",
       "VESPA                16\n",
       "MV AGUSTA            14\n",
       "MBK                  12\n",
       "DAELIM               11\n",
       "SYM                   8\n",
       "BENELLI               8\n",
       "MOTO GUZZI            8\n",
       "GILERA                2\n",
       "ORCAL                 2\n",
       "HYOSUNG               2\n",
       "BUELL                 2\n",
       "RIEJU                 1\n",
       "SWM                   1\n",
       "PGO                   1\n",
       "ZERO MOTORCYCLES      1\n",
       "ROYAL ENFIELD         1\n",
       "BIMOTA                1\n",
       "Name: bike_brand, dtype: int64"
      ]
     },
     "execution_count": 8,
     "metadata": {},
     "output_type": "execute_result"
    }
   ],
   "source": [
    "df.bike_brand.value_counts()"
   ]
  },
  {
   "cell_type": "code",
   "execution_count": 9,
   "id": "305eaaeb",
   "metadata": {},
   "outputs": [
    {
     "data": {
      "text/plain": [
       "MP3 500 LT        82\n",
       "Tmax 530          72\n",
       "MP3 LT 300        56\n",
       "R 1200 RT         51\n",
       "R 1200 GS         42\n",
       "                  ..\n",
       "Hyperstrada        1\n",
       "Intruder M 800     1\n",
       "Sprint GT 1050     1\n",
       "YZ 250             1\n",
       "Diavel Strada      1\n",
       "Name: bike_model, Length: 437, dtype: int64"
      ]
     },
     "execution_count": 9,
     "metadata": {},
     "output_type": "execute_result"
    }
   ],
   "source": [
    "df.bike_model.value_counts()"
   ]
  },
  {
   "cell_type": "markdown",
   "id": "bfe07025",
   "metadata": {},
   "source": [
    "## Bike Price"
   ]
  },
  {
   "cell_type": "code",
   "execution_count": 10,
   "id": "10ae8eb3",
   "metadata": {},
   "outputs": [
    {
     "data": {
      "text/plain": [
       "7358.359474885844"
      ]
     },
     "execution_count": 10,
     "metadata": {},
     "output_type": "execute_result"
    }
   ],
   "source": [
    "df.price.mean()"
   ]
  },
  {
   "cell_type": "code",
   "execution_count": 11,
   "id": "c072daa4",
   "metadata": {},
   "outputs": [
    {
     "data": {
      "text/plain": [
       "(0.0, 60000.0)"
      ]
     },
     "execution_count": 11,
     "metadata": {},
     "output_type": "execute_result"
    },
    {
     "data": {
      "image/png": "[encoded data removed]",
      "text/plain": [
       "<Figure size 1152x360 with 1 Axes>"
      ]
     },
     "metadata": {
      "needs_background": "light"
     },
     "output_type": "display_data"
    }
   ],
   "source": [
    "fig = plt.figure(figsize=(16, 5))\n",
    "feat = \"price\"\n",
    "sns.histplot(df[feat], palette='Blues', stat='density', bins=30)\n",
    "sns.kdeplot(df[feat], color='red')\n",
    "plt.xlim(0, 60000)"
   ]
  },
  {
   "cell_type": "markdown",
   "id": "484130ea",
   "metadata": {},
   "source": [
    "## Bike km"
   ]
  },
  {
   "cell_type": "code",
   "execution_count": 12,
   "id": "3172de15",
   "metadata": {},
   "outputs": [
    {
     "data": {
      "text/plain": [
       "(0.0, 150000.0)"
      ]
     },
     "execution_count": 12,
     "metadata": {},
     "output_type": "execute_result"
    },
    {
     "data": {
      "image/png": "[encoded data removed]",
      "text/plain": [
       "<Figure size 1152x360 with 1 Axes>"
      ]
     },
     "metadata": {
      "needs_background": "light"
     },
     "output_type": "display_data"
    }
   ],
   "source": [
    "fig = plt.figure(figsize=(16, 5))\n",
    "feat = \"bike_km\"\n",
    "sns.histplot(df[feat], palette='Blues', stat='density', bins=50)\n",
    "plt.xlim(0, 150000)"
   ]
  },
  {
   "cell_type": "markdown",
   "id": "d8586270",
   "metadata": {},
   "source": [
    "## Bike year"
   ]
  },
  {
   "cell_type": "code",
   "execution_count": 13,
   "id": "28df8b46",
   "metadata": {},
   "outputs": [
    {
     "data": {
      "text/plain": [
       "(1980.0, 2021.0)"
      ]
     },
     "execution_count": 13,
     "metadata": {},
     "output_type": "execute_result"
    },
    {
     "data": {
      "image/png": "[encoded data removed]",
      "text/plain": [
       "<Figure size 1152x360 with 1 Axes>"
      ]
     },
     "metadata": {
      "needs_background": "light"
     },
     "output_type": "display_data"
    }
   ],
   "source": [
    "fig = plt.figure(figsize=(16, 5))\n",
    "feat = \"bike_year\"\n",
    "sns.histplot(df[feat], palette='Blues', stat='density', bins=1500)\n",
    "plt.xlim(1980, datetime.now().year)"
   ]
  },
  {
   "cell_type": "markdown",
   "id": "754952bd",
   "metadata": {},
   "source": [
    "## Correlation Matrix"
   ]
  },
  {
   "cell_type": "code",
   "execution_count": null,
   "id": "a5b8ef2a",
   "metadata": {},
   "outputs": [],
   "source": [
    "sns.heatmap(df.corr(), annot=True)\n",
    "plt.show()"
   ]
  },
  {
   "cell_type": "code",
   "execution_count": null,
   "id": "e5db466f",
   "metadata": {},
   "outputs": [],
   "source": []
  }
 ],
 "metadata": {
  "kernelspec": {
   "display_name": "Python 3",
   "language": "python",
   "name": "python3"
  },
  "language_info": {
   "codemirror_mode": {
    "name": "ipython",
    "version": 3
   },
   "file_extension": ".py",
   "mimetype": "text/x-python",
   "name": "python",
   "nbconvert_exporter": "python",
   "pygments_lexer": "ipython3",
   "version": "3.8.6"
  },
  "toc": {
   "base_numbering": 1,
   "nav_menu": {},
   "number_sections": true,
   "sideBar": true,
   "skip_h1_title": false,
   "title_cell": "Table of Contents",
   "title_sidebar": "Contents",
   "toc_cell": false,
   "toc_position": {},
   "toc_section_display": true,
   "toc_window_display": false
  },
  "varInspector": {
   "cols": {
    "lenName": 16,
    "lenType": 16,
    "lenVar": 40
   },
   "kernels_config": {
    "python": {
     "delete_cmd_postfix": "",
     "delete_cmd_prefix": "del ",
     "library": "var_list.py",
     "varRefreshCmd": "print(var_dic_list())"
    },
    "r": {
     "delete_cmd_postfix": ") ",
     "delete_cmd_prefix": "rm(",
     "library": "var_list.r",
     "varRefreshCmd": "cat(var_dic_list()) "
    }
   },
   "types_to_exclude": [
    "module",
    "function",
    "builtin_function_or_method",
    "instance",
    "_Feature"
   ],
   "window_display": false
  }
 },
 "nbformat": 4,
 "nbformat_minor": 5
}
