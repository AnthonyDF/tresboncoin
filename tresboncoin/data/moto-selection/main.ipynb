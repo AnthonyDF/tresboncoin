{
 "cells": [
  {
   "cell_type": "code",
   "execution_count": 1,
   "id": "6ceb4738",
   "metadata": {},
   "outputs": [],
   "source": [
    "from scraping import scraping\n",
    "import pandas as pd\n",
    "import matplotlib.pyplot as plt\n",
    "import seaborn as sns\n",
    "from datetime import datetime\n",
    "from scraping_to_dataframe import scraping_to_dataframe"
   ]
  },
  {
   "cell_type": "code",
   "execution_count": null,
   "id": "5f0ba9bf",
   "metadata": {},
   "outputs": [],
   "source": [
    "scraping()"
   ]
  },
  {
   "cell_type": "code",
   "execution_count": 2,
   "id": "0aed4539",
   "metadata": {},
   "outputs": [
    {
     "name": "stdout",
     "output_type": "stream",
     "text": [
      "Annonce number 1\n",
      "Annonce number 2\n",
      "Annonce number 3\n",
      "Annonce number 4\n",
      "Annonce number 5\n",
      "Annonce number 6\n",
      "Annonce number 7\n",
      "Annonce number 8\n",
      "Annonce number 9\n",
      "Annonce number 10\n",
      "Annonce number 11\n",
      "Annonce number 12\n",
      "Annonce number 13\n",
      "Annonce number 14\n",
      "Annonce number 15\n",
      "Annonce number 16\n",
      "Annonce number 17\n",
      "Annonce number 18\n",
      "Annonce number 19\n",
      "Annonce number 20\n",
      "Annonce number 21\n",
      "Annonce number 22\n",
      "Annonce number 23\n",
      "Annonce number 24\n",
      "Annonce number 25\n",
      "Annonce number 26\n",
      "Annonce number 27\n",
      "Annonce number 28\n",
      "Annonce number 29\n",
      "Annonce number 30\n",
      "Annonce number 31\n",
      "Annonce number 32\n",
      "Annonce number 33\n",
      "Annonce number 34\n",
      "Annonce number 35\n",
      "Annonce number 36\n",
      "Annonce number 37\n",
      "Annonce number 38\n",
      "Annonce number 39\n",
      "Annonce number 40\n",
      "Annonce number 41\n",
      "Annonce number 42\n",
      "Annonce number 43\n",
      "Annonce number 44\n",
      "Annonce number 45\n",
      "Annonce number 46\n",
      "Annonce number 47\n",
      "Annonce number 48\n",
      "Annonce number 49\n",
      "Annonce number 50\n",
      "Annonce number 51\n",
      "Annonce number 52\n",
      "Annonce number 53\n",
      "Annonce number 54\n",
      "Annonce number 55\n",
      "Annonce number 56\n",
      "Annonce number 57\n",
      "Annonce number 58\n",
      "Annonce number 59\n",
      "Annonce number 60\n",
      "Annonce number 61\n",
      "Annonce number 62\n",
      "Annonce number 63\n",
      "Annonce number 64\n",
      "Annonce number 65\n",
      "Annonce number 66\n",
      "Annonce number 67\n",
      "Annonce number 68\n",
      "Annonce number 69\n",
      "Annonce number 70\n",
      "Annonce number 71\n",
      "Annonce number 72\n",
      "Annonce number 73\n",
      "Annonce number 74\n",
      "Annonce number 75\n",
      "Annonce number 76\n",
      "Annonce number 77\n",
      "Annonce number 78\n",
      "Annonce number 79\n",
      "Annonce number 80\n",
      "Annonce number 81\n",
      "Annonce number 82\n",
      "Annonce number 83\n",
      "Annonce number 84\n",
      "Annonce number 85\n",
      "Annonce number 86\n",
      "Annonce number 87\n",
      "Annonce number 88\n",
      "Annonce number 89\n",
      "Annonce number 90\n",
      "Annonce number 91\n",
      "Annonce number 92\n",
      "Annonce number 93\n",
      "Annonce number 94\n",
      "Annonce number 95\n",
      "Annonce number 96\n",
      "Annonce number 97\n",
      "Annonce number 98\n",
      "Annonce number 99\n",
      "Annonce number 100\n",
      "Annonce number 101\n",
      "Annonce number 102\n",
      "Annonce number 103\n",
      "Annonce number 104\n",
      "Annonce number 105\n",
      "Annonce number 106\n",
      "Annonce number 107\n",
      "Annonce number 108\n",
      "Annonce number 109\n",
      "Annonce number 110\n",
      "Annonce number 111\n",
      "Annonce number 112\n",
      "Annonce number 113\n",
      "Annonce number 114\n",
      "Annonce number 115\n",
      "Annonce number 116\n",
      "Annonce number 117\n",
      "Annonce number 118\n",
      "Annonce number 119\n",
      "Annonce number 120\n",
      "Annonce number 121\n",
      "Annonce number 122\n",
      "Annonce number 123\n",
      "Annonce number 124\n",
      "Annonce number 125\n",
      "Annonce number 126\n",
      "Annonce number 127\n",
      "Annonce number 128\n",
      "Annonce number 129\n",
      "Annonce number 130\n",
      "Annonce number 131\n",
      "Annonce number 132\n",
      "Annonce number 133\n",
      "Annonce number 134\n",
      "Annonce number 135\n",
      "Annonce number 136\n",
      "Annonce number 137\n",
      "Annonce number 138\n",
      "Annonce number 139\n",
      "Annonce number 140\n",
      "Annonce number 141\n",
      "Annonce number 142\n",
      "Annonce number 143\n",
      "Annonce number 144\n",
      "Annonce number 145\n",
      "Annonce number 146\n",
      "Annonce number 147\n",
      "Annonce number 148\n",
      "Annonce number 149\n",
      "Annonce number 150\n",
      "Annonce number 151\n",
      "Annonce number 152\n",
      "Annonce number 153\n",
      "Annonce number 154\n",
      "Annonce number 155\n",
      "Annonce number 156\n",
      "Annonce number 157\n",
      "Annonce number 158\n",
      "Annonce number 159\n",
      "Annonce number 160\n",
      "Annonce number 161\n",
      "Annonce number 162\n",
      "Annonce number 163\n",
      "Annonce number 164\n",
      "Annonce number 165\n",
      "Annonce number 166\n",
      "Annonce number 167\n",
      "Annonce number 168\n",
      "Annonce number 169\n",
      "Annonce number 170\n",
      "Annonce number 171\n",
      "Annonce number 172\n",
      "Annonce number 173\n",
      "Annonce number 174\n",
      "Annonce number 175\n",
      "Annonce number 176\n",
      "Annonce number 177\n",
      "Annonce number 178\n",
      "Annonce number 179\n"
     ]
    }
   ],
   "source": [
    "scraping_to_dataframe()"
   ]
  },
  {
   "cell_type": "markdown",
   "id": "09e7b9cf",
   "metadata": {},
   "source": [
    "# Check duplicates"
   ]
  },
  {
   "cell_type": "code",
   "execution_count": 3,
   "id": "c468de72",
   "metadata": {},
   "outputs": [
    {
     "data": {
      "text/plain": [
       "11890079800     7\n",
       "118907314590    3\n",
       "11867952990     3\n",
       "11881605899     2\n",
       "11882404490     2\n",
       "               ..\n",
       "11534241300     1\n",
       "118172421990    1\n",
       "114117710790    1\n",
       "11846601490     1\n",
       "118162511500    1\n",
       "Name: reference+price, Length: 4610, dtype: int64"
      ]
     },
     "execution_count": 3,
     "metadata": {},
     "output_type": "execute_result"
    }
   ],
   "source": [
    "df=pd.read_csv(\"moto-selection.csv\")\n",
    "df['reference+price'] = df['reference'].astype(str)  + df['price'].astype(str)\n",
    "df['reference+price'].value_counts()"
   ]
  },
  {
   "cell_type": "markdown",
   "id": "91a6678b",
   "metadata": {},
   "source": [
    "# Use this to remove duplicates in a dataframe"
   ]
  },
  {
   "cell_type": "code",
   "execution_count": 4,
   "id": "9eb5ad4e",
   "metadata": {},
   "outputs": [],
   "source": [
    "df=pd.read_csv(\"moto-selection.csv\")\n",
    "df.drop_duplicates(subset=['reference','price'], inplace=True)\n",
    "df.to_csv(\"moto-station.csv\", index=False)"
   ]
  },
  {
   "cell_type": "code",
   "execution_count": 5,
   "id": "ef2670a6",
   "metadata": {},
   "outputs": [
    {
     "data": {
      "text/plain": [
       "(4610, 18)"
      ]
     },
     "execution_count": 5,
     "metadata": {},
     "output_type": "execute_result"
    }
   ],
   "source": [
    "df.shape"
   ]
  },
  {
   "cell_type": "markdown",
   "id": "f2d44a23",
   "metadata": {},
   "source": [
    "# Explore data"
   ]
  },
  {
   "cell_type": "code",
   "execution_count": null,
   "id": "50cb140e",
   "metadata": {
    "scrolled": true
   },
   "outputs": [],
   "source": [
    "df = pd.read_csv(\"moto-selection.csv\")\n",
    "df.shape"
   ]
  },
  {
   "cell_type": "code",
   "execution_count": null,
   "id": "4f00b484",
   "metadata": {},
   "outputs": [],
   "source": [
    "df.shape"
   ]
  },
  {
   "cell_type": "code",
   "execution_count": null,
   "id": "e4c3211d",
   "metadata": {},
   "outputs": [],
   "source": [
    "df.reference.value_counts()"
   ]
  },
  {
   "cell_type": "code",
   "execution_count": null,
   "id": "96d942ff",
   "metadata": {},
   "outputs": [],
   "source": [
    "df.bike_brand.value_counts()"
   ]
  },
  {
   "cell_type": "code",
   "execution_count": null,
   "id": "94073315",
   "metadata": {},
   "outputs": [],
   "source": [
    "df.bike_model.value_counts()"
   ]
  },
  {
   "cell_type": "markdown",
   "id": "e862af4e",
   "metadata": {},
   "source": [
    "## Bike Price"
   ]
  },
  {
   "cell_type": "code",
   "execution_count": null,
   "id": "5e1b624e",
   "metadata": {},
   "outputs": [],
   "source": [
    "df.price.mean()"
   ]
  },
  {
   "cell_type": "code",
   "execution_count": null,
   "id": "c3cb3104",
   "metadata": {},
   "outputs": [],
   "source": [
    "fig = plt.figure(figsize=(16, 5))\n",
    "feat = \"price\"\n",
    "sns.histplot(df[feat], palette='Blues', stat='density', bins=30)\n",
    "sns.kdeplot(df[feat], color='red')\n",
    "plt.xlim(0, 60000)"
   ]
  },
  {
   "cell_type": "markdown",
   "id": "a85ed65d",
   "metadata": {},
   "source": [
    "## Bike km"
   ]
  },
  {
   "cell_type": "code",
   "execution_count": null,
   "id": "10d2c2f0",
   "metadata": {},
   "outputs": [],
   "source": [
    "fig = plt.figure(figsize=(16, 5))\n",
    "feat = \"bike_km\"\n",
    "sns.histplot(df[feat], palette='Blues', stat='density', bins=1500)\n",
    "plt.xlim(0, 150000)"
   ]
  },
  {
   "cell_type": "markdown",
   "id": "ed10ec4a",
   "metadata": {},
   "source": [
    "## Bike year"
   ]
  },
  {
   "cell_type": "code",
   "execution_count": null,
   "id": "4843f0b9",
   "metadata": {},
   "outputs": [],
   "source": [
    "fig = plt.figure(figsize=(16, 5))\n",
    "feat = \"bike_year\"\n",
    "sns.histplot(df[feat], palette='Blues', stat='density', bins=1500)\n",
    "plt.xlim(1980, datetime.now().year)"
   ]
  },
  {
   "cell_type": "markdown",
   "id": "2b39d981",
   "metadata": {},
   "source": [
    "## Correlation Matrix"
   ]
  },
  {
   "cell_type": "code",
   "execution_count": null,
   "id": "e1b68c3a",
   "metadata": {},
   "outputs": [],
   "source": [
    "sns.heatmap(df.corr(), annot=True)\n",
    "plt.show()"
   ]
  }
 ],
 "metadata": {
  "kernelspec": {
   "display_name": "Python 3",
   "language": "python",
   "name": "python3"
  },
  "language_info": {
   "codemirror_mode": {
    "name": "ipython",
    "version": 3
   },
   "file_extension": ".py",
   "mimetype": "text/x-python",
   "name": "python",
   "nbconvert_exporter": "python",
   "pygments_lexer": "ipython3",
   "version": "3.8.6"
  },
  "toc": {
   "base_numbering": 1,
   "nav_menu": {},
   "number_sections": true,
   "sideBar": true,
   "skip_h1_title": false,
   "title_cell": "Table of Contents",
   "title_sidebar": "Contents",
   "toc_cell": false,
   "toc_position": {},
   "toc_section_display": true,
   "toc_window_display": false
  },
  "varInspector": {
   "cols": {
    "lenName": 16,
    "lenType": 16,
    "lenVar": 40
   },
   "kernels_config": {
    "python": {
     "delete_cmd_postfix": "",
     "delete_cmd_prefix": "del ",
     "library": "var_list.py",
     "varRefreshCmd": "print(var_dic_list())"
    },
    "r": {
     "delete_cmd_postfix": ") ",
     "delete_cmd_prefix": "rm(",
     "library": "var_list.r",
     "varRefreshCmd": "cat(var_dic_list()) "
    }
   },
   "types_to_exclude": [
    "module",
    "function",
    "builtin_function_or_method",
    "instance",
    "_Feature"
   ],
   "window_display": false
  }
 },
 "nbformat": 4,
 "nbformat_minor": 5
}
