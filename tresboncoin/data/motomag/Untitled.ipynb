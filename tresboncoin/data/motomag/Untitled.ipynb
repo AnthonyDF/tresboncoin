{
 "cells": [
  {
   "cell_type": "code",
   "execution_count": 47,
   "id": "ff38c017",
   "metadata": {},
   "outputs": [],
   "source": [
    "import os\n",
    "source='motomag'\n",
    "import codecs\n",
    "from bs4 import BeautifulSoup\n",
    "import re"
   ]
  },
  {
   "cell_type": "code",
   "execution_count": null,
   "id": "56d3b267",
   "metadata": {},
   "outputs": [],
   "source": [
    "8389379"
   ]
  },
  {
   "cell_type": "code",
   "execution_count": 55,
   "id": "06925355",
   "metadata": {},
   "outputs": [
    {
     "data": {
      "text/plain": [
       "['motomag-8389379-2021-06-21_15h24.html']"
      ]
     },
     "execution_count": 55,
     "metadata": {},
     "output_type": "execute_result"
    }
   ],
   "source": [
    "[file for file in os.listdir('annonces') if file.endswith(\".html\")][0:1]"
   ]
  },
  {
   "cell_type": "code",
   "execution_count": 56,
   "id": "2c0a1ba3",
   "metadata": {},
   "outputs": [
    {
     "name": "stdout",
     "output_type": "stream",
     "text": [
      "motomag-8389379-2021-06-21_15h24.html\n",
      "motomag-8389379\n",
      "2010\n"
     ]
    }
   ],
   "source": [
    "for filename in [file for file in os.listdir('annonces') if file.endswith(\".html\")][0:1]:\n",
    "    print(filename)\n",
    "    reference = int(filename.split(\"-\")[1])\n",
    "    uniq_id = source+\"-\"+str(reference)\n",
    "    print(uniq_id)\n",
    "    \n",
    "    # initialize list for dataframe\n",
    "    data = {'uniq_id': [],\n",
    "            'reference': [],\n",
    "            'brand': [],\n",
    "            'model': [],\n",
    "            'price': [],\n",
    "            'bike_year': [],\n",
    "            'engine_size': [],\n",
    "            'mileage': []}\n",
    "    \n",
    "    f = codecs.open(f\"{'annonces' +'/'+filename}\", 'r')\n",
    "    model_soup = BeautifulSoup(f, \"html.parser\")\n",
    "    engine_size = int(model_soup.find('div', class_='f17').text.split('cm3')[0])\n",
    "    mileage = int(model_soup.find('div', class_='f17').text.split('cm3')[1].split(' km')[0])\n",
    "    bike_type = model_soup.select('h1.f14')[0].text\n",
    "    brand = model_soup.select('h1.fPtNaB:nth-child(2)')[0].text.split(' - ')[0].lower()\n",
    "    model = model_soup.select('h1.fPtNaB:nth-child(2)')[0].text.split(' - ')[1].lower()\n",
    "    price = model_soup.find(itemprop='prix').text.replace(' €', '')\n",
    "    year = model_soup.find('div', class_='f17').text.split('Année du modèle : ')[1]\n",
    "    bike_year = re.match(r'\\d{4}', year).group(0)\n",
    "    \n",
    "    print(bike_year)\n"
   ]
  },
  {
   "cell_type": "code",
   "execution_count": 53,
   "id": "37dcb7de",
   "metadata": {},
   "outputs": [
    {
     "name": "stdout",
     "output_type": "stream",
     "text": [
      "motomag-8389379-2021-06-21_15h24.html\n",
      "motomag-8389379\n",
      "2010\n"
     ]
    }
   ],
   "source": [
    "for filename in [file for file in os.listdir('annonces') if file.endswith(\".html\")][0:1]:\n",
    "    print(filename)\n",
    "    reference = int(filename.split(\"-\")[1])\n",
    "    uniq_id = source+\"-\"+str(reference)\n",
    "    print(uniq_id)\n",
    "    \n",
    "    # initialize list for dataframe\n",
    "    data = {'uniq_id': [],\n",
    "            'reference': [],\n",
    "            'brand': [],\n",
    "            'model': [],\n",
    "            'price': [],\n",
    "            'bike_year': [],\n",
    "            'engine_size': [],\n",
    "            'mileage': []}\n",
    "    \n",
    "    f = codecs.open(f\"{'annonces' +'/'+filename}\", 'r')\n",
    "    model_soup = BeautifulSoup(f, \"html.parser\")\n",
    "    engine_size = int(model_soup.find('div', class_='f17').text.split('cm3')[0])\n",
    "    mileage = int(model_soup.find('div', class_='f17').text.split('cm3')[1].split(' km')[0])\n",
    "    bike_type = model_soup.select('h1.f14')[0].text\n",
    "    brand = model_soup.select('h1.fPtNaB:nth-child(2)')[0].text.split(' - ')[0].lower()\n",
    "    model = model_soup.select('h1.fPtNaB:nth-child(2)')[0].text.split(' - ')[1].lower()\n",
    "    price = model_soup.find(itemprop='prix').text.replace(' €', '')\n",
    "    year = model_soup.find('div', class_='f17').text.split('Année du modèle : ')[1]\n",
    "    bike_year = re.match(r'\\d{4}', year).group(0)\n",
    "    \n",
    "    print(bike_year)\n"
   ]
  },
  {
   "cell_type": "code",
   "execution_count": null,
   "id": "c0648eb4",
   "metadata": {},
   "outputs": [],
   "source": []
  },
  {
   "cell_type": "code",
   "execution_count": null,
   "id": "55ff5e4b",
   "metadata": {},
   "outputs": [],
   "source": [
    "<div class=\"f17\" itemprop=\"description\">650 cm3<br/>29999 km<br/>Blanc<br/>Date 1er immat. janvier 2010 <br/> Garantie : oui<br/>Première main : non<br/>Année du modèle : 2010<p>Visible à : VILLENEUVE LES BEZIERS - 34500<br/>Contact : Sébastien<br/>Tél: 04 67 76 76 76 <br/><a href=\"mailto:goodtimes34@orange.fr?subject=PA motomag.com Ref annonce SUZUKI - BURGMAN 650 - 650 cm3 - 2010 - ref: 8389379\">Contact email</a><br/>\n",
    "<a href=\"https://www.power34.fr\" target=\"_blank\">Visitez son site web</a></p></div>\n",
    "Traceback (most recent call last):\n",
    "  File \"tresboncoin/data/motomag/scraping_to_dataframe.py\", line 147, in <module>\n",
    "    scraping_to_dataframe()\n",
    "  File \"tresboncoin/data/motomag/scraping_to_dataframe.py\", line 64, in scraping_to_dataframe\n",
    "    engine_size = int(model_soup.find('div', class_='f17').text.split('cm3')[0])\n",
    "AttributeError: 'NoneType' object has no attribute 'text'"
   ]
  },
  {
   "cell_type": "code",
   "execution_count": null,
   "id": "ebcec969",
   "metadata": {},
   "outputs": [],
   "source": []
  }
 ],
 "metadata": {
  "kernelspec": {
   "display_name": "Python 3",
   "language": "python",
   "name": "python3"
  },
  "language_info": {
   "codemirror_mode": {
    "name": "ipython",
    "version": 3
   },
   "file_extension": ".py",
   "mimetype": "text/x-python",
   "name": "python",
   "nbconvert_exporter": "python",
   "pygments_lexer": "ipython3",
   "version": "3.8.6"
  },
  "toc": {
   "base_numbering": 1,
   "nav_menu": {},
   "number_sections": true,
   "sideBar": true,
   "skip_h1_title": false,
   "title_cell": "Table of Contents",
   "title_sidebar": "Contents",
   "toc_cell": false,
   "toc_position": {},
   "toc_section_display": true,
   "toc_window_display": false
  },
  "varInspector": {
   "cols": {
    "lenName": 16,
    "lenType": 16,
    "lenVar": 40
   },
   "kernels_config": {
    "python": {
     "delete_cmd_postfix": "",
     "delete_cmd_prefix": "del ",
     "library": "var_list.py",
     "varRefreshCmd": "print(var_dic_list())"
    },
    "r": {
     "delete_cmd_postfix": ") ",
     "delete_cmd_prefix": "rm(",
     "library": "var_list.r",
     "varRefreshCmd": "cat(var_dic_list()) "
    }
   },
   "types_to_exclude": [
    "module",
    "function",
    "builtin_function_or_method",
    "instance",
    "_Feature"
   ],
   "window_display": false
  }
 },
 "nbformat": 4,
 "nbformat_minor": 5
}
