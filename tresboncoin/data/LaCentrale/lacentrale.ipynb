{
 "cells": [
  {
   "cell_type": "code",
   "execution_count": 3,
   "id": "0153e1f1",
   "metadata": {},
   "outputs": [],
   "source": [
    "from datetime import datetime\n",
    "import requests\n",
    "from bs4 import BeautifulSoup\n",
    "import time\n",
    "import random\n",
    "import pandas as pd\n",
    "import os\n",
    "import random\n",
    "import numpy as np\n",
    "import time\n",
    "import pandas as pd\n",
    "import string\n",
    "from rapidfuzz import process\n",
    "import numpy as np\n",
    "import os"
   ]
  },
  {
   "cell_type": "code",
   "execution_count": 4,
   "id": "ae88b9b6",
   "metadata": {},
   "outputs": [
    {
     "ename": "ValueError",
     "evalue": "Length mismatch: Expected axis has 8 elements, new values have 12 elements",
     "output_type": "error",
     "traceback": [
      "\u001b[0;31m---------------------------------------------------------------------------\u001b[0m",
      "\u001b[0;31mValueError\u001b[0m                                Traceback (most recent call last)",
      "\u001b[0;32m<ipython-input-4-954bb68744df>\u001b[0m in \u001b[0;36m<module>\u001b[0;34m\u001b[0m\n\u001b[1;32m      1\u001b[0m \u001b[0mhistory\u001b[0m \u001b[0;34m=\u001b[0m \u001b[0mpd\u001b[0m\u001b[0;34m.\u001b[0m\u001b[0mread_csv\u001b[0m\u001b[0;34m(\u001b[0m\u001b[0;34m'lacentrale.csv'\u001b[0m\u001b[0;34m)\u001b[0m\u001b[0;34m\u001b[0m\u001b[0;34m\u001b[0m\u001b[0m\n\u001b[0;32m----> 2\u001b[0;31m \u001b[0mhistory\u001b[0m\u001b[0;34m.\u001b[0m\u001b[0mcolumns\u001b[0m\u001b[0;34m=\u001b[0m\u001b[0;34m[\u001b[0m\u001b[0;34m'url'\u001b[0m\u001b[0;34m,\u001b[0m \u001b[0;34m'1'\u001b[0m\u001b[0;34m,\u001b[0m \u001b[0;34m'2'\u001b[0m\u001b[0;34m,\u001b[0m \u001b[0;34m'title'\u001b[0m\u001b[0;34m,\u001b[0m \u001b[0;34m'3'\u001b[0m\u001b[0;34m,\u001b[0m \u001b[0;34m'price'\u001b[0m\u001b[0;34m,\u001b[0m\u001b[0;34m'4'\u001b[0m\u001b[0;34m,\u001b[0m\u001b[0;34m'5'\u001b[0m\u001b[0;34m,\u001b[0m \u001b[0;34m'6'\u001b[0m\u001b[0;34m,\u001b[0m \u001b[0;34m'7'\u001b[0m\u001b[0;34m,\u001b[0m \u001b[0;34m'bike_year'\u001b[0m\u001b[0;34m,\u001b[0m \u001b[0;34m'mileage'\u001b[0m\u001b[0;34m]\u001b[0m\u001b[0;34m\u001b[0m\u001b[0;34m\u001b[0m\u001b[0m\n\u001b[0m\u001b[1;32m      3\u001b[0m \u001b[0mhistory\u001b[0m \u001b[0;34m=\u001b[0m \u001b[0mhistory\u001b[0m\u001b[0;34m[\u001b[0m\u001b[0;34m[\u001b[0m\u001b[0;34m'url'\u001b[0m\u001b[0;34m,\u001b[0m\u001b[0;34m'title'\u001b[0m\u001b[0;34m,\u001b[0m\u001b[0;34m'price'\u001b[0m\u001b[0;34m,\u001b[0m\u001b[0;34m'bike_year'\u001b[0m\u001b[0;34m,\u001b[0m \u001b[0;34m'mileage'\u001b[0m\u001b[0;34m]\u001b[0m\u001b[0;34m]\u001b[0m\u001b[0;34m\u001b[0m\u001b[0;34m\u001b[0m\u001b[0m\n\u001b[1;32m      4\u001b[0m \u001b[0mhistory\u001b[0m\u001b[0;34m.\u001b[0m\u001b[0mdrop_duplicates\u001b[0m\u001b[0;34m(\u001b[0m\u001b[0msubset\u001b[0m\u001b[0;34m=\u001b[0m\u001b[0;34m[\u001b[0m\u001b[0;34m'url'\u001b[0m\u001b[0;34m]\u001b[0m\u001b[0;34m,\u001b[0m \u001b[0minplace\u001b[0m\u001b[0;34m=\u001b[0m\u001b[0;32mTrue\u001b[0m\u001b[0;34m)\u001b[0m\u001b[0;34m\u001b[0m\u001b[0;34m\u001b[0m\u001b[0m\n\u001b[1;32m      5\u001b[0m \u001b[0;34m\u001b[0m\u001b[0m\n",
      "\u001b[0;32m~/.pyenv/versions/3.8.6/envs/lewagon/lib/python3.8/site-packages/pandas/core/generic.py\u001b[0m in \u001b[0;36m__setattr__\u001b[0;34m(self, name, value)\u001b[0m\n\u001b[1;32m   5471\u001b[0m         \u001b[0;32mtry\u001b[0m\u001b[0;34m:\u001b[0m\u001b[0;34m\u001b[0m\u001b[0;34m\u001b[0m\u001b[0m\n\u001b[1;32m   5472\u001b[0m             \u001b[0mobject\u001b[0m\u001b[0;34m.\u001b[0m\u001b[0m__getattribute__\u001b[0m\u001b[0;34m(\u001b[0m\u001b[0mself\u001b[0m\u001b[0;34m,\u001b[0m \u001b[0mname\u001b[0m\u001b[0;34m)\u001b[0m\u001b[0;34m\u001b[0m\u001b[0;34m\u001b[0m\u001b[0m\n\u001b[0;32m-> 5473\u001b[0;31m             \u001b[0;32mreturn\u001b[0m \u001b[0mobject\u001b[0m\u001b[0;34m.\u001b[0m\u001b[0m__setattr__\u001b[0m\u001b[0;34m(\u001b[0m\u001b[0mself\u001b[0m\u001b[0;34m,\u001b[0m \u001b[0mname\u001b[0m\u001b[0;34m,\u001b[0m \u001b[0mvalue\u001b[0m\u001b[0;34m)\u001b[0m\u001b[0;34m\u001b[0m\u001b[0;34m\u001b[0m\u001b[0m\n\u001b[0m\u001b[1;32m   5474\u001b[0m         \u001b[0;32mexcept\u001b[0m \u001b[0mAttributeError\u001b[0m\u001b[0;34m:\u001b[0m\u001b[0;34m\u001b[0m\u001b[0;34m\u001b[0m\u001b[0m\n\u001b[1;32m   5475\u001b[0m             \u001b[0;32mpass\u001b[0m\u001b[0;34m\u001b[0m\u001b[0;34m\u001b[0m\u001b[0m\n",
      "\u001b[0;32mpandas/_libs/properties.pyx\u001b[0m in \u001b[0;36mpandas._libs.properties.AxisProperty.__set__\u001b[0;34m()\u001b[0m\n",
      "\u001b[0;32m~/.pyenv/versions/3.8.6/envs/lewagon/lib/python3.8/site-packages/pandas/core/generic.py\u001b[0m in \u001b[0;36m_set_axis\u001b[0;34m(self, axis, labels)\u001b[0m\n\u001b[1;32m    665\u001b[0m     \u001b[0;32mdef\u001b[0m \u001b[0m_set_axis\u001b[0m\u001b[0;34m(\u001b[0m\u001b[0mself\u001b[0m\u001b[0;34m,\u001b[0m \u001b[0maxis\u001b[0m\u001b[0;34m:\u001b[0m \u001b[0mint\u001b[0m\u001b[0;34m,\u001b[0m \u001b[0mlabels\u001b[0m\u001b[0;34m:\u001b[0m \u001b[0mIndex\u001b[0m\u001b[0;34m)\u001b[0m \u001b[0;34m->\u001b[0m \u001b[0;32mNone\u001b[0m\u001b[0;34m:\u001b[0m\u001b[0;34m\u001b[0m\u001b[0;34m\u001b[0m\u001b[0m\n\u001b[1;32m    666\u001b[0m         \u001b[0mlabels\u001b[0m \u001b[0;34m=\u001b[0m \u001b[0mensure_index\u001b[0m\u001b[0;34m(\u001b[0m\u001b[0mlabels\u001b[0m\u001b[0;34m)\u001b[0m\u001b[0;34m\u001b[0m\u001b[0;34m\u001b[0m\u001b[0m\n\u001b[0;32m--> 667\u001b[0;31m         \u001b[0mself\u001b[0m\u001b[0;34m.\u001b[0m\u001b[0m_mgr\u001b[0m\u001b[0;34m.\u001b[0m\u001b[0mset_axis\u001b[0m\u001b[0;34m(\u001b[0m\u001b[0maxis\u001b[0m\u001b[0;34m,\u001b[0m \u001b[0mlabels\u001b[0m\u001b[0;34m)\u001b[0m\u001b[0;34m\u001b[0m\u001b[0;34m\u001b[0m\u001b[0m\n\u001b[0m\u001b[1;32m    668\u001b[0m         \u001b[0mself\u001b[0m\u001b[0;34m.\u001b[0m\u001b[0m_clear_item_cache\u001b[0m\u001b[0;34m(\u001b[0m\u001b[0;34m)\u001b[0m\u001b[0;34m\u001b[0m\u001b[0;34m\u001b[0m\u001b[0m\n\u001b[1;32m    669\u001b[0m \u001b[0;34m\u001b[0m\u001b[0m\n",
      "\u001b[0;32m~/.pyenv/versions/3.8.6/envs/lewagon/lib/python3.8/site-packages/pandas/core/internals/managers.py\u001b[0m in \u001b[0;36mset_axis\u001b[0;34m(self, axis, new_labels)\u001b[0m\n\u001b[1;32m    218\u001b[0m \u001b[0;34m\u001b[0m\u001b[0m\n\u001b[1;32m    219\u001b[0m         \u001b[0;32mif\u001b[0m \u001b[0mnew_len\u001b[0m \u001b[0;34m!=\u001b[0m \u001b[0mold_len\u001b[0m\u001b[0;34m:\u001b[0m\u001b[0;34m\u001b[0m\u001b[0;34m\u001b[0m\u001b[0m\n\u001b[0;32m--> 220\u001b[0;31m             raise ValueError(\n\u001b[0m\u001b[1;32m    221\u001b[0m                 \u001b[0;34mf\"Length mismatch: Expected axis has {old_len} elements, new \"\u001b[0m\u001b[0;34m\u001b[0m\u001b[0;34m\u001b[0m\u001b[0m\n\u001b[1;32m    222\u001b[0m                 \u001b[0;34mf\"values have {new_len} elements\"\u001b[0m\u001b[0;34m\u001b[0m\u001b[0;34m\u001b[0m\u001b[0m\n",
      "\u001b[0;31mValueError\u001b[0m: Length mismatch: Expected axis has 8 elements, new values have 12 elements"
     ]
    }
   ],
   "source": [
    "history = pd.read_csv('lacentrale.csv')\n",
    "history.columns=['url', '1', '2', 'title', '3', 'price','4','5', '6', '7', 'bike_year', 'mileage']\n",
    "history = history[['url','title','price','bike_year', 'mileage']]\n",
    "history.drop_duplicates(subset=['url'], inplace=True)\n",
    "\n",
    "history.price = history.price.str.replace('€','').str.replace('\\s','')\n",
    "\n",
    "def price_cleaning(price):\n",
    "    try:\n",
    "        return int(price)\n",
    "    except:\n",
    "        return np.nan\n",
    "\n",
    "history.price = history.price.apply(price_cleaning)\n",
    "history.dropna(subset=['price'], inplace=True)\n",
    "history= history[history.price > 400]\n",
    "\n",
    "history.mileage = history.mileage.str.replace('km','').str.replace('\\s','')\n",
    "\n",
    "def mileage_cleaning(mileage):\n",
    "    try:\n",
    "        return int(mileage)\n",
    "    except:\n",
    "        return np.nan\n",
    "\n",
    "history.mileage = history.mileage.apply(mileage_cleaning)\n",
    "history.dropna(subset=['mileage'], inplace=True)\n",
    "\n",
    "def year_cleaning(year):\n",
    "    try:\n",
    "        return int(year)\n",
    "    except:\n",
    "        return np.nan\n",
    "\n",
    "history.bike_year = history.bike_year.apply(year_cleaning)\n",
    "history.dropna(subset=['bike_year'], inplace=True)\n",
    "\n",
    "moto_database = pd.read_csv('../master_vehicule_list/bikez.csv')\n",
    "moto_database['brand_model_db'] = moto_database.brand_db + \" \" + moto_database.model_db\n",
    "\n",
    "def remove_punctuations(text):\n",
    "    '''\n",
    "    remove punctuation in a string\n",
    "    '''\n",
    "    for punctuation in string.punctuation:\n",
    "        text = text.replace(punctuation, '')\n",
    "    return text\n",
    "\n",
    "def fuzzy_match_title(new_data, moto_database):\n",
    "\n",
    "    # CLEAN TITLE\n",
    "    new_data = new_data.dropna(subset=['title'])\n",
    "    # lower and remove spaces\n",
    "    new_data.title = new_data.title.str.lower()\n",
    "    # remove punctuation\n",
    "    new_data.title = new_data.title.apply(remove_punctuations)\n",
    "    \n",
    "    # clean title \n",
    "    to_clean = []\n",
    "    for word in to_clean:\n",
    "        new_data.title = new_data.title.str.replace(word, '').str.replace('  ', ' ')\n",
    "        \n",
    "    new_data.title = new_data.title.str.replace('20\\d{2}','', regex=True)\n",
    "    new_data.title = new_data.title.str.replace('19\\d{2}','', regex=True)\n",
    "        \n",
    "    def extract_brand(title):\n",
    "        brand_list = moto_database['brand_db'].unique().tolist()\n",
    "        for brand in brand_list:\n",
    "            if brand in title:\n",
    "                return brand\n",
    "        \n",
    "    new_data['brand'] = new_data.title.apply(extract_brand)\n",
    "    new_data = new_data.dropna(subset=['brand'])\n",
    "    \n",
    "    \n",
    "    def clean_title(title, brand):\n",
    "        return title.replace(brand, '').replace('  ',' ')\n",
    "        \n",
    "    new_data.title = new_data.apply(lambda x: clean_title(x['title'], x['brand']), axis=1)\n",
    "\n",
    "    # MATCH TITLE\n",
    "    def choices(year, brand, type_name):\n",
    "        choices = moto_database[(moto_database.brand_db==brand) & (moto_database.year_db == year)][type_name].unique().tolist()\n",
    "        return [str(x) for  x in choices]\n",
    "    \n",
    "    # unpack results\n",
    "    def unpack_tuple_name(result):\n",
    "        try:\n",
    "            return result[0]\n",
    "        except:\n",
    "            return np.nan\n",
    "\n",
    "    def unpack_tuple_score(result):\n",
    "        try:\n",
    "            return result[1]\n",
    "        except:\n",
    "            return np.nan\n",
    "        \n",
    "    def match_title(choices, to_match):\n",
    "        return process.extractOne(to_match, choices)\n",
    "\n",
    "    new_data['fuzzy_match']= new_data.apply(lambda x: match_title(choices(x['bike_year'], x['brand'], 'model_submodel_db'), x['title']), axis=1)\n",
    "    \n",
    "    new_data['fuzzy_score'] = new_data['fuzzy_match'].apply(unpack_tuple_score)\n",
    "    new_data['fuzzy_brand_model'] = new_data['fuzzy_match'].apply(unpack_tuple_name)\n",
    "    new_data.drop(columns=['fuzzy_match'], inplace=True)\n",
    "    \n",
    "    return new_data\n",
    "\n",
    "startTime = time.time()\n",
    "\n",
    "history_matched = fuzzy_match_title(history, moto_database)\n",
    "\n",
    "endTime = time.time()\n",
    "print(endTime-startTime)\n",
    "\n",
    "history_matched = history_matched[history_matched.fuzzy_score>75]\n",
    "\n",
    "history_matched = history_matched.merge(moto_database, how='inner', left_on=['brand', 'bike_year', 'fuzzy_brand_model'], right_on=['brand_db', 'year_db', 'model_submodel_db'])\n",
    "\n",
    "history_matched.drop(columns=['fuzzy_score','brand_db', 'model_db',\n",
    "       'model_inv_db', 'model_submodel_db', 'model_submodel_inv_db', 'year_db',\n",
    "       'category_db', 'engine_type_db', 'power_db',\n",
    "       'torque_db', 'compression_db', 'cooling_system_db', 'dry_weight_db',\n",
    "       'power/weight_ratio_db', 'model_size_db', 'model_size_inv_db',\n",
    "       'brand_model_db'], inplace= True)\n",
    "history_matched\n",
    "\n",
    "history_matched.rename(columns={'fuzzy_brand_model':'model' ,'engine_size_db':'engine_size'}, inplace=True)\n",
    "\n",
    "history_matched.to_csv('lacentrale.csv', index=False)"
   ]
  },
  {
   "cell_type": "code",
   "execution_count": 11,
   "id": "3e760e3f",
   "metadata": {},
   "outputs": [
    {
     "data": {
      "text/plain": [
       "'https://www.lacentrale.fr/moto-occasion-annonce-66101618358.html'"
      ]
     },
     "execution_count": 11,
     "metadata": {},
     "output_type": "execute_result"
    }
   ],
   "source": [
    "history = pd.read_csv('lacentrale.csv')\n",
    "history.iloc[1000].url"
   ]
  },
  {
   "cell_type": "code",
   "execution_count": null,
   "id": "faeb8895",
   "metadata": {},
   "outputs": [],
   "source": []
  }
 ],
 "metadata": {
  "kernelspec": {
   "display_name": "Python 3",
   "language": "python",
   "name": "python3"
  },
  "language_info": {
   "codemirror_mode": {
    "name": "ipython",
    "version": 3
   },
   "file_extension": ".py",
   "mimetype": "text/x-python",
   "name": "python",
   "nbconvert_exporter": "python",
   "pygments_lexer": "ipython3",
   "version": "3.8.6"
  },
  "toc": {
   "base_numbering": 1,
   "nav_menu": {},
   "number_sections": true,
   "sideBar": true,
   "skip_h1_title": false,
   "title_cell": "Table of Contents",
   "title_sidebar": "Contents",
   "toc_cell": false,
   "toc_position": {},
   "toc_section_display": true,
   "toc_window_display": false
  },
  "varInspector": {
   "cols": {
    "lenName": 16,
    "lenType": 16,
    "lenVar": 40
   },
   "kernels_config": {
    "python": {
     "delete_cmd_postfix": "",
     "delete_cmd_prefix": "del ",
     "library": "var_list.py",
     "varRefreshCmd": "print(var_dic_list())"
    },
    "r": {
     "delete_cmd_postfix": ") ",
     "delete_cmd_prefix": "rm(",
     "library": "var_list.r",
     "varRefreshCmd": "cat(var_dic_list()) "
    }
   },
   "types_to_exclude": [
    "module",
    "function",
    "builtin_function_or_method",
    "instance",
    "_Feature"
   ],
   "window_display": false
  }
 },
 "nbformat": 4,
 "nbformat_minor": 5
}
