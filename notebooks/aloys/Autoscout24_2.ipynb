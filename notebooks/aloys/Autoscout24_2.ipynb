{
 "cells": [
  {
   "cell_type": "markdown",
   "id": "identical-niagara",
   "metadata": {},
   "source": [
    "### Reference url"
   ]
  },
  {
   "cell_type": "code",
   "execution_count": 29,
   "id": "chief-karen",
   "metadata": {},
   "outputs": [],
   "source": [
    "import requests\n",
    "from bs4 import BeautifulSoup\n",
    "import re\n",
    "import pandas as pd\n",
    "import datetime"
   ]
  },
  {
   "cell_type": "code",
   "execution_count": 639,
   "id": "applicable-absence",
   "metadata": {},
   "outputs": [],
   "source": [
    "from PIL import Image \n",
    "import os \n",
    "import PIL \n",
    "import glob\n",
    "import time"
   ]
  },
  {
   "cell_type": "code",
   "execution_count": 385,
   "id": "continent-gospel",
   "metadata": {},
   "outputs": [],
   "source": [
    "def extract_int(sample):\n",
    "    list = re.findall(r'\\d+', sample)\n",
    "    while True:\n",
    "        try:\n",
    "            res = int(\"\".join(map(str, list)))\n",
    "            break\n",
    "        except ValueError:\n",
    "            res = np.nan\n",
    "            break\n",
    "    return res"
   ]
  },
  {
   "cell_type": "code",
   "execution_count": 124,
   "id": "regional-savings",
   "metadata": {},
   "outputs": [],
   "source": [
    "url = 'https://www.autoscout24.fr/offres/ducati-xdiavel-essence-rouge-c9a6b7d5-939e-4be8-a45a-bc8adf43075c?cldtidx=7&cldtsrc=listPage&searchId=-842076858'"
   ]
  },
  {
   "cell_type": "code",
   "execution_count": 125,
   "id": "saving-muslim",
   "metadata": {},
   "outputs": [],
   "source": [
    "response = requests.get(url)\n",
    "soup_ = BeautifulSoup(response.content, \"html.parser\")"
   ]
  },
  {
   "cell_type": "code",
   "execution_count": 348,
   "id": "complicated-auditor",
   "metadata": {},
   "outputs": [],
   "source": [
    "def as24_announce_reference(soup_):\n",
    "    guid = soup_.find(\"div\", class_=\"sc-pull-right cldt-buttons cldt-hide-on-print cldt-version-one\")\n",
    "    guid = guid.find(\"a\", class_=\"btn-watchlist\").attrs['data-classified-guid']\n",
    "    return guid"
   ]
  },
  {
   "cell_type": "markdown",
   "id": "otherwise-crossing",
   "metadata": {},
   "source": [
    "### Structure du DataFrame"
   ]
  },
  {
   "cell_type": "markdown",
   "id": "searching-touch",
   "metadata": {
    "heading_collapsed": true
   },
   "source": [
    "#### Template"
   ]
  },
  {
   "cell_type": "code",
   "execution_count": 30,
   "id": "guilty-forwarding",
   "metadata": {
    "hidden": true
   },
   "outputs": [
    {
     "data": {
      "text/html": [
       "<div>\n",
       "<style scoped>\n",
       "    .dataframe tbody tr th:only-of-type {\n",
       "        vertical-align: middle;\n",
       "    }\n",
       "\n",
       "    .dataframe tbody tr th {\n",
       "        vertical-align: top;\n",
       "    }\n",
       "\n",
       "    .dataframe thead th {\n",
       "        text-align: right;\n",
       "    }\n",
       "</style>\n",
       "<table border=\"1\" class=\"dataframe\">\n",
       "  <thead>\n",
       "    <tr style=\"text-align: right;\">\n",
       "      <th></th>\n",
       "      <th>url</th>\n",
       "      <th>searchId</th>\n",
       "      <th>title</th>\n",
       "      <th>price</th>\n",
       "      <th>mileage</th>\n",
       "      <th>power_kW</th>\n",
       "      <th>power_CH</th>\n",
       "      <th>État</th>\n",
       "      <th>Propriétaires préc.</th>\n",
       "      <th>Dernier contrôle technique</th>\n",
       "      <th>...</th>\n",
       "      <th>Année</th>\n",
       "      <th>Couleur extérieure</th>\n",
       "      <th>Type de peinture</th>\n",
       "      <th>Couleur originale</th>\n",
       "      <th>Carrosserie</th>\n",
       "      <th>Transmission</th>\n",
       "      <th>Vitesses</th>\n",
       "      <th>Cylindrée</th>\n",
       "      <th>Cylindres</th>\n",
       "      <th>Poids à vide</th>\n",
       "    </tr>\n",
       "  </thead>\n",
       "  <tbody>\n",
       "    <tr>\n",
       "      <th>0</th>\n",
       "      <td></td>\n",
       "      <td>NaN</td>\n",
       "      <td></td>\n",
       "      <td>NaN</td>\n",
       "      <td>0</td>\n",
       "      <td>0</td>\n",
       "      <td>0</td>\n",
       "      <td></td>\n",
       "      <td>NaN</td>\n",
       "      <td>1970-01-01</td>\n",
       "      <td>...</td>\n",
       "      <td>1970-01-01</td>\n",
       "      <td></td>\n",
       "      <td></td>\n",
       "      <td></td>\n",
       "      <td></td>\n",
       "      <td></td>\n",
       "      <td>NaN</td>\n",
       "      <td>NaN</td>\n",
       "      <td>0</td>\n",
       "      <td>NaN</td>\n",
       "    </tr>\n",
       "  </tbody>\n",
       "</table>\n",
       "<p>1 rows × 24 columns</p>\n",
       "</div>"
      ],
      "text/plain": [
       "  url  searchId title  price  mileage  power_kW  power_CH État  \\\n",
       "0           NaN          NaN        0         0         0        \n",
       "\n",
       "   Propriétaires préc. Dernier contrôle technique  ...      Année  \\\n",
       "0                  NaN                 1970-01-01  ... 1970-01-01   \n",
       "\n",
       "   Couleur extérieure Type de peinture  Couleur originale Carrosserie  \\\n",
       "0                                                                       \n",
       "\n",
       "  Transmission Vitesses Cylindrée Cylindres Poids à vide  \n",
       "0                   NaN       NaN         0          NaN  \n",
       "\n",
       "[1 rows x 24 columns]"
      ]
     },
     "execution_count": 30,
     "metadata": {},
     "output_type": "execute_result"
    }
   ],
   "source": [
    "# template Aloys\n",
    "announce_template = pd.DataFrame({\"url\": \"\",\n",
    "                                  \"reference\": [np.nan],\n",
    "                                  \"model\": \"\",\n",
    "                                  \"price\": [np.nan],\n",
    "                                  \"mileage\": [0],\n",
    "                                  \"power_kW\": [0],\n",
    "                                  \"power_CH\": [0],\n",
    "                                  \"État\": \"\", \n",
    "                                  \"Propriétaires préc.\": [np.nan],\n",
    "                                  \"Dernier contrôle technique\": [datetime.datetime(1970, 1, 1)],\n",
    "                                  \"Garantie\": [datetime.datetime(1970, 1, 1)],\n",
    "                                  \"Carnet d'entretien\": [np.nan],\n",
    "                                  \"Marque\": \"\", \n",
    "                                  \"N° d'annonce\": [np.nan], \n",
    "                                  \"Année\": [datetime.datetime(1970, 1, 1)], \n",
    "                                  \"Couleur extérieure\": \"\", \n",
    "                                  \"Type de peinture\": \"\", \n",
    "                                  \"Couleur originale\": \"\", \n",
    "                                  \"Carrosserie\": \"\",\n",
    "                                  \"Transmission\": \"\", \n",
    "                                  \"Vitesses\": np.nan, \n",
    "                                  \"Cylindrée\": np.nan, \n",
    "                                  \"Cylindres\": [0], \n",
    "                                  \"Poids à vide\" : np.nan\n",
    "                                 })\n",
    "announce_template"
   ]
  },
  {
   "cell_type": "markdown",
   "id": "spare-laser",
   "metadata": {
    "heading_collapsed": true
   },
   "source": [
    "### Extraction"
   ]
  },
  {
   "cell_type": "markdown",
   "id": "floating-powell",
   "metadata": {
    "hidden": true
   },
   "source": [
    "#### Caractéristiques premières "
   ]
  },
  {
   "cell_type": "markdown",
   "id": "innovative-poetry",
   "metadata": {
    "heading_collapsed": true,
    "hidden": true
   },
   "source": [
    "##### get images"
   ]
  },
  {
   "cell_type": "code",
   "execution_count": 172,
   "id": "external-glance",
   "metadata": {
    "hidden": true
   },
   "outputs": [],
   "source": [
    "def save_images(images_list, uniq_id):\n",
    "    k = 0\n",
    "    \n",
    "    for image_url in image_list[0:3]:\n",
    "        img_data = requests.get(image_url).content\n",
    "        with open(f'images/as24-{uniq_id}-{k}.jpg', 'wb') as handler:\n",
    "            handler.write(img_data)\n",
    "            image = Image.open(f'images/as24-{uniq_id}-{k}.jpg') \n",
    "            ratio = image.size[0] / image.size[1]\n",
    "            image = image.resize((300,int(300/ratio)))\n",
    "            image.save(f'images/as24-{uniq_id}-{k}.jpg',optimize = True, quality = 50)\n",
    "        k+=1"
   ]
  },
  {
   "cell_type": "code",
   "execution_count": 173,
   "id": "charitable-commissioner",
   "metadata": {
    "hidden": true
   },
   "outputs": [],
   "source": [
    "def get_images(soup_, uniq_id):\n",
    "    container = soup_.find_all('div',class_=\"gallery-picture\")\n",
    "\n",
    "    images_list = []\n",
    "\n",
    "    for image in container:\n",
    "        images_list.append(image.find(\"img\").attrs['data-fullscreen-src'])\n",
    "    \n",
    "    save_images(images_list, uniq_id)\n",
    "    return"
   ]
  },
  {
   "cell_type": "code",
   "execution_count": 174,
   "id": "demonstrated-ottawa",
   "metadata": {
    "hidden": true
   },
   "outputs": [],
   "source": [
    "uniq_id = \"as24_\" + get_announce_reference(soup_)\n",
    "\n",
    "get_images(soup_, uniq_id)"
   ]
  },
  {
   "cell_type": "code",
   "execution_count": 84,
   "id": "amazing-capability",
   "metadata": {
    "hidden": true
   },
   "outputs": [
    {
     "data": {
      "text/plain": [
       "['https://prod.pictures.autoscout24.net/listing-images/d617ea01-66e8-49ff-9817-b7ea54d90d63_75407af6-c73c-40f1-9965-f7dacad8f559.jpg/1280x960.jpg',\n",
       " 'https://prod.pictures.autoscout24.net/listing-images/d617ea01-66e8-49ff-9817-b7ea54d90d63_e536507a-07b5-4ef0-947c-67f18fb1f01c.jpg/1280x960.jpg',\n",
       " 'https://prod.pictures.autoscout24.net/listing-images/d617ea01-66e8-49ff-9817-b7ea54d90d63_2b0cbd52-c8b0-4cd8-8f0b-541d8850ccde.jpg/1280x960.jpg',\n",
       " 'https://prod.pictures.autoscout24.net/listing-images/d617ea01-66e8-49ff-9817-b7ea54d90d63_46a7a692-1ea9-463a-9b5d-f363fa7235de.jpg/1280x960.jpg',\n",
       " 'https://prod.pictures.autoscout24.net/listing-images/d617ea01-66e8-49ff-9817-b7ea54d90d63_831e743c-6f96-4689-bc71-50978ac46982.jpg/1280x960.jpg',\n",
       " 'https://prod.pictures.autoscout24.net/listing-images/d617ea01-66e8-49ff-9817-b7ea54d90d63_c90b25cc-4165-4733-ae3e-cd9e8662fa0b.jpg/1280x960.jpg',\n",
       " 'https://prod.pictures.autoscout24.net/listing-images/d617ea01-66e8-49ff-9817-b7ea54d90d63_2daa17c6-0cde-4850-a2f9-8512c36e36b1.jpg/1280x960.jpg',\n",
       " 'https://prod.pictures.autoscout24.net/listing-images/d617ea01-66e8-49ff-9817-b7ea54d90d63_861ccf79-3f3c-4b3f-ba81-49023a8876e0.jpg/1280x960.jpg',\n",
       " 'https://prod.pictures.autoscout24.net/listing-images/d617ea01-66e8-49ff-9817-b7ea54d90d63_69d11ae8-9f3c-4a55-bc03-c85d956ffe8f.jpg/1280x960.jpg']"
      ]
     },
     "execution_count": 84,
     "metadata": {},
     "output_type": "execute_result"
    }
   ],
   "source": [
    "container = soup_.find_all('div',class_=\"gallery-picture\")\n",
    "\n",
    "images_list = []\n",
    "\n",
    "for image in container:\n",
    "    images_list.append(image.find(\"img\").attrs['data-fullscreen-src'])\n",
    "\n",
    "images_list"
   ]
  },
  {
   "cell_type": "markdown",
   "id": "forward-master",
   "metadata": {
    "hidden": true
   },
   "source": [
    "##### Titre"
   ]
  },
  {
   "cell_type": "code",
   "execution_count": 744,
   "id": "olive-oliver",
   "metadata": {
    "hidden": true
   },
   "outputs": [],
   "source": [
    "url = 'https://www.autoscout24.fr/offres/others-others-climax-m1-bobber-essence-noir-082034e4-655e-4e03-863e-734200a01876'\n",
    "response = requests.get(url)\n",
    "soup_ = BeautifulSoup(response.content, \"html.parser\")"
   ]
  },
  {
   "cell_type": "code",
   "execution_count": 745,
   "id": "declared-student",
   "metadata": {
    "hidden": true
   },
   "outputs": [],
   "source": [
    "title = soup_.find(\"div\", class_=\"cldt-headline\").find(\"span\", class_=\"cldt-detail-makemodel sc-ellipsis\").text\n",
    "title_version = soup_.find(\"div\", class_=\"cldt-headline\").find(\"span\", class_=\"cldt-detail-version sc-ellipsis\").text"
   ]
  },
  {
   "cell_type": "code",
   "execution_count": 746,
   "id": "different-journalism",
   "metadata": {
    "hidden": true
   },
   "outputs": [
    {
     "data": {
      "text/plain": [
       "('Autres', 'Climax M1 Bobber')"
      ]
     },
     "execution_count": 746,
     "metadata": {},
     "output_type": "execute_result"
    }
   ],
   "source": [
    "title, title_version"
   ]
  },
  {
   "cell_type": "markdown",
   "id": "ruled-shopping",
   "metadata": {
    "heading_collapsed": true,
    "hidden": true
   },
   "source": [
    "##### Prix"
   ]
  },
  {
   "cell_type": "code",
   "execution_count": 6,
   "id": "lucky-violin",
   "metadata": {
    "hidden": true
   },
   "outputs": [],
   "source": [
    "price = extract_int(soup_.find(\"div\", class_=\"cldt-price\").find('h2').text)"
   ]
  },
  {
   "cell_type": "code",
   "execution_count": 7,
   "id": "internal-terror",
   "metadata": {
    "hidden": true
   },
   "outputs": [
    {
     "data": {
      "text/plain": [
       "6000"
      ]
     },
     "execution_count": 7,
     "metadata": {},
     "output_type": "execute_result"
    }
   ],
   "source": [
    "price"
   ]
  },
  {
   "cell_type": "markdown",
   "id": "universal-highlight",
   "metadata": {
    "heading_collapsed": true,
    "hidden": true
   },
   "source": [
    "##### 3 features de présentation"
   ]
  },
  {
   "cell_type": "code",
   "execution_count": 18,
   "id": "bright-convenience",
   "metadata": {
    "hidden": true
   },
   "outputs": [],
   "source": [
    "basic_data = soup.find(\"div\", class_='cldt-stage-basic-data')"
   ]
  },
  {
   "cell_type": "code",
   "execution_count": 20,
   "id": "fresh-wilderness",
   "metadata": {
    "hidden": true
   },
   "outputs": [],
   "source": [
    "km = extract_int(basic_data.find_all(\"span\", class_=\"sc-font-l cldt-stage-primary-keyfact\")[0].string)\n",
    "power_kW = extract_int(basic_data.find_all(\"span\", class_=\"sc-font-l cldt-stage-primary-keyfact\")[2].string)\n",
    "power_CH = extract_int(basic_data.find_all(\"span\", class_=\"sc-font-m cldt-stage-primary-keyfact\")[0].string)"
   ]
  },
  {
   "cell_type": "code",
   "execution_count": 21,
   "id": "terminal-clark",
   "metadata": {
    "hidden": true
   },
   "outputs": [
    {
     "data": {
      "text/plain": [
       "(10600, 22, 30)"
      ]
     },
     "execution_count": 21,
     "metadata": {},
     "output_type": "execute_result"
    }
   ],
   "source": [
    "km, power_kW, power_CH"
   ]
  },
  {
   "cell_type": "markdown",
   "id": "interstate-henry",
   "metadata": {
    "hidden": true
   },
   "source": [
    "#### ===> Détails brut <==="
   ]
  },
  {
   "cell_type": "markdown",
   "id": "bored-heavy",
   "metadata": {
    "heading_collapsed": true,
    "hidden": true
   },
   "source": [
    "##### Etat "
   ]
  },
  {
   "cell_type": "code",
   "execution_count": 252,
   "id": "separated-september",
   "metadata": {
    "hidden": true
   },
   "outputs": [
    {
     "data": {
      "text/html": [
       "<div>\n",
       "<style scoped>\n",
       "    .dataframe tbody tr th:only-of-type {\n",
       "        vertical-align: middle;\n",
       "    }\n",
       "\n",
       "    .dataframe tbody tr th {\n",
       "        vertical-align: top;\n",
       "    }\n",
       "\n",
       "    .dataframe thead th {\n",
       "        text-align: right;\n",
       "    }\n",
       "</style>\n",
       "<table border=\"1\" class=\"dataframe\">\n",
       "  <thead>\n",
       "    <tr style=\"text-align: right;\">\n",
       "      <th></th>\n",
       "      <th>État</th>\n",
       "      <th>Propriétaires préc.</th>\n",
       "      <th>Dernier contrôle technique</th>\n",
       "      <th>Garantie</th>\n",
       "      <th>Carnet d'entretien</th>\n",
       "    </tr>\n",
       "  </thead>\n",
       "  <tbody>\n",
       "    <tr>\n",
       "      <th>0</th>\n",
       "      <td></td>\n",
       "      <td>NaN</td>\n",
       "      <td>1970-01-01</td>\n",
       "      <td>1970-01-01</td>\n",
       "      <td>NaN</td>\n",
       "    </tr>\n",
       "  </tbody>\n",
       "</table>\n",
       "</div>"
      ],
      "text/plain": [
       "  État  Propriétaires préc. Dernier contrôle technique   Garantie  \\\n",
       "0                       NaN                 1970-01-01 1970-01-01   \n",
       "\n",
       "   Carnet d'entretien  \n",
       "0                 NaN  "
      ]
     },
     "execution_count": 252,
     "metadata": {},
     "output_type": "execute_result"
    }
   ],
   "source": [
    "etat_template = pd.DataFrame({\"État\": \"\", \n",
    "                                  \"Propriétaires préc.\": [np.nan],\n",
    "                                  \"Dernier contrôle technique\": [datetime.datetime(1970, 1, 1)],\n",
    "                                  \"Garantie\": [datetime.datetime(1970, 1, 1)],\n",
    "                                  \"Carnet d'entretien\": [np.nan]})\n",
    "\n",
    "etat_template"
   ]
  },
  {
   "cell_type": "code",
   "execution_count": 179,
   "id": "recovered-schema",
   "metadata": {
    "hidden": true
   },
   "outputs": [],
   "source": [
    "#liste exhaustive des items de Etat\n",
    "etat_features = [\"État\", \"Propriétaires préc.\", \"Dernier contrôle technique\", \"Garantie\", \"Carnet d'entretien\"]\n",
    "\n",
    "etat_row = {\"État\": \"\", \n",
    "              \"Propriétaires préc.\": np.nan,\n",
    "              \"Dernier contrôle technique\": datetime.datetime(1970, 1, 1),\n",
    "              \"Garantie\": datetime.datetime(1970, 1, 1),\n",
    "              \"Carnet d'entretien\": np.nan}"
   ]
  },
  {
   "cell_type": "code",
   "execution_count": 335,
   "id": "secondary-offset",
   "metadata": {
    "hidden": true
   },
   "outputs": [],
   "source": [
    "#scrapping de la branche contenant les key/values de Etat\n",
    "etat = soup.find(\"div\", class_=\"cldt-categorized-data cldt-data-section sc-pull-left\")"
   ]
  },
  {
   "cell_type": "code",
   "execution_count": 292,
   "id": "focal-judge",
   "metadata": {
    "hidden": true
   },
   "outputs": [
    {
     "data": {
      "text/plain": [
       "{'État': 'Occasion',\n",
       " 'Propriétaires préc.': '1',\n",
       " 'Dernier contrôle technique': '07/2020',\n",
       " \"Carnet d'entretien\": ''}"
      ]
     },
     "execution_count": 292,
     "metadata": {},
     "output_type": "execute_result"
    }
   ],
   "source": [
    "#création liste des key et des valeurs => création dictionnaire de key, values\n",
    "etat_key = [i.text for i in etat.find_all(\"dt\")]\n",
    "etat_value = [i.text.replace('\\n', '') for i in etat.find_all(\"dd\")]\n",
    "etat_dict = {k: v for k,v in zip(etat_key, etat_value)}\n",
    "etat_dict"
   ]
  },
  {
   "cell_type": "code",
   "execution_count": 302,
   "id": "speaking-christmas",
   "metadata": {
    "hidden": true
   },
   "outputs": [
    {
     "data": {
      "text/plain": [
       "{'État': 'Occasion',\n",
       " 'Propriétaires préc.': '1',\n",
       " 'Dernier contrôle technique': '07/2020',\n",
       " 'Garantie': datetime.datetime(1970, 1, 1, 0, 0),\n",
       " \"Carnet d'entretien\": ''}"
      ]
     },
     "execution_count": 302,
     "metadata": {},
     "output_type": "execute_result"
    }
   ],
   "source": [
    "#crée un dictionnaire correspondant à la ligne qu'il faudra ajouter au dataframe\n",
    "for k_site in [i.text for i in etat.find_all(\"dt\")]:\n",
    "    for k_list in etat_features:\n",
    "        if k_site == k_list:\n",
    "            etat_row[k_list]=etat_dict[k_site]\n",
    "\n",
    "#ajout du dictionnaire en tant que nouvelle ligne au df\n",
    "etat_row"
   ]
  },
  {
   "cell_type": "code",
   "execution_count": 257,
   "id": "frozen-glucose",
   "metadata": {
    "hidden": true
   },
   "outputs": [],
   "source": [
    "#ajout du dictionnaire en tant que nouvelle ligne au df\n",
    "etat_template = etat_template.append(etat_row, ignore_index=True)"
   ]
  },
  {
   "cell_type": "code",
   "execution_count": 258,
   "id": "affecting-clearing",
   "metadata": {
    "hidden": true
   },
   "outputs": [
    {
     "data": {
      "text/html": [
       "<div>\n",
       "<style scoped>\n",
       "    .dataframe tbody tr th:only-of-type {\n",
       "        vertical-align: middle;\n",
       "    }\n",
       "\n",
       "    .dataframe tbody tr th {\n",
       "        vertical-align: top;\n",
       "    }\n",
       "\n",
       "    .dataframe thead th {\n",
       "        text-align: right;\n",
       "    }\n",
       "</style>\n",
       "<table border=\"1\" class=\"dataframe\">\n",
       "  <thead>\n",
       "    <tr style=\"text-align: right;\">\n",
       "      <th></th>\n",
       "      <th>État</th>\n",
       "      <th>Propriétaires préc.</th>\n",
       "      <th>Dernier contrôle technique</th>\n",
       "      <th>Garantie</th>\n",
       "      <th>Carnet d'entretien</th>\n",
       "    </tr>\n",
       "  </thead>\n",
       "  <tbody>\n",
       "    <tr>\n",
       "      <th>0</th>\n",
       "      <td></td>\n",
       "      <td>NaN</td>\n",
       "      <td>1970-01-01 00:00:00</td>\n",
       "      <td>1970-01-01</td>\n",
       "      <td>NaN</td>\n",
       "    </tr>\n",
       "    <tr>\n",
       "      <th>1</th>\n",
       "      <td>Occasion</td>\n",
       "      <td>1</td>\n",
       "      <td>07/2020</td>\n",
       "      <td>NaT</td>\n",
       "      <td></td>\n",
       "    </tr>\n",
       "    <tr>\n",
       "      <th>2</th>\n",
       "      <td>NaN</td>\n",
       "      <td>NaN</td>\n",
       "      <td>NaN</td>\n",
       "      <td>NaT</td>\n",
       "      <td></td>\n",
       "    </tr>\n",
       "    <tr>\n",
       "      <th>3</th>\n",
       "      <td>NaN</td>\n",
       "      <td>NaN</td>\n",
       "      <td>NaN</td>\n",
       "      <td>NaT</td>\n",
       "      <td>django</td>\n",
       "    </tr>\n",
       "  </tbody>\n",
       "</table>\n",
       "</div>"
      ],
      "text/plain": [
       "       État Propriétaires préc. Dernier contrôle technique   Garantie  \\\n",
       "0                           NaN        1970-01-01 00:00:00 1970-01-01   \n",
       "1  Occasion                   1                    07/2020        NaT   \n",
       "2       NaN                 NaN                        NaN        NaT   \n",
       "3       NaN                 NaN                        NaN        NaT   \n",
       "\n",
       "  Carnet d'entretien  \n",
       "0                NaN  \n",
       "1                     \n",
       "2                     \n",
       "3             django  "
      ]
     },
     "execution_count": 258,
     "metadata": {},
     "output_type": "execute_result"
    }
   ],
   "source": [
    "etat_template"
   ]
  },
  {
   "cell_type": "markdown",
   "id": "prostate-there",
   "metadata": {
    "heading_collapsed": true,
    "hidden": true
   },
   "source": [
    "##### Caractéristiques"
   ]
  },
  {
   "cell_type": "code",
   "execution_count": 290,
   "id": "widespread-assistant",
   "metadata": {
    "hidden": true
   },
   "outputs": [],
   "source": [
    "#liste exhaustive des items de caractéristiques\n",
    "car_features = [\"Marque\", \"N° d'annonce\", \"Année\", \"Couleur extérieure\", \"Type de peinture\", \"Couleur originale\", \"Carrosserie\"]\n",
    "car_row = {\"Marque\": \"\", \"N° d'annonce\": np.NaN, \n",
    "              \"Année\": [datetime.datetime(1970, 1, 1)], \n",
    "              \"Couleur extérieure\": \"\", \n",
    "              \"Type de peinture\": \"\", \n",
    "              \"Couleur originale\": \"\", \n",
    "              \"Carrosserie\": \"\"}"
   ]
  },
  {
   "cell_type": "code",
   "execution_count": 283,
   "id": "interesting-think",
   "metadata": {
    "hidden": true
   },
   "outputs": [],
   "source": [
    "#scrapping de la branche contenant les key/values de caractéristiques\n",
    "car = soup.find(\"div\", class_=\"cldt-categorized-data cldt-data-section sc-pull-right\")"
   ]
  },
  {
   "cell_type": "code",
   "execution_count": 287,
   "id": "enabling-cowboy",
   "metadata": {
    "hidden": true
   },
   "outputs": [],
   "source": [
    "#création liste des key et des valeurs => création dictionnaire de key, values\n",
    "car_key = [i.text for i in car.find_all(\"dt\")]\n",
    "car_value = [i.text.replace('\\n', '') for i in car.find_all(\"dd\")]\n",
    "car_dict = {k: v for k,v in zip(car_key, car_value)}"
   ]
  },
  {
   "cell_type": "code",
   "execution_count": 288,
   "id": "impossible-mistake",
   "metadata": {
    "hidden": true
   },
   "outputs": [
    {
     "data": {
      "text/plain": [
       "{'Marque': 'Yamaha',\n",
       " 'Année': '2018',\n",
       " 'Couleur extérieure': 'Noir',\n",
       " 'Carrosserie': 'Scooter'}"
      ]
     },
     "execution_count": 288,
     "metadata": {},
     "output_type": "execute_result"
    }
   ],
   "source": [
    "car_dict"
   ]
  },
  {
   "cell_type": "code",
   "execution_count": 299,
   "id": "equivalent-intent",
   "metadata": {
    "hidden": true
   },
   "outputs": [
    {
     "data": {
      "text/plain": [
       "{'Marque': 'Yamaha',\n",
       " \"N° d'annonce\": nan,\n",
       " 'Année': '2018',\n",
       " 'Couleur extérieure': 'Noir',\n",
       " 'Type de peinture': '',\n",
       " 'Couleur originale': '',\n",
       " 'Carrosserie': 'Scooter'}"
      ]
     },
     "execution_count": 299,
     "metadata": {},
     "output_type": "execute_result"
    }
   ],
   "source": [
    "#crée un dictionnaire correspondant à la ligne qu'il faudra ajouter au dataframe\n",
    "for k_site in [i.text for i in car.find_all(\"dt\")]:\n",
    "    for k_list in car_features:\n",
    "        if k_site == k_list:\n",
    "            car_row[k_list]=car_dict[k_site]\n",
    "\n",
    "car_row"
   ]
  },
  {
   "cell_type": "markdown",
   "id": "alike-design",
   "metadata": {
    "heading_collapsed": true,
    "hidden": true
   },
   "source": [
    "##### Transmission"
   ]
  },
  {
   "cell_type": "code",
   "execution_count": 330,
   "id": "forced-eligibility",
   "metadata": {
    "hidden": true
   },
   "outputs": [],
   "source": [
    "transm_features = [\"Transmission\", \"Vitesses\", \"Cylindrée\", \"Cylindres\", \"Poids à vide\"]\n",
    "transm_row = {\"Transmission\": \"\", \n",
    "                  \"Vitesses\": np.nan, \n",
    "                  \"Cylindrée\": np.nan, \n",
    "                  \"Cylindres\": 0, \n",
    "                  \"Poids à vide\" : np.nan}"
   ]
  },
  {
   "cell_type": "code",
   "execution_count": 324,
   "id": "judicial-understanding",
   "metadata": {
    "hidden": true
   },
   "outputs": [],
   "source": [
    "#scrapping de la branche contenant les key/values de caractéristiques\n",
    "transm = soup.find_all(\"div\", class_=\"cldt-categorized-data cldt-data-section sc-pull-left\")[1]"
   ]
  },
  {
   "cell_type": "code",
   "execution_count": 326,
   "id": "creative-courage",
   "metadata": {
    "hidden": true
   },
   "outputs": [],
   "source": [
    "#création liste des key et des valeurs => création dictionnaire de key, values\n",
    "transm_key = [i.text for i in transm.find_all(\"dt\")]\n",
    "transm_value = [i.text.replace('\\n', '') for i in transm.find_all(\"dd\")]\n",
    "transm_dict = {k: v for k,v in zip(transm_key, transm_value)}"
   ]
  },
  {
   "cell_type": "code",
   "execution_count": 327,
   "id": "suburban-newton",
   "metadata": {
    "hidden": true
   },
   "outputs": [
    {
     "data": {
      "text/plain": [
       "{'Transmission': 'Yamaha', 'Cylindrée': '2018', 'Poids à vide': 'Noir'}"
      ]
     },
     "execution_count": 327,
     "metadata": {},
     "output_type": "execute_result"
    }
   ],
   "source": [
    "transm_dict"
   ]
  },
  {
   "cell_type": "code",
   "execution_count": 331,
   "id": "latin-intent",
   "metadata": {
    "hidden": true
   },
   "outputs": [
    {
     "data": {
      "text/plain": [
       "{'Transmission': 'Yamaha',\n",
       " 'Vitesses': nan,\n",
       " 'Cylindrée': '2018',\n",
       " 'Cylindres': 0,\n",
       " 'Poids à vide': 'Noir'}"
      ]
     },
     "execution_count": 331,
     "metadata": {},
     "output_type": "execute_result"
    }
   ],
   "source": [
    "#crée un dictionnaire correspondant à la ligne qu'il faudra ajouter au dataframe\n",
    "for k_site in [i.text for i in transm.find_all(\"dt\")]:\n",
    "    for k_list in transm_features:\n",
    "        if k_site == k_list:\n",
    "            transm_row[k_list]=transm_dict[k_site]\n",
    "\n",
    "#ajout du dictionnaire en tant que nouvelle ligne au df\n",
    "transm_row"
   ]
  },
  {
   "cell_type": "markdown",
   "id": "swedish-member",
   "metadata": {
    "heading_collapsed": true,
    "hidden": true
   },
   "source": [
    "##### . . . Create dict with features . . ."
   ]
  },
  {
   "cell_type": "code",
   "execution_count": null,
   "id": "respiratory-philippines",
   "metadata": {
    "hidden": true
   },
   "outputs": [],
   "source": [
    "new_features\n",
    "new_row\n",
    "new_soup (soup)\n",
    "row_name"
   ]
  },
  {
   "cell_type": "code",
   "execution_count": 334,
   "id": "minor-checklist",
   "metadata": {
    "hidden": true
   },
   "outputs": [],
   "source": [
    "def create_dict(new_features, new_row, soup, row_name):\n",
    "    \n",
    "    #création liste des key et des valeurs => création dictionnaire de key, values\n",
    "    feature_key = [i.text for i in soup.find_all(\"dt\")]\n",
    "    feature_value = [i.text.replace('\\n', '') for i in soup.find_all(\"dd\")]\n",
    "    feature_dict = {k: v for k,v in zip(feature_key, feature_value)}\n",
    "    \n",
    "    #crée un dictionnaire correspondant à la ligne qu'il faudra ajouter au dataframe\n",
    "    for k_site in [i.text for i in feature_key]:\n",
    "        for k_list in new_features:\n",
    "            if k_site == k_list:\n",
    "                new_row[k_list]=feature_dict[k_site]\n",
    "    \n",
    "    row_name = new_row\n",
    "    \n",
    "    return row_name"
   ]
  },
  {
   "cell_type": "code",
   "execution_count": 333,
   "id": "round-corrections",
   "metadata": {
    "hidden": true
   },
   "outputs": [
    {
     "ename": "AttributeError",
     "evalue": "'str' object has no attribute 'text'",
     "output_type": "error",
     "traceback": [
      "\u001b[0;31m---------------------------------------------------------------------------\u001b[0m",
      "\u001b[0;31mAttributeError\u001b[0m                            Traceback (most recent call last)",
      "\u001b[0;32m<ipython-input-333-654f721d7915>\u001b[0m in \u001b[0;36m<module>\u001b[0;34m\u001b[0m\n\u001b[1;32m      4\u001b[0m \u001b[0mrow_name\u001b[0m \u001b[0;34m=\u001b[0m \u001b[0mtransm_row\u001b[0m\u001b[0;34m\u001b[0m\u001b[0;34m\u001b[0m\u001b[0m\n\u001b[1;32m      5\u001b[0m \u001b[0;34m\u001b[0m\u001b[0m\n\u001b[0;32m----> 6\u001b[0;31m \u001b[0mcreate_dict\u001b[0m\u001b[0;34m(\u001b[0m\u001b[0mnew_features\u001b[0m\u001b[0;34m,\u001b[0m \u001b[0mnew_row\u001b[0m\u001b[0;34m,\u001b[0m \u001b[0msoup\u001b[0m\u001b[0;34m,\u001b[0m \u001b[0mrow_name\u001b[0m\u001b[0;34m)\u001b[0m\u001b[0;34m\u001b[0m\u001b[0;34m\u001b[0m\u001b[0m\n\u001b[0m",
      "\u001b[0;32m<ipython-input-332-8f89329bf56c>\u001b[0m in \u001b[0;36mcreate_dict\u001b[0;34m(new_features, new_row, soup, row_name)\u001b[0m\n\u001b[1;32m      7\u001b[0m \u001b[0;34m\u001b[0m\u001b[0m\n\u001b[1;32m      8\u001b[0m     \u001b[0;31m#crée un dictionnaire correspondant à la ligne qu'il faudra ajouter au dataframe\u001b[0m\u001b[0;34m\u001b[0m\u001b[0;34m\u001b[0m\u001b[0;34m\u001b[0m\u001b[0m\n\u001b[0;32m----> 9\u001b[0;31m     \u001b[0;32mfor\u001b[0m \u001b[0mk_site\u001b[0m \u001b[0;32min\u001b[0m \u001b[0;34m[\u001b[0m\u001b[0mi\u001b[0m\u001b[0;34m.\u001b[0m\u001b[0mtext\u001b[0m \u001b[0;32mfor\u001b[0m \u001b[0mi\u001b[0m \u001b[0;32min\u001b[0m \u001b[0mfeature_key\u001b[0m\u001b[0;34m]\u001b[0m\u001b[0;34m:\u001b[0m\u001b[0;34m\u001b[0m\u001b[0;34m\u001b[0m\u001b[0m\n\u001b[0m\u001b[1;32m     10\u001b[0m         \u001b[0;32mfor\u001b[0m \u001b[0mk_list\u001b[0m \u001b[0;32min\u001b[0m \u001b[0mnew_features\u001b[0m\u001b[0;34m:\u001b[0m\u001b[0;34m\u001b[0m\u001b[0;34m\u001b[0m\u001b[0m\n\u001b[1;32m     11\u001b[0m             \u001b[0;32mif\u001b[0m \u001b[0mk_site\u001b[0m \u001b[0;34m==\u001b[0m \u001b[0mk_list\u001b[0m\u001b[0;34m:\u001b[0m\u001b[0;34m\u001b[0m\u001b[0;34m\u001b[0m\u001b[0m\n",
      "\u001b[0;32m<ipython-input-332-8f89329bf56c>\u001b[0m in \u001b[0;36m<listcomp>\u001b[0;34m(.0)\u001b[0m\n\u001b[1;32m      7\u001b[0m \u001b[0;34m\u001b[0m\u001b[0m\n\u001b[1;32m      8\u001b[0m     \u001b[0;31m#crée un dictionnaire correspondant à la ligne qu'il faudra ajouter au dataframe\u001b[0m\u001b[0;34m\u001b[0m\u001b[0;34m\u001b[0m\u001b[0;34m\u001b[0m\u001b[0m\n\u001b[0;32m----> 9\u001b[0;31m     \u001b[0;32mfor\u001b[0m \u001b[0mk_site\u001b[0m \u001b[0;32min\u001b[0m \u001b[0;34m[\u001b[0m\u001b[0mi\u001b[0m\u001b[0;34m.\u001b[0m\u001b[0mtext\u001b[0m \u001b[0;32mfor\u001b[0m \u001b[0mi\u001b[0m \u001b[0;32min\u001b[0m \u001b[0mfeature_key\u001b[0m\u001b[0;34m]\u001b[0m\u001b[0;34m:\u001b[0m\u001b[0;34m\u001b[0m\u001b[0;34m\u001b[0m\u001b[0m\n\u001b[0m\u001b[1;32m     10\u001b[0m         \u001b[0;32mfor\u001b[0m \u001b[0mk_list\u001b[0m \u001b[0;32min\u001b[0m \u001b[0mnew_features\u001b[0m\u001b[0;34m:\u001b[0m\u001b[0;34m\u001b[0m\u001b[0;34m\u001b[0m\u001b[0m\n\u001b[1;32m     11\u001b[0m             \u001b[0;32mif\u001b[0m \u001b[0mk_site\u001b[0m \u001b[0;34m==\u001b[0m \u001b[0mk_list\u001b[0m\u001b[0;34m:\u001b[0m\u001b[0;34m\u001b[0m\u001b[0;34m\u001b[0m\u001b[0m\n",
      "\u001b[0;31mAttributeError\u001b[0m: 'str' object has no attribute 'text'"
     ]
    }
   ],
   "source": [
    "new_features = transm_features\n",
    "new_row = transm_row\n",
    "soup = transm\n",
    "row_name = transm_row\n",
    "\n",
    "create_dict(new_features, new_row, soup, row_name)"
   ]
  },
  {
   "cell_type": "markdown",
   "id": "awful-oregon",
   "metadata": {},
   "source": [
    "### Fonction de scrapping d'une annonce"
   ]
  },
  {
   "cell_type": "markdown",
   "id": "electronic-valentine",
   "metadata": {},
   "source": [
    "#### Scrap description"
   ]
  },
  {
   "cell_type": "code",
   "execution_count": 983,
   "id": "divine-uncle",
   "metadata": {},
   "outputs": [],
   "source": [
    "url = 'https://www.autoscout24.fr/offres/yamaha-x-max-125-x-max-essence-noir-732462bf-74dc-44a6-81eb-42134d613141?cldtidx=8&cldtsrc=listPage&searchId=1361383082'\n",
    "resp_single = requests.get(url)\n",
    "soup_ = BeautifulSoup(resp_single.content, 'html.parser')"
   ]
  },
  {
   "cell_type": "code",
   "execution_count": 984,
   "id": "artificial-provincial",
   "metadata": {},
   "outputs": [
    {
     "data": {
      "text/plain": [
       "'\\n\\n()\\n\\n\\nAfficher plus\\nAfficher moins\\n'"
      ]
     },
     "execution_count": 984,
     "metadata": {},
     "output_type": "execute_result"
    }
   ],
   "source": [
    "soup_.find_all(\"div\", class_=\"sc-grid-col-6 sc-grid-col-s-12\")[1].text"
   ]
  },
  {
   "cell_type": "code",
   "execution_count": 976,
   "id": "complete-provider",
   "metadata": {},
   "outputs": [
    {
     "name": "stdout",
     "output_type": "stream",
     "text": [
      "\n",
      "\n",
      "Moto totalement modifiée sauf moteur et cadre. COMME NEUVE. Toujours dormi au garage.Poignées, bras oscillant, guidon et commandes avancées REBUFFINI.Jantes RICKS (devant 130 - derrière 250) / fourche SJPStage 1 fait par Harley Annecy - filtre à air Screaming Eagle - Réservoir et pare-boue faits main par un carrossier - trappes aviation - scelle avec gel faite sur mesure -phare etc...TOUTES LES PIECES AVEC CERTIFICATION TUV!!!Service fait du jour c/o Harley GenèveVendue pour cause déménagement. Contact: cif.jfc@bluewin.ch\n",
      "\n",
      "\n",
      "Afficher plus\n",
      "Afficher moins\n",
      "\n",
      "----------------\n"
     ]
    }
   ],
   "source": [
    "for edge in [soup_.find_all(\"div\", class_=\"sc-grid-col-6 sc-grid-col-s-12\")[1]]:\n",
    "        print(edge.text)\n",
    "        print('----------------')"
   ]
  },
  {
   "cell_type": "markdown",
   "id": "checked-notion",
   "metadata": {},
   "source": [
    "#### fonction Etat : scrap_etat(soup)"
   ]
  },
  {
   "cell_type": "code",
   "execution_count": 336,
   "id": "wicked-integrity",
   "metadata": {},
   "outputs": [],
   "source": [
    "def scrap_etat(soup):\n",
    "    etat_features = [\"État\", \"Propriétaires préc.\", \"Dernier contrôle technique\", \"Garantie\", \"Carnet d'entretien\"]\n",
    "    etat_row = {\"État\": \"\", \n",
    "              \"Propriétaires préc.\": np.nan,\n",
    "              \"Dernier contrôle technique\": datetime.datetime(1970, 1, 1),\n",
    "              \"Garantie\": datetime.datetime(1970, 1, 1),\n",
    "              \"Carnet d'entretien\": np.nan}\n",
    "    \n",
    "    #scrapping de la branche contenant les key/values de Etat\n",
    "    etat = soup.find(\"div\", class_=\"cldt-categorized-data cldt-data-section sc-pull-left\")\n",
    "    \n",
    "    #création liste des key et des valeurs => création dictionnaire de key, values\n",
    "    etat_key = [i.text for i in etat.find_all(\"dt\")]\n",
    "    etat_value = [i.text.replace('\\n', '') for i in etat.find_all(\"dd\")]\n",
    "    etat_dict = {k: v for k,v in zip(etat_key, etat_value)}\n",
    "    \n",
    "    #crée un dictionnaire correspondant à la ligne qu'il faudra ajouter au dataframe\n",
    "    for k_site in [i.text for i in etat.find_all(\"dt\")]:\n",
    "        for k_list in etat_features:\n",
    "            if k_site == k_list:\n",
    "                etat_row[k_list]=etat_dict[k_site]\n",
    "    \n",
    "    return etat_row"
   ]
  },
  {
   "cell_type": "code",
   "execution_count": 337,
   "id": "imperial-relief",
   "metadata": {},
   "outputs": [
    {
     "data": {
      "text/plain": [
       "{'État': 'Occasion',\n",
       " 'Propriétaires préc.': nan,\n",
       " 'Dernier contrôle technique': '04/2020',\n",
       " 'Garantie': '3 mois',\n",
       " \"Carnet d'entretien\": ''}"
      ]
     },
     "execution_count": 337,
     "metadata": {},
     "output_type": "execute_result"
    }
   ],
   "source": [
    "scrap_etat(soup_)"
   ]
  },
  {
   "cell_type": "markdown",
   "id": "neutral-management",
   "metadata": {
    "heading_collapsed": true
   },
   "source": [
    "#### fonction caractéristiques : scrap_car(soup)"
   ]
  },
  {
   "cell_type": "code",
   "execution_count": 338,
   "id": "satisfied-understanding",
   "metadata": {
    "hidden": true
   },
   "outputs": [],
   "source": [
    "def scrap_car(soup):\n",
    "    car_features = [\"Marque\", \"N° d'annonce\", \"Année\", \"Couleur extérieure\", \"Type de peinture\", \"Couleur originale\", \"Carrosserie\"]\n",
    "    car_row = {\"Marque\": \"\", \"N° d'annonce\": np.NaN, \n",
    "              \"Année\": [datetime.datetime(1970, 1, 1)], \n",
    "              \"Couleur extérieure\": \"\", \n",
    "              \"Type de peinture\": \"\", \n",
    "              \"Couleur originale\": \"\", \n",
    "              \"Carrosserie\": \"\"}\n",
    "    \n",
    "    #scrapping de la branche contenant les key/values de caractéristiques\n",
    "    car = soup.find(\"div\", class_=\"cldt-categorized-data cldt-data-section sc-pull-right\")\n",
    "    \n",
    "    #création liste des key et des valeurs => création dictionnaire de key, values\n",
    "    car_key = [i.text for i in car.find_all(\"dt\")]\n",
    "    car_value = [i.text.replace('\\n', '') for i in car.find_all(\"dd\")]\n",
    "    car_dict = {k: v for k,v in zip(car_key, car_value)}\n",
    "    \n",
    "    #crée un dictionnaire correspondant à la ligne qu'il faudra ajouter au dataframe\n",
    "    for k_site in [i.text for i in car.find_all(\"dt\")]:\n",
    "        for k_list in car_features:\n",
    "            if k_site == k_list:\n",
    "                car_row[k_list]=car_dict[k_site]\n",
    "    \n",
    "    return car_row"
   ]
  },
  {
   "cell_type": "code",
   "execution_count": 339,
   "id": "excess-amino",
   "metadata": {
    "hidden": true
   },
   "outputs": [
    {
     "data": {
      "text/plain": [
       "{'Marque': 'Ducati',\n",
       " \"N° d'annonce\": nan,\n",
       " 'Année': '2012',\n",
       " 'Couleur extérieure': 'Rouge',\n",
       " 'Type de peinture': 'Métallisé',\n",
       " 'Couleur originale': 'gris',\n",
       " 'Carrosserie': 'Roadster'}"
      ]
     },
     "execution_count": 339,
     "metadata": {},
     "output_type": "execute_result"
    }
   ],
   "source": [
    "scrap_car(soup_)"
   ]
  },
  {
   "cell_type": "markdown",
   "id": "applied-archive",
   "metadata": {
    "heading_collapsed": true
   },
   "source": [
    "#### fonction transmission : scrap_transm(soup)"
   ]
  },
  {
   "cell_type": "code",
   "execution_count": 340,
   "id": "sought-association",
   "metadata": {
    "hidden": true
   },
   "outputs": [],
   "source": [
    "def scrap_transm(soup):\n",
    "    transm_features = [\"Transmission\", \"Vitesses\", \"Cylindrée\", \"Cylindres\", \"Poids à vide\"]\n",
    "    transm_row = {\"Transmission\": \"\", \n",
    "                      \"Vitesses\": np.nan, \n",
    "                      \"Cylindrée\": np.nan, \n",
    "                      \"Cylindres\": 0, \n",
    "                      \"Poids à vide\" : np.nan}\n",
    "    #scrapping de la branche contenant les key/values de caractéristiques\n",
    "    transm = soup.find_all(\"div\", class_=\"cldt-categorized-data cldt-data-section sc-pull-left\")[1]\n",
    "    \n",
    "    #création liste des key et des valeurs => création dictionnaire de key, values\n",
    "    transm_key = [i.text for i in transm.find_all(\"dt\")]\n",
    "    transm_value = [i.text.replace('\\n', '') for i in transm.find_all(\"dd\")]\n",
    "    transm_dict = {k: v for k,v in zip(transm_key, transm_value)}\n",
    "    \n",
    "    #crée un dictionnaire correspondant à la ligne qu'il faudra ajouter au dataframe\n",
    "    for k_site in [i.text for i in transm.find_all(\"dt\")]:\n",
    "        for k_list in transm_features:\n",
    "            if k_site == k_list:\n",
    "                transm_row[k_list]=transm_dict[k_site]\n",
    "    \n",
    "    return transm_row    "
   ]
  },
  {
   "cell_type": "code",
   "execution_count": 341,
   "id": "photographic-drinking",
   "metadata": {
    "hidden": true
   },
   "outputs": [
    {
     "data": {
      "text/plain": [
       "{'Transmission': 'Boîte manuelle',\n",
       " 'Vitesses': '5',\n",
       " 'Cylindrée': '1.100 cm³',\n",
       " 'Cylindres': '8',\n",
       " 'Poids à vide': nan}"
      ]
     },
     "execution_count": 341,
     "metadata": {},
     "output_type": "execute_result"
    }
   ],
   "source": [
    "scrap_transm(soup_)"
   ]
  },
  {
   "cell_type": "markdown",
   "id": "wicked-trust",
   "metadata": {},
   "source": [
    "#### function : scrap all details"
   ]
  },
  {
   "cell_type": "code",
   "execution_count": 365,
   "id": "fitted-society",
   "metadata": {},
   "outputs": [],
   "source": [
    "url = \"https://www.autoscout24.fr/offres/piaggio-x-8-125-essence-noir-657c4002-1eb6-4b2c-ae78-b575350e7c6a?cldtidx=9&cldtsrc=listPage&searchId=-1532419452\""
   ]
  },
  {
   "cell_type": "code",
   "execution_count": 366,
   "id": "criminal-classics",
   "metadata": {},
   "outputs": [],
   "source": [
    "resp_single = requests.get(url)\n",
    "soup_ = BeautifulSoup(resp_single.content, 'html.parser')\n",
    "uniq_id = \"as24_\" + as24_announce_reference(soup_)"
   ]
  },
  {
   "cell_type": "code",
   "execution_count": 360,
   "id": "under-pledge",
   "metadata": {},
   "outputs": [],
   "source": [
    "def scrap_part_one(soup_):\n",
    "    part_one_row = {\"url\": \"\",\n",
    "                      \"reference\": np.nan,\n",
    "                      \"model\": \"\",\n",
    "                      \"price\": np.nan,\n",
    "                      \"mileage\": 0,\n",
    "                      \"power_kW\": 0,\n",
    "                      \"power_CH\": 0}\n",
    "    uniq_id = \"as24_\" + as24_announce_reference(soup_)\n",
    "    \n",
    "    part_one_row[\"url\"] = url\n",
    "    part_one_row[\"reference\"] = uniq_id\n",
    "    part_one_row[\"model\"] = soup_.find(\"div\", class_=\"cldt-headline\").find(\"span\", class_=\"cldt-detail-makemodel sc-ellipsis\").text\n",
    "    part_one_row[\"price\"] = extract_int(soup_.find(\"div\", class_=\"cldt-price\").find('h2').text)\n",
    "    \n",
    "    basic_data = soup_.find(\"div\", class_='cldt-stage-basic-data')\n",
    "    part_one_row[\"mileage\"] = extract_int(basic_data.find_all(\"span\", class_=\"sc-font-l cldt-stage-primary-keyfact\")[0].string)\n",
    "    part_one_row[\"power_kW\"] = extract_int(basic_data.find_all(\"span\", class_=\"sc-font-l cldt-stage-primary-keyfact\")[2].string)\n",
    "    part_one_row[\"power_CH\"] = extract_int(basic_data.find_all(\"span\", class_=\"sc-font-m cldt-stage-primary-keyfact\")[0].string)\n",
    "    \n",
    "    return part_one_row"
   ]
  },
  {
   "cell_type": "code",
   "execution_count": 370,
   "id": "incorporate-bouquet",
   "metadata": {},
   "outputs": [
    {
     "data": {
      "text/plain": [
       "'- kW'"
      ]
     },
     "execution_count": 370,
     "metadata": {},
     "output_type": "execute_result"
    }
   ],
   "source": [
    "basic_data = soup_.find(\"div\", class_='cldt-stage-basic-data')\n",
    "basic_data.find_all(\"span\", class_=\"sc-font-l cldt-stage-primary-keyfact\")[2].string"
   ]
  },
  {
   "cell_type": "code",
   "execution_count": 358,
   "id": "genuine-continent",
   "metadata": {},
   "outputs": [],
   "source": [
    "def scrap_all_details(url):\n",
    "    resp_single = requests.get(url)\n",
    "    soup_ = BeautifulSoup(resp_single.content, 'html.parser')\n",
    "    \n",
    "    \n",
    "    part_one = scrap_part_one(soup_)\n",
    "    etat = scrap_etat(soup_)\n",
    "    car = scrap_car(soup_)\n",
    "    transm = scrap_transm(soup_)\n",
    "    \n",
    "    dall = {}\n",
    "    dall.update(part_one)\n",
    "    dall.update(etat)\n",
    "    dall.update(car)\n",
    "    dall.update(transm)\n",
    "    return dall"
   ]
  },
  {
   "cell_type": "code",
   "execution_count": 393,
   "id": "outstanding-cardiff",
   "metadata": {},
   "outputs": [
    {
     "data": {
      "text/plain": [
       "{'url': 'https://www.autoscout24.fr/offres/piaggio-mp3-400-lt-essence-bleu-a03570dd-9554-48ab-913f-65cbafc9f659?cldtidx=9&cldtsrc=listPage&searchId=947976848',\n",
       " 'reference': 'as24_a03570dd-9554-48ab-913f-65cbafc9f659',\n",
       " 'model': 'Piaggio MP3 400',\n",
       " 'price': 2899,\n",
       " 'mileage': 45800,\n",
       " 'power_kW': nan,\n",
       " 'power_CH': nan,\n",
       " 'État': 'Occasion',\n",
       " 'Propriétaires préc.': nan,\n",
       " 'Dernier contrôle technique': datetime.datetime(1970, 1, 1, 0, 0),\n",
       " 'Garantie': datetime.datetime(1970, 1, 1, 0, 0),\n",
       " \"Carnet d'entretien\": nan,\n",
       " 'Marque': 'Piaggio',\n",
       " \"N° d'annonce\": '2048173',\n",
       " 'Année': '2011',\n",
       " 'Couleur extérieure': 'Bleu',\n",
       " 'Type de peinture': '',\n",
       " 'Couleur originale': 'Bleu',\n",
       " 'Carrosserie': 'Scooter',\n",
       " 'Transmission': '',\n",
       " 'Vitesses': nan,\n",
       " 'Cylindrée': '400 cm³',\n",
       " 'Cylindres': 0,\n",
       " 'Poids à vide': nan}"
      ]
     },
     "execution_count": 393,
     "metadata": {},
     "output_type": "execute_result"
    }
   ],
   "source": [
    "url = \"https://www.autoscout24.fr/offres/piaggio-mp3-400-lt-essence-bleu-a03570dd-9554-48ab-913f-65cbafc9f659?cldtidx=9&cldtsrc=listPage&searchId=947976848\"\n",
    "scrap_all_details(url)"
   ]
  },
  {
   "cell_type": "code",
   "execution_count": null,
   "id": "ready-magic",
   "metadata": {},
   "outputs": [],
   "source": [
    "#je suis en train de créer la fonction pour récupérer les premières données\n",
    "#ensuite faudra ajouter la fonction du dessous pour récupérer toutes les données\n",
    "#essayer sur plusieurs url\n",
    "\n",
    "#scrapper les urls depuis le listing d'annonces et les stocker\n",
    "#créer une boucle avec les url et la fonction pour scrapper les données\n"
   ]
  },
  {
   "cell_type": "code",
   "execution_count": 131,
   "id": "colored-pendant",
   "metadata": {},
   "outputs": [],
   "source": [
    "def get_one_announce(url):\n",
    "    \n",
    "    resp_single = requests.get(url, headers=headers, params=params)\n",
    "    soup_single = BeautifulSoup(resp_single.content, 'html.parser')\n",
    "    uniq_id = \"as24_\" + as24_announce_reference(soup_single)\n",
    "    \n",
    "    announce[\"url\"] = url    \n",
    "    announce[\"reference\"] = uniq_id\n",
    "    announce[\"model\"] = soup_.find(\"div\", class_=\"cldt-headline\").find(\"span\", class_=\"cldt-detail-makemodel sc-ellipsis\").text\n",
    "    announce[\"price\"] = extract_int(soup_.find(\"div\", class_=\"cldt-price\").find('h2').text)\n",
    "    \n",
    "    get_images(soup_single, uniq_id)\n",
    "    \n",
    "    list_single = []\n",
    "    \n",
    "    "
   ]
  },
  {
   "cell_type": "markdown",
   "id": "completed-christmas",
   "metadata": {},
   "source": [
    "### Scrap announce urls"
   ]
  },
  {
   "cell_type": "markdown",
   "id": "spread-house",
   "metadata": {},
   "source": [
    "#### Scrapping de l'url des annonde d'un listing"
   ]
  },
  {
   "cell_type": "code",
   "execution_count": 824,
   "id": "extraordinary-commercial",
   "metadata": {},
   "outputs": [],
   "source": [
    "url = \"https://www.autoscout24.fr/lst-moto/?sort=standard&desc=0&ustate=N%2CU&size=10&page=2&cy=F&atype=B&fc=0&qry=&recommended_sorting_based_id=a03570dd-9554-48ab-913f-65cbafc9f659&\""
   ]
  },
  {
   "cell_type": "code",
   "execution_count": 825,
   "id": "internal-skirt",
   "metadata": {},
   "outputs": [],
   "source": [
    "#Combien d'annonces par page\n",
    "10\n",
    "#Quel est le div d'une annonce\n",
    "# cl-list-element cl-list-element-gap\n",
    "#Ou tourver le lien url\n",
    "resp_single = requests.get(url)\n",
    "soup_ = BeautifulSoup(resp_single.content, 'html.parser')"
   ]
  },
  {
   "cell_type": "code",
   "execution_count": 826,
   "id": "surprising-quantity",
   "metadata": {},
   "outputs": [
    {
     "data": {
      "text/plain": [
       "'/offres/bmw-s-1000-xr-essence-rouge-63abeec2-96d6-498a-a4dc-d9f2357e4284'"
      ]
     },
     "execution_count": 826,
     "metadata": {},
     "output_type": "execute_result"
    }
   ],
   "source": [
    "#extracton du code html\n",
    "soup_.find_all(\"div\", class_=\"cldt-summary-titles\")[9].find_all('a', href=True)[0]['href']"
   ]
  },
  {
   "cell_type": "code",
   "execution_count": 504,
   "id": "engaging-italian",
   "metadata": {},
   "outputs": [
    {
     "name": "stdout",
     "output_type": "stream",
     "text": [
      "https://www.autoscout24.fr/offres/triumph-bonneville-t120-t120-r-morgo-kit-750-cc-essence-noir-b04e6be2-14bb-495d-b64c-44e575e654a5\n",
      "https://www.autoscout24.fr/offres/triumph-others-t100-r-daytona-essence-bleu-ee4624dc-c773-4f83-9dc6-99c4782ff761\n",
      "https://www.autoscout24.fr/offres/triumph-others-t100-r-daytona-essence-argent-abd9b1f1-a4ee-4a85-8f31-2046f7f0428c\n",
      "https://www.autoscout24.fr/offres/yamaha-tracer-900-gt-abs-2020-essence-rouge-7642b5a0-a394-4393-9557-8d67b866f333\n",
      "https://www.autoscout24.fr/offres/yamaha-yfz-450-r-essence-bleu-66aec1cb-0643-4edb-b7ce-aa095f8c5c5d\n",
      "https://www.autoscout24.fr/offres/bsa-a-65-sptifire-essence-rouge-078eb2c0-235d-437c-9bb3-6978fdce9a7d\n",
      "https://www.autoscout24.fr/offres/bmw-s-1000-xr-essence-rouge-63abeec2-96d6-498a-a4dc-d9f2357e4284\n",
      "https://www.autoscout24.fr/offres/bmw-c-evolution-electrique-599ed602-767c-45a0-b828-915dba58bcda\n",
      "https://www.autoscout24.fr/offres/harley-davidson-softail-essence-2-temps-noir-cde41188-afcb-dc55-e053-e250040accb5\n",
      "https://www.autoscout24.fr/offres/others-others-climax-m1-bobber-essence-noir-082034e4-655e-4e03-863e-734200a01876\n"
     ]
    }
   ],
   "source": [
    "for a in range(10):\n",
    "    soup_link = soup_.find_all(\"div\", class_=\"cldt-summary-titles\")[a].find_all('a', href=True)[0]\n",
    "    print('https://www.autoscout24.fr' + soup_link['href'])"
   ]
  },
  {
   "cell_type": "code",
   "execution_count": 713,
   "id": "built-explanation",
   "metadata": {},
   "outputs": [],
   "source": [
    "def as24_url_generator(size, page):\n",
    "    url_one = \"www.autoscout24.fr/lst-moto/?sort=standard&desc=0&ustate=N%2CU&size=\"\n",
    "    url_two = \"&page=\"\n",
    "    url_three = \"&cy=F&atype=B&fc=10&qry=&recommended_sorting_based_id=b04e6be2-14bb-495d-b64c-44e575e654a5&\"\n",
    "\n",
    "#     url = url_one + str(size) + url_two + str(size) + url_three\n",
    "    url = f\"https://www.autoscout24.fr/lst-moto/?sort=standard&desc=0&ustate=N%2CU&size={size}&page={page}&cy=F&atype=B&fc=10&qry=&recommended_sorting_based_id=b04e6be2-14bb-495d-b64c-44e575e654a5&\"\n",
    "    return str(url)"
   ]
  },
  {
   "cell_type": "code",
   "execution_count": 716,
   "id": "hollywood-effectiveness",
   "metadata": {},
   "outputs": [
    {
     "data": {
      "text/plain": [
       "'https://www.autoscout24.fr/lst-moto/?sort=standard&desc=0&ustate=N%2CU&size=20&page=2&cy=F&atype=B&fc=10&qry=&recommended_sorting_based_id=b04e6be2-14bb-495d-b64c-44e575e654a5&'"
      ]
     },
     "execution_count": 716,
     "metadata": {},
     "output_type": "execute_result"
    }
   ],
   "source": [
    "as24_url_generator(20,2)"
   ]
  },
  {
   "cell_type": "markdown",
   "id": "above-profit",
   "metadata": {
    "heading_collapsed": true
   },
   "source": [
    "#### Scrapping guid et prix du listing annonces"
   ]
  },
  {
   "cell_type": "code",
   "execution_count": 922,
   "id": "prepared-nursing",
   "metadata": {
    "hidden": true
   },
   "outputs": [],
   "source": [
    "#lister les guid et prix correspondants à chaque annonce\n",
    "def get_announces(soup_):\n",
    "    announces_list = soup_.find_all(\"div\", class_=\"cl-list-element cl-list-element-gap\")\n",
    "    for k in range(len(announces_list)):\n",
    "        #get model\n",
    "        model = announces_list[k].find(\"div\", class_=\"cldt-summary-makemodelversion sc-ellipsis\").find('h2').text\n",
    "        announces_row['model']=model\n",
    "        #get price\n",
    "        price = announces_list[k].find(\"div\", class_=\"cldt-summary-payment\").find(\"span\", class_=\"cldt-price sc-font-xl sc-font-bold\").text\n",
    "        announces_row['price']=price\n",
    "        #get guid\n",
    "        announces_row['guid']=announces_list[k][\"data-guid\"]\n",
    "        #get url\n",
    "        soup_link = soup_.find_all(\"div\", class_=\"cldt-summary-titles\")[k].find_all('a', href=True)[0]\n",
    "        announces_row['url']='https://www.autoscout24.fr' + soup_link['href']"
   ]
  },
  {
   "cell_type": "code",
   "execution_count": 923,
   "id": "social-roller",
   "metadata": {
    "hidden": true
   },
   "outputs": [
    {
     "name": "stdout",
     "output_type": "stream",
     "text": [
      "Velocette\n",
      "\n",
      "€ 350,-\n",
      "\n",
      "882f22c3-f496-8301-e053-0100007f5bc0\n",
      "https://www.autoscout24.fr/offres/velocette-other-electrique-brun-882f22c3-f496-8301-e053-0100007f5bc0\n",
      "Yamaha BWs\n",
      "\n",
      "€ 400,-\n",
      "\n",
      "a5252dc2-e0ff-4b0a-e053-0100007fd0f4\n",
      "https://www.autoscout24.fr/offres/yamaha-bws-diesel-noir-a5252dc2-e0ff-4b0a-e053-0100007fd0f4\n",
      "Peugeot Speedfight\n",
      "\n",
      "€ 400,-\n",
      "\n",
      "40080cc1-395d-4250-e053-0100007fb135\n",
      "https://www.autoscout24.fr/offres/peugeot-speedfight-essence-blanc-40080cc1-395d-4250-e053-0100007fb135\n",
      "MBK Booster\n",
      "\n",
      "€ 400,-\n",
      "\n",
      "1cb60f9d-d414-4a51-81f9-8a27d8a1dd16\n",
      "https://www.autoscout24.fr/offres/mbk-booster-essence-noir-1cb60f9d-d414-4a51-81f9-8a27d8a1dd16\n",
      "Vespa LX 50\n",
      "\n",
      "€ 500,-\n",
      "\n",
      "716725c3-b112-f23f-e053-0100007f719b\n",
      "https://www.autoscout24.fr/offres/vespa-lx-50-essence-2-temps-bleu-716725c3-b112-f23f-e053-0100007f719b\n",
      "Yamaha Aerox\n",
      "\n",
      "€ 500,-\n",
      "\n",
      "4ad337c1-beb4-427f-e053-0100007fb452\n",
      "https://www.autoscout24.fr/offres/yamaha-aerox-essence-noir-4ad337c1-beb4-427f-e053-0100007fb452\n",
      "Piaggio NRG Power\n",
      "\n",
      "€ 500,-\n",
      "\n",
      "f5fc0cc1-9739-2d2b-e053-0100007f800f\n",
      "https://www.autoscout24.fr/offres/piaggio-nrg-power-essence-blanc-f5fc0cc1-9739-2d2b-e053-0100007f800f\n",
      "Peugeot Tweet\n",
      "\n",
      "€ 500,-\n",
      "TVA déductible\n",
      "\n",
      "690dc9c0-46dd-3c65-e053-0100007fde40\n",
      "https://www.autoscout24.fr/offres/peugeot-tweet-essence-noir-690dc9c0-46dd-3c65-e053-0100007fde40\n",
      "Piaggio Zip II 50\n",
      "\n",
      "€ 500,-\n",
      "\n",
      "0b50bdb6-8b46-4f9e-a13e-4a817466df2e\n",
      "https://www.autoscout24.fr/offres/piaggio-zip-ii-50-essence-noir-0b50bdb6-8b46-4f9e-a13e-4a817466df2e\n",
      "Honda SH 125\n",
      "\n",
      "€ 500,-\n",
      "\n",
      "43bed9ba-0e14-4754-e053-0100007f43ad\n",
      "https://www.autoscout24.fr/offres/honda-sh-125-pour-piece-essence-rouge-43bed9ba-0e14-4754-e053-0100007f43ad\n",
      "Suzuki GSX 750\n",
      "\n",
      "€ 500,-\n",
      "\n",
      "dd4ee4b9-2038-2665-e053-0100007f6e1f\n",
      "https://www.autoscout24.fr/offres/suzuki-gsx-750-essence-vert-dd4ee4b9-2038-2665-e053-0100007f6e1f\n",
      "Honda Pantheon 125\n",
      "\n",
      "€ 510,-\n",
      "\n",
      "9777b1b7-b646-bb5e-e053-0100007fe4af\n",
      "https://www.autoscout24.fr/offres/honda-pantheon-125-essence-rouge-9777b1b7-b646-bb5e-e053-0100007fe4af\n",
      "Oldtimer\n",
      "\n",
      "€ 590,-\n",
      "TVA déductible\n",
      "\n",
      "b21a3121-b6ea-4da8-84e3-96b182594597\n",
      "https://www.autoscout24.fr/offres/oldtimer-others-yamaha-essence-noir-b21a3121-b6ea-4da8-84e3-96b182594597\n",
      "Kymco Agility 50\n",
      "\n",
      "€ 595,-\n",
      "TVA déductible\n",
      "\n",
      "a8b9a675-1c25-44ba-870c-7efeb4646a66\n",
      "https://www.autoscout24.fr/offres/kymco-agility-50-essence-a8b9a675-1c25-44ba-870c-7efeb4646a66\n",
      "Kymco Spacer 50\n",
      "\n",
      "€ 600,-\n",
      "\n",
      "cac095a8-50b2-4646-af4b-35e6c2c1f20d\n",
      "https://www.autoscout24.fr/offres/kymco-spacer-50-essence-rouge-cac095a8-50b2-4646-af4b-35e6c2c1f20d\n",
      "MBK\n",
      "\n",
      "€ 600,-\n",
      "\n",
      "940720b9-a3c9-807e-e053-0100007ffcb1\n",
      "https://www.autoscout24.fr/offres/mbk-others-essence-blanc-940720b9-a3c9-807e-e053-0100007ffcb1\n",
      "Piaggio Zip 100\n",
      "\n",
      "€ 600,-\n",
      "\n",
      "b96704b6-bfbe-f909-e053-0100007f9f6c\n",
      "https://www.autoscout24.fr/offres/piaggio-zip-100-essence-bleu-b96704b6-bfbe-f909-e053-0100007f9f6c\n",
      "MBK\n",
      "\n",
      "€ 600,-\n",
      "\n",
      "9a2fa3b5-921e-2e4a-e053-0100007fe125\n",
      "https://www.autoscout24.fr/offres/mbk-others-diesel-bleu-9a2fa3b5-921e-2e4a-e053-0100007fe125\n",
      "Znen\n",
      "\n",
      "€ 620,-\n",
      "\n",
      "1d2017bc-1bf3-5264-e053-0100007fe745\n",
      "https://www.autoscout24.fr/offres/znen-other-autres-noir-1d2017bc-1bf3-5264-e053-0100007fe745\n",
      "Znen Q Scooter\n",
      "\n",
      "€ 650,-\n",
      "\n",
      "438117bc-df14-090a-e053-0100007fd576\n",
      "https://www.autoscout24.fr/offres/znen-q-scooter-autres-noir-438117bc-df14-090a-e053-0100007fd576\n"
     ]
    }
   ],
   "source": [
    "announces_list = soup_.find_all(\"div\", class_=\"cl-list-element cl-list-element-gap\")\n",
    "for k in range(len(announces_list)):\n",
    "    #get model\n",
    "    model = announces_list[k].find(\"div\", class_=\"cldt-summary-makemodelversion sc-ellipsis\").find('h2').text\n",
    "    print(model)\n",
    "    #get price\n",
    "    price = announces_list[k].find(\"div\", class_=\"cldt-summary-payment\").find(\"span\", class_=\"cldt-price sc-font-xl sc-font-bold\").text\n",
    "    print(price)\n",
    "    #get guid\n",
    "    print(announces_list[k][\"data-guid\"])\n",
    "    #get url\n",
    "    soup_link = soup_.find_all(\"div\", class_=\"cldt-summary-titles\")[k].find_all('a', href=True)[0]\n",
    "    print('https://www.autoscout24.fr' + soup_link['href'])"
   ]
  },
  {
   "cell_type": "markdown",
   "id": "native-queen",
   "metadata": {},
   "source": [
    "#### composition du DataFrame"
   ]
  },
  {
   "cell_type": "code",
   "execution_count": 924,
   "id": "daily-emission",
   "metadata": {},
   "outputs": [],
   "source": [
    "#lister les guid et prix correspondants à chaque annonce\n",
    "#soup_d'une liste d'annonces\n",
    "\n",
    "def get_announces(soup_):\n",
    "    #Template of the dataframe with the urls of the several announces\n",
    "    df_announces = pd.DataFrame({\"model\": \"\", \n",
    "                              \"price\": [np.nan],\n",
    "                              \"guid\": \"\",\n",
    "                              \"url\": \"\"})\n",
    "    \n",
    "    announces_row = {\"model\": \"\", \n",
    "                  \"price\": [np.nan],\n",
    "                  \"guid\": \"\",\n",
    "                  \"url\": \"\"}\n",
    "    \n",
    "    announces_list = soup_.find_all(\"div\", class_=\"cl-list-element cl-list-element-gap\")\n",
    "    \n",
    "    for k in range(len(announces_list)):\n",
    "        #get model\n",
    "        model = announces_list[k].find(\"div\", class_=\"cldt-summary-makemodelversion sc-ellipsis\").find('h2').text\n",
    "        announces_row['model']=model\n",
    "        #get price\n",
    "        price = announces_list[k].find(\"div\", class_=\"cldt-summary-payment\").find(\"span\", class_=\"cldt-price sc-font-xl sc-font-bold\").text\n",
    "        announces_row['price']=price\n",
    "        #get guid\n",
    "        announces_row['guid']=announces_list[k][\"data-guid\"]\n",
    "        #get url\n",
    "        soup_link = soup_.find_all(\"div\", class_=\"cldt-summary-titles\")[k].find_all('a', href=True)[0]\n",
    "        announces_row['url']='https://www.autoscout24.fr' + soup_link['href']\n",
    "        \n",
    "        df_announces = df_announces.append(announces_row, ignore_index=True)\n",
    "    \n",
    "    df_announces = df_announces.drop(0)\n",
    "    return df_announces"
   ]
  },
  {
   "cell_type": "code",
   "execution_count": 898,
   "id": "attempted-january",
   "metadata": {},
   "outputs": [
    {
     "data": {
      "text/html": [
       "<div>\n",
       "<style scoped>\n",
       "    .dataframe tbody tr th:only-of-type {\n",
       "        vertical-align: middle;\n",
       "    }\n",
       "\n",
       "    .dataframe tbody tr th {\n",
       "        vertical-align: top;\n",
       "    }\n",
       "\n",
       "    .dataframe thead th {\n",
       "        text-align: right;\n",
       "    }\n",
       "</style>\n",
       "<table border=\"1\" class=\"dataframe\">\n",
       "  <thead>\n",
       "    <tr style=\"text-align: right;\">\n",
       "      <th></th>\n",
       "      <th>model</th>\n",
       "      <th>price</th>\n",
       "      <th>guid</th>\n",
       "      <th>url</th>\n",
       "    </tr>\n",
       "  </thead>\n",
       "  <tbody>\n",
       "    <tr>\n",
       "      <th>1</th>\n",
       "      <td>Triumph</td>\n",
       "      <td>\\n€ 11.500,-\\n</td>\n",
       "      <td>abd9b1f1-a4ee-4a85-8f31-2046f7f0428c</td>\n",
       "      <td>https://www.autoscout24.fr/offres/triumph-othe...</td>\n",
       "    </tr>\n",
       "    <tr>\n",
       "      <th>2</th>\n",
       "      <td>Yamaha Tracer 900</td>\n",
       "      <td>\\n€ 12.066,-\\n</td>\n",
       "      <td>7642b5a0-a394-4393-9557-8d67b866f333</td>\n",
       "      <td>https://www.autoscout24.fr/offres/yamaha-trace...</td>\n",
       "    </tr>\n",
       "    <tr>\n",
       "      <th>3</th>\n",
       "      <td>Yamaha YFZ 450</td>\n",
       "      <td>\\n€ 12.500,-\\n</td>\n",
       "      <td>66aec1cb-0643-4edb-b7ce-aa095f8c5c5d</td>\n",
       "      <td>https://www.autoscout24.fr/offres/yamaha-yfz-4...</td>\n",
       "    </tr>\n",
       "    <tr>\n",
       "      <th>4</th>\n",
       "      <td>BSA A 65</td>\n",
       "      <td>\\n€ 14.500,-\\n</td>\n",
       "      <td>078eb2c0-235d-437c-9bb3-6978fdce9a7d</td>\n",
       "      <td>https://www.autoscout24.fr/offres/bsa-a-65-spt...</td>\n",
       "    </tr>\n",
       "    <tr>\n",
       "      <th>5</th>\n",
       "      <td>BMW S 1000 XR</td>\n",
       "      <td>\\n€ 14.999,-\\n</td>\n",
       "      <td>63abeec2-96d6-498a-a4dc-d9f2357e4284</td>\n",
       "      <td>https://www.autoscout24.fr/offres/bmw-s-1000-x...</td>\n",
       "    </tr>\n",
       "    <tr>\n",
       "      <th>6</th>\n",
       "      <td>BMW C Evolution</td>\n",
       "      <td>\\n€ 16.525,-\\n</td>\n",
       "      <td>599ed602-767c-45a0-b828-915dba58bcda</td>\n",
       "      <td>https://www.autoscout24.fr/offres/bmw-c-evolut...</td>\n",
       "    </tr>\n",
       "    <tr>\n",
       "      <th>7</th>\n",
       "      <td>Harley-Davidson Softail</td>\n",
       "      <td>\\n€ 19.000,-\\n</td>\n",
       "      <td>cde41188-afcb-dc55-e053-e250040accb5</td>\n",
       "      <td>https://www.autoscout24.fr/offres/harley-david...</td>\n",
       "    </tr>\n",
       "    <tr>\n",
       "      <th>8</th>\n",
       "      <td>Autres</td>\n",
       "      <td>\\n€ 19.800,-\\n</td>\n",
       "      <td>082034e4-655e-4e03-863e-734200a01876</td>\n",
       "      <td>https://www.autoscout24.fr/offres/others-other...</td>\n",
       "    </tr>\n",
       "    <tr>\n",
       "      <th>9</th>\n",
       "      <td>Norton</td>\n",
       "      <td>\\n€ 20.900,-\\n</td>\n",
       "      <td>2b97adbf-c230-4fe6-8e8e-0e035ae3c529</td>\n",
       "      <td>https://www.autoscout24.fr/offres/norton-other...</td>\n",
       "    </tr>\n",
       "    <tr>\n",
       "      <th>10</th>\n",
       "      <td>BMW R 1250 RT</td>\n",
       "      <td>\\n€ 21.900,-\\n</td>\n",
       "      <td>66387b6b-2c8b-43f4-acf2-770dbfb0c4be</td>\n",
       "      <td>https://www.autoscout24.fr/offres/bmw-r-1250-r...</td>\n",
       "    </tr>\n",
       "    <tr>\n",
       "      <th>11</th>\n",
       "      <td>Honda CBR 1000</td>\n",
       "      <td>\\n€ 22.900,-\\nTVA déductible\\n</td>\n",
       "      <td>71663ef4-4042-4db8-af44-cc3418bdc886</td>\n",
       "      <td>https://www.autoscout24.fr/offres/honda-cbr-10...</td>\n",
       "    </tr>\n",
       "    <tr>\n",
       "      <th>12</th>\n",
       "      <td>Harley-Davidson Ultra Limited</td>\n",
       "      <td>\\n€ 26.000,-\\n</td>\n",
       "      <td>ad0776c3-c663-b14d-e053-0100007f4845</td>\n",
       "      <td>https://www.autoscout24.fr/offres/harley-david...</td>\n",
       "    </tr>\n",
       "    <tr>\n",
       "      <th>13</th>\n",
       "      <td>Aprilia SR 50</td>\n",
       "      <td>\\n€ 1.290,-\\n</td>\n",
       "      <td>050914b4-4743-4be0-b675-c3b44046ee74</td>\n",
       "      <td>https://www.autoscout24.fr/offres/aprilia-sr-5...</td>\n",
       "    </tr>\n",
       "    <tr>\n",
       "      <th>14</th>\n",
       "      <td>Yamaha X-Max 125</td>\n",
       "      <td>\\n€ 1.890,-\\n</td>\n",
       "      <td>732462bf-74dc-44a6-81eb-42134d613141</td>\n",
       "      <td>https://www.autoscout24.fr/offres/yamaha-x-max...</td>\n",
       "    </tr>\n",
       "    <tr>\n",
       "      <th>15</th>\n",
       "      <td>Ducati Monster 796</td>\n",
       "      <td>\\n€ 7.490,-\\n</td>\n",
       "      <td>143a8922-63fc-4344-b33a-acd115d01caa</td>\n",
       "      <td>https://www.autoscout24.fr/offres/ducati-monst...</td>\n",
       "    </tr>\n",
       "  </tbody>\n",
       "</table>\n",
       "</div>"
      ],
      "text/plain": [
       "                            model                           price  \\\n",
       "1                         Triumph                  \\n€ 11.500,-\\n   \n",
       "2               Yamaha Tracer 900                  \\n€ 12.066,-\\n   \n",
       "3                  Yamaha YFZ 450                  \\n€ 12.500,-\\n   \n",
       "4                        BSA A 65                  \\n€ 14.500,-\\n   \n",
       "5                   BMW S 1000 XR                  \\n€ 14.999,-\\n   \n",
       "6                 BMW C Evolution                  \\n€ 16.525,-\\n   \n",
       "7         Harley-Davidson Softail                  \\n€ 19.000,-\\n   \n",
       "8                          Autres                  \\n€ 19.800,-\\n   \n",
       "9                          Norton                  \\n€ 20.900,-\\n   \n",
       "10                  BMW R 1250 RT                  \\n€ 21.900,-\\n   \n",
       "11                 Honda CBR 1000  \\n€ 22.900,-\\nTVA déductible\\n   \n",
       "12  Harley-Davidson Ultra Limited                  \\n€ 26.000,-\\n   \n",
       "13                  Aprilia SR 50                   \\n€ 1.290,-\\n   \n",
       "14               Yamaha X-Max 125                   \\n€ 1.890,-\\n   \n",
       "15             Ducati Monster 796                   \\n€ 7.490,-\\n   \n",
       "\n",
       "                                    guid  \\\n",
       "1   abd9b1f1-a4ee-4a85-8f31-2046f7f0428c   \n",
       "2   7642b5a0-a394-4393-9557-8d67b866f333   \n",
       "3   66aec1cb-0643-4edb-b7ce-aa095f8c5c5d   \n",
       "4   078eb2c0-235d-437c-9bb3-6978fdce9a7d   \n",
       "5   63abeec2-96d6-498a-a4dc-d9f2357e4284   \n",
       "6   599ed602-767c-45a0-b828-915dba58bcda   \n",
       "7   cde41188-afcb-dc55-e053-e250040accb5   \n",
       "8   082034e4-655e-4e03-863e-734200a01876   \n",
       "9   2b97adbf-c230-4fe6-8e8e-0e035ae3c529   \n",
       "10  66387b6b-2c8b-43f4-acf2-770dbfb0c4be   \n",
       "11  71663ef4-4042-4db8-af44-cc3418bdc886   \n",
       "12  ad0776c3-c663-b14d-e053-0100007f4845   \n",
       "13  050914b4-4743-4be0-b675-c3b44046ee74   \n",
       "14  732462bf-74dc-44a6-81eb-42134d613141   \n",
       "15  143a8922-63fc-4344-b33a-acd115d01caa   \n",
       "\n",
       "                                                  url  \n",
       "1   https://www.autoscout24.fr/offres/triumph-othe...  \n",
       "2   https://www.autoscout24.fr/offres/yamaha-trace...  \n",
       "3   https://www.autoscout24.fr/offres/yamaha-yfz-4...  \n",
       "4   https://www.autoscout24.fr/offres/bsa-a-65-spt...  \n",
       "5   https://www.autoscout24.fr/offres/bmw-s-1000-x...  \n",
       "6   https://www.autoscout24.fr/offres/bmw-c-evolut...  \n",
       "7   https://www.autoscout24.fr/offres/harley-david...  \n",
       "8   https://www.autoscout24.fr/offres/others-other...  \n",
       "9   https://www.autoscout24.fr/offres/norton-other...  \n",
       "10  https://www.autoscout24.fr/offres/bmw-r-1250-r...  \n",
       "11  https://www.autoscout24.fr/offres/honda-cbr-10...  \n",
       "12  https://www.autoscout24.fr/offres/harley-david...  \n",
       "13  https://www.autoscout24.fr/offres/aprilia-sr-5...  \n",
       "14  https://www.autoscout24.fr/offres/yamaha-x-max...  \n",
       "15  https://www.autoscout24.fr/offres/ducati-monst...  "
      ]
     },
     "execution_count": 898,
     "metadata": {},
     "output_type": "execute_result"
    }
   ],
   "source": [
    "jack = get_announces(soup_)\n",
    "jack"
   ]
  },
  {
   "cell_type": "code",
   "execution_count": 742,
   "id": "unable-retrieval",
   "metadata": {},
   "outputs": [
    {
     "data": {
      "text/plain": [
       "'https://www.autoscout24.fr/offres/others-others-climax-m1-bobber-essence-noir-082034e4-655e-4e03-863e-734200a01876'"
      ]
     },
     "execution_count": 742,
     "metadata": {},
     "output_type": "execute_result"
    }
   ],
   "source": [
    "jack.iloc[9,3]"
   ]
  },
  {
   "cell_type": "markdown",
   "id": "surprised-teaching",
   "metadata": {
    "heading_collapsed": true
   },
   "source": [
    "#### Scrap des url de toutes les pages listing"
   ]
  },
  {
   "cell_type": "code",
   "execution_count": 779,
   "id": "minimal-fleet",
   "metadata": {
    "hidden": true
   },
   "outputs": [],
   "source": [
    "#afficher les url de tous les listings d'annonces\n",
    "def get_all_listing_url(nb_requests = 20):\n",
    "    #création du dataframe\n",
    "    df_listing = pd.DataFrame({\"url\": [np.nan]\n",
    "                            })\n",
    "    url_row = {\"url\": \"\"}\n",
    "\n",
    "    for page in range(1,nb_requests+1):\n",
    "        url_row['url'] = str(as24_url_generator(20, page))\n",
    "        #ajouter le dictionnaire et le texte après la virgule dans parenthèse du append\n",
    "        df_listing = df_listing.append(url_row, ignore_index=True)\n",
    "    df_listing = df_listing.drop(0)\n",
    "    return df_listing"
   ]
  },
  {
   "cell_type": "code",
   "execution_count": 794,
   "id": "quick-gibraltar",
   "metadata": {
    "hidden": true
   },
   "outputs": [
    {
     "data": {
      "text/html": [
       "<div>\n",
       "<style scoped>\n",
       "    .dataframe tbody tr th:only-of-type {\n",
       "        vertical-align: middle;\n",
       "    }\n",
       "\n",
       "    .dataframe tbody tr th {\n",
       "        vertical-align: top;\n",
       "    }\n",
       "\n",
       "    .dataframe thead th {\n",
       "        text-align: right;\n",
       "    }\n",
       "</style>\n",
       "<table border=\"1\" class=\"dataframe\">\n",
       "  <thead>\n",
       "    <tr style=\"text-align: right;\">\n",
       "      <th></th>\n",
       "      <th>url</th>\n",
       "    </tr>\n",
       "  </thead>\n",
       "  <tbody>\n",
       "    <tr>\n",
       "      <th>1</th>\n",
       "      <td>https://www.autoscout24.fr/lst-moto/?sort=stan...</td>\n",
       "    </tr>\n",
       "    <tr>\n",
       "      <th>2</th>\n",
       "      <td>https://www.autoscout24.fr/lst-moto/?sort=stan...</td>\n",
       "    </tr>\n",
       "  </tbody>\n",
       "</table>\n",
       "</div>"
      ],
      "text/plain": [
       "                                                 url\n",
       "1  https://www.autoscout24.fr/lst-moto/?sort=stan...\n",
       "2  https://www.autoscout24.fr/lst-moto/?sort=stan..."
      ]
     },
     "execution_count": 794,
     "metadata": {},
     "output_type": "execute_result"
    }
   ],
   "source": [
    "get_all_listing_url(2)"
   ]
  },
  {
   "cell_type": "code",
   "execution_count": 788,
   "id": "black-feature",
   "metadata": {
    "hidden": true
   },
   "outputs": [
    {
     "data": {
      "text/plain": [
       "'https://www.autoscout24.fr/lst-moto/?sort=standard&desc=0&ustate=N%2CU&size=20&page=1&cy=F&atype=B&fc=10&qry=&recommended_sorting_based_id=b04e6be2-14bb-495d-b64c-44e575e654a5&'"
      ]
     },
     "execution_count": 788,
     "metadata": {},
     "output_type": "execute_result"
    }
   ],
   "source": [
    "listing_list.iloc[0,0]"
   ]
  },
  {
   "cell_type": "markdown",
   "id": "unlikely-lloyd",
   "metadata": {
    "heading_collapsed": true
   },
   "source": [
    "#### Scrap annonces de tous les listings"
   ]
  },
  {
   "cell_type": "code",
   "execution_count": 895,
   "id": "weekly-contributor",
   "metadata": {
    "hidden": true
   },
   "outputs": [],
   "source": [
    "def get_all_announces(nb_of_pages):\n",
    "    listing_list = get_all_listing_url(nb_of_pages)\n",
    "    \n",
    "    df_announces = pd.DataFrame({\"model\": \"\", \n",
    "                              \"price\": [np.nan],\n",
    "                              \"guid\": \"\",\n",
    "                              \"url\": \"\"})\n",
    "    \n",
    "    #boucle sur les url d'annonces extraites de la liste de listing\n",
    "    for page in range(len(listing_list.iloc[:,0])):\n",
    "        #sleep\n",
    "        time.sleep(8)\n",
    "        \n",
    "        #extraction du script HTML du listing\n",
    "        url = listing_list.iloc[page,0]\n",
    "        resp_single = requests.get(url)\n",
    "        soup_ = BeautifulSoup(resp_single.content, 'html.parser')\n",
    "        \n",
    "        new_df = get_announces(soup_)\n",
    "        df_announces = pd.concat([df_announces, new_df])\n",
    "    \n",
    "    df_announces = df_announces.drop(0).reset_index(drop=True)\n",
    "    return df_announces"
   ]
  },
  {
   "cell_type": "code",
   "execution_count": 929,
   "id": "every-victory",
   "metadata": {
    "hidden": true
   },
   "outputs": [],
   "source": [
    "df = get_all_announces(19)"
   ]
  },
  {
   "cell_type": "code",
   "execution_count": 934,
   "id": "revised-storm",
   "metadata": {
    "hidden": true
   },
   "outputs": [
    {
     "data": {
      "text/html": [
       "<div>\n",
       "<style scoped>\n",
       "    .dataframe tbody tr th:only-of-type {\n",
       "        vertical-align: middle;\n",
       "    }\n",
       "\n",
       "    .dataframe tbody tr th {\n",
       "        vertical-align: top;\n",
       "    }\n",
       "\n",
       "    .dataframe thead th {\n",
       "        text-align: right;\n",
       "    }\n",
       "</style>\n",
       "<table border=\"1\" class=\"dataframe\">\n",
       "  <thead>\n",
       "    <tr style=\"text-align: right;\">\n",
       "      <th></th>\n",
       "      <th>model</th>\n",
       "      <th>price</th>\n",
       "      <th>guid</th>\n",
       "      <th>url</th>\n",
       "    </tr>\n",
       "  </thead>\n",
       "  <tbody>\n",
       "    <tr>\n",
       "      <th>0</th>\n",
       "      <td>BMW R 1150 R Rockster</td>\n",
       "      <td>\\n€ 1.700,-\\n</td>\n",
       "      <td>909652f8-01a9-4db9-af72-7be7205cfad9</td>\n",
       "      <td>https://www.autoscout24.fr/offres/bmw-r-1150-r...</td>\n",
       "    </tr>\n",
       "    <tr>\n",
       "      <th>1</th>\n",
       "      <td>Skyteam Dax 125</td>\n",
       "      <td>\\n€ 1.890,-\\n</td>\n",
       "      <td>0f48fbac-52f4-202b-e053-0100007fe080</td>\n",
       "      <td>https://www.autoscout24.fr/offres/skyteam-dax-...</td>\n",
       "    </tr>\n",
       "    <tr>\n",
       "      <th>2</th>\n",
       "      <td>Yamaha XV 1100</td>\n",
       "      <td>\\n€ 2.700,-\\n</td>\n",
       "      <td>ca7fb4c3-2028-7c4b-e053-0100007f16d2</td>\n",
       "      <td>https://www.autoscout24.fr/offres/yamaha-xv-11...</td>\n",
       "    </tr>\n",
       "    <tr>\n",
       "      <th>3</th>\n",
       "      <td>Vespa 150</td>\n",
       "      <td>\\n€ 3.450,-\\n</td>\n",
       "      <td>ee13f4bf-ae32-4ca6-a549-57687080ce4c</td>\n",
       "      <td>https://www.autoscout24.fr/offres/vespa-150-s-...</td>\n",
       "    </tr>\n",
       "    <tr>\n",
       "      <th>4</th>\n",
       "      <td>BMW R 1100 GS</td>\n",
       "      <td>\\n€ 4.500,-\\n</td>\n",
       "      <td>88cfe9c2-ac18-cc6a-e053-0100007f56ac</td>\n",
       "      <td>https://www.autoscout24.fr/offres/bmw-r-1100-g...</td>\n",
       "    </tr>\n",
       "    <tr>\n",
       "      <th>5</th>\n",
       "      <td>Yamaha XT 600</td>\n",
       "      <td>\\n€ 4.800,-\\n</td>\n",
       "      <td>6688bc02-b3a4-4909-8ca2-c4f717f835f9</td>\n",
       "      <td>https://www.autoscout24.fr/offres/yamaha-xt-60...</td>\n",
       "    </tr>\n",
       "    <tr>\n",
       "      <th>6</th>\n",
       "      <td>Honda CB 1000</td>\n",
       "      <td>\\n€ 5.490,-\\n</td>\n",
       "      <td>52e137d3-9f1b-49b9-816b-5b82fefa8fa9</td>\n",
       "      <td>https://www.autoscout24.fr/offres/honda-cb-100...</td>\n",
       "    </tr>\n",
       "    <tr>\n",
       "      <th>7</th>\n",
       "      <td>BMW R 1200 RT</td>\n",
       "      <td>\\n€ 5.888,-\\n</td>\n",
       "      <td>db8e59ae-61b4-496a-9ae6-7ce4e5225475</td>\n",
       "      <td>https://www.autoscout24.fr/offres/bmw-r-1200-r...</td>\n",
       "    </tr>\n",
       "    <tr>\n",
       "      <th>8</th>\n",
       "      <td>BMW R 100 GS Paris-Dakar</td>\n",
       "      <td>\\n€ 7.800,-\\n</td>\n",
       "      <td>a615a310-62ca-4641-a02e-657d673246a6</td>\n",
       "      <td>https://www.autoscout24.fr/offres/bmw-r-100-gs...</td>\n",
       "    </tr>\n",
       "    <tr>\n",
       "      <th>9</th>\n",
       "      <td>Ducati XDiavel</td>\n",
       "      <td>\\n€ 8.990,-\\n</td>\n",
       "      <td>c9a6b7d5-939e-4be8-a45a-bc8adf43075c</td>\n",
       "      <td>https://www.autoscout24.fr/offres/ducati-xdiav...</td>\n",
       "    </tr>\n",
       "    <tr>\n",
       "      <th>10</th>\n",
       "      <td>BMW C Evolution</td>\n",
       "      <td>\\n€ 9.999,-\\nTVA déductible\\n</td>\n",
       "      <td>53fb6d0e-22dd-45d3-8bfe-fe746add7c46</td>\n",
       "      <td>https://www.autoscout24.fr/offres/bmw-c-evolut...</td>\n",
       "    </tr>\n",
       "    <tr>\n",
       "      <th>11</th>\n",
       "      <td>Yamaha TMAX 530</td>\n",
       "      <td>\\n€ 10.000,-\\n</td>\n",
       "      <td>d617ea01-66e8-49ff-9817-b7ea54d90d63</td>\n",
       "      <td>https://www.autoscout24.fr/offres/yamaha-tmax-...</td>\n",
       "    </tr>\n",
       "    <tr>\n",
       "      <th>12</th>\n",
       "      <td>Triumph Bonneville T120</td>\n",
       "      <td>\\n€ 11.200,-\\n</td>\n",
       "      <td>b04e6be2-14bb-495d-b64c-44e575e654a5</td>\n",
       "      <td>https://www.autoscout24.fr/offres/triumph-bonn...</td>\n",
       "    </tr>\n",
       "    <tr>\n",
       "      <th>13</th>\n",
       "      <td>Triumph</td>\n",
       "      <td>\\n€ 11.500,-\\n</td>\n",
       "      <td>ee4624dc-c773-4f83-9dc6-99c4782ff761</td>\n",
       "      <td>https://www.autoscout24.fr/offres/triumph-othe...</td>\n",
       "    </tr>\n",
       "    <tr>\n",
       "      <th>14</th>\n",
       "      <td>Triumph</td>\n",
       "      <td>\\n€ 11.500,-\\n</td>\n",
       "      <td>abd9b1f1-a4ee-4a85-8f31-2046f7f0428c</td>\n",
       "      <td>https://www.autoscout24.fr/offres/triumph-othe...</td>\n",
       "    </tr>\n",
       "    <tr>\n",
       "      <th>15</th>\n",
       "      <td>Yamaha Tracer 900</td>\n",
       "      <td>\\n€ 12.066,-\\n</td>\n",
       "      <td>7642b5a0-a394-4393-9557-8d67b866f333</td>\n",
       "      <td>https://www.autoscout24.fr/offres/yamaha-trace...</td>\n",
       "    </tr>\n",
       "    <tr>\n",
       "      <th>16</th>\n",
       "      <td>Yamaha YFZ 450</td>\n",
       "      <td>\\n€ 12.500,-\\n</td>\n",
       "      <td>66aec1cb-0643-4edb-b7ce-aa095f8c5c5d</td>\n",
       "      <td>https://www.autoscout24.fr/offres/yamaha-yfz-4...</td>\n",
       "    </tr>\n",
       "    <tr>\n",
       "      <th>17</th>\n",
       "      <td>BSA A 65</td>\n",
       "      <td>\\n€ 14.500,-\\n</td>\n",
       "      <td>078eb2c0-235d-437c-9bb3-6978fdce9a7d</td>\n",
       "      <td>https://www.autoscout24.fr/offres/bsa-a-65-spt...</td>\n",
       "    </tr>\n",
       "    <tr>\n",
       "      <th>18</th>\n",
       "      <td>BMW S 1000 XR</td>\n",
       "      <td>\\n€ 14.999,-\\n</td>\n",
       "      <td>63abeec2-96d6-498a-a4dc-d9f2357e4284</td>\n",
       "      <td>https://www.autoscout24.fr/offres/bmw-s-1000-x...</td>\n",
       "    </tr>\n",
       "    <tr>\n",
       "      <th>19</th>\n",
       "      <td>BMW C Evolution</td>\n",
       "      <td>\\n€ 16.525,-\\n</td>\n",
       "      <td>599ed602-767c-45a0-b828-915dba58bcda</td>\n",
       "      <td>https://www.autoscout24.fr/offres/bmw-c-evolut...</td>\n",
       "    </tr>\n",
       "    <tr>\n",
       "      <th>20</th>\n",
       "      <td>Harley-Davidson Softail</td>\n",
       "      <td>\\n€ 19.000,-\\n</td>\n",
       "      <td>cde41188-afcb-dc55-e053-e250040accb5</td>\n",
       "      <td>https://www.autoscout24.fr/offres/harley-david...</td>\n",
       "    </tr>\n",
       "    <tr>\n",
       "      <th>21</th>\n",
       "      <td>Autres</td>\n",
       "      <td>\\n€ 19.800,-\\n</td>\n",
       "      <td>082034e4-655e-4e03-863e-734200a01876</td>\n",
       "      <td>https://www.autoscout24.fr/offres/others-other...</td>\n",
       "    </tr>\n",
       "    <tr>\n",
       "      <th>22</th>\n",
       "      <td>Norton</td>\n",
       "      <td>\\n€ 20.900,-\\n</td>\n",
       "      <td>2b97adbf-c230-4fe6-8e8e-0e035ae3c529</td>\n",
       "      <td>https://www.autoscout24.fr/offres/norton-other...</td>\n",
       "    </tr>\n",
       "    <tr>\n",
       "      <th>23</th>\n",
       "      <td>BMW R 1250 RT</td>\n",
       "      <td>\\n€ 21.900,-\\n</td>\n",
       "      <td>66387b6b-2c8b-43f4-acf2-770dbfb0c4be</td>\n",
       "      <td>https://www.autoscout24.fr/offres/bmw-r-1250-r...</td>\n",
       "    </tr>\n",
       "    <tr>\n",
       "      <th>24</th>\n",
       "      <td>Honda CBR 1000</td>\n",
       "      <td>\\n€ 22.900,-\\nTVA déductible\\n</td>\n",
       "      <td>71663ef4-4042-4db8-af44-cc3418bdc886</td>\n",
       "      <td>https://www.autoscout24.fr/offres/honda-cbr-10...</td>\n",
       "    </tr>\n",
       "    <tr>\n",
       "      <th>25</th>\n",
       "      <td>Harley-Davidson Ultra Limited</td>\n",
       "      <td>\\n€ 26.000,-\\n</td>\n",
       "      <td>ad0776c3-c663-b14d-e053-0100007f4845</td>\n",
       "      <td>https://www.autoscout24.fr/offres/harley-david...</td>\n",
       "    </tr>\n",
       "    <tr>\n",
       "      <th>26</th>\n",
       "      <td>Aprilia SR 50</td>\n",
       "      <td>\\n€ 1.390,-\\n</td>\n",
       "      <td>050914b4-4743-4be0-b675-c3b44046ee74</td>\n",
       "      <td>https://www.autoscout24.fr/offres/aprilia-sr-5...</td>\n",
       "    </tr>\n",
       "    <tr>\n",
       "      <th>27</th>\n",
       "      <td>Yamaha X-Max 125</td>\n",
       "      <td>\\n€ 1.890,-\\n</td>\n",
       "      <td>732462bf-74dc-44a6-81eb-42134d613141</td>\n",
       "      <td>https://www.autoscout24.fr/offres/yamaha-x-max...</td>\n",
       "    </tr>\n",
       "    <tr>\n",
       "      <th>28</th>\n",
       "      <td>Ducati Monster 796</td>\n",
       "      <td>\\n€ 7.490,-\\n</td>\n",
       "      <td>143a8922-63fc-4344-b33a-acd115d01caa</td>\n",
       "      <td>https://www.autoscout24.fr/offres/ducati-monst...</td>\n",
       "    </tr>\n",
       "    <tr>\n",
       "      <th>29</th>\n",
       "      <td>Triumph Street Triple 765</td>\n",
       "      <td>\\n€ 7.490,-\\n</td>\n",
       "      <td>f9ecb703-3b9a-4fbb-b3f0-18e9a398e74e</td>\n",
       "      <td>https://www.autoscout24.fr/offres/triumph-stre...</td>\n",
       "    </tr>\n",
       "  </tbody>\n",
       "</table>\n",
       "</div>"
      ],
      "text/plain": [
       "                            model                           price  \\\n",
       "0           BMW R 1150 R Rockster                   \\n€ 1.700,-\\n   \n",
       "1                 Skyteam Dax 125                   \\n€ 1.890,-\\n   \n",
       "2                  Yamaha XV 1100                   \\n€ 2.700,-\\n   \n",
       "3                       Vespa 150                   \\n€ 3.450,-\\n   \n",
       "4                   BMW R 1100 GS                   \\n€ 4.500,-\\n   \n",
       "5                   Yamaha XT 600                   \\n€ 4.800,-\\n   \n",
       "6                   Honda CB 1000                   \\n€ 5.490,-\\n   \n",
       "7                   BMW R 1200 RT                   \\n€ 5.888,-\\n   \n",
       "8        BMW R 100 GS Paris-Dakar                   \\n€ 7.800,-\\n   \n",
       "9                  Ducati XDiavel                   \\n€ 8.990,-\\n   \n",
       "10                BMW C Evolution   \\n€ 9.999,-\\nTVA déductible\\n   \n",
       "11                Yamaha TMAX 530                  \\n€ 10.000,-\\n   \n",
       "12        Triumph Bonneville T120                  \\n€ 11.200,-\\n   \n",
       "13                        Triumph                  \\n€ 11.500,-\\n   \n",
       "14                        Triumph                  \\n€ 11.500,-\\n   \n",
       "15              Yamaha Tracer 900                  \\n€ 12.066,-\\n   \n",
       "16                 Yamaha YFZ 450                  \\n€ 12.500,-\\n   \n",
       "17                       BSA A 65                  \\n€ 14.500,-\\n   \n",
       "18                  BMW S 1000 XR                  \\n€ 14.999,-\\n   \n",
       "19                BMW C Evolution                  \\n€ 16.525,-\\n   \n",
       "20        Harley-Davidson Softail                  \\n€ 19.000,-\\n   \n",
       "21                         Autres                  \\n€ 19.800,-\\n   \n",
       "22                         Norton                  \\n€ 20.900,-\\n   \n",
       "23                  BMW R 1250 RT                  \\n€ 21.900,-\\n   \n",
       "24                 Honda CBR 1000  \\n€ 22.900,-\\nTVA déductible\\n   \n",
       "25  Harley-Davidson Ultra Limited                  \\n€ 26.000,-\\n   \n",
       "26                  Aprilia SR 50                   \\n€ 1.390,-\\n   \n",
       "27               Yamaha X-Max 125                   \\n€ 1.890,-\\n   \n",
       "28             Ducati Monster 796                   \\n€ 7.490,-\\n   \n",
       "29      Triumph Street Triple 765                   \\n€ 7.490,-\\n   \n",
       "\n",
       "                                    guid  \\\n",
       "0   909652f8-01a9-4db9-af72-7be7205cfad9   \n",
       "1   0f48fbac-52f4-202b-e053-0100007fe080   \n",
       "2   ca7fb4c3-2028-7c4b-e053-0100007f16d2   \n",
       "3   ee13f4bf-ae32-4ca6-a549-57687080ce4c   \n",
       "4   88cfe9c2-ac18-cc6a-e053-0100007f56ac   \n",
       "5   6688bc02-b3a4-4909-8ca2-c4f717f835f9   \n",
       "6   52e137d3-9f1b-49b9-816b-5b82fefa8fa9   \n",
       "7   db8e59ae-61b4-496a-9ae6-7ce4e5225475   \n",
       "8   a615a310-62ca-4641-a02e-657d673246a6   \n",
       "9   c9a6b7d5-939e-4be8-a45a-bc8adf43075c   \n",
       "10  53fb6d0e-22dd-45d3-8bfe-fe746add7c46   \n",
       "11  d617ea01-66e8-49ff-9817-b7ea54d90d63   \n",
       "12  b04e6be2-14bb-495d-b64c-44e575e654a5   \n",
       "13  ee4624dc-c773-4f83-9dc6-99c4782ff761   \n",
       "14  abd9b1f1-a4ee-4a85-8f31-2046f7f0428c   \n",
       "15  7642b5a0-a394-4393-9557-8d67b866f333   \n",
       "16  66aec1cb-0643-4edb-b7ce-aa095f8c5c5d   \n",
       "17  078eb2c0-235d-437c-9bb3-6978fdce9a7d   \n",
       "18  63abeec2-96d6-498a-a4dc-d9f2357e4284   \n",
       "19  599ed602-767c-45a0-b828-915dba58bcda   \n",
       "20  cde41188-afcb-dc55-e053-e250040accb5   \n",
       "21  082034e4-655e-4e03-863e-734200a01876   \n",
       "22  2b97adbf-c230-4fe6-8e8e-0e035ae3c529   \n",
       "23  66387b6b-2c8b-43f4-acf2-770dbfb0c4be   \n",
       "24  71663ef4-4042-4db8-af44-cc3418bdc886   \n",
       "25  ad0776c3-c663-b14d-e053-0100007f4845   \n",
       "26  050914b4-4743-4be0-b675-c3b44046ee74   \n",
       "27  732462bf-74dc-44a6-81eb-42134d613141   \n",
       "28  143a8922-63fc-4344-b33a-acd115d01caa   \n",
       "29  f9ecb703-3b9a-4fbb-b3f0-18e9a398e74e   \n",
       "\n",
       "                                                  url  \n",
       "0   https://www.autoscout24.fr/offres/bmw-r-1150-r...  \n",
       "1   https://www.autoscout24.fr/offres/skyteam-dax-...  \n",
       "2   https://www.autoscout24.fr/offres/yamaha-xv-11...  \n",
       "3   https://www.autoscout24.fr/offres/vespa-150-s-...  \n",
       "4   https://www.autoscout24.fr/offres/bmw-r-1100-g...  \n",
       "5   https://www.autoscout24.fr/offres/yamaha-xt-60...  \n",
       "6   https://www.autoscout24.fr/offres/honda-cb-100...  \n",
       "7   https://www.autoscout24.fr/offres/bmw-r-1200-r...  \n",
       "8   https://www.autoscout24.fr/offres/bmw-r-100-gs...  \n",
       "9   https://www.autoscout24.fr/offres/ducati-xdiav...  \n",
       "10  https://www.autoscout24.fr/offres/bmw-c-evolut...  \n",
       "11  https://www.autoscout24.fr/offres/yamaha-tmax-...  \n",
       "12  https://www.autoscout24.fr/offres/triumph-bonn...  \n",
       "13  https://www.autoscout24.fr/offres/triumph-othe...  \n",
       "14  https://www.autoscout24.fr/offres/triumph-othe...  \n",
       "15  https://www.autoscout24.fr/offres/yamaha-trace...  \n",
       "16  https://www.autoscout24.fr/offres/yamaha-yfz-4...  \n",
       "17  https://www.autoscout24.fr/offres/bsa-a-65-spt...  \n",
       "18  https://www.autoscout24.fr/offres/bmw-s-1000-x...  \n",
       "19  https://www.autoscout24.fr/offres/bmw-c-evolut...  \n",
       "20  https://www.autoscout24.fr/offres/harley-david...  \n",
       "21  https://www.autoscout24.fr/offres/others-other...  \n",
       "22  https://www.autoscout24.fr/offres/norton-other...  \n",
       "23  https://www.autoscout24.fr/offres/bmw-r-1250-r...  \n",
       "24  https://www.autoscout24.fr/offres/honda-cbr-10...  \n",
       "25  https://www.autoscout24.fr/offres/harley-david...  \n",
       "26  https://www.autoscout24.fr/offres/aprilia-sr-5...  \n",
       "27  https://www.autoscout24.fr/offres/yamaha-x-max...  \n",
       "28  https://www.autoscout24.fr/offres/ducati-monst...  \n",
       "29  https://www.autoscout24.fr/offres/triumph-stre...  "
      ]
     },
     "execution_count": 934,
     "metadata": {},
     "output_type": "execute_result"
    }
   ],
   "source": [
    "df.head(30)"
   ]
  },
  {
   "cell_type": "code",
   "execution_count": 935,
   "id": "utility-lingerie",
   "metadata": {
    "hidden": true
   },
   "outputs": [
    {
     "data": {
      "text/plain": [
       "'https://www.autoscout24.fr/offres/others-others-climax-m1-bobber-essence-noir-082034e4-655e-4e03-863e-734200a01876'"
      ]
     },
     "execution_count": 935,
     "metadata": {},
     "output_type": "execute_result"
    }
   ],
   "source": [
    "df.iloc[21,3]"
   ]
  },
  {
   "cell_type": "code",
   "execution_count": null,
   "id": "innovative-attribute",
   "metadata": {
    "hidden": true
   },
   "outputs": [],
   "source": []
  }
 ],
 "metadata": {
  "kernelspec": {
   "display_name": "Python 3",
   "language": "python",
   "name": "python3"
  },
  "language_info": {
   "codemirror_mode": {
    "name": "ipython",
    "version": 3
   },
   "file_extension": ".py",
   "mimetype": "text/x-python",
   "name": "python",
   "nbconvert_exporter": "python",
   "pygments_lexer": "ipython3",
   "version": "3.8.6"
  },
  "toc": {
   "base_numbering": 1,
   "nav_menu": {},
   "number_sections": true,
   "sideBar": true,
   "skip_h1_title": false,
   "title_cell": "Table of Contents",
   "title_sidebar": "Contents",
   "toc_cell": false,
   "toc_position": {},
   "toc_section_display": true,
   "toc_window_display": false
  },
  "varInspector": {
   "cols": {
    "lenName": 16,
    "lenType": 16,
    "lenVar": 40
   },
   "kernels_config": {
    "python": {
     "delete_cmd_postfix": "",
     "delete_cmd_prefix": "del ",
     "library": "var_list.py",
     "varRefreshCmd": "print(var_dic_list())"
    },
    "r": {
     "delete_cmd_postfix": ") ",
     "delete_cmd_prefix": "rm(",
     "library": "var_list.r",
     "varRefreshCmd": "cat(var_dic_list()) "
    }
   },
   "types_to_exclude": [
    "module",
    "function",
    "builtin_function_or_method",
    "instance",
    "_Feature"
   ],
   "window_display": false
  }
 },
 "nbformat": 4,
 "nbformat_minor": 5
}
