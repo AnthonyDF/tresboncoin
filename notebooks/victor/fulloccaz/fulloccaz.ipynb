{
 "cells": [
  {
   "cell_type": "code",
   "execution_count": 1,
   "id": "724c0e1e",
   "metadata": {},
   "outputs": [],
   "source": [
    "import requests\n",
    "from bs4 import BeautifulSoup\n",
    "import numpy as np\n",
    "import pandas as pd\n",
    "import datetime\n",
    "import re\n",
    "import time\n",
    "import os\n",
    "import json\n",
    "from PIL import Image \n",
    "import PIL \n",
    "pd.set_option('display.max_columns', None)\n",
    "import random\n",
    "import codecs\n",
    "import subprocess\n",
    "from selenium import webdriver\n",
    "from bs4 import BeautifulSoup\n",
    "import chromedriver_binary\n",
    "from selenium.webdriver.chrome.options import Options"
   ]
  },
  {
   "cell_type": "markdown",
   "id": "b8ec252e",
   "metadata": {},
   "source": [
    "# Headers"
   ]
  },
  {
   "cell_type": "code",
   "execution_count": 2,
   "id": "8ce5822e",
   "metadata": {},
   "outputs": [],
   "source": [
    "headers = {\n",
    "    'Connection': 'keep-alive',\n",
    "    'Cache-Control': 'max-age=0',\n",
    "    'sec-ch-ua': '\" Not;A Brand\";v=\"99\", \"Google Chrome\";v=\"91\", \"Chromium\";v=\"91\"',\n",
    "    'sec-ch-ua-mobile': '?0',\n",
    "    'Upgrade-Insecure-Requests': '1',\n",
    "    'User-Agent': 'Mozilla/5.0 (Macintosh; Intel Mac OS X 10_15_7) AppleWebKit/537.36 (KHTML, like Gecko) Chrome/91.0.4472.77 Safari/537.36',\n",
    "    'Accept': 'text/html,application/xhtml+xml,application/xml;q=0.9,image/avif,image/webp,image/apng,*/*;q=0.8,application/signed-exchange;v=b3;q=0.9',\n",
    "    'Sec-Fetch-Site': 'same-origin',\n",
    "    'Sec-Fetch-Mode': 'navigate',\n",
    "    'Sec-Fetch-User': '?1',\n",
    "    'Sec-Fetch-Dest': 'document',\n",
    "    'Accept-Language': 'fr-FR,fr;q=0.9,en-US;q=0.8,en;q=0.7',\n",
    "}"
   ]
  },
  {
   "cell_type": "markdown",
   "id": "7e9a31b8",
   "metadata": {},
   "source": [
    "# Save pages"
   ]
  },
  {
   "cell_type": "code",
   "execution_count": 3,
   "id": "5eac8249",
   "metadata": {},
   "outputs": [],
   "source": [
    "def save_page_list(req, page=1):\n",
    "    datetime_1 = datetime.datetime.now().strftime(\"%Y-%m-%d_%Hh%M\")\n",
    "    page_list_name = \"fulloccaz\" + \"-\" + datetime_1 + \"-\" + str(page)\n",
    "    with open(\"pages/\" + page_list_name + \".html\", \"w\")  as file:\n",
    "        file.write(req.text)\n",
    "        file.close()\n",
    "    return \"pages/\" + page_list_name + \".html\""
   ]
  },
  {
   "cell_type": "code",
   "execution_count": 5,
   "id": "f8e27ee4",
   "metadata": {},
   "outputs": [],
   "source": [
    "#def get_source_selenium(url_):\n",
    "#    options = Options()\n",
    "#    options.add_argument(\"--headless\")\n",
    "#    driver = webdriver.Chrome(options=options, executable_path=\"/Users/victor/Downloads/chromedriver\")\n",
    "#    driver.get(url_)\n",
    "#    page_source = driver.page_source\n",
    "#    driver.quit()\n",
    "#    return page_source"
   ]
  },
  {
   "cell_type": "code",
   "execution_count": null,
   "id": "32ef471c",
   "metadata": {},
   "outputs": [],
   "source": [
    "scrap = 1\n",
    "page_=1\n",
    "#\n",
    "while scrap==1:\n",
    "    html_file = requests.get(f\"https://www.fulloccaz.com/?&page={page_}\", headers=headers)\n",
    "    last_saved_file = save_page_list(html_file, page=page_)\n",
    "    \n",
    "    with open(last_saved_file, 'r') as f:\n",
    "        readable_html = f.read()\n",
    "        prices = get_prices_from_pages(readable_html)\n",
    "    if len(prices) == 0:\n",
    "        scrap=0\n",
    "\n",
    "    page_ += 1    \n",
    "    time.sleep(random.randint(1, 3))\n",
    "    print(\"page saved: \" + str(page_))"
   ]
  },
  {
   "cell_type": "markdown",
   "id": "9364631f",
   "metadata": {},
   "source": [
    "# Extract data from pages"
   ]
  },
  {
   "cell_type": "markdown",
   "id": "c1f26e30",
   "metadata": {},
   "source": [
    "## Test file"
   ]
  },
  {
   "cell_type": "code",
   "execution_count": 4,
   "id": "43462f70",
   "metadata": {},
   "outputs": [
    {
     "data": {
      "text/plain": [
       "'fulloccaz-2021-06-05_18h16-27.html'"
      ]
     },
     "execution_count": 4,
     "metadata": {},
     "output_type": "execute_result"
    }
   ],
   "source": [
    "file_test_name = [file for file in os.listdir(\"pages\") if file.endswith(\"html\")][-2]\n",
    "file_test_name"
   ]
  },
  {
   "cell_type": "code",
   "execution_count": 5,
   "id": "4aa3921d",
   "metadata": {},
   "outputs": [
    {
     "data": {
      "text/plain": [
       "'pages/fulloccaz-2021-06-05_18h16-27.html'"
      ]
     },
     "execution_count": 5,
     "metadata": {},
     "output_type": "execute_result"
    }
   ],
   "source": [
    "file_check_x15_good = f\"pages/{file_test_name}\"\n",
    "file_check_x15_good"
   ]
  },
  {
   "cell_type": "markdown",
   "id": "fae16044",
   "metadata": {},
   "source": [
    "## Get prices from pages"
   ]
  },
  {
   "cell_type": "code",
   "execution_count": 6,
   "id": "d77e1e8f",
   "metadata": {},
   "outputs": [],
   "source": [
    "def get_prices_from_pages(r):\n",
    "    \n",
    "    # set empty price list\n",
    "    price_list = []\n",
    "    \n",
    "    # get soup\n",
    "    soup = BeautifulSoup(r, 'html.parser')\n",
    "    \n",
    "    # extract price\n",
    "    step1 = soup.select('div[id*=\"IDVignettes\"]')\n",
    "    if len(step1) > 0:\n",
    "        step2 = step1[0].select('div[class*=\"CLPrix\"]')\n",
    "        if len(step2) > 0:\n",
    "            for k in step2:\n",
    "                try:\n",
    "                    price_list.append(float(\"\".join(re.findall(\"[0-9]\", k.text.replace(\"\\n\", \"\").replace(\"\\t\", \"\")))))\n",
    "                except:\n",
    "                    price_list.append(np.nan)    \n",
    "    return price_list"
   ]
  },
  {
   "cell_type": "code",
   "execution_count": 7,
   "id": "3f50cfed",
   "metadata": {},
   "outputs": [
    {
     "data": {
      "text/plain": [
       "[6490.0,\n",
       " 9590.0,\n",
       " 5290.0,\n",
       " 10790.0,\n",
       " 13590.0,\n",
       " 1290.0,\n",
       " 7990.0,\n",
       " 4500.0,\n",
       " 3490.0,\n",
       " 8999.0,\n",
       " 1350.0,\n",
       " 5590.0]"
      ]
     },
     "execution_count": 7,
     "metadata": {},
     "output_type": "execute_result"
    }
   ],
   "source": [
    "with open(file_check_x15_good, 'r') as f:\n",
    "    readable_html = f.read()\n",
    "    prices = get_prices_from_pages(readable_html)\n",
    "prices"
   ]
  },
  {
   "cell_type": "markdown",
   "id": "97c1da14",
   "metadata": {},
   "source": [
    "## Get url from pages"
   ]
  },
  {
   "cell_type": "code",
   "execution_count": 8,
   "id": "f804534c",
   "metadata": {},
   "outputs": [],
   "source": [
    "def get_urls_from_pages(r):\n",
    "    \n",
    "    # set empty url list\n",
    "    url_list = []\n",
    "    \n",
    "    # get soup\n",
    "    soup = BeautifulSoup(r, 'html.parser')\n",
    "    \n",
    "    # extract price\n",
    "    step1 = soup.select('div[id*=\"IDVignettes\"]')\n",
    "    if len(step1) > 0:\n",
    "        step2 = step1[0].select('a')\n",
    "        if len(step2) > 0:\n",
    "            for k in step2:\n",
    "                if \"href\" in k.attrs:\n",
    "                    try:\n",
    "                        url_list.append(\"https://www.fulloccaz.com\" + k.attrs[\"href\"])\n",
    "                    except:\n",
    "                        url_list.append(np.nan)    \n",
    "    return url_list"
   ]
  },
  {
   "cell_type": "code",
   "execution_count": 9,
   "id": "d789bb79",
   "metadata": {
    "scrolled": false
   },
   "outputs": [
    {
     "data": {
      "text/plain": [
       "['https://www.fulloccaz.com/fiches/index/2028161-occasion-yamaha-fjr-1300a?',\n",
       " 'https://www.fulloccaz.com/fiches/index/2015502-occasion-kawasaki-versys-650-se-gt?',\n",
       " 'https://www.fulloccaz.com/fiches/index/2033933-occasion-kymco-400-xciting-s?',\n",
       " 'https://www.fulloccaz.com/fiches/index/2049541-occasion-triumph-street-triple-765-rs?',\n",
       " 'https://www.fulloccaz.com/fiches/index/2033378-occasion-yamaha-niken-850?',\n",
       " 'https://www.fulloccaz.com/fiches/index/2030313-occasion-kymco-zing-125-zing125?',\n",
       " 'https://www.fulloccaz.com/fiches/index/2049506-occasion-kymco-ak-550-abs-e4-7990?',\n",
       " 'https://www.fulloccaz.com/fiches/index/2048061-occasion-300-mp3?',\n",
       " 'https://www.fulloccaz.com/fiches/index/2040258-occasion-honda-cbf-1000-f?',\n",
       " 'https://www.fulloccaz.com/fiches/index/2049473-occasion-yamaha-tracer-900-gt?',\n",
       " 'https://www.fulloccaz.com/fiches/index/2035911-occasion-yamaha-majesty-125?',\n",
       " 'https://www.fulloccaz.com/fiches/index/2016668-occasion-kymco-xciting-400i-s?']"
      ]
     },
     "execution_count": 9,
     "metadata": {},
     "output_type": "execute_result"
    }
   ],
   "source": [
    "with open(file_check_x15_good, 'r') as f:\n",
    "    readable_html = f.read()\n",
    "    urls = get_urls_from_pages(readable_html)\n",
    "urls"
   ]
  },
  {
   "cell_type": "markdown",
   "id": "a78eb3ed",
   "metadata": {},
   "source": [
    "## Get references from pages"
   ]
  },
  {
   "cell_type": "code",
   "execution_count": 10,
   "id": "01808c0d",
   "metadata": {},
   "outputs": [],
   "source": [
    "def get_references_from_url_list(url_list_):\n",
    "    \n",
    "    # set empty ref list\n",
    "    ref_list = []\n",
    "    \n",
    "    for k in url_list_:\n",
    "        try:\n",
    "            ref_list.append(k.split(\"/\")[5].split(\"-\")[0])\n",
    "        except:\n",
    "            ref_list.append(np.nan)\n",
    "    #                \n",
    "    return ref_list"
   ]
  },
  {
   "cell_type": "code",
   "execution_count": 11,
   "id": "50dc8a84",
   "metadata": {},
   "outputs": [
    {
     "data": {
      "text/plain": [
       "['2028161',\n",
       " '2015502',\n",
       " '2033933',\n",
       " '2049541',\n",
       " '2033378',\n",
       " '2030313',\n",
       " '2049506',\n",
       " '2048061',\n",
       " '2040258',\n",
       " '2049473',\n",
       " '2035911',\n",
       " '2016668']"
      ]
     },
     "execution_count": 11,
     "metadata": {},
     "output_type": "execute_result"
    }
   ],
   "source": [
    "get_references_from_url_list(urls)"
   ]
  },
  {
   "cell_type": "markdown",
   "id": "0008c0f7",
   "metadata": {},
   "source": [
    "# Download single announce pages"
   ]
  },
  {
   "cell_type": "code",
   "execution_count": 12,
   "id": "e66e1799",
   "metadata": {},
   "outputs": [],
   "source": [
    "data_fulloccaz = \"../../../tresboncoin/data/fulloccaz.csv\"\n",
    "#data = pd.read_csv(data_motoplanete)"
   ]
  },
  {
   "cell_type": "code",
   "execution_count": 13,
   "id": "169a1163",
   "metadata": {},
   "outputs": [],
   "source": [
    "def add_the_announce(df, uniq_id, price):\n",
    "    if int(uniq_id) in list(df[\"unique id\"]):\n",
    "        index_ = df.index[df['unique id'] == int(uniq_id)].tolist()[0]\n",
    "        \n",
    "        # if an announce with same uniq id and same price is found, return true and skip\n",
    "        return df.iloc[index_][\"price\"]!=price\n",
    "    \n",
    "    # else, return false and add the announce\n",
    "    return True"
   ]
  },
  {
   "cell_type": "code",
   "execution_count": 14,
   "id": "c20917e2",
   "metadata": {},
   "outputs": [],
   "source": [
    "def save_page_uniq(req, uniq_id):\n",
    "    datetime_1 = datetime.datetime.now().strftime(\"%Y-%m-%d_%Hh%M\")\n",
    "    page_name = \"fulloccaz\" + \"-\" + uniq_id + \"-\" + datetime_1\n",
    "    with open(\"annonces/\" + page_name + \".html\", \"w\")  as file:\n",
    "        file.write(req.text)\n",
    "        file.close()"
   ]
  },
  {
   "cell_type": "code",
   "execution_count": 15,
   "id": "8140f5cf",
   "metadata": {},
   "outputs": [],
   "source": [
    "def file_exists(uniq_id):\n",
    "    for k in os.listdir(\"annonces\"):\n",
    "        if \"-\" + str(uniq_id) + \"-\" in k:\n",
    "            return True\n",
    "    return False"
   ]
  },
  {
   "cell_type": "code",
   "execution_count": 304,
   "id": "a71e34a4",
   "metadata": {},
   "outputs": [],
   "source": [
    "#qq = \"https://www.fulloccaz.com/fiches/index/2016930-occasion-piaggio-mp3-300-hpe-abs-asr?\"\n",
    "#req_uniq = requests.get(qq, headers = headers)\n",
    "#save_page_uniq(req_uniq, \"2016930\")"
   ]
  },
  {
   "cell_type": "code",
   "execution_count": null,
   "id": "1286c1e8",
   "metadata": {
    "scrolled": false
   },
   "outputs": [],
   "source": [
    "announce_count = 1\n",
    "page_count = 0\n",
    "for html_file in [file for file in os.listdir(\"pages\") if file.endswith(\"html\")]:\n",
    "    page_count +=1\n",
    "    print(\"page n°: \" + str(page_count))\n",
    "    with open(f\"pages/{html_file}\", 'r') as f:\n",
    "        readable_html = f.read()\n",
    "        urls_list = get_urls_from_pages(readable_html)\n",
    "        unique_id = get_references_from_url_list(urls_list)\n",
    "        prices_list = get_prices_from_pages(readable_html)\n",
    "    if urls_list != None:\n",
    "        for url_single, uniq_id, price_ in zip(urls_list, unique_id, prices_list):\n",
    "            \n",
    "            #if add_the_announce(data_price, uniq_id, price_):\n",
    "            #html_file = get_source_selenium(url_single)\n",
    "            if file_exists(uniq_id) == False:\n",
    "                req_uniq = requests.get(url_single, headers = headers)\n",
    "                save_page_uniq(req_uniq, uniq_id)\n",
    "                print(str(page_count) + \". saved page id: \" + uniq_id)\n",
    "                time.sleep(random.randint(1, 5))\n",
    "                announce_count += 1\n",
    "            else:\n",
    "                print(announce_count, url_single + \" --> skipped\")\n",
    "                announce_count += 1"
   ]
  },
  {
   "cell_type": "markdown",
   "id": "2ad77ee1",
   "metadata": {},
   "source": [
    "# Process single announces\n",
    "Saving scaled images x3 and adding announce to DataFrame"
   ]
  },
  {
   "cell_type": "code",
   "execution_count": 438,
   "id": "354ca601",
   "metadata": {},
   "outputs": [
    {
     "data": {
      "text/html": [
       "<div>\n",
       "<style scoped>\n",
       "    .dataframe tbody tr th:only-of-type {\n",
       "        vertical-align: middle;\n",
       "    }\n",
       "\n",
       "    .dataframe tbody tr th {\n",
       "        vertical-align: top;\n",
       "    }\n",
       "\n",
       "    .dataframe thead th {\n",
       "        text-align: right;\n",
       "    }\n",
       "</style>\n",
       "<table border=\"1\" class=\"dataframe\">\n",
       "  <thead>\n",
       "    <tr style=\"text-align: right;\">\n",
       "      <th></th>\n",
       "      <th>url</th>\n",
       "      <th>unique id</th>\n",
       "      <th>date_scrapped</th>\n",
       "      <th>announce_publication_date</th>\n",
       "      <th>vehicle brand</th>\n",
       "      <th>vehicle type</th>\n",
       "      <th>color</th>\n",
       "      <th>price</th>\n",
       "      <th>city</th>\n",
       "      <th>postal code</th>\n",
       "      <th>seller</th>\n",
       "      <th>seller_name</th>\n",
       "      <th>vehicle release date</th>\n",
       "      <th>mileage</th>\n",
       "      <th>motorisation</th>\n",
       "      <th>fiscal power</th>\n",
       "      <th>guarantee</th>\n",
       "      <th>hand</th>\n",
       "      <th>chassis</th>\n",
       "      <th>engine capacity [CC]</th>\n",
       "      <th>comments</th>\n",
       "    </tr>\n",
       "  </thead>\n",
       "  <tbody>\n",
       "    <tr>\n",
       "      <th>0</th>\n",
       "      <td>NaN</td>\n",
       "      <td>NaN</td>\n",
       "      <td>NaN</td>\n",
       "      <td>NaN</td>\n",
       "      <td>NaN</td>\n",
       "      <td>NaN</td>\n",
       "      <td>NaN</td>\n",
       "      <td>NaN</td>\n",
       "      <td>NaN</td>\n",
       "      <td>NaN</td>\n",
       "      <td>NaN</td>\n",
       "      <td>NaN</td>\n",
       "      <td>NaN</td>\n",
       "      <td>NaN</td>\n",
       "      <td>NaN</td>\n",
       "      <td>NaN</td>\n",
       "      <td>NaN</td>\n",
       "      <td>NaN</td>\n",
       "      <td>NaN</td>\n",
       "      <td>NaN</td>\n",
       "      <td>NaN</td>\n",
       "    </tr>\n",
       "  </tbody>\n",
       "</table>\n",
       "</div>"
      ],
      "text/plain": [
       "   url  unique id  date_scrapped  announce_publication_date  vehicle brand  \\\n",
       "0  NaN        NaN            NaN                        NaN            NaN   \n",
       "\n",
       "   vehicle type  color  price  city  postal code  seller  seller_name  \\\n",
       "0           NaN    NaN    NaN   NaN          NaN     NaN          NaN   \n",
       "\n",
       "   vehicle release date  mileage  motorisation  fiscal power  guarantee  hand  \\\n",
       "0                   NaN      NaN           NaN           NaN        NaN   NaN   \n",
       "\n",
       "   chassis  engine capacity [CC]  comments  \n",
       "0      NaN                   NaN       NaN  "
      ]
     },
     "execution_count": 438,
     "metadata": {},
     "output_type": "execute_result"
    }
   ],
   "source": [
    "announce_template = pd.DataFrame({\"url\": [np.nan],\n",
    "                                  \"unique id\": [np.nan],\n",
    "                                  \"date_scrapped\": [np.nan],\n",
    "                                  \"announce_publication_date\": [np.nan],\n",
    "                                  \"vehicle brand\": [np.nan],\n",
    "                                  \"vehicle type\": [np.nan],\n",
    "                                  \"color\": [np.nan],\n",
    "                                  \"price\": [np.nan],\n",
    "                                  \"city\": [np.nan],\n",
    "                                  \"postal code\": [np.nan],\n",
    "                                  \"seller\": [np.nan],\n",
    "                                  \"seller_name\": [np.nan],\n",
    "                                  \"vehicle release date\": [np.nan],\n",
    "                                  \"mileage\": [np.nan],\n",
    "                                  \"motorisation\": [np.nan],\n",
    "                                  \"fiscal power\": [np.nan],\n",
    "                                  \"guarantee\": [np.nan],\n",
    "                                  \"hand\": [np.nan],\n",
    "                                  \"chassis\": [np.nan],\n",
    "                                  \"engine capacity [CC]\": [np.nan],\n",
    "                                  \"comments\": [np.nan]})\n",
    "announce_template"
   ]
  },
  {
   "cell_type": "markdown",
   "id": "4a1a8ab8",
   "metadata": {},
   "source": [
    "## test announce"
   ]
  },
  {
   "cell_type": "code",
   "execution_count": 439,
   "id": "11a31c99",
   "metadata": {},
   "outputs": [
    {
     "data": {
      "text/plain": [
       "'annonces/fulloccaz-2015545-2021-06-06_12h24.html'"
      ]
     },
     "execution_count": 439,
     "metadata": {},
     "output_type": "execute_result"
    }
   ],
   "source": [
    "file_name = os.listdir(\"annonces\")[-1]\n",
    "#\n",
    "file_check_single = f\"annonces/{file_name}\"\n",
    "file_check_single"
   ]
  },
  {
   "cell_type": "markdown",
   "id": "6b786486",
   "metadata": {},
   "source": [
    "## Functions"
   ]
  },
  {
   "cell_type": "markdown",
   "id": "34e74c24",
   "metadata": {},
   "source": [
    "### Get url"
   ]
  },
  {
   "cell_type": "code",
   "execution_count": 440,
   "id": "a8b79c23",
   "metadata": {},
   "outputs": [],
   "source": [
    "def get_url(r):\n",
    "    \n",
    "    # get soup\n",
    "    soup = BeautifulSoup(r, 'html.parser')\n",
    "    \n",
    "    # extract url\n",
    "    step1 = soup.select('form[class*=\"CLFboxForm\"]')\n",
    "    if len(step1)>0:\n",
    "        try:\n",
    "            return step1[0].attrs[\"pagesite\"]\n",
    "        except:\n",
    "            return np.nan\n",
    "    return np.nan"
   ]
  },
  {
   "cell_type": "code",
   "execution_count": 441,
   "id": "d32ca78c",
   "metadata": {
    "scrolled": false
   },
   "outputs": [
    {
     "data": {
      "text/plain": [
       "'https://www.fulloccaz.com/fiches/index/2015545-occasion-bmw-r1200rt'"
      ]
     },
     "execution_count": 441,
     "metadata": {},
     "output_type": "execute_result"
    }
   ],
   "source": [
    "with open(file_check_single, 'r') as f:\n",
    "    readable_html = f.read()\n",
    "    g_url = get_url(readable_html)\n",
    "g_url"
   ]
  },
  {
   "cell_type": "markdown",
   "id": "f94d3ed0",
   "metadata": {},
   "source": [
    "### Get unique id"
   ]
  },
  {
   "cell_type": "code",
   "execution_count": 491,
   "id": "e3f247a3",
   "metadata": {},
   "outputs": [],
   "source": [
    "def get_uniq_id(url_):\n",
    "    try:\n",
    "        return url_.split(\"/\")[-1].split(\"-\")[0]\n",
    "    except:\n",
    "        return np.nan"
   ]
  },
  {
   "cell_type": "code",
   "execution_count": 492,
   "id": "9fb60540",
   "metadata": {},
   "outputs": [
    {
     "data": {
      "text/plain": [
       "'2015545'"
      ]
     },
     "execution_count": 492,
     "metadata": {},
     "output_type": "execute_result"
    }
   ],
   "source": [
    "with open(file_check_single, 'r') as f:\n",
    "    readable_html = f.read()\n",
    "    g_url = get_url(readable_html)\n",
    "get_uniq_id(g_url)"
   ]
  },
  {
   "cell_type": "markdown",
   "id": "4daaf16e",
   "metadata": {},
   "source": [
    "### get publication date"
   ]
  },
  {
   "cell_type": "code",
   "execution_count": 444,
   "id": "5ca647ac",
   "metadata": {},
   "outputs": [],
   "source": [
    "def get_publication_date(r):\n",
    "\n",
    "    # get soup\n",
    "    soup = BeautifulSoup(r, 'html.parser')\n",
    "    \n",
    "    # extract\n",
    "    step1 = soup.select('div[class*=\"CLInfosAnnonces\"]')\n",
    "    if len(step1)>0:\n",
    "        step2 = step1[0].select('tr')\n",
    "        if len(step2) > 0:\n",
    "            for k in step2:\n",
    "                if k.select('td')[0].text.find(\"Mise à jour\") >= 0:\n",
    "                    try:\n",
    "                        return k.select('td')[1].text\n",
    "                    except:\n",
    "                        return np.nan\n",
    "    else:\n",
    "        return np.nan"
   ]
  },
  {
   "cell_type": "code",
   "execution_count": 445,
   "id": "fd4141c0",
   "metadata": {},
   "outputs": [
    {
     "data": {
      "text/plain": [
       "'05/06/2021'"
      ]
     },
     "execution_count": 445,
     "metadata": {},
     "output_type": "execute_result"
    }
   ],
   "source": [
    "with open(file_check_single, 'r') as f:\n",
    "    readable_html = f.read()\n",
    "    g_pub = get_publication_date(readable_html)\n",
    "g_pub"
   ]
  },
  {
   "cell_type": "markdown",
   "id": "76f23b49",
   "metadata": {},
   "source": [
    "### Get vehicule brand"
   ]
  },
  {
   "cell_type": "code",
   "execution_count": 446,
   "id": "18fd32ca",
   "metadata": {},
   "outputs": [],
   "source": [
    "def get_brand_and_model(r):\n",
    "    \n",
    "    # get soup\n",
    "    soup = BeautifulSoup(r, 'html.parser')\n",
    "    \n",
    "    # extract\n",
    "    step1 = soup.select('h1')\n",
    "    if len(step1)>0:\n",
    "        return step1[0].text\n",
    "    else:\n",
    "        return None"
   ]
  },
  {
   "cell_type": "code",
   "execution_count": 447,
   "id": "79dc7f43",
   "metadata": {},
   "outputs": [
    {
     "data": {
      "text/plain": [
       "'BMW R1200RT'"
      ]
     },
     "execution_count": 447,
     "metadata": {},
     "output_type": "execute_result"
    }
   ],
   "source": [
    "with open(file_check_single, 'r') as f:\n",
    "    readable_html = f.read()\n",
    "    g_brand = get_brand_and_model(readable_html)\n",
    "g_brand"
   ]
  },
  {
   "cell_type": "markdown",
   "id": "c2f5cc1a",
   "metadata": {},
   "source": [
    "### Get vehicule type"
   ]
  },
  {
   "cell_type": "code",
   "execution_count": 448,
   "id": "3b8264aa",
   "metadata": {},
   "outputs": [],
   "source": [
    "def get_type(r):\n",
    "    \n",
    "    # get soup\n",
    "    soup = BeautifulSoup(r, 'html.parser')\n",
    "    \n",
    "    # extract\n",
    "    step1 = soup.select('div[class*=\"CLInfosAnnonces\"]')\n",
    "    if len(step1)>0:\n",
    "        step2 = step1[0].select('tr')\n",
    "        if len(step2) > 0:\n",
    "            for k in step2:\n",
    "                if k.select('td')[0].text.find(\"Catégorie\") >= 0:\n",
    "                    try:\n",
    "                        return k.select('td')[1].text\n",
    "                    except:\n",
    "                        return np.nan\n",
    "    else:\n",
    "        return np.nan"
   ]
  },
  {
   "cell_type": "code",
   "execution_count": 449,
   "id": "dd4db3dc",
   "metadata": {},
   "outputs": [
    {
     "data": {
      "text/plain": [
       "'Routière'"
      ]
     },
     "execution_count": 449,
     "metadata": {},
     "output_type": "execute_result"
    }
   ],
   "source": [
    "with open(file_check_single, 'r') as f:\n",
    "    readable_html = f.read()\n",
    "    g_type = get_type(readable_html)\n",
    "g_type"
   ]
  },
  {
   "cell_type": "markdown",
   "id": "c7140f84",
   "metadata": {},
   "source": [
    "### get color"
   ]
  },
  {
   "cell_type": "code",
   "execution_count": 450,
   "id": "3f7fae62",
   "metadata": {},
   "outputs": [],
   "source": [
    "def get_color(r):\n",
    "    \n",
    "    # get soup\n",
    "    soup = BeautifulSoup(r, 'html.parser')\n",
    "    \n",
    "    \n",
    "    # extract\n",
    "    step1 = soup.select('div[class*=\"CLInfosAnnonces\"]')\n",
    "    if len(step1)>0:\n",
    "        step2 = step1[0].select('tr')\n",
    "        if len(step2) > 0:\n",
    "            for k in step2:\n",
    "                if k.select('td')[0].text.find(\"Couleur\") >= 0:\n",
    "                    try:\n",
    "                        return k.select('td')[1].text\n",
    "                    except:\n",
    "                        return np.nan\n",
    "    else:\n",
    "        return np.nan"
   ]
  },
  {
   "cell_type": "code",
   "execution_count": 451,
   "id": "ba9c6abc",
   "metadata": {},
   "outputs": [],
   "source": [
    "with open(file_check_single, 'r') as f:\n",
    "    readable_html = f.read()\n",
    "    g_type = get_color(readable_html)\n",
    "g_type"
   ]
  },
  {
   "cell_type": "markdown",
   "id": "2ad27662",
   "metadata": {},
   "source": [
    "### get price"
   ]
  },
  {
   "cell_type": "code",
   "execution_count": 452,
   "id": "fb13bb48",
   "metadata": {},
   "outputs": [],
   "source": [
    "def get_price(r):\n",
    "    \n",
    "    # get soup\n",
    "    soup = BeautifulSoup(r, 'html.parser')\n",
    "\n",
    "    # extract\n",
    "    step1 = soup.select('div[class*=\"CLInfosAnnonces\"]')\n",
    "    if len(step1)>0:\n",
    "        step2 = step1[0].select('tr')\n",
    "        if len(step2) > 0:\n",
    "            for k in step2:\n",
    "                if k.select('td')[0].text.find(\"Prix\") >= 0:\n",
    "                    try:\n",
    "                        return float(\"\".join(re.findall(\"\\d+\", k.select('td')[1].text)))\n",
    "                    except:\n",
    "                        return np.nan\n",
    "    else:\n",
    "        return np.nan"
   ]
  },
  {
   "cell_type": "code",
   "execution_count": 453,
   "id": "2cda5a45",
   "metadata": {},
   "outputs": [
    {
     "data": {
      "text/plain": [
       "5990.0"
      ]
     },
     "execution_count": 453,
     "metadata": {},
     "output_type": "execute_result"
    }
   ],
   "source": [
    "with open(file_check_single, 'r') as f:\n",
    "    readable_html = f.read()\n",
    "    g_type = get_price(readable_html)\n",
    "g_type"
   ]
  },
  {
   "cell_type": "markdown",
   "id": "8ad9f2a6",
   "metadata": {},
   "source": [
    "### get city"
   ]
  },
  {
   "cell_type": "code",
   "execution_count": 454,
   "id": "c6dd5e0e",
   "metadata": {},
   "outputs": [],
   "source": [
    "def get_city(r):\n",
    "    \n",
    "    # get soup\n",
    "    soup = BeautifulSoup(r, 'html.parser')\n",
    "    \n",
    "    # extract\n",
    "    step1 = soup.select('div[class*=\"CLAnnonceConcession\"]')\n",
    "    if len(step1)>0:\n",
    "        try:\n",
    "            check_paris = step1[0].select('div[id*=\"IDadresse\"]')[0].text.split(\"\\n\")[-1].replace(\"\\t\", \" \").strip().split(\" \")\n",
    "            if len(re.findall(\"\\d+\", check_paris[-1])) > 0:\n",
    "                return check_paris[-2]\n",
    "            else:\n",
    "                return check_paris[-1]\n",
    "        except:\n",
    "            return np.nan\n",
    "    return None"
   ]
  },
  {
   "cell_type": "code",
   "execution_count": 455,
   "id": "ca22778d",
   "metadata": {
    "scrolled": false
   },
   "outputs": [
    {
     "data": {
      "text/plain": [
       "'ORVAULT'"
      ]
     },
     "execution_count": 455,
     "metadata": {},
     "output_type": "execute_result"
    }
   ],
   "source": [
    "with open(file_check_single, 'r') as f:\n",
    "    readable_html = f.read()\n",
    "    g_city = get_city(readable_html)\n",
    "g_city"
   ]
  },
  {
   "cell_type": "markdown",
   "id": "4124bf5f",
   "metadata": {},
   "source": [
    "### get postal code"
   ]
  },
  {
   "cell_type": "code",
   "execution_count": 456,
   "id": "758cca57",
   "metadata": {},
   "outputs": [],
   "source": [
    "def get_postal(r):\n",
    "    \n",
    "    # get soup\n",
    "    soup = BeautifulSoup(r, 'html.parser')\n",
    "    \n",
    "    # extract\n",
    "    step1 = soup.select('div[class*=\"CLAnnonceConcession\"]')\n",
    "    if len(step1)>0:\n",
    "        try:\n",
    "            splited_adress = step1[0].select('div[id*=\"IDadresse\"]')[0].text.split(\"\\n\")[-1].replace(\"\\t\", \" \").strip().split(\" \")\n",
    "            for k in splited_adress:\n",
    "                find_post_code = re.findall(\"[0-9]{5}\", k)\n",
    "                if len(find_post_code) == 1:\n",
    "                    return find_post_code[0]\n",
    "        except:\n",
    "            pass\n",
    "    return np.nan"
   ]
  },
  {
   "cell_type": "code",
   "execution_count": 457,
   "id": "68b4d657",
   "metadata": {},
   "outputs": [
    {
     "data": {
      "text/plain": [
       "'44700'"
      ]
     },
     "execution_count": 457,
     "metadata": {},
     "output_type": "execute_result"
    }
   ],
   "source": [
    "with open(file_check_single, 'r') as f:\n",
    "    readable_html = f.read()\n",
    "    g_post = get_postal(readable_html)\n",
    "g_post"
   ]
  },
  {
   "cell_type": "markdown",
   "id": "a6161164",
   "metadata": {},
   "source": [
    "### get seller"
   ]
  },
  {
   "cell_type": "code",
   "execution_count": 458,
   "id": "e0a52668",
   "metadata": {},
   "outputs": [],
   "source": [
    "def get_seller(r):\n",
    "    \n",
    "    # get soup\n",
    "    soup = BeautifulSoup(r, 'html.parser')\n",
    "    \n",
    "    # extract\n",
    "    step1 = soup.select('div[class*=\"CLAnnonceConcession\"]')\n",
    "    if len(step1)>0:\n",
    "        try:\n",
    "            step2 = step1[0].select(\"strong\")[0].text.split(\":\")\n",
    "            return step2[-1].strip()\n",
    "        except:\n",
    "            pass\n",
    "    return np.nan"
   ]
  },
  {
   "cell_type": "code",
   "execution_count": 459,
   "id": "e98e7c51",
   "metadata": {},
   "outputs": [
    {
     "data": {
      "text/plain": [
       "'NANTES MOTO'"
      ]
     },
     "execution_count": 459,
     "metadata": {},
     "output_type": "execute_result"
    }
   ],
   "source": [
    "with open(file_check_single, 'r') as f:\n",
    "    readable_html = f.read()\n",
    "    g_seller = get_seller(readable_html)\n",
    "g_seller"
   ]
  },
  {
   "cell_type": "markdown",
   "id": "3e1f6539",
   "metadata": {},
   "source": [
    "### get seller name"
   ]
  },
  {
   "cell_type": "code",
   "execution_count": 460,
   "id": "33a3d3ae",
   "metadata": {},
   "outputs": [],
   "source": [
    "def get_seller_name(r):\n",
    "    \n",
    "    # get soup\n",
    "    soup = BeautifulSoup(r, 'html.parser')\n",
    "    \n",
    "    # extract\n",
    "    step1 = soup.select('div[class*=\"CLAnnonceConcession\"]')\n",
    "    if len(step1)>0:\n",
    "        try:\n",
    "            step2 = step1[0].select('div[id*=\"IDadresse\"]')\n",
    "            step3 = step2[0].text.replace(\"\\t\", \" \").split(\"\\n\")\n",
    "            for k in step3:\n",
    "                if k.find(\"Votre contact\") >= 0:\n",
    "                    return k.split(\":\")[-1].strip()\n",
    "        except:\n",
    "            pass\n",
    "    return np.nan"
   ]
  },
  {
   "cell_type": "code",
   "execution_count": 461,
   "id": "e7318a38",
   "metadata": {},
   "outputs": [
    {
     "data": {
      "text/plain": [
       "'Un commercial, Steven ou David'"
      ]
     },
     "execution_count": 461,
     "metadata": {},
     "output_type": "execute_result"
    }
   ],
   "source": [
    "with open(file_check_single, 'r') as f:\n",
    "    readable_html = f.read()\n",
    "    g_seller_name = get_seller_name(readable_html)\n",
    "g_seller_name"
   ]
  },
  {
   "cell_type": "markdown",
   "id": "f63a3b65",
   "metadata": {},
   "source": [
    "### get vehicle release date"
   ]
  },
  {
   "cell_type": "code",
   "execution_count": 462,
   "id": "8457cad6",
   "metadata": {},
   "outputs": [],
   "source": [
    "def get_release(r):\n",
    "    \n",
    "    # get soup\n",
    "    soup = BeautifulSoup(r, 'html.parser')\n",
    "    \n",
    "    # extract\n",
    "    step1 = soup.select('div[class*=\"CLInfosAnnonces\"]')\n",
    "    if len(step1)>0:\n",
    "        step2 = step1[0].select('tr')\n",
    "        if len(step2) > 0:\n",
    "            for k in step2:\n",
    "                if k.select('td')[0].text.find(\"Date de mise\") >= 0:\n",
    "                    try:\n",
    "                        return k.select('td')[1].text\n",
    "                    except:\n",
    "                        return np.nan\n",
    "    else:\n",
    "        return np.nan"
   ]
  },
  {
   "cell_type": "code",
   "execution_count": 463,
   "id": "c0a3b118",
   "metadata": {},
   "outputs": [
    {
     "data": {
      "text/plain": [
       "'04/08/2009'"
      ]
     },
     "execution_count": 463,
     "metadata": {},
     "output_type": "execute_result"
    }
   ],
   "source": [
    "with open(file_check_single, 'r') as f:\n",
    "    readable_html = f.read()\n",
    "    g_rel = get_release(readable_html)\n",
    "g_rel"
   ]
  },
  {
   "cell_type": "markdown",
   "id": "a198c391",
   "metadata": {},
   "source": [
    "### get vehicle mileage"
   ]
  },
  {
   "cell_type": "code",
   "execution_count": 464,
   "id": "b5b09439",
   "metadata": {},
   "outputs": [],
   "source": [
    "def get_mileage(r):\n",
    "    \n",
    "    # get soup\n",
    "    soup = BeautifulSoup(r, 'html.parser')\n",
    "    \n",
    "    # extract\n",
    "    step1 = soup.select('div[class*=\"CLInfosAnnonces\"]')\n",
    "    if len(step1)>0:\n",
    "        step2 = step1[0].select('tr')\n",
    "        if len(step2) > 0:\n",
    "            for k in step2:\n",
    "                if k.select('td')[0].text.find(\"Kilom\") >= 0:\n",
    "                    try:\n",
    "                        return float(re.findall(\"\\d+\", k.select('td')[1].text)[0])\n",
    "                    except:\n",
    "                        return np.nan\n",
    "    else:\n",
    "        return np.nan"
   ]
  },
  {
   "cell_type": "code",
   "execution_count": 465,
   "id": "9a76fbad",
   "metadata": {},
   "outputs": [
    {
     "data": {
      "text/plain": [
       "103000.0"
      ]
     },
     "execution_count": 465,
     "metadata": {},
     "output_type": "execute_result"
    }
   ],
   "source": [
    "with open(file_check_single, 'r') as f:\n",
    "    readable_html = f.read()\n",
    "    g_mileage = get_mileage(readable_html)\n",
    "g_mileage"
   ]
  },
  {
   "cell_type": "markdown",
   "id": "cf637222",
   "metadata": {},
   "source": [
    "### get engine capacity"
   ]
  },
  {
   "cell_type": "code",
   "execution_count": 466,
   "id": "513cf5bb",
   "metadata": {},
   "outputs": [],
   "source": [
    "def get_capa(r):\n",
    "    \n",
    "    # get soup\n",
    "    soup = BeautifulSoup(r, 'html.parser')\n",
    "    \n",
    "    # extract\n",
    "    step1 = soup.select('div[class*=\"CLInfosAnnonces\"]')\n",
    "    if len(step1)>0:\n",
    "        step2 = step1[0].select('tr')\n",
    "        if len(step2) > 0:\n",
    "            for k in step2:\n",
    "                if k.select('td')[0].text.find(\"Cylind\") >= 0:\n",
    "                    try:\n",
    "                        return float(re.findall(\"\\d+\", k.select('td')[1].text)[0])\n",
    "                    except:\n",
    "                        return np.nan\n",
    "    else:\n",
    "        return np.nan"
   ]
  },
  {
   "cell_type": "code",
   "execution_count": 467,
   "id": "0df5fe56",
   "metadata": {},
   "outputs": [
    {
     "data": {
      "text/plain": [
       "1200.0"
      ]
     },
     "execution_count": 467,
     "metadata": {},
     "output_type": "execute_result"
    }
   ],
   "source": [
    "with open(file_check_single, 'r') as f:\n",
    "    readable_html = f.read()\n",
    "    g_capa = get_capa(readable_html)\n",
    "g_capa"
   ]
  },
  {
   "cell_type": "markdown",
   "id": "bda3ec00",
   "metadata": {},
   "source": [
    "### get engine type"
   ]
  },
  {
   "cell_type": "code",
   "execution_count": 468,
   "id": "0e55fd54",
   "metadata": {},
   "outputs": [],
   "source": [
    "def get_engine_type(r):\n",
    "    \n",
    "    # get soup\n",
    "    soup = BeautifulSoup(r, 'html.parser')\n",
    "    \n",
    "    # extract\n",
    "    step1 = soup.select('div[class*=\"CLInfosAnnonces\"]')\n",
    "    if len(step1)>0:\n",
    "        step2 = step1[0].select('tr')\n",
    "        if len(step2) > 0:\n",
    "            for k in step2:\n",
    "                if k.select('td')[0].text.find(\"Motori\") >= 0:\n",
    "                    try:\n",
    "                        return k.select('td')[1].text\n",
    "                    except:\n",
    "                        return np.nan\n",
    "    else:\n",
    "        return np.nan"
   ]
  },
  {
   "cell_type": "code",
   "execution_count": 469,
   "id": "737b05b4",
   "metadata": {},
   "outputs": [
    {
     "data": {
      "text/plain": [
       "'4T'"
      ]
     },
     "execution_count": 469,
     "metadata": {},
     "output_type": "execute_result"
    }
   ],
   "source": [
    "with open(file_check_single, 'r') as f:\n",
    "    readable_html = f.read()\n",
    "    g_et = get_engine_type(readable_html)\n",
    "g_et"
   ]
  },
  {
   "cell_type": "markdown",
   "id": "8f044004",
   "metadata": {},
   "source": [
    "### get fiscal power"
   ]
  },
  {
   "cell_type": "code",
   "execution_count": 470,
   "id": "7bed6d33",
   "metadata": {},
   "outputs": [],
   "source": [
    "def get_fiscal_power(r):\n",
    "    \n",
    "    # get soup\n",
    "    soup = BeautifulSoup(r, 'html.parser')\n",
    "    \n",
    "    # extract\n",
    "    step1 = soup.select('div[class*=\"CLInfosAnnonces\"]')\n",
    "    if len(step1)>0:\n",
    "        step2 = step1[0].select('tr')\n",
    "        if len(step2) > 0:\n",
    "            for k in step2:\n",
    "                if k.select('td')[0].text.find(\"Puissance\") >= 0:\n",
    "                    try:\n",
    "                        return k.select('td')[1].text\n",
    "                    except:\n",
    "                        return np.nan\n",
    "    else:\n",
    "        return np.nan"
   ]
  },
  {
   "cell_type": "code",
   "execution_count": 471,
   "id": "80bd7c05",
   "metadata": {},
   "outputs": [],
   "source": [
    "with open(file_check_single, 'r') as f:\n",
    "    readable_html = f.read()\n",
    "    g_fp = get_fiscal_power(readable_html)\n",
    "g_fp"
   ]
  },
  {
   "cell_type": "markdown",
   "id": "1ef20d69",
   "metadata": {},
   "source": [
    "### get guarantee"
   ]
  },
  {
   "cell_type": "code",
   "execution_count": 472,
   "id": "4d501eb5",
   "metadata": {},
   "outputs": [],
   "source": [
    "def get_guarantee(r):\n",
    "    \n",
    "    # get soup\n",
    "    soup = BeautifulSoup(r, 'html.parser')\n",
    "    \n",
    "    # extract\n",
    "    step1 = soup.select('div[class*=\"CLInfosAnnonces\"]')\n",
    "    if len(step1)>0:\n",
    "        step2 = step1[0].select('tr')\n",
    "        if len(step2) > 0:\n",
    "            for k in step2:\n",
    "                if k.select('td')[0].text.find(\"Garant\") >= 0:\n",
    "                    try:\n",
    "                        return k.select('td')[1].text.replace(\"\\n\", \"\").replace(\"\\t\", \"\").strip()\n",
    "                    except:\n",
    "                        return np.nan\n",
    "    else:\n",
    "        return np.nan"
   ]
  },
  {
   "cell_type": "code",
   "execution_count": 473,
   "id": "591e9e97",
   "metadata": {},
   "outputs": [
    {
     "data": {
      "text/plain": [
       "'6 mois'"
      ]
     },
     "execution_count": 473,
     "metadata": {},
     "output_type": "execute_result"
    }
   ],
   "source": [
    "with open(file_check_single, 'r') as f:\n",
    "    readable_html = f.read()\n",
    "    g_guar = get_guarantee(readable_html)\n",
    "g_guar"
   ]
  },
  {
   "cell_type": "markdown",
   "id": "28d7f0a4",
   "metadata": {},
   "source": [
    "### get hand"
   ]
  },
  {
   "cell_type": "code",
   "execution_count": 474,
   "id": "7c2ec681",
   "metadata": {},
   "outputs": [],
   "source": [
    "def get_hand(r):\n",
    "    \n",
    "    # get soup\n",
    "    soup = BeautifulSoup(r, 'html.parser')\n",
    "    \n",
    "    # extract\n",
    "    step1 = soup.select('div[class*=\"CLInfosAnnonces\"]')\n",
    "    if len(step1)>0:\n",
    "        step2 = step1[0].select('tr')\n",
    "        if len(step2) > 0:\n",
    "            for k in step2:\n",
    "                if k.select('td')[0].text.find(\"Première\") >= 0:\n",
    "                    try:\n",
    "                        return \"First hand\"\n",
    "                    except:\n",
    "                        return np.nan\n",
    "    else:\n",
    "        return np.nan"
   ]
  },
  {
   "cell_type": "code",
   "execution_count": 475,
   "id": "b6e12c53",
   "metadata": {},
   "outputs": [],
   "source": [
    "with open(file_check_single, 'r') as f:\n",
    "    readable_html = f.read()\n",
    "    g_hand = get_hand(readable_html)\n",
    "g_hand"
   ]
  },
  {
   "cell_type": "markdown",
   "id": "92cdf8aa",
   "metadata": {},
   "source": [
    "### get chassis"
   ]
  },
  {
   "cell_type": "code",
   "execution_count": 476,
   "id": "27465703",
   "metadata": {},
   "outputs": [],
   "source": [
    "def get_chassis(r):\n",
    "    \n",
    "    # get soup\n",
    "    soup = BeautifulSoup(r, 'html.parser')\n",
    "    \n",
    "    # extract\n",
    "    step1 = soup.select('div[class*=\"CLInfosAnnonces\"]')\n",
    "    if len(step1)>0:\n",
    "        step2 = step1[0].select('tr')\n",
    "        if len(step2) > 0:\n",
    "            for k in step2:\n",
    "                if k.select('td')[0].text.find(\"Chassis\") >= 0:\n",
    "                    try:\n",
    "                        return k.select('td')[1].text\n",
    "                    except:\n",
    "                        return np.nan\n",
    "    else:\n",
    "        return np.nan"
   ]
  },
  {
   "cell_type": "code",
   "execution_count": 477,
   "id": "b965b110",
   "metadata": {},
   "outputs": [],
   "source": [
    "with open(file_check_single, 'r') as f:\n",
    "    readable_html = f.read()\n",
    "    g_chassis = get_chassis(readable_html)\n",
    "g_chassis"
   ]
  },
  {
   "cell_type": "markdown",
   "id": "124b1f05",
   "metadata": {},
   "source": [
    "### get comment"
   ]
  },
  {
   "cell_type": "code",
   "execution_count": 478,
   "id": "5c8b66e5",
   "metadata": {},
   "outputs": [],
   "source": [
    "def cleanhtml(raw_html):\n",
    "    cleanr = re.compile('<.*?>')\n",
    "    cleantext = re.sub(cleanr, ' ', raw_html)\n",
    "    return cleantext"
   ]
  },
  {
   "cell_type": "code",
   "execution_count": 479,
   "id": "9a26e8e1",
   "metadata": {},
   "outputs": [],
   "source": [
    "def get_comment(r):\n",
    "    \n",
    "    # get soup\n",
    "    soup = BeautifulSoup(r, 'html.parser')\n",
    "    \n",
    "    # extract\n",
    "    step1 = soup.select('div[class*=\"CLAnnonceDescription\"]')\n",
    "    if len(step1)>0:\n",
    "        try:\n",
    "            return cleanhtml(step1[0].text.replace(\"\\n\", \" \").replace(\"\\t\", \" \").replace(\"  \", \" \").strip())\n",
    "        except:\n",
    "            return \"\"\n",
    "    return \"\""
   ]
  },
  {
   "cell_type": "code",
   "execution_count": 480,
   "id": "fa34cfb6",
   "metadata": {},
   "outputs": [
    {
     "data": {
      "text/plain": [
       "'Description Equipements de série : ABS, Poignées chauffantes, Prise 12V, Top case 2 casques, Valises, Version GTEquipements optionnels inclus : Silencieux AkrapovicRemarques entretien : Aucun consommable à prévoir, Factures d‘entretien, Révision faiteServices concession : Démarches administratives sur place, Essai sur rendez-vous, Financement & Assurance possibles'"
      ]
     },
     "execution_count": 480,
     "metadata": {},
     "output_type": "execute_result"
    }
   ],
   "source": [
    "with codecs.open(file_check_single, 'r', encoding='utf-8', errors='ignore') as f:\n",
    "    readable_html = f.read()\n",
    "    g_comment = get_comment(readable_html)\n",
    "g_comment"
   ]
  },
  {
   "cell_type": "markdown",
   "id": "fd6a2a90",
   "metadata": {},
   "source": [
    "### Save image functions"
   ]
  },
  {
   "cell_type": "code",
   "execution_count": 481,
   "id": "2b06a44f",
   "metadata": {},
   "outputs": [],
   "source": [
    "def get_images(r, uniq_id):\n",
    "    \n",
    "    # get images url list\n",
    "    image_list = []\n",
    "    \n",
    "    # get soup\n",
    "    soup_ = BeautifulSoup(r, 'html.parser')\n",
    "    \n",
    "    # extract\n",
    "    step1 = soup_.select('div[class*=\"CLSlide-group\"]')\n",
    "    \n",
    "    if len(step1)>0:\n",
    "        step2 = step1[0].select(\"a\")\n",
    "        if len(step2) > 0:\n",
    "            for k in step2:\n",
    "                if \"href\" in k.attrs:\n",
    "                    image_list.append(k.attrs['href'])\n",
    "\n",
    "    # save images\n",
    "    k=1\n",
    "    for image_url in image_list[0:3]:\n",
    "        image_name = f'images/{uniq_id}-{k}.jpg'\n",
    "        if os.path.isfile(image_name) is False:\n",
    "            img_data = requests.get(image_url).content\n",
    "            with open(image_name, 'wb') as handler:\n",
    "                handler.write(img_data)\n",
    "            try:\n",
    "                image = Image.open(image_name) \n",
    "                ratio = image.size[0] / image.size[1]\n",
    "                image = image.resize((300,int(300/ratio)))\n",
    "                image.save(f'images/{uniq_id}-{k}.jpg',optimize = True, quality = 70)\n",
    "            except:\n",
    "                pass\n",
    "        k+=1\n",
    "        \n",
    "    return"
   ]
  },
  {
   "cell_type": "code",
   "execution_count": 431,
   "id": "c09c7315",
   "metadata": {},
   "outputs": [
    {
     "name": "stdout",
     "output_type": "stream",
     "text": [
      "https://www.fulloccaz.com/nas/commun/annonces//a6b9fff993692e166f34a41bd2eea0ef8c8b833d/photo-annonce-kymco-ak-550_5f4e6f385481d443057694.jpg\n",
      "https://www.fulloccaz.com/nas/commun/annonces//a6b9fff993692e166f34a41bd2eea0ef8c8b833d/photo-annonce-kymco-ak-550_5f4e6f3d8028a305583159.jpg\n",
      "https://www.fulloccaz.com/nas/commun/annonces//a6b9fff993692e166f34a41bd2eea0ef8c8b833d/photo-annonce-kymco-ak-550_5f4e6f42683ca632103229.jpg\n"
     ]
    }
   ],
   "source": [
    "with open(file_check_single, 'r') as f:\n",
    "    readable_html = f.read()\n",
    "    g_url = get_url(readable_html)\n",
    "    get_images(readable_html, get_uniq_id(g_url))"
   ]
  },
  {
   "cell_type": "markdown",
   "id": "b5638888",
   "metadata": {},
   "source": [
    "<div style=\"color:orangered; font-weight:700; font-size:20pt\">TEST 100 ANNONCES</div>"
   ]
  },
  {
   "cell_type": "code",
   "execution_count": null,
   "id": "562f0eb0",
   "metadata": {
    "scrolled": false
   },
   "outputs": [],
   "source": [
    "counter = 1\n",
    "list_test = []\n",
    "for single_ in os.listdir(\"annonces\"):\n",
    "    with open(f\"annonces/{single_}\", 'r') as f:\n",
    "        readable_html = f.read()\n",
    "        g_X = get_comment(readable_html)\n",
    "        print(single_, counter, g_X)\n",
    "        counter+=1"
   ]
  },
  {
   "cell_type": "markdown",
   "id": "81b602cc",
   "metadata": {},
   "source": [
    "## Extract 1 announce"
   ]
  },
  {
   "cell_type": "code",
   "execution_count": 485,
   "id": "b94522dd",
   "metadata": {},
   "outputs": [],
   "source": [
    "def process_announce(file_name):\n",
    "    \"\"\" this function add an announce content from fulloccaz.com to the dataframe \"\"\"\n",
    "    \n",
    "    # load csv if exists or starting from template\n",
    "    data_fulloccaz = \"../../../tresboncoin/data/fulloccaz.csv\"\n",
    "    #\n",
    "    if os.path.isfile(data_fulloccaz) is False:\n",
    "        pass\n",
    "    else:\n",
    "        data = pd.read_csv(data_fulloccaz)\n",
    "    \n",
    "    df = announce_template.copy()\n",
    "    \n",
    "    # fill df with defined functions\n",
    "    with open(f\"annonces/{file_name}\", 'r') as f:\n",
    "        readable_html = f.read()\n",
    "        \n",
    "        df[\"url\"] = get_url(readable_html)\n",
    "        df[\"unique id\"] = get_uniq_id(get_url(readable_html))\n",
    "        df[\"date_scrapped\"] = datetime.datetime.now().strftime(\"%Y/%m/%d - %Hh%M\")\n",
    "        df[\"announce_publication_date\"] = get_publication_date(readable_html)\n",
    "        df[\"vehicle brand\"] = get_brand_and_model(readable_html)\n",
    "        df[\"vehicle type\"] = get_type(readable_html)\n",
    "        df[\"color\"] = get_color(readable_html)\n",
    "        df[\"price\"] = get_price(readable_html)\n",
    "        df[\"city\"] = get_city(readable_html)\n",
    "        df[\"postal code\"] = get_postal(readable_html)\n",
    "        df[\"seller\"] = get_seller(readable_html)\n",
    "        df[\"seller_name\"] = get_seller_name(readable_html)\n",
    "        df[\"vehicle release date\"] = get_release(readable_html)\n",
    "        df[\"mileage\"] = get_mileage(readable_html)\n",
    "        df[\"motorisation\"] = get_engine_type(readable_html)\n",
    "        df[\"fiscal power\"] = get_fiscal_power(readable_html)\n",
    "        df[\"guarantee\"] = get_guarantee(readable_html)\n",
    "        df[\"hand\"] = get_hand(readable_html)\n",
    "        df[\"chassis\"] = get_chassis(readable_html)\n",
    "        df[\"engine capacity [CC]\"] = get_capa(readable_html)\n",
    "        df[\"comments\"] = get_comment(readable_html)\n",
    "    \n",
    "        # save images\n",
    "        get_images(readable_html, get_uniq_id(get_url(readable_html)))\n",
    "        \n",
    "    # concatenate to csv and write\n",
    "    try:\n",
    "        data = pd.concat([data, df], axis=0)\n",
    "        data.to_csv(path_or_buf = data_fulloccaz, index=False)\n",
    "    except:\n",
    "        df.to_csv(path_or_buf = data_fulloccaz, index=False)\n",
    "    \n",
    "    # deplacer le fichier html traité dans le vault\n",
    "    subprocess.run([\"mv\", f\"annonces/{file_name}\", \"vault\"])\n",
    "    return"
   ]
  },
  {
   "cell_type": "code",
   "execution_count": 486,
   "id": "de41cc1d",
   "metadata": {},
   "outputs": [
    {
     "data": {
      "text/plain": [
       "['fulloccaz-2011022-2021-06-06_13h06.html',\n",
       " 'fulloccaz-1932135-2021-06-06_12h33.html']"
      ]
     },
     "execution_count": 486,
     "metadata": {},
     "output_type": "execute_result"
    }
   ],
   "source": [
    "list(os.listdir(\"annonces\")[0:2])"
   ]
  },
  {
   "cell_type": "code",
   "execution_count": 493,
   "id": "4fc79b2f",
   "metadata": {
    "scrolled": false
   },
   "outputs": [],
   "source": [
    "for single_ in [file for file in os.listdir(\"annonces\") if file.endswith(\".html\")]:\n",
    "    process_announce(single_)"
   ]
  },
  {
   "cell_type": "code",
   "execution_count": 489,
   "id": "55cb5481",
   "metadata": {},
   "outputs": [
    {
     "data": {
      "text/html": [
       "<div>\n",
       "<style scoped>\n",
       "    .dataframe tbody tr th:only-of-type {\n",
       "        vertical-align: middle;\n",
       "    }\n",
       "\n",
       "    .dataframe tbody tr th {\n",
       "        vertical-align: top;\n",
       "    }\n",
       "\n",
       "    .dataframe thead th {\n",
       "        text-align: right;\n",
       "    }\n",
       "</style>\n",
       "<table border=\"1\" class=\"dataframe\">\n",
       "  <thead>\n",
       "    <tr style=\"text-align: right;\">\n",
       "      <th></th>\n",
       "      <th>url</th>\n",
       "      <th>unique id</th>\n",
       "      <th>date_scrapped</th>\n",
       "      <th>announce_publication_date</th>\n",
       "      <th>vehicle brand</th>\n",
       "      <th>vehicle type</th>\n",
       "      <th>color</th>\n",
       "      <th>price</th>\n",
       "      <th>city</th>\n",
       "      <th>postal code</th>\n",
       "      <th>seller</th>\n",
       "      <th>seller_name</th>\n",
       "      <th>vehicle release date</th>\n",
       "      <th>mileage</th>\n",
       "      <th>motorisation</th>\n",
       "      <th>fiscal power</th>\n",
       "      <th>guarantee</th>\n",
       "      <th>hand</th>\n",
       "      <th>chassis</th>\n",
       "      <th>engine capacity [CC]</th>\n",
       "      <th>comments</th>\n",
       "    </tr>\n",
       "  </thead>\n",
       "  <tbody>\n",
       "    <tr>\n",
       "      <th>13</th>\n",
       "      <td>https://www.fulloccaz.com/fiches/index/2012739...</td>\n",
       "      <td>2012739</td>\n",
       "      <td>2021/06/06 - 14h16</td>\n",
       "      <td>18/05/2021</td>\n",
       "      <td>HONDA GL1800 GOLDWING</td>\n",
       "      <td>Routière</td>\n",
       "      <td>Beige</td>\n",
       "      <td>11990.0</td>\n",
       "      <td>TETEGHEM</td>\n",
       "      <td>59229</td>\n",
       "      <td>WANTED BIKE</td>\n",
       "      <td>Fred</td>\n",
       "      <td>06/06/2003</td>\n",
       "      <td>31800.0</td>\n",
       "      <td>4T</td>\n",
       "      <td>16 CV</td>\n",
       "      <td>Non Garantie</td>\n",
       "      <td>NaN</td>\n",
       "      <td>NaN</td>\n",
       "      <td>1800.0</td>\n",
       "      <td>Description   HONDA GL1800 GOLDWING DU 06/2003...</td>\n",
       "    </tr>\n",
       "    <tr>\n",
       "      <th>14</th>\n",
       "      <td>https://www.fulloccaz.com/fiches/index/2013344...</td>\n",
       "      <td>2013344</td>\n",
       "      <td>2021/06/06 - 14h16</td>\n",
       "      <td>25/05/2021</td>\n",
       "      <td>YAMAHA YZF-R125</td>\n",
       "      <td>Sportive</td>\n",
       "      <td>Bleu</td>\n",
       "      <td>4999.0</td>\n",
       "      <td>MONTLUCON</td>\n",
       "      <td>3100</td>\n",
       "      <td>MOTORAMA</td>\n",
       "      <td>Arthur ou Daniel</td>\n",
       "      <td>25/05/2021</td>\n",
       "      <td>1.0</td>\n",
       "      <td>4T</td>\n",
       "      <td>1 CV</td>\n",
       "      <td>24 mois</td>\n",
       "      <td>NaN</td>\n",
       "      <td>NaN</td>\n",
       "      <td>125.0</td>\n",
       "      <td>Description   YAMAHA YZF 125 R 2018véhicule ne...</td>\n",
       "    </tr>\n",
       "    <tr>\n",
       "      <th>15</th>\n",
       "      <td>https://www.fulloccaz.com/fiches/index/2029016...</td>\n",
       "      <td>2029016</td>\n",
       "      <td>2021/06/06 - 14h16</td>\n",
       "      <td>12/04/2021</td>\n",
       "      <td>RIEJU TANGO 125 COLORIS NOIR / ROUGE</td>\n",
       "      <td>Moto 125</td>\n",
       "      <td>Noir</td>\n",
       "      <td>3299.0</td>\n",
       "      <td>HAGUENAU</td>\n",
       "      <td>67500</td>\n",
       "      <td>CK MOTOS</td>\n",
       "      <td>Christophe</td>\n",
       "      <td>31/12/2020</td>\n",
       "      <td>NaN</td>\n",
       "      <td>Essence</td>\n",
       "      <td>NaN</td>\n",
       "      <td>24 mois jusqu'au 01/01/1970</td>\n",
       "      <td>NaN</td>\n",
       "      <td>NaN</td>\n",
       "      <td>125.0</td>\n",
       "      <td>Description   A SAISIR RIEJU TANGO125  COLORIS...</td>\n",
       "    </tr>\n",
       "    <tr>\n",
       "      <th>16</th>\n",
       "      <td>https://www.fulloccaz.com/fiches/index/2044815...</td>\n",
       "      <td>2044815</td>\n",
       "      <td>2021/06/06 - 14h16</td>\n",
       "      <td>04/06/2021</td>\n",
       "      <td>KAWASAKI Z650</td>\n",
       "      <td>Roadster</td>\n",
       "      <td>Noir</td>\n",
       "      <td>5590.0</td>\n",
       "      <td>CANNES</td>\n",
       "      <td>6400</td>\n",
       "      <td>JET 7 BIKE</td>\n",
       "      <td>Daniel ou Kévin</td>\n",
       "      <td>11/06/2019</td>\n",
       "      <td>7200.0</td>\n",
       "      <td>4T</td>\n",
       "      <td>7 CV</td>\n",
       "      <td>Constructeur jusqu'au 11/06/2021</td>\n",
       "      <td>First hand</td>\n",
       "      <td>NaN</td>\n",
       "      <td>650.0</td>\n",
       "      <td>Description   VÉHICULE POUR PERMIS A2 ET EN BO...</td>\n",
       "    </tr>\n",
       "    <tr>\n",
       "      <th>17</th>\n",
       "      <td>https://www.fulloccaz.com/fiches/index/2041644...</td>\n",
       "      <td>2041644</td>\n",
       "      <td>2021/06/06 - 14h16</td>\n",
       "      <td>21/05/2021</td>\n",
       "      <td>KYMCO X.TOWN 125 CBS / GARANTIE 5 ANS</td>\n",
       "      <td>Scooter</td>\n",
       "      <td>Noir</td>\n",
       "      <td>3399.0</td>\n",
       "      <td>PARIS</td>\n",
       "      <td>75017</td>\n",
       "      <td>MFC 17</td>\n",
       "      <td>Jérôme</td>\n",
       "      <td>03/12/2020</td>\n",
       "      <td>1.0</td>\n",
       "      <td>4T</td>\n",
       "      <td>15 CV</td>\n",
       "      <td>Constructeur jusqu'au 23/03/2026</td>\n",
       "      <td>NaN</td>\n",
       "      <td>NaN</td>\n",
       "      <td>125.0</td>\n",
       "      <td>Description   KYMCO X-Town 125i CBS Immatricul...</td>\n",
       "    </tr>\n",
       "    <tr>\n",
       "      <th>18</th>\n",
       "      <td>https://www.fulloccaz.com/fiches/index/2045773...</td>\n",
       "      <td>2045773</td>\n",
       "      <td>2021/06/06 - 14h16</td>\n",
       "      <td>24/04/2021</td>\n",
       "      <td>TRIUMPH BOBBER 1200</td>\n",
       "      <td>Custom</td>\n",
       "      <td>Bordeaux</td>\n",
       "      <td>10590.0</td>\n",
       "      <td>LANESTER</td>\n",
       "      <td>56600</td>\n",
       "      <td>TRIUMPH LANESTER</td>\n",
       "      <td>Daniel</td>\n",
       "      <td>25/04/2017</td>\n",
       "      <td>11671.0</td>\n",
       "      <td>4T</td>\n",
       "      <td>77 CV</td>\n",
       "      <td>12 mois</td>\n",
       "      <td>First hand</td>\n",
       "      <td>NaN</td>\n",
       "      <td>1200.0</td>\n",
       "      <td>Description   TRES BELLE PREMIERE MAIN GARANTI...</td>\n",
       "    </tr>\n",
       "    <tr>\n",
       "      <th>19</th>\n",
       "      <td>https://www.fulloccaz.com/fiches/index/2047501...</td>\n",
       "      <td>2047501</td>\n",
       "      <td>2021/06/06 - 14h16</td>\n",
       "      <td>03/06/2021</td>\n",
       "      <td>BMW R 1150 R</td>\n",
       "      <td>Routière</td>\n",
       "      <td>Noir</td>\n",
       "      <td>6699.0</td>\n",
       "      <td>BELFORT</td>\n",
       "      <td>90000</td>\n",
       "      <td>MOTO 90</td>\n",
       "      <td>Claude</td>\n",
       "      <td>01/03/2001</td>\n",
       "      <td>15815.0</td>\n",
       "      <td>4T</td>\n",
       "      <td>NaN</td>\n",
       "      <td>3 mois</td>\n",
       "      <td>NaN</td>\n",
       "      <td>NaN</td>\n",
       "      <td>1150.0</td>\n",
       "      <td>Description   BMW R 1150 R pack chrome livrée ...</td>\n",
       "    </tr>\n",
       "    <tr>\n",
       "      <th>20</th>\n",
       "      <td>https://www.fulloccaz.com/fiches/index/2015502...</td>\n",
       "      <td>2015502</td>\n",
       "      <td>2021/06/06 - 14h16</td>\n",
       "      <td>29/05/2021</td>\n",
       "      <td>KAWASAKI VERSYS 650 SE GT</td>\n",
       "      <td>Trail</td>\n",
       "      <td>Noir</td>\n",
       "      <td>9590.0</td>\n",
       "      <td>CARCASSONNE</td>\n",
       "      <td>11000</td>\n",
       "      <td>POLE MOTO PASSION CARCASSONNE</td>\n",
       "      <td>Patrick, Julien, Valentin</td>\n",
       "      <td>04/03/2020</td>\n",
       "      <td>600.0</td>\n",
       "      <td>4T</td>\n",
       "      <td>NaN</td>\n",
       "      <td>Constructeur jusqu'au 04/03/2022</td>\n",
       "      <td>First hand</td>\n",
       "      <td>NaN</td>\n",
       "      <td>650.0</td>\n",
       "      <td>Description   VERSYS 650 SE GT PACK GRAND TOUR...</td>\n",
       "    </tr>\n",
       "    <tr>\n",
       "      <th>21</th>\n",
       "      <td>https://www.fulloccaz.com/fiches/index/1876832...</td>\n",
       "      <td>1876832</td>\n",
       "      <td>2021/06/06 - 14h16</td>\n",
       "      <td>22/05/2021</td>\n",
       "      <td>KYMCO NEW LIKE 125 MODELE 2019 MOTORS 2019</td>\n",
       "      <td>Scooter</td>\n",
       "      <td>Blanc</td>\n",
       "      <td>2500.0</td>\n",
       "      <td>TOUL</td>\n",
       "      <td>54200</td>\n",
       "      <td>MOTORS 54</td>\n",
       "      <td>NICOLAS</td>\n",
       "      <td>22/05/2021</td>\n",
       "      <td>10.0</td>\n",
       "      <td>4T</td>\n",
       "      <td>1 CV</td>\n",
       "      <td>Constructeur jusqu'au 29/08/2022</td>\n",
       "      <td>NaN</td>\n",
       "      <td>NaN</td>\n",
       "      <td>125.0</td>\n",
       "      <td>Description   KYMCO NEW LIKE 125 CC BLANC DISP...</td>\n",
       "    </tr>\n",
       "    <tr>\n",
       "      <th>22</th>\n",
       "      <td>https://www.fulloccaz.com/fiches/index/2016872...</td>\n",
       "      <td>2016872</td>\n",
       "      <td>2021/06/06 - 14h16</td>\n",
       "      <td>07/05/2021</td>\n",
       "      <td>PIAGGIO XEVO 125 2009</td>\n",
       "      <td>Scooter</td>\n",
       "      <td>Argent</td>\n",
       "      <td>1899.0</td>\n",
       "      <td>RODEZ</td>\n",
       "      <td>12000</td>\n",
       "      <td>CENTRE DEUX ROUES RODEZ</td>\n",
       "      <td>Service commercial Service commercial</td>\n",
       "      <td>15/09/2009</td>\n",
       "      <td>15000.0</td>\n",
       "      <td>4T</td>\n",
       "      <td>NaN</td>\n",
       "      <td>3 mois</td>\n",
       "      <td>NaN</td>\n",
       "      <td>NaN</td>\n",
       "      <td>125.0</td>\n",
       "      <td>Description   Piaggio 125 Xevo 2009Scooter d'o...</td>\n",
       "    </tr>\n",
       "    <tr>\n",
       "      <th>23</th>\n",
       "      <td>https://www.fulloccaz.com/fiches/index/2039118...</td>\n",
       "      <td>2039118</td>\n",
       "      <td>2021/06/06 - 14h16</td>\n",
       "      <td>28/05/2021</td>\n",
       "      <td>PIAGGIO MP3 350 ABS/ASR</td>\n",
       "      <td>Scooter</td>\n",
       "      <td>Vert</td>\n",
       "      <td>6700.0</td>\n",
       "      <td>CHATOU</td>\n",
       "      <td>78400</td>\n",
       "      <td>FM DIFFUSION</td>\n",
       "      <td>Franck  ou Marc</td>\n",
       "      <td>20/08/2020</td>\n",
       "      <td>2120.0</td>\n",
       "      <td>4T</td>\n",
       "      <td>4 CV</td>\n",
       "      <td>12 mois</td>\n",
       "      <td>First hand</td>\n",
       "      <td>3 roues</td>\n",
       "      <td>350.0</td>\n",
       "      <td>Description Equipements de série : ABS, Anti-d...</td>\n",
       "    </tr>\n",
       "    <tr>\n",
       "      <th>24</th>\n",
       "      <td>https://www.fulloccaz.com/fiches/index/2020959...</td>\n",
       "      <td>2020959</td>\n",
       "      <td>2021/06/06 - 14h16</td>\n",
       "      <td>24/05/2021</td>\n",
       "      <td>APRILIA SHIVER 750 47.5CV</td>\n",
       "      <td>Roadster</td>\n",
       "      <td>Argent</td>\n",
       "      <td>7399.0</td>\n",
       "      <td>HAGUENAU</td>\n",
       "      <td>67500</td>\n",
       "      <td>PIAGGIO SCHUMPP HAGUENAU</td>\n",
       "      <td>Didier</td>\n",
       "      <td>25/09/2020</td>\n",
       "      <td>NaN</td>\n",
       "      <td>4T</td>\n",
       "      <td>NaN</td>\n",
       "      <td>NaN</td>\n",
       "      <td>NaN</td>\n",
       "      <td>NaN</td>\n",
       "      <td>750.0</td>\n",
       "      <td>Description   promotion sur shiver 900 au prix...</td>\n",
       "    </tr>\n",
       "    <tr>\n",
       "      <th>25</th>\n",
       "      <td>https://www.fulloccaz.com/fiches/index/1935454...</td>\n",
       "      <td>1935454</td>\n",
       "      <td>2021/06/06 - 14h16</td>\n",
       "      <td>29/05/2021</td>\n",
       "      <td>BENELLI TRK 502 X</td>\n",
       "      <td>Routière</td>\n",
       "      <td>Rouge</td>\n",
       "      <td>6899.0</td>\n",
       "      <td>CROSNE</td>\n",
       "      <td>91560</td>\n",
       "      <td>BELLA MOTO</td>\n",
       "      <td>Béatrice</td>\n",
       "      <td>NaN</td>\n",
       "      <td>NaN</td>\n",
       "      <td>4T</td>\n",
       "      <td>35 CV</td>\n",
       "      <td>24 mois</td>\n",
       "      <td>NaN</td>\n",
       "      <td>NaN</td>\n",
       "      <td>500.0</td>\n",
       "      <td>Description   PRÊTE POUR L’AVENTURE !La nouvel...</td>\n",
       "    </tr>\n",
       "    <tr>\n",
       "      <th>26</th>\n",
       "      <td>https://www.fulloccaz.com/fiches/index/2039782...</td>\n",
       "      <td>2039782</td>\n",
       "      <td>2021/06/06 - 14h16</td>\n",
       "      <td>15/05/2021</td>\n",
       "      <td>YAMAHA TRICITY 125 ABS</td>\n",
       "      <td>Scooter</td>\n",
       "      <td>Rouge</td>\n",
       "      <td>2990.0</td>\n",
       "      <td>THILLOIS</td>\n",
       "      <td>51370</td>\n",
       "      <td>MILLESIME MOTOR</td>\n",
       "      <td>Patrice ou Jean-Charles</td>\n",
       "      <td>10/03/2016</td>\n",
       "      <td>2370.0</td>\n",
       "      <td>4T</td>\n",
       "      <td>NaN</td>\n",
       "      <td>NaN</td>\n",
       "      <td>First hand</td>\n",
       "      <td>3 roues</td>\n",
       "      <td>125.0</td>\n",
       "      <td>Description   YAMAHA TRICITY 125 ABS (scooter)...</td>\n",
       "    </tr>\n",
       "    <tr>\n",
       "      <th>27</th>\n",
       "      <td>https://www.fulloccaz.com/fiches/index/2017973...</td>\n",
       "      <td>2017973</td>\n",
       "      <td>2021/06/06 - 14h16</td>\n",
       "      <td>17/04/2021</td>\n",
       "      <td>KYMCO  X TOWN 125</td>\n",
       "      <td>Scooter</td>\n",
       "      <td>Argent</td>\n",
       "      <td>3200.0</td>\n",
       "      <td>MEZIERES</td>\n",
       "      <td>8000</td>\n",
       "      <td>TOURTE ET CIE</td>\n",
       "      <td>Christian</td>\n",
       "      <td>01/06/2019</td>\n",
       "      <td>5000.0</td>\n",
       "      <td>4T</td>\n",
       "      <td>NaN</td>\n",
       "      <td>Constructeur jusqu'au 01/06/2024</td>\n",
       "      <td>First hand</td>\n",
       "      <td>NaN</td>\n",
       "      <td>125.0</td>\n",
       "      <td>Description   VENDU SANS TOP CASE . TOURTE MOT...</td>\n",
       "    </tr>\n",
       "    <tr>\n",
       "      <th>28</th>\n",
       "      <td>https://www.fulloccaz.com/fiches/index/2009901...</td>\n",
       "      <td>2009901</td>\n",
       "      <td>2021/06/06 - 14h16</td>\n",
       "      <td>05/05/2021</td>\n",
       "      <td>SYM MAXSYM 600</td>\n",
       "      <td>Scooter</td>\n",
       "      <td>Noir</td>\n",
       "      <td>5690.0</td>\n",
       "      <td>ECKBOLSHEIM</td>\n",
       "      <td>67201</td>\n",
       "      <td>MOTOS SCHUMPP STRASBOURG</td>\n",
       "      <td>Emilien</td>\n",
       "      <td>10/04/2018</td>\n",
       "      <td>18454.0</td>\n",
       "      <td>Essence</td>\n",
       "      <td>NaN</td>\n",
       "      <td>NaN</td>\n",
       "      <td>NaN</td>\n",
       "      <td>NaN</td>\n",
       "      <td>600.0</td>\n",
       "      <td>Description   SYM MAXSYM 60004/2018ETAT PROCHE...</td>\n",
       "    </tr>\n",
       "    <tr>\n",
       "      <th>29</th>\n",
       "      <td>https://www.fulloccaz.com/fiches/index/2044727...</td>\n",
       "      <td>2044727</td>\n",
       "      <td>2021/06/06 - 14h17</td>\n",
       "      <td>05/06/2021</td>\n",
       "      <td>YAMAHA YS 125</td>\n",
       "      <td>Roadster</td>\n",
       "      <td>Blanc</td>\n",
       "      <td>2990.0</td>\n",
       "      <td>BESANCON</td>\n",
       "      <td>25000</td>\n",
       "      <td>MOTOS MIELLIN</td>\n",
       "      <td>Jean Philippe</td>\n",
       "      <td>03/02/2021</td>\n",
       "      <td>127.0</td>\n",
       "      <td>4T</td>\n",
       "      <td>7 CV</td>\n",
       "      <td>Constructeur jusqu'au 02/02/2023</td>\n",
       "      <td>NaN</td>\n",
       "      <td>NaN</td>\n",
       "      <td>125.0</td>\n",
       "      <td>Description   YAMAHA 125 YS DU 03/02/2021 ETAT...</td>\n",
       "    </tr>\n",
       "    <tr>\n",
       "      <th>30</th>\n",
       "      <td>https://www.fulloccaz.com/fiches/index/2032493...</td>\n",
       "      <td>2032493</td>\n",
       "      <td>2021/06/06 - 14h17</td>\n",
       "      <td>02/06/2021</td>\n",
       "      <td>BMW S 1000 XR HP - 02/2019 5625km - Toutes opt...</td>\n",
       "      <td>Trail</td>\n",
       "      <td>Bleu</td>\n",
       "      <td>15990.0</td>\n",
       "      <td>NIMES</td>\n",
       "      <td>30900</td>\n",
       "      <td>KTM NIMES BY RACE MOTO</td>\n",
       "      <td>Jean-Jacques</td>\n",
       "      <td>05/02/2019</td>\n",
       "      <td>5625.0</td>\n",
       "      <td>4T</td>\n",
       "      <td>9 CV</td>\n",
       "      <td>Constructeur jusqu'au 05/02/2022</td>\n",
       "      <td>First hand</td>\n",
       "      <td>NaN</td>\n",
       "      <td>1000.0</td>\n",
       "      <td>Description   BMW S 1000 XR HP - 02/2019 5625k...</td>\n",
       "    </tr>\n",
       "    <tr>\n",
       "      <th>31</th>\n",
       "      <td>https://www.fulloccaz.com/fiches/index/1994808...</td>\n",
       "      <td>1994808</td>\n",
       "      <td>2021/06/06 - 14h17</td>\n",
       "      <td>18/05/2021</td>\n",
       "      <td>PIAGGIO MP3 500 ABS/ASR   NOIR MAT  1AN DE GAR...</td>\n",
       "      <td>Scooter</td>\n",
       "      <td>NOIR MAT</td>\n",
       "      <td>5990.0</td>\n",
       "      <td>BARRE</td>\n",
       "      <td>95170</td>\n",
       "      <td>WATRIN ET FILS</td>\n",
       "      <td>DAVID</td>\n",
       "      <td>01/09/2016</td>\n",
       "      <td>25012.0</td>\n",
       "      <td>4T</td>\n",
       "      <td>NaN</td>\n",
       "      <td>12 mois</td>\n",
       "      <td>NaN</td>\n",
       "      <td>3 roues</td>\n",
       "      <td>500.0</td>\n",
       "      <td>Description   PIAGGIO MP3 500 LT ABS - ASR   1...</td>\n",
       "    </tr>\n",
       "    <tr>\n",
       "      <th>32</th>\n",
       "      <td>https://www.fulloccaz.com/fiches/index/2045598...</td>\n",
       "      <td>2045598</td>\n",
       "      <td>2021/06/06 - 14h17</td>\n",
       "      <td>25/05/2021</td>\n",
       "      <td>MOTO-GUZZI V7 III STONE S 750</td>\n",
       "      <td>Roadster</td>\n",
       "      <td>Noir</td>\n",
       "      <td>7999.0</td>\n",
       "      <td>TOULOUSE</td>\n",
       "      <td>31200</td>\n",
       "      <td>HOTBIKES LA MOTO</td>\n",
       "      <td>Julien</td>\n",
       "      <td>01/05/2018</td>\n",
       "      <td>5900.0</td>\n",
       "      <td>4T</td>\n",
       "      <td>NaN</td>\n",
       "      <td>3 mois</td>\n",
       "      <td>First hand</td>\n",
       "      <td>NaN</td>\n",
       "      <td>750.0</td>\n",
       "      <td>Description   Moto Guzzi V7 III STONE S 750 Ré...</td>\n",
       "    </tr>\n",
       "  </tbody>\n",
       "</table>\n",
       "</div>"
      ],
      "text/plain": [
       "                                                  url  unique id  \\\n",
       "13  https://www.fulloccaz.com/fiches/index/2012739...    2012739   \n",
       "14  https://www.fulloccaz.com/fiches/index/2013344...    2013344   \n",
       "15  https://www.fulloccaz.com/fiches/index/2029016...    2029016   \n",
       "16  https://www.fulloccaz.com/fiches/index/2044815...    2044815   \n",
       "17  https://www.fulloccaz.com/fiches/index/2041644...    2041644   \n",
       "18  https://www.fulloccaz.com/fiches/index/2045773...    2045773   \n",
       "19  https://www.fulloccaz.com/fiches/index/2047501...    2047501   \n",
       "20  https://www.fulloccaz.com/fiches/index/2015502...    2015502   \n",
       "21  https://www.fulloccaz.com/fiches/index/1876832...    1876832   \n",
       "22  https://www.fulloccaz.com/fiches/index/2016872...    2016872   \n",
       "23  https://www.fulloccaz.com/fiches/index/2039118...    2039118   \n",
       "24  https://www.fulloccaz.com/fiches/index/2020959...    2020959   \n",
       "25  https://www.fulloccaz.com/fiches/index/1935454...    1935454   \n",
       "26  https://www.fulloccaz.com/fiches/index/2039782...    2039782   \n",
       "27  https://www.fulloccaz.com/fiches/index/2017973...    2017973   \n",
       "28  https://www.fulloccaz.com/fiches/index/2009901...    2009901   \n",
       "29  https://www.fulloccaz.com/fiches/index/2044727...    2044727   \n",
       "30  https://www.fulloccaz.com/fiches/index/2032493...    2032493   \n",
       "31  https://www.fulloccaz.com/fiches/index/1994808...    1994808   \n",
       "32  https://www.fulloccaz.com/fiches/index/2045598...    2045598   \n",
       "\n",
       "         date_scrapped announce_publication_date  \\\n",
       "13  2021/06/06 - 14h16                18/05/2021   \n",
       "14  2021/06/06 - 14h16                25/05/2021   \n",
       "15  2021/06/06 - 14h16                12/04/2021   \n",
       "16  2021/06/06 - 14h16                04/06/2021   \n",
       "17  2021/06/06 - 14h16                21/05/2021   \n",
       "18  2021/06/06 - 14h16                24/04/2021   \n",
       "19  2021/06/06 - 14h16                03/06/2021   \n",
       "20  2021/06/06 - 14h16                29/05/2021   \n",
       "21  2021/06/06 - 14h16                22/05/2021   \n",
       "22  2021/06/06 - 14h16                07/05/2021   \n",
       "23  2021/06/06 - 14h16                28/05/2021   \n",
       "24  2021/06/06 - 14h16                24/05/2021   \n",
       "25  2021/06/06 - 14h16                29/05/2021   \n",
       "26  2021/06/06 - 14h16                15/05/2021   \n",
       "27  2021/06/06 - 14h16                17/04/2021   \n",
       "28  2021/06/06 - 14h16                05/05/2021   \n",
       "29  2021/06/06 - 14h17                05/06/2021   \n",
       "30  2021/06/06 - 14h17                02/06/2021   \n",
       "31  2021/06/06 - 14h17                18/05/2021   \n",
       "32  2021/06/06 - 14h17                25/05/2021   \n",
       "\n",
       "                                        vehicle brand vehicle type     color  \\\n",
       "13                              HONDA GL1800 GOLDWING     Routière     Beige   \n",
       "14                                    YAMAHA YZF-R125     Sportive      Bleu   \n",
       "15               RIEJU TANGO 125 COLORIS NOIR / ROUGE     Moto 125      Noir   \n",
       "16                                     KAWASAKI Z650      Roadster      Noir   \n",
       "17              KYMCO X.TOWN 125 CBS / GARANTIE 5 ANS      Scooter      Noir   \n",
       "18                                TRIUMPH BOBBER 1200       Custom  Bordeaux   \n",
       "19                                       BMW R 1150 R     Routière      Noir   \n",
       "20                          KAWASAKI VERSYS 650 SE GT        Trail      Noir   \n",
       "21         KYMCO NEW LIKE 125 MODELE 2019 MOTORS 2019      Scooter     Blanc   \n",
       "22                              PIAGGIO XEVO 125 2009      Scooter    Argent   \n",
       "23                            PIAGGIO MP3 350 ABS/ASR      Scooter      Vert   \n",
       "24                          APRILIA SHIVER 750 47.5CV     Roadster    Argent   \n",
       "25                                  BENELLI TRK 502 X     Routière     Rouge   \n",
       "26                             YAMAHA TRICITY 125 ABS      Scooter     Rouge   \n",
       "27                                  KYMCO  X TOWN 125      Scooter    Argent   \n",
       "28                                     SYM MAXSYM 600      Scooter      Noir   \n",
       "29                                      YAMAHA YS 125     Roadster     Blanc   \n",
       "30  BMW S 1000 XR HP - 02/2019 5625km - Toutes opt...        Trail      Bleu   \n",
       "31  PIAGGIO MP3 500 ABS/ASR   NOIR MAT  1AN DE GAR...      Scooter  NOIR MAT   \n",
       "32                     MOTO-GUZZI V7 III STONE S 750      Roadster      Noir   \n",
       "\n",
       "      price         city  postal code                         seller  \\\n",
       "13  11990.0     TETEGHEM        59229                    WANTED BIKE   \n",
       "14   4999.0    MONTLUCON         3100                       MOTORAMA   \n",
       "15   3299.0     HAGUENAU        67500                       CK MOTOS   \n",
       "16   5590.0       CANNES         6400                     JET 7 BIKE   \n",
       "17   3399.0        PARIS        75017                         MFC 17   \n",
       "18  10590.0     LANESTER        56600               TRIUMPH LANESTER   \n",
       "19   6699.0      BELFORT        90000                        MOTO 90   \n",
       "20   9590.0  CARCASSONNE        11000  POLE MOTO PASSION CARCASSONNE   \n",
       "21   2500.0         TOUL        54200                      MOTORS 54   \n",
       "22   1899.0        RODEZ        12000        CENTRE DEUX ROUES RODEZ   \n",
       "23   6700.0       CHATOU        78400                   FM DIFFUSION   \n",
       "24   7399.0     HAGUENAU        67500       PIAGGIO SCHUMPP HAGUENAU   \n",
       "25   6899.0       CROSNE        91560                     BELLA MOTO   \n",
       "26   2990.0     THILLOIS        51370                MILLESIME MOTOR   \n",
       "27   3200.0     MEZIERES         8000                  TOURTE ET CIE   \n",
       "28   5690.0  ECKBOLSHEIM        67201       MOTOS SCHUMPP STRASBOURG   \n",
       "29   2990.0     BESANCON        25000                  MOTOS MIELLIN   \n",
       "30  15990.0        NIMES        30900         KTM NIMES BY RACE MOTO   \n",
       "31   5990.0        BARRE        95170                 WATRIN ET FILS   \n",
       "32   7999.0     TOULOUSE        31200               HOTBIKES LA MOTO   \n",
       "\n",
       "                              seller_name vehicle release date  mileage  \\\n",
       "13                                   Fred           06/06/2003  31800.0   \n",
       "14                       Arthur ou Daniel           25/05/2021      1.0   \n",
       "15                             Christophe           31/12/2020      NaN   \n",
       "16                        Daniel ou Kévin           11/06/2019   7200.0   \n",
       "17                                 Jérôme           03/12/2020      1.0   \n",
       "18                                 Daniel           25/04/2017  11671.0   \n",
       "19                                 Claude           01/03/2001  15815.0   \n",
       "20              Patrick, Julien, Valentin           04/03/2020    600.0   \n",
       "21                                NICOLAS           22/05/2021     10.0   \n",
       "22  Service commercial Service commercial           15/09/2009  15000.0   \n",
       "23                        Franck  ou Marc           20/08/2020   2120.0   \n",
       "24                                 Didier           25/09/2020      NaN   \n",
       "25                               Béatrice                  NaN      NaN   \n",
       "26                Patrice ou Jean-Charles           10/03/2016   2370.0   \n",
       "27                              Christian           01/06/2019   5000.0   \n",
       "28                                Emilien           10/04/2018  18454.0   \n",
       "29                          Jean Philippe           03/02/2021    127.0   \n",
       "30                           Jean-Jacques           05/02/2019   5625.0   \n",
       "31                                  DAVID           01/09/2016  25012.0   \n",
       "32                                 Julien           01/05/2018   5900.0   \n",
       "\n",
       "   motorisation fiscal power                         guarantee        hand  \\\n",
       "13           4T        16 CV                      Non Garantie         NaN   \n",
       "14           4T         1 CV                           24 mois         NaN   \n",
       "15      Essence          NaN       24 mois jusqu'au 01/01/1970         NaN   \n",
       "16           4T         7 CV  Constructeur jusqu'au 11/06/2021  First hand   \n",
       "17           4T        15 CV  Constructeur jusqu'au 23/03/2026         NaN   \n",
       "18           4T        77 CV                           12 mois  First hand   \n",
       "19           4T          NaN                            3 mois         NaN   \n",
       "20           4T          NaN  Constructeur jusqu'au 04/03/2022  First hand   \n",
       "21           4T         1 CV  Constructeur jusqu'au 29/08/2022         NaN   \n",
       "22           4T          NaN                            3 mois         NaN   \n",
       "23           4T         4 CV                           12 mois  First hand   \n",
       "24           4T          NaN                               NaN         NaN   \n",
       "25           4T        35 CV                           24 mois         NaN   \n",
       "26           4T          NaN                               NaN  First hand   \n",
       "27           4T          NaN  Constructeur jusqu'au 01/06/2024  First hand   \n",
       "28      Essence          NaN                               NaN         NaN   \n",
       "29           4T         7 CV  Constructeur jusqu'au 02/02/2023         NaN   \n",
       "30           4T         9 CV  Constructeur jusqu'au 05/02/2022  First hand   \n",
       "31           4T          NaN                           12 mois         NaN   \n",
       "32           4T          NaN                            3 mois  First hand   \n",
       "\n",
       "    chassis  engine capacity [CC]  \\\n",
       "13      NaN                1800.0   \n",
       "14      NaN                 125.0   \n",
       "15      NaN                 125.0   \n",
       "16      NaN                 650.0   \n",
       "17      NaN                 125.0   \n",
       "18      NaN                1200.0   \n",
       "19      NaN                1150.0   \n",
       "20      NaN                 650.0   \n",
       "21      NaN                 125.0   \n",
       "22      NaN                 125.0   \n",
       "23  3 roues                 350.0   \n",
       "24      NaN                 750.0   \n",
       "25      NaN                 500.0   \n",
       "26  3 roues                 125.0   \n",
       "27      NaN                 125.0   \n",
       "28      NaN                 600.0   \n",
       "29      NaN                 125.0   \n",
       "30      NaN                1000.0   \n",
       "31  3 roues                 500.0   \n",
       "32      NaN                 750.0   \n",
       "\n",
       "                                             comments  \n",
       "13  Description   HONDA GL1800 GOLDWING DU 06/2003...  \n",
       "14  Description   YAMAHA YZF 125 R 2018véhicule ne...  \n",
       "15  Description   A SAISIR RIEJU TANGO125  COLORIS...  \n",
       "16  Description   VÉHICULE POUR PERMIS A2 ET EN BO...  \n",
       "17  Description   KYMCO X-Town 125i CBS Immatricul...  \n",
       "18  Description   TRES BELLE PREMIERE MAIN GARANTI...  \n",
       "19  Description   BMW R 1150 R pack chrome livrée ...  \n",
       "20  Description   VERSYS 650 SE GT PACK GRAND TOUR...  \n",
       "21  Description   KYMCO NEW LIKE 125 CC BLANC DISP...  \n",
       "22  Description   Piaggio 125 Xevo 2009Scooter d'o...  \n",
       "23  Description Equipements de série : ABS, Anti-d...  \n",
       "24  Description   promotion sur shiver 900 au prix...  \n",
       "25  Description   PRÊTE POUR L’AVENTURE !La nouvel...  \n",
       "26  Description   YAMAHA TRICITY 125 ABS (scooter)...  \n",
       "27  Description   VENDU SANS TOP CASE . TOURTE MOT...  \n",
       "28  Description   SYM MAXSYM 60004/2018ETAT PROCHE...  \n",
       "29  Description   YAMAHA 125 YS DU 03/02/2021 ETAT...  \n",
       "30  Description   BMW S 1000 XR HP - 02/2019 5625k...  \n",
       "31  Description   PIAGGIO MP3 500 LT ABS - ASR   1...  \n",
       "32  Description   Moto Guzzi V7 III STONE S 750 Ré...  "
      ]
     },
     "execution_count": 489,
     "metadata": {},
     "output_type": "execute_result"
    }
   ],
   "source": [
    "data_moto = \"../../../tresboncoin/data/fulloccaz.csv\"\n",
    "data = pd.read_csv(data_moto)\n",
    "data.tail(20)"
   ]
  },
  {
   "cell_type": "code",
   "execution_count": 5,
   "id": "ae645156",
   "metadata": {},
   "outputs": [
    {
     "data": {
      "text/plain": [
       "(2719, 17)"
      ]
     },
     "execution_count": 5,
     "metadata": {},
     "output_type": "execute_result"
    }
   ],
   "source": [
    "data.shape"
   ]
  },
  {
   "cell_type": "code",
   "execution_count": null,
   "id": "dee95e4f",
   "metadata": {},
   "outputs": [],
   "source": []
  }
 ],
 "metadata": {
  "kernelspec": {
   "display_name": "Python 3",
   "language": "python",
   "name": "python3"
  },
  "language_info": {
   "codemirror_mode": {
    "name": "ipython",
    "version": 3
   },
   "file_extension": ".py",
   "mimetype": "text/x-python",
   "name": "python",
   "nbconvert_exporter": "python",
   "pygments_lexer": "ipython3",
   "version": "3.9.1"
  },
  "toc": {
   "base_numbering": 1,
   "nav_menu": {},
   "number_sections": true,
   "sideBar": true,
   "skip_h1_title": false,
   "title_cell": "Table of Contents",
   "title_sidebar": "Contents",
   "toc_cell": false,
   "toc_position": {},
   "toc_section_display": true,
   "toc_window_display": false
  },
  "varInspector": {
   "cols": {
    "lenName": 16,
    "lenType": 16,
    "lenVar": 40
   },
   "kernels_config": {
    "python": {
     "delete_cmd_postfix": "",
     "delete_cmd_prefix": "del ",
     "library": "var_list.py",
     "varRefreshCmd": "print(var_dic_list())"
    },
    "r": {
     "delete_cmd_postfix": ") ",
     "delete_cmd_prefix": "rm(",
     "library": "var_list.r",
     "varRefreshCmd": "cat(var_dic_list()) "
    }
   },
   "types_to_exclude": [
    "module",
    "function",
    "builtin_function_or_method",
    "instance",
    "_Feature"
   ],
   "window_display": false
  }
 },
 "nbformat": 4,
 "nbformat_minor": 5
}
