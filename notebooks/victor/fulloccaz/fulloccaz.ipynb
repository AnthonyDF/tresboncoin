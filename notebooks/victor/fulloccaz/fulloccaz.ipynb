{
 "cells": [
  {
   "cell_type": "code",
   "execution_count": 2,
   "id": "724c0e1e",
   "metadata": {},
   "outputs": [],
   "source": [
    "import requests\n",
    "from bs4 import BeautifulSoup\n",
    "import numpy as np\n",
    "import pandas as pd\n",
    "import datetime\n",
    "import re\n",
    "import time\n",
    "import os\n",
    "import json\n",
    "from PIL import Image \n",
    "import PIL \n",
    "pd.set_option('display.max_columns', None)\n",
    "import random\n",
    "import codecs\n",
    "import subprocess\n",
    "from selenium import webdriver\n",
    "from bs4 import BeautifulSoup\n",
    "import chromedriver_binary\n",
    "from selenium.webdriver.chrome.options import Options"
   ]
  },
  {
   "cell_type": "markdown",
   "id": "b8ec252e",
   "metadata": {},
   "source": [
    "# Headers"
   ]
  },
  {
   "cell_type": "code",
   "execution_count": 3,
   "id": "8ce5822e",
   "metadata": {},
   "outputs": [],
   "source": [
    "headers = {\n",
    "    'Connection': 'keep-alive',\n",
    "    'Cache-Control': 'max-age=0',\n",
    "    'sec-ch-ua': '\" Not;A Brand\";v=\"99\", \"Google Chrome\";v=\"91\", \"Chromium\";v=\"91\"',\n",
    "    'sec-ch-ua-mobile': '?0',\n",
    "    'Upgrade-Insecure-Requests': '1',\n",
    "    'User-Agent': 'Mozilla/5.0 (Macintosh; Intel Mac OS X 10_15_7) AppleWebKit/537.36 (KHTML, like Gecko) Chrome/91.0.4472.77 Safari/537.36',\n",
    "    'Accept': 'text/html,application/xhtml+xml,application/xml;q=0.9,image/avif,image/webp,image/apng,*/*;q=0.8,application/signed-exchange;v=b3;q=0.9',\n",
    "    'Sec-Fetch-Site': 'same-origin',\n",
    "    'Sec-Fetch-Mode': 'navigate',\n",
    "    'Sec-Fetch-User': '?1',\n",
    "    'Sec-Fetch-Dest': 'document',\n",
    "    'Accept-Language': 'fr-FR,fr;q=0.9,en-US;q=0.8,en;q=0.7',\n",
    "}"
   ]
  },
  {
   "cell_type": "markdown",
   "id": "7e9a31b8",
   "metadata": {},
   "source": [
    "# Save pages"
   ]
  },
  {
   "cell_type": "code",
   "execution_count": 5,
   "id": "5eac8249",
   "metadata": {},
   "outputs": [],
   "source": [
    "def save_page_list(req, page=1):\n",
    "    datetime_1 = datetime.datetime.now().strftime(\"%Y-%m-%d_%Hh%M\")\n",
    "    page_list_name = \"fulloccaz\" + \"-\" + datetime_1 + \"-\" + str(page)\n",
    "    with open(\"pages/\" + page_list_name + \".html\", \"w\")  as file:\n",
    "        file.write(req.text)\n",
    "        file.close()\n",
    "    return \"pages/\" + page_list_name + \".html\""
   ]
  },
  {
   "cell_type": "code",
   "execution_count": 5,
   "id": "f8e27ee4",
   "metadata": {},
   "outputs": [],
   "source": [
    "#def get_source_selenium(url_):\n",
    "#    options = Options()\n",
    "#    options.add_argument(\"--headless\")\n",
    "#    driver = webdriver.Chrome(options=options, executable_path=\"/Users/victor/Downloads/chromedriver\")\n",
    "#    driver.get(url_)\n",
    "#    page_source = driver.page_source\n",
    "#    driver.quit()\n",
    "#    return page_source"
   ]
  },
  {
   "cell_type": "code",
   "execution_count": null,
   "id": "32ef471c",
   "metadata": {},
   "outputs": [],
   "source": [
    "scrap = 1\n",
    "page_=1\n",
    "#\n",
    "while scrap==1:\n",
    "    html_file = requests.get(f\"https://www.fulloccaz.com/?&page={page_}\", headers=headers)\n",
    "    last_saved_file = save_page_list(html_file, page=page_)\n",
    "    \n",
    "    with open(last_saved_file, 'r') as f:\n",
    "        readable_html = f.read()\n",
    "        prices = get_prices_from_pages(readable_html)\n",
    "    if len(prices) == 0:\n",
    "        scrap=0\n",
    "\n",
    "    page_ += 1    \n",
    "    time.sleep(random.randint(1, 3))\n",
    "    print(\"page saved: \" + str(page_))"
   ]
  },
  {
   "cell_type": "markdown",
   "id": "9364631f",
   "metadata": {},
   "source": [
    "# Extract data from pages"
   ]
  },
  {
   "cell_type": "markdown",
   "id": "c1f26e30",
   "metadata": {},
   "source": [
    "## Test file"
   ]
  },
  {
   "cell_type": "code",
   "execution_count": 8,
   "id": "43462f70",
   "metadata": {},
   "outputs": [
    {
     "data": {
      "text/plain": [
       "'fulloccaz-2021-06-05_18h03-4.html'"
      ]
     },
     "execution_count": 8,
     "metadata": {},
     "output_type": "execute_result"
    }
   ],
   "source": [
    "file_test_name = [file for file in os.listdir(\"pages\") if file.endswith(\"html\")][-2]\n",
    "file_test_name"
   ]
  },
  {
   "cell_type": "code",
   "execution_count": 9,
   "id": "4aa3921d",
   "metadata": {},
   "outputs": [
    {
     "data": {
      "text/plain": [
       "'pages/fulloccaz-2021-06-05_18h03-4.html'"
      ]
     },
     "execution_count": 9,
     "metadata": {},
     "output_type": "execute_result"
    }
   ],
   "source": [
    "file_check_x15_good = f\"pages/{file_test_name}\"\n",
    "file_check_x15_good"
   ]
  },
  {
   "cell_type": "markdown",
   "id": "fae16044",
   "metadata": {},
   "source": [
    "## Get prices from pages"
   ]
  },
  {
   "cell_type": "code",
   "execution_count": 12,
   "id": "d77e1e8f",
   "metadata": {},
   "outputs": [],
   "source": [
    "def get_prices_from_pages(r):\n",
    "    \n",
    "    # set empty price list\n",
    "    price_list = []\n",
    "    \n",
    "    # get soup\n",
    "    soup = BeautifulSoup(r, 'html.parser')\n",
    "    \n",
    "    # extract price\n",
    "    step1 = soup.select('div[id*=\"IDVignettes\"]')\n",
    "    if len(step1) > 0:\n",
    "        step2 = step1[0].select('div[class*=\"CLPrix\"]')\n",
    "        if len(step2) > 0:\n",
    "            for k in step2:\n",
    "                try:\n",
    "                    price_list.append(float(\"\".join(re.findall(\"[0-9]\", k.text.replace(\"\\n\", \"\").replace(\"\\t\", \"\")))))\n",
    "                except:\n",
    "                    price_list.append(np.nan)    \n",
    "    return price_list"
   ]
  },
  {
   "cell_type": "code",
   "execution_count": 14,
   "id": "3f50cfed",
   "metadata": {},
   "outputs": [
    {
     "data": {
      "text/plain": [
       "[3999.0,\n",
       " 3500.0,\n",
       " 13990.0,\n",
       " 10690.0,\n",
       " 4500.0,\n",
       " 3490.0,\n",
       " 1600.0,\n",
       " 6400.0,\n",
       " 1500.0,\n",
       " 4699.0,\n",
       " 15990.0,\n",
       " 9990.0]"
      ]
     },
     "execution_count": 14,
     "metadata": {},
     "output_type": "execute_result"
    }
   ],
   "source": [
    "with open(file_check_x15_good, 'r') as f:\n",
    "    readable_html = f.read()\n",
    "    prices = get_prices_from_pages(readable_html)\n",
    "prices"
   ]
  },
  {
   "cell_type": "markdown",
   "id": "97c1da14",
   "metadata": {},
   "source": [
    "## Get url from pages"
   ]
  },
  {
   "cell_type": "code",
   "execution_count": 28,
   "id": "f804534c",
   "metadata": {},
   "outputs": [],
   "source": [
    "def get_urls_from_pages(r):\n",
    "    \n",
    "    # set empty url list\n",
    "    url_list = []\n",
    "    \n",
    "    # get soup\n",
    "    soup = BeautifulSoup(r, 'html.parser')\n",
    "    \n",
    "    # extract price\n",
    "    step1 = soup.select('div[id*=\"IDVignettes\"]')\n",
    "    if len(step1) > 0:\n",
    "        step2 = step1[0].select('a')\n",
    "        if len(step2) > 0:\n",
    "            for k in step2:\n",
    "                if \"href\" in k.attrs:\n",
    "                    try:\n",
    "                        url_list.append(\"https://www.fulloccaz.com\" + k.attrs[\"href\"])\n",
    "                    except:\n",
    "                        url_list.append(np.nan)    \n",
    "    return url_list"
   ]
  },
  {
   "cell_type": "code",
   "execution_count": 29,
   "id": "d789bb79",
   "metadata": {
    "scrolled": false
   },
   "outputs": [
    {
     "data": {
      "text/plain": [
       "['https://www.fulloccaz.com/fiches/index/2016520-occasion-honda-cbf-1000-f?',\n",
       " 'https://www.fulloccaz.com/fiches/index/2037451-occasion-honda-cb-600-f-hornet?',\n",
       " 'https://www.fulloccaz.com/fiches/index/2036585-occasion-moto-guzzi-california?',\n",
       " 'https://www.fulloccaz.com/fiches/index/2021545-occasion-ktm-790-adventure?',\n",
       " 'https://www.fulloccaz.com/fiches/index/2013814-occasion-suzuki-gsf-bandit-1250-s?',\n",
       " 'https://www.fulloccaz.com/fiches/index/2036850-occasion-yamaha-majesty-400?',\n",
       " 'https://www.fulloccaz.com/fiches/index/2036206-occasion-yamaha-x-max-125?',\n",
       " 'https://www.fulloccaz.com/fiches/index/2046628-occasion-peugeot-metropolis-400?',\n",
       " 'https://www.fulloccaz.com/fiches/index/2036168-occasion-yamaha-majesty-125?',\n",
       " 'https://www.fulloccaz.com/fiches/index/2022748-occasion-vespa-gts-super-sport?',\n",
       " 'https://www.fulloccaz.com/fiches/index/2015330-occasion-triumph-bonneville-1200-bobber?',\n",
       " 'https://www.fulloccaz.com/fiches/index/2015314-occasion-triumph-street-triple-rs?']"
      ]
     },
     "execution_count": 29,
     "metadata": {},
     "output_type": "execute_result"
    }
   ],
   "source": [
    "with open(file_check_x15_good, 'r') as f:\n",
    "    readable_html = f.read()\n",
    "    urls = get_urls_from_pages(readable_html)\n",
    "urls"
   ]
  },
  {
   "cell_type": "markdown",
   "id": "a78eb3ed",
   "metadata": {},
   "source": [
    "## Get references from pages"
   ]
  },
  {
   "cell_type": "code",
   "execution_count": 36,
   "id": "01808c0d",
   "metadata": {},
   "outputs": [],
   "source": [
    "def get_references_from_url_list(url_list_):\n",
    "    \n",
    "    # set empty ref list\n",
    "    ref_list = []\n",
    "    \n",
    "    for k in url_list_:\n",
    "        try:\n",
    "            ref_list.append(k.split(\"/\")[5].split(\"-\")[0])\n",
    "        except:\n",
    "            ref_list.append(np.nan)\n",
    "    #                \n",
    "    return ref_list"
   ]
  },
  {
   "cell_type": "code",
   "execution_count": 37,
   "id": "50dc8a84",
   "metadata": {},
   "outputs": [
    {
     "data": {
      "text/plain": [
       "['2016520',\n",
       " '2037451',\n",
       " '2036585',\n",
       " '2021545',\n",
       " '2013814',\n",
       " '2036850',\n",
       " '2036206',\n",
       " '2046628',\n",
       " '2036168',\n",
       " '2022748',\n",
       " '2015330',\n",
       " '2015314']"
      ]
     },
     "execution_count": 37,
     "metadata": {},
     "output_type": "execute_result"
    }
   ],
   "source": [
    "get_references_from_url_list(urls)"
   ]
  },
  {
   "cell_type": "markdown",
   "id": "0008c0f7",
   "metadata": {},
   "source": [
    "# Download single announce pages"
   ]
  },
  {
   "cell_type": "code",
   "execution_count": 24,
   "id": "e66e1799",
   "metadata": {},
   "outputs": [],
   "source": [
    "data_motoplanete = \"../../../tresboncoin/data/motoplanete.csv\"\n",
    "#data = pd.read_csv(data_motoplanete)"
   ]
  },
  {
   "cell_type": "code",
   "execution_count": 25,
   "id": "169a1163",
   "metadata": {},
   "outputs": [],
   "source": [
    "def add_the_announce(df, uniq_id, price):\n",
    "    if int(uniq_id) in list(df[\"unique id\"]):\n",
    "        index_ = df.index[df['unique id'] == int(uniq_id)].tolist()[0]\n",
    "        \n",
    "        # if an announce with same uniq id and same price is found, return true and skip\n",
    "        return df.iloc[index_][\"price\"]!=price\n",
    "    \n",
    "    # else, return false and add the announce\n",
    "    return True"
   ]
  },
  {
   "cell_type": "code",
   "execution_count": 26,
   "id": "c20917e2",
   "metadata": {},
   "outputs": [],
   "source": [
    "def save_page_uniq(req, uniq_id):\n",
    "    datetime_1 = datetime.datetime.now().strftime(\"%Y-%m-%d_%Hh%M\")\n",
    "    page_name = \"motoplanete\" + \"-\" + uniq_id + \"-\" + datetime_1\n",
    "    with open(\"annonces/\" + page_name + \".html\", \"w\")  as file:\n",
    "        file.write(req.text)\n",
    "        file.close()"
   ]
  },
  {
   "cell_type": "code",
   "execution_count": 27,
   "id": "8140f5cf",
   "metadata": {},
   "outputs": [],
   "source": [
    "def file_exists(uniq_id):\n",
    "    for k in os.listdir(\"annonces\"):\n",
    "        if \"-\" + str(uniq_id) + \"-\" in k:\n",
    "            return True\n",
    "    return False"
   ]
  },
  {
   "cell_type": "code",
   "execution_count": null,
   "id": "1286c1e8",
   "metadata": {
    "scrolled": false
   },
   "outputs": [],
   "source": [
    "page_count = 1\n",
    "for html_file in [file for file in os.listdir(\"pages\") if file.endswith(\"html\")]:\n",
    "    with open(f\"pages/{html_file}\", 'r') as f:\n",
    "        readable_html = f.read()\n",
    "        urls_list = get_urls_from_pages(readable_html)\n",
    "        unique_id = get_references_from_url_list(urls_list)\n",
    "        prices_list = get_prices_from_pages(readable_html)\n",
    "    if urls_list != None:\n",
    "        for url_single, uniq_id, price_ in zip(urls_list, unique_id, prices_list):\n",
    "            \n",
    "            #if add_the_announce(data_price, uniq_id, price_):\n",
    "            #html_file = get_source_selenium(url_single)\n",
    "            if file_exists(uniq_id) == False:\n",
    "                req_uniq = requests.get(url_single, headers = headers)\n",
    "                save_page_uniq(req_uniq, uniq_id)\n",
    "                print(str(page_count) + \". saved page id: \" + uniq_id)\n",
    "                time.sleep(random.randint(1, 5))\n",
    "                page_count += 1\n",
    "            else:\n",
    "                print(url_single + \" --> skipped\")"
   ]
  },
  {
   "cell_type": "markdown",
   "id": "2ad77ee1",
   "metadata": {},
   "source": [
    "# Process single announces\n",
    "Saving scaled images x3 and adding announce to DataFrame"
   ]
  },
  {
   "cell_type": "code",
   "execution_count": 350,
   "id": "354ca601",
   "metadata": {},
   "outputs": [
    {
     "data": {
      "text/html": [
       "<div>\n",
       "<style scoped>\n",
       "    .dataframe tbody tr th:only-of-type {\n",
       "        vertical-align: middle;\n",
       "    }\n",
       "\n",
       "    .dataframe tbody tr th {\n",
       "        vertical-align: top;\n",
       "    }\n",
       "\n",
       "    .dataframe thead th {\n",
       "        text-align: right;\n",
       "    }\n",
       "</style>\n",
       "<table border=\"1\" class=\"dataframe\">\n",
       "  <thead>\n",
       "    <tr style=\"text-align: right;\">\n",
       "      <th></th>\n",
       "      <th>url</th>\n",
       "      <th>unique id</th>\n",
       "      <th>date_scrapped</th>\n",
       "      <th>announce_publication_date</th>\n",
       "      <th>vehicle brand</th>\n",
       "      <th>vehicle type</th>\n",
       "      <th>color</th>\n",
       "      <th>hand</th>\n",
       "      <th>price</th>\n",
       "      <th>city</th>\n",
       "      <th>postal code</th>\n",
       "      <th>seller</th>\n",
       "      <th>seller_name</th>\n",
       "      <th>vehicle release date</th>\n",
       "      <th>mileage</th>\n",
       "      <th>engine capacity [CC]</th>\n",
       "      <th>comments</th>\n",
       "    </tr>\n",
       "  </thead>\n",
       "  <tbody>\n",
       "    <tr>\n",
       "      <th>0</th>\n",
       "      <td>NaN</td>\n",
       "      <td>NaN</td>\n",
       "      <td>NaN</td>\n",
       "      <td>NaN</td>\n",
       "      <td>NaN</td>\n",
       "      <td>NaN</td>\n",
       "      <td>NaN</td>\n",
       "      <td>NaN</td>\n",
       "      <td>NaN</td>\n",
       "      <td>NaN</td>\n",
       "      <td>NaN</td>\n",
       "      <td>NaN</td>\n",
       "      <td>NaN</td>\n",
       "      <td>NaN</td>\n",
       "      <td>NaN</td>\n",
       "      <td>NaN</td>\n",
       "      <td>NaN</td>\n",
       "    </tr>\n",
       "  </tbody>\n",
       "</table>\n",
       "</div>"
      ],
      "text/plain": [
       "   url  unique id  date_scrapped  announce_publication_date  vehicle brand  \\\n",
       "0  NaN        NaN            NaN                        NaN            NaN   \n",
       "\n",
       "   vehicle type  color  hand  price  city  postal code  seller  seller_name  \\\n",
       "0           NaN    NaN   NaN    NaN   NaN          NaN     NaN          NaN   \n",
       "\n",
       "   vehicle release date  mileage  engine capacity [CC]  comments  \n",
       "0                   NaN      NaN                   NaN       NaN  "
      ]
     },
     "execution_count": 350,
     "metadata": {},
     "output_type": "execute_result"
    }
   ],
   "source": [
    "announce_template = pd.DataFrame({\"url\": [np.nan],\n",
    "                                  \"unique id\": [np.nan],\n",
    "                                  \"date_scrapped\": [np.nan],\n",
    "                                  \"announce_publication_date\": [np.nan],\n",
    "                                  \"vehicle brand\": [np.nan],\n",
    "                                  \"vehicle type\": [np.nan],\n",
    "                                  \"color\": [np.nan],\n",
    "                                  \"hand\": [np.nan],\n",
    "                                  \"price\": [np.nan],\n",
    "                                  \"city\": [np.nan],\n",
    "                                  \"postal code\": [np.nan],\n",
    "                                  \"seller\": [np.nan],\n",
    "                                  \"seller_name\": [np.nan],\n",
    "                                  \"vehicle release date\": [np.nan],\n",
    "                                  \"mileage\": [np.nan],\n",
    "                                  \"engine capacity [CC]\": [np.nan],\n",
    "                                  \"comments\": [np.nan]})\n",
    "announce_template"
   ]
  },
  {
   "cell_type": "markdown",
   "id": "4a1a8ab8",
   "metadata": {},
   "source": [
    "## test announce"
   ]
  },
  {
   "cell_type": "code",
   "execution_count": 34,
   "id": "11a31c99",
   "metadata": {},
   "outputs": [
    {
     "data": {
      "text/plain": [
       "'annonces/motoplanete-41986-2021-06-03_23h18.html'"
      ]
     },
     "execution_count": 34,
     "metadata": {},
     "output_type": "execute_result"
    }
   ],
   "source": [
    "file_name = os.listdir(\"annonces\")[-1]\n",
    "#\n",
    "file_check_single = f\"annonces/{file_name}\"\n",
    "file_check_single"
   ]
  },
  {
   "cell_type": "markdown",
   "id": "6b786486",
   "metadata": {},
   "source": [
    "## Functions"
   ]
  },
  {
   "cell_type": "markdown",
   "id": "34e74c24",
   "metadata": {},
   "source": [
    "### Get url"
   ]
  },
  {
   "cell_type": "code",
   "execution_count": 36,
   "id": "a8b79c23",
   "metadata": {},
   "outputs": [],
   "source": [
    "def get_url(r):\n",
    "    \n",
    "    # set empty url list\n",
    "    url_ = \"\"\n",
    "    \n",
    "    # get soup\n",
    "    soup = BeautifulSoup(r, 'html.parser')\n",
    "    \n",
    "    # extract url\n",
    "    step1 = soup.select('meta[property*=\"og:url\"]')\n",
    "    if len(step1)>0:\n",
    "        return step1[0].attrs[\"content\"].split(\"?\")[0]\n",
    "    else:\n",
    "        return None"
   ]
  },
  {
   "cell_type": "code",
   "execution_count": 37,
   "id": "d32ca78c",
   "metadata": {},
   "outputs": [
    {
     "data": {
      "text/plain": [
       "'https://www.motoplanete.com/occasion-moto/41986/HPS/fiche.html'"
      ]
     },
     "execution_count": 37,
     "metadata": {},
     "output_type": "execute_result"
    }
   ],
   "source": [
    "with open(file_check_single, 'r') as f:\n",
    "    readable_html = f.read()\n",
    "    g_url = get_url(readable_html)\n",
    "g_url"
   ]
  },
  {
   "cell_type": "markdown",
   "id": "f94d3ed0",
   "metadata": {},
   "source": [
    "### Get unique id"
   ]
  },
  {
   "cell_type": "code",
   "execution_count": 52,
   "id": "e3f247a3",
   "metadata": {},
   "outputs": [],
   "source": [
    "def get_uniq_id(url_):\n",
    "    return url_.split(\"occasion-moto\")[1].split(\"/\")[1]"
   ]
  },
  {
   "cell_type": "code",
   "execution_count": 53,
   "id": "9fb60540",
   "metadata": {},
   "outputs": [
    {
     "data": {
      "text/plain": [
       "'41986'"
      ]
     },
     "execution_count": 53,
     "metadata": {},
     "output_type": "execute_result"
    }
   ],
   "source": [
    "with open(file_check_single, 'r') as f:\n",
    "    readable_html = f.read()\n",
    "    g_url = get_url(readable_html)\n",
    "get_uniq_id(g_url)"
   ]
  },
  {
   "cell_type": "markdown",
   "id": "4daaf16e",
   "metadata": {},
   "source": [
    "### get publication date"
   ]
  },
  {
   "cell_type": "code",
   "execution_count": 128,
   "id": "5ca647ac",
   "metadata": {},
   "outputs": [],
   "source": [
    "def get_publication_date(r):\n",
    "    \n",
    "    # set empty \n",
    "    pub_ = \"\"\n",
    "    \n",
    "    # get soup\n",
    "    soup = BeautifulSoup(r, 'html.parser')\n",
    "    \n",
    "    # extract\n",
    "    step1 = soup.select('ul[class*=\"details\"]')\n",
    "    if len(step1)>0:\n",
    "        for k in step1[0].select(\"li\"):\n",
    "            if k.select('i')[0].attrs[\"class\"][0] == \"icon-profile\":\n",
    "                return k.select(\"b\")[0].text\n",
    "    else:\n",
    "        return np.nan"
   ]
  },
  {
   "cell_type": "code",
   "execution_count": 129,
   "id": "fd4141c0",
   "metadata": {},
   "outputs": [
    {
     "data": {
      "text/plain": [
       "'04/08/2020'"
      ]
     },
     "execution_count": 129,
     "metadata": {},
     "output_type": "execute_result"
    }
   ],
   "source": [
    "with open(file_check_single, 'r') as f:\n",
    "    readable_html = f.read()\n",
    "    g_pub = get_publication_date(readable_html)\n",
    "g_pub"
   ]
  },
  {
   "cell_type": "markdown",
   "id": "76f23b49",
   "metadata": {},
   "source": [
    "### Get vehicule brand"
   ]
  },
  {
   "cell_type": "code",
   "execution_count": 143,
   "id": "18fd32ca",
   "metadata": {},
   "outputs": [],
   "source": [
    "def get_brand_and_model(r):\n",
    "    \n",
    "    # set empty \n",
    "    brand_ = \"\"\n",
    "    \n",
    "    # get soup\n",
    "    soup = BeautifulSoup(r, 'html.parser')\n",
    "    \n",
    "    # extract\n",
    "    step1 = soup.select('h1')\n",
    "    if len(step1)>0:\n",
    "        return step1[0].text\n",
    "    else:\n",
    "        return None"
   ]
  },
  {
   "cell_type": "code",
   "execution_count": 144,
   "id": "79dc7f43",
   "metadata": {},
   "outputs": [
    {
     "data": {
      "text/plain": [
       "'FB Mondial HPS 2020'"
      ]
     },
     "execution_count": 144,
     "metadata": {},
     "output_type": "execute_result"
    }
   ],
   "source": [
    "with open(file_check_single, 'r') as f:\n",
    "    readable_html = f.read()\n",
    "    g_brand = get_brand_and_model(readable_html)\n",
    "g_brand"
   ]
  },
  {
   "cell_type": "markdown",
   "id": "c2f5cc1a",
   "metadata": {},
   "source": [
    "### Get vehicule type"
   ]
  },
  {
   "cell_type": "code",
   "execution_count": 146,
   "id": "3b8264aa",
   "metadata": {},
   "outputs": [],
   "source": [
    "def get_type(r):\n",
    "    \n",
    "    # get soup\n",
    "    soup = BeautifulSoup(r, 'html.parser')\n",
    "    \n",
    "    # extract\n",
    "    step1 = soup.select('ul[class*=\"details\"]')\n",
    "    if len(step1)>0:\n",
    "        for k in step1[0].select(\"li\"):\n",
    "            if k.select('i')[0].attrs[\"class\"][0] == \"icon-roadster-2\":\n",
    "                return k.select(\"b\")[0].text\n",
    "    else:\n",
    "        return np.nan"
   ]
  },
  {
   "cell_type": "code",
   "execution_count": 147,
   "id": "dd4db3dc",
   "metadata": {},
   "outputs": [
    {
     "data": {
      "text/plain": [
       "'Roadster'"
      ]
     },
     "execution_count": 147,
     "metadata": {},
     "output_type": "execute_result"
    }
   ],
   "source": [
    "with open(file_check_single, 'r') as f:\n",
    "    readable_html = f.read()\n",
    "    g_type = get_type(readable_html)\n",
    "g_type"
   ]
  },
  {
   "cell_type": "markdown",
   "id": "c7140f84",
   "metadata": {},
   "source": [
    "### get color"
   ]
  },
  {
   "cell_type": "code",
   "execution_count": 156,
   "id": "3f7fae62",
   "metadata": {},
   "outputs": [],
   "source": [
    "def get_color(r):\n",
    "    \n",
    "    # get soup\n",
    "    soup = BeautifulSoup(r, 'html.parser')\n",
    "    \n",
    "    # extract\n",
    "    step1 = soup.select('ul[class*=\"details\"]')\n",
    "    if len(step1)>0:\n",
    "        for k in step1[0].select(\"li\"):\n",
    "            if k.select('i')[0].attrs[\"class\"][0] == \"icon-format_color_fill\":\n",
    "                return k.select(\"b\")[0].attrs[\"class\"][-1]\n",
    "    else:\n",
    "        return np.nan"
   ]
  },
  {
   "cell_type": "code",
   "execution_count": 157,
   "id": "ba9c6abc",
   "metadata": {},
   "outputs": [
    {
     "data": {
      "text/plain": [
       "'noir'"
      ]
     },
     "execution_count": 157,
     "metadata": {},
     "output_type": "execute_result"
    }
   ],
   "source": [
    "with open(file_check_single, 'r') as f:\n",
    "    readable_html = f.read()\n",
    "    g_type = get_color(readable_html)\n",
    "g_type"
   ]
  },
  {
   "cell_type": "markdown",
   "id": "e59a1292",
   "metadata": {},
   "source": [
    "### get hand"
   ]
  },
  {
   "cell_type": "code",
   "execution_count": 163,
   "id": "e9a7cda4",
   "metadata": {},
   "outputs": [],
   "source": [
    "def get_hand(r):\n",
    "    \n",
    "    # get soup\n",
    "    soup = BeautifulSoup(r, 'html.parser')\n",
    "    \n",
    "    # extract\n",
    "    step1 = soup.select('ul[class*=\"details\"]')\n",
    "    if len(step1)>0:\n",
    "        for k in step1[0].select(\"li\"):\n",
    "            if k.select('i')[0].attrs[\"class\"][0] == \"icon-user\":\n",
    "                return k.text\n",
    "    else:\n",
    "        return np.nan"
   ]
  },
  {
   "cell_type": "code",
   "execution_count": 165,
   "id": "fc37dd41",
   "metadata": {},
   "outputs": [
    {
     "data": {
      "text/plain": [
       "'Première main'"
      ]
     },
     "execution_count": 165,
     "metadata": {},
     "output_type": "execute_result"
    }
   ],
   "source": [
    "with open(file_check_single, 'r') as f:\n",
    "    readable_html = f.read()\n",
    "    g_type = get_hand(readable_html)\n",
    "g_type"
   ]
  },
  {
   "cell_type": "markdown",
   "id": "2ad27662",
   "metadata": {},
   "source": [
    "### get price"
   ]
  },
  {
   "cell_type": "code",
   "execution_count": 178,
   "id": "fb13bb48",
   "metadata": {},
   "outputs": [],
   "source": [
    "def get_price(r):\n",
    "    \n",
    "    # get soup\n",
    "    soup = BeautifulSoup(r, 'html.parser')\n",
    "    \n",
    "    # extract\n",
    "    step1 = soup.select('ul[class*=\"details\"]')\n",
    "    if len(step1)>0:\n",
    "        for k in step1[0].select(\"li\"):\n",
    "            if k.select('i')[0].attrs[\"class\"][0] == \"icon-eur\":\n",
    "                try:\n",
    "                    return float(\"\".join(re.findall(\"[0-9]\", k.select(\"b\")[0].text)))\n",
    "                except:\n",
    "                    return np.nan\n",
    "    else:\n",
    "        return np.nan"
   ]
  },
  {
   "cell_type": "code",
   "execution_count": 179,
   "id": "2cda5a45",
   "metadata": {},
   "outputs": [
    {
     "data": {
      "text/plain": [
       "3490.0"
      ]
     },
     "execution_count": 179,
     "metadata": {},
     "output_type": "execute_result"
    }
   ],
   "source": [
    "with open(file_check_single, 'r') as f:\n",
    "    readable_html = f.read()\n",
    "    g_type = get_price(readable_html)\n",
    "g_type"
   ]
  },
  {
   "cell_type": "markdown",
   "id": "8ad9f2a6",
   "metadata": {},
   "source": [
    "### get city"
   ]
  },
  {
   "cell_type": "code",
   "execution_count": 198,
   "id": "c6dd5e0e",
   "metadata": {},
   "outputs": [],
   "source": [
    "def get_city(r):\n",
    "    \n",
    "    # get soup\n",
    "    soup = BeautifulSoup(r, 'html.parser')\n",
    "    \n",
    "    # extract\n",
    "    step1 = soup.select('div[class*=\"contact\"]')\n",
    "    if len(step1)>0:\n",
    "        try:\n",
    "            return step1[0].select(\"span\")[-1].text\n",
    "        except:\n",
    "            return np.nan\n",
    "    return None"
   ]
  },
  {
   "cell_type": "code",
   "execution_count": 199,
   "id": "ca22778d",
   "metadata": {
    "scrolled": false
   },
   "outputs": [
    {
     "data": {
      "text/plain": [
       "'ROCHEFORT DU GARD'"
      ]
     },
     "execution_count": 199,
     "metadata": {},
     "output_type": "execute_result"
    }
   ],
   "source": [
    "with open(file_check_single, 'r') as f:\n",
    "    readable_html = f.read()\n",
    "    g_city = get_city(readable_html)\n",
    "g_city"
   ]
  },
  {
   "cell_type": "markdown",
   "id": "4124bf5f",
   "metadata": {},
   "source": [
    "### get postal code"
   ]
  },
  {
   "cell_type": "code",
   "execution_count": 201,
   "id": "758cca57",
   "metadata": {},
   "outputs": [],
   "source": [
    "def get_postal(r):\n",
    "    \n",
    "    # get soup\n",
    "    soup = BeautifulSoup(r, 'html.parser')\n",
    "    \n",
    "    # extract\n",
    "    step1 = soup.select('div[class*=\"contact\"]')\n",
    "    if len(step1)>0:\n",
    "        try:\n",
    "            return step1[0].select(\"span\")[0].text\n",
    "        except:\n",
    "            return np.nan\n",
    "    return None"
   ]
  },
  {
   "cell_type": "code",
   "execution_count": 202,
   "id": "68b4d657",
   "metadata": {},
   "outputs": [
    {
     "data": {
      "text/plain": [
       "'30650'"
      ]
     },
     "execution_count": 202,
     "metadata": {},
     "output_type": "execute_result"
    }
   ],
   "source": [
    "with open(file_check_single, 'r') as f:\n",
    "    readable_html = f.read()\n",
    "    g_post = get_postal(readable_html)\n",
    "g_post"
   ]
  },
  {
   "cell_type": "markdown",
   "id": "a6161164",
   "metadata": {},
   "source": [
    "### get seller"
   ]
  },
  {
   "cell_type": "code",
   "execution_count": 243,
   "id": "e0a52668",
   "metadata": {},
   "outputs": [],
   "source": [
    "def get_seller(r):\n",
    "    \n",
    "    # get soup\n",
    "    soup = BeautifulSoup(r, 'html.parser')\n",
    "    \n",
    "    # count\n",
    "    count_ = 0\n",
    "    \n",
    "    # extract\n",
    "    step1 = soup.select('div[class*=\"contact\"]')\n",
    "    if len(step1)>0:\n",
    "        step2 = step1[0].select('p')\n",
    "        while step2[count_].text != \"Concession\":\n",
    "            count_+=1\n",
    "        try:\n",
    "            return step1[0].select('p')[count_+1].text\n",
    "        except:\n",
    "            return np.nan\n",
    "    return None"
   ]
  },
  {
   "cell_type": "code",
   "execution_count": 244,
   "id": "e98e7c51",
   "metadata": {},
   "outputs": [
    {
     "data": {
      "text/plain": [
       "'TRIUMPH PROVENCE'"
      ]
     },
     "execution_count": 244,
     "metadata": {},
     "output_type": "execute_result"
    }
   ],
   "source": [
    "with open(file_check_single, 'r') as f:\n",
    "    readable_html = f.read()\n",
    "    g_seller = get_seller(readable_html)\n",
    "g_seller"
   ]
  },
  {
   "cell_type": "markdown",
   "id": "3e1f6539",
   "metadata": {},
   "source": [
    "### get seller name"
   ]
  },
  {
   "cell_type": "code",
   "execution_count": 246,
   "id": "33a3d3ae",
   "metadata": {},
   "outputs": [],
   "source": [
    "def get_seller_name(r):\n",
    "    \n",
    "    # get soup\n",
    "    soup = BeautifulSoup(r, 'html.parser')\n",
    "    \n",
    "    # count\n",
    "    count_ = 0\n",
    "    \n",
    "    # extract\n",
    "    step1 = soup.select('div[class*=\"contact\"]')\n",
    "    if len(step1)>0:\n",
    "        step2 = step1[0].select('p')\n",
    "        while step2[count_].text != \"Contact\":\n",
    "            count_+=1\n",
    "        try:\n",
    "            return step1[0].select('p')[count_+1].text\n",
    "        except:\n",
    "            return np.nan\n",
    "    return None"
   ]
  },
  {
   "cell_type": "code",
   "execution_count": 247,
   "id": "e7318a38",
   "metadata": {},
   "outputs": [
    {
     "data": {
      "text/plain": [
       "'Nicolas'"
      ]
     },
     "execution_count": 247,
     "metadata": {},
     "output_type": "execute_result"
    }
   ],
   "source": [
    "with open(file_check_single, 'r') as f:\n",
    "    readable_html = f.read()\n",
    "    g_seller_name = get_seller_name(readable_html)\n",
    "g_seller_name"
   ]
  },
  {
   "cell_type": "markdown",
   "id": "f63a3b65",
   "metadata": {},
   "source": [
    "### get vehicle release date"
   ]
  },
  {
   "cell_type": "code",
   "execution_count": 253,
   "id": "8457cad6",
   "metadata": {},
   "outputs": [],
   "source": [
    "def get_release(r):\n",
    "    \n",
    "    # get soup\n",
    "    soup = BeautifulSoup(r, 'html.parser')\n",
    "    \n",
    "    # extract\n",
    "    step1 = soup.select('ul[class*=\"details\"]')\n",
    "    if len(step1)>0:\n",
    "        for k in step1[0].select(\"li\"):\n",
    "            if k.select('i')[0].attrs[\"class\"][0] == \"icon-profile\":\n",
    "                try:\n",
    "                    return k.select(\"b\")[0].text\n",
    "                except:\n",
    "                    return np.nan\n",
    "    else:\n",
    "        return np.nan"
   ]
  },
  {
   "cell_type": "code",
   "execution_count": 254,
   "id": "c0a3b118",
   "metadata": {},
   "outputs": [
    {
     "data": {
      "text/plain": [
       "'04/08/2020'"
      ]
     },
     "execution_count": 254,
     "metadata": {},
     "output_type": "execute_result"
    }
   ],
   "source": [
    "with open(file_check_single, 'r') as f:\n",
    "    readable_html = f.read()\n",
    "    g_rel = get_release(readable_html)\n",
    "g_rel"
   ]
  },
  {
   "cell_type": "markdown",
   "id": "a198c391",
   "metadata": {},
   "source": [
    "### get vehicle mileage"
   ]
  },
  {
   "cell_type": "code",
   "execution_count": 258,
   "id": "b5b09439",
   "metadata": {},
   "outputs": [],
   "source": [
    "def get_mileage(r):\n",
    "    \n",
    "    # get soup\n",
    "    soup = BeautifulSoup(r, 'html.parser')\n",
    "    \n",
    "    # extract\n",
    "    step1 = soup.select('ul[class*=\"details\"]')\n",
    "    if len(step1)>0:\n",
    "        for k in step1[0].select(\"li\"):\n",
    "            if k.select('i')[0].attrs[\"class\"][0] == \"icon-meter\":\n",
    "                try:\n",
    "                    return float(\"\".join(re.findall(\"[0-9]\", k.select(\"b\")[0].text)))\n",
    "                except:\n",
    "                    return np.nan\n",
    "    else:\n",
    "        return np.nan"
   ]
  },
  {
   "cell_type": "code",
   "execution_count": 259,
   "id": "9a76fbad",
   "metadata": {},
   "outputs": [
    {
     "data": {
      "text/plain": [
       "2000.0"
      ]
     },
     "execution_count": 259,
     "metadata": {},
     "output_type": "execute_result"
    }
   ],
   "source": [
    "with open(file_check_single, 'r') as f:\n",
    "    readable_html = f.read()\n",
    "    g_mileage = get_mileage(readable_html)\n",
    "g_mileage"
   ]
  },
  {
   "cell_type": "markdown",
   "id": "cf637222",
   "metadata": {},
   "source": [
    "### get engine capacity"
   ]
  },
  {
   "cell_type": "code",
   "execution_count": 261,
   "id": "513cf5bb",
   "metadata": {},
   "outputs": [],
   "source": [
    "def get_capa(r):\n",
    "    \n",
    "    # get soup\n",
    "    soup = BeautifulSoup(r, 'html.parser')\n",
    "    \n",
    "    # extract\n",
    "    step1 = soup.select('ul[class*=\"details\"]')\n",
    "    if len(step1)>0:\n",
    "        for k in step1[0].select(\"li\"):\n",
    "            if k.select('i')[0].attrs[\"class\"][0] == \"icon-picto-pieces-moteur\":\n",
    "                try:\n",
    "                    return float(\"\".join(re.findall(\"[0-9]\", k.select(\"b\")[0].text)))\n",
    "                except:\n",
    "                    return np.nan\n",
    "    else:\n",
    "        return np.nan"
   ]
  },
  {
   "cell_type": "code",
   "execution_count": 262,
   "id": "0df5fe56",
   "metadata": {},
   "outputs": [
    {
     "data": {
      "text/plain": [
       "125.0"
      ]
     },
     "execution_count": 262,
     "metadata": {},
     "output_type": "execute_result"
    }
   ],
   "source": [
    "with open(file_check_single, 'r') as f:\n",
    "    readable_html = f.read()\n",
    "    g_capa = get_capa(readable_html)\n",
    "g_capa"
   ]
  },
  {
   "cell_type": "markdown",
   "id": "124b1f05",
   "metadata": {},
   "source": [
    "### get comment"
   ]
  },
  {
   "cell_type": "code",
   "execution_count": 302,
   "id": "5c8b66e5",
   "metadata": {},
   "outputs": [],
   "source": [
    "def cleanhtml(raw_html):\n",
    "    cleanr = re.compile('<.*?>')\n",
    "    cleantext = re.sub(cleanr, ' ', raw_html)\n",
    "    return cleantext"
   ]
  },
  {
   "cell_type": "code",
   "execution_count": 357,
   "id": "9a26e8e1",
   "metadata": {},
   "outputs": [],
   "source": [
    "def get_comment(r):\n",
    "    \n",
    "    # get soup\n",
    "    soup = BeautifulSoup(r, 'html.parser')\n",
    "    \n",
    "    # extract\n",
    "    step1 = soup.select('div[class*=\"description\"]')\n",
    "    if len(step1)>0:\n",
    "        try:\n",
    "            return cleanhtml(step1[0].text.replace(\"\\n\", \" \").replace(\"\\t\", \" \").replace(\"  \", \"\").strip())\n",
    "        except:\n",
    "            return \"\"\n",
    "    return \"\""
   ]
  },
  {
   "cell_type": "code",
   "execution_count": 358,
   "id": "fa34cfb6",
   "metadata": {},
   "outputs": [
    {
     "data": {
      "text/plain": [
       "'Mot du vendeur : FB MONDIAL 125Moto propre, entretenue et soignée (Carnet d\\'entretien + Manuel d\\'utilisation disponibles)Cette moto est une première mainAucuns frais à prévoirGarantie 6 moisD\\'origine est équipée :* ABS * Plaque Latérale_____________________________FINANCEMENT partiel ou intégral.EXTENSION de Garantie.EXPEDITION dans toute la France.ASSURANCE sur place.REPRISE possible.\"Les données présentées dans cette annonce peuvent être sujettes à des erreurs. Pour toute information, contactez nous par téléphone ou par mail.\" ,1ère main,Disponible à l\\'essai,Garantie 6 mois'"
      ]
     },
     "execution_count": 358,
     "metadata": {},
     "output_type": "execute_result"
    }
   ],
   "source": [
    "with codecs.open(file_check_single, 'r', encoding='utf-8', errors='ignore') as f:\n",
    "    readable_html = f.read()\n",
    "    g_comment = get_comment(readable_html)\n",
    "g_comment"
   ]
  },
  {
   "cell_type": "markdown",
   "id": "fd6a2a90",
   "metadata": {},
   "source": [
    "### Save image functions"
   ]
  },
  {
   "cell_type": "code",
   "execution_count": 336,
   "id": "2b06a44f",
   "metadata": {},
   "outputs": [],
   "source": [
    "def get_images(r, uniq_id):\n",
    "    \n",
    "    # get images url list\n",
    "    image_list = []\n",
    "    \n",
    "    # get soup\n",
    "    soup_ = BeautifulSoup(r, 'html.parser')\n",
    "    \n",
    "    # extract\n",
    "    step1 = soup_.select('img[class*=\"swiper-lazy\"]')\n",
    "    \n",
    "    if len(step1)>0:\n",
    "        for k in step1:\n",
    "            if \"data-src\" in k.attrs:\n",
    "                image_list.append(\"https://www.motoplanete.com\" + k.attrs['data-src'])\n",
    "    \n",
    "    # save images\n",
    "    k=1\n",
    "    for image_url in image_list[0:3]:\n",
    "        image_name = f'images/{uniq_id}-{k}.jpg'\n",
    "        if os.path.isfile(image_name) is False:\n",
    "            img_data = requests.get(image_url).content\n",
    "            with open(image_name, 'wb') as handler:\n",
    "                handler.write(img_data)\n",
    "            try:\n",
    "                image = Image.open(image_name) \n",
    "                ratio = image.size[0] / image.size[1]\n",
    "                image = image.resize((300,int(300/ratio)))\n",
    "                image.save(f'images/{uniq_id}-{k}.jpg',optimize = True, quality = 70)\n",
    "            except:\n",
    "                pass\n",
    "        k+=1\n",
    "        \n",
    "    return"
   ]
  },
  {
   "cell_type": "code",
   "execution_count": 337,
   "id": "c09c7315",
   "metadata": {},
   "outputs": [],
   "source": [
    "with open(file_check_single, 'r') as f:\n",
    "    readable_html = f.read()\n",
    "    g_url = get_url(readable_html)\n",
    "    get_images(readable_html, get_uniq_id(g_url))"
   ]
  },
  {
   "cell_type": "code",
   "execution_count": null,
   "id": "4a816f19",
   "metadata": {},
   "outputs": [],
   "source": []
  },
  {
   "cell_type": "code",
   "execution_count": null,
   "id": "7dd08ad2",
   "metadata": {},
   "outputs": [],
   "source": []
  },
  {
   "cell_type": "code",
   "execution_count": null,
   "id": "d728a73e",
   "metadata": {},
   "outputs": [],
   "source": []
  },
  {
   "cell_type": "code",
   "execution_count": null,
   "id": "91c29560",
   "metadata": {},
   "outputs": [],
   "source": []
  },
  {
   "cell_type": "markdown",
   "id": "b5638888",
   "metadata": {},
   "source": [
    "<div style=\"color:orangered; font-weight:700; font-size:20pt\">TEST 100 ANNONCES</div>"
   ]
  },
  {
   "cell_type": "code",
   "execution_count": null,
   "id": "562f0eb0",
   "metadata": {
    "scrolled": false
   },
   "outputs": [],
   "source": [
    "counter = 1\n",
    "list_test = []\n",
    "for single_ in os.listdir(\"annonces\")[0:100]:\n",
    "    with open(f\"annonces/{single_}\", 'r') as f:\n",
    "        readable_html = f.read()\n",
    "        g_X = get_comment(readable_html)\n",
    "        print(counter, g_X)\n",
    "        counter+=1"
   ]
  },
  {
   "cell_type": "code",
   "execution_count": null,
   "id": "610e0422",
   "metadata": {},
   "outputs": [],
   "source": []
  },
  {
   "cell_type": "markdown",
   "id": "81b602cc",
   "metadata": {},
   "source": [
    "## Extract 1 announce"
   ]
  },
  {
   "cell_type": "code",
   "execution_count": 378,
   "id": "b94522dd",
   "metadata": {},
   "outputs": [],
   "source": [
    "def process_announce(file_name):\n",
    "    \"\"\" this function add an announce content from motoplanete.com to the dataframe \"\"\"\n",
    "    \n",
    "    # load csv if exists or starting from template\n",
    "    data_motoplanete = \"../../../tresboncoin/data/motoplanete.csv\"\n",
    "    #\n",
    "    if os.path.isfile(data_motoplanete) is False:\n",
    "        pass\n",
    "    else:\n",
    "        data = pd.read_csv(data_motoplanete)\n",
    "    \n",
    "    df = announce_template.copy()\n",
    "    \n",
    "    # fill df with defined functions\n",
    "    with open(f\"annonces/{file_name}\", 'r') as f:\n",
    "        readable_html = f.read()\n",
    "        \n",
    "        df[\"url\"] = get_url(readable_html)\n",
    "        df[\"unique id\"] = get_uniq_id(get_url(readable_html))\n",
    "        df[\"date_scrapped\"] = datetime.datetime.now().strftime(\"%Y/%m/%d - %Hh%M\")\n",
    "        df[\"announce_publication_date\"] = get_publication_date(readable_html)\n",
    "        df[\"vehicle brand\"] = get_brand_and_model(readable_html)\n",
    "        df[\"vehicle type\"] = get_type(readable_html)\n",
    "        df[\"color\"] = get_color(readable_html)\n",
    "        df[\"hand\"] = get_hand(readable_html)\n",
    "        df[\"price\"] = get_price(readable_html)\n",
    "        df[\"city\"] = get_city(readable_html)\n",
    "        df[\"postal code\"] = get_postal(readable_html)\n",
    "        df[\"seller\"] = get_seller(readable_html)\n",
    "        df[\"seller_name\"] = get_seller_name(readable_html)\n",
    "        df[\"vehicle release date\"] = get_release(readable_html)\n",
    "        df[\"mileage\"] = get_mileage(readable_html)\n",
    "        df[\"engine capacity [CC]\"] = get_capa(readable_html)\n",
    "        df[\"comments\"] = get_comment(readable_html)\n",
    "    \n",
    "        # save images\n",
    "        get_images(readable_html, get_uniq_id(get_url(readable_html)))\n",
    "        \n",
    "    # concatenate to csv and write\n",
    "    try:\n",
    "        data = pd.concat([data, df], axis=0)\n",
    "        data.to_csv(path_or_buf = data_motoplanete, index=False)\n",
    "    except:\n",
    "        df.to_csv(path_or_buf = data_motoplanete, index=False)\n",
    "    \n",
    "    # deplacer le fichier html traité dans le vault\n",
    "    subprocess.run([\"mv\", f\"annonces/{file_name}\", \"vault\"])\n",
    "    return"
   ]
  },
  {
   "cell_type": "code",
   "execution_count": 379,
   "id": "de41cc1d",
   "metadata": {},
   "outputs": [
    {
     "data": {
      "text/plain": [
       "['.DS_Store', 'motoplanete-41722-2021-06-04_20h02.html']"
      ]
     },
     "execution_count": 379,
     "metadata": {},
     "output_type": "execute_result"
    }
   ],
   "source": [
    "list(os.listdir(\"annonces\")[0:2])"
   ]
  },
  {
   "cell_type": "code",
   "execution_count": 15,
   "id": "4fc79b2f",
   "metadata": {},
   "outputs": [],
   "source": [
    "for single_ in [file for file in os.listdir(\"annonces\") if file.endswith(\".html\")]:\n",
    "    process_announce(single_)"
   ]
  },
  {
   "cell_type": "code",
   "execution_count": 16,
   "id": "55cb5481",
   "metadata": {},
   "outputs": [
    {
     "data": {
      "text/html": [
       "<div>\n",
       "<style scoped>\n",
       "    .dataframe tbody tr th:only-of-type {\n",
       "        vertical-align: middle;\n",
       "    }\n",
       "\n",
       "    .dataframe tbody tr th {\n",
       "        vertical-align: top;\n",
       "    }\n",
       "\n",
       "    .dataframe thead th {\n",
       "        text-align: right;\n",
       "    }\n",
       "</style>\n",
       "<table border=\"1\" class=\"dataframe\">\n",
       "  <thead>\n",
       "    <tr style=\"text-align: right;\">\n",
       "      <th></th>\n",
       "      <th>url</th>\n",
       "      <th>unique id</th>\n",
       "      <th>date_scrapped</th>\n",
       "      <th>announce_publication_date</th>\n",
       "      <th>vehicle brand</th>\n",
       "      <th>vehicle type</th>\n",
       "      <th>color</th>\n",
       "      <th>hand</th>\n",
       "      <th>price</th>\n",
       "      <th>city</th>\n",
       "      <th>postal code</th>\n",
       "      <th>seller</th>\n",
       "      <th>seller_name</th>\n",
       "      <th>vehicle release date</th>\n",
       "      <th>mileage</th>\n",
       "      <th>engine capacity [CC]</th>\n",
       "      <th>comments</th>\n",
       "    </tr>\n",
       "  </thead>\n",
       "  <tbody>\n",
       "    <tr>\n",
       "      <th>2717</th>\n",
       "      <td>https://www.motoplanete.com/occasion-moto/4271...</td>\n",
       "      <td>42718</td>\n",
       "      <td>2021/06/05 - 09h00</td>\n",
       "      <td>24/07/2013</td>\n",
       "      <td>Kawasaki ER-6 2013</td>\n",
       "      <td>Roadster</td>\n",
       "      <td>argent</td>\n",
       "      <td>NaN</td>\n",
       "      <td>4500.0</td>\n",
       "      <td>RUAUDIN</td>\n",
       "      <td>72230</td>\n",
       "      <td>LE MANS MOTO</td>\n",
       "      <td>Service commercial</td>\n",
       "      <td>24/07/2013</td>\n",
       "      <td>20500.0</td>\n",
       "      <td>650.0</td>\n",
       "      <td>Mot du vendeur : ,Compatible Permis A2,Garanti...</td>\n",
       "    </tr>\n",
       "    <tr>\n",
       "      <th>2718</th>\n",
       "      <td>https://www.motoplanete.com/occasion-moto/4066...</td>\n",
       "      <td>40665</td>\n",
       "      <td>2021/06/05 - 09h00</td>\n",
       "      <td>20/07/2018</td>\n",
       "      <td>BMW K 1600 GTL 2018</td>\n",
       "      <td>Routière &amp; GT</td>\n",
       "      <td>blanc</td>\n",
       "      <td>Première main</td>\n",
       "      <td>20800.0</td>\n",
       "      <td>AVIGNON</td>\n",
       "      <td>84000</td>\n",
       "      <td>JMS YAM STORE</td>\n",
       "      <td>Service commercial</td>\n",
       "      <td>20/07/2018</td>\n",
       "      <td>16213.0</td>\n",
       "      <td>1600.0</td>\n",
       "      <td>Mot du vendeur : BMW K 1600 GTL 20/07/2018 JMS...</td>\n",
       "    </tr>\n",
       "  </tbody>\n",
       "</table>\n",
       "</div>"
      ],
      "text/plain": [
       "                                                    url  unique id  \\\n",
       "2717  https://www.motoplanete.com/occasion-moto/4271...      42718   \n",
       "2718  https://www.motoplanete.com/occasion-moto/4066...      40665   \n",
       "\n",
       "           date_scrapped announce_publication_date        vehicle brand  \\\n",
       "2717  2021/06/05 - 09h00                24/07/2013   Kawasaki ER-6 2013   \n",
       "2718  2021/06/05 - 09h00                20/07/2018  BMW K 1600 GTL 2018   \n",
       "\n",
       "       vehicle type   color           hand    price     city postal code  \\\n",
       "2717       Roadster  argent            NaN   4500.0  RUAUDIN       72230   \n",
       "2718  Routière & GT   blanc  Première main  20800.0  AVIGNON       84000   \n",
       "\n",
       "             seller         seller_name vehicle release date  mileage  \\\n",
       "2717   LE MANS MOTO  Service commercial           24/07/2013  20500.0   \n",
       "2718  JMS YAM STORE  Service commercial           20/07/2018  16213.0   \n",
       "\n",
       "      engine capacity [CC]                                           comments  \n",
       "2717                 650.0  Mot du vendeur : ,Compatible Permis A2,Garanti...  \n",
       "2718                1600.0  Mot du vendeur : BMW K 1600 GTL 20/07/2018 JMS...  "
      ]
     },
     "execution_count": 16,
     "metadata": {},
     "output_type": "execute_result"
    }
   ],
   "source": [
    "data_moto = \"../../../tresboncoin/data/motoplanete.csv\"\n",
    "data = pd.read_csv(data_moto)\n",
    "data.tail(2)"
   ]
  },
  {
   "cell_type": "code",
   "execution_count": 5,
   "id": "ae645156",
   "metadata": {},
   "outputs": [
    {
     "data": {
      "text/plain": [
       "(2719, 17)"
      ]
     },
     "execution_count": 5,
     "metadata": {},
     "output_type": "execute_result"
    }
   ],
   "source": [
    "data.shape"
   ]
  },
  {
   "cell_type": "code",
   "execution_count": null,
   "id": "dee95e4f",
   "metadata": {},
   "outputs": [],
   "source": []
  }
 ],
 "metadata": {
  "kernelspec": {
   "display_name": "Python 3",
   "language": "python",
   "name": "python3"
  },
  "language_info": {
   "codemirror_mode": {
    "name": "ipython",
    "version": 3
   },
   "file_extension": ".py",
   "mimetype": "text/x-python",
   "name": "python",
   "nbconvert_exporter": "python",
   "pygments_lexer": "ipython3",
   "version": "3.9.1"
  },
  "toc": {
   "base_numbering": 1,
   "nav_menu": {},
   "number_sections": true,
   "sideBar": true,
   "skip_h1_title": false,
   "title_cell": "Table of Contents",
   "title_sidebar": "Contents",
   "toc_cell": false,
   "toc_position": {},
   "toc_section_display": true,
   "toc_window_display": false
  },
  "varInspector": {
   "cols": {
    "lenName": 16,
    "lenType": 16,
    "lenVar": 40
   },
   "kernels_config": {
    "python": {
     "delete_cmd_postfix": "",
     "delete_cmd_prefix": "del ",
     "library": "var_list.py",
     "varRefreshCmd": "print(var_dic_list())"
    },
    "r": {
     "delete_cmd_postfix": ") ",
     "delete_cmd_prefix": "rm(",
     "library": "var_list.r",
     "varRefreshCmd": "cat(var_dic_list()) "
    }
   },
   "types_to_exclude": [
    "module",
    "function",
    "builtin_function_or_method",
    "instance",
    "_Feature"
   ],
   "window_display": false
  }
 },
 "nbformat": 4,
 "nbformat_minor": 5
}
