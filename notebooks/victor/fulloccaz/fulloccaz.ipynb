{
 "cells": [
  {
   "cell_type": "code",
   "execution_count": 1,
   "id": "724c0e1e",
   "metadata": {},
   "outputs": [],
   "source": [
    "import requests\n",
    "from bs4 import BeautifulSoup\n",
    "import numpy as np\n",
    "import pandas as pd\n",
    "import math\n",
    "import datetime\n",
    "import re\n",
    "import time\n",
    "import os\n",
    "import json\n",
    "from PIL import Image \n",
    "import PIL \n",
    "pd.set_option('display.max_columns', None)\n",
    "import random\n",
    "import codecs\n",
    "import subprocess\n",
    "from selenium import webdriver\n",
    "from bs4 import BeautifulSoup\n",
    "import chromedriver_binary\n",
    "from selenium.webdriver.chrome.options import Options"
   ]
  },
  {
   "cell_type": "markdown",
   "id": "b8ec252e",
   "metadata": {},
   "source": [
    "# Headers"
   ]
  },
  {
   "cell_type": "code",
   "execution_count": 2,
   "id": "8ce5822e",
   "metadata": {},
   "outputs": [],
   "source": [
    "headers = {\n",
    "    'Connection': 'keep-alive',\n",
    "    'Cache-Control': 'max-age=0',\n",
    "    'sec-ch-ua': '\" Not;A Brand\";v=\"99\", \"Google Chrome\";v=\"91\", \"Chromium\";v=\"91\"',\n",
    "    'sec-ch-ua-mobile': '?0',\n",
    "    'Upgrade-Insecure-Requests': '1',\n",
    "    'User-Agent': 'Mozilla/5.0 (Macintosh; Intel Mac OS X 10_15_7) AppleWebKit/537.36 (KHTML, like Gecko) Chrome/91.0.4472.77 Safari/537.36',\n",
    "    'Accept': 'text/html,application/xhtml+xml,application/xml;q=0.9,image/avif,image/webp,image/apng,*/*;q=0.8,application/signed-exchange;v=b3;q=0.9',\n",
    "    'Sec-Fetch-Site': 'same-origin',\n",
    "    'Sec-Fetch-Mode': 'navigate',\n",
    "    'Sec-Fetch-User': '?1',\n",
    "    'Sec-Fetch-Dest': 'document',\n",
    "    'Accept-Language': 'fr-FR,fr;q=0.9,en-US;q=0.8,en;q=0.7',\n",
    "}"
   ]
  },
  {
   "cell_type": "code",
   "execution_count": 497,
   "id": "20033207",
   "metadata": {},
   "outputs": [],
   "source": [
    "full_occaz_brand_list = [\"AC+EMOTION\",\n",
    "                         \"ACCESS+MOTOR\",\n",
    "                         \"APRILIA\",\n",
    "                         \"ARCTIC+CAT\",\n",
    "                         \"BENELLI\",\n",
    "                         \"BETA\",\n",
    "                         \"BIMOTA\",\n",
    "                         \"BMW\",\n",
    "                         \"BUELL\",\n",
    "                         \"CAN-AM\",\n",
    "                         \"CF+MOTO\",\n",
    "                         \"DAELIM\",\n",
    "                         \"DERBI\",\n",
    "                         \"DUCATI\",\n",
    "                         \"FANTIC\",\n",
    "                         \"FB+MONDIAL\",\n",
    "                         \"GAS+GAS\",\n",
    "                         \"GENERIC\",\n",
    "                         \"GILERA\",\n",
    "                         \"HARLEY+DAVIDSON\",\n",
    "                         \"HARLEY-DAVIDSON\",\n",
    "                         \"HER+CHEE\",\n",
    "                         \"HM\",\n",
    "                         \"HONDA\",\n",
    "                         \"HONGYI\",\n",
    "                         \"HUSQVARNA\",\n",
    "                         \"HYOSUNG\",\n",
    "                         \"HYTRACK\",\n",
    "                         \"IMF+scooter\",\n",
    "                         \"INDIAN\",\n",
    "                         \"IRBIT\",\n",
    "                         \"JM+MOTORS\",\n",
    "                         \"JORDON\",\n",
    "                         \"JOTAGAS\",\n",
    "                         \"KAWASAKI\",\n",
    "                         \"KEEWAY\",\n",
    "                         \"KSR+MOTO\",\n",
    "                         \"KTM\",\n",
    "                         \"KYMCO\",\n",
    "                         \"LAMBRETTA\",\n",
    "                         \"LAZIO\",\n",
    "                         \"LIGIER\",\n",
    "                         \"LINHAI\",\n",
    "                         \"LONGJIA\",\n",
    "                         \"Magnum\",\n",
    "                         \"MAGPOWER\",\n",
    "                         \"MALAGUTI\",\n",
    "                         \"MARTIN\",\n",
    "                         \"MASAI\",\n",
    "                         \"MASH\",\n",
    "                         \"MBK\",\n",
    "                         \"MOTO+MORINI\",\n",
    "                         \"MOTO-GUZZI\",\n",
    "                         \"MOTOCONFORT\",\n",
    "                         \"MOTRAC\",\n",
    "                         \"MV+AGUSTA\",\n",
    "                         \"NECO\",\n",
    "                         \"NIU\",\n",
    "                         \"NORTON\",\n",
    "                         \"ORCAL\",\n",
    "                         \"PEUGEOT\",\n",
    "                         \"PIAGGIO\",\n",
    "                         \"POLARIS\",\n",
    "                         \"QUADDY\",\n",
    "                         \"QUADRO\",\n",
    "                         \"RIEJU\",\n",
    "                         \"RIVAL+MOTORS\",\n",
    "                         \"RIYA\",\n",
    "                         \"ROYAL+ENFIELD\",\n",
    "                         \"SHERCO\",\n",
    "                         \"SUPER+SOCO\",\n",
    "                         \"SUZUKI\",\n",
    "                         \"SVM+%28SWM%29\",\n",
    "                         \"SWM\",\n",
    "                         \"SYM\",\n",
    "                         \"TGB\",\n",
    "                         \"TNT+MOTOR\",\n",
    "                         \"TRIUMPH\",\n",
    "                         \"VASTRO\",\n",
    "                         \"VESPA\",\n",
    "                         \"Victory+Motorcycle\",\n",
    "                         \"VOGE\",\n",
    "                         \"VOXAN\",\n",
    "                         \"WANGYE\",\n",
    "                         \"XINGYUE\",\n",
    "                         \"YAMAHA\",\n",
    "                         \"ZERO+MOTORCYCLES\"]   "
   ]
  },
  {
   "cell_type": "markdown",
   "id": "7e9a31b8",
   "metadata": {},
   "source": [
    "# Save pages"
   ]
  },
  {
   "cell_type": "code",
   "execution_count": 3,
   "id": "5eac8249",
   "metadata": {},
   "outputs": [],
   "source": [
    "def save_page_list(req, page=1):\n",
    "    datetime_1 = datetime.datetime.now().strftime(\"%Y-%m-%d_%Hh%M\")\n",
    "    page_list_name = \"fulloccaz\" + \"-\" + datetime_1 + \"-\" + str(page)\n",
    "    with open(\"pages/\" + page_list_name + \".html\", \"w\")  as file:\n",
    "        file.write(req.text)\n",
    "        file.close()\n",
    "    return \"pages/\" + page_list_name + \".html\""
   ]
  },
  {
   "cell_type": "code",
   "execution_count": 5,
   "id": "f8e27ee4",
   "metadata": {},
   "outputs": [],
   "source": [
    "#def get_source_selenium(url_):\n",
    "#    options = Options()\n",
    "#    options.add_argument(\"--headless\")\n",
    "#    driver = webdriver.Chrome(options=options, executable_path=\"/Users/victor/Downloads/chromedriver\")\n",
    "#    driver.get(url_)\n",
    "#    page_source = driver.page_source\n",
    "#    driver.quit()\n",
    "#    return page_source"
   ]
  },
  {
   "cell_type": "code",
   "execution_count": null,
   "id": "32ef471c",
   "metadata": {},
   "outputs": [],
   "source": [
    "scrap = 1\n",
    "page_=1\n",
    "page_total = 1\n",
    "#\n",
    "for motobrand in full_occaz_brand_list: #https://www.fulloccaz.com/?&Marque=HONDA&page=1\n",
    "    scrap = 1\n",
    "    page_=1\n",
    "    while scrap==1:\n",
    "        html_file = requests.get(f\"https://www.fulloccaz.com/?&Marque={motobrand}&page={page_}\", headers=headers)\n",
    "        last_saved_file = save_page_list(html_file, page=page_total)\n",
    "        \n",
    "        with open(last_saved_file, 'r') as f:\n",
    "            readable_html = f.read()\n",
    "            prices = get_prices_from_pages(readable_html)\n",
    "        if len(prices) == 0:\n",
    "            scrap=0\n",
    "        \n",
    "        page_ += 1\n",
    "        page_total += 1    \n",
    "        time.sleep(random.randint(1, 3))\n",
    "        print(\"page saved: \" + str(page_total))"
   ]
  },
  {
   "cell_type": "markdown",
   "id": "9364631f",
   "metadata": {},
   "source": [
    "# Extract data from pages"
   ]
  },
  {
   "cell_type": "markdown",
   "id": "c1f26e30",
   "metadata": {},
   "source": [
    "## Test file"
   ]
  },
  {
   "cell_type": "code",
   "execution_count": 4,
   "id": "43462f70",
   "metadata": {},
   "outputs": [
    {
     "data": {
      "text/plain": [
       "'fulloccaz-2021-06-05_18h16-27.html'"
      ]
     },
     "execution_count": 4,
     "metadata": {},
     "output_type": "execute_result"
    }
   ],
   "source": [
    "file_test_name = [file for file in os.listdir(\"pages\") if file.endswith(\"html\")][-2]\n",
    "file_test_name"
   ]
  },
  {
   "cell_type": "code",
   "execution_count": 5,
   "id": "4aa3921d",
   "metadata": {},
   "outputs": [
    {
     "data": {
      "text/plain": [
       "'pages/fulloccaz-2021-06-05_18h16-27.html'"
      ]
     },
     "execution_count": 5,
     "metadata": {},
     "output_type": "execute_result"
    }
   ],
   "source": [
    "file_check_x15_good = f\"pages/{file_test_name}\"\n",
    "file_check_x15_good"
   ]
  },
  {
   "cell_type": "markdown",
   "id": "fae16044",
   "metadata": {},
   "source": [
    "## Get prices from pages"
   ]
  },
  {
   "cell_type": "code",
   "execution_count": 6,
   "id": "d77e1e8f",
   "metadata": {},
   "outputs": [],
   "source": [
    "def get_prices_from_pages(r):\n",
    "    \n",
    "    # set empty price list\n",
    "    price_list = []\n",
    "    \n",
    "    # get soup\n",
    "    soup = BeautifulSoup(r, 'html.parser')\n",
    "    \n",
    "    # extract price\n",
    "    step1 = soup.select('div[id*=\"IDVignettes\"]')\n",
    "    if len(step1) > 0:\n",
    "        step2 = step1[0].select('div[class*=\"CLPrix\"]')\n",
    "        if len(step2) > 0:\n",
    "            for k in step2:\n",
    "                try:\n",
    "                    price_list.append(float(\"\".join(re.findall(\"[0-9]\", k.text.replace(\"\\n\", \"\").replace(\"\\t\", \"\")))))\n",
    "                except:\n",
    "                    price_list.append(np.nan)    \n",
    "    return price_list"
   ]
  },
  {
   "cell_type": "code",
   "execution_count": 7,
   "id": "3f50cfed",
   "metadata": {},
   "outputs": [
    {
     "data": {
      "text/plain": [
       "[6490.0,\n",
       " 9590.0,\n",
       " 5290.0,\n",
       " 10790.0,\n",
       " 13590.0,\n",
       " 1290.0,\n",
       " 7990.0,\n",
       " 4500.0,\n",
       " 3490.0,\n",
       " 8999.0,\n",
       " 1350.0,\n",
       " 5590.0]"
      ]
     },
     "execution_count": 7,
     "metadata": {},
     "output_type": "execute_result"
    }
   ],
   "source": [
    "with open(file_check_x15_good, 'r') as f:\n",
    "    readable_html = f.read()\n",
    "    prices = get_prices_from_pages(readable_html)\n",
    "prices"
   ]
  },
  {
   "cell_type": "markdown",
   "id": "97c1da14",
   "metadata": {},
   "source": [
    "## Get url from pages"
   ]
  },
  {
   "cell_type": "code",
   "execution_count": 8,
   "id": "f804534c",
   "metadata": {},
   "outputs": [],
   "source": [
    "def get_urls_from_pages(r):\n",
    "    \n",
    "    # set empty url list\n",
    "    url_list = []\n",
    "    \n",
    "    # get soup\n",
    "    soup = BeautifulSoup(r, 'html.parser')\n",
    "    \n",
    "    # extract price\n",
    "    step1 = soup.select('div[id*=\"IDVignettes\"]')\n",
    "    if len(step1) > 0:\n",
    "        step2 = step1[0].select('a')\n",
    "        if len(step2) > 0:\n",
    "            for k in step2:\n",
    "                if \"href\" in k.attrs:\n",
    "                    try:\n",
    "                        url_list.append(\"https://www.fulloccaz.com\" + k.attrs[\"href\"])\n",
    "                    except:\n",
    "                        url_list.append(np.nan)    \n",
    "    return url_list"
   ]
  },
  {
   "cell_type": "code",
   "execution_count": 9,
   "id": "d789bb79",
   "metadata": {
    "scrolled": false
   },
   "outputs": [
    {
     "data": {
      "text/plain": [
       "['https://www.fulloccaz.com/fiches/index/2028161-occasion-yamaha-fjr-1300a?',\n",
       " 'https://www.fulloccaz.com/fiches/index/2015502-occasion-kawasaki-versys-650-se-gt?',\n",
       " 'https://www.fulloccaz.com/fiches/index/2033933-occasion-kymco-400-xciting-s?',\n",
       " 'https://www.fulloccaz.com/fiches/index/2049541-occasion-triumph-street-triple-765-rs?',\n",
       " 'https://www.fulloccaz.com/fiches/index/2033378-occasion-yamaha-niken-850?',\n",
       " 'https://www.fulloccaz.com/fiches/index/2030313-occasion-kymco-zing-125-zing125?',\n",
       " 'https://www.fulloccaz.com/fiches/index/2049506-occasion-kymco-ak-550-abs-e4-7990?',\n",
       " 'https://www.fulloccaz.com/fiches/index/2048061-occasion-300-mp3?',\n",
       " 'https://www.fulloccaz.com/fiches/index/2040258-occasion-honda-cbf-1000-f?',\n",
       " 'https://www.fulloccaz.com/fiches/index/2049473-occasion-yamaha-tracer-900-gt?',\n",
       " 'https://www.fulloccaz.com/fiches/index/2035911-occasion-yamaha-majesty-125?',\n",
       " 'https://www.fulloccaz.com/fiches/index/2016668-occasion-kymco-xciting-400i-s?']"
      ]
     },
     "execution_count": 9,
     "metadata": {},
     "output_type": "execute_result"
    }
   ],
   "source": [
    "with open(file_check_x15_good, 'r') as f:\n",
    "    readable_html = f.read()\n",
    "    urls = get_urls_from_pages(readable_html)\n",
    "urls"
   ]
  },
  {
   "cell_type": "markdown",
   "id": "a78eb3ed",
   "metadata": {},
   "source": [
    "## Get references from pages"
   ]
  },
  {
   "cell_type": "code",
   "execution_count": 10,
   "id": "01808c0d",
   "metadata": {},
   "outputs": [],
   "source": [
    "def get_references_from_url_list(url_list_):\n",
    "    \n",
    "    # set empty ref list\n",
    "    ref_list = []\n",
    "    \n",
    "    for k in url_list_:\n",
    "        try:\n",
    "            ref_list.append(k.split(\"/\")[5].split(\"-\")[0])\n",
    "        except:\n",
    "            ref_list.append(np.nan)\n",
    "    #                \n",
    "    return ref_list"
   ]
  },
  {
   "cell_type": "code",
   "execution_count": 11,
   "id": "50dc8a84",
   "metadata": {},
   "outputs": [
    {
     "data": {
      "text/plain": [
       "['2028161',\n",
       " '2015502',\n",
       " '2033933',\n",
       " '2049541',\n",
       " '2033378',\n",
       " '2030313',\n",
       " '2049506',\n",
       " '2048061',\n",
       " '2040258',\n",
       " '2049473',\n",
       " '2035911',\n",
       " '2016668']"
      ]
     },
     "execution_count": 11,
     "metadata": {},
     "output_type": "execute_result"
    }
   ],
   "source": [
    "get_references_from_url_list(urls)"
   ]
  },
  {
   "cell_type": "markdown",
   "id": "0008c0f7",
   "metadata": {},
   "source": [
    "# Download single announce pages"
   ]
  },
  {
   "cell_type": "code",
   "execution_count": 12,
   "id": "e66e1799",
   "metadata": {},
   "outputs": [],
   "source": [
    "data_fulloccaz = \"../../../tresboncoin/data/fulloccaz.csv\"\n",
    "#data = pd.read_csv(data_motoplanete)"
   ]
  },
  {
   "cell_type": "code",
   "execution_count": 13,
   "id": "169a1163",
   "metadata": {},
   "outputs": [],
   "source": [
    "def add_the_announce(df, uniq_id, price):\n",
    "    if int(uniq_id) in list(df[\"unique id\"]):\n",
    "        index_ = df.index[df['unique id'] == int(uniq_id)].tolist()[0]\n",
    "        \n",
    "        # if an announce with same uniq id and same price is found, return true and skip\n",
    "        return df.iloc[index_][\"price\"]!=price\n",
    "    \n",
    "    # else, return false and add the announce\n",
    "    return True"
   ]
  },
  {
   "cell_type": "code",
   "execution_count": 14,
   "id": "c20917e2",
   "metadata": {},
   "outputs": [],
   "source": [
    "def save_page_uniq(req, uniq_id):\n",
    "    datetime_1 = datetime.datetime.now().strftime(\"%Y-%m-%d_%Hh%M\")\n",
    "    page_name = \"fulloccaz\" + \"-\" + uniq_id + \"-\" + datetime_1\n",
    "    with open(\"annonces/\" + page_name + \".html\", \"w\")  as file:\n",
    "        file.write(req.text)\n",
    "        file.close()"
   ]
  },
  {
   "cell_type": "code",
   "execution_count": 15,
   "id": "8140f5cf",
   "metadata": {},
   "outputs": [],
   "source": [
    "def file_exists(uniq_id):\n",
    "    for k in os.listdir(\"annonces\"):\n",
    "        if \"-\" + str(uniq_id) + \"-\" in k:\n",
    "            return True\n",
    "    return False"
   ]
  },
  {
   "cell_type": "code",
   "execution_count": 304,
   "id": "f4016dba",
   "metadata": {},
   "outputs": [],
   "source": [
    "#qq = \"https://www.fulloccaz.com/fiches/index/2016930-occasion-piaggio-mp3-300-hpe-abs-asr?\"\n",
    "#req_uniq = requests.get(qq, headers = headers)\n",
    "#save_page_uniq(req_uniq, \"2016930\")"
   ]
  },
  {
   "cell_type": "code",
   "execution_count": null,
   "id": "1286c1e8",
   "metadata": {
    "scrolled": false
   },
   "outputs": [],
   "source": [
    "announce_count = 1\n",
    "page_count = 0\n",
    "for html_file in [file for file in os.listdir(\"pages\") if file.endswith(\"html\")]:\n",
    "    page_count +=1\n",
    "    print(\"page n°: \" + str(page_count))\n",
    "    with open(f\"pages/{html_file}\", 'r') as f:\n",
    "        readable_html = f.read()\n",
    "        urls_list = get_urls_from_pages(readable_html)\n",
    "        unique_id = get_references_from_url_list(urls_list)\n",
    "        prices_list = get_prices_from_pages(readable_html)\n",
    "    if urls_list != None:\n",
    "        for url_single, uniq_id, price_ in zip(urls_list, unique_id, prices_list):\n",
    "            \n",
    "            #if add_the_announce(data_price, uniq_id, price_):\n",
    "            #html_file = get_source_selenium(url_single)\n",
    "            if file_exists(uniq_id) == False:\n",
    "                req_uniq = requests.get(url_single, headers = headers)\n",
    "                save_page_uniq(req_uniq, uniq_id)\n",
    "                print(str(announce_count) + \". saved page id: \" + uniq_id)\n",
    "                time.sleep(random.randint(1, 5))\n",
    "                announce_count += 1\n",
    "            else:\n",
    "                print(announce_count, url_single + \" --> skipped\")\n",
    "                announce_count += 1"
   ]
  },
  {
   "cell_type": "markdown",
   "id": "2ad77ee1",
   "metadata": {},
   "source": [
    "# Process single announces\n",
    "Saving scaled images x3 and adding announce to DataFrame"
   ]
  },
  {
   "cell_type": "code",
   "execution_count": 438,
   "id": "354ca601",
   "metadata": {},
   "outputs": [
    {
     "data": {
      "text/html": [
       "<div>\n",
       "<style scoped>\n",
       "    .dataframe tbody tr th:only-of-type {\n",
       "        vertical-align: middle;\n",
       "    }\n",
       "\n",
       "    .dataframe tbody tr th {\n",
       "        vertical-align: top;\n",
       "    }\n",
       "\n",
       "    .dataframe thead th {\n",
       "        text-align: right;\n",
       "    }\n",
       "</style>\n",
       "<table border=\"1\" class=\"dataframe\">\n",
       "  <thead>\n",
       "    <tr style=\"text-align: right;\">\n",
       "      <th></th>\n",
       "      <th>url</th>\n",
       "      <th>unique id</th>\n",
       "      <th>date_scrapped</th>\n",
       "      <th>announce_publication_date</th>\n",
       "      <th>vehicle brand</th>\n",
       "      <th>vehicle type</th>\n",
       "      <th>color</th>\n",
       "      <th>price</th>\n",
       "      <th>city</th>\n",
       "      <th>postal code</th>\n",
       "      <th>seller</th>\n",
       "      <th>seller_name</th>\n",
       "      <th>vehicle release date</th>\n",
       "      <th>mileage</th>\n",
       "      <th>motorisation</th>\n",
       "      <th>fiscal power</th>\n",
       "      <th>guarantee</th>\n",
       "      <th>hand</th>\n",
       "      <th>chassis</th>\n",
       "      <th>engine capacity [CC]</th>\n",
       "      <th>comments</th>\n",
       "    </tr>\n",
       "  </thead>\n",
       "  <tbody>\n",
       "    <tr>\n",
       "      <th>0</th>\n",
       "      <td>NaN</td>\n",
       "      <td>NaN</td>\n",
       "      <td>NaN</td>\n",
       "      <td>NaN</td>\n",
       "      <td>NaN</td>\n",
       "      <td>NaN</td>\n",
       "      <td>NaN</td>\n",
       "      <td>NaN</td>\n",
       "      <td>NaN</td>\n",
       "      <td>NaN</td>\n",
       "      <td>NaN</td>\n",
       "      <td>NaN</td>\n",
       "      <td>NaN</td>\n",
       "      <td>NaN</td>\n",
       "      <td>NaN</td>\n",
       "      <td>NaN</td>\n",
       "      <td>NaN</td>\n",
       "      <td>NaN</td>\n",
       "      <td>NaN</td>\n",
       "      <td>NaN</td>\n",
       "      <td>NaN</td>\n",
       "    </tr>\n",
       "  </tbody>\n",
       "</table>\n",
       "</div>"
      ],
      "text/plain": [
       "   url  unique id  date_scrapped  announce_publication_date  vehicle brand  \\\n",
       "0  NaN        NaN            NaN                        NaN            NaN   \n",
       "\n",
       "   vehicle type  color  price  city  postal code  seller  seller_name  \\\n",
       "0           NaN    NaN    NaN   NaN          NaN     NaN          NaN   \n",
       "\n",
       "   vehicle release date  mileage  motorisation  fiscal power  guarantee  hand  \\\n",
       "0                   NaN      NaN           NaN           NaN        NaN   NaN   \n",
       "\n",
       "   chassis  engine capacity [CC]  comments  \n",
       "0      NaN                   NaN       NaN  "
      ]
     },
     "execution_count": 438,
     "metadata": {},
     "output_type": "execute_result"
    }
   ],
   "source": [
    "announce_template = pd.DataFrame({\"url\": [np.nan],\n",
    "                                  \"unique id\": [np.nan],\n",
    "                                  \"date_scrapped\": [np.nan],\n",
    "                                  \"announce_publication_date\": [np.nan],\n",
    "                                  \"vehicle brand\": [np.nan],\n",
    "                                  \"vehicle type\": [np.nan],\n",
    "                                  \"color\": [np.nan],\n",
    "                                  \"price\": [np.nan],\n",
    "                                  \"city\": [np.nan],\n",
    "                                  \"postal code\": [np.nan],\n",
    "                                  \"seller\": [np.nan],\n",
    "                                  \"seller_name\": [np.nan],\n",
    "                                  \"vehicle release date\": [np.nan],\n",
    "                                  \"mileage\": [np.nan],\n",
    "                                  \"motorisation\": [np.nan],\n",
    "                                  \"fiscal power\": [np.nan],\n",
    "                                  \"guarantee\": [np.nan],\n",
    "                                  \"hand\": [np.nan],\n",
    "                                  \"chassis\": [np.nan],\n",
    "                                  \"engine capacity [CC]\": [np.nan],\n",
    "                                  \"comments\": [np.nan]})\n",
    "announce_template"
   ]
  },
  {
   "cell_type": "markdown",
   "id": "4a1a8ab8",
   "metadata": {},
   "source": [
    "## test announce"
   ]
  },
  {
   "cell_type": "code",
   "execution_count": 713,
   "id": "11a31c99",
   "metadata": {},
   "outputs": [
    {
     "data": {
      "text/plain": [
       "'annonces/fulloccaz-2041222-2021-06-07_22h37.html'"
      ]
     },
     "execution_count": 713,
     "metadata": {},
     "output_type": "execute_result"
    }
   ],
   "source": [
    "file_name = \"fulloccaz-2041222-2021-06-07_22h37.html\"#os.listdir(\"annonces\")[-1]\n",
    "#\n",
    "file_check_single = f\"annonces/{file_name}\"\n",
    "file_check_single"
   ]
  },
  {
   "cell_type": "markdown",
   "id": "6b786486",
   "metadata": {},
   "source": [
    "## Functions"
   ]
  },
  {
   "cell_type": "markdown",
   "id": "34e74c24",
   "metadata": {},
   "source": [
    "### Get url"
   ]
  },
  {
   "cell_type": "code",
   "execution_count": 714,
   "id": "a8b79c23",
   "metadata": {},
   "outputs": [],
   "source": [
    "def get_url(r):\n",
    "    \n",
    "    # get soup\n",
    "    soup = BeautifulSoup(r, 'html.parser')\n",
    "    \n",
    "    # extract url\n",
    "    step1 = soup.select('a[class*=\"CLFacebook\"]')\n",
    "    if len(step1)>0:\n",
    "        if \"href\" in step1[0].attrs:\n",
    "            return step1[0].attrs[\"href\"].split(\"=\")[-1]\n",
    "    return np.nan"
   ]
  },
  {
   "cell_type": "code",
   "execution_count": 715,
   "id": "d32ca78c",
   "metadata": {
    "scrolled": false
   },
   "outputs": [
    {
     "data": {
      "text/plain": [
       "'http://www.fulloccaz.com/fiches/index/2041222-occasion-bmw-c-evo'"
      ]
     },
     "execution_count": 715,
     "metadata": {},
     "output_type": "execute_result"
    }
   ],
   "source": [
    "with open(file_check_single, 'r') as f:\n",
    "    readable_html = f.read()\n",
    "    g_url = get_url(readable_html)\n",
    "g_url"
   ]
  },
  {
   "cell_type": "markdown",
   "id": "f94d3ed0",
   "metadata": {},
   "source": [
    "### Get unique id"
   ]
  },
  {
   "cell_type": "code",
   "execution_count": 716,
   "id": "e3f247a3",
   "metadata": {},
   "outputs": [],
   "source": [
    "def get_uniq_id(url_):\n",
    "    try:\n",
    "        return url_.split(\"/\")[-1].split(\"-\")[0]\n",
    "    except:\n",
    "        return np.nan"
   ]
  },
  {
   "cell_type": "code",
   "execution_count": 717,
   "id": "9fb60540",
   "metadata": {},
   "outputs": [
    {
     "data": {
      "text/plain": [
       "'2041222'"
      ]
     },
     "execution_count": 717,
     "metadata": {},
     "output_type": "execute_result"
    }
   ],
   "source": [
    "with open(file_check_single, 'r') as f:\n",
    "    readable_html = f.read()\n",
    "    g_url = get_url(readable_html)\n",
    "get_uniq_id(g_url)"
   ]
  },
  {
   "cell_type": "markdown",
   "id": "4daaf16e",
   "metadata": {},
   "source": [
    "### get publication date"
   ]
  },
  {
   "cell_type": "code",
   "execution_count": 718,
   "id": "5ca647ac",
   "metadata": {},
   "outputs": [],
   "source": [
    "def get_publication_date(r):\n",
    "\n",
    "    # get soup\n",
    "    soup = BeautifulSoup(r, 'html.parser')\n",
    "    \n",
    "    # extract\n",
    "    step1 = soup.select('div[class*=\"CLInfosAnnonces\"]')\n",
    "    if len(step1)>0:\n",
    "        step2 = step1[0].select('tr')\n",
    "        if len(step2) > 0:\n",
    "            for k in step2:\n",
    "                if k.select('td')[0].text.find(\"Mise à jour\") >= 0:\n",
    "                    try:\n",
    "                        return k.select('td')[1].text\n",
    "                    except:\n",
    "                        return np.nan\n",
    "    else:\n",
    "        return np.nan"
   ]
  },
  {
   "cell_type": "code",
   "execution_count": 719,
   "id": "fd4141c0",
   "metadata": {},
   "outputs": [
    {
     "data": {
      "text/plain": [
       "'30/05/2021'"
      ]
     },
     "execution_count": 719,
     "metadata": {},
     "output_type": "execute_result"
    }
   ],
   "source": [
    "with open(file_check_single, 'r') as f:\n",
    "    readable_html = f.read()\n",
    "    g_pub = get_publication_date(readable_html)\n",
    "g_pub"
   ]
  },
  {
   "cell_type": "markdown",
   "id": "76f23b49",
   "metadata": {},
   "source": [
    "### Get vehicule brand"
   ]
  },
  {
   "cell_type": "code",
   "execution_count": 720,
   "id": "18fd32ca",
   "metadata": {},
   "outputs": [],
   "source": [
    "def get_brand_and_model(r):\n",
    "    \n",
    "    # get soup\n",
    "    soup = BeautifulSoup(r, 'html.parser')\n",
    "    \n",
    "    # extract\n",
    "    step1 = soup.select('h1')\n",
    "    if len(step1)>0:\n",
    "        return step1[0].text\n",
    "    else:\n",
    "        return None"
   ]
  },
  {
   "cell_type": "code",
   "execution_count": 721,
   "id": "79dc7f43",
   "metadata": {},
   "outputs": [
    {
     "data": {
      "text/plain": [
       "'BMW C EVO'"
      ]
     },
     "execution_count": 721,
     "metadata": {},
     "output_type": "execute_result"
    }
   ],
   "source": [
    "with open(file_check_single, 'r') as f:\n",
    "    readable_html = f.read()\n",
    "    g_brand = get_brand_and_model(readable_html)\n",
    "g_brand"
   ]
  },
  {
   "cell_type": "markdown",
   "id": "c2f5cc1a",
   "metadata": {},
   "source": [
    "### Get vehicule type"
   ]
  },
  {
   "cell_type": "code",
   "execution_count": 722,
   "id": "3b8264aa",
   "metadata": {},
   "outputs": [],
   "source": [
    "def get_type(r):\n",
    "    \n",
    "    # get soup\n",
    "    soup = BeautifulSoup(r, 'html.parser')\n",
    "    \n",
    "    # extract\n",
    "    step1 = soup.select('div[class*=\"CLInfosAnnonces\"]')\n",
    "    if len(step1)>0:\n",
    "        step2 = step1[0].select('tr')\n",
    "        if len(step2) > 0:\n",
    "            for k in step2:\n",
    "                if k.select('td')[0].text.find(\"Catégorie\") >= 0:\n",
    "                    try:\n",
    "                        return k.select('td')[1].text\n",
    "                    except:\n",
    "                        return np.nan\n",
    "    else:\n",
    "        return np.nan"
   ]
  },
  {
   "cell_type": "code",
   "execution_count": 723,
   "id": "dd4db3dc",
   "metadata": {},
   "outputs": [
    {
     "data": {
      "text/plain": [
       "'Scooter'"
      ]
     },
     "execution_count": 723,
     "metadata": {},
     "output_type": "execute_result"
    }
   ],
   "source": [
    "with open(file_check_single, 'r') as f:\n",
    "    readable_html = f.read()\n",
    "    g_type = get_type(readable_html)\n",
    "g_type"
   ]
  },
  {
   "cell_type": "markdown",
   "id": "c7140f84",
   "metadata": {},
   "source": [
    "### get color"
   ]
  },
  {
   "cell_type": "code",
   "execution_count": 724,
   "id": "3f7fae62",
   "metadata": {},
   "outputs": [],
   "source": [
    "def get_color(r):\n",
    "    \n",
    "    # get soup\n",
    "    soup = BeautifulSoup(r, 'html.parser')\n",
    "    \n",
    "    \n",
    "    # extract\n",
    "    step1 = soup.select('div[class*=\"CLInfosAnnonces\"]')\n",
    "    if len(step1)>0:\n",
    "        step2 = step1[0].select('tr')\n",
    "        if len(step2) > 0:\n",
    "            for k in step2:\n",
    "                if k.select('td')[0].text.find(\"Couleur\") >= 0:\n",
    "                    try:\n",
    "                        return k.select('td')[1].text\n",
    "                    except:\n",
    "                        return np.nan\n",
    "    else:\n",
    "        return np.nan"
   ]
  },
  {
   "cell_type": "code",
   "execution_count": 725,
   "id": "ba9c6abc",
   "metadata": {},
   "outputs": [
    {
     "data": {
      "text/plain": [
       "'Argent'"
      ]
     },
     "execution_count": 725,
     "metadata": {},
     "output_type": "execute_result"
    }
   ],
   "source": [
    "with open(file_check_single, 'r') as f:\n",
    "    readable_html = f.read()\n",
    "    g_type = get_color(readable_html)\n",
    "g_type"
   ]
  },
  {
   "cell_type": "markdown",
   "id": "2ad27662",
   "metadata": {},
   "source": [
    "### get price"
   ]
  },
  {
   "cell_type": "code",
   "execution_count": 726,
   "id": "fb13bb48",
   "metadata": {},
   "outputs": [],
   "source": [
    "def get_price(r):\n",
    "    \n",
    "    # get soup\n",
    "    soup = BeautifulSoup(r, 'html.parser')\n",
    "\n",
    "    # extract\n",
    "    step1 = soup.select('div[class*=\"CLInfosAnnonces\"]')\n",
    "    if len(step1)>0:\n",
    "        step2 = step1[0].select('tr')\n",
    "        if len(step2) > 0:\n",
    "            for k in step2:\n",
    "                if k.select('td')[0].text.find(\"Prix\") >= 0:\n",
    "                    try:\n",
    "                        return float(\"\".join(re.findall(\"\\d+\", k.select('td')[1].text)))\n",
    "                    except:\n",
    "                        return np.nan\n",
    "    else:\n",
    "        return np.nan"
   ]
  },
  {
   "cell_type": "code",
   "execution_count": 727,
   "id": "2cda5a45",
   "metadata": {},
   "outputs": [
    {
     "data": {
      "text/plain": [
       "12200.0"
      ]
     },
     "execution_count": 727,
     "metadata": {},
     "output_type": "execute_result"
    }
   ],
   "source": [
    "with open(file_check_single, 'r') as f:\n",
    "    readable_html = f.read()\n",
    "    g_type = get_price(readable_html)\n",
    "g_type"
   ]
  },
  {
   "cell_type": "markdown",
   "id": "8ad9f2a6",
   "metadata": {},
   "source": [
    "### get city"
   ]
  },
  {
   "cell_type": "code",
   "execution_count": 835,
   "id": "c6dd5e0e",
   "metadata": {},
   "outputs": [],
   "source": [
    "def get_city(r):\n",
    "    \n",
    "    # get soup\n",
    "    soup = BeautifulSoup(r, features=\"lxml\")\n",
    "    \n",
    "    # extract\n",
    "    step1 = soup.select('div[class*=\"CLAnnonceConcession\"]')\n",
    "    if len(step1)>0:\n",
    "        try:\n",
    "            return step1[0].text.split(re.findall(\"[0-9]{5}\", step1[0].text)[0])[-1].strip()\n",
    "        except:\n",
    "            return np.nan\n",
    "    return None"
   ]
  },
  {
   "cell_type": "code",
   "execution_count": 836,
   "id": "ca22778d",
   "metadata": {
    "scrolled": false
   },
   "outputs": [
    {
     "data": {
      "text/plain": [
       "'LANESTER'"
      ]
     },
     "execution_count": 836,
     "metadata": {},
     "output_type": "execute_result"
    }
   ],
   "source": [
    "with open(file_check_single, 'r') as f:\n",
    "    readable_html = f.read()\n",
    "    g_city = get_city(readable_html)\n",
    "g_city"
   ]
  },
  {
   "cell_type": "markdown",
   "id": "4124bf5f",
   "metadata": {},
   "source": [
    "### get postal code"
   ]
  },
  {
   "cell_type": "code",
   "execution_count": 829,
   "id": "758cca57",
   "metadata": {},
   "outputs": [],
   "source": [
    "def get_postal(r):\n",
    "    \n",
    "    # get soup\n",
    "    soup = BeautifulSoup(r)\n",
    "    \n",
    "    # extract\n",
    "    step1 = soup.select('div[class*=\"CLAnnonceConcession\"]')\n",
    "    if len(step1)>0:\n",
    "        try:\n",
    "            return re.findall(\"[0-9]{5}\", step1[0].text)[0]\n",
    "        except:\n",
    "            return np.nan\n",
    "    return np.nan"
   ]
  },
  {
   "cell_type": "code",
   "execution_count": 830,
   "id": "68b4d657",
   "metadata": {},
   "outputs": [
    {
     "data": {
      "text/plain": [
       "'56600'"
      ]
     },
     "execution_count": 830,
     "metadata": {},
     "output_type": "execute_result"
    }
   ],
   "source": [
    "with open(file_check_single, 'r') as f:\n",
    "    readable_html = f.read()\n",
    "    g_post = get_postal(readable_html)\n",
    "g_post"
   ]
  },
  {
   "cell_type": "markdown",
   "id": "a6161164",
   "metadata": {},
   "source": [
    "### get seller"
   ]
  },
  {
   "cell_type": "code",
   "execution_count": 777,
   "id": "e0a52668",
   "metadata": {},
   "outputs": [],
   "source": [
    "def get_seller(r):\n",
    "    \n",
    "    # get soup\n",
    "    soup = BeautifulSoup(r)\n",
    "    \n",
    "    # extract\n",
    "    step1 = soup.select('div[class*=\"CLAnnonceConcession\"]')\n",
    "    if len(step1)>0:\n",
    "        try:\n",
    "            step2 = step1[0].select(\"strong\")[0].text.split(\":\")\n",
    "            return step2[-1].strip()\n",
    "        except:\n",
    "            pass\n",
    "    return np.nan"
   ]
  },
  {
   "cell_type": "code",
   "execution_count": 778,
   "id": "e98e7c51",
   "metadata": {},
   "outputs": [
    {
     "data": {
      "text/plain": [
       "'SELECT MACHINES'"
      ]
     },
     "execution_count": 778,
     "metadata": {},
     "output_type": "execute_result"
    }
   ],
   "source": [
    "with open(file_check_single, 'r') as f:\n",
    "    readable_html = f.read()\n",
    "    g_seller = get_seller(readable_html)\n",
    "g_seller"
   ]
  },
  {
   "cell_type": "markdown",
   "id": "3e1f6539",
   "metadata": {},
   "source": [
    "### get seller name"
   ]
  },
  {
   "cell_type": "code",
   "execution_count": 779,
   "id": "33a3d3ae",
   "metadata": {},
   "outputs": [],
   "source": [
    "def get_seller_name(r):\n",
    "    \n",
    "    # get soup\n",
    "    soup = BeautifulSoup(r)\n",
    "    \n",
    "    # extract\n",
    "    step1 = soup.select('div[class*=\"CLAnnonceConcession\"]')\n",
    "    if len(step1)>0:\n",
    "        try:\n",
    "            step2 = step1[0].select('div[id*=\"IDadresse\"]')\n",
    "            step3 = step2[0].text.replace(\"\\t\", \" \").split(\"\\n\")\n",
    "            for k in step3:\n",
    "                if k.find(\"Votre contact\") >= 0:\n",
    "                    return k.split(\":\")[-1].strip()\n",
    "        except:\n",
    "            pass\n",
    "    return np.nan"
   ]
  },
  {
   "cell_type": "code",
   "execution_count": 780,
   "id": "e7318a38",
   "metadata": {},
   "outputs": [
    {
     "data": {
      "text/plain": [
       "'Jocelyn'"
      ]
     },
     "execution_count": 780,
     "metadata": {},
     "output_type": "execute_result"
    }
   ],
   "source": [
    "with open(file_check_single, 'r') as f:\n",
    "    readable_html = f.read()\n",
    "    g_seller_name = get_seller_name(readable_html)\n",
    "g_seller_name"
   ]
  },
  {
   "cell_type": "markdown",
   "id": "f63a3b65",
   "metadata": {},
   "source": [
    "### get vehicle release date"
   ]
  },
  {
   "cell_type": "code",
   "execution_count": 781,
   "id": "8457cad6",
   "metadata": {},
   "outputs": [],
   "source": [
    "def get_release(r):\n",
    "    \n",
    "    # get soup\n",
    "    soup = BeautifulSoup(r, 'html.parser')\n",
    "    \n",
    "    # extract\n",
    "    step1 = soup.select('div[class*=\"CLInfosAnnonces\"]')\n",
    "    if len(step1)>0:\n",
    "        step2 = step1[0].select('tr')\n",
    "        if len(step2) > 0:\n",
    "            for k in step2:\n",
    "                if k.select('td')[0].text.find(\"Date de mise\") >= 0:\n",
    "                    try:\n",
    "                        return k.select('td')[1].text\n",
    "                    except:\n",
    "                        return np.nan\n",
    "    else:\n",
    "        return np.nan"
   ]
  },
  {
   "cell_type": "code",
   "execution_count": 782,
   "id": "c0a3b118",
   "metadata": {},
   "outputs": [
    {
     "data": {
      "text/plain": [
       "'29/05/2018'"
      ]
     },
     "execution_count": 782,
     "metadata": {},
     "output_type": "execute_result"
    }
   ],
   "source": [
    "with open(file_check_single, 'r') as f:\n",
    "    readable_html = f.read()\n",
    "    g_rel = get_release(readable_html)\n",
    "g_rel"
   ]
  },
  {
   "cell_type": "markdown",
   "id": "a198c391",
   "metadata": {},
   "source": [
    "### get vehicle mileage"
   ]
  },
  {
   "cell_type": "code",
   "execution_count": 783,
   "id": "b5b09439",
   "metadata": {},
   "outputs": [],
   "source": [
    "def get_mileage(r):\n",
    "    \n",
    "    # get soup\n",
    "    soup = BeautifulSoup(r, 'html.parser')\n",
    "    \n",
    "    # extract\n",
    "    step1 = soup.select('div[class*=\"CLInfosAnnonces\"]')\n",
    "    if len(step1)>0:\n",
    "        step2 = step1[0].select('tr')\n",
    "        if len(step2) > 0:\n",
    "            for k in step2:\n",
    "                if k.select('td')[0].text.find(\"Kilom\") >= 0:\n",
    "                    try:\n",
    "                        return float(re.findall(\"\\d+\", k.select('td')[1].text)[0])\n",
    "                    except:\n",
    "                        return np.nan\n",
    "    else:\n",
    "        return np.nan"
   ]
  },
  {
   "cell_type": "code",
   "execution_count": 784,
   "id": "9a76fbad",
   "metadata": {},
   "outputs": [
    {
     "data": {
      "text/plain": [
       "12057.0"
      ]
     },
     "execution_count": 784,
     "metadata": {},
     "output_type": "execute_result"
    }
   ],
   "source": [
    "with open(file_check_single, 'r') as f:\n",
    "    readable_html = f.read()\n",
    "    g_mileage = get_mileage(readable_html)\n",
    "g_mileage"
   ]
  },
  {
   "cell_type": "markdown",
   "id": "cf637222",
   "metadata": {},
   "source": [
    "### get engine capacity"
   ]
  },
  {
   "cell_type": "code",
   "execution_count": 785,
   "id": "513cf5bb",
   "metadata": {},
   "outputs": [],
   "source": [
    "def get_capa(r):\n",
    "    \n",
    "    # get soup\n",
    "    soup = BeautifulSoup(r, 'html.parser')\n",
    "    \n",
    "    # extract\n",
    "    step1 = soup.select('div[class*=\"CLInfosAnnonces\"]')\n",
    "    if len(step1)>0:\n",
    "        step2 = step1[0].select('tr')\n",
    "        if len(step2) > 0:\n",
    "            for k in step2:\n",
    "                if k.select('td')[0].text.find(\"Cylind\") >= 0:\n",
    "                    try:\n",
    "                        return float(re.findall(\"\\d+\", k.select('td')[1].text)[0])\n",
    "                    except:\n",
    "                        return np.nan\n",
    "    else:\n",
    "        return np.nan"
   ]
  },
  {
   "cell_type": "code",
   "execution_count": 786,
   "id": "0df5fe56",
   "metadata": {},
   "outputs": [
    {
     "data": {
      "text/plain": [
       "125.0"
      ]
     },
     "execution_count": 786,
     "metadata": {},
     "output_type": "execute_result"
    }
   ],
   "source": [
    "with open(file_check_single, 'r') as f:\n",
    "    readable_html = f.read()\n",
    "    g_capa = get_capa(readable_html)\n",
    "g_capa"
   ]
  },
  {
   "cell_type": "markdown",
   "id": "fe15673e",
   "metadata": {},
   "source": [
    "### get engine type"
   ]
  },
  {
   "cell_type": "code",
   "execution_count": 787,
   "id": "651bedb9",
   "metadata": {},
   "outputs": [],
   "source": [
    "def get_engine_type(r):\n",
    "    \n",
    "    # get soup\n",
    "    soup = BeautifulSoup(r, 'html.parser')\n",
    "    \n",
    "    # extract\n",
    "    step1 = soup.select('div[class*=\"CLInfosAnnonces\"]')\n",
    "    if len(step1)>0:\n",
    "        step2 = step1[0].select('tr')\n",
    "        if len(step2) > 0:\n",
    "            for k in step2:\n",
    "                if k.select('td')[0].text.find(\"Motori\") >= 0:\n",
    "                    try:\n",
    "                        return k.select('td')[1].text\n",
    "                    except:\n",
    "                        return np.nan\n",
    "    else:\n",
    "        return np.nan"
   ]
  },
  {
   "cell_type": "code",
   "execution_count": 788,
   "id": "38f8b92d",
   "metadata": {},
   "outputs": [
    {
     "data": {
      "text/plain": [
       "'Essence'"
      ]
     },
     "execution_count": 788,
     "metadata": {},
     "output_type": "execute_result"
    }
   ],
   "source": [
    "with open(file_check_single, 'r') as f:\n",
    "    readable_html = f.read()\n",
    "    g_et = get_engine_type(readable_html)\n",
    "g_et"
   ]
  },
  {
   "cell_type": "markdown",
   "id": "036a4177",
   "metadata": {},
   "source": [
    "### get fiscal power"
   ]
  },
  {
   "cell_type": "code",
   "execution_count": 793,
   "id": "02975851",
   "metadata": {},
   "outputs": [],
   "source": [
    "def get_fiscal_power(r):\n",
    "    \n",
    "    # get soup\n",
    "    soup = BeautifulSoup(r, 'html.parser')\n",
    "    \n",
    "    # extract\n",
    "    step1 = soup.select('div[class*=\"CLInfosAnnonces\"]')\n",
    "    if len(step1)>0:\n",
    "        step2 = step1[0].select('tr')\n",
    "        if len(step2) > 0:\n",
    "            for k in step2:\n",
    "                if k.select('td')[0].text.find(\"Puissance\") >= 0:\n",
    "                    try:\n",
    "                        return k.select('td')[1].text\n",
    "                    except:\n",
    "                        return np.nan\n",
    "    else:\n",
    "        return np.nan"
   ]
  },
  {
   "cell_type": "code",
   "execution_count": 794,
   "id": "cd4eea70",
   "metadata": {},
   "outputs": [],
   "source": [
    "with open(file_check_single, 'r') as f:\n",
    "    readable_html = f.read()\n",
    "    g_fp = get_fiscal_power(readable_html)\n",
    "g_fp"
   ]
  },
  {
   "cell_type": "markdown",
   "id": "0d35357c",
   "metadata": {},
   "source": [
    "### get guarantee"
   ]
  },
  {
   "cell_type": "code",
   "execution_count": 795,
   "id": "527ebfc6",
   "metadata": {},
   "outputs": [],
   "source": [
    "def get_guarantee(r):\n",
    "    \n",
    "    # get soup\n",
    "    soup = BeautifulSoup(r, 'html.parser')\n",
    "    \n",
    "    # extract\n",
    "    step1 = soup.select('div[class*=\"CLInfosAnnonces\"]')\n",
    "    if len(step1)>0:\n",
    "        step2 = step1[0].select('tr')\n",
    "        if len(step2) > 0:\n",
    "            for k in step2:\n",
    "                if k.select('td')[0].text.find(\"Garant\") >= 0:\n",
    "                    try:\n",
    "                        return k.select('td')[1].text.replace(\"\\n\", \"\").replace(\"\\t\", \"\").strip()\n",
    "                    except:\n",
    "                        return np.nan\n",
    "    else:\n",
    "        return np.nan"
   ]
  },
  {
   "cell_type": "code",
   "execution_count": 796,
   "id": "17da63c1",
   "metadata": {},
   "outputs": [
    {
     "data": {
      "text/plain": [
       "\"3 mois jusqu'au 01/01/1970\""
      ]
     },
     "execution_count": 796,
     "metadata": {},
     "output_type": "execute_result"
    }
   ],
   "source": [
    "with open(file_check_single, 'r') as f:\n",
    "    readable_html = f.read()\n",
    "    g_guar = get_guarantee(readable_html)\n",
    "g_guar"
   ]
  },
  {
   "cell_type": "markdown",
   "id": "e7eacf5c",
   "metadata": {},
   "source": [
    "### get hand"
   ]
  },
  {
   "cell_type": "code",
   "execution_count": 797,
   "id": "a494cf17",
   "metadata": {},
   "outputs": [],
   "source": [
    "def get_hand(r):\n",
    "    \n",
    "    # get soup\n",
    "    soup = BeautifulSoup(r, 'html.parser')\n",
    "    \n",
    "    # extract\n",
    "    step1 = soup.select('div[class*=\"CLInfosAnnonces\"]')\n",
    "    if len(step1)>0:\n",
    "        step2 = step1[0].select('tr')\n",
    "        if len(step2) > 0:\n",
    "            for k in step2:\n",
    "                if k.select('td')[0].text.find(\"Première\") >= 0:\n",
    "                    try:\n",
    "                        return \"First hand\"\n",
    "                    except:\n",
    "                        return np.nan\n",
    "    else:\n",
    "        return np.nan"
   ]
  },
  {
   "cell_type": "code",
   "execution_count": 798,
   "id": "42869818",
   "metadata": {},
   "outputs": [],
   "source": [
    "with open(file_check_single, 'r') as f:\n",
    "    readable_html = f.read()\n",
    "    g_hand = get_hand(readable_html)\n",
    "g_hand"
   ]
  },
  {
   "cell_type": "markdown",
   "id": "2244b6fd",
   "metadata": {},
   "source": [
    "### get chassis"
   ]
  },
  {
   "cell_type": "code",
   "execution_count": 799,
   "id": "2b77149a",
   "metadata": {},
   "outputs": [],
   "source": [
    "def get_chassis(r):\n",
    "    \n",
    "    # get soup\n",
    "    soup = BeautifulSoup(r, 'html.parser')\n",
    "    \n",
    "    # extract\n",
    "    step1 = soup.select('div[class*=\"CLInfosAnnonces\"]')\n",
    "    if len(step1)>0:\n",
    "        step2 = step1[0].select('tr')\n",
    "        if len(step2) > 0:\n",
    "            for k in step2:\n",
    "                if k.select('td')[0].text.find(\"Chassis\") >= 0:\n",
    "                    try:\n",
    "                        return k.select('td')[1].text\n",
    "                    except:\n",
    "                        return np.nan\n",
    "    else:\n",
    "        return np.nan"
   ]
  },
  {
   "cell_type": "code",
   "execution_count": 800,
   "id": "0448cbfa",
   "metadata": {},
   "outputs": [],
   "source": [
    "with open(file_check_single, 'r') as f:\n",
    "    readable_html = f.read()\n",
    "    g_chassis = get_chassis(readable_html)\n",
    "g_chassis"
   ]
  },
  {
   "cell_type": "markdown",
   "id": "124b1f05",
   "metadata": {},
   "source": [
    "### get comment"
   ]
  },
  {
   "cell_type": "code",
   "execution_count": 801,
   "id": "5c8b66e5",
   "metadata": {},
   "outputs": [],
   "source": [
    "def cleanhtml(raw_html):\n",
    "    cleanr = re.compile('<.*?>')\n",
    "    cleantext = re.sub(cleanr, ' ', raw_html)\n",
    "    return cleantext"
   ]
  },
  {
   "cell_type": "code",
   "execution_count": 802,
   "id": "9a26e8e1",
   "metadata": {},
   "outputs": [],
   "source": [
    "def get_comment(r):\n",
    "    \n",
    "    # get soup\n",
    "    soup = BeautifulSoup(r, 'html.parser')\n",
    "    \n",
    "    # extract\n",
    "    step1 = soup.select('div[class*=\"CLAnnonceDescription\"]')\n",
    "    if len(step1)>0:\n",
    "        try:\n",
    "            return cleanhtml(step1[0].text.replace(\"\\n\", \" \").replace(\"\\t\", \" \").replace(\"  \", \" \").strip())\n",
    "        except:\n",
    "            return \"\"\n",
    "    return \"\""
   ]
  },
  {
   "cell_type": "code",
   "execution_count": 480,
   "id": "fa34cfb6",
   "metadata": {},
   "outputs": [
    {
     "data": {
      "text/plain": [
       "'Description Equipements de série : ABS, Poignées chauffantes, Prise 12V, Top case 2 casques, Valises, Version GTEquipements optionnels inclus : Silencieux AkrapovicRemarques entretien : Aucun consommable à prévoir, Factures d‘entretien, Révision faiteServices concession : Démarches administratives sur place, Essai sur rendez-vous, Financement & Assurance possibles'"
      ]
     },
     "execution_count": 480,
     "metadata": {},
     "output_type": "execute_result"
    }
   ],
   "source": [
    "with codecs.open(file_check_single, 'r', encoding='utf-8', errors='ignore') as f:\n",
    "    readable_html = f.read()\n",
    "    g_comment = get_comment(readable_html)\n",
    "g_comment"
   ]
  },
  {
   "cell_type": "markdown",
   "id": "fd6a2a90",
   "metadata": {},
   "source": [
    "### Save image functions"
   ]
  },
  {
   "cell_type": "code",
   "execution_count": 481,
   "id": "2b06a44f",
   "metadata": {},
   "outputs": [],
   "source": [
    "def get_images(r, uniq_id):\n",
    "    \n",
    "    # get images url list\n",
    "    image_list = []\n",
    "    \n",
    "    # get soup\n",
    "    soup_ = BeautifulSoup(r, 'html.parser')\n",
    "    \n",
    "    # extract\n",
    "    step1 = soup_.select('div[class*=\"CLSlide-group\"]')\n",
    "    \n",
    "    if len(step1)>0:\n",
    "        step2 = step1[0].select(\"a\")\n",
    "        if len(step2) > 0:\n",
    "            for k in step2:\n",
    "                if \"href\" in k.attrs:\n",
    "                    image_list.append(k.attrs['href'])\n",
    "\n",
    "    # save images\n",
    "    k=1\n",
    "    for image_url in image_list[0:3]:\n",
    "        image_name = f'images/{uniq_id}-{k}.jpg'\n",
    "        if os.path.isfile(image_name) is False:\n",
    "            img_data = requests.get(image_url).content\n",
    "            with open(image_name, 'wb') as handler:\n",
    "                handler.write(img_data)\n",
    "            try:\n",
    "                image = Image.open(image_name) \n",
    "                ratio = image.size[0] / image.size[1]\n",
    "                image = image.resize((300,int(300/ratio)))\n",
    "                image.save(f'images/{uniq_id}-{k}.jpg',optimize = True, quality = 70)\n",
    "            except:\n",
    "                pass\n",
    "        k+=1\n",
    "        \n",
    "    return"
   ]
  },
  {
   "cell_type": "code",
   "execution_count": 431,
   "id": "c09c7315",
   "metadata": {},
   "outputs": [
    {
     "name": "stdout",
     "output_type": "stream",
     "text": [
      "https://www.fulloccaz.com/nas/commun/annonces//a6b9fff993692e166f34a41bd2eea0ef8c8b833d/photo-annonce-kymco-ak-550_5f4e6f385481d443057694.jpg\n",
      "https://www.fulloccaz.com/nas/commun/annonces//a6b9fff993692e166f34a41bd2eea0ef8c8b833d/photo-annonce-kymco-ak-550_5f4e6f3d8028a305583159.jpg\n",
      "https://www.fulloccaz.com/nas/commun/annonces//a6b9fff993692e166f34a41bd2eea0ef8c8b833d/photo-annonce-kymco-ak-550_5f4e6f42683ca632103229.jpg\n"
     ]
    }
   ],
   "source": [
    "with open(file_check_single, 'r') as f:\n",
    "    readable_html = f.read()\n",
    "    g_url = get_url(readable_html)\n",
    "    get_images(readable_html, get_uniq_id(g_url))"
   ]
  },
  {
   "cell_type": "markdown",
   "id": "b5638888",
   "metadata": {},
   "source": [
    "<div style=\"color:orangered; font-weight:700; font-size:20pt\">TEST 100 ANNONCES</div>"
   ]
  },
  {
   "cell_type": "code",
   "execution_count": 825,
   "id": "562f0eb0",
   "metadata": {
    "scrolled": false
   },
   "outputs": [
    {
     "name": "stdout",
     "output_type": "stream",
     "text": [
      "fulloccaz-2020182-2021-06-07_22h36.html 1 56600\n",
      "fulloccaz-2050240-2021-06-07_22h36.html 2 56600\n",
      "fulloccaz-2050254-2021-06-07_22h36.html 3 56600\n",
      "fulloccaz-2023856-2021-06-07_22h37.html 4 38400\n",
      "fulloccaz-2048318-2021-06-07_22h37.html 5 51000\n",
      "fulloccaz-2050051-2021-06-07_22h36.html 6 56600\n",
      "fulloccaz-2047183-2021-06-07_22h38.html 7 64600\n",
      "fulloccaz-1992853-2021-06-07_22h37.html 8 56600\n",
      "fulloccaz-2049632-2021-06-07_22h38.html 9 56600\n",
      "fulloccaz-2048838-2021-06-07_22h37.html 10 51000\n",
      "fulloccaz-2026239-2021-06-07_22h37.html 11 92600\n",
      "fulloccaz-2050222-2021-06-07_22h36.html 12 56600\n",
      "fulloccaz-2050228-2021-06-07_22h37.html 13 56600\n",
      "fulloccaz-2041214-2021-06-07_22h38.html 14 92600\n",
      "fulloccaz-2031399-2021-06-07_22h38.html 15 56600\n",
      "fulloccaz-2049139-2021-06-07_22h37.html 16 56600\n",
      "fulloccaz-2049703-2021-06-07_22h38.html 17 86000\n",
      "fulloccaz-2049146-2021-06-07_22h38.html 18 56600\n",
      "fulloccaz-2041221-2021-06-07_22h37.html 19 56600\n",
      "fulloccaz-2050145-2021-06-07_22h38.html 20 56600\n",
      "fulloccaz-2044036-2021-06-07_22h37.html 21 37170\n",
      "fulloccaz-2047325-2021-06-07_22h37.html 22 56600\n",
      "fulloccaz-2044950-2021-06-07_22h38.html 23 56600\n",
      "fulloccaz-2044080-2021-06-07_22h38.html 24 51000\n",
      "fulloccaz-2044088-2021-06-07_22h38.html 25 51000\n",
      "fulloccaz-2041219-2021-06-07_22h38.html 26 56600\n",
      "fulloccaz-2024958-2021-06-07_22h38.html 27 24750\n",
      "fulloccaz-2044055-2021-06-07_22h37.html 28 51000\n",
      "fulloccaz-2049140-2021-06-07_22h37.html 29 56600\n",
      "fulloccaz-2026932-2021-06-07_22h37.html 30 67500\n",
      "fulloccaz-2050054-2021-06-07_22h37.html 31 56600\n",
      "fulloccaz-2050506-2021-06-07_22h38.html 32 51000\n",
      "fulloccaz-2049693-2021-06-07_22h38.html 33 86000\n",
      "fulloccaz-2046400-2021-06-07_22h37.html 34 56600\n",
      "fulloccaz-2041222-2021-06-07_22h37.html 35 56600\n",
      "fulloccaz-1992826-2021-06-07_22h37.html 36 56600\n",
      "fulloccaz-2043971-2021-06-07_22h37.html 37 56600\n",
      "fulloccaz-2029993-2021-06-07_22h37.html 38 60740\n"
     ]
    }
   ],
   "source": [
    "counter = 1\n",
    "list_test = []\n",
    "for single_ in [file for file in os.listdir(\"annonces\") if file.endswith(\"html\")]:\n",
    "    with open(f\"annonces/{single_}\", 'r') as f:\n",
    "        readable_html = f.read()\n",
    "        g_X = get_postal(readable_html)\n",
    "        print(single_, counter, g_X)\n",
    "        counter+=1"
   ]
  },
  {
   "cell_type": "markdown",
   "id": "81b602cc",
   "metadata": {},
   "source": [
    "## Extract 1 announce"
   ]
  },
  {
   "cell_type": "markdown",
   "id": "e3e724e3",
   "metadata": {},
   "source": [
    "### function to check already existing announce in the df"
   ]
  },
  {
   "cell_type": "code",
   "execution_count": 506,
   "id": "c40d6aa0",
   "metadata": {},
   "outputs": [],
   "source": [
    "def add_the_announce(df, uniq_id, price):\n",
    "    if int(uniq_id) in list(df[\"unique id\"]):\n",
    "        index_ = df.index[df['unique id'] == int(uniq_id)].tolist()[0]\n",
    "\n",
    "        # if an announce with same uniq id but different price is found, return true and add\n",
    "        # or return False and skip\n",
    "        return df.iloc[index_][\"price\"]!=price\n",
    "\n",
    "    # else, return true and add\n",
    "    return True"
   ]
  },
  {
   "cell_type": "code",
   "execution_count": 627,
   "id": "b94522dd",
   "metadata": {},
   "outputs": [],
   "source": [
    "def process_announce(file_name):\n",
    "    \"\"\" this function add an announce content from fulloccaz.com to the dataframe \"\"\"\n",
    "    \n",
    "    # load csv if exists or starting from template\n",
    "    data_fulloccaz = \"../../../tresboncoin/data/fulloccaz.csv\"\n",
    "    #\n",
    "    if os.path.isfile(data_fulloccaz) is False:\n",
    "        pass\n",
    "    else:\n",
    "        data = pd.read_csv(data_fulloccaz)\n",
    "    \n",
    "    df = announce_template.copy()\n",
    "    \n",
    "    # fill df with defined functions\n",
    "    with open(f\"annonces/{file_name}\", 'r') as f:\n",
    "        readable_html = f.read()\n",
    "        \n",
    "        url_ = get_url(readable_html)\n",
    "        uniq_id = get_uniq_id(url_)\n",
    "        price_ = get_price(readable_html)\n",
    "        \n",
    "        print(file_name)\n",
    "        \n",
    "        if isinstance(url_, str):\n",
    "            if add_the_announce(data, uniq_id, price_):\n",
    "                df[\"url\"] = url_\n",
    "                df[\"unique id\"] = uniq_id\n",
    "                df[\"date_scrapped\"] = datetime.datetime.now().strftime(\"%Y/%m/%d - %Hh%M\")\n",
    "                df[\"announce_publication_date\"] = get_publication_date(readable_html)\n",
    "                df[\"vehicle brand\"] = get_brand_and_model(readable_html)\n",
    "                df[\"vehicle type\"] = get_type(readable_html)\n",
    "                df[\"color\"] = get_color(readable_html)\n",
    "                df[\"price\"] = price_\n",
    "                df[\"city\"] = get_city(readable_html)\n",
    "                df[\"postal code\"] = get_postal(readable_html)\n",
    "                df[\"seller\"] = get_seller(readable_html)\n",
    "                df[\"seller_name\"] = get_seller_name(readable_html)\n",
    "                df[\"vehicle release date\"] = get_release(readable_html)\n",
    "                df[\"mileage\"] = get_mileage(readable_html)\n",
    "                df[\"motorisation\"] = get_engine_type(readable_html)\n",
    "                df[\"fiscal power\"] = get_fiscal_power(readable_html)\n",
    "                df[\"guarantee\"] = get_guarantee(readable_html)\n",
    "                df[\"hand\"] = get_hand(readable_html)\n",
    "                df[\"chassis\"] = get_chassis(readable_html)\n",
    "                df[\"engine capacity [CC]\"] = get_capa(readable_html)\n",
    "                df[\"comments\"] = get_comment(readable_html)\n",
    "        \n",
    "                # save images\n",
    "                get_images(readable_html, get_uniq_id(get_url(readable_html)))\n",
    "            \n",
    "                # concatenate to csv and write\n",
    "                try:\n",
    "                    data = pd.concat([data, df], axis=0)\n",
    "                    data.to_csv(path_or_buf = data_fulloccaz, index=False)\n",
    "                except:\n",
    "                    df.to_csv(path_or_buf = data_fulloccaz, index=False)\n",
    "            else:\n",
    "                print(\"id: \" + str(uniq_id) + \" skipped\")\n",
    "            # deplacer le fichier html traité dans le vault\n",
    "            subprocess.run([\"mv\", f\"annonces/{file_name}\", \"vault\"])\n",
    "        else:\n",
    "            subprocess.run([\"mv\", f\"annonces/{file_name}\", f\"annonces/{file_name}_bad\"])\n",
    "    return"
   ]
  },
  {
   "cell_type": "code",
   "execution_count": 628,
   "id": "de41cc1d",
   "metadata": {},
   "outputs": [
    {
     "data": {
      "text/plain": [
       "['fulloccaz-2016872-2021-06-06_12h22.html',\n",
       " 'fulloccaz-2017381-2021-06-06_20h29.html']"
      ]
     },
     "execution_count": 628,
     "metadata": {},
     "output_type": "execute_result"
    }
   ],
   "source": [
    "list(os.listdir(\"annonces\")[0:2])"
   ]
  },
  {
   "cell_type": "code",
   "execution_count": null,
   "id": "4fc79b2f",
   "metadata": {
    "scrolled": false
   },
   "outputs": [],
   "source": [
    "for single_ in [file for file in os.listdir(\"annonces\") if file.endswith(\".html\")]:\n",
    "    process_announce(single_)"
   ]
  },
  {
   "cell_type": "code",
   "execution_count": 6,
   "id": "55cb5481",
   "metadata": {
    "scrolled": false
   },
   "outputs": [
    {
     "data": {
      "text/html": [
       "<div>\n",
       "<style scoped>\n",
       "    .dataframe tbody tr th:only-of-type {\n",
       "        vertical-align: middle;\n",
       "    }\n",
       "\n",
       "    .dataframe tbody tr th {\n",
       "        vertical-align: top;\n",
       "    }\n",
       "\n",
       "    .dataframe thead th {\n",
       "        text-align: right;\n",
       "    }\n",
       "</style>\n",
       "<table border=\"1\" class=\"dataframe\">\n",
       "  <thead>\n",
       "    <tr style=\"text-align: right;\">\n",
       "      <th></th>\n",
       "      <th>url</th>\n",
       "      <th>unique id</th>\n",
       "      <th>date_scrapped</th>\n",
       "      <th>announce_publication_date</th>\n",
       "      <th>vehicle brand</th>\n",
       "      <th>vehicle type</th>\n",
       "      <th>color</th>\n",
       "      <th>price</th>\n",
       "      <th>city</th>\n",
       "      <th>postal code</th>\n",
       "      <th>seller</th>\n",
       "      <th>seller_name</th>\n",
       "      <th>vehicle release date</th>\n",
       "      <th>mileage</th>\n",
       "      <th>motorisation</th>\n",
       "      <th>fiscal power</th>\n",
       "      <th>guarantee</th>\n",
       "      <th>hand</th>\n",
       "      <th>chassis</th>\n",
       "      <th>engine capacity [CC]</th>\n",
       "      <th>comments</th>\n",
       "    </tr>\n",
       "  </thead>\n",
       "  <tbody>\n",
       "    <tr>\n",
       "      <th>4679</th>\n",
       "      <td>http://www.fulloccaz.com/fiches/index/2050599-...</td>\n",
       "      <td>2050599.0</td>\n",
       "      <td>2021/06/08 - 10h57</td>\n",
       "      <td>08/06/2021</td>\n",
       "      <td>TRIUMPH BONNEVILLE  T100 BLACK</td>\n",
       "      <td>Routière</td>\n",
       "      <td>Noir</td>\n",
       "      <td>7190.0</td>\n",
       "      <td>MONTPELLIER</td>\n",
       "      <td>34000.0</td>\n",
       "      <td>PASCAL MOTO TRIUMPH</td>\n",
       "      <td>Yannick</td>\n",
       "      <td>05/12/2015</td>\n",
       "      <td>21389.0</td>\n",
       "      <td>4T</td>\n",
       "      <td>68 CV</td>\n",
       "      <td>12 mois</td>\n",
       "      <td>NaN</td>\n",
       "      <td>NaN</td>\n",
       "      <td>865.0</td>\n",
       "      <td>Description   SUPERBE TRIUMPH BONNEVILLE T100 ...</td>\n",
       "    </tr>\n",
       "    <tr>\n",
       "      <th>4680</th>\n",
       "      <td>http://www.fulloccaz.com/fiches/index/2048844-...</td>\n",
       "      <td>2048844.0</td>\n",
       "      <td>2021/06/08 - 10h57</td>\n",
       "      <td>07/06/2021</td>\n",
       "      <td>PIAGGIO GTS 300 ACCIDENTE REF 48048</td>\n",
       "      <td>Scooter</td>\n",
       "      <td>Gris</td>\n",
       "      <td>1495.0</td>\n",
       "      <td>127 VITROLLES</td>\n",
       "      <td>11313.0</td>\n",
       "      <td>POLE POSITION MOTOS</td>\n",
       "      <td>Jean Christophe</td>\n",
       "      <td>18/06/2016</td>\n",
       "      <td>20000.0</td>\n",
       "      <td>4T</td>\n",
       "      <td>NaN</td>\n",
       "      <td>NaN</td>\n",
       "      <td>NaN</td>\n",
       "      <td>NaN</td>\n",
       "      <td>300.0</td>\n",
       "      <td>Description   Maxiscooter accidenté PIAGGIO GT...</td>\n",
       "    </tr>\n",
       "    <tr>\n",
       "      <th>4681</th>\n",
       "      <td>http://www.fulloccaz.com/fiches/index/2050591-...</td>\n",
       "      <td>2050591.0</td>\n",
       "      <td>2021/06/08 - 10h57</td>\n",
       "      <td>08/06/2021</td>\n",
       "      <td>YAMAHA WR250F</td>\n",
       "      <td>Enduro</td>\n",
       "      <td>Bleu</td>\n",
       "      <td>3490.0</td>\n",
       "      <td>ANNONAY</td>\n",
       "      <td>7100.0</td>\n",
       "      <td>NICOLAS MOTOS</td>\n",
       "      <td>Nicolas</td>\n",
       "      <td>10/03/2003</td>\n",
       "      <td>5960.0</td>\n",
       "      <td>4T</td>\n",
       "      <td>NaN</td>\n",
       "      <td>NaN</td>\n",
       "      <td>NaN</td>\n",
       "      <td>NaN</td>\n",
       "      <td>250.0</td>\n",
       "      <td>Description   Moto réviséeReprise possible KTM...</td>\n",
       "    </tr>\n",
       "    <tr>\n",
       "      <th>4682</th>\n",
       "      <td>http://www.fulloccaz.com/fiches/index/2044048-...</td>\n",
       "      <td>2044048.0</td>\n",
       "      <td>2021/06/08 - 10h57</td>\n",
       "      <td>29/04/2021</td>\n",
       "      <td>MOTO-GUZZI BELLAGIO</td>\n",
       "      <td>Custom</td>\n",
       "      <td>Noir</td>\n",
       "      <td>6990.0</td>\n",
       "      <td>TREGUEUX</td>\n",
       "      <td>22950.0</td>\n",
       "      <td>DESTINATION MOTO</td>\n",
       "      <td>Service Commercial</td>\n",
       "      <td>05/07/2011</td>\n",
       "      <td>34187.0</td>\n",
       "      <td>4T</td>\n",
       "      <td>NaN</td>\n",
       "      <td>6 mois jusqu'au 01/01/1970</td>\n",
       "      <td>NaN</td>\n",
       "      <td>NaN</td>\n",
       "      <td>940.0</td>\n",
       "      <td>Description   Options incluses :Bulle haute, F...</td>\n",
       "    </tr>\n",
       "    <tr>\n",
       "      <th>4683</th>\n",
       "      <td>http://www.fulloccaz.com/fiches/index/2042642-...</td>\n",
       "      <td>2042642.0</td>\n",
       "      <td>2021/06/08 - 10h57</td>\n",
       "      <td>08/06/2021</td>\n",
       "      <td>AFRICA TWIN ADVENTURE SPORT</td>\n",
       "      <td>Trail</td>\n",
       "      <td>Argent</td>\n",
       "      <td>12790.0</td>\n",
       "      <td>PERPIGNAN</td>\n",
       "      <td>66000.0</td>\n",
       "      <td>POLE MOTO PASSION PERPIGNAN</td>\n",
       "      <td>Service commercial</td>\n",
       "      <td>28/05/2019</td>\n",
       "      <td>10800.0</td>\n",
       "      <td>4T</td>\n",
       "      <td>95 CV</td>\n",
       "      <td>12 mois</td>\n",
       "      <td>NaN</td>\n",
       "      <td>NaN</td>\n",
       "      <td>1000.0</td>\n",
       "      <td>Description   HONCA CRF1000AFRICATWIN 1000 ADV...</td>\n",
       "    </tr>\n",
       "    <tr>\n",
       "      <th>4684</th>\n",
       "      <td>http://www.fulloccaz.com/fiches/index/2021287-...</td>\n",
       "      <td>2021287.0</td>\n",
       "      <td>2021/06/08 - 10h57</td>\n",
       "      <td>08/06/2021</td>\n",
       "      <td>PEUGEOT METROPOLIS 400 BLACK EDITION</td>\n",
       "      <td>Scooter</td>\n",
       "      <td>Noir</td>\n",
       "      <td>7500.0</td>\n",
       "      <td>TETEGHEM</td>\n",
       "      <td>59229.0</td>\n",
       "      <td>WANTED BIKE</td>\n",
       "      <td>Fred</td>\n",
       "      <td>09/04/2019</td>\n",
       "      <td>850.0</td>\n",
       "      <td>4T</td>\n",
       "      <td>5 CV</td>\n",
       "      <td>Constructeur jusqu'au 08/04/2022</td>\n",
       "      <td>First hand</td>\n",
       "      <td>3 roues</td>\n",
       "      <td>400.0</td>\n",
       "      <td>Description   PEUGEOT METROPOLIS 400 BLACK EDI...</td>\n",
       "    </tr>\n",
       "    <tr>\n",
       "      <th>4685</th>\n",
       "      <td>http://www.fulloccaz.com/fiches/index/2005518-...</td>\n",
       "      <td>2005518.0</td>\n",
       "      <td>2021/06/08 - 10h57</td>\n",
       "      <td>07/06/2021</td>\n",
       "      <td>KYMCO DOWNTOWN 350I EXCLUSIVE MOTORS 54 1ERE M...</td>\n",
       "      <td>Scooter</td>\n",
       "      <td>Gris</td>\n",
       "      <td>4500.0</td>\n",
       "      <td>DOMMARTIN LES TOUL</td>\n",
       "      <td>54200.0</td>\n",
       "      <td>MOTORS 54</td>\n",
       "      <td>NICOLAS</td>\n",
       "      <td>28/11/2019</td>\n",
       "      <td>1190.0</td>\n",
       "      <td>4T</td>\n",
       "      <td>4 CV</td>\n",
       "      <td>Constructeur jusqu'au 28/11/2022</td>\n",
       "      <td>First hand</td>\n",
       "      <td>NaN</td>\n",
       "      <td>350.0</td>\n",
       "      <td>Description Equipements de série : Peinture métal</td>\n",
       "    </tr>\n",
       "    <tr>\n",
       "      <th>4686</th>\n",
       "      <td>http://www.fulloccaz.com/fiches/index/2050600-...</td>\n",
       "      <td>2050600.0</td>\n",
       "      <td>2021/06/08 - 10h57</td>\n",
       "      <td>08/06/2021</td>\n",
       "      <td>YAMAHA TRACER 900 GT</td>\n",
       "      <td>Routière</td>\n",
       "      <td>Argent</td>\n",
       "      <td>11200.0</td>\n",
       "      <td>BOURG EN BRESSE</td>\n",
       "      <td>1000.0</td>\n",
       "      <td>MOTOAIN</td>\n",
       "      <td>Stephane</td>\n",
       "      <td>07/01/2021</td>\n",
       "      <td>500.0</td>\n",
       "      <td>4T</td>\n",
       "      <td>115 CV</td>\n",
       "      <td>NaN</td>\n",
       "      <td>NaN</td>\n",
       "      <td>NaN</td>\n",
       "      <td>850.0</td>\n",
       "      <td>Description   Concessionnaire Yamaha vend trac...</td>\n",
       "    </tr>\n",
       "    <tr>\n",
       "      <th>4687</th>\n",
       "      <td>http://www.fulloccaz.com/fiches/index/2050198-...</td>\n",
       "      <td>2050198.0</td>\n",
       "      <td>2021/06/08 - 10h57</td>\n",
       "      <td>07/06/2021</td>\n",
       "      <td>Belle moto de collection SUZUKI RG GAMMA 500 d...</td>\n",
       "      <td>Sportive</td>\n",
       "      <td>Blanc</td>\n",
       "      <td>22590.0</td>\n",
       "      <td>127 VITROLLES</td>\n",
       "      <td>11313.0</td>\n",
       "      <td>POLE POSITION MOTOS</td>\n",
       "      <td>Jean Christophe</td>\n",
       "      <td>01/01/1986</td>\n",
       "      <td>12514.0</td>\n",
       "      <td>4T</td>\n",
       "      <td>NaN</td>\n",
       "      <td>NaN</td>\n",
       "      <td>NaN</td>\n",
       "      <td>NaN</td>\n",
       "      <td>500.0</td>\n",
       "      <td>Description   Collector absolu, moteur mythiqu...</td>\n",
       "    </tr>\n",
       "    <tr>\n",
       "      <th>4688</th>\n",
       "      <td>http://www.fulloccaz.com/fiches/index/2048639-...</td>\n",
       "      <td>2048639.0</td>\n",
       "      <td>2021/06/08 - 10h57</td>\n",
       "      <td>08/06/2021</td>\n",
       "      <td>DUCATI SCRAMBLER 800</td>\n",
       "      <td>Routière</td>\n",
       "      <td>Jaune</td>\n",
       "      <td>6990.0</td>\n",
       "      <td>MONTPELLIER</td>\n",
       "      <td>34000.0</td>\n",
       "      <td>PASCAL MOTO TRIUMPH</td>\n",
       "      <td>Yannick</td>\n",
       "      <td>26/01/2016</td>\n",
       "      <td>13312.0</td>\n",
       "      <td>4T</td>\n",
       "      <td>74 CV</td>\n",
       "      <td>12 mois</td>\n",
       "      <td>NaN</td>\n",
       "      <td>NaN</td>\n",
       "      <td>800.0</td>\n",
       "      <td>Description   DUCATI SCRAMBLER 800. SUPERBE . ...</td>\n",
       "    </tr>\n",
       "  </tbody>\n",
       "</table>\n",
       "</div>"
      ],
      "text/plain": [
       "                                                    url  unique id  \\\n",
       "4679  http://www.fulloccaz.com/fiches/index/2050599-...  2050599.0   \n",
       "4680  http://www.fulloccaz.com/fiches/index/2048844-...  2048844.0   \n",
       "4681  http://www.fulloccaz.com/fiches/index/2050591-...  2050591.0   \n",
       "4682  http://www.fulloccaz.com/fiches/index/2044048-...  2044048.0   \n",
       "4683  http://www.fulloccaz.com/fiches/index/2042642-...  2042642.0   \n",
       "4684  http://www.fulloccaz.com/fiches/index/2021287-...  2021287.0   \n",
       "4685  http://www.fulloccaz.com/fiches/index/2005518-...  2005518.0   \n",
       "4686  http://www.fulloccaz.com/fiches/index/2050600-...  2050600.0   \n",
       "4687  http://www.fulloccaz.com/fiches/index/2050198-...  2050198.0   \n",
       "4688  http://www.fulloccaz.com/fiches/index/2048639-...  2048639.0   \n",
       "\n",
       "           date_scrapped announce_publication_date  \\\n",
       "4679  2021/06/08 - 10h57                08/06/2021   \n",
       "4680  2021/06/08 - 10h57                07/06/2021   \n",
       "4681  2021/06/08 - 10h57                08/06/2021   \n",
       "4682  2021/06/08 - 10h57                29/04/2021   \n",
       "4683  2021/06/08 - 10h57                08/06/2021   \n",
       "4684  2021/06/08 - 10h57                08/06/2021   \n",
       "4685  2021/06/08 - 10h57                07/06/2021   \n",
       "4686  2021/06/08 - 10h57                08/06/2021   \n",
       "4687  2021/06/08 - 10h57                07/06/2021   \n",
       "4688  2021/06/08 - 10h57                08/06/2021   \n",
       "\n",
       "                                          vehicle brand vehicle type   color  \\\n",
       "4679                     TRIUMPH BONNEVILLE  T100 BLACK     Routière    Noir   \n",
       "4680                PIAGGIO GTS 300 ACCIDENTE REF 48048      Scooter    Gris   \n",
       "4681                                      YAMAHA WR250F       Enduro    Bleu   \n",
       "4682                                MOTO-GUZZI BELLAGIO       Custom    Noir   \n",
       "4683                        AFRICA TWIN ADVENTURE SPORT        Trail  Argent   \n",
       "4684               PEUGEOT METROPOLIS 400 BLACK EDITION      Scooter    Noir   \n",
       "4685  KYMCO DOWNTOWN 350I EXCLUSIVE MOTORS 54 1ERE M...      Scooter    Gris   \n",
       "4686                               YAMAHA TRACER 900 GT     Routière  Argent   \n",
       "4687  Belle moto de collection SUZUKI RG GAMMA 500 d...     Sportive   Blanc   \n",
       "4688                               DUCATI SCRAMBLER 800     Routière   Jaune   \n",
       "\n",
       "        price                city  postal code                       seller  \\\n",
       "4679   7190.0         MONTPELLIER      34000.0          PASCAL MOTO TRIUMPH   \n",
       "4680   1495.0       127 VITROLLES      11313.0          POLE POSITION MOTOS   \n",
       "4681   3490.0             ANNONAY       7100.0                NICOLAS MOTOS   \n",
       "4682   6990.0            TREGUEUX      22950.0             DESTINATION MOTO   \n",
       "4683  12790.0           PERPIGNAN      66000.0  POLE MOTO PASSION PERPIGNAN   \n",
       "4684   7500.0            TETEGHEM      59229.0                  WANTED BIKE   \n",
       "4685   4500.0  DOMMARTIN LES TOUL      54200.0                    MOTORS 54   \n",
       "4686  11200.0     BOURG EN BRESSE       1000.0                      MOTOAIN   \n",
       "4687  22590.0       127 VITROLLES      11313.0          POLE POSITION MOTOS   \n",
       "4688   6990.0         MONTPELLIER      34000.0          PASCAL MOTO TRIUMPH   \n",
       "\n",
       "             seller_name vehicle release date  mileage motorisation  \\\n",
       "4679             Yannick           05/12/2015  21389.0           4T   \n",
       "4680     Jean Christophe           18/06/2016  20000.0           4T   \n",
       "4681             Nicolas           10/03/2003   5960.0           4T   \n",
       "4682  Service Commercial           05/07/2011  34187.0           4T   \n",
       "4683  Service commercial           28/05/2019  10800.0           4T   \n",
       "4684                Fred           09/04/2019    850.0           4T   \n",
       "4685             NICOLAS           28/11/2019   1190.0           4T   \n",
       "4686            Stephane           07/01/2021    500.0           4T   \n",
       "4687     Jean Christophe           01/01/1986  12514.0           4T   \n",
       "4688             Yannick           26/01/2016  13312.0           4T   \n",
       "\n",
       "     fiscal power                         guarantee        hand  chassis  \\\n",
       "4679        68 CV                           12 mois         NaN      NaN   \n",
       "4680          NaN                               NaN         NaN      NaN   \n",
       "4681          NaN                               NaN         NaN      NaN   \n",
       "4682          NaN        6 mois jusqu'au 01/01/1970         NaN      NaN   \n",
       "4683        95 CV                           12 mois         NaN      NaN   \n",
       "4684         5 CV  Constructeur jusqu'au 08/04/2022  First hand  3 roues   \n",
       "4685         4 CV  Constructeur jusqu'au 28/11/2022  First hand      NaN   \n",
       "4686       115 CV                               NaN         NaN      NaN   \n",
       "4687          NaN                               NaN         NaN      NaN   \n",
       "4688        74 CV                           12 mois         NaN      NaN   \n",
       "\n",
       "      engine capacity [CC]                                           comments  \n",
       "4679                 865.0  Description   SUPERBE TRIUMPH BONNEVILLE T100 ...  \n",
       "4680                 300.0  Description   Maxiscooter accidenté PIAGGIO GT...  \n",
       "4681                 250.0  Description   Moto réviséeReprise possible KTM...  \n",
       "4682                 940.0  Description   Options incluses :Bulle haute, F...  \n",
       "4683                1000.0  Description   HONCA CRF1000AFRICATWIN 1000 ADV...  \n",
       "4684                 400.0  Description   PEUGEOT METROPOLIS 400 BLACK EDI...  \n",
       "4685                 350.0  Description Equipements de série : Peinture métal  \n",
       "4686                 850.0  Description   Concessionnaire Yamaha vend trac...  \n",
       "4687                 500.0  Description   Collector absolu, moteur mythiqu...  \n",
       "4688                 800.0  Description   DUCATI SCRAMBLER 800. SUPERBE . ...  "
      ]
     },
     "execution_count": 6,
     "metadata": {},
     "output_type": "execute_result"
    }
   ],
   "source": [
    "data_moto = \"../../../tresboncoin/data/fulloccaz.csv\"\n",
    "data = pd.read_csv(data_moto)\n",
    "data.tail(10)"
   ]
  },
  {
   "cell_type": "code",
   "execution_count": 3,
   "id": "ae645156",
   "metadata": {},
   "outputs": [
    {
     "data": {
      "text/plain": [
       "(4689, 21)"
      ]
     },
     "execution_count": 3,
     "metadata": {},
     "output_type": "execute_result"
    }
   ],
   "source": [
    "data.shape"
   ]
  },
  {
   "cell_type": "code",
   "execution_count": 4,
   "id": "dee95e4f",
   "metadata": {},
   "outputs": [
    {
     "data": {
      "text/plain": [
       "'https://www.fulloccaz.com/fiches/index/2043830-occasion-sherco-sef-r-500-factory-2020-motors-54?&Marque=SHERCO'"
      ]
     },
     "execution_count": 4,
     "metadata": {},
     "output_type": "execute_result"
    }
   ],
   "source": [
    "data.iloc[4624][\"url\"]"
   ]
  },
  {
   "cell_type": "code",
   "execution_count": null,
   "id": "e2a12c1a",
   "metadata": {},
   "outputs": [],
   "source": []
  }
 ],
 "metadata": {
  "kernelspec": {
   "display_name": "Python 3",
   "language": "python",
   "name": "python3"
  },
  "language_info": {
   "codemirror_mode": {
    "name": "ipython",
    "version": 3
   },
   "file_extension": ".py",
   "mimetype": "text/x-python",
   "name": "python",
   "nbconvert_exporter": "python",
   "pygments_lexer": "ipython3",
   "version": "3.9.1"
  },
  "toc": {
   "base_numbering": 1,
   "nav_menu": {},
   "number_sections": true,
   "sideBar": true,
   "skip_h1_title": false,
   "title_cell": "Table of Contents",
   "title_sidebar": "Contents",
   "toc_cell": false,
   "toc_position": {},
   "toc_section_display": true,
   "toc_window_display": false
  },
  "varInspector": {
   "cols": {
    "lenName": 16,
    "lenType": 16,
    "lenVar": 40
   },
   "kernels_config": {
    "python": {
     "delete_cmd_postfix": "",
     "delete_cmd_prefix": "del ",
     "library": "var_list.py",
     "varRefreshCmd": "print(var_dic_list())"
    },
    "r": {
     "delete_cmd_postfix": ") ",
     "delete_cmd_prefix": "rm(",
     "library": "var_list.r",
     "varRefreshCmd": "cat(var_dic_list()) "
    }
   },
   "types_to_exclude": [
    "module",
    "function",
    "builtin_function_or_method",
    "instance",
    "_Feature"
   ],
   "window_display": false
  }
 },
 "nbformat": 4,
 "nbformat_minor": 5
}
