{
 "cells": [
  {
   "cell_type": "markdown",
   "id": "d41ea0aa",
   "metadata": {},
   "source": [
    "# Imports"
   ]
  },
  {
   "cell_type": "code",
   "execution_count": 38,
   "id": "13f72d10",
   "metadata": {},
   "outputs": [],
   "source": [
    "from selenium import webdriver\n",
    "from selenium.webdriver.common.keys import Keys\n",
    "import chromedriver_binary\n",
    "import csv\n",
    "from bs4 import BeautifulSoup\n",
    "from selenium.webdriver.common.by import By\n",
    "from selenium.webdriver.support.ui import WebDriverWait\n",
    "from selenium.webdriver.support import expected_conditions as ec\n",
    "from selenium.webdriver.chrome.options import Options"
   ]
  },
  {
   "cell_type": "code",
   "execution_count": 23,
   "id": "7cf57a4a",
   "metadata": {},
   "outputs": [],
   "source": [
    "options = Options()\n",
    "options.add_argument(\"--headless\")\n",
    "driver = webdriver.Chrome(options=options)\n",
    "driver.get(\"https://recipes.lewagon.com/recipes/advanced\")"
   ]
  },
  {
   "cell_type": "code",
   "execution_count": 24,
   "id": "9cf40a55",
   "metadata": {},
   "outputs": [
    {
     "name": "stdout",
     "output_type": "stream",
     "text": [
      "Found 12 results on the page\n",
      "['http://recipes.lewagon.com/recipes/956/advanced', 'http://recipes.lewagon.com/recipes/748/advanced', 'http://recipes.lewagon.com/recipes/449/advanced', 'http://recipes.lewagon.com/recipes/497/advanced', 'http://recipes.lewagon.com/recipes/280/advanced', 'http://recipes.lewagon.com/recipes/992/advanced', 'http://recipes.lewagon.com/recipes/465/advanced', 'http://recipes.lewagon.com/recipes/818/advanced', 'http://recipes.lewagon.com/recipes/823/advanced', 'http://recipes.lewagon.com/recipes/873/advanced', 'http://recipes.lewagon.com/recipes/852/advanced', 'http://recipes.lewagon.com/recipes/805/advanced']\n"
     ]
    }
   ],
   "source": [
    "search_input = driver.find_element_by_id('search_query') # Open the inspector in Chrome and find the input id!\n",
    "search_input.send_keys('chocolate')\n",
    "search_input.submit()\n",
    "\n",
    "wait = WebDriverWait(driver, 15)\n",
    "wait.until(ec.visibility_of_element_located((By.XPATH, \"//div[@id='recipes']\")))\n",
    "\n",
    "recipe_urls = []\n",
    "cards = driver.find_elements_by_xpath(\"//div[@class='recipe my-3']\")\n",
    "print(f\"Found {len(cards)} results on the page\")\n",
    "for card in cards:\n",
    "    url = card.get_attribute('data-href')\n",
    "    recipe_urls.append(url)\n",
    "\n",
    "print(recipe_urls)"
   ]
  },
  {
   "cell_type": "code",
   "execution_count": 25,
   "id": "308a3bf7",
   "metadata": {},
   "outputs": [
    {
     "name": "stdout",
     "output_type": "stream",
     "text": [
      "Navigating to http://recipes.lewagon.com/recipes/956/advanced\n",
      "Navigating to http://recipes.lewagon.com/recipes/748/advanced\n",
      "Navigating to http://recipes.lewagon.com/recipes/449/advanced\n",
      "Navigating to http://recipes.lewagon.com/recipes/497/advanced\n",
      "Navigating to http://recipes.lewagon.com/recipes/280/advanced\n",
      "Navigating to http://recipes.lewagon.com/recipes/992/advanced\n",
      "Navigating to http://recipes.lewagon.com/recipes/465/advanced\n",
      "Navigating to http://recipes.lewagon.com/recipes/818/advanced\n",
      "Navigating to http://recipes.lewagon.com/recipes/823/advanced\n",
      "Navigating to http://recipes.lewagon.com/recipes/873/advanced\n",
      "Navigating to http://recipes.lewagon.com/recipes/852/advanced\n",
      "Navigating to http://recipes.lewagon.com/recipes/805/advanced\n"
     ]
    }
   ],
   "source": [
    "recipes = []\n",
    "for url in recipe_urls:\n",
    "    print(f\"Navigating to {url}\")\n",
    "    driver.get(url)\n",
    "    wait.until(ec.visibility_of_element_located((By.XPATH, \"//div[@class='p-3 border bg-white rounded-lg recipe-container']\")))\n",
    "\n",
    "    soup = BeautifulSoup(driver.page_source, 'html.parser')\n",
    "    name = soup.find('h2').string.strip()\n",
    "    cooktime = soup.find('span', class_='recipe-cooktime').text.strip()\n",
    "    difficulty = soup.find('span', class_='recipe-difficulty').text.strip()\n",
    "    price = soup.find('small', class_='recipe-price').attrs.get('data-price').strip()\n",
    "    description = soup.find('p', class_='recipe-description').text.strip()\n",
    "    recipes.append({\n",
    "      'name': name,\n",
    "      'cooktime': cooktime,\n",
    "      'difficulty': difficulty,\n",
    "      'price': price,\n",
    "      'description': description\n",
    "    })"
   ]
  },
  {
   "cell_type": "code",
   "execution_count": 26,
   "id": "d7478958",
   "metadata": {
    "scrolled": false
   },
   "outputs": [],
   "source": [
    "with open('recipes.csv', 'w') as file:\n",
    "    writer = csv.DictWriter(file, fieldnames=recipes[0].keys())\n",
    "    writer.writeheader()\n",
    "    writer.writerows(recipes)"
   ]
  },
  {
   "cell_type": "code",
   "execution_count": null,
   "id": "6bf66857",
   "metadata": {},
   "outputs": [],
   "source": []
  },
  {
   "cell_type": "code",
   "execution_count": null,
   "id": "077a8ba7",
   "metadata": {},
   "outputs": [],
   "source": []
  },
  {
   "cell_type": "code",
   "execution_count": 30,
   "id": "3509d882",
   "metadata": {},
   "outputs": [],
   "source": [
    "user_agent = 'Mozilla/5.0 (X11; Linux x86_64) AppleWebKit/537.36 (KHTML, like Gecko) Chrome/83.0.4103.97 Safari/537.36'\n",
    "options = webdriver.ChromeOptions()\n",
    "options.add_argument(f'user-agent={user_agent}')\n",
    "options.add_argument('start-maximized')\n",
    "options.add_argument('disable-infobars')\n",
    "options.add_argument('--profile-directory=Default')\n",
    "options.add_argument(\"--incognito\")\n",
    "options.add_argument(\"--disable-plugins-discovery\")\n",
    "options.add_experimental_option(\"excludeSwitches\", [\"ignore-certificate-errors\", \"safebrowsing-disable-download-protection\", \"safebrowsing-disable-auto-update\", \"disable-client-side-phishing-detection\"])\n",
    "options.add_argument('--disable-extensions')\n",
    "browser = webdriver.Chrome(chrome_options=options)"
   ]
  },
  {
   "cell_type": "code",
   "execution_count": 34,
   "id": "93b0f830",
   "metadata": {},
   "outputs": [],
   "source": [
    "opts = Options()\n",
    "opts.add_argument(\"authority=www.lacentrale.fr\")\n",
    "opts.add_argument(\"user-agent=Mozilla/5.0 (Linux; Android 6.0; Nexus 5 Build/MRA58N) AppleWebKit/537.36 (KHTML, like Gecko) Chrome/90.0.4430.212 Mobile Safari/537.36\")"
   ]
  },
  {
   "cell_type": "code",
   "execution_count": 46,
   "id": "0f387a6d",
   "metadata": {},
   "outputs": [],
   "source": [
    "def get_url_list(page=1):\n",
    "    \n",
    "    # defining dict template\n",
    "    page_announces = dict({\"request\": [np.nan],\n",
    "                           \"url_list\": [],\n",
    "                           \"price_list\": []})\n",
    "    \n",
    "    # defining page of announce according to page parameter\n",
    "\n",
    "    \n",
    "    # listing all announces in the page\n",
    "    #list_announces = requests.get(url_announces, headers=headers)#, params=params)\n",
    "    #soup_announces = BeautifulSoup(list_announces.content, 'html.parser')\n",
    "    \n",
    "    #result_container = soup_announces.find(\"div\", class_=\"resultListContainer\")\n",
    "    \n",
    "    # getting individual announces url\n",
    "    #for k in result_container.select('a[class*=\"searchCard__link\"]'):\n",
    "    #    title = k.get('href')\n",
    "    #    page_announces[\"url_list\"].append(url_root + title)\n",
    "    #    print(url_root+title)\n",
    "    #    print(k.find(\"div\", class_=\"searchCard__fieldPriceBadge\"))\n",
    "    #\n",
    "    # getting individual prices of announces url\n",
    "    #for z in soup_announces.select('a[class*=\"searchCard__link\"]'):\n",
    "    #    print(z.find_all(\"div\", class_=\"searchCard__fieldPriceBadge\"))\n",
    "        #title = k.get('href')\n",
    "        #page_announces[\"url_list\"].append(url_root + title)    \n",
    "    \n",
    "    return# one_page_url_list, list_announces\n",
    "get_url_list(page=1)"
   ]
  },
  {
   "cell_type": "code",
   "execution_count": 48,
   "id": "76731b36",
   "metadata": {},
   "outputs": [
    {
     "ename": "NameError",
     "evalue": "name 'browser' is not defined",
     "output_type": "error",
     "traceback": [
      "\u001b[0;31m---------------------------------------------------------------------------\u001b[0m",
      "\u001b[0;31mNameError\u001b[0m                                 Traceback (most recent call last)",
      "\u001b[0;32m<ipython-input-48-710928f8954f>\u001b[0m in \u001b[0;36m<module>\u001b[0;34m\u001b[0m\n\u001b[0;32m----> 1\u001b[0;31m \u001b[0mbrowser\u001b[0m\u001b[0;34m.\u001b[0m\u001b[0mquit\u001b[0m\u001b[0;34m(\u001b[0m\u001b[0;34m)\u001b[0m\u001b[0;34m\u001b[0m\u001b[0;34m\u001b[0m\u001b[0m\n\u001b[0m",
      "\u001b[0;31mNameError\u001b[0m: name 'browser' is not defined"
     ]
    }
   ],
   "source": [
    "browser.quit()"
   ]
  },
  {
   "cell_type": "code",
   "execution_count": 47,
   "id": "255ea1d7",
   "metadata": {},
   "outputs": [
    {
     "ename": "NameError",
     "evalue": "name 'browser' is not defined",
     "output_type": "error",
     "traceback": [
      "\u001b[0;31m---------------------------------------------------------------------------\u001b[0m",
      "\u001b[0;31mNameError\u001b[0m                                 Traceback (most recent call last)",
      "\u001b[0;32m<ipython-input-47-1fb9ce01bd18>\u001b[0m in \u001b[0;36m<module>\u001b[0;34m\u001b[0m\n\u001b[0;32m----> 1\u001b[0;31m \u001b[0msoup\u001b[0m \u001b[0;34m=\u001b[0m \u001b[0mBeautifulSoup\u001b[0m\u001b[0;34m(\u001b[0m\u001b[0mbrowser\u001b[0m\u001b[0;34m.\u001b[0m\u001b[0mpage_source\u001b[0m\u001b[0;34m,\u001b[0m \u001b[0;34m'html.parser'\u001b[0m\u001b[0;34m)\u001b[0m\u001b[0;34m\u001b[0m\u001b[0;34m\u001b[0m\u001b[0m\n\u001b[0m",
      "\u001b[0;31mNameError\u001b[0m: name 'browser' is not defined"
     ]
    }
   ],
   "source": []
  },
  {
   "cell_type": "code",
   "execution_count": 50,
   "id": "8cdd0933",
   "metadata": {},
   "outputs": [],
   "source": [
    "url_announces = f\"https://www.lacentrale.fr/listing?makesModelsCommercialNames=&options=&page={1}&sortBy=firstOnlineDateDesc&vertical=moto\"\n",
    "\n",
    "\n",
    "user_agent = 'Mozilla/5.0 (X11; Linux x86_64) AppleWebKit/537.36 (KHTML, like Gecko) Chrome/83.0.4103.97 Safari/537.36'\n",
    "options = webdriver.ChromeOptions()\n",
    "options.add_argument(f'user-agent={user_agent}')\n",
    "options.add_argument('start-maximized')\n",
    "options.add_argument('disable-infobars')\n",
    "options.add_argument('--profile-directory=Default')\n",
    "options.add_argument(\"--incognito\")\n",
    "options.add_argument(\"--disable-plugins-discovery\")\n",
    "options.add_experimental_option(\"excludeSwitches\", [\"ignore-certificate-errors\", \"safebrowsing-disable-download-protection\", \"safebrowsing-disable-auto-update\", \"disable-client-side-phishing-detection\"])\n",
    "options.add_argument('--disable-extensions')\n",
    "browser = webdriver.Chrome(options=options)\n",
    "browser.get(url_announces)"
   ]
  },
  {
   "cell_type": "code",
   "execution_count": null,
   "id": "15bccc27",
   "metadata": {},
   "outputs": [],
   "source": [
    "soup = BeautifulSoup(browser.page_source, 'html.parser')"
   ]
  }
 ],
 "metadata": {
  "kernelspec": {
   "display_name": "Python 3",
   "language": "python",
   "name": "python3"
  },
  "language_info": {
   "codemirror_mode": {
    "name": "ipython",
    "version": 3
   },
   "file_extension": ".py",
   "mimetype": "text/x-python",
   "name": "python",
   "nbconvert_exporter": "python",
   "pygments_lexer": "ipython3",
   "version": "3.9.1"
  },
  "toc": {
   "base_numbering": 1,
   "nav_menu": {},
   "number_sections": true,
   "sideBar": true,
   "skip_h1_title": false,
   "title_cell": "Table of Contents",
   "title_sidebar": "Contents",
   "toc_cell": false,
   "toc_position": {},
   "toc_section_display": true,
   "toc_window_display": false
  },
  "varInspector": {
   "cols": {
    "lenName": 16,
    "lenType": 16,
    "lenVar": 40
   },
   "kernels_config": {
    "python": {
     "delete_cmd_postfix": "",
     "delete_cmd_prefix": "del ",
     "library": "var_list.py",
     "varRefreshCmd": "print(var_dic_list())"
    },
    "r": {
     "delete_cmd_postfix": ") ",
     "delete_cmd_prefix": "rm(",
     "library": "var_list.r",
     "varRefreshCmd": "cat(var_dic_list()) "
    }
   },
   "types_to_exclude": [
    "module",
    "function",
    "builtin_function_or_method",
    "instance",
    "_Feature"
   ],
   "window_display": false
  }
 },
 "nbformat": 4,
 "nbformat_minor": 5
}
