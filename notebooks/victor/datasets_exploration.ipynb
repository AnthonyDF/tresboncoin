{
 "cells": [
  {
   "cell_type": "markdown",
   "id": "ae78439a",
   "metadata": {},
   "source": [
    "# import pandas"
   ]
  },
  {
   "cell_type": "code",
   "execution_count": 1,
   "id": "dfe56e2b",
   "metadata": {},
   "outputs": [],
   "source": [
    "import pandas as pd\n",
    "from tresboncoin.fuzzy_match import fuzzy_match_one\n",
    "from datetime import datetime\n",
    "import seaborn as sns\n",
    "import matplotlib.pyplot as plt\n",
    "pd.set_option('display.max_columns', None)"
   ]
  },
  {
   "cell_type": "markdown",
   "id": "3cf13d73",
   "metadata": {},
   "source": [
    "# Fuzzy match"
   ]
  },
  {
   "cell_type": "code",
   "execution_count": 2,
   "id": "2502ae0d",
   "metadata": {},
   "outputs": [],
   "source": [
    "X_input = pd.DataFrame({'uniq_id': [\"id\"],\n",
    "                        'brand': [None],\n",
    "                        'model': [None],\n",
    "                        'title': [\"yamaha\"],\n",
    "                        'price': [4500],\n",
    "                        'mileage': [5002],\n",
    "                        'bike_year': [2010],\n",
    "                        'engine_size': [250]})\n",
    "X_pred = pd.DataFrame(\n",
    "    {'uniq_id': ['ERT34983'],\n",
    "     'brand': [None],\n",
    "     'model': [None],\n",
    "     'title': ['Doucati Monster'],\n",
    "     'price': [4500],\n",
    "     'mileage': [5002],\n",
    "     'bike_year': [2010],\n",
    "     'engine_size': [None]})"
   ]
  },
  {
   "cell_type": "code",
   "execution_count": 3,
   "id": "08d69396",
   "metadata": {},
   "outputs": [
    {
     "data": {
      "text/html": [
       "<div>\n",
       "<style scoped>\n",
       "    .dataframe tbody tr th:only-of-type {\n",
       "        vertical-align: middle;\n",
       "    }\n",
       "\n",
       "    .dataframe tbody tr th {\n",
       "        vertical-align: top;\n",
       "    }\n",
       "\n",
       "    .dataframe thead th {\n",
       "        text-align: right;\n",
       "    }\n",
       "</style>\n",
       "<table border=\"1\" class=\"dataframe\">\n",
       "  <thead>\n",
       "    <tr style=\"text-align: right;\">\n",
       "      <th></th>\n",
       "      <th>uniq_id</th>\n",
       "      <th>price</th>\n",
       "      <th>mileage</th>\n",
       "      <th>bike_year</th>\n",
       "      <th>engine_size</th>\n",
       "      <th>brand</th>\n",
       "      <th>model</th>\n",
       "      <th>brand_db</th>\n",
       "      <th>model_db</th>\n",
       "      <th>category_db</th>\n",
       "      <th>engine_size_db</th>\n",
       "      <th>power_db</th>\n",
       "    </tr>\n",
       "  </thead>\n",
       "  <tbody>\n",
       "    <tr>\n",
       "      <th>0</th>\n",
       "      <td>ERT34983</td>\n",
       "      <td>4500</td>\n",
       "      <td>5002</td>\n",
       "      <td>2010</td>\n",
       "      <td>None</td>\n",
       "      <td>ducati</td>\n",
       "      <td>monster696</td>\n",
       "      <td>ducati</td>\n",
       "      <td>monster696</td>\n",
       "      <td>naked bike</td>\n",
       "      <td>696.0</td>\n",
       "      <td>78.9</td>\n",
       "    </tr>\n",
       "  </tbody>\n",
       "</table>\n",
       "</div>"
      ],
      "text/plain": [
       "    uniq_id  price  mileage  bike_year engine_size   brand       model  \\\n",
       "0  ERT34983   4500     5002       2010        None  ducati  monster696   \n",
       "\n",
       "  brand_db    model_db category_db  engine_size_db  power_db  \n",
       "0   ducati  monster696  naked bike           696.0      78.9  "
      ]
     },
     "execution_count": 3,
     "metadata": {},
     "output_type": "execute_result"
    }
   ],
   "source": [
    "fuzzy_match_one(X_pred)"
   ]
  },
  {
   "cell_type": "markdown",
   "id": "f7de57e7",
   "metadata": {},
   "source": [
    "# Bikez"
   ]
  },
  {
   "cell_type": "code",
   "execution_count": 4,
   "id": "fce7ac3b",
   "metadata": {},
   "outputs": [],
   "source": [
    "bikez = pd.read_csv(\"../../tresboncoin/data/master_vehicule_list/bikez.csv\")"
   ]
  },
  {
   "cell_type": "code",
   "execution_count": 5,
   "id": "5dfe4c57",
   "metadata": {},
   "outputs": [
    {
     "data": {
      "text/html": [
       "<div>\n",
       "<style scoped>\n",
       "    .dataframe tbody tr th:only-of-type {\n",
       "        vertical-align: middle;\n",
       "    }\n",
       "\n",
       "    .dataframe tbody tr th {\n",
       "        vertical-align: top;\n",
       "    }\n",
       "\n",
       "    .dataframe thead th {\n",
       "        text-align: right;\n",
       "    }\n",
       "</style>\n",
       "<table border=\"1\" class=\"dataframe\">\n",
       "  <thead>\n",
       "    <tr style=\"text-align: right;\">\n",
       "      <th></th>\n",
       "      <th>brand_db</th>\n",
       "      <th>model_db</th>\n",
       "      <th>model_inv_db</th>\n",
       "      <th>model_submodel_db</th>\n",
       "      <th>model_submodel_inv_db</th>\n",
       "      <th>year_db</th>\n",
       "      <th>category_db</th>\n",
       "      <th>engine_type_db</th>\n",
       "      <th>engine_size_db</th>\n",
       "      <th>power_db</th>\n",
       "      <th>torque_db</th>\n",
       "      <th>compression_db</th>\n",
       "      <th>cooling_system_db</th>\n",
       "      <th>dry_weight_db</th>\n",
       "      <th>power/weight_ratio_db</th>\n",
       "      <th>model_size_db</th>\n",
       "      <th>model_size_inv_db</th>\n",
       "    </tr>\n",
       "  </thead>\n",
       "  <tbody>\n",
       "    <tr>\n",
       "      <th>0</th>\n",
       "      <td>ajs</td>\n",
       "      <td>model8</td>\n",
       "      <td>model8</td>\n",
       "      <td>model8350</td>\n",
       "      <td>3508model</td>\n",
       "      <td>1962</td>\n",
       "      <td>sport</td>\n",
       "      <td>single cylinder</td>\n",
       "      <td>348.0</td>\n",
       "      <td>21.0</td>\n",
       "      <td>NaN</td>\n",
       "      <td>7.5:1</td>\n",
       "      <td>Air</td>\n",
       "      <td>153.0</td>\n",
       "      <td>0.1373</td>\n",
       "      <td>model8348</td>\n",
       "      <td>model8348</td>\n",
       "    </tr>\n",
       "  </tbody>\n",
       "</table>\n",
       "</div>"
      ],
      "text/plain": [
       "  brand_db model_db model_inv_db model_submodel_db model_submodel_inv_db  \\\n",
       "0      ajs   model8       model8         model8350             3508model   \n",
       "\n",
       "   year_db category_db   engine_type_db  engine_size_db  power_db  torque_db  \\\n",
       "0     1962       sport  single cylinder           348.0      21.0        NaN   \n",
       "\n",
       "  compression_db cooling_system_db  dry_weight_db  power/weight_ratio_db  \\\n",
       "0          7.5:1               Air          153.0                 0.1373   \n",
       "\n",
       "  model_size_db model_size_inv_db  \n",
       "0     model8348         model8348  "
      ]
     },
     "execution_count": 5,
     "metadata": {},
     "output_type": "execute_result"
    }
   ],
   "source": [
    "bikez.head(1)"
   ]
  },
  {
   "cell_type": "markdown",
   "id": "8aadffa1",
   "metadata": {},
   "source": [
    "# brands dataset"
   ]
  },
  {
   "cell_type": "code",
   "execution_count": 6,
   "id": "55c2712b",
   "metadata": {},
   "outputs": [],
   "source": [
    "ebay_db = pd.read_csv(\"../../tresboncoin/data/March_2021_MPSOV.csv\")"
   ]
  },
  {
   "cell_type": "code",
   "execution_count": 7,
   "id": "c9136f17",
   "metadata": {},
   "outputs": [],
   "source": [
    "brands_full = ebay_db[\"Make\"].apply(lambda x: x.lower())\n",
    "brands_full = pd.DataFrame(brands_full).drop_duplicates().reset_index(drop=True)"
   ]
  },
  {
   "cell_type": "code",
   "execution_count": 8,
   "id": "d4fc50af",
   "metadata": {},
   "outputs": [],
   "source": [
    "fo_brands = [\"AC EMOTION\", \"ACCESS MOTOR\", \"APRILIA\", \"ARCTIC CAT\", \"BENELLI\", \"BETA\", \"BIMOTA\", \"BMW\",\n",
    "             \"BUELL\", \"CAN-AM\", \"CF MOTO\", \"DAELIM\", \"DERBI\", \"DUCATI\", \"FANTIC\", \"FB MONDIAL\", \"GAS GAS\", \n",
    "             \"GENERIC\", \"GILERA\", \"HARLEY DAVIDSON\", \"HARLEY-DAVIDSON\", \"HER CHEE\", \"HM\", \"HONDA\", \"HONGYI\",\n",
    "             \"HUSQVARNA\", \"HYOSUNG\", \"HYTRACK\", \"IMF scooter\", \"INDIAN\", \"IRBIT\", \"JM MOTORS\", \"JORDON\", \"JOTAGAS\",\n",
    "             \"KAWASAKI\", \"KEEWAY\", \"KSR MOTO\", \"KTM\", \"KYMCO\", \"LAMBRETTA\", \"LAZIO\", \"LIGIER\", \"LINHAI\", \"LONGJIA\",\n",
    "             \"Magnum\", \"MAGPOWER\", \"MALAGUTI\", \"MARTIN\", \"MASAI\", \"MASH\", \"MBK\", \"MOTO MORINI\", \"MOTO-GUZZI\", \n",
    "             \"MOTOCONFORT\", \"MOTRAC\", \"MV AGUSTA\", \"NECO\", \"NIU\", \"NORTON\", \"ORCAL\", \"PEUGEOT\", \"PIAGGIO\", \"POLARIS\",\n",
    "             \"QUADDY\", \"QUADRO\", \"RIEJU\", \"RIVAL MOTORS\", \"RIYA\", \"ROYAL ENFIELD\", \"SHERCO\", \"SUPER SOCO\", \"SUZUKI\",\n",
    "             \"SVM (SWM)\", \"SWM\", \"SYM\", \"TGB\", \"TNT MOTOR\", \"TRIUMPH\", \"VASTRO\", \"VESPA\", \"Victory Motorcycle\",\n",
    "             \"VOGE\", \"VOXAN\", \"WANGYE\", \"XINGYUE\", \"YAMAHA\", \"ZERO MOTORCYCLES\"]\n",
    "fo_brands = list(pd.Series(fo_brands).apply(lambda x: x.lower()))"
   ]
  },
  {
   "cell_type": "code",
   "execution_count": 9,
   "id": "03674186",
   "metadata": {},
   "outputs": [],
   "source": [
    "mp_brands = [\"Aprilia\", \"Benelli\", \"Beta\", \"Bimota\", \"BMW\", \"Buell\", \"CF MOTO\", \"Daelim\", \"Ducati\", \"Fantic\",\n",
    "             \"FB Mondial\", \"Gas Gas\", \"Gilera\", \"Harley-Davidson\", \"Honda\", \"Husqvarna\", \"Hyosung\", \"Indian\",\n",
    "             \"Kawasaki\", \"KTM\", \"Kymco\", \"Magpower\", \"Malaguti\", \"Mash\", \"Moto-Guzzi\", \"MV-Agusta\", \"Orcal\",\n",
    "             \"Rieju\", \"Royal-Enfield\", \"Sherco\", \"Suzuki\", \"SWM\", \"Sym\", \"Triumph\", \"Voxan\", \"Yamaha\"]\n",
    "mp_brands = list(pd.Series(mp_brands).apply(lambda x: x.lower()))"
   ]
  },
  {
   "cell_type": "code",
   "execution_count": 10,
   "id": "b8d84deb",
   "metadata": {},
   "outputs": [],
   "source": [
    "brands_df = list(brands_full[\"Make\"]) + fo_brands + mp_brands"
   ]
  },
  {
   "cell_type": "markdown",
   "id": "a5127a58",
   "metadata": {},
   "source": [
    "# Loading datasets"
   ]
  },
  {
   "cell_type": "code",
   "execution_count": 11,
   "id": "c48b680a",
   "metadata": {},
   "outputs": [
    {
     "name": "stdout",
     "output_type": "stream",
     "text": [
      "bikez.csv   ebay_db.csv\r\n"
     ]
    }
   ],
   "source": [
    "!ls ../../tresboncoin/data/master_vehicule_list/"
   ]
  },
  {
   "cell_type": "code",
   "execution_count": 12,
   "id": "4ab18218",
   "metadata": {},
   "outputs": [
    {
     "name": "stdout",
     "output_type": "stream",
     "text": [
      "March_2021_MPSOV.csv                  log_pv.csv\r\n",
      "\u001b[1m\u001b[36mas24\u001b[m\u001b[m                                  \u001b[1m\u001b[36mmaster\u001b[m\u001b[m\r\n",
      "as_24_annonces_full.csv               \u001b[1m\u001b[36mmaster_vehicule_list\u001b[m\u001b[m\r\n",
      "as_24_annonces_full_url_be.csv        master_with_fuzzy_and_cleaning.csv\r\n",
      "data_full.csv                         master_with_fuzzy_and_cleaning_v2.csv\r\n",
      "data_full_BE.csv                      \u001b[1m\u001b[36mmoto-occasion\u001b[m\u001b[m\r\n",
      "ebay_moto_database.csv                moto-occasion.csv\r\n",
      "\u001b[1m\u001b[36mfulloccaz\u001b[m\u001b[m                             \u001b[1m\u001b[36mmoto-selection\u001b[m\u001b[m\r\n",
      "fulloccaz.csv                         moto-selection.csv\r\n",
      "lacentrale.csv                        \u001b[1m\u001b[36mmotoplanete\u001b[m\u001b[m\r\n",
      "lacentrale_old.csv                    motoplanete.csv\r\n",
      "log_fulloccaz.csv                     \u001b[1m\u001b[36mparuvendu\u001b[m\u001b[m\r\n",
      "log_motoplanete.csv                   \u001b[1m\u001b[36mscraping_outputs\u001b[m\u001b[m\r\n"
     ]
    }
   ],
   "source": [
    "!ls ../../tresboncoin/data/"
   ]
  },
  {
   "cell_type": "code",
   "execution_count": 13,
   "id": "899d40f0",
   "metadata": {},
   "outputs": [],
   "source": [
    "data_motoplanete = pd.read_csv(\"../../tresboncoin/data/motoplanete.csv\")\n",
    "data_fulloccaz = pd.read_csv(\"../../tresboncoin/data/fulloccaz.csv\")\n",
    "data_motooccasion = pd.read_csv(\"../../tresboncoin/data/moto-occasion.csv\")\n",
    "data_motoselection = pd.read_csv(\"../../tresboncoin/data/moto-selection.csv\")\n",
    "data_auto_scout_24 = pd.read_csv(\"../../tresboncoin/data/as_24_annonces_full.csv\")\n",
    "data_auto_scout_24_BE = pd.read_csv(\"../../tresboncoin/data/as_24_annonces_full_url_be.csv\")"
   ]
  },
  {
   "cell_type": "markdown",
   "id": "19f0db03",
   "metadata": {},
   "source": [
    "# features engineering"
   ]
  },
  {
   "cell_type": "code",
   "execution_count": 14,
   "id": "3c5ec329",
   "metadata": {},
   "outputs": [],
   "source": [
    "def set_brand_and_model(df, feature_name, r=brands_df):\n",
    "        \n",
    "    # init var\n",
    "    brand_list = [np.nan] * df.shape[0]\n",
    "    model_list = [np.nan] * df.shape[0]\n",
    "    \n",
    "    # set brands to lower\n",
    "    df[feature_name] = df[feature_name].apply(lambda x: x.lower())\n",
    "    \n",
    "    # find brand\n",
    "    for k in range(df.shape[0]):\n",
    "        val = df[feature_name].iloc[k]\n",
    "        for brand in r:\n",
    "            if val.find(brand) >= 0:\n",
    "                brand_list[k] = brand.strip()\n",
    "                model_list[k] = val.replace(brand.strip(), \"\").strip()\n",
    "    df[\"Brand\"] = pd.Series(brand_list)\n",
    "    df[\"Model\"] = pd.Series(model_list)\n",
    "    \n",
    "    return df"
   ]
  },
  {
   "cell_type": "markdown",
   "id": "d7ce0733",
   "metadata": {},
   "source": [
    "## On motoplanete"
   ]
  },
  {
   "cell_type": "code",
   "execution_count": 15,
   "id": "eb3195d6",
   "metadata": {},
   "outputs": [
    {
     "data": {
      "text/plain": [
       "(3703, 17)"
      ]
     },
     "execution_count": 15,
     "metadata": {},
     "output_type": "execute_result"
    }
   ],
   "source": [
    "data_motoplanete.shape"
   ]
  },
  {
   "cell_type": "code",
   "execution_count": 16,
   "id": "4914b7e1",
   "metadata": {},
   "outputs": [],
   "source": [
    "data_motoplanete = data_motoplanete[~data_motoplanete[\"engine capacity [CC]\"].isnull()]"
   ]
  },
  {
   "cell_type": "code",
   "execution_count": 17,
   "id": "49fd197d",
   "metadata": {
    "scrolled": false
   },
   "outputs": [],
   "source": [
    "data_motoplanete[\"vehicle release date\"] = pd.to_datetime(data_motoplanete[\"vehicle release date\"])\n",
    "data_motoplanete[\"vehicle release date\"] = data_motoplanete[\"vehicle release date\"].apply(lambda x: int(x.strftime(\"%Y\")))"
   ]
  },
  {
   "cell_type": "markdown",
   "id": "3b0e32e7",
   "metadata": {},
   "source": [
    "### motoplanete brands and models"
   ]
  },
  {
   "cell_type": "code",
   "execution_count": 18,
   "id": "f99b0bd2",
   "metadata": {},
   "outputs": [],
   "source": [
    "data_motoplanete[\"vehicle brand\"] = data_motoplanete[\"vehicle brand\"].apply(lambda x: str(x).lower())"
   ]
  },
  {
   "cell_type": "code",
   "execution_count": 19,
   "id": "11afe0a2",
   "metadata": {},
   "outputs": [],
   "source": [
    "data_motoplanete = set_brand_and_model(data_motoplanete, \"vehicle brand\")"
   ]
  },
  {
   "cell_type": "code",
   "execution_count": 20,
   "id": "08d70e8e",
   "metadata": {
    "scrolled": false
   },
   "outputs": [],
   "source": [
    "data_motoplanete[\"uniq_id\"] = data_motoplanete[\"unique id\"].apply(lambda x: \"motoplanete-\" + str(x))"
   ]
  },
  {
   "cell_type": "code",
   "execution_count": 21,
   "id": "638a8cdc",
   "metadata": {},
   "outputs": [
    {
     "data": {
      "text/plain": [
       "(3701, 20)"
      ]
     },
     "execution_count": 21,
     "metadata": {},
     "output_type": "execute_result"
    }
   ],
   "source": [
    "data_motoplanete.shape"
   ]
  },
  {
   "cell_type": "markdown",
   "id": "c4e7fd8c",
   "metadata": {},
   "source": [
    "## On Full Occaz"
   ]
  },
  {
   "cell_type": "code",
   "execution_count": 22,
   "id": "c3011f08",
   "metadata": {},
   "outputs": [
    {
     "data": {
      "text/plain": [
       "(5802, 21)"
      ]
     },
     "execution_count": 22,
     "metadata": {},
     "output_type": "execute_result"
    }
   ],
   "source": [
    "data_fulloccaz.shape"
   ]
  },
  {
   "cell_type": "code",
   "execution_count": 23,
   "id": "fea8c247",
   "metadata": {
    "scrolled": false
   },
   "outputs": [],
   "source": [
    "data_fulloccaz = data_fulloccaz[~data_fulloccaz[\"vehicle release date\"].isnull()]"
   ]
  },
  {
   "cell_type": "code",
   "execution_count": 24,
   "id": "8e1501be",
   "metadata": {},
   "outputs": [],
   "source": [
    "data_fulloccaz[\"vehicle release date\"] = pd.to_datetime(data_fulloccaz[\"vehicle release date\"])\n",
    "data_fulloccaz[\"vehicle release date\"] = data_fulloccaz[\"vehicle release date\"].apply(lambda x: int(x.strftime(\"%Y\")))"
   ]
  },
  {
   "cell_type": "markdown",
   "id": "db9f54ea",
   "metadata": {},
   "source": [
    "### fulloccaz brands and models"
   ]
  },
  {
   "cell_type": "code",
   "execution_count": 25,
   "id": "c23f3666",
   "metadata": {},
   "outputs": [],
   "source": [
    "data_fulloccaz[\"vehicle brand\"] = data_fulloccaz[\"vehicle brand\"].apply(lambda x: str(x).lower())\n",
    "data_fulloccaz = set_brand_and_model(data_fulloccaz, \"vehicle brand\")"
   ]
  },
  {
   "cell_type": "code",
   "execution_count": 26,
   "id": "150cf95d",
   "metadata": {},
   "outputs": [],
   "source": [
    "data_fulloccaz[\"uniq_id\"] = data_fulloccaz[\"unique id\"].apply(lambda x: \"fulloccaz-\" + str(x))"
   ]
  },
  {
   "cell_type": "code",
   "execution_count": 27,
   "id": "d344dfbb",
   "metadata": {},
   "outputs": [
    {
     "data": {
      "text/plain": [
       "(5765, 24)"
      ]
     },
     "execution_count": 27,
     "metadata": {},
     "output_type": "execute_result"
    }
   ],
   "source": [
    "data_fulloccaz.shape"
   ]
  },
  {
   "cell_type": "markdown",
   "id": "e9b4e97b",
   "metadata": {},
   "source": [
    "## On Autoscout24"
   ]
  },
  {
   "cell_type": "code",
   "execution_count": 28,
   "id": "f3bae3a1",
   "metadata": {},
   "outputs": [
    {
     "data": {
      "text/plain": [
       "(3278, 25)"
      ]
     },
     "execution_count": 28,
     "metadata": {},
     "output_type": "execute_result"
    }
   ],
   "source": [
    "data_auto_scout_24.shape"
   ]
  },
  {
   "cell_type": "code",
   "execution_count": 29,
   "id": "a79ea9a5",
   "metadata": {},
   "outputs": [],
   "source": [
    "data_auto_scout_24[\"model\"] = data_auto_scout_24[\"model\"].apply(lambda x: str(x).lower())"
   ]
  },
  {
   "cell_type": "code",
   "execution_count": 30,
   "id": "896deef3",
   "metadata": {
    "scrolled": false
   },
   "outputs": [],
   "source": [
    "data_auto_scout_24 = set_brand_and_model(data_auto_scout_24, \"model\")"
   ]
  },
  {
   "cell_type": "code",
   "execution_count": 31,
   "id": "faba8724",
   "metadata": {},
   "outputs": [],
   "source": [
    "data_auto_scout_24[\"uniq_id\"] = data_auto_scout_24[\"reference\"].apply(lambda x: \"autoscout24-\" + str(x))"
   ]
  },
  {
   "cell_type": "code",
   "execution_count": 32,
   "id": "b90d919f",
   "metadata": {},
   "outputs": [],
   "source": [
    "data_auto_scout_24[\"cylindree\"] = data_auto_scout_24[\"cylindree\"].apply(lambda x: float(str(x).replace(\" cm³\", \"\").replace(\".\", \"\")))"
   ]
  },
  {
   "cell_type": "code",
   "execution_count": 33,
   "id": "093667c7",
   "metadata": {},
   "outputs": [],
   "source": [
    "data_auto_scout_24[\"date_scrapped\"] = datetime.now()"
   ]
  },
  {
   "cell_type": "code",
   "execution_count": 34,
   "id": "f55a2c94",
   "metadata": {},
   "outputs": [],
   "source": [
    "data_auto_scout_24.rename(columns={\"model\": \"old_model\"}, inplace=True)"
   ]
  },
  {
   "cell_type": "code",
   "execution_count": 35,
   "id": "5f6dddd3",
   "metadata": {},
   "outputs": [
    {
     "data": {
      "text/plain": [
       "(3278, 29)"
      ]
     },
     "execution_count": 35,
     "metadata": {},
     "output_type": "execute_result"
    }
   ],
   "source": [
    "data_auto_scout_24.shape"
   ]
  },
  {
   "cell_type": "markdown",
   "id": "076c2c94",
   "metadata": {},
   "source": [
    "## On Autoscout24 BE"
   ]
  },
  {
   "cell_type": "code",
   "execution_count": 36,
   "id": "c78378b5",
   "metadata": {},
   "outputs": [
    {
     "data": {
      "text/plain": [
       "(5023, 25)"
      ]
     },
     "execution_count": 36,
     "metadata": {},
     "output_type": "execute_result"
    }
   ],
   "source": [
    "data_auto_scout_24_BE.shape"
   ]
  },
  {
   "cell_type": "code",
   "execution_count": 37,
   "id": "a4e21083",
   "metadata": {},
   "outputs": [],
   "source": [
    "data_auto_scout_24_BE[\"model\"] = data_auto_scout_24_BE[\"model\"].apply(lambda x: str(x).lower())"
   ]
  },
  {
   "cell_type": "code",
   "execution_count": 38,
   "id": "676f78af",
   "metadata": {},
   "outputs": [],
   "source": [
    "data_auto_scout_24_BE = set_brand_and_model(data_auto_scout_24_BE, \"model\")"
   ]
  },
  {
   "cell_type": "code",
   "execution_count": 39,
   "id": "1c45f010",
   "metadata": {},
   "outputs": [],
   "source": [
    "data_auto_scout_24_BE[\"uniq_id\"] = data_auto_scout_24_BE[\"reference\"].apply(lambda x: \"autoscout24-BE-\" + str(x))"
   ]
  },
  {
   "cell_type": "code",
   "execution_count": 40,
   "id": "d017e911",
   "metadata": {},
   "outputs": [],
   "source": [
    "data_auto_scout_24_BE[\"cylindree\"] = data_auto_scout_24_BE[\"cylindree\"].apply(lambda x: float(str(x).replace(\" cm³\", \"\").replace(\".\", \"\")))"
   ]
  },
  {
   "cell_type": "code",
   "execution_count": 41,
   "id": "7534a77a",
   "metadata": {},
   "outputs": [],
   "source": [
    "data_auto_scout_24_BE[\"date_scrapped\"] = datetime.now()"
   ]
  },
  {
   "cell_type": "code",
   "execution_count": 42,
   "id": "980bd357",
   "metadata": {},
   "outputs": [],
   "source": [
    "data_auto_scout_24_BE = data_auto_scout_24_BE[~data_auto_scout_24_BE[\"cylindree\"].isnull()]"
   ]
  },
  {
   "cell_type": "code",
   "execution_count": 44,
   "id": "e4f95999",
   "metadata": {},
   "outputs": [
    {
     "data": {
      "text/plain": [
       "(2420, 29)"
      ]
     },
     "execution_count": 44,
     "metadata": {},
     "output_type": "execute_result"
    }
   ],
   "source": [
    "data_auto_scout_24_BE.shape"
   ]
  },
  {
   "cell_type": "markdown",
   "id": "b5a47e1b",
   "metadata": {},
   "source": [
    "# Concatenation"
   ]
  },
  {
   "cell_type": "code",
   "execution_count": 45,
   "id": "23ba8964",
   "metadata": {
    "scrolled": true
   },
   "outputs": [
    {
     "data": {
      "text/html": [
       "<div>\n",
       "<style scoped>\n",
       "    .dataframe tbody tr th:only-of-type {\n",
       "        vertical-align: middle;\n",
       "    }\n",
       "\n",
       "    .dataframe tbody tr th {\n",
       "        vertical-align: top;\n",
       "    }\n",
       "\n",
       "    .dataframe thead th {\n",
       "        text-align: right;\n",
       "    }\n",
       "</style>\n",
       "<table border=\"1\" class=\"dataframe\">\n",
       "  <thead>\n",
       "    <tr style=\"text-align: right;\">\n",
       "      <th></th>\n",
       "      <th>site_name</th>\n",
       "      <th>url</th>\n",
       "      <th>uniq_id</th>\n",
       "      <th>brand</th>\n",
       "      <th>bike_year</th>\n",
       "      <th>mileage</th>\n",
       "      <th>price</th>\n",
       "      <th>bike_type</th>\n",
       "      <th>model</th>\n",
       "      <th>engine_size</th>\n",
       "      <th>date_scrapped</th>\n",
       "    </tr>\n",
       "  </thead>\n",
       "  <tbody>\n",
       "    <tr>\n",
       "      <th>0</th>\n",
       "      <td>motoplanete</td>\n",
       "      <td>url</td>\n",
       "      <td>uniq_id</td>\n",
       "      <td>Brand</td>\n",
       "      <td>vehicle release date</td>\n",
       "      <td>mileage</td>\n",
       "      <td>price</td>\n",
       "      <td>vehicle type</td>\n",
       "      <td>Model</td>\n",
       "      <td>engine capacity [CC]</td>\n",
       "      <td>date_scrapped</td>\n",
       "    </tr>\n",
       "    <tr>\n",
       "      <th>1</th>\n",
       "      <td>moto-occasion</td>\n",
       "      <td>url</td>\n",
       "      <td>uniq_id</td>\n",
       "      <td>bike_brand</td>\n",
       "      <td>bike_year</td>\n",
       "      <td>bike_km</td>\n",
       "      <td>price</td>\n",
       "      <td>bike_type</td>\n",
       "      <td>bike_model</td>\n",
       "      <td>bike_size</td>\n",
       "      <td>scrap_date</td>\n",
       "    </tr>\n",
       "    <tr>\n",
       "      <th>2</th>\n",
       "      <td>autoscout24</td>\n",
       "      <td>url</td>\n",
       "      <td>uniq_id</td>\n",
       "      <td>Brand</td>\n",
       "      <td>annee</td>\n",
       "      <td>mileage</td>\n",
       "      <td>price</td>\n",
       "      <td>carrosserie</td>\n",
       "      <td>Model</td>\n",
       "      <td>cylindree</td>\n",
       "      <td>date_scrapped</td>\n",
       "    </tr>\n",
       "    <tr>\n",
       "      <th>3</th>\n",
       "      <td>fulloccaz</td>\n",
       "      <td>url</td>\n",
       "      <td>uniq_id</td>\n",
       "      <td>Brand</td>\n",
       "      <td>vehicle release date</td>\n",
       "      <td>mileage</td>\n",
       "      <td>price</td>\n",
       "      <td>vehicle type</td>\n",
       "      <td>Model</td>\n",
       "      <td>engine capacity [CC]</td>\n",
       "      <td>date_scrapped</td>\n",
       "    </tr>\n",
       "    <tr>\n",
       "      <th>4</th>\n",
       "      <td>moto-selection</td>\n",
       "      <td>url</td>\n",
       "      <td>uniq_id</td>\n",
       "      <td>bike_brand</td>\n",
       "      <td>bike_year</td>\n",
       "      <td>bike_km</td>\n",
       "      <td>price</td>\n",
       "      <td>bike_type</td>\n",
       "      <td>bike_model</td>\n",
       "      <td>bike_size</td>\n",
       "      <td>scrap_date</td>\n",
       "    </tr>\n",
       "    <tr>\n",
       "      <th>5</th>\n",
       "      <td>autoscout24_BE</td>\n",
       "      <td>url</td>\n",
       "      <td>uniq_id</td>\n",
       "      <td>marque</td>\n",
       "      <td>annee</td>\n",
       "      <td>mileage</td>\n",
       "      <td>price</td>\n",
       "      <td>carrosserie</td>\n",
       "      <td>model</td>\n",
       "      <td>cylindree</td>\n",
       "      <td>date_scrapped</td>\n",
       "    </tr>\n",
       "  </tbody>\n",
       "</table>\n",
       "</div>"
      ],
      "text/plain": [
       "        site_name  url  uniq_id       brand             bike_year  mileage  \\\n",
       "0     motoplanete  url  uniq_id       Brand  vehicle release date  mileage   \n",
       "1   moto-occasion  url  uniq_id  bike_brand             bike_year  bike_km   \n",
       "2     autoscout24  url  uniq_id       Brand                 annee  mileage   \n",
       "3       fulloccaz  url  uniq_id       Brand  vehicle release date  mileage   \n",
       "4  moto-selection  url  uniq_id  bike_brand             bike_year  bike_km   \n",
       "5  autoscout24_BE  url  uniq_id      marque                 annee  mileage   \n",
       "\n",
       "   price     bike_type       model           engine_size  date_scrapped  \n",
       "0  price  vehicle type       Model  engine capacity [CC]  date_scrapped  \n",
       "1  price     bike_type  bike_model             bike_size     scrap_date  \n",
       "2  price   carrosserie       Model             cylindree  date_scrapped  \n",
       "3  price  vehicle type       Model  engine capacity [CC]  date_scrapped  \n",
       "4  price     bike_type  bike_model             bike_size     scrap_date  \n",
       "5  price   carrosserie       model             cylindree  date_scrapped  "
      ]
     },
     "execution_count": 45,
     "metadata": {},
     "output_type": "execute_result"
    }
   ],
   "source": [
    "concatenation_map = pd.DataFrame(dict({\"site_name\": [\"motoplanete\", \"moto-occasion\", \"autoscout24\", \"fulloccaz\", \"moto-selection\", \"autoscout24_BE\"], \n",
    "                                       \"url\": [\"url\", \"url\", \"url\", \"url\", \"url\", \"url\"],\n",
    "                                       \"uniq_id\": [\"uniq_id\", \"uniq_id\", \"uniq_id\", \"uniq_id\", \"uniq_id\", \"uniq_id\"],\n",
    "                                       \"brand\": [\"Brand\", \"bike_brand\", \"Brand\", \"Brand\", \"bike_brand\", \"marque\"],\n",
    "                                       \"bike_year\": [\"vehicle release date\", \"bike_year\", \"annee\", \"vehicle release date\", \"bike_year\", \"annee\"],\n",
    "                                       \"mileage\": [\"mileage\", \"bike_km\", \"mileage\", \"mileage\", \"bike_km\", \"mileage\"],\n",
    "                                       \"price\": [\"price\", \"price\", \"price\", \"price\", \"price\", \"price\"],\n",
    "                                       \"bike_type\": [\"vehicle type\", \"bike_type\", \"carrosserie\", \"vehicle type\", \"bike_type\", \"carrosserie\"],\n",
    "                                       \"model\": [\"Model\", \"bike_model\", \"Model\", \"Model\", \"bike_model\", \"model\"],\n",
    "                                       \"engine_size\": [\"engine capacity [CC]\", \"bike_size\", \"cylindree\", \"engine capacity [CC]\", \"bike_size\", \"cylindree\"],\n",
    "                                       \"date_scrapped\": [\"date_scrapped\", \"scrap_date\", \"date_scrapped\", \"date_scrapped\", \"scrap_date\", \"date_scrapped\"]}))\n",
    "#\n",
    "df_ids = dict({\"motoplanete\": 0,\n",
    "               \"moto-occasion\": 1,\n",
    "               \"autoscout24\": 2,\n",
    "               \"fulloccaz\": 3,\n",
    "               \"moto-selection\": 4,\n",
    "               \"autoscout24_de\": 5})\n",
    "concatenation_map"
   ]
  },
  {
   "cell_type": "code",
   "execution_count": 46,
   "id": "ff1b4eb3",
   "metadata": {},
   "outputs": [],
   "source": [
    "def set_colums(df_, dict_, sitename_):\n",
    "    site_id = df_ids[sitename_]\n",
    "    old_columns = list(dict_.iloc[site_id])\n",
    "    new_columns = list(dict_.iloc[site_id].index)\n",
    "\n",
    "    fd_new_columns = []\n",
    "    \n",
    "    for k in df_.columns:\n",
    "        if k in old_columns:\n",
    "            line_id = old_columns.index(k)\n",
    "            fd_new_columns.append(new_columns[line_id])\n",
    "        else:\n",
    "            fd_new_columns.append(k)\n",
    "    return fd_new_columns"
   ]
  },
  {
   "cell_type": "code",
   "execution_count": 47,
   "id": "d094c1ef",
   "metadata": {},
   "outputs": [],
   "source": [
    "data_motoplanete.columns = set_colums(data_motoplanete, concatenation_map, \"motoplanete\")\n",
    "data_fulloccaz.columns = set_colums(data_fulloccaz, concatenation_map, \"fulloccaz\")\n",
    "data_motooccasion.columns = set_colums(data_motooccasion, concatenation_map, \"moto-occasion\")\n",
    "data_motoselection.columns = set_colums(data_motoselection, concatenation_map, \"moto-selection\")\n",
    "data_auto_scout_24.columns = set_colums(data_auto_scout_24, concatenation_map, \"autoscout24\")\n",
    "data_auto_scout_24_BE.columns = set_colums(data_auto_scout_24_BE, concatenation_map, \"autoscout24_de\")"
   ]
  },
  {
   "cell_type": "code",
   "execution_count": 48,
   "id": "bdd996eb",
   "metadata": {},
   "outputs": [],
   "source": [
    "columns_to_keep = [\"url\", \"uniq_id\", \"brand\", \"bike_year\", \"mileage\", \"bike_type\", \"price\", \"model\", \"engine_size\", \"date_scrapped\"]"
   ]
  },
  {
   "cell_type": "code",
   "execution_count": 49,
   "id": "4438da47",
   "metadata": {},
   "outputs": [],
   "source": [
    "df_motoplanete_reduced = data_motoplanete[columns_to_keep]\n",
    "df_fulloccaz_reduced = data_fulloccaz[columns_to_keep]\n",
    "df_motooccasion_reduced = data_motooccasion[columns_to_keep]\n",
    "df_motoselection_reduced = data_motoselection[columns_to_keep]\n",
    "df_auto_scout_24_reduced = data_auto_scout_24[columns_to_keep]\n",
    "#df_auto_scout_24_BE_reduced = data_auto_scout_24_BE[columns_to_keep]\n",
    "#\n",
    "# concatenation\n",
    "data = pd.concat([df_motoplanete_reduced,\n",
    "                  df_fulloccaz_reduced,\n",
    "                  df_motooccasion_reduced,\n",
    "                  df_motoselection_reduced,\n",
    "                  df_auto_scout_24_reduced\n",
    "                  #df_auto_scout_24_BE_reduced\n",
    "                 ], axis=0, ignore_index=True)"
   ]
  },
  {
   "cell_type": "markdown",
   "id": "2bd5ff13",
   "metadata": {},
   "source": [
    "# data eng on dataframe"
   ]
  },
  {
   "cell_type": "code",
   "execution_count": 50,
   "id": "e7be0a21",
   "metadata": {},
   "outputs": [
    {
     "data": {
      "text/html": [
       "<div>\n",
       "<style scoped>\n",
       "    .dataframe tbody tr th:only-of-type {\n",
       "        vertical-align: middle;\n",
       "    }\n",
       "\n",
       "    .dataframe tbody tr th {\n",
       "        vertical-align: top;\n",
       "    }\n",
       "\n",
       "    .dataframe thead th {\n",
       "        text-align: right;\n",
       "    }\n",
       "</style>\n",
       "<table border=\"1\" class=\"dataframe\">\n",
       "  <thead>\n",
       "    <tr style=\"text-align: right;\">\n",
       "      <th></th>\n",
       "      <th>url</th>\n",
       "      <th>uniq_id</th>\n",
       "      <th>brand</th>\n",
       "      <th>bike_year</th>\n",
       "      <th>mileage</th>\n",
       "      <th>bike_type</th>\n",
       "      <th>price</th>\n",
       "      <th>model</th>\n",
       "      <th>engine_size</th>\n",
       "      <th>date_scrapped</th>\n",
       "    </tr>\n",
       "  </thead>\n",
       "  <tbody>\n",
       "    <tr>\n",
       "      <th>0</th>\n",
       "      <td>https://www.motoplanete.com/occasion-moto/3764...</td>\n",
       "      <td>motoplanete-37642</td>\n",
       "      <td>kawasaki</td>\n",
       "      <td>2021</td>\n",
       "      <td>476.0</td>\n",
       "      <td>Trail</td>\n",
       "      <td>16999.0</td>\n",
       "      <td>versys 1000 2020</td>\n",
       "      <td>1000.0</td>\n",
       "      <td>2021/06/04 - 22h18</td>\n",
       "    </tr>\n",
       "    <tr>\n",
       "      <th>1</th>\n",
       "      <td>https://www.motoplanete.com/occasion-moto/2127...</td>\n",
       "      <td>motoplanete-21278</td>\n",
       "      <td>yamaha</td>\n",
       "      <td>2003</td>\n",
       "      <td>5130.0</td>\n",
       "      <td>Custom</td>\n",
       "      <td>3700.0</td>\n",
       "      <td>wild star 2003</td>\n",
       "      <td>1600.0</td>\n",
       "      <td>2021/06/04 - 22h18</td>\n",
       "    </tr>\n",
       "    <tr>\n",
       "      <th>2</th>\n",
       "      <td>https://www.motoplanete.com/occasion-moto/1139...</td>\n",
       "      <td>motoplanete-11392</td>\n",
       "      <td>yamaha</td>\n",
       "      <td>2019</td>\n",
       "      <td>2500.0</td>\n",
       "      <td>Routière &amp; GT</td>\n",
       "      <td>13490.0</td>\n",
       "      <td>niken 2019</td>\n",
       "      <td>847.0</td>\n",
       "      <td>2021/06/04 - 22h18</td>\n",
       "    </tr>\n",
       "    <tr>\n",
       "      <th>3</th>\n",
       "      <td>https://www.motoplanete.com/occasion-moto/3923...</td>\n",
       "      <td>motoplanete-39239</td>\n",
       "      <td>bmw</td>\n",
       "      <td>2021</td>\n",
       "      <td>998.0</td>\n",
       "      <td>Roadster</td>\n",
       "      <td>13990.0</td>\n",
       "      <td>r ninet pure 2021</td>\n",
       "      <td>1200.0</td>\n",
       "      <td>2021/06/04 - 22h18</td>\n",
       "    </tr>\n",
       "    <tr>\n",
       "      <th>4</th>\n",
       "      <td>https://www.motoplanete.com/occasion-moto/1536...</td>\n",
       "      <td>motoplanete-15360</td>\n",
       "      <td>yamaha</td>\n",
       "      <td>2016</td>\n",
       "      <td>2600.0</td>\n",
       "      <td>Custom</td>\n",
       "      <td>8500.0</td>\n",
       "      <td>xv 950 bolt 2016</td>\n",
       "      <td>950.0</td>\n",
       "      <td>2021/06/04 - 22h18</td>\n",
       "    </tr>\n",
       "  </tbody>\n",
       "</table>\n",
       "</div>"
      ],
      "text/plain": [
       "                                                 url            uniq_id  \\\n",
       "0  https://www.motoplanete.com/occasion-moto/3764...  motoplanete-37642   \n",
       "1  https://www.motoplanete.com/occasion-moto/2127...  motoplanete-21278   \n",
       "2  https://www.motoplanete.com/occasion-moto/1139...  motoplanete-11392   \n",
       "3  https://www.motoplanete.com/occasion-moto/3923...  motoplanete-39239   \n",
       "4  https://www.motoplanete.com/occasion-moto/1536...  motoplanete-15360   \n",
       "\n",
       "      brand bike_year  mileage      bike_type    price              model  \\\n",
       "0  kawasaki      2021    476.0          Trail  16999.0   versys 1000 2020   \n",
       "1    yamaha      2003   5130.0         Custom   3700.0     wild star 2003   \n",
       "2    yamaha      2019   2500.0  Routière & GT  13490.0         niken 2019   \n",
       "3       bmw      2021    998.0       Roadster  13990.0  r ninet pure 2021   \n",
       "4    yamaha      2016   2600.0         Custom   8500.0   xv 950 bolt 2016   \n",
       "\n",
       "   engine_size       date_scrapped  \n",
       "0       1000.0  2021/06/04 - 22h18  \n",
       "1       1600.0  2021/06/04 - 22h18  \n",
       "2        847.0  2021/06/04 - 22h18  \n",
       "3       1200.0  2021/06/04 - 22h18  \n",
       "4        950.0  2021/06/04 - 22h18  "
      ]
     },
     "execution_count": 50,
     "metadata": {},
     "output_type": "execute_result"
    }
   ],
   "source": [
    "data.head()"
   ]
  },
  {
   "cell_type": "markdown",
   "id": "73108750",
   "metadata": {},
   "source": [
    "# cleaning data"
   ]
  },
  {
   "cell_type": "code",
   "execution_count": 51,
   "id": "100c89d5",
   "metadata": {},
   "outputs": [
    {
     "data": {
      "text/plain": [
       "626"
      ]
     },
     "execution_count": 51,
     "metadata": {},
     "output_type": "execute_result"
    }
   ],
   "source": [
    "data[\"model\"].isnull().sum()"
   ]
  },
  {
   "cell_type": "code",
   "execution_count": 52,
   "id": "b3647c40",
   "metadata": {},
   "outputs": [
    {
     "data": {
      "text/plain": [
       "url                6\n",
       "uniq_id            0\n",
       "brand            626\n",
       "bike_year          0\n",
       "mileage           84\n",
       "bike_type        424\n",
       "price              0\n",
       "model            626\n",
       "engine_size      389\n",
       "date_scrapped      0\n",
       "dtype: int64"
      ]
     },
     "execution_count": 52,
     "metadata": {},
     "output_type": "execute_result"
    }
   ],
   "source": [
    "100 * data.isnull().sum().sort_values(ascending=False)/len(data)\n",
    "data.isnull().sum()"
   ]
  },
  {
   "cell_type": "code",
   "execution_count": 53,
   "id": "95026408",
   "metadata": {},
   "outputs": [],
   "source": [
    "data[\"brand\"] = data[\"brand\"].apply(lambda x: str(x).lower())"
   ]
  },
  {
   "cell_type": "code",
   "execution_count": 54,
   "id": "c0677f87",
   "metadata": {},
   "outputs": [
    {
     "data": {
      "text/plain": [
       "(20989, 10)"
      ]
     },
     "execution_count": 54,
     "metadata": {},
     "output_type": "execute_result"
    }
   ],
   "source": [
    "data.shape"
   ]
  },
  {
   "cell_type": "code",
   "execution_count": 55,
   "id": "7ba7892d",
   "metadata": {},
   "outputs": [],
   "source": [
    "data = data[data[\"bike_year\"] != \"['']\"]\n",
    "data[\"bike_year\"] = data[\"bike_year\"].apply(lambda x: int(x))\n",
    "data = data[data[\"bike_year\"] >= 1900]"
   ]
  },
  {
   "cell_type": "code",
   "execution_count": 56,
   "id": "06b63962",
   "metadata": {},
   "outputs": [],
   "source": [
    "data = data[~data[\"model\"].isnull()]\n",
    "data = data[~data[\"mileage\"].isnull()]"
   ]
  },
  {
   "cell_type": "code",
   "execution_count": 57,
   "id": "6ddfd288",
   "metadata": {},
   "outputs": [
    {
     "data": {
      "text/plain": [
       "url                6\n",
       "uniq_id            0\n",
       "brand              0\n",
       "bike_year          0\n",
       "mileage            0\n",
       "bike_type        392\n",
       "price              0\n",
       "model              0\n",
       "engine_size      340\n",
       "date_scrapped      0\n",
       "dtype: int64"
      ]
     },
     "execution_count": 57,
     "metadata": {},
     "output_type": "execute_result"
    }
   ],
   "source": [
    "100 * data.isnull().sum().sort_values(ascending=False)/len(data)\n",
    "data.isnull().sum()"
   ]
  },
  {
   "cell_type": "code",
   "execution_count": 58,
   "id": "f32d732e",
   "metadata": {},
   "outputs": [
    {
     "data": {
      "text/plain": [
       "(20298, 10)"
      ]
     },
     "execution_count": 58,
     "metadata": {},
     "output_type": "execute_result"
    }
   ],
   "source": [
    "data.shape"
   ]
  },
  {
   "cell_type": "markdown",
   "id": "9bfe1104",
   "metadata": {},
   "source": [
    "# Saving to CSV"
   ]
  },
  {
   "cell_type": "code",
   "execution_count": 59,
   "id": "50b06ddc",
   "metadata": {},
   "outputs": [],
   "source": [
    "data.to_csv(path_or_buf=\"../../tresboncoin/data/data_full.csv\", index=False)"
   ]
  },
  {
   "cell_type": "markdown",
   "id": "e8dda994",
   "metadata": {},
   "source": [
    "# Visu data"
   ]
  },
  {
   "cell_type": "code",
   "execution_count": 77,
   "id": "52d597f4",
   "metadata": {},
   "outputs": [],
   "source": [
    "#data.describe"
   ]
  },
  {
   "cell_type": "code",
   "execution_count": 78,
   "id": "8c15af62",
   "metadata": {},
   "outputs": [
    {
     "data": {
      "image/png": "[encoded data removed]",
      "text/plain": [
       "<Figure size 1152x360 with 1 Axes>"
      ]
     },
     "metadata": {
      "needs_background": "light"
     },
     "output_type": "display_data"
    }
   ],
   "source": [
    "fig = plt.figure(figsize=(16, 5))\n",
    "feat = \"price\"\n",
    "sns.histplot(data[feat], palette='Blues', stat='density', bins=30)\n",
    "sns.kdeplot(data[feat], color='red')\n",
    "plt.xlim(-1000, 100000);"
   ]
  },
  {
   "cell_type": "code",
   "execution_count": 79,
   "id": "51a669c5",
   "metadata": {},
   "outputs": [
    {
     "data": {
      "text/plain": [
       "7746.5950979567815"
      ]
     },
     "execution_count": 79,
     "metadata": {},
     "output_type": "execute_result"
    }
   ],
   "source": [
    "data[feat].mean()"
   ]
  },
  {
   "cell_type": "code",
   "execution_count": 80,
   "id": "8a05b9a5",
   "metadata": {
    "scrolled": false
   },
   "outputs": [
    {
     "data": {
      "image/png": "[encoded data removed]",
      "text/plain": [
       "<Figure size 1152x360 with 1 Axes>"
      ]
     },
     "metadata": {
      "needs_background": "light"
     },
     "output_type": "display_data"
    }
   ],
   "source": [
    "fig = plt.figure(figsize=(16, 5))\n",
    "sns.countplot(data=data.sort_values(by=\"bike_year\", ascending=True), x=\"bike_year\")\n",
    "plt.xticks(rotation=60);"
   ]
  },
  {
   "cell_type": "code",
   "execution_count": 81,
   "id": "56ed6bab",
   "metadata": {
    "scrolled": false
   },
   "outputs": [
    {
     "data": {
      "image/png": "[encoded data removed]",
      "text/plain": [
       "<Figure size 1152x360 with 1 Axes>"
      ]
     },
     "metadata": {
      "needs_background": "light"
     },
     "output_type": "display_data"
    }
   ],
   "source": [
    "fig = plt.figure(figsize=(16, 5))\n",
    "#plt.hist(data[\"mileage\"], bins=1000)\n",
    "sns.histplot(data[[\"mileage\"]], palette='Blues', stat='density', bins=1000)\n",
    "sns.kdeplot(data[\"mileage\"], color='red')\n",
    "plt.xticks(rotation=60);\n",
    "plt.xlim(0, 100000);"
   ]
  },
  {
   "cell_type": "code",
   "execution_count": 82,
   "id": "6e610ffd",
   "metadata": {
    "scrolled": false
   },
   "outputs": [
    {
     "data": {
      "image/png": "[encoded data removed]",
      "text/plain": [
       "<Figure size 1152x360 with 1 Axes>"
      ]
     },
     "metadata": {
      "needs_background": "light"
     },
     "output_type": "display_data"
    }
   ],
   "source": [
    "fig = plt.figure(figsize=(16, 5))\n",
    "sns.countplot(data=data, x=\"brand\")\n",
    "plt.xticks(rotation=90);"
   ]
  },
  {
   "cell_type": "code",
   "execution_count": 83,
   "id": "45a35a2c",
   "metadata": {},
   "outputs": [],
   "source": [
    "#pd.DataFrame(data[\"brand\"].value_counts()).head(50)"
   ]
  },
  {
   "cell_type": "code",
   "execution_count": 84,
   "id": "0046c1aa",
   "metadata": {
    "scrolled": false
   },
   "outputs": [
    {
     "data": {
      "image/png": "[encoded data removed]",
      "text/plain": [
       "<Figure size 1152x360 with 1 Axes>"
      ]
     },
     "metadata": {
      "needs_background": "light"
     },
     "output_type": "display_data"
    }
   ],
   "source": [
    "fig = plt.figure(figsize=(16, 5))\n",
    "sns.countplot(data=data, x=\"bike_type\")\n",
    "plt.xticks(rotation=60);"
   ]
  },
  {
   "cell_type": "code",
   "execution_count": null,
   "id": "29407565",
   "metadata": {},
   "outputs": [],
   "source": []
  },
  {
   "cell_type": "code",
   "execution_count": null,
   "id": "f04e0cb3",
   "metadata": {},
   "outputs": [],
   "source": []
  },
  {
   "cell_type": "code",
   "execution_count": null,
   "id": "e7abe6e3",
   "metadata": {},
   "outputs": [],
   "source": []
  }
 ],
 "metadata": {
  "kernelspec": {
   "display_name": "Python 3",
   "language": "python",
   "name": "python3"
  },
  "language_info": {
   "codemirror_mode": {
    "name": "ipython",
    "version": 3
   },
   "file_extension": ".py",
   "mimetype": "text/x-python",
   "name": "python",
   "nbconvert_exporter": "python",
   "pygments_lexer": "ipython3",
   "version": "3.9.1"
  },
  "toc": {
   "base_numbering": 1,
   "nav_menu": {},
   "number_sections": true,
   "sideBar": true,
   "skip_h1_title": false,
   "title_cell": "Table of Contents",
   "title_sidebar": "Contents",
   "toc_cell": false,
   "toc_position": {},
   "toc_section_display": true,
   "toc_window_display": false
  },
  "varInspector": {
   "cols": {
    "lenName": 16,
    "lenType": 16,
    "lenVar": 40
   },
   "kernels_config": {
    "python": {
     "delete_cmd_postfix": "",
     "delete_cmd_prefix": "del ",
     "library": "var_list.py",
     "varRefreshCmd": "print(var_dic_list())"
    },
    "r": {
     "delete_cmd_postfix": ") ",
     "delete_cmd_prefix": "rm(",
     "library": "var_list.r",
     "varRefreshCmd": "cat(var_dic_list()) "
    }
   },
   "types_to_exclude": [
    "module",
    "function",
    "builtin_function_or_method",
    "instance",
    "_Feature"
   ],
   "window_display": false
  }
 },
 "nbformat": 4,
 "nbformat_minor": 5
}
