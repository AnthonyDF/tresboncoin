{
 "cells": [
  {
   "cell_type": "markdown",
   "id": "ee6569e5",
   "metadata": {},
   "source": [
    "# Imports"
   ]
  },
  {
   "cell_type": "code",
   "execution_count": 1,
   "id": "a26bd5ed",
   "metadata": {},
   "outputs": [],
   "source": [
    "import numpy as np\n",
    "import pandas as pd\n",
    "import seaborn as sns\n",
    "import matplotlib.pyplot as plt\n",
    "from scipy import stats\n",
    "from datetime import datetime\n",
    "#\n",
    "from sklearn.impute import SimpleImputer\n",
    "from sklearn.model_selection import RandomizedSearchCV\n",
    "#\n",
    "from sklearn.preprocessing import MinMaxScaler\n",
    "from sklearn.preprocessing import StandardScaler\n",
    "from sklearn.preprocessing import RobustScaler\n",
    "from sklearn.preprocessing import OneHotEncoder\n",
    "from sklearn.pipeline import Pipeline\n",
    "from sklearn.compose import ColumnTransformer\n",
    "#\n",
    "from sklearn.ensemble import GradientBoostingRegressor\n",
    "from sklearn.linear_model import LinearRegression\n",
    "from sklearn.model_selection import cross_validate\n",
    "from sklearn.model_selection import train_test_split\n",
    "from sklearn.metrics import make_scorer\n",
    "from sklearn.ensemble import RandomForestRegressor\n",
    "from sklearn.svm import SVR\n",
    "from sklearn.ensemble import ExtraTreesRegressor\n",
    "from sklearn.neighbors import KNeighborsRegressor\n",
    "#\n",
    "pd.set_option('display.max_columns', None)"
   ]
  },
  {
   "cell_type": "markdown",
   "id": "04bd3671",
   "metadata": {},
   "source": [
    "# Import csv"
   ]
  },
  {
   "cell_type": "code",
   "execution_count": 2,
   "id": "25ae9362",
   "metadata": {},
   "outputs": [
    {
     "name": "stdout",
     "output_type": "stream",
     "text": [
      "master_data.csv                    master_with_fuzzy_and_cleaning.csv\r\n"
     ]
    }
   ],
   "source": [
    "!ls ../../tresboncoin/data/master"
   ]
  },
  {
   "cell_type": "code",
   "execution_count": 3,
   "id": "9ec48a01",
   "metadata": {},
   "outputs": [
    {
     "data": {
      "text/plain": [
       "(49776, 23)"
      ]
     },
     "execution_count": 3,
     "metadata": {},
     "output_type": "execute_result"
    }
   ],
   "source": [
    "data = pd.read_csv(\"../../tresboncoin/data/master/master_with_fuzzy_and_cleaning.csv\")\n",
    "data.shape"
   ]
  },
  {
   "cell_type": "markdown",
   "id": "46012775",
   "metadata": {},
   "source": [
    "# Exploring data"
   ]
  },
  {
   "cell_type": "markdown",
   "id": "864a9b0c",
   "metadata": {},
   "source": [
    "## Basic exploration"
   ]
  },
  {
   "cell_type": "code",
   "execution_count": 4,
   "id": "e73897a8",
   "metadata": {},
   "outputs": [
    {
     "data": {
      "text/html": [
       "<div>\n",
       "<style scoped>\n",
       "    .dataframe tbody tr th:only-of-type {\n",
       "        vertical-align: middle;\n",
       "    }\n",
       "\n",
       "    .dataframe tbody tr th {\n",
       "        vertical-align: top;\n",
       "    }\n",
       "\n",
       "    .dataframe thead th {\n",
       "        text-align: right;\n",
       "    }\n",
       "</style>\n",
       "<table border=\"1\" class=\"dataframe\">\n",
       "  <thead>\n",
       "    <tr style=\"text-align: right;\">\n",
       "      <th></th>\n",
       "      <th>url</th>\n",
       "      <th>uniq_id</th>\n",
       "      <th>brand</th>\n",
       "      <th>bike_year</th>\n",
       "      <th>mileage</th>\n",
       "      <th>bike_type</th>\n",
       "      <th>price</th>\n",
       "      <th>model</th>\n",
       "      <th>engine_size</th>\n",
       "      <th>date_scrapped</th>\n",
       "      <th>brand_db</th>\n",
       "      <th>model_db</th>\n",
       "      <th>model_submodel_db</th>\n",
       "      <th>year_db</th>\n",
       "      <th>category_db</th>\n",
       "      <th>engine_type_db</th>\n",
       "      <th>engine_size_db</th>\n",
       "      <th>power_db</th>\n",
       "      <th>torque_db</th>\n",
       "      <th>compression_db</th>\n",
       "      <th>cooling_system_db</th>\n",
       "      <th>dry_weight_db</th>\n",
       "      <th>power/weight_ratio_db</th>\n",
       "    </tr>\n",
       "  </thead>\n",
       "  <tbody>\n",
       "    <tr>\n",
       "      <th>0</th>\n",
       "      <td>https://www.motoplanete.com/occasion-moto/3254...</td>\n",
       "      <td>motoplanete-32546</td>\n",
       "      <td>royalenfield</td>\n",
       "      <td>2003</td>\n",
       "      <td>9476.0</td>\n",
       "      <td>Routière &amp; GT</td>\n",
       "      <td>2390.0</td>\n",
       "      <td>bullet</td>\n",
       "      <td>350.0</td>\n",
       "      <td>2021/06/04 - 22h19</td>\n",
       "      <td>enfield</td>\n",
       "      <td>bullet500</td>\n",
       "      <td>bullet500</td>\n",
       "      <td>2015.0</td>\n",
       "      <td>classic</td>\n",
       "      <td>single cylinder</td>\n",
       "      <td>499.0</td>\n",
       "      <td>26.1</td>\n",
       "      <td>40.9</td>\n",
       "      <td>8.5:1</td>\n",
       "      <td>Air</td>\n",
       "      <td>NaN</td>\n",
       "      <td>NaN</td>\n",
       "    </tr>\n",
       "    <tr>\n",
       "      <th>1</th>\n",
       "      <td>https://www.motoplanete.com/occasion-moto/4186...</td>\n",
       "      <td>motoplanete-41862</td>\n",
       "      <td>honda</td>\n",
       "      <td>2021</td>\n",
       "      <td>501.0</td>\n",
       "      <td>Trail</td>\n",
       "      <td>16599.0</td>\n",
       "      <td>africatwin</td>\n",
       "      <td>1100.0</td>\n",
       "      <td>2021/06/04 - 22h19</td>\n",
       "      <td>honda</td>\n",
       "      <td>africatwin</td>\n",
       "      <td>africatwin</td>\n",
       "      <td>2020.0</td>\n",
       "      <td>enduro / offroad</td>\n",
       "      <td>twin</td>\n",
       "      <td>1084.0</td>\n",
       "      <td>101.0</td>\n",
       "      <td>104.4</td>\n",
       "      <td>10.1:1</td>\n",
       "      <td>Liquid</td>\n",
       "      <td>NaN</td>\n",
       "      <td>NaN</td>\n",
       "    </tr>\n",
       "    <tr>\n",
       "      <th>2</th>\n",
       "      <td>https://www.motoplanete.com/occasion-moto/3732...</td>\n",
       "      <td>motoplanete-37320</td>\n",
       "      <td>gasgas</td>\n",
       "      <td>2021</td>\n",
       "      <td>300.0</td>\n",
       "      <td>Enduro</td>\n",
       "      <td>8590.0</td>\n",
       "      <td>ec</td>\n",
       "      <td>300.0</td>\n",
       "      <td>2021/06/04 - 22h19</td>\n",
       "      <td>gasgas</td>\n",
       "      <td>ec250</td>\n",
       "      <td>ec2504t</td>\n",
       "      <td>2010.0</td>\n",
       "      <td>enduro / offroad</td>\n",
       "      <td>single cylinder</td>\n",
       "      <td>249.3</td>\n",
       "      <td>NaN</td>\n",
       "      <td>NaN</td>\n",
       "      <td>NaN</td>\n",
       "      <td>Liquid</td>\n",
       "      <td>110.0</td>\n",
       "      <td>NaN</td>\n",
       "    </tr>\n",
       "  </tbody>\n",
       "</table>\n",
       "</div>"
      ],
      "text/plain": [
       "                                                 url            uniq_id  \\\n",
       "0  https://www.motoplanete.com/occasion-moto/3254...  motoplanete-32546   \n",
       "1  https://www.motoplanete.com/occasion-moto/4186...  motoplanete-41862   \n",
       "2  https://www.motoplanete.com/occasion-moto/3732...  motoplanete-37320   \n",
       "\n",
       "          brand  bike_year  mileage      bike_type    price       model  \\\n",
       "0  royalenfield       2003   9476.0  Routière & GT   2390.0      bullet   \n",
       "1         honda       2021    501.0          Trail  16599.0  africatwin   \n",
       "2        gasgas       2021    300.0         Enduro   8590.0          ec   \n",
       "\n",
       "   engine_size       date_scrapped brand_db    model_db model_submodel_db  \\\n",
       "0        350.0  2021/06/04 - 22h19  enfield   bullet500         bullet500   \n",
       "1       1100.0  2021/06/04 - 22h19    honda  africatwin        africatwin   \n",
       "2        300.0  2021/06/04 - 22h19   gasgas       ec250           ec2504t   \n",
       "\n",
       "   year_db       category_db   engine_type_db  engine_size_db  power_db  \\\n",
       "0   2015.0           classic  single cylinder           499.0      26.1   \n",
       "1   2020.0  enduro / offroad             twin          1084.0     101.0   \n",
       "2   2010.0  enduro / offroad  single cylinder           249.3       NaN   \n",
       "\n",
       "   torque_db compression_db cooling_system_db  dry_weight_db  \\\n",
       "0       40.9          8.5:1               Air            NaN   \n",
       "1      104.4         10.1:1            Liquid            NaN   \n",
       "2        NaN            NaN            Liquid          110.0   \n",
       "\n",
       "   power/weight_ratio_db  \n",
       "0                    NaN  \n",
       "1                    NaN  \n",
       "2                    NaN  "
      ]
     },
     "execution_count": 4,
     "metadata": {},
     "output_type": "execute_result"
    }
   ],
   "source": [
    "data.head(3)"
   ]
  },
  {
   "cell_type": "code",
   "execution_count": 5,
   "id": "ed263585",
   "metadata": {},
   "outputs": [
    {
     "data": {
      "text/plain": [
       "(49776, 23)"
      ]
     },
     "execution_count": 5,
     "metadata": {},
     "output_type": "execute_result"
    }
   ],
   "source": [
    "data.shape"
   ]
  },
  {
   "cell_type": "code",
   "execution_count": 6,
   "id": "c8906c6f",
   "metadata": {},
   "outputs": [
    {
     "data": {
      "text/plain": [
       "scooter                      9718\n",
       "naked bike                   9396\n",
       "sport                        7044\n",
       "touring                      4334\n",
       "sport touring                3908\n",
       "enduro / offroad             3814\n",
       "allround                     3735\n",
       "classic                      2359\n",
       "custom / cruiser             2296\n",
       "super motard                 1864\n",
       "unspecified category          503\n",
       "cross / motocross             297\n",
       "prototype / concept model     187\n",
       "atv                           174\n",
       "trial                          92\n",
       "minibike, cross                50\n",
       "minibike, sport                 5\n",
       "Name: category_db, dtype: int64"
      ]
     },
     "execution_count": 6,
     "metadata": {},
     "output_type": "execute_result"
    }
   ],
   "source": [
    "data[\"category_db\"].value_counts()"
   ]
  },
  {
   "cell_type": "markdown",
   "id": "1d0e5733",
   "metadata": {},
   "source": [
    "## Duplicates"
   ]
  },
  {
   "cell_type": "code",
   "execution_count": 7,
   "id": "ce0d6b64",
   "metadata": {},
   "outputs": [
    {
     "name": "stdout",
     "output_type": "stream",
     "text": [
      "0 duplicates were removed.\n"
     ]
    }
   ],
   "source": [
    "size_before = len(data)\n",
    "data = data.drop_duplicates()\n",
    "size_after = len(data)\n",
    "print(str(size_before - size_after) + \" duplicates were removed.\")"
   ]
  },
  {
   "cell_type": "markdown",
   "id": "1cd92a3d",
   "metadata": {},
   "source": [
    "## Missing"
   ]
  },
  {
   "cell_type": "code",
   "execution_count": 8,
   "id": "480a7d73",
   "metadata": {},
   "outputs": [
    {
     "data": {
      "text/plain": [
       "power/weight_ratio_db    52.093378\n",
       "dry_weight_db            46.375763\n",
       "bike_type                37.767197\n",
       "torque_db                22.649470\n",
       "compression_db           21.721311\n",
       "engine_size              15.587833\n",
       "power_db                 13.456284\n",
       "date_scrapped             7.437319\n",
       "cooling_system_db         5.589039\n",
       "engine_size_db            0.379701\n",
       "engine_type_db            0.014063\n",
       "url                       0.012054\n",
       "model_submodel_db         0.000000\n",
       "year_db                   0.000000\n",
       "category_db               0.000000\n",
       "uniq_id                   0.000000\n",
       "brand_db                  0.000000\n",
       "model                     0.000000\n",
       "price                     0.000000\n",
       "mileage                   0.000000\n",
       "bike_year                 0.000000\n",
       "brand                     0.000000\n",
       "model_db                  0.000000\n",
       "dtype: float64"
      ]
     },
     "execution_count": 8,
     "metadata": {},
     "output_type": "execute_result"
    }
   ],
   "source": [
    "100 * data.isnull().sum().sort_values(ascending=False)/len(data)"
   ]
  },
  {
   "cell_type": "markdown",
   "id": "62355900",
   "metadata": {},
   "source": [
    "## Distribution and outliers"
   ]
  },
  {
   "cell_type": "code",
   "execution_count": 9,
   "id": "ffb796d3",
   "metadata": {},
   "outputs": [
    {
     "data": {
      "image/png": "[encoded data removed]",
      "text/plain": [
       "<Figure size 1152x360 with 1 Axes>"
      ]
     },
     "metadata": {
      "needs_background": "light"
     },
     "output_type": "display_data"
    }
   ],
   "source": [
    "fig = plt.figure(figsize=(16, 5))\n",
    "sns.histplot(data[\"mileage\"], palette='Blues', stat='density', bins=100)\n",
    "sns.kdeplot(data[\"mileage\"], color='red')\n",
    "plt.xlim(0, 150000);"
   ]
  },
  {
   "cell_type": "code",
   "execution_count": 10,
   "id": "301c90d3",
   "metadata": {},
   "outputs": [
    {
     "data": {
      "image/png": "[encoded data removed]",
      "text/plain": [
       "<Figure size 1152x360 with 1 Axes>"
      ]
     },
     "metadata": {
      "needs_background": "light"
     },
     "output_type": "display_data"
    }
   ],
   "source": [
    "fig = plt.figure(figsize=(16, 5))\n",
    "sns.histplot(data[\"bike_year\"], palette='Blues', stat='density', bins=50)\n",
    "sns.kdeplot(data[\"bike_year\"], color='red')\n",
    "plt.xlim(1960, 2025);"
   ]
  },
  {
   "cell_type": "code",
   "execution_count": 11,
   "id": "4343a462",
   "metadata": {},
   "outputs": [
    {
     "data": {
      "image/png": "[encoded data removed]",
      "text/plain": [
       "<Figure size 1152x360 with 1 Axes>"
      ]
     },
     "metadata": {
      "needs_background": "light"
     },
     "output_type": "display_data"
    }
   ],
   "source": [
    "fig = plt.figure(figsize=(16, 5))\n",
    "sns.histplot(data[\"price\"], palette='Blues', stat='density', bins=40)\n",
    "sns.kdeplot(data[\"price\"], color='red')\n",
    "plt.xlim(0, 50000);"
   ]
  },
  {
   "cell_type": "code",
   "execution_count": 12,
   "id": "9684f15b",
   "metadata": {
    "scrolled": true
   },
   "outputs": [
    {
     "data": {
      "text/plain": [
       "(0.0, 93194.1018152064)"
      ]
     },
     "execution_count": 12,
     "metadata": {},
     "output_type": "execute_result"
    },
    {
     "data": {
      "image/png": "[encoded data removed]",
      "text/plain": [
       "<Figure size 432x288 with 1 Axes>"
      ]
     },
     "metadata": {
      "needs_background": "light"
     },
     "output_type": "display_data"
    }
   ],
   "source": [
    "sns.boxplot(y=data[\"mileage\"], palette=\"Blues\");\n",
    "plt.ylim(0, data[\"mileage\"].mean() + 3*data[\"mileage\"].std())"
   ]
  },
  {
   "cell_type": "code",
   "execution_count": 13,
   "id": "90d40b11",
   "metadata": {},
   "outputs": [
    {
     "data": {
      "text/plain": [
       "(1987.2401025098977, 2022.0)"
      ]
     },
     "execution_count": 13,
     "metadata": {},
     "output_type": "execute_result"
    },
    {
     "data": {
      "image/png": "[encoded data removed]",
      "text/plain": [
       "<Figure size 432x288 with 1 Axes>"
      ]
     },
     "metadata": {
      "needs_background": "light"
     },
     "output_type": "display_data"
    }
   ],
   "source": [
    "sns.boxplot(y=data[\"bike_year\"], palette=\"Blues\");\n",
    "plt.ylim(-data[\"bike_year\"].std()*3 + data[\"bike_year\"].mean(), 2022)"
   ]
  },
  {
   "cell_type": "code",
   "execution_count": 14,
   "id": "bef945fa",
   "metadata": {},
   "outputs": [
    {
     "data": {
      "text/plain": [
       "(0.0, 29307.296954944853)"
      ]
     },
     "execution_count": 14,
     "metadata": {},
     "output_type": "execute_result"
    },
    {
     "data": {
      "image/png": "[encoded data removed]",
      "text/plain": [
       "<Figure size 432x288 with 1 Axes>"
      ]
     },
     "metadata": {
      "needs_background": "light"
     },
     "output_type": "display_data"
    }
   ],
   "source": [
    "sns.boxplot(y=data[\"price\"], palette=\"Blues\");\n",
    "plt.ylim(0, data[\"price\"].mean() + 4*data[\"price\"].std())"
   ]
  },
  {
   "cell_type": "code",
   "execution_count": 15,
   "id": "f2fc5555",
   "metadata": {},
   "outputs": [
    {
     "data": {
      "text/plain": [
       "(49.0, 2075.9698290747156)"
      ]
     },
     "execution_count": 15,
     "metadata": {},
     "output_type": "execute_result"
    },
    {
     "data": {
      "image/png": "[encoded data removed]",
      "text/plain": [
       "<Figure size 432x288 with 1 Axes>"
      ]
     },
     "metadata": {
      "needs_background": "light"
     },
     "output_type": "display_data"
    }
   ],
   "source": [
    "sns.boxplot(y=data[\"engine_size\"], palette=\"Blues\");\n",
    "plt.ylim(49, data[\"engine_size\"].mean() + 3*data[\"engine_size\"].std())"
   ]
  },
  {
   "cell_type": "markdown",
   "id": "aba35e4d",
   "metadata": {},
   "source": [
    "# Cleaning"
   ]
  },
  {
   "cell_type": "code",
   "execution_count": 16,
   "id": "2047515b",
   "metadata": {},
   "outputs": [
    {
     "data": {
      "text/plain": [
       "Index(['url', 'uniq_id', 'brand', 'bike_year', 'mileage', 'bike_type', 'price',\n",
       "       'model', 'engine_size', 'date_scrapped', 'brand_db', 'model_db',\n",
       "       'model_submodel_db', 'year_db', 'category_db', 'engine_type_db',\n",
       "       'engine_size_db', 'power_db', 'torque_db', 'compression_db',\n",
       "       'cooling_system_db', 'dry_weight_db', 'power/weight_ratio_db'],\n",
       "      dtype='object')"
      ]
     },
     "execution_count": 16,
     "metadata": {},
     "output_type": "execute_result"
    }
   ],
   "source": [
    "data.columns"
   ]
  },
  {
   "cell_type": "code",
   "execution_count": 17,
   "id": "e7253bc2",
   "metadata": {},
   "outputs": [],
   "source": [
    "data = data[(data[\"bike_year\"]>=(-data[\"bike_year\"].std()*3 + data[\"bike_year\"].mean())) & (data[\"bike_year\"]<=2022)]\n",
    "data = data[(data[\"mileage\"]>=1000) & (data[\"mileage\"]<=(data[\"mileage\"].mean() + 3*data[\"mileage\"].std()))]\n",
    "data = data[(data[\"price\"]>=1000) & (data[\"price\"]<(data[\"price\"].mean() + 4*data[\"price\"].std()))]\n",
    "data = data[(data[\"engine_size\"]>=49) & (data[\"engine_size\"]<(data[\"engine_size\"].mean() + 3*data[\"engine_size\"].std()))]"
   ]
  },
  {
   "cell_type": "code",
   "execution_count": 18,
   "id": "a6f5b1f1",
   "metadata": {},
   "outputs": [],
   "source": [
    "def km_per_year(km, bike_year):\n",
    "    if (datetime.now().year - bike_year) == 0:\n",
    "        return km\n",
    "    return km / (datetime.now().year - bike_year)"
   ]
  },
  {
   "cell_type": "code",
   "execution_count": 19,
   "id": "9f1641cf",
   "metadata": {},
   "outputs": [],
   "source": [
    "#data.drop(['url', 'uniq_id', 'model_db', 'brand', \"model\", \"brand_db\"], axis=1, inplace=True)\n",
    "data['km/year'] = data.apply(lambda x: km_per_year(x['mileage'], x['bike_year']), axis=1)"
   ]
  },
  {
   "cell_type": "code",
   "execution_count": 20,
   "id": "ca605792",
   "metadata": {},
   "outputs": [
    {
     "data": {
      "text/html": [
       "<div>\n",
       "<style scoped>\n",
       "    .dataframe tbody tr th:only-of-type {\n",
       "        vertical-align: middle;\n",
       "    }\n",
       "\n",
       "    .dataframe tbody tr th {\n",
       "        vertical-align: top;\n",
       "    }\n",
       "\n",
       "    .dataframe thead th {\n",
       "        text-align: right;\n",
       "    }\n",
       "</style>\n",
       "<table border=\"1\" class=\"dataframe\">\n",
       "  <thead>\n",
       "    <tr style=\"text-align: right;\">\n",
       "      <th></th>\n",
       "      <th>url</th>\n",
       "      <th>uniq_id</th>\n",
       "      <th>brand</th>\n",
       "      <th>bike_year</th>\n",
       "      <th>mileage</th>\n",
       "      <th>bike_type</th>\n",
       "      <th>price</th>\n",
       "      <th>model</th>\n",
       "      <th>engine_size</th>\n",
       "      <th>date_scrapped</th>\n",
       "      <th>brand_db</th>\n",
       "      <th>model_db</th>\n",
       "      <th>model_submodel_db</th>\n",
       "      <th>year_db</th>\n",
       "      <th>category_db</th>\n",
       "      <th>engine_type_db</th>\n",
       "      <th>engine_size_db</th>\n",
       "      <th>power_db</th>\n",
       "      <th>torque_db</th>\n",
       "      <th>compression_db</th>\n",
       "      <th>cooling_system_db</th>\n",
       "      <th>dry_weight_db</th>\n",
       "      <th>power/weight_ratio_db</th>\n",
       "      <th>km/year</th>\n",
       "    </tr>\n",
       "  </thead>\n",
       "  <tbody>\n",
       "    <tr>\n",
       "      <th>0</th>\n",
       "      <td>https://www.motoplanete.com/occasion-moto/3254...</td>\n",
       "      <td>motoplanete-32546</td>\n",
       "      <td>royalenfield</td>\n",
       "      <td>2003</td>\n",
       "      <td>9476.0</td>\n",
       "      <td>Routière &amp; GT</td>\n",
       "      <td>2390.0</td>\n",
       "      <td>bullet</td>\n",
       "      <td>350.0</td>\n",
       "      <td>2021/06/04 - 22h19</td>\n",
       "      <td>enfield</td>\n",
       "      <td>bullet500</td>\n",
       "      <td>bullet500</td>\n",
       "      <td>2015.0</td>\n",
       "      <td>classic</td>\n",
       "      <td>single cylinder</td>\n",
       "      <td>499.0</td>\n",
       "      <td>26.1</td>\n",
       "      <td>40.9</td>\n",
       "      <td>8.5:1</td>\n",
       "      <td>Air</td>\n",
       "      <td>NaN</td>\n",
       "      <td>NaN</td>\n",
       "      <td>526.444444</td>\n",
       "    </tr>\n",
       "  </tbody>\n",
       "</table>\n",
       "</div>"
      ],
      "text/plain": [
       "                                                 url            uniq_id  \\\n",
       "0  https://www.motoplanete.com/occasion-moto/3254...  motoplanete-32546   \n",
       "\n",
       "          brand  bike_year  mileage      bike_type   price   model  \\\n",
       "0  royalenfield       2003   9476.0  Routière & GT  2390.0  bullet   \n",
       "\n",
       "   engine_size       date_scrapped brand_db   model_db model_submodel_db  \\\n",
       "0        350.0  2021/06/04 - 22h19  enfield  bullet500         bullet500   \n",
       "\n",
       "   year_db category_db   engine_type_db  engine_size_db  power_db  torque_db  \\\n",
       "0   2015.0     classic  single cylinder           499.0      26.1       40.9   \n",
       "\n",
       "  compression_db cooling_system_db  dry_weight_db  power/weight_ratio_db  \\\n",
       "0          8.5:1               Air            NaN                    NaN   \n",
       "\n",
       "      km/year  \n",
       "0  526.444444  "
      ]
     },
     "execution_count": 20,
     "metadata": {},
     "output_type": "execute_result"
    }
   ],
   "source": [
    "data.head(1)"
   ]
  },
  {
   "cell_type": "markdown",
   "id": "892c566a",
   "metadata": {},
   "source": [
    "\n",
    "# Preparing model inputs"
   ]
  },
  {
   "cell_type": "code",
   "execution_count": 21,
   "id": "f9895b82",
   "metadata": {},
   "outputs": [
    {
     "data": {
      "text/plain": [
       "(99, 1)"
      ]
     },
     "execution_count": 21,
     "metadata": {},
     "output_type": "execute_result"
    }
   ],
   "source": [
    "pd.DataFrame(data[\"brand_db\"].value_counts()).shape"
   ]
  },
  {
   "cell_type": "code",
   "execution_count": 22,
   "id": "1a7cfacd",
   "metadata": {},
   "outputs": [],
   "source": [
    "data_saved = data.copy()"
   ]
  },
  {
   "cell_type": "code",
   "execution_count": 23,
   "id": "be00ccaf",
   "metadata": {},
   "outputs": [
    {
     "name": "stdout",
     "output_type": "stream",
     "text": [
      "(36254, 24)\n",
      "(36254, 24)\n"
     ]
    }
   ],
   "source": [
    "print(data.shape)\n",
    "data = data[~data[\"category_db\"].isnull()]\n",
    "print(data.shape)"
   ]
  },
  {
   "cell_type": "code",
   "execution_count": 24,
   "id": "33cb458c",
   "metadata": {},
   "outputs": [],
   "source": [
    "data_reduced = data[data[\"brand_db\"].isin(list(pd.DataFrame(data[\"brand_db\"].value_counts())[0:50].index))]"
   ]
  },
  {
   "cell_type": "code",
   "execution_count": 25,
   "id": "2903bffe",
   "metadata": {},
   "outputs": [
    {
     "data": {
      "text/plain": [
       "(36150, 6)"
      ]
     },
     "execution_count": 25,
     "metadata": {},
     "output_type": "execute_result"
    }
   ],
   "source": [
    "X = data_reduced.copy()[['brand_db', 'bike_year','mileage','engine_size','km/year', \"category_db\"]]\n",
    "X.dropna(inplace=True)\n",
    "y = data_reduced[\"price\"]\n",
    "X.shape"
   ]
  },
  {
   "cell_type": "code",
   "execution_count": 26,
   "id": "5c75ee35",
   "metadata": {},
   "outputs": [
    {
     "data": {
      "text/plain": [
       "brand_db       0.0\n",
       "bike_year      0.0\n",
       "mileage        0.0\n",
       "engine_size    0.0\n",
       "km/year        0.0\n",
       "category_db    0.0\n",
       "dtype: float64"
      ]
     },
     "execution_count": 26,
     "metadata": {},
     "output_type": "execute_result"
    }
   ],
   "source": [
    "100 * X.isnull().sum().sort_values(ascending=False)/len(X)"
   ]
  },
  {
   "cell_type": "markdown",
   "id": "42811261",
   "metadata": {},
   "source": [
    "# Pipelines"
   ]
  },
  {
   "cell_type": "code",
   "execution_count": 27,
   "id": "8a7dd934",
   "metadata": {},
   "outputs": [],
   "source": [
    "pipe_multiclass = Pipeline([\n",
    "    ('encoder', OneHotEncoder(sparse=False, handle_unknown=\"ignore\"))\n",
    "])"
   ]
  },
  {
   "cell_type": "code",
   "execution_count": 28,
   "id": "59789368",
   "metadata": {},
   "outputs": [
    {
     "data": {
      "text/plain": [
       "['brand_db', 'bike_year', 'mileage', 'engine_size', 'km/year', 'category_db']"
      ]
     },
     "execution_count": 28,
     "metadata": {},
     "output_type": "execute_result"
    }
   ],
   "source": [
    "list(X.columns)"
   ]
  },
  {
   "cell_type": "code",
   "execution_count": 29,
   "id": "ca0b312d",
   "metadata": {},
   "outputs": [],
   "source": [
    "# applying encoder\n",
    "encoder = ColumnTransformer([\n",
    "    ('textual', pipe_multiclass, [\"brand_db\", \"category_db\"])\n",
    "], remainder='passthrough')"
   ]
  },
  {
   "cell_type": "code",
   "execution_count": 30,
   "id": "11ffda87",
   "metadata": {},
   "outputs": [],
   "source": [
    "# full preprocessor pipeline\n",
    "preprocessor = Pipeline([(\"encoder\", encoder),\n",
    "                         ('scaler', MinMaxScaler())])"
   ]
  },
  {
   "cell_type": "code",
   "execution_count": 31,
   "id": "bc6fb105",
   "metadata": {},
   "outputs": [],
   "source": [
    "#output_pipe_columns = [\"category_db_dual sport\", \"category_db_off-road\", \"category_db_scooter\", \"category_db_street\", 'bike_year', 'mileage', 'km/year']"
   ]
  },
  {
   "cell_type": "code",
   "execution_count": 32,
   "id": "8589a3f4",
   "metadata": {},
   "outputs": [],
   "source": [
    "#X_train_scaled = pd.DataFrame(preprocessor.fit_transform(X), columns=output_pipe_columns)\n",
    "#X_train_scaled.tail()"
   ]
  },
  {
   "cell_type": "code",
   "execution_count": 33,
   "id": "4b419ae2",
   "metadata": {},
   "outputs": [],
   "source": [
    "final_pipeline_ETR = Pipeline([\n",
    "                          (\"preprocessor\", preprocessor),\n",
    "                          ('model', ExtraTreesRegressor())\n",
    "                         ])"
   ]
  },
  {
   "cell_type": "code",
   "execution_count": 34,
   "id": "c120fd1d",
   "metadata": {},
   "outputs": [],
   "source": [
    "final_pipeline_KNN = Pipeline([\n",
    "                          (\"preprocessor\", preprocessor),\n",
    "                          ('model', KNeighborsRegressor(n_neighbors=2))\n",
    "                         ])"
   ]
  },
  {
   "cell_type": "code",
   "execution_count": 35,
   "id": "6c6e2a15",
   "metadata": {},
   "outputs": [],
   "source": [
    "final_pipeline_SVR = Pipeline([\n",
    "                          (\"preprocessor\", preprocessor),\n",
    "                          ('model', SVR())\n",
    "                         ])"
   ]
  },
  {
   "cell_type": "code",
   "execution_count": 36,
   "id": "9bed021b",
   "metadata": {},
   "outputs": [],
   "source": [
    "final_pipeline_GBR = Pipeline([\n",
    "                          (\"preprocessor\", preprocessor),\n",
    "                          ('model', GradientBoostingRegressor())\n",
    "                         ])"
   ]
  },
  {
   "cell_type": "code",
   "execution_count": 37,
   "id": "fa6c2c36",
   "metadata": {},
   "outputs": [],
   "source": [
    "def custom_rmse(y_true, y_pred):\n",
    "    return np.sqrt(np.mean(np.square(y_true - y_pred)))\n",
    "rmse = make_scorer(custom_rmse, greater_is_better=False)"
   ]
  },
  {
   "cell_type": "markdown",
   "id": "374da580",
   "metadata": {},
   "source": [
    "# Baseline score"
   ]
  },
  {
   "cell_type": "markdown",
   "id": "94783512",
   "metadata": {},
   "source": [
    "## Extra tree regressor"
   ]
  },
  {
   "cell_type": "code",
   "execution_count": 38,
   "id": "0fff5809",
   "metadata": {
    "scrolled": false
   },
   "outputs": [],
   "source": [
    "baseline = cross_validate(final_pipeline_ETR,\n",
    "                          X,\n",
    "                          y,\n",
    "                          scoring={\"rmse\": rmse, \"r2\": \"r2\"},\n",
    "                          cv=3)\n",
    "baseline_r2 = baseline['test_r2'].mean()\n",
    "baseline_rmse = -baseline['test_rmse'].mean()"
   ]
  },
  {
   "cell_type": "code",
   "execution_count": 39,
   "id": "36bf9fa2",
   "metadata": {},
   "outputs": [
    {
     "name": "stdout",
     "output_type": "stream",
     "text": [
      "0.9015108638706141 1586.423700899976\n"
     ]
    }
   ],
   "source": [
    "print(baseline_r2, baseline_rmse)"
   ]
  },
  {
   "cell_type": "markdown",
   "id": "97bfaeb5",
   "metadata": {},
   "source": [
    "## KNN regressor"
   ]
  },
  {
   "cell_type": "code",
   "execution_count": 40,
   "id": "653e4dcb",
   "metadata": {},
   "outputs": [],
   "source": [
    "baseline_KNN = cross_validate(final_pipeline_KNN,\n",
    "                          X,\n",
    "                          y,\n",
    "                          scoring={\"rmse\": rmse, \"r2\": \"r2\"},\n",
    "                          cv=3)\n",
    "baseline_KNN_r2 = baseline_KNN['test_r2'].mean()\n",
    "baseline_KNN_rmse = -baseline_KNN['test_rmse'].mean()"
   ]
  },
  {
   "cell_type": "code",
   "execution_count": 41,
   "id": "3289de70",
   "metadata": {},
   "outputs": [
    {
     "name": "stdout",
     "output_type": "stream",
     "text": [
      "0.8254856060983636 2086.6853284740796\n"
     ]
    }
   ],
   "source": [
    "print(baseline_KNN_r2, baseline_KNN_rmse)"
   ]
  },
  {
   "cell_type": "markdown",
   "id": "d8a16cb6",
   "metadata": {},
   "source": [
    "## SVR"
   ]
  },
  {
   "cell_type": "code",
   "execution_count": null,
   "id": "a6b42415",
   "metadata": {},
   "outputs": [],
   "source": [
    "baseline_SVR = cross_validate(final_pipeline_SVR,\n",
    "                          X,\n",
    "                          y,\n",
    "                          scoring={\"rmse\": rmse, \"r2\": \"r2\"},\n",
    "                          cv=3)\n",
    "baseline_SVR_r2 = baseline_SVR['test_r2'].mean()\n",
    "baseline_SVR_rmse = -baseline_SVR['test_rmse'].mean()"
   ]
  },
  {
   "cell_type": "code",
   "execution_count": null,
   "id": "1b4f468c",
   "metadata": {},
   "outputs": [],
   "source": [
    "print(baseline_SVR_r2, baseline_SVR_rmse)"
   ]
  },
  {
   "cell_type": "markdown",
   "id": "44d9565f",
   "metadata": {},
   "source": [
    "# Optimized score"
   ]
  },
  {
   "cell_type": "markdown",
   "id": "b6308e7c",
   "metadata": {},
   "source": [
    "## Extra tree regressor"
   ]
  },
  {
   "cell_type": "code",
   "execution_count": 58,
   "id": "42204178",
   "metadata": {},
   "outputs": [],
   "source": [
    "######################################################\n",
    "# extra tree regressor parameters\n",
    "######################################################\n",
    "grid_ETR = {'model__max_depth': stats.randint(1, 1000),\n",
    "            'model__min_samples_split': [2, 4, 6, 8, 10],\n",
    "            \"preprocessor__scaler\": [StandardScaler(), RobustScaler(), MinMaxScaler()]\n",
    "            }\n",
    "params_ETR = {\"random_grid_search\": grid_ETR,\n",
    "              \"model\": ExtraTreesRegressor()}\n",
    "######################################################"
   ]
  },
  {
   "cell_type": "code",
   "execution_count": 62,
   "id": "110631db",
   "metadata": {
    "scrolled": false
   },
   "outputs": [
    {
     "name": "stdout",
     "output_type": "stream",
     "text": [
      "Fitting 3 folds for each of 10 candidates, totalling 30 fits\n"
     ]
    },
    {
     "name": "stderr",
     "output_type": "stream",
     "text": [
      "/Users/victor/.pyenv/versions/3.9.1/envs/tresboncoin/lib/python3.9/site-packages/joblib/externals/loky/process_executor.py:688: UserWarning: A worker stopped while some jobs were given to the executor. This can be caused by a too short worker timeout or by a memory leak.\n",
      "  warnings.warn(\n"
     ]
    }
   ],
   "source": [
    "model_optimized_ETR = RandomizedSearchCV(final_pipeline_ETR,\n",
    "                                         grid_ETR,\n",
    "                                         scoring=rmse,\n",
    "                                         n_iter=10,\n",
    "                                         cv=3,\n",
    "                                         n_jobs=-1,\n",
    "                                         verbose=1)\n",
    "model_optimized_ETR.fit(X, y)\n",
    "optimized_ETR_r2 = model_optimized_ETR.best_score_"
   ]
  },
  {
   "cell_type": "code",
   "execution_count": 63,
   "id": "529ce92c",
   "metadata": {},
   "outputs": [
    {
     "name": "stdout",
     "output_type": "stream",
     "text": [
      "-1503.3913972166877\n"
     ]
    }
   ],
   "source": [
    "print(optimized_ETR_r2)"
   ]
  },
  {
   "cell_type": "code",
   "execution_count": 64,
   "id": "8a62760c",
   "metadata": {},
   "outputs": [
    {
     "data": {
      "text/plain": [
       "{'model__max_depth': 223,\n",
       " 'model__min_samples_split': 4,\n",
       " 'preprocessor__scaler': MinMaxScaler()}"
      ]
     },
     "execution_count": 64,
     "metadata": {},
     "output_type": "execute_result"
    }
   ],
   "source": [
    "model_optimized_ETR.best_params_"
   ]
  },
  {
   "cell_type": "markdown",
   "id": "919c35b0",
   "metadata": {},
   "source": [
    "## KNN regressor"
   ]
  },
  {
   "cell_type": "code",
   "execution_count": 72,
   "id": "ee9a676c",
   "metadata": {},
   "outputs": [],
   "source": [
    "######################################################\n",
    "# KNN model\n",
    "######################################################\n",
    "grid_KNN = {'model__n_neighbors': stats.randint(1, 50),\n",
    "            \"preprocessor__scaler\": [StandardScaler(), RobustScaler(), MinMaxScaler()]\n",
    "            }\n",
    "params_KNN = {\"random_grid_search\": grid_KNN,\n",
    "              \"model\": KNeighborsRegressor()}\n",
    "######################################################"
   ]
  },
  {
   "cell_type": "code",
   "execution_count": 85,
   "id": "6ed1b6d0",
   "metadata": {
    "scrolled": true
   },
   "outputs": [
    {
     "name": "stdout",
     "output_type": "stream",
     "text": [
      "Fitting 3 folds for each of 1 candidates, totalling 3 fits\n"
     ]
    }
   ],
   "source": [
    "model_optimized_KNN = RandomizedSearchCV(final_pipeline_KNN,\n",
    "                                         grid_KNN,\n",
    "                                         scoring=\"r2\",\n",
    "                                         n_iter=1,\n",
    "                                         cv=3,\n",
    "                                         n_jobs=-1,\n",
    "                                         verbose=1)\n",
    "model_optimized_KNN.fit(X, y)\n",
    "optimized_KNN_r2 = model_optimized_KNN.best_score_"
   ]
  },
  {
   "cell_type": "code",
   "execution_count": 86,
   "id": "c94d3654",
   "metadata": {},
   "outputs": [
    {
     "name": "stdout",
     "output_type": "stream",
     "text": [
      "0.7807100905565928\n"
     ]
    }
   ],
   "source": [
    "print(optimized_KNN_r2)"
   ]
  },
  {
   "cell_type": "code",
   "execution_count": 63,
   "id": "375762c6",
   "metadata": {},
   "outputs": [
    {
     "data": {
      "text/plain": [
       "{'model__n_neighbors': 15, 'preprocessor__scaler': MinMaxScaler()}"
      ]
     },
     "execution_count": 63,
     "metadata": {},
     "output_type": "execute_result"
    }
   ],
   "source": [
    "model_optimized_KNN.best_params_"
   ]
  },
  {
   "cell_type": "markdown",
   "id": "ef11953e",
   "metadata": {},
   "source": [
    "## SVR"
   ]
  },
  {
   "cell_type": "code",
   "execution_count": 91,
   "id": "d1e00a08",
   "metadata": {},
   "outputs": [],
   "source": [
    "######################################################\n",
    "# svr parameters\n",
    "######################################################\n",
    "grid_SVR = {'model__degree': stats.randint(1, 5),\n",
    "            'model__kernel': [\"linear\", \"poly\", \"rbf\", \"sigmoid\"],\n",
    "            'model__C': stats.loguniform(0.001, 2),\n",
    "            \"preprocessor__scaler\": [StandardScaler(), RobustScaler(), MinMaxScaler()]\n",
    "            }\n",
    "params_SVR = {\"random_grid_search\": grid_SVR,\n",
    "              \"model\": SVR()}\n",
    "######################################################"
   ]
  },
  {
   "cell_type": "code",
   "execution_count": 92,
   "id": "d658a4d5",
   "metadata": {},
   "outputs": [
    {
     "name": "stdout",
     "output_type": "stream",
     "text": [
      "Fitting 3 folds for each of 1 candidates, totalling 3 fits\n"
     ]
    }
   ],
   "source": [
    "model_optimized_SVR = RandomizedSearchCV(final_pipeline_SVR,\n",
    "                                         grid_SVR,\n",
    "                                         scoring=\"r2\",\n",
    "                                         n_iter=1,\n",
    "                                         cv=3,\n",
    "                                         n_jobs=-1,\n",
    "                                         verbose=1)\n",
    "model_optimized_SVR.fit(X, y)\n",
    "optimized_SVR_r2 = model_optimized_SVR.best_score_"
   ]
  },
  {
   "cell_type": "code",
   "execution_count": 95,
   "id": "72c90dfd",
   "metadata": {},
   "outputs": [
    {
     "data": {
      "text/plain": [
       "{'model__C': 0.0033257718453115204,\n",
       " 'model__degree': 1,\n",
       " 'model__kernel': 'sigmoid',\n",
       " 'preprocessor__scaler': MinMaxScaler()}"
      ]
     },
     "execution_count": 95,
     "metadata": {},
     "output_type": "execute_result"
    }
   ],
   "source": [
    "model_optimized_SVR.best_params_"
   ]
  },
  {
   "cell_type": "code",
   "execution_count": 93,
   "id": "73db0769",
   "metadata": {},
   "outputs": [
    {
     "name": "stdout",
     "output_type": "stream",
     "text": [
      "-0.15802040477269194\n"
     ]
    }
   ],
   "source": [
    "print(optimized_SVR_r2)"
   ]
  },
  {
   "cell_type": "markdown",
   "id": "f1f56ae0",
   "metadata": {},
   "source": [
    "## Gradient Boosting Regressor"
   ]
  },
  {
   "cell_type": "code",
   "execution_count": 42,
   "id": "65d72488",
   "metadata": {},
   "outputs": [],
   "source": [
    "######################################################\n",
    "# GradientBoostingRegressor model\n",
    "######################################################\n",
    "grid_GBR = {#'model__loss': [\"ls\", \"lad\", \"huber\", \"quantile\"],\n",
    "            'model__learning_rate': stats.loguniform(0.001, 10),\n",
    "            'model__n_estimators': stats.randint(1, 300),\n",
    "            \"preprocessor__scaler\": [StandardScaler(), RobustScaler(), MinMaxScaler()]\n",
    "           }\n",
    "#\n",
    "params_GBR = {\"random_grid_search\": grid_GBR,\n",
    "              \"model\": GradientBoostingRegressor()}\n",
    "######################################################"
   ]
  },
  {
   "cell_type": "code",
   "execution_count": 43,
   "id": "8da22a54",
   "metadata": {},
   "outputs": [
    {
     "name": "stdout",
     "output_type": "stream",
     "text": [
      "Fitting 3 folds for each of 20 candidates, totalling 60 fits\n"
     ]
    },
    {
     "name": "stderr",
     "output_type": "stream",
     "text": [
      "/Users/victor/.pyenv/versions/3.9.1/envs/tresboncoin/lib/python3.9/site-packages/sklearn/model_selection/_search.py:922: UserWarning: One or more of the test scores are non-finite: [            -inf -2.35968542e+045  6.90673595e-001  5.68967459e-001\n",
      "  8.19444460e-001  7.82098236e-001  8.54762640e-001  8.40671063e-001\n",
      "  6.74073796e-001  8.57317425e-001  4.06200384e-001  8.37931275e-001\n",
      " -7.76337974e+015 -1.35187188e+290  4.92706328e-001  6.93377470e-004\n",
      " -2.18414134e+295  8.14212663e-001  8.35652401e-001  1.71947448e-001]\n",
      "  warnings.warn(\n",
      "/Users/victor/.pyenv/versions/3.9.1/envs/tresboncoin/lib/python3.9/site-packages/sklearn/model_selection/_search.py:929: RuntimeWarning: invalid value encountered in subtract\n",
      "  array_stds = np.sqrt(np.average((array -\n",
      "/Users/victor/.pyenv/versions/3.9.1/envs/tresboncoin/lib/python3.9/site-packages/sklearn/model_selection/_search.py:929: RuntimeWarning: overflow encountered in square\n",
      "  array_stds = np.sqrt(np.average((array -\n"
     ]
    }
   ],
   "source": [
    "model_optimized_GBR = RandomizedSearchCV(final_pipeline_GBR,\n",
    "                                         grid_GBR,\n",
    "                                         scoring=\"r2\",\n",
    "                                         n_iter=20,\n",
    "                                         cv=3,\n",
    "                                         n_jobs=-1,\n",
    "                                         verbose=1)\n",
    "model_optimized_GBR.fit(X, y)\n",
    "optimized_GBR_r2 = model_optimized_GBR.best_score_"
   ]
  },
  {
   "cell_type": "code",
   "execution_count": 44,
   "id": "6997c394",
   "metadata": {},
   "outputs": [
    {
     "name": "stdout",
     "output_type": "stream",
     "text": [
      "0.8573174248394215\n"
     ]
    }
   ],
   "source": [
    "print(optimized_GBR_r2)"
   ]
  },
  {
   "cell_type": "code",
   "execution_count": 53,
   "id": "66ddeb87",
   "metadata": {},
   "outputs": [
    {
     "data": {
      "text/plain": [
       "{'model__learning_rate': 0.3269108042683677,\n",
       " 'model__n_estimators': 256,\n",
       " 'preprocessor__scaler': RobustScaler()}"
      ]
     },
     "execution_count": 53,
     "metadata": {},
     "output_type": "execute_result"
    }
   ],
   "source": [
    "model_optimized_GBR.best_params_"
   ]
  },
  {
   "cell_type": "markdown",
   "id": "3d7d7ae8",
   "metadata": {},
   "source": [
    "# Best Baseline"
   ]
  },
  {
   "cell_type": "code",
   "execution_count": 45,
   "id": "cfbe471e",
   "metadata": {},
   "outputs": [],
   "source": [
    "from sklearn.linear_model import LinearRegression\n",
    "from sklearn.linear_model import SGDRegressor\n",
    "from sklearn.kernel_ridge import KernelRidge\n",
    "from sklearn.linear_model import ElasticNet\n",
    "from sklearn.linear_model import BayesianRidge\n",
    "from sklearn.ensemble import GradientBoostingRegressor"
   ]
  },
  {
   "cell_type": "code",
   "execution_count": 48,
   "id": "c92903ab",
   "metadata": {},
   "outputs": [],
   "source": [
    "regressors = [LinearRegression(), \n",
    "              SGDRegressor(), \n",
    "              #KernelRidge(), \n",
    "              ElasticNet(), \n",
    "              BayesianRidge(), \n",
    "              GradientBoostingRegressor()]"
   ]
  },
  {
   "cell_type": "code",
   "execution_count": 49,
   "id": "285f9ebb",
   "metadata": {},
   "outputs": [
    {
     "name": "stdout",
     "output_type": "stream",
     "text": [
      "-1.11533097608813e+18 3206642467447.2427\n",
      "0.7408303391861701 2440.2137099747156\n",
      "0.1497854957794803 4440.360049945859\n",
      "0.7409382574219895 2439.3223204876513\n",
      "0.844218556091683 1888.8407056473104\n"
     ]
    }
   ],
   "source": [
    "for K in regressors:\n",
    "    final_pipeline_search = Pipeline([\n",
    "                              (\"preprocessor\", preprocessor),\n",
    "                              ('model', K)\n",
    "                             ])\n",
    "    baseline_search = cross_validate(final_pipeline_search,\n",
    "                          X,\n",
    "                          y,\n",
    "                          scoring={\"rmse\": rmse, \"r2\": \"r2\"},\n",
    "                          cv=3)\n",
    "    baseline_search_r2 = baseline_search['test_r2'].mean()\n",
    "    baseline_search_rmse = -baseline_search['test_rmse'].mean()\n",
    "    print(baseline_search_r2, baseline_search_rmse)"
   ]
  },
  {
   "cell_type": "markdown",
   "id": "beaa573d",
   "metadata": {},
   "source": [
    "# Predict"
   ]
  },
  {
   "cell_type": "code",
   "execution_count": 50,
   "id": "81ea84e3",
   "metadata": {},
   "outputs": [
    {
     "data": {
      "text/plain": [
       "['brand_db', 'bike_year', 'mileage', 'engine_size', 'km/year', 'category_db']"
      ]
     },
     "execution_count": 50,
     "metadata": {},
     "output_type": "execute_result"
    }
   ],
   "source": [
    "list(X.columns)"
   ]
  },
  {
   "cell_type": "code",
   "execution_count": 51,
   "id": "bfff4571",
   "metadata": {},
   "outputs": [],
   "source": [
    "X_pred = pd.DataFrame({\"brand_db\": [\"yamaha\"],\n",
    "                       \"bike_year\": [2019],\n",
    "                       \"mileage\": [10000],\n",
    "                       \"engine_size\": [250],\n",
    "                       \"km/year\": [249],\n",
    "                       })"
   ]
  },
  {
   "cell_type": "code",
   "execution_count": null,
   "id": "cef19ee6",
   "metadata": {
    "scrolled": false
   },
   "outputs": [],
   "source": [
    "model_optimized.best_estimator_.predict(X_pred)"
   ]
  },
  {
   "cell_type": "markdown",
   "id": "917ff2d4",
   "metadata": {},
   "source": [
    "# Baseline with year and mileage"
   ]
  },
  {
   "cell_type": "code",
   "execution_count": 53,
   "id": "e6250d9e",
   "metadata": {},
   "outputs": [
    {
     "data": {
      "text/plain": [
       "(33646, 2)"
      ]
     },
     "execution_count": 53,
     "metadata": {},
     "output_type": "execute_result"
    }
   ],
   "source": [
    "X_baseline_A = data_reduced.copy()[['bike_year','mileage']]\n",
    "X_baseline_A.dropna(inplace=True)\n",
    "y_baseline_A = data_reduced[\"price\"]\n",
    "X_baseline_A.shape"
   ]
  },
  {
   "cell_type": "code",
   "execution_count": 54,
   "id": "a86a1a4f",
   "metadata": {},
   "outputs": [],
   "source": [
    "# full preprocessor pipeline\n",
    "preprocessor_baseline_A = Pipeline([('scaler', MinMaxScaler())])"
   ]
  },
  {
   "cell_type": "code",
   "execution_count": 55,
   "id": "c2795e49",
   "metadata": {},
   "outputs": [],
   "source": [
    "final_pipeline_baseline_A_ETR = Pipeline([(\"preprocessor\", preprocessor_baseline_A),\n",
    "                                          ('model', ExtraTreesRegressor())\n",
    "                                          ])"
   ]
  },
  {
   "cell_type": "code",
   "execution_count": 57,
   "id": "88de807f",
   "metadata": {},
   "outputs": [
    {
     "name": "stdout",
     "output_type": "stream",
     "text": [
      "0.338959919151653 3921.2774701401027\n"
     ]
    }
   ],
   "source": [
    "baseline_A = cross_validate(final_pipeline_baseline_A_ETR,\n",
    "                            X_baseline_A,\n",
    "                            y_baseline_A,\n",
    "                            scoring={\"rmse\": rmse, \"r2\": \"r2\"},\n",
    "                            cv=3)\n",
    "baseline_A_r2 = baseline_A['test_r2'].mean()\n",
    "baseline_A_rmse = -baseline_A['test_rmse'].mean()\n",
    "print(baseline_A_r2, baseline_A_rmse)"
   ]
  },
  {
   "cell_type": "code",
   "execution_count": null,
   "id": "a3098cc2",
   "metadata": {},
   "outputs": [],
   "source": []
  },
  {
   "cell_type": "code",
   "execution_count": null,
   "id": "3deb374a",
   "metadata": {},
   "outputs": [],
   "source": []
  },
  {
   "cell_type": "markdown",
   "id": "ad05e414",
   "metadata": {},
   "source": [
    "# GCS access"
   ]
  },
  {
   "cell_type": "code",
   "execution_count": 75,
   "id": "afc733ee",
   "metadata": {},
   "outputs": [],
   "source": [
    "from google.cloud import storage\n",
    "import joblib\n",
    "from io import BytesIO\n",
    "import os"
   ]
  },
  {
   "cell_type": "code",
   "execution_count": 65,
   "id": "bcdd60dc",
   "metadata": {},
   "outputs": [],
   "source": [
    "storage_client = storage.Client()\n",
    "bucket_name=\"tresboncoin\"\n",
    "model_bucket='model.joblib'\n",
    "\n",
    "bucket = storage_client.get_bucket(bucket_name)\n",
    "\n",
    "#select bucket file\n",
    "blob = bucket.get_blob(model_bucket)\n",
    "\n",
    "#download blob into an in-memory file object\n",
    "model_file = BytesIO()"
   ]
  },
  {
   "cell_type": "code",
   "execution_count": 66,
   "id": "f4839672",
   "metadata": {},
   "outputs": [
    {
     "name": "stdout",
     "output_type": "stream",
     "text": [
      "158839905\n"
     ]
    }
   ],
   "source": [
    "print(blob.size)"
   ]
  },
  {
   "cell_type": "code",
   "execution_count": 29,
   "id": "7a02b6b2",
   "metadata": {},
   "outputs": [
    {
     "data": {
      "text/plain": [
       "64"
      ]
     },
     "execution_count": 29,
     "metadata": {},
     "output_type": "execute_result"
    }
   ],
   "source": [
    "model_file.__sizeof__()"
   ]
  },
  {
   "cell_type": "code",
   "execution_count": 72,
   "id": "08b15ddb",
   "metadata": {},
   "outputs": [],
   "source": [
    "storage_client = storage.Client()\n",
    "bucket_name=\"tresboncoin\"\n",
    "model_bucket='test.joblib'\n",
    "\n",
    "bucket = storage_client.get_bucket(bucket_name)\n",
    "\n",
    "#select bucket file\n",
    "blob = bucket.get_blob(model_bucket)\n",
    "\n",
    "#download blob into an in-memory file object\n",
    "model_file_2 = BytesIO()"
   ]
  },
  {
   "cell_type": "code",
   "execution_count": 73,
   "id": "3d00fcc6",
   "metadata": {},
   "outputs": [
    {
     "name": "stdout",
     "output_type": "stream",
     "text": [
      "213739025\n"
     ]
    }
   ],
   "source": [
    "print(blob.size)"
   ]
  },
  {
   "cell_type": "code",
   "execution_count": 71,
   "id": "33df597c",
   "metadata": {},
   "outputs": [
    {
     "name": "stdout",
     "output_type": "stream",
     "text": [
      "model.joblib test.joblib\r\n"
     ]
    }
   ],
   "source": [
    "!ls ../../models"
   ]
  },
  {
   "cell_type": "code",
   "execution_count": 77,
   "id": "ec2d0269",
   "metadata": {},
   "outputs": [
    {
     "data": {
      "text/plain": [
       "213739025"
      ]
     },
     "execution_count": 77,
     "metadata": {},
     "output_type": "execute_result"
    }
   ],
   "source": [
    "os.path.getsize('../../models/test.joblib') "
   ]
  },
  {
   "cell_type": "code",
   "execution_count": null,
   "id": "cff21db1",
   "metadata": {},
   "outputs": [],
   "source": []
  }
 ],
 "metadata": {
  "kernelspec": {
   "display_name": "Python 3",
   "language": "python",
   "name": "python3"
  },
  "language_info": {
   "codemirror_mode": {
    "name": "ipython",
    "version": 3
   },
   "file_extension": ".py",
   "mimetype": "text/x-python",
   "name": "python",
   "nbconvert_exporter": "python",
   "pygments_lexer": "ipython3",
   "version": "3.9.1"
  },
  "toc": {
   "base_numbering": 1,
   "nav_menu": {},
   "number_sections": true,
   "sideBar": true,
   "skip_h1_title": false,
   "title_cell": "Table of Contents",
   "title_sidebar": "Contents",
   "toc_cell": false,
   "toc_position": {},
   "toc_section_display": true,
   "toc_window_display": false
  },
  "varInspector": {
   "cols": {
    "lenName": 16,
    "lenType": 16,
    "lenVar": 40
   },
   "kernels_config": {
    "python": {
     "delete_cmd_postfix": "",
     "delete_cmd_prefix": "del ",
     "library": "var_list.py",
     "varRefreshCmd": "print(var_dic_list())"
    },
    "r": {
     "delete_cmd_postfix": ") ",
     "delete_cmd_prefix": "rm(",
     "library": "var_list.r",
     "varRefreshCmd": "cat(var_dic_list()) "
    }
   },
   "types_to_exclude": [
    "module",
    "function",
    "builtin_function_or_method",
    "instance",
    "_Feature"
   ],
   "window_display": false
  }
 },
 "nbformat": 4,
 "nbformat_minor": 5
}
