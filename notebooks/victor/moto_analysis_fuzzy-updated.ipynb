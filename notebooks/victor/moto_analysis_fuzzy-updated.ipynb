{
 "cells": [
  {
   "cell_type": "markdown",
   "id": "ee6569e5",
   "metadata": {},
   "source": [
    "# Imports"
   ]
  },
  {
   "cell_type": "code",
   "execution_count": 1,
   "id": "a26bd5ed",
   "metadata": {},
   "outputs": [],
   "source": [
    "import numpy as np\n",
    "import pandas as pd\n",
    "import seaborn as sns\n",
    "import matplotlib.pyplot as plt\n",
    "from scipy import stats\n",
    "from datetime import datetime\n",
    "#\n",
    "from sklearn.impute import SimpleImputer\n",
    "from sklearn.model_selection import RandomizedSearchCV\n",
    "#\n",
    "from sklearn.preprocessing import MinMaxScaler\n",
    "from sklearn.preprocessing import StandardScaler\n",
    "from sklearn.preprocessing import RobustScaler\n",
    "from sklearn.preprocessing import OneHotEncoder\n",
    "from sklearn.pipeline import Pipeline\n",
    "from sklearn.compose import ColumnTransformer\n",
    "#\n",
    "from sklearn.ensemble import GradientBoostingRegressor\n",
    "from sklearn.linear_model import LinearRegression\n",
    "from sklearn.model_selection import cross_validate\n",
    "from sklearn.model_selection import train_test_split\n",
    "from sklearn.metrics import make_scorer\n",
    "from sklearn.ensemble import RandomForestRegressor\n",
    "from sklearn.svm import SVR\n",
    "from sklearn.ensemble import ExtraTreesRegressor\n",
    "from sklearn.neighbors import KNeighborsRegressor"
   ]
  },
  {
   "cell_type": "markdown",
   "id": "04bd3671",
   "metadata": {},
   "source": [
    "# Import csv"
   ]
  },
  {
   "cell_type": "code",
   "execution_count": 2,
   "id": "9ec48a01",
   "metadata": {},
   "outputs": [],
   "source": [
    "data = pd.read_csv(\"../../tresboncoin/data/master_with_fuzzy_and_cleaning_old.csv\")"
   ]
  },
  {
   "cell_type": "markdown",
   "id": "46012775",
   "metadata": {},
   "source": [
    "# Exploring data"
   ]
  },
  {
   "cell_type": "markdown",
   "id": "864a9b0c",
   "metadata": {},
   "source": [
    "## Basic exploration"
   ]
  },
  {
   "cell_type": "code",
   "execution_count": 3,
   "id": "e73897a8",
   "metadata": {},
   "outputs": [
    {
     "data": {
      "text/html": [
       "<div>\n",
       "<style scoped>\n",
       "    .dataframe tbody tr th:only-of-type {\n",
       "        vertical-align: middle;\n",
       "    }\n",
       "\n",
       "    .dataframe tbody tr th {\n",
       "        vertical-align: top;\n",
       "    }\n",
       "\n",
       "    .dataframe thead th {\n",
       "        text-align: right;\n",
       "    }\n",
       "</style>\n",
       "<table border=\"1\" class=\"dataframe\">\n",
       "  <thead>\n",
       "    <tr style=\"text-align: right;\">\n",
       "      <th></th>\n",
       "      <th>url</th>\n",
       "      <th>uniq_id</th>\n",
       "      <th>brand</th>\n",
       "      <th>bike_year</th>\n",
       "      <th>mileage</th>\n",
       "      <th>bike_type</th>\n",
       "      <th>price</th>\n",
       "      <th>model</th>\n",
       "      <th>engine_size</th>\n",
       "      <th>date_scrapped</th>\n",
       "      <th>...</th>\n",
       "      <th>year_db</th>\n",
       "      <th>category_db</th>\n",
       "      <th>engine_type_db</th>\n",
       "      <th>engine_size_db</th>\n",
       "      <th>power_db</th>\n",
       "      <th>torque_db</th>\n",
       "      <th>compression_db</th>\n",
       "      <th>cooling_system_db</th>\n",
       "      <th>dry_weight_db</th>\n",
       "      <th>power/weight_ratio_db</th>\n",
       "    </tr>\n",
       "  </thead>\n",
       "  <tbody>\n",
       "    <tr>\n",
       "      <th>0</th>\n",
       "      <td>https://www.motoplanete.com/occasion-moto/3764...</td>\n",
       "      <td>motoplanete-37642</td>\n",
       "      <td>kawasaki</td>\n",
       "      <td>2021</td>\n",
       "      <td>476.0</td>\n",
       "      <td>Trail</td>\n",
       "      <td>16999.0</td>\n",
       "      <td>versys10002020</td>\n",
       "      <td>1000.0</td>\n",
       "      <td>2021/06/04 - 22h18</td>\n",
       "      <td>...</td>\n",
       "      <td>1990.0</td>\n",
       "      <td>sport touring</td>\n",
       "      <td>in-line four</td>\n",
       "      <td>997.0</td>\n",
       "      <td>92.0</td>\n",
       "      <td>NaN</td>\n",
       "      <td>10.2:1</td>\n",
       "      <td>Liquid</td>\n",
       "      <td>NaN</td>\n",
       "      <td>NaN</td>\n",
       "    </tr>\n",
       "    <tr>\n",
       "      <th>1</th>\n",
       "      <td>https://www.motoplanete.com/occasion-moto/1139...</td>\n",
       "      <td>motoplanete-11392</td>\n",
       "      <td>yamaha</td>\n",
       "      <td>2019</td>\n",
       "      <td>2500.0</td>\n",
       "      <td>Routière &amp; GT</td>\n",
       "      <td>13490.0</td>\n",
       "      <td>niken</td>\n",
       "      <td>847.0</td>\n",
       "      <td>2021/06/04 - 22h18</td>\n",
       "      <td>...</td>\n",
       "      <td>2018.0</td>\n",
       "      <td>naked bike</td>\n",
       "      <td>in-line three</td>\n",
       "      <td>847.0</td>\n",
       "      <td>115.0</td>\n",
       "      <td>61.5</td>\n",
       "      <td>11.5:1</td>\n",
       "      <td>Liquid</td>\n",
       "      <td>NaN</td>\n",
       "      <td>NaN</td>\n",
       "    </tr>\n",
       "    <tr>\n",
       "      <th>2</th>\n",
       "      <td>https://www.motoplanete.com/occasion-moto/1536...</td>\n",
       "      <td>motoplanete-15360</td>\n",
       "      <td>yamaha</td>\n",
       "      <td>2016</td>\n",
       "      <td>2600.0</td>\n",
       "      <td>Custom</td>\n",
       "      <td>8500.0</td>\n",
       "      <td>xv950bolt</td>\n",
       "      <td>950.0</td>\n",
       "      <td>2021/06/04 - 22h18</td>\n",
       "      <td>...</td>\n",
       "      <td>2021.0</td>\n",
       "      <td>custom / cruiser</td>\n",
       "      <td>v2</td>\n",
       "      <td>942.0</td>\n",
       "      <td>NaN</td>\n",
       "      <td>80.4</td>\n",
       "      <td>9.0:1</td>\n",
       "      <td>Air</td>\n",
       "      <td>NaN</td>\n",
       "      <td>NaN</td>\n",
       "    </tr>\n",
       "    <tr>\n",
       "      <th>3</th>\n",
       "      <td>https://www.motoplanete.com/occasion-moto/4082...</td>\n",
       "      <td>motoplanete-40822</td>\n",
       "      <td>kawasaki</td>\n",
       "      <td>2009</td>\n",
       "      <td>20000.0</td>\n",
       "      <td>Routière &amp; GT</td>\n",
       "      <td>8490.0</td>\n",
       "      <td>zzr</td>\n",
       "      <td>1400.0</td>\n",
       "      <td>2021/06/04 - 22h18</td>\n",
       "      <td>...</td>\n",
       "      <td>2015.0</td>\n",
       "      <td>sport</td>\n",
       "      <td>in-line four</td>\n",
       "      <td>1441.0</td>\n",
       "      <td>200.0</td>\n",
       "      <td>162.5</td>\n",
       "      <td>12.3:1</td>\n",
       "      <td>Liquid</td>\n",
       "      <td>NaN</td>\n",
       "      <td>NaN</td>\n",
       "    </tr>\n",
       "    <tr>\n",
       "      <th>4</th>\n",
       "      <td>https://www.motoplanete.com/occasion-moto/3248...</td>\n",
       "      <td>motoplanete-32485</td>\n",
       "      <td>harleydavidson</td>\n",
       "      <td>2014</td>\n",
       "      <td>11500.0</td>\n",
       "      <td>Custom</td>\n",
       "      <td>17200.0</td>\n",
       "      <td>softailslim</td>\n",
       "      <td>1584.0</td>\n",
       "      <td>2021/06/04 - 22h18</td>\n",
       "      <td>...</td>\n",
       "      <td>2016.0</td>\n",
       "      <td>custom / cruiser</td>\n",
       "      <td>v2</td>\n",
       "      <td>1801.0</td>\n",
       "      <td>92.5</td>\n",
       "      <td>145.0</td>\n",
       "      <td>9.5:1</td>\n",
       "      <td>Air</td>\n",
       "      <td>308.0</td>\n",
       "      <td>0.3003</td>\n",
       "    </tr>\n",
       "    <tr>\n",
       "      <th>5</th>\n",
       "      <td>https://www.motoplanete.com/occasion-moto/3299...</td>\n",
       "      <td>motoplanete-32992</td>\n",
       "      <td>ducati</td>\n",
       "      <td>2004</td>\n",
       "      <td>73301.0</td>\n",
       "      <td>Routière &amp; GT</td>\n",
       "      <td>2999.0</td>\n",
       "      <td>st3</td>\n",
       "      <td>992.0</td>\n",
       "      <td>2021/06/04 - 22h18</td>\n",
       "      <td>...</td>\n",
       "      <td>2004.0</td>\n",
       "      <td>sport touring</td>\n",
       "      <td>v2</td>\n",
       "      <td>992.0</td>\n",
       "      <td>102.0</td>\n",
       "      <td>93.0</td>\n",
       "      <td>10.0:1</td>\n",
       "      <td>Liquid</td>\n",
       "      <td>NaN</td>\n",
       "      <td>NaN</td>\n",
       "    </tr>\n",
       "    <tr>\n",
       "      <th>6</th>\n",
       "      <td>https://www.motoplanete.com/occasion-moto/4225...</td>\n",
       "      <td>motoplanete-42257</td>\n",
       "      <td>ducati</td>\n",
       "      <td>2019</td>\n",
       "      <td>750.0</td>\n",
       "      <td>Roadster</td>\n",
       "      <td>10500.0</td>\n",
       "      <td>monster821</td>\n",
       "      <td>821.0</td>\n",
       "      <td>2021/06/04 - 22h18</td>\n",
       "      <td>...</td>\n",
       "      <td>2019.0</td>\n",
       "      <td>naked bike</td>\n",
       "      <td>v2</td>\n",
       "      <td>821.0</td>\n",
       "      <td>109.0</td>\n",
       "      <td>86.0</td>\n",
       "      <td>12.8:1</td>\n",
       "      <td>Air</td>\n",
       "      <td>180.5</td>\n",
       "      <td>0.6039</td>\n",
       "    </tr>\n",
       "    <tr>\n",
       "      <th>7</th>\n",
       "      <td>https://www.motoplanete.com/occasion-moto/4156...</td>\n",
       "      <td>motoplanete-41568</td>\n",
       "      <td>kawasaki</td>\n",
       "      <td>2016</td>\n",
       "      <td>23717.0</td>\n",
       "      <td>Sportive</td>\n",
       "      <td>11990.0</td>\n",
       "      <td>zzr1400</td>\n",
       "      <td>1400.0</td>\n",
       "      <td>2021/06/04 - 22h18</td>\n",
       "      <td>...</td>\n",
       "      <td>2015.0</td>\n",
       "      <td>sport</td>\n",
       "      <td>in-line four</td>\n",
       "      <td>1441.0</td>\n",
       "      <td>200.0</td>\n",
       "      <td>162.5</td>\n",
       "      <td>12.3:1</td>\n",
       "      <td>Liquid</td>\n",
       "      <td>NaN</td>\n",
       "      <td>NaN</td>\n",
       "    </tr>\n",
       "    <tr>\n",
       "      <th>8</th>\n",
       "      <td>https://www.motoplanete.com/occasion-moto/4212...</td>\n",
       "      <td>motoplanete-42127</td>\n",
       "      <td>suzuki</td>\n",
       "      <td>2018</td>\n",
       "      <td>12250.0</td>\n",
       "      <td>Trail</td>\n",
       "      <td>9990.0</td>\n",
       "      <td>dl1000vstrom</td>\n",
       "      <td>1000.0</td>\n",
       "      <td>2021/06/04 - 22h18</td>\n",
       "      <td>...</td>\n",
       "      <td>2003.0</td>\n",
       "      <td>enduro / offroad</td>\n",
       "      <td>v2</td>\n",
       "      <td>996.0</td>\n",
       "      <td>98.0</td>\n",
       "      <td>101.0</td>\n",
       "      <td>11.3:1</td>\n",
       "      <td>Liquid</td>\n",
       "      <td>207.0</td>\n",
       "      <td>0.4734</td>\n",
       "    </tr>\n",
       "    <tr>\n",
       "      <th>9</th>\n",
       "      <td>https://www.motoplanete.com/occasion-moto/2904...</td>\n",
       "      <td>motoplanete-29049</td>\n",
       "      <td>motoguzzi</td>\n",
       "      <td>2010</td>\n",
       "      <td>8407.0</td>\n",
       "      <td>Routière &amp; GT</td>\n",
       "      <td>7490.0</td>\n",
       "      <td>norge1200</td>\n",
       "      <td>1200.0</td>\n",
       "      <td>2021/06/04 - 22h18</td>\n",
       "      <td>...</td>\n",
       "      <td>2009.0</td>\n",
       "      <td>touring</td>\n",
       "      <td>v2</td>\n",
       "      <td>1151.0</td>\n",
       "      <td>88.5</td>\n",
       "      <td>100.0</td>\n",
       "      <td>9.8:1</td>\n",
       "      <td>Air</td>\n",
       "      <td>246.0</td>\n",
       "      <td>0.3598</td>\n",
       "    </tr>\n",
       "    <tr>\n",
       "      <th>10</th>\n",
       "      <td>https://www.motoplanete.com/occasion-moto/4194...</td>\n",
       "      <td>motoplanete-41942</td>\n",
       "      <td>ducati</td>\n",
       "      <td>2013</td>\n",
       "      <td>57994.0</td>\n",
       "      <td>Trail</td>\n",
       "      <td>5800.0</td>\n",
       "      <td>hyperstrada</td>\n",
       "      <td>821.0</td>\n",
       "      <td>2021/06/04 - 22h18</td>\n",
       "      <td>...</td>\n",
       "      <td>2013.0</td>\n",
       "      <td>sport touring</td>\n",
       "      <td>v2</td>\n",
       "      <td>821.1</td>\n",
       "      <td>110.0</td>\n",
       "      <td>89.0</td>\n",
       "      <td>12.8:1</td>\n",
       "      <td>Liquid</td>\n",
       "      <td>181.0</td>\n",
       "      <td>0.6077</td>\n",
       "    </tr>\n",
       "    <tr>\n",
       "      <th>11</th>\n",
       "      <td>https://www.motoplanete.com/occasion-moto/4069...</td>\n",
       "      <td>motoplanete-40690</td>\n",
       "      <td>husqvarna</td>\n",
       "      <td>2021</td>\n",
       "      <td>550.0</td>\n",
       "      <td>Roadster</td>\n",
       "      <td>5299.0</td>\n",
       "      <td>401vitpilen2020</td>\n",
       "      <td>373.0</td>\n",
       "      <td>2021/06/04 - 22h18</td>\n",
       "      <td>...</td>\n",
       "      <td>2016.0</td>\n",
       "      <td>prototype / concept model</td>\n",
       "      <td>single cylinder</td>\n",
       "      <td>690.0</td>\n",
       "      <td>73.0</td>\n",
       "      <td>NaN</td>\n",
       "      <td>NaN</td>\n",
       "      <td>Liquid</td>\n",
       "      <td>NaN</td>\n",
       "      <td>NaN</td>\n",
       "    </tr>\n",
       "  </tbody>\n",
       "</table>\n",
       "<p>12 rows × 23 columns</p>\n",
       "</div>"
      ],
      "text/plain": [
       "                                                  url            uniq_id  \\\n",
       "0   https://www.motoplanete.com/occasion-moto/3764...  motoplanete-37642   \n",
       "1   https://www.motoplanete.com/occasion-moto/1139...  motoplanete-11392   \n",
       "2   https://www.motoplanete.com/occasion-moto/1536...  motoplanete-15360   \n",
       "3   https://www.motoplanete.com/occasion-moto/4082...  motoplanete-40822   \n",
       "4   https://www.motoplanete.com/occasion-moto/3248...  motoplanete-32485   \n",
       "5   https://www.motoplanete.com/occasion-moto/3299...  motoplanete-32992   \n",
       "6   https://www.motoplanete.com/occasion-moto/4225...  motoplanete-42257   \n",
       "7   https://www.motoplanete.com/occasion-moto/4156...  motoplanete-41568   \n",
       "8   https://www.motoplanete.com/occasion-moto/4212...  motoplanete-42127   \n",
       "9   https://www.motoplanete.com/occasion-moto/2904...  motoplanete-29049   \n",
       "10  https://www.motoplanete.com/occasion-moto/4194...  motoplanete-41942   \n",
       "11  https://www.motoplanete.com/occasion-moto/4069...  motoplanete-40690   \n",
       "\n",
       "             brand  bike_year  mileage      bike_type    price  \\\n",
       "0         kawasaki       2021    476.0          Trail  16999.0   \n",
       "1           yamaha       2019   2500.0  Routière & GT  13490.0   \n",
       "2           yamaha       2016   2600.0         Custom   8500.0   \n",
       "3         kawasaki       2009  20000.0  Routière & GT   8490.0   \n",
       "4   harleydavidson       2014  11500.0         Custom  17200.0   \n",
       "5           ducati       2004  73301.0  Routière & GT   2999.0   \n",
       "6           ducati       2019    750.0       Roadster  10500.0   \n",
       "7         kawasaki       2016  23717.0       Sportive  11990.0   \n",
       "8           suzuki       2018  12250.0          Trail   9990.0   \n",
       "9        motoguzzi       2010   8407.0  Routière & GT   7490.0   \n",
       "10          ducati       2013  57994.0          Trail   5800.0   \n",
       "11       husqvarna       2021    550.0       Roadster   5299.0   \n",
       "\n",
       "              model  engine_size       date_scrapped  ... year_db  \\\n",
       "0    versys10002020       1000.0  2021/06/04 - 22h18  ...  1990.0   \n",
       "1             niken        847.0  2021/06/04 - 22h18  ...  2018.0   \n",
       "2         xv950bolt        950.0  2021/06/04 - 22h18  ...  2021.0   \n",
       "3               zzr       1400.0  2021/06/04 - 22h18  ...  2015.0   \n",
       "4       softailslim       1584.0  2021/06/04 - 22h18  ...  2016.0   \n",
       "5               st3        992.0  2021/06/04 - 22h18  ...  2004.0   \n",
       "6        monster821        821.0  2021/06/04 - 22h18  ...  2019.0   \n",
       "7           zzr1400       1400.0  2021/06/04 - 22h18  ...  2015.0   \n",
       "8      dl1000vstrom       1000.0  2021/06/04 - 22h18  ...  2003.0   \n",
       "9         norge1200       1200.0  2021/06/04 - 22h18  ...  2009.0   \n",
       "10      hyperstrada        821.0  2021/06/04 - 22h18  ...  2013.0   \n",
       "11  401vitpilen2020        373.0  2021/06/04 - 22h18  ...  2016.0   \n",
       "\n",
       "                  category_db   engine_type_db  engine_size_db power_db  \\\n",
       "0               sport touring     in-line four           997.0     92.0   \n",
       "1                  naked bike    in-line three           847.0    115.0   \n",
       "2            custom / cruiser               v2           942.0      NaN   \n",
       "3                       sport     in-line four          1441.0    200.0   \n",
       "4            custom / cruiser               v2          1801.0     92.5   \n",
       "5               sport touring               v2           992.0    102.0   \n",
       "6                  naked bike               v2           821.0    109.0   \n",
       "7                       sport     in-line four          1441.0    200.0   \n",
       "8            enduro / offroad               v2           996.0     98.0   \n",
       "9                     touring               v2          1151.0     88.5   \n",
       "10              sport touring               v2           821.1    110.0   \n",
       "11  prototype / concept model  single cylinder           690.0     73.0   \n",
       "\n",
       "   torque_db  compression_db  cooling_system_db  dry_weight_db  \\\n",
       "0        NaN          10.2:1             Liquid            NaN   \n",
       "1       61.5          11.5:1             Liquid            NaN   \n",
       "2       80.4           9.0:1                Air            NaN   \n",
       "3      162.5          12.3:1             Liquid            NaN   \n",
       "4      145.0           9.5:1                Air          308.0   \n",
       "5       93.0          10.0:1             Liquid            NaN   \n",
       "6       86.0          12.8:1                Air          180.5   \n",
       "7      162.5          12.3:1             Liquid            NaN   \n",
       "8      101.0          11.3:1             Liquid          207.0   \n",
       "9      100.0           9.8:1                Air          246.0   \n",
       "10      89.0          12.8:1             Liquid          181.0   \n",
       "11       NaN             NaN             Liquid            NaN   \n",
       "\n",
       "   power/weight_ratio_db  \n",
       "0                    NaN  \n",
       "1                    NaN  \n",
       "2                    NaN  \n",
       "3                    NaN  \n",
       "4                 0.3003  \n",
       "5                    NaN  \n",
       "6                 0.6039  \n",
       "7                    NaN  \n",
       "8                 0.4734  \n",
       "9                 0.3598  \n",
       "10                0.6077  \n",
       "11                   NaN  \n",
       "\n",
       "[12 rows x 23 columns]"
      ]
     },
     "execution_count": 3,
     "metadata": {},
     "output_type": "execute_result"
    }
   ],
   "source": [
    "data.head(12)"
   ]
  },
  {
   "cell_type": "code",
   "execution_count": 4,
   "id": "ed263585",
   "metadata": {},
   "outputs": [
    {
     "data": {
      "text/plain": [
       "(12515, 23)"
      ]
     },
     "execution_count": 4,
     "metadata": {},
     "output_type": "execute_result"
    }
   ],
   "source": [
    "data.shape"
   ]
  },
  {
   "cell_type": "code",
   "execution_count": 5,
   "id": "c8906c6f",
   "metadata": {},
   "outputs": [
    {
     "data": {
      "text/plain": [
       "scooter                      3173\n",
       "naked bike                   1858\n",
       "sport                        1670\n",
       "sport touring                1007\n",
       "allround                      940\n",
       "touring                       849\n",
       "enduro / offroad              795\n",
       "classic                       678\n",
       "custom / cruiser              621\n",
       "super motard                  471\n",
       "cross / motocross             156\n",
       "unspecified category          130\n",
       "atv                            63\n",
       "prototype / concept model      53\n",
       "trial                          38\n",
       "minibike, cross                13\n",
       "Name: category_db, dtype: int64"
      ]
     },
     "execution_count": 5,
     "metadata": {},
     "output_type": "execute_result"
    }
   ],
   "source": [
    "data[\"category_db\"].value_counts()"
   ]
  },
  {
   "cell_type": "markdown",
   "id": "1d0e5733",
   "metadata": {},
   "source": [
    "## Duplicates"
   ]
  },
  {
   "cell_type": "code",
   "execution_count": 6,
   "id": "ce0d6b64",
   "metadata": {},
   "outputs": [
    {
     "name": "stdout",
     "output_type": "stream",
     "text": [
      "0 duplicates were removed.\n"
     ]
    }
   ],
   "source": [
    "size_before = len(data)\n",
    "data = data.drop_duplicates()\n",
    "size_after = len(data)\n",
    "print(str(size_before - size_after) + \" duplicates were removed.\")"
   ]
  },
  {
   "cell_type": "markdown",
   "id": "1cd92a3d",
   "metadata": {},
   "source": [
    "## Missing"
   ]
  },
  {
   "cell_type": "code",
   "execution_count": 7,
   "id": "480a7d73",
   "metadata": {},
   "outputs": [
    {
     "data": {
      "text/plain": [
       "power/weight_ratio_db    54.542549\n",
       "dry_weight_db            47.854575\n",
       "torque_db                26.480224\n",
       "compression_db           24.586496\n",
       "power_db                 16.124650\n",
       "cooling_system_db         5.769077\n",
       "bike_type                 1.070715\n",
       "engine_size_db            0.407511\n",
       "url                       0.047942\n",
       "engine_type_db            0.015981\n",
       "date_scrapped             0.000000\n",
       "brand_db                  0.000000\n",
       "uniq_id                   0.000000\n",
       "model_submodel_db         0.000000\n",
       "year_db                   0.000000\n",
       "category_db               0.000000\n",
       "engine_size               0.000000\n",
       "model                     0.000000\n",
       "price                     0.000000\n",
       "mileage                   0.000000\n",
       "bike_year                 0.000000\n",
       "brand                     0.000000\n",
       "model_db                  0.000000\n",
       "dtype: float64"
      ]
     },
     "execution_count": 7,
     "metadata": {},
     "output_type": "execute_result"
    }
   ],
   "source": [
    "100 * data.isnull().sum().sort_values(ascending=False)/len(data)"
   ]
  },
  {
   "cell_type": "markdown",
   "id": "62355900",
   "metadata": {},
   "source": [
    "## Distribution and outliers"
   ]
  },
  {
   "cell_type": "code",
   "execution_count": 8,
   "id": "ffb796d3",
   "metadata": {},
   "outputs": [
    {
     "data": {
      "image/png": "[encoded data removed]",
      "text/plain": [
       "<Figure size 1152x360 with 1 Axes>"
      ]
     },
     "metadata": {
      "needs_background": "light"
     },
     "output_type": "display_data"
    }
   ],
   "source": [
    "fig = plt.figure(figsize=(16, 5))\n",
    "sns.histplot(data[\"mileage\"], palette='Blues', stat='density', bins=1000)\n",
    "sns.kdeplot(data[\"mileage\"], color='red')\n",
    "plt.xlim(0, 150000);"
   ]
  },
  {
   "cell_type": "code",
   "execution_count": 9,
   "id": "301c90d3",
   "metadata": {},
   "outputs": [
    {
     "data": {
      "image/png": "[encoded data removed]",
      "text/plain": [
       "<Figure size 1152x360 with 1 Axes>"
      ]
     },
     "metadata": {
      "needs_background": "light"
     },
     "output_type": "display_data"
    }
   ],
   "source": [
    "fig = plt.figure(figsize=(16, 5))\n",
    "sns.histplot(data[\"bike_year\"], palette='Blues', stat='density', bins=150)\n",
    "sns.kdeplot(data[\"bike_year\"], color='red')\n",
    "plt.xlim(1960, 2025);"
   ]
  },
  {
   "cell_type": "code",
   "execution_count": 10,
   "id": "4343a462",
   "metadata": {},
   "outputs": [
    {
     "data": {
      "image/png": "[encoded data removed]",
      "text/plain": [
       "<Figure size 1152x360 with 1 Axes>"
      ]
     },
     "metadata": {
      "needs_background": "light"
     },
     "output_type": "display_data"
    }
   ],
   "source": [
    "fig = plt.figure(figsize=(16, 5))\n",
    "sns.histplot(data[\"price\"], palette='Blues', stat='density', bins=40)\n",
    "sns.kdeplot(data[\"price\"], color='red')\n",
    "plt.xlim(0, 50000);"
   ]
  },
  {
   "cell_type": "code",
   "execution_count": 11,
   "id": "9684f15b",
   "metadata": {},
   "outputs": [
    {
     "data": {
      "text/plain": [
       "(0.0, 75000.0)"
      ]
     },
     "execution_count": 11,
     "metadata": {},
     "output_type": "execute_result"
    },
    {
     "data": {
      "image/png": "[encoded data removed]",
      "text/plain": [
       "<Figure size 432x288 with 1 Axes>"
      ]
     },
     "metadata": {
      "needs_background": "light"
     },
     "output_type": "display_data"
    }
   ],
   "source": [
    "sns.boxplot(y=data[\"mileage\"], palette=\"Blues\");\n",
    "plt.ylim(0, 75000)"
   ]
  },
  {
   "cell_type": "code",
   "execution_count": 12,
   "id": "90d40b11",
   "metadata": {},
   "outputs": [
    {
     "data": {
      "text/plain": [
       "(1960.0, 2022.0)"
      ]
     },
     "execution_count": 12,
     "metadata": {},
     "output_type": "execute_result"
    },
    {
     "data": {
      "image/png": "[encoded data removed]",
      "text/plain": [
       "<Figure size 432x288 with 1 Axes>"
      ]
     },
     "metadata": {
      "needs_background": "light"
     },
     "output_type": "display_data"
    }
   ],
   "source": [
    "sns.boxplot(y=data[\"bike_year\"], palette=\"Blues\");\n",
    "plt.ylim(1960, 2022)"
   ]
  },
  {
   "cell_type": "code",
   "execution_count": 13,
   "id": "bef945fa",
   "metadata": {},
   "outputs": [
    {
     "data": {
      "text/plain": [
       "(0.0, 50000.0)"
      ]
     },
     "execution_count": 13,
     "metadata": {},
     "output_type": "execute_result"
    },
    {
     "data": {
      "image/png": "[encoded data removed]",
      "text/plain": [
       "<Figure size 432x288 with 1 Axes>"
      ]
     },
     "metadata": {
      "needs_background": "light"
     },
     "output_type": "display_data"
    }
   ],
   "source": [
    "sns.boxplot(y=data[\"price\"], palette=\"Blues\");\n",
    "plt.ylim(0, 50000)"
   ]
  },
  {
   "cell_type": "markdown",
   "id": "aba35e4d",
   "metadata": {},
   "source": [
    "# Cleaning"
   ]
  },
  {
   "cell_type": "code",
   "execution_count": 14,
   "id": "c9f5a15c",
   "metadata": {},
   "outputs": [],
   "source": [
    "data = pd.read_csv(\"../../tresboncoin/data/master_with_fuzzy_and_cleaning_old.csv\")"
   ]
  },
  {
   "cell_type": "code",
   "execution_count": 15,
   "id": "2047515b",
   "metadata": {},
   "outputs": [
    {
     "data": {
      "text/plain": [
       "Index(['url', 'uniq_id', 'brand', 'bike_year', 'mileage', 'bike_type', 'price',\n",
       "       'model', 'engine_size', 'date_scrapped', 'brand_db', 'model_db',\n",
       "       'model_submodel_db', 'year_db', 'category_db', 'engine_type_db',\n",
       "       'engine_size_db', 'power_db', 'torque_db', 'compression_db',\n",
       "       'cooling_system_db', 'dry_weight_db', 'power/weight_ratio_db'],\n",
       "      dtype='object')"
      ]
     },
     "execution_count": 15,
     "metadata": {},
     "output_type": "execute_result"
    }
   ],
   "source": [
    "data.columns"
   ]
  },
  {
   "cell_type": "code",
   "execution_count": 16,
   "id": "e7253bc2",
   "metadata": {},
   "outputs": [],
   "source": [
    "#data = data[~data[\"brand_db\"].isnull()]\n",
    "#data = data[~data[\"model_db\"].isnull()]\n",
    "#data = data[~data[\"type_db\"].isnull()]\n",
    "data = data[~data[\"category_db\"].isnull()]\n",
    "data = data[(data[\"bike_year\"]>=1970) & (data[\"bike_year\"]<=2022)]\n",
    "data = data[(data[\"mileage\"]>=1000) & (data[\"mileage\"]<=80000)]\n",
    "data = data[(data[\"price\"]>=1000) & (data[\"price\"]<30000)]"
   ]
  },
  {
   "cell_type": "code",
   "execution_count": 17,
   "id": "a6f5b1f1",
   "metadata": {},
   "outputs": [],
   "source": [
    "def km_per_year(km, bike_year):\n",
    "    if (datetime.now().year - bike_year) == 0:\n",
    "        return km\n",
    "    return km / (datetime.now().year - bike_year)"
   ]
  },
  {
   "cell_type": "code",
   "execution_count": 18,
   "id": "9f1641cf",
   "metadata": {},
   "outputs": [],
   "source": [
    "#data.drop(['url', 'uniq_id', 'model_db', 'brand', \"model\", \"brand_db\"], axis=1, inplace=True)\n",
    "data['km/year'] = data.apply(lambda x: km_per_year(x['mileage'], x['bike_year']), axis=1)"
   ]
  },
  {
   "cell_type": "code",
   "execution_count": 19,
   "id": "ca605792",
   "metadata": {},
   "outputs": [
    {
     "data": {
      "text/html": [
       "<div>\n",
       "<style scoped>\n",
       "    .dataframe tbody tr th:only-of-type {\n",
       "        vertical-align: middle;\n",
       "    }\n",
       "\n",
       "    .dataframe tbody tr th {\n",
       "        vertical-align: top;\n",
       "    }\n",
       "\n",
       "    .dataframe thead th {\n",
       "        text-align: right;\n",
       "    }\n",
       "</style>\n",
       "<table border=\"1\" class=\"dataframe\">\n",
       "  <thead>\n",
       "    <tr style=\"text-align: right;\">\n",
       "      <th></th>\n",
       "      <th>url</th>\n",
       "      <th>uniq_id</th>\n",
       "      <th>brand</th>\n",
       "      <th>bike_year</th>\n",
       "      <th>mileage</th>\n",
       "      <th>bike_type</th>\n",
       "      <th>price</th>\n",
       "      <th>model</th>\n",
       "      <th>engine_size</th>\n",
       "      <th>date_scrapped</th>\n",
       "      <th>...</th>\n",
       "      <th>category_db</th>\n",
       "      <th>engine_type_db</th>\n",
       "      <th>engine_size_db</th>\n",
       "      <th>power_db</th>\n",
       "      <th>torque_db</th>\n",
       "      <th>compression_db</th>\n",
       "      <th>cooling_system_db</th>\n",
       "      <th>dry_weight_db</th>\n",
       "      <th>power/weight_ratio_db</th>\n",
       "      <th>km/year</th>\n",
       "    </tr>\n",
       "  </thead>\n",
       "  <tbody>\n",
       "    <tr>\n",
       "      <th>1</th>\n",
       "      <td>https://www.motoplanete.com/occasion-moto/1139...</td>\n",
       "      <td>motoplanete-11392</td>\n",
       "      <td>yamaha</td>\n",
       "      <td>2019</td>\n",
       "      <td>2500.0</td>\n",
       "      <td>Routière &amp; GT</td>\n",
       "      <td>13490.0</td>\n",
       "      <td>niken</td>\n",
       "      <td>847.0</td>\n",
       "      <td>2021/06/04 - 22h18</td>\n",
       "      <td>...</td>\n",
       "      <td>naked bike</td>\n",
       "      <td>in-line three</td>\n",
       "      <td>847.0</td>\n",
       "      <td>115.0</td>\n",
       "      <td>61.5</td>\n",
       "      <td>11.5:1</td>\n",
       "      <td>Liquid</td>\n",
       "      <td>NaN</td>\n",
       "      <td>NaN</td>\n",
       "      <td>1250.0</td>\n",
       "    </tr>\n",
       "  </tbody>\n",
       "</table>\n",
       "<p>1 rows × 24 columns</p>\n",
       "</div>"
      ],
      "text/plain": [
       "                                                 url            uniq_id  \\\n",
       "1  https://www.motoplanete.com/occasion-moto/1139...  motoplanete-11392   \n",
       "\n",
       "    brand  bike_year  mileage      bike_type    price  model  engine_size  \\\n",
       "1  yamaha       2019   2500.0  Routière & GT  13490.0  niken        847.0   \n",
       "\n",
       "        date_scrapped  ... category_db engine_type_db engine_size_db  \\\n",
       "1  2021/06/04 - 22h18  ...  naked bike  in-line three          847.0   \n",
       "\n",
       "   power_db torque_db compression_db  cooling_system_db  dry_weight_db  \\\n",
       "1     115.0      61.5         11.5:1             Liquid            NaN   \n",
       "\n",
       "   power/weight_ratio_db km/year  \n",
       "1                    NaN  1250.0  \n",
       "\n",
       "[1 rows x 24 columns]"
      ]
     },
     "execution_count": 19,
     "metadata": {},
     "output_type": "execute_result"
    }
   ],
   "source": [
    "data.head(1)"
   ]
  },
  {
   "cell_type": "markdown",
   "id": "892c566a",
   "metadata": {},
   "source": [
    "\n",
    "# Preparing model inputs"
   ]
  },
  {
   "cell_type": "code",
   "execution_count": 161,
   "id": "f9895b82",
   "metadata": {},
   "outputs": [
    {
     "data": {
      "text/plain": [
       "(84, 1)"
      ]
     },
     "execution_count": 161,
     "metadata": {},
     "output_type": "execute_result"
    }
   ],
   "source": [
    "pd.DataFrame(data[\"brand_db\"].value_counts()).shape"
   ]
  },
  {
   "cell_type": "code",
   "execution_count": 162,
   "id": "33cb458c",
   "metadata": {},
   "outputs": [],
   "source": [
    "data_reduced = data[data[\"brand_db\"].isin(list(pd.DataFrame(data[\"brand_db\"].value_counts())[0:50].index))]"
   ]
  },
  {
   "cell_type": "code",
   "execution_count": 163,
   "id": "2903bffe",
   "metadata": {},
   "outputs": [
    {
     "data": {
      "text/plain": [
       "(10491, 5)"
      ]
     },
     "execution_count": 163,
     "metadata": {},
     "output_type": "execute_result"
    }
   ],
   "source": [
    "X = data_reduced.copy()[['brand_db', 'bike_year','mileage','engine_size','km/year']]\n",
    "X.dropna(inplace=True)\n",
    "y = data_reduced[\"price\"]\n",
    "X.shape"
   ]
  },
  {
   "cell_type": "code",
   "execution_count": 164,
   "id": "5c75ee35",
   "metadata": {},
   "outputs": [
    {
     "data": {
      "text/plain": [
       "brand_db       0.0\n",
       "bike_year      0.0\n",
       "mileage        0.0\n",
       "engine_size    0.0\n",
       "km/year        0.0\n",
       "dtype: float64"
      ]
     },
     "execution_count": 164,
     "metadata": {},
     "output_type": "execute_result"
    }
   ],
   "source": [
    "100 * X.isnull().sum().sort_values(ascending=False)/len(X)"
   ]
  },
  {
   "cell_type": "markdown",
   "id": "42811261",
   "metadata": {},
   "source": [
    "# Pipelines"
   ]
  },
  {
   "cell_type": "code",
   "execution_count": 174,
   "id": "8a7dd934",
   "metadata": {},
   "outputs": [],
   "source": [
    "pipe_multiclass = Pipeline([\n",
    "    ('encoder', OneHotEncoder(sparse=False, handle_unknown=\"ignore\"))\n",
    "])"
   ]
  },
  {
   "cell_type": "code",
   "execution_count": 175,
   "id": "59789368",
   "metadata": {},
   "outputs": [
    {
     "data": {
      "text/plain": [
       "['brand_db', 'bike_year', 'mileage', 'engine_size', 'km/year']"
      ]
     },
     "execution_count": 175,
     "metadata": {},
     "output_type": "execute_result"
    }
   ],
   "source": [
    "list(X.columns)"
   ]
  },
  {
   "cell_type": "code",
   "execution_count": 176,
   "id": "ca0b312d",
   "metadata": {},
   "outputs": [],
   "source": [
    "# applying encoder\n",
    "encoder = ColumnTransformer([\n",
    "    ('textual', pipe_multiclass, [\"brand_db\"])\n",
    "], remainder='passthrough')"
   ]
  },
  {
   "cell_type": "code",
   "execution_count": 177,
   "id": "11ffda87",
   "metadata": {},
   "outputs": [],
   "source": [
    "# full preprocessor pipeline\n",
    "preprocessor = Pipeline([(\"encoder\", encoder),\n",
    "                         ('scaler', MinMaxScaler())])"
   ]
  },
  {
   "cell_type": "code",
   "execution_count": 178,
   "id": "bc6fb105",
   "metadata": {},
   "outputs": [],
   "source": [
    "#output_pipe_columns = [\"category_db_dual sport\", \"category_db_off-road\", \"category_db_scooter\", \"category_db_street\", 'bike_year', 'mileage', 'km/year']"
   ]
  },
  {
   "cell_type": "code",
   "execution_count": 179,
   "id": "8589a3f4",
   "metadata": {},
   "outputs": [],
   "source": [
    "#X_train_scaled = pd.DataFrame(preprocessor.fit_transform(X), columns=output_pipe_columns)\n",
    "#X_train_scaled.tail()"
   ]
  },
  {
   "cell_type": "code",
   "execution_count": 194,
   "id": "4b419ae2",
   "metadata": {},
   "outputs": [],
   "source": [
    "final_pipeline_ETR = Pipeline([\n",
    "                          (\"preprocessor\", preprocessor),\n",
    "                          ('model', ExtraTreesRegressor())\n",
    "                         ])"
   ]
  },
  {
   "cell_type": "code",
   "execution_count": 204,
   "id": "c120fd1d",
   "metadata": {},
   "outputs": [],
   "source": [
    "final_pipeline_KNN = Pipeline([\n",
    "                          (\"preprocessor\", preprocessor),\n",
    "                          ('model', KNeighborsRegressor(n_neighbors=2))\n",
    "                         ])"
   ]
  },
  {
   "cell_type": "code",
   "execution_count": null,
   "id": "fa6c2c36",
   "metadata": {},
   "outputs": [],
   "source": [
    "def custom_rmse(y_true, y_pred):\n",
    "    return np.sqrt(np.mean(np.square(y_true - y_pred)))\n",
    "rmse = make_scorer(custom_rmse, greater_is_better=False)"
   ]
  },
  {
   "cell_type": "markdown",
   "id": "374da580",
   "metadata": {},
   "source": [
    "# Baseline score"
   ]
  },
  {
   "cell_type": "markdown",
   "id": "94783512",
   "metadata": {},
   "source": [
    "## Extra tree regressor"
   ]
  },
  {
   "cell_type": "code",
   "execution_count": 182,
   "id": "0fff5809",
   "metadata": {
    "scrolled": false
   },
   "outputs": [],
   "source": [
    "baseline = cross_validate(final_pipeline_ETR,\n",
    "                          X,\n",
    "                          y,\n",
    "                          scoring={\"rmse\": rmse, \"r2\": \"r2\"},\n",
    "                          cv=20)\n",
    "baseline_r2 = baseline['test_r2'].mean()\n",
    "baseline_rmse = -baseline['test_rmse'].mean()"
   ]
  },
  {
   "cell_type": "code",
   "execution_count": 183,
   "id": "36bf9fa2",
   "metadata": {},
   "outputs": [
    {
     "name": "stdout",
     "output_type": "stream",
     "text": [
      "0.8785761230053681 1725.9726226220423\n"
     ]
    }
   ],
   "source": [
    "print(baseline_r2, baseline_rmse)"
   ]
  },
  {
   "cell_type": "markdown",
   "id": "97bfaeb5",
   "metadata": {},
   "source": [
    "## KNN regressor"
   ]
  },
  {
   "cell_type": "code",
   "execution_count": 205,
   "id": "653e4dcb",
   "metadata": {},
   "outputs": [],
   "source": [
    "baseline_KNN = cross_validate(final_pipeline_KNN,\n",
    "                          X,\n",
    "                          y,\n",
    "                          scoring={\"rmse\": rmse, \"r2\": \"r2\"},\n",
    "                          cv=20)\n",
    "baseline_KNN_r2 = baseline_KNN['test_r2'].mean()\n",
    "baseline_KNN_rmse = -baseline_KNN['test_rmse'].mean()"
   ]
  },
  {
   "cell_type": "code",
   "execution_count": 206,
   "id": "3289de70",
   "metadata": {},
   "outputs": [
    {
     "name": "stdout",
     "output_type": "stream",
     "text": [
      "0.7710877266045971 2380.7636619692594\n"
     ]
    }
   ],
   "source": [
    "print(baseline_KNN_r2, baseline_KNN_rmse)"
   ]
  },
  {
   "cell_type": "markdown",
   "id": "44d9565f",
   "metadata": {},
   "source": [
    "# Optimized score"
   ]
  },
  {
   "cell_type": "markdown",
   "id": "b6308e7c",
   "metadata": {},
   "source": [
    "## Extra tree regressor"
   ]
  },
  {
   "cell_type": "code",
   "execution_count": 184,
   "id": "42204178",
   "metadata": {},
   "outputs": [],
   "source": [
    "######################################################\n",
    "# extra tree regressor parameters\n",
    "######################################################\n",
    "grid_ETR = {'model__max_depth': stats.randint(1, 1000),\n",
    "            'model__min_samples_split': [2, 4, 6, 8, 10],\n",
    "            \"preprocessor__scaler\": [StandardScaler(), RobustScaler(), MinMaxScaler()]\n",
    "            }\n",
    "params_ETR = {\"random_grid_search\": grid_ETR,\n",
    "              \"model\": ExtraTreesRegressor()}\n",
    "######################################################"
   ]
  },
  {
   "cell_type": "code",
   "execution_count": 185,
   "id": "110631db",
   "metadata": {
    "scrolled": false
   },
   "outputs": [
    {
     "name": "stdout",
     "output_type": "stream",
     "text": [
      "Fitting 10 folds for each of 10 candidates, totalling 100 fits\n"
     ]
    }
   ],
   "source": [
    "model_optimized_ETR = RandomizedSearchCV(final_pipeline_ETR,\n",
    "                                         grid_ETR,\n",
    "                                         scoring=\"r2\",\n",
    "                                         n_iter=10,\n",
    "                                         cv=10,\n",
    "                                         n_jobs=-1,\n",
    "                                         verbose=1)\n",
    "model_optimized_ETR.fit(X, y)\n",
    "optimized_ETR_r2 = model_optimized_ETR.best_score_"
   ]
  },
  {
   "cell_type": "code",
   "execution_count": 186,
   "id": "529ce92c",
   "metadata": {},
   "outputs": [
    {
     "name": "stdout",
     "output_type": "stream",
     "text": [
      "0.8774051549848172\n"
     ]
    }
   ],
   "source": [
    "print(optimized_ETR_r2)"
   ]
  },
  {
   "cell_type": "markdown",
   "id": "919c35b0",
   "metadata": {},
   "source": [
    "## KNN regressor"
   ]
  },
  {
   "cell_type": "code",
   "execution_count": 197,
   "id": "ee9a676c",
   "metadata": {},
   "outputs": [],
   "source": [
    "######################################################\n",
    "# KNN model\n",
    "######################################################\n",
    "grid_KNN = {'model__n_neighbors': stats.randint(1, 1000),\n",
    "            \"preprocessor__scaler\": [StandardScaler(), RobustScaler(), MinMaxScaler()]\n",
    "            }\n",
    "params_KNN = {\"random_grid_search\": grid_KNN,\n",
    "              \"model\": KNeighborsRegressor()}\n",
    "######################################################"
   ]
  },
  {
   "cell_type": "code",
   "execution_count": 200,
   "id": "6ed1b6d0",
   "metadata": {
    "scrolled": true
   },
   "outputs": [
    {
     "name": "stdout",
     "output_type": "stream",
     "text": [
      "Fitting 10 folds for each of 100 candidates, totalling 1000 fits\n"
     ]
    },
    {
     "name": "stderr",
     "output_type": "stream",
     "text": [
      "/Users/victor/.pyenv/versions/3.9.1/envs/tresboncoin/lib/python3.9/site-packages/joblib/externals/loky/process_executor.py:688: UserWarning: A worker stopped while some jobs were given to the executor. This can be caused by a too short worker timeout or by a memory leak.\n",
      "  warnings.warn(\n"
     ]
    }
   ],
   "source": [
    "model_optimized_KNN = RandomizedSearchCV(final_pipeline_KNN,\n",
    "                                         grid_KNN,\n",
    "                                         scoring=\"r2\",\n",
    "                                         n_iter=100,\n",
    "                                         cv=10,\n",
    "                                         n_jobs=-1,\n",
    "                                         verbose=1)\n",
    "model_optimized_KNN.fit(X, y)\n",
    "optimized_KNN_r2 = model_optimized_KNN.best_score_"
   ]
  },
  {
   "cell_type": "code",
   "execution_count": 201,
   "id": "c94d3654",
   "metadata": {},
   "outputs": [
    {
     "name": "stdout",
     "output_type": "stream",
     "text": [
      "0.7746547494254196\n"
     ]
    }
   ],
   "source": [
    "print(optimized_KNN_r2)"
   ]
  },
  {
   "cell_type": "markdown",
   "id": "beaa573d",
   "metadata": {},
   "source": [
    "# Predict"
   ]
  },
  {
   "cell_type": "code",
   "execution_count": 188,
   "id": "81ea84e3",
   "metadata": {},
   "outputs": [
    {
     "data": {
      "text/plain": [
       "['brand_db', 'bike_year', 'mileage', 'engine_size', 'km/year']"
      ]
     },
     "execution_count": 188,
     "metadata": {},
     "output_type": "execute_result"
    }
   ],
   "source": [
    "list(X.columns)"
   ]
  },
  {
   "cell_type": "code",
   "execution_count": 191,
   "id": "bfff4571",
   "metadata": {},
   "outputs": [],
   "source": [
    "X_pred = pd.DataFrame({\"brand_db\": [\"yamaha\"],\n",
    "                       \"bike_year\": [2019],\n",
    "                       \"mileage\": [10000],\n",
    "                       \"engine_size\": [250],\n",
    "                       \"km/year\": [249],\n",
    "                       })"
   ]
  },
  {
   "cell_type": "code",
   "execution_count": 192,
   "id": "cef19ee6",
   "metadata": {
    "scrolled": false
   },
   "outputs": [
    {
     "data": {
      "text/plain": [
       "array([6173.1865])"
      ]
     },
     "execution_count": 192,
     "metadata": {},
     "output_type": "execute_result"
    }
   ],
   "source": [
    "model_optimized.best_estimator_.predict(X_pred)"
   ]
  },
  {
   "cell_type": "code",
   "execution_count": null,
   "id": "86a26847",
   "metadata": {},
   "outputs": [],
   "source": []
  },
  {
   "cell_type": "code",
   "execution_count": null,
   "id": "e6250d9e",
   "metadata": {},
   "outputs": [],
   "source": []
  },
  {
   "cell_type": "code",
   "execution_count": null,
   "id": "a86a1a4f",
   "metadata": {},
   "outputs": [],
   "source": []
  },
  {
   "cell_type": "code",
   "execution_count": null,
   "id": "c2795e49",
   "metadata": {},
   "outputs": [],
   "source": []
  },
  {
   "cell_type": "code",
   "execution_count": null,
   "id": "88de807f",
   "metadata": {},
   "outputs": [],
   "source": []
  },
  {
   "cell_type": "code",
   "execution_count": null,
   "id": "a3098cc2",
   "metadata": {},
   "outputs": [],
   "source": []
  },
  {
   "cell_type": "code",
   "execution_count": null,
   "id": "3deb374a",
   "metadata": {},
   "outputs": [],
   "source": []
  },
  {
   "cell_type": "code",
   "execution_count": null,
   "id": "8bf12247",
   "metadata": {},
   "outputs": [],
   "source": []
  }
 ],
 "metadata": {
  "kernelspec": {
   "display_name": "Python 3",
   "language": "python",
   "name": "python3"
  },
  "language_info": {
   "codemirror_mode": {
    "name": "ipython",
    "version": 3
   },
   "file_extension": ".py",
   "mimetype": "text/x-python",
   "name": "python",
   "nbconvert_exporter": "python",
   "pygments_lexer": "ipython3",
   "version": "3.9.1"
  },
  "toc": {
   "base_numbering": 1,
   "nav_menu": {},
   "number_sections": true,
   "sideBar": true,
   "skip_h1_title": false,
   "title_cell": "Table of Contents",
   "title_sidebar": "Contents",
   "toc_cell": false,
   "toc_position": {},
   "toc_section_display": true,
   "toc_window_display": false
  },
  "varInspector": {
   "cols": {
    "lenName": 16,
    "lenType": 16,
    "lenVar": 40
   },
   "kernels_config": {
    "python": {
     "delete_cmd_postfix": "",
     "delete_cmd_prefix": "del ",
     "library": "var_list.py",
     "varRefreshCmd": "print(var_dic_list())"
    },
    "r": {
     "delete_cmd_postfix": ") ",
     "delete_cmd_prefix": "rm(",
     "library": "var_list.r",
     "varRefreshCmd": "cat(var_dic_list()) "
    }
   },
   "types_to_exclude": [
    "module",
    "function",
    "builtin_function_or_method",
    "instance",
    "_Feature"
   ],
   "window_display": false
  }
 },
 "nbformat": 4,
 "nbformat_minor": 5
}
