{
 "cells": [
  {
   "cell_type": "code",
   "execution_count": 6,
   "metadata": {},
   "outputs": [],
   "source": [
    "import requests\n",
    "from bs4 import BeautifulSoup\n",
    "import numpy as np\n",
    "import pandas as pd\n",
    "import datetime\n",
    "import re\n",
    "import time\n",
    "import os\n",
    "import json\n",
    "from PIL import Image \n",
    "import PIL \n",
    "pd.set_option('display.max_columns', None)\n",
    "import random"
   ]
  },
  {
   "cell_type": "markdown",
   "metadata": {},
   "source": [
    "# Headers"
   ]
  },
  {
   "cell_type": "code",
   "execution_count": 7,
   "metadata": {},
   "outputs": [],
   "source": [
    "headers = {\n",
    "    'authority': 'www.paruvendu.fr',\n",
    "    'cache-control': 'max-age=0',\n",
    "    'sec-ch-ua': '\" Not A;Brand\";v=\"99\", \"Chromium\";v=\"90\", \"Google Chrome\";v=\"90\"',\n",
    "    'sec-ch-ua-mobile': '?0',\n",
    "    'upgrade-insecure-requests': '1',\n",
    "    'user-agent': 'Mozilla/5.0 (Macintosh; Intel Mac OS X 10_15_7) AppleWebKit/537.36 (KHTML, like Gecko) Chrome/90.0.4430.212 Safari/537.36',\n",
    "    'accept': 'text/html,application/xhtml+xml,application/xml;q=0.9,image/avif,image/webp,image/apng,*/*;q=0.8,application/signed-exchange;v=b3;q=0.9',\n",
    "    'sec-fetch-site': 'none',\n",
    "    'sec-fetch-mode': 'navigate',\n",
    "    'sec-fetch-user': '?1',\n",
    "    'sec-fetch-dest': 'document',\n",
    "    'accept-language': 'fr-FR,fr;q=0.9,en-US;q=0.8,en;q=0.7',\n",
    "    'cookie': 'idSessionDonneesOff=1; euconsent-v2=CPGxGkIPGxGkWDeACBFRBbCv_____3___wqIH3wAYAAgfeB98AGAAIH3gAA.f___7___4AA; _ga_K8JXZBSX4H=GS1.1.1621966262.1.1.1621966917.0; _ga=GA1.2.2578869.1621966262; __troRUID=f3900e91-e5af-40dc-8b1f-ddb816f04218; __utma=203382672.2578869.1621966262.1621966917.1621966917.1; __utmc=203382672; __utmz=203382672.1621966917.1.1.utmcsr=(direct)|utmccn=(direct)|utmcmd=(none); allreadyseen=10b2f484c9975e44eb07331aedcc1e54; pvtous=1; trackdepose=ext-google; _gid=GA1.2.931861080.1622320357; __troSYNC=1; homeallgeo=%7B%22codeInsee%22%3A%22%22%2C%22codeDepartement%22%3A%22%22%2C%22commune%22%3A%22%22%2C%22codePostal%22%3A%22%22%2C%22latitude%22%3A%22%22%2C%22longitude%22%3A%22%22%2C%22departement%22%3A%22%22%2C%22codeRegion%22%3A%22%22%2C%22codeRegionPV%22%3A%22%22%2C%22region%22%3A%22%22%2C%22distance%22%3A%22%22%2C%22idAgence%22%3A%22%22%7D; __gads=ID=d673b3e89fab95b9:T=1622387913:S=ALNI_MaCQ0JQC6C8HP-wWQjgAxU8RD-s0A; nbpvues=13; __trossion=1621966917_1800_3_f3900e91-e5af-40dc-8b1f-ddb816f04218%3A1622320357_f3900e91-e5af-40dc-8b1f-ddb816f04218%3A1622387897_1622388085_5_; datadome=FTyKvyAneBvzxZ_xbEwxmjJENZBt.UiGE5FWXfLNQKBygq4jpKiIyniEqIytT_CIGd9WFmHntGs3g8RRw.7qnavCnBpdsATzg3H_4zEeYw',\n",
    "}"
   ]
  },
  {
   "cell_type": "markdown",
   "metadata": {},
   "source": [
    "# Save pages x15"
   ]
  },
  {
   "cell_type": "code",
   "execution_count": 8,
   "metadata": {},
   "outputs": [],
   "source": [
    "def save_page_list(req, page=1):\n",
    "    datetime_1 = datetime.datetime.now().strftime(\"%Y-%m-%d_%Hh%M\")\n",
    "    page_list_name = \"paruvendu\" + \"-\" + datetime_1 + \"-\" + str(page)\n",
    "    with open(\"annonces/\" + page_list_name + \".html\", \"w\")  as file:\n",
    "        file.write(req.text)\n",
    "        file.close()"
   ]
  },
  {
   "cell_type": "code",
   "execution_count": 95,
   "metadata": {},
   "outputs": [
    {
     "data": {
      "text/plain": [
       "array([60, 61, 62, 63, 64, 65, 66, 67, 68, 69, 70, 71, 72, 73, 74, 75, 76,\n",
       "       77, 78, 79, 80, 81])"
      ]
     },
     "execution_count": 95,
     "metadata": {},
     "output_type": "execute_result"
    }
   ],
   "source": [
    "pages = np.arange(60, 82)\n",
    "pages"
   ]
  },
  {
   "cell_type": "code",
   "execution_count": 96,
   "metadata": {},
   "outputs": [
    {
     "name": "stdout",
     "output_type": "stream",
     "text": [
      "x15 saved: 60\n",
      "x15 saved: 61\n",
      "x15 saved: 62\n",
      "x15 saved: 63\n",
      "x15 saved: 64\n",
      "x15 saved: 65\n",
      "x15 saved: 66\n",
      "x15 saved: 67\n",
      "x15 saved: 68\n",
      "x15 saved: 69\n",
      "x15 saved: 70\n",
      "x15 saved: 71\n",
      "x15 saved: 72\n",
      "x15 saved: 73\n",
      "x15 saved: 74\n",
      "x15 saved: 75\n",
      "x15 saved: 76\n",
      "x15 saved: 77\n",
      "x15 saved: 78\n",
      "x15 saved: 79\n",
      "x15 saved: 80\n",
      "x15 saved: 81\n"
     ]
    }
   ],
   "source": [
    "for page_ in pages:\n",
    "    req_x15 = requests.get(f\"https://www.paruvendu.fr/auto-moto/listefo/default/default?moto-typeRech=&r=VMOMO000&px1=ex:%2050000&r2=&codeINSEE=&lo=&pa=&ray=100&cy=&nrj=&km1=&a0=&fulltext=&p={page_}\",\n",
    "                           headers = headers)\n",
    "    save_page_list(req_x15, page=page_)\n",
    "    time.sleep(random.randint(4, 5))\n",
    "    print(\"x15 saved: \" + str(page_))"
   ]
  },
  {
   "cell_type": "markdown",
   "metadata": {},
   "source": [
    "# Extract data from saved x15"
   ]
  },
  {
   "cell_type": "markdown",
   "metadata": {},
   "source": [
    "## Test file"
   ]
  },
  {
   "cell_type": "code",
   "execution_count": 130,
   "metadata": {},
   "outputs": [],
   "source": [
    "file_check_name = \"paruvendu-2021-05-30_18h19-39\"\n",
    "#\n",
    "file_check_x15_good = f\"annonces/{file_check_name}.html\""
   ]
  },
  {
   "cell_type": "markdown",
   "metadata": {},
   "source": [
    "## Get prices from saved x15"
   ]
  },
  {
   "cell_type": "code",
   "execution_count": 131,
   "metadata": {},
   "outputs": [],
   "source": [
    "def get_prices_from_saved_x15(r):\n",
    "    \n",
    "    # set empty price list\n",
    "    price_list = []\n",
    "    \n",
    "    # get soup\n",
    "    soup = BeautifulSoup(r, 'html.parser')\n",
    "    \n",
    "    # extract price\n",
    "    step1 = soup.select('div[class*=\"lazyload_bloc\"]')\n",
    "    if len(step1)>0:\n",
    "        for k in step1:\n",
    "            step2 = k.find_all(\"div\", class_=\"ergov3-priceannonce\")\n",
    "            if len(step2)>0:\n",
    "                step3 = re.findall('[0-9]', step2[0].text)\n",
    "                if len(step3)>0:\n",
    "                    price = float(\"\".join(step3))\n",
    "                    price_list.append(price)\n",
    "                else:\n",
    "                    price_list.append(np.nan)\n",
    "            else:\n",
    "                return None\n",
    "    else:\n",
    "        return None\n",
    "                    \n",
    "    return price_list"
   ]
  },
  {
   "cell_type": "code",
   "execution_count": 132,
   "metadata": {
    "scrolled": false
   },
   "outputs": [
    {
     "data": {
      "text/plain": [
       "[6650.0,\n",
       " 3300.0,\n",
       " 1250.0,\n",
       " 1300.0,\n",
       " 1000.0,\n",
       " 2000.0,\n",
       " 8900.0,\n",
       " 800.0,\n",
       " 2800.0,\n",
       " 4200.0,\n",
       " 3000.0,\n",
       " 800.0,\n",
       " 1499.0,\n",
       " 12000.0,\n",
       " 2200.0]"
      ]
     },
     "execution_count": 132,
     "metadata": {},
     "output_type": "execute_result"
    }
   ],
   "source": [
    "with open(file_check_x15_good, 'r') as f:\n",
    "    readable_html = f.read()\n",
    "    prices = get_prices_from_saved_x15(readable_html)\n",
    "prices"
   ]
  },
  {
   "cell_type": "markdown",
   "metadata": {},
   "source": [
    "## Get references from saved x15"
   ]
  },
  {
   "cell_type": "markdown",
   "metadata": {},
   "source": [
    "for this website there is no Reference on page x15 but we can still find a unique ID that will differ from announce reference"
   ]
  },
  {
   "cell_type": "code",
   "execution_count": 133,
   "metadata": {},
   "outputs": [],
   "source": [
    "def get_unique_ID_from_saved_x15(r):\n",
    "    \n",
    "    # set empty uniq_ID list\n",
    "    uniq_ID_list = []\n",
    "    \n",
    "    # get soup\n",
    "    soup = BeautifulSoup(r, 'html.parser')\n",
    "    \n",
    "    # extract uniq ID\n",
    "    step1 = soup.select('div[class*=\"lazyload_bloc\"]')\n",
    "    if len(step1)>0:\n",
    "        for k in step1:\n",
    "            if \"data-id\" in k.attrs:\n",
    "                uniq_ID_list.append(k.attrs[\"data-id\"])\n",
    "            else:\n",
    "                uniq_ID_list.append(np.nan)\n",
    "    else:\n",
    "        return None\n",
    "    \n",
    "    return uniq_ID_list"
   ]
  },
  {
   "cell_type": "code",
   "execution_count": 134,
   "metadata": {},
   "outputs": [
    {
     "data": {
      "text/plain": [
       "['1253457316',\n",
       " '1253044073',\n",
       " '1244995184',\n",
       " '1253450850',\n",
       " '1253450767',\n",
       " '1253450229',\n",
       " '1253437517',\n",
       " '1253436054',\n",
       " '1253450065',\n",
       " '1249798628',\n",
       " '1253339878',\n",
       " '1253436525',\n",
       " '1253428712',\n",
       " '1253430608',\n",
       " '1253429389']"
      ]
     },
     "execution_count": 134,
     "metadata": {},
     "output_type": "execute_result"
    }
   ],
   "source": [
    "with open(file_check_x15_good, 'r') as f:\n",
    "    readable_html = f.read()\n",
    "    unique_id = get_unique_ID_from_saved_x15(readable_html)\n",
    "unique_id"
   ]
  },
  {
   "cell_type": "markdown",
   "metadata": {},
   "source": [
    "## Get urls from saved x15"
   ]
  },
  {
   "cell_type": "code",
   "execution_count": 135,
   "metadata": {},
   "outputs": [],
   "source": [
    "def get_urls_from_saved_x15(r):\n",
    "    \n",
    "    # set empty url list\n",
    "    url_list = []\n",
    "    \n",
    "    # get soup\n",
    "    soup = BeautifulSoup(r, 'html.parser')\n",
    "    \n",
    "    # extract url\n",
    "    step1 = soup.select('div[class*=\"lazyload_bloc\"]')\n",
    "    if len(step1)>0:\n",
    "        for k in step1:\n",
    "            step2 = k.find_all(\"a\")\n",
    "            if len(step2)>2:\n",
    "                if \"href\" in step2[1].attrs:\n",
    "                    url_list.append(step2[1].attrs[\"href\"])\n",
    "                else:\n",
    "                    url_list.append(np.nan)\n",
    "            else:\n",
    "                return None\n",
    "    else:\n",
    "        return None\n",
    "    \n",
    "    return url_list"
   ]
  },
  {
   "cell_type": "code",
   "execution_count": 136,
   "metadata": {
    "scrolled": false
   },
   "outputs": [
    {
     "data": {
      "text/plain": [
       "['https://www.paruvendu.fr/a/moto-scooter/moto/kawasaki/650-cm3/1253457316A1KVMOMOKA',\n",
       " 'https://www.paruvendu.fr/a/moto-scooter/moto/yamaha/750-cm3/1253044073A1KVMOMOYA',\n",
       " 'https://www.paruvendu.fr/a/moto-scooter/moto/suzuki/500-cm3/1244995184A1KVMOMOSU',\n",
       " 'https://www.paruvendu.fr/a/moto-scooter/moto/yamaha/125-cm3/1253450850A1KVMOMOYA',\n",
       " 'https://www.paruvendu.fr/a/moto-scooter/moto/kawasaki/125-cm3/1253450767A1KVMOMOKA',\n",
       " 'https://www.paruvendu.fr/a/moto-scooter/moto/daelim/125-cm3/1253450229A1KVMOMODA',\n",
       " 'https://www.paruvendu.fr/a/moto-scooter/moto/bmw/883-cm3/1253437517A1KVMOMOBM',\n",
       " 'https://www.paruvendu.fr/a/moto-scooter/moto/ycf/125-cm3/1253436054A1KVMOMOYC',\n",
       " 'https://www.paruvendu.fr/a/moto-scooter/moto/mz/50-cm3/1253450065A1KVMOMOMZ',\n",
       " 'https://www.paruvendu.fr/a/moto-scooter/moto/bmw/1170-cm3/1249798628A1KVMOMOBM',\n",
       " 'https://www.paruvendu.fr/a/moto-scooter/moto/bmw/1100-cm3/1253339878A1KVMOMOBM',\n",
       " 'https://www.paruvendu.fr/a/moto-scooter/moto/ycf/125-cm3/1253436525A1KVMOMOYC',\n",
       " 'https://www.paruvendu.fr/a/moto-scooter/moto/yamaha/600-cm3/1253428712A1KVMOMOYA',\n",
       " 'https://www.paruvendu.fr/a/moto-scooter/moto/gilera/500-cm3/1253430608A1KVMOMOGI',\n",
       " 'https://www.paruvendu.fr/a/moto-scooter/moto/aprilia/125-cm3/1253429389A1KVMOMOAP']"
      ]
     },
     "execution_count": 136,
     "metadata": {},
     "output_type": "execute_result"
    }
   ],
   "source": [
    "with open(file_check_x15_good, 'r') as f:\n",
    "    readable_html = f.read()\n",
    "    urls_list = get_urls_from_saved_x15(readable_html)\n",
    "urls_list"
   ]
  },
  {
   "cell_type": "markdown",
   "metadata": {},
   "source": [
    "# Download single announce pages"
   ]
  },
  {
   "cell_type": "code",
   "execution_count": 124,
   "metadata": {},
   "outputs": [],
   "source": [
    "def save_page_uniq(req, uniq_id):\n",
    "    datetime_1 = datetime.datetime.now().strftime(\"%Y-%m-%d_%Hh%M\")\n",
    "    page_name = \"paruvendu\" + \"-\" + uniq_id + \"-\" + datetime_1\n",
    "    with open(\"pages/\" + page_name + \".html\", \"w\")  as file:\n",
    "        file.write(req.text)\n",
    "        file.close()"
   ]
  },
  {
   "cell_type": "code",
   "execution_count": null,
   "metadata": {
    "scrolled": true
   },
   "outputs": [],
   "source": [
    "for html_file in os.listdir(\"annonces\")[60:80]:\n",
    "    with open(f\"annonces/{html_file}\", 'r') as f:\n",
    "        readable_html = f.read()\n",
    "        urls_list = get_urls_from_saved_x15(readable_html)\n",
    "        unique_id = get_unique_ID_from_saved_x15(readable_html)\n",
    "    if urls_list != None:\n",
    "        for url_single, uniq_id in zip(urls_list, unique_id):\n",
    "            req_uniq = requests.get(url_single, headers = headers)\n",
    "            save_page_uniq(req_uniq, uniq_id)\n",
    "            print(\"saved page id: \" + uniq_id)\n",
    "            time.sleep(1)"
   ]
  },
  {
   "cell_type": "markdown",
   "metadata": {},
   "source": [
    "# Process single announces\n",
    "Saving scaled images x3 and adding announce to DataFrame"
   ]
  },
  {
   "cell_type": "markdown",
   "metadata": {},
   "source": [
    "## DataFrame template"
   ]
  },
  {
   "cell_type": "code",
   "execution_count": 436,
   "metadata": {},
   "outputs": [
    {
     "data": {
      "text/html": [
       "<div>\n",
       "<style scoped>\n",
       "    .dataframe tbody tr th:only-of-type {\n",
       "        vertical-align: middle;\n",
       "    }\n",
       "\n",
       "    .dataframe tbody tr th {\n",
       "        vertical-align: top;\n",
       "    }\n",
       "\n",
       "    .dataframe thead th {\n",
       "        text-align: right;\n",
       "    }\n",
       "</style>\n",
       "<table border=\"1\" class=\"dataframe\">\n",
       "  <thead>\n",
       "    <tr style=\"text-align: right;\">\n",
       "      <th></th>\n",
       "      <th>url</th>\n",
       "      <th>reference</th>\n",
       "      <th>unique id</th>\n",
       "      <th>date_scrapped</th>\n",
       "      <th>announce_publication_date</th>\n",
       "      <th>vehicle brand</th>\n",
       "      <th>vehicle type</th>\n",
       "      <th>moto scoot</th>\n",
       "      <th>color</th>\n",
       "      <th>vehicle condition</th>\n",
       "      <th>price</th>\n",
       "      <th>city</th>\n",
       "      <th>postal code</th>\n",
       "      <th>vehicle release date</th>\n",
       "      <th>mileage</th>\n",
       "      <th>Fiscal power [HP]</th>\n",
       "      <th>engine capacity [CC]</th>\n",
       "      <th>comments</th>\n",
       "      <th>seller</th>\n",
       "      <th>seller_name</th>\n",
       "    </tr>\n",
       "  </thead>\n",
       "  <tbody>\n",
       "    <tr>\n",
       "      <th>0</th>\n",
       "      <td>NaN</td>\n",
       "      <td>NaN</td>\n",
       "      <td>NaN</td>\n",
       "      <td>NaN</td>\n",
       "      <td>NaN</td>\n",
       "      <td>NaN</td>\n",
       "      <td>NaN</td>\n",
       "      <td>NaN</td>\n",
       "      <td>NaN</td>\n",
       "      <td>NaN</td>\n",
       "      <td>NaN</td>\n",
       "      <td>NaN</td>\n",
       "      <td>NaN</td>\n",
       "      <td>NaN</td>\n",
       "      <td>NaN</td>\n",
       "      <td>NaN</td>\n",
       "      <td>NaN</td>\n",
       "      <td>NaN</td>\n",
       "      <td>NaN</td>\n",
       "      <td>NaN</td>\n",
       "    </tr>\n",
       "  </tbody>\n",
       "</table>\n",
       "</div>"
      ],
      "text/plain": [
       "   url  reference  unique id  date_scrapped  announce_publication_date  \\\n",
       "0  NaN        NaN        NaN            NaN                        NaN   \n",
       "\n",
       "   vehicle brand  vehicle type  moto scoot  color  vehicle condition  price  \\\n",
       "0            NaN           NaN         NaN    NaN                NaN    NaN   \n",
       "\n",
       "   city  postal code  vehicle release date  mileage  Fiscal power [HP]  \\\n",
       "0   NaN          NaN                   NaN      NaN                NaN   \n",
       "\n",
       "   engine capacity [CC]  comments  seller  seller_name  \n",
       "0                   NaN       NaN     NaN          NaN  "
      ]
     },
     "execution_count": 436,
     "metadata": {},
     "output_type": "execute_result"
    }
   ],
   "source": [
    "announce_template = pd.DataFrame({\"url\": [np.nan],\n",
    "                                  \"reference\": [np.nan],\n",
    "                                  \"unique id\": [np.nan],\n",
    "                                  \"date_scrapped\": [np.nan],\n",
    "                                  \"announce_publication_date\": [np.nan],\n",
    "                                  \"vehicle brand\": [np.nan],\n",
    "                                  \"vehicle type\": [np.nan],\n",
    "                                  \"moto scoot\": [np.nan],\n",
    "                                  \"color\": [np.nan],\n",
    "                                  \"vehicle condition\": [np.nan],\n",
    "                                  \"price\": [np.nan],\n",
    "                                  \"city\": [np.nan],\n",
    "                                  \"postal code\": [np.nan],\n",
    "                                  \"vehicle release date\": [np.nan],\n",
    "                                  \"mileage\": [np.nan],\n",
    "                                  \"Fiscal power [HP]\": [np.nan],\n",
    "                                  \"engine capacity [CC]\": [np.nan],\n",
    "                                  \"comments\": [np.nan],\n",
    "                                  \"seller\": [np.nan],\n",
    "                                  \"seller_name\": [np.nan]})\n",
    "announce_template"
   ]
  },
  {
   "cell_type": "markdown",
   "metadata": {},
   "source": [
    "## test announce"
   ]
  },
  {
   "cell_type": "code",
   "execution_count": 561,
   "metadata": {},
   "outputs": [],
   "source": [
    "file_check_name_single = \"paruvendu-1254239829-2021-05-30_19h00\"\n",
    "#\n",
    "file_check_single = f\"pages/{file_check_name_single}.html\""
   ]
  },
  {
   "cell_type": "markdown",
   "metadata": {},
   "source": [
    "## Functions"
   ]
  },
  {
   "cell_type": "markdown",
   "metadata": {},
   "source": [
    "### Get url"
   ]
  },
  {
   "cell_type": "code",
   "execution_count": 353,
   "metadata": {},
   "outputs": [],
   "source": [
    "def get_url(r):\n",
    "    \n",
    "    # set empty url list\n",
    "    url_ = \"\"\n",
    "    \n",
    "    # get soup\n",
    "    soup = BeautifulSoup(r, 'html.parser')\n",
    "    \n",
    "    # extract url\n",
    "    step1 = soup.select('meta[property*=\"og:url\"]')\n",
    "    if len(step1)>0:\n",
    "        return step1[0].attrs[\"content\"].split(\"?\")[0]\n",
    "    else:\n",
    "        return None"
   ]
  },
  {
   "cell_type": "code",
   "execution_count": 354,
   "metadata": {},
   "outputs": [
    {
     "data": {
      "text/plain": [
       "'https://www.paruvendu.fr/a/moto-scooter/moto/suzuki/500-cm3/1249401565A1KVMOMOSU'"
      ]
     },
     "execution_count": 354,
     "metadata": {},
     "output_type": "execute_result"
    }
   ],
   "source": [
    "with open(file_check_single, 'r') as f:\n",
    "    readable_html = f.read()\n",
    "    g_url = get_url(readable_html)\n",
    "g_url"
   ]
  },
  {
   "cell_type": "markdown",
   "metadata": {},
   "source": [
    "### Get reference"
   ]
  },
  {
   "cell_type": "code",
   "execution_count": 355,
   "metadata": {},
   "outputs": [],
   "source": [
    "def get_reference(r):\n",
    "    \n",
    "    # set empty reference list\n",
    "    ref_ = \"\"\n",
    "    \n",
    "    # get soup\n",
    "    soup = BeautifulSoup(r, 'html.parser')\n",
    "    \n",
    "    # extract ref\n",
    "    step1 = soup.select('div[class*=\"vvdetails14_refdate\"]')\n",
    "    if len(step1)>0:\n",
    "        return step1[0].text.replace(\"\\n\", \"\").replace(\"\\t\", \"\").split(\"ParuVendu\")[-1].split(\"-\")[0].strip()\n",
    "    else:\n",
    "        return None"
   ]
  },
  {
   "cell_type": "code",
   "execution_count": 356,
   "metadata": {},
   "outputs": [
    {
     "data": {
      "text/plain": [
       "'WV166158027'"
      ]
     },
     "execution_count": 356,
     "metadata": {},
     "output_type": "execute_result"
    }
   ],
   "source": [
    "with open(file_check_single, 'r') as f:\n",
    "    readable_html = f.read()\n",
    "    g_ref = get_reference(readable_html)\n",
    "g_ref"
   ]
  },
  {
   "cell_type": "markdown",
   "metadata": {},
   "source": [
    "### Get unique ID"
   ]
  },
  {
   "cell_type": "code",
   "execution_count": 357,
   "metadata": {},
   "outputs": [],
   "source": [
    "def get_uniq_id(url_):\n",
    "    print(url_.split(\"/\")[-1].split(\"A1\")[0])"
   ]
  },
  {
   "cell_type": "code",
   "execution_count": 358,
   "metadata": {},
   "outputs": [
    {
     "name": "stdout",
     "output_type": "stream",
     "text": [
      "1249401565\n"
     ]
    }
   ],
   "source": [
    "with open(file_check_single, 'r') as f:\n",
    "    readable_html = f.read()\n",
    "    g_url = get_url(readable_html)\n",
    "get_uniq_id(g_url)"
   ]
  },
  {
   "cell_type": "markdown",
   "metadata": {},
   "source": [
    "### get publication date"
   ]
  },
  {
   "cell_type": "code",
   "execution_count": 359,
   "metadata": {},
   "outputs": [],
   "source": [
    "def get_publication_date(r):\n",
    "    \n",
    "    # set empty \n",
    "    pub_ = \"\"\n",
    "    \n",
    "    # get soup\n",
    "    soup = BeautifulSoup(r, 'html.parser')\n",
    "    \n",
    "    # extract\n",
    "    step1 = soup.select('div[class*=\"vvdetails14_refdate\"]')\n",
    "    if len(step1)>0:\n",
    "        return step1[0].text.replace(\"\\n\", \"\").replace(\"\\t\", \"\").split(\"ParuVendu\")[-1].split(\"-\")[1].strip().split(\" \")[1]\n",
    "    else:\n",
    "        return None"
   ]
  },
  {
   "cell_type": "code",
   "execution_count": 360,
   "metadata": {},
   "outputs": [
    {
     "data": {
      "text/plain": [
       "'06/11/2020'"
      ]
     },
     "execution_count": 360,
     "metadata": {},
     "output_type": "execute_result"
    }
   ],
   "source": [
    "with open(file_check_single, 'r') as f:\n",
    "    readable_html = f.read()\n",
    "    g_pub = get_publication_date(readable_html)\n",
    "g_pub"
   ]
  },
  {
   "cell_type": "markdown",
   "metadata": {},
   "source": [
    "### Get vehicule brand"
   ]
  },
  {
   "cell_type": "code",
   "execution_count": 361,
   "metadata": {},
   "outputs": [],
   "source": [
    "def get_brand(r):\n",
    "    \n",
    "    # set empty \n",
    "    brand_ = \"\"\n",
    "    \n",
    "    # get soup\n",
    "    soup = BeautifulSoup(r, 'html.parser')\n",
    "    \n",
    "    # extract\n",
    "    step1 = soup.select('div[id*=\"blcheader\"]')\n",
    "    if len(step1)>0:\n",
    "        return step1[0].select(\"h1\")[0].text.replace(u'\\xa0', u' ').strip().split(\" \")[-1]\n",
    "    else:\n",
    "        return None"
   ]
  },
  {
   "cell_type": "code",
   "execution_count": 362,
   "metadata": {},
   "outputs": [
    {
     "data": {
      "text/plain": [
       "'SUZUKI'"
      ]
     },
     "execution_count": 362,
     "metadata": {},
     "output_type": "execute_result"
    }
   ],
   "source": [
    "with open(file_check_single, 'r') as f:\n",
    "    readable_html = f.read()\n",
    "    g_brand = get_brand(readable_html)\n",
    "g_brand"
   ]
  },
  {
   "cell_type": "markdown",
   "metadata": {},
   "source": [
    "### Get vehicule type"
   ]
  },
  {
   "cell_type": "code",
   "execution_count": 363,
   "metadata": {},
   "outputs": [],
   "source": [
    "def get_type(r):\n",
    "    \n",
    "    # get soup\n",
    "    soup = BeautifulSoup(r, 'html.parser')\n",
    "    \n",
    "    # extract\n",
    "    step1 = soup.select('div[class*=\"im12_txt_ann\"]')\n",
    "    if len(step1)>0:\n",
    "        step2 = step1[0].select('li[class*=\"nologo\"]')\n",
    "        if len(step2)>0:\n",
    "            step3 = step2[0].select(\"span\")\n",
    "            if len(step3)>0:\n",
    "                return step3[0].text.replace(\"\\n\", \"\")\n",
    "    return None"
   ]
  },
  {
   "cell_type": "code",
   "execution_count": 364,
   "metadata": {},
   "outputs": [
    {
     "data": {
      "text/plain": [
       "'Routière'"
      ]
     },
     "execution_count": 364,
     "metadata": {},
     "output_type": "execute_result"
    }
   ],
   "source": [
    "with open(file_check_single, 'r') as f:\n",
    "    readable_html = f.read()\n",
    "    g_type = get_type(readable_html)\n",
    "g_type"
   ]
  },
  {
   "cell_type": "markdown",
   "metadata": {},
   "source": [
    "### get moto scoot"
   ]
  },
  {
   "cell_type": "code",
   "execution_count": 365,
   "metadata": {},
   "outputs": [],
   "source": [
    "def get_moto(r):\n",
    "        \n",
    "    # get soup\n",
    "    soup = BeautifulSoup(r, 'html.parser')\n",
    "    \n",
    "    # extract\n",
    "    step1 = soup.select('div[id*=\"blcheader\"]')\n",
    "    if len(step1)>0:\n",
    "        return step1[0].select(\"h1\")[0].text.replace(u'\\xa0', u' ').strip().split(\" \")[0]\n",
    "    else:\n",
    "        return None"
   ]
  },
  {
   "cell_type": "code",
   "execution_count": 366,
   "metadata": {},
   "outputs": [
    {
     "data": {
      "text/plain": [
       "'MOTO'"
      ]
     },
     "execution_count": 366,
     "metadata": {},
     "output_type": "execute_result"
    }
   ],
   "source": [
    "with open(file_check_single, 'r') as f:\n",
    "    readable_html = f.read()\n",
    "    g_moto = get_moto(readable_html)\n",
    "g_moto"
   ]
  },
  {
   "cell_type": "markdown",
   "metadata": {},
   "source": [
    "### get color"
   ]
  },
  {
   "cell_type": "code",
   "execution_count": 385,
   "metadata": {},
   "outputs": [],
   "source": [
    "def get_color(r):\n",
    "    \n",
    "    # get soup\n",
    "    soup = BeautifulSoup(r, 'html.parser')\n",
    "    \n",
    "    # extract\n",
    "    step1 = soup.select('div[class*=\"im12_txt_ann\"]')\n",
    "    if len(step1)>0:\n",
    "        step2 = step1[0].select('li[class*=\"puiss\"]')\n",
    "        if len(step2)>0:\n",
    "            for k in step2:\n",
    "                if k.text.find(\"Couleur\")>0:\n",
    "                    return k.select(\"span\")[0].text.strip()\n",
    "    return None"
   ]
  },
  {
   "cell_type": "code",
   "execution_count": 386,
   "metadata": {},
   "outputs": [
    {
     "data": {
      "text/plain": [
       "'Noir'"
      ]
     },
     "execution_count": 386,
     "metadata": {},
     "output_type": "execute_result"
    }
   ],
   "source": [
    "with open(file_check_single, 'r') as f:\n",
    "    readable_html = f.read()\n",
    "    g_color = get_color(readable_html)\n",
    "g_color"
   ]
  },
  {
   "cell_type": "markdown",
   "metadata": {},
   "source": [
    "### get vehicle condition"
   ]
  },
  {
   "cell_type": "code",
   "execution_count": 389,
   "metadata": {},
   "outputs": [],
   "source": [
    "def get_cond(r):\n",
    "    \n",
    "    # get soup\n",
    "    soup = BeautifulSoup(r, 'html.parser')\n",
    "    \n",
    "    # extract\n",
    "    step1 = soup.select('div[class*=\"im12_txt_ann\"]')\n",
    "    if len(step1)>0:\n",
    "        step2 = step1[0].select('li[class*=\"puiss\"]')\n",
    "        if len(step2)>0:\n",
    "            for k in step2:\n",
    "                if k.text.find(\"Etat\")>0:\n",
    "                    return k.select(\"span\")[0].text.strip()\n",
    "    return None"
   ]
  },
  {
   "cell_type": "code",
   "execution_count": 390,
   "metadata": {},
   "outputs": [
    {
     "data": {
      "text/plain": [
       "'Prévoir entretien'"
      ]
     },
     "execution_count": 390,
     "metadata": {},
     "output_type": "execute_result"
    }
   ],
   "source": [
    "with open(file_check_single, 'r') as f:\n",
    "    readable_html = f.read()\n",
    "    g_cond = get_cond(readable_html)\n",
    "g_cond"
   ]
  },
  {
   "cell_type": "markdown",
   "metadata": {},
   "source": [
    "### get fiscal power"
   ]
  },
  {
   "cell_type": "code",
   "execution_count": 395,
   "metadata": {},
   "outputs": [],
   "source": [
    "def get_power(r):\n",
    "    \n",
    "    # get soup\n",
    "    soup = BeautifulSoup(r, 'html.parser')\n",
    "    \n",
    "    # extract\n",
    "    step1 = soup.select('div[class*=\"im12_txt_ann\"]')\n",
    "    if len(step1)>0:\n",
    "        step2 = step1[0].select('li[class*=\"puiss\"]')\n",
    "        if len(step2)>0:\n",
    "            for k in step2:\n",
    "                if k.text.find(\"fiscale\")>0:\n",
    "                    return int(k.select(\"span\")[0].text.strip())\n",
    "    return None"
   ]
  },
  {
   "cell_type": "code",
   "execution_count": 396,
   "metadata": {},
   "outputs": [
    {
     "data": {
      "text/plain": [
       "5"
      ]
     },
     "execution_count": 396,
     "metadata": {},
     "output_type": "execute_result"
    }
   ],
   "source": [
    "with open(file_check_single, 'r') as f:\n",
    "    readable_html = f.read()\n",
    "    g_power = get_power(readable_html)\n",
    "g_power"
   ]
  },
  {
   "cell_type": "markdown",
   "metadata": {},
   "source": [
    "### get price"
   ]
  },
  {
   "cell_type": "code",
   "execution_count": 411,
   "metadata": {},
   "outputs": [],
   "source": [
    "def get_price(r):\n",
    "    \n",
    "    # get soup\n",
    "    soup = BeautifulSoup(r, 'html.parser')\n",
    "    \n",
    "    # extract\n",
    "    step1 = soup.select('div[id*=\"autoprix\"]')\n",
    "    if len(step1)>0:\n",
    "        return float(\"\".join(re.findall(\"[0-9]\", step1[0].text)))\n",
    "    return None"
   ]
  },
  {
   "cell_type": "code",
   "execution_count": 412,
   "metadata": {},
   "outputs": [
    {
     "data": {
      "text/plain": [
       "1000.0"
      ]
     },
     "execution_count": 412,
     "metadata": {},
     "output_type": "execute_result"
    }
   ],
   "source": [
    "with open(file_check_single, 'r') as f:\n",
    "    readable_html = f.read()\n",
    "    g_price = get_price(readable_html)\n",
    "g_price"
   ]
  },
  {
   "cell_type": "markdown",
   "metadata": {},
   "source": [
    "### get city"
   ]
  },
  {
   "cell_type": "code",
   "execution_count": 428,
   "metadata": {},
   "outputs": [],
   "source": [
    "def get_city(r):\n",
    "    \n",
    "    # get soup\n",
    "    soup = BeautifulSoup(r, 'html.parser')\n",
    "    \n",
    "    # extract\n",
    "    step1 = soup.select('div[id*=\"blcheader\"]')\n",
    "    if len(step1)>0:\n",
    "        return step1[0].select(\"h2\")[0].text.split(\" \")[-1].replace(\"\\n\", \"\")\n",
    "    return None"
   ]
  },
  {
   "cell_type": "code",
   "execution_count": 429,
   "metadata": {},
   "outputs": [
    {
     "data": {
      "text/plain": [
       "'Annemasse'"
      ]
     },
     "execution_count": 429,
     "metadata": {},
     "output_type": "execute_result"
    }
   ],
   "source": [
    "with open(file_check_single, 'r') as f:\n",
    "    readable_html = f.read()\n",
    "    g_city = get_city(readable_html)\n",
    "g_city"
   ]
  },
  {
   "cell_type": "markdown",
   "metadata": {},
   "source": [
    "### get postal code"
   ]
  },
  {
   "cell_type": "code",
   "execution_count": 432,
   "metadata": {},
   "outputs": [],
   "source": [
    "def get_postalcode(r):\n",
    "    \n",
    "    # get soup\n",
    "    soup = BeautifulSoup(r, 'html.parser')\n",
    "    \n",
    "    # extract\n",
    "    step1 = soup.select('div[id*=\"blcheader\"]')\n",
    "    if len(step1)>0:\n",
    "        return step1[0].select(\"h2\")[0].text.split(\" \")[0].replace(\"\\n\", \"\")\n",
    "    return None"
   ]
  },
  {
   "cell_type": "code",
   "execution_count": 433,
   "metadata": {},
   "outputs": [
    {
     "data": {
      "text/plain": [
       "'74100'"
      ]
     },
     "execution_count": 433,
     "metadata": {},
     "output_type": "execute_result"
    }
   ],
   "source": [
    "with open(file_check_single, 'r') as f:\n",
    "    readable_html = f.read()\n",
    "    g_post = get_postalcode(readable_html)\n",
    "g_post"
   ]
  },
  {
   "cell_type": "markdown",
   "metadata": {},
   "source": [
    "### get vehicle release date"
   ]
  },
  {
   "cell_type": "code",
   "execution_count": 487,
   "metadata": {},
   "outputs": [],
   "source": [
    "def get_releasedate(r):\n",
    "    \n",
    "    # get soup\n",
    "    soup = BeautifulSoup(r, 'html.parser')\n",
    "    \n",
    "    # extract\n",
    "    step1 = soup.select('div[class*=\"im12_txt_ann\"]')\n",
    "    if len(step1)>0:\n",
    "        step2 = step1[0].select('li[class*=\"ann\"]')\n",
    "        if len(step2)>0:\n",
    "            step3 = step2[0].select(\"span\")\n",
    "            if len(step3)>0:\n",
    "                return \"\".join(re.findall(\"[0-9]\", step3[0].text))\n",
    "    return None"
   ]
  },
  {
   "cell_type": "code",
   "execution_count": 488,
   "metadata": {},
   "outputs": [
    {
     "data": {
      "text/plain": [
       "'1993'"
      ]
     },
     "execution_count": 488,
     "metadata": {},
     "output_type": "execute_result"
    }
   ],
   "source": [
    "with open(file_check_single, 'r') as f:\n",
    "    readable_html = f.read()\n",
    "    g_release = get_releasedate(readable_html)\n",
    "g_release"
   ]
  },
  {
   "cell_type": "markdown",
   "metadata": {},
   "source": [
    "### get vehicle mileage"
   ]
  },
  {
   "cell_type": "code",
   "execution_count": 497,
   "metadata": {},
   "outputs": [],
   "source": [
    "def get_mileage(r):\n",
    "    \n",
    "    # get soup\n",
    "    soup = BeautifulSoup(r, 'html.parser')\n",
    "    \n",
    "    # extract\n",
    "    step1 = soup.select('div[class*=\"im12_txt_ann\"]')\n",
    "    if len(step1)>0:\n",
    "        step2 = step1[0].select('li[class*=\"kil\"]')\n",
    "        if len(step2)>0:\n",
    "            step3 = step2[0].select(\"span\")\n",
    "            if len(step3)>0:\n",
    "                return \"\".join(re.findall(\"[0-9]\", step3[0].text))\n",
    "    return None"
   ]
  },
  {
   "cell_type": "code",
   "execution_count": 498,
   "metadata": {},
   "outputs": [
    {
     "data": {
      "text/plain": [
       "'32000'"
      ]
     },
     "execution_count": 498,
     "metadata": {},
     "output_type": "execute_result"
    }
   ],
   "source": [
    "with open(file_check_single, 'r') as f:\n",
    "    readable_html = f.read()\n",
    "    g_mileage = get_mileage(readable_html)\n",
    "g_mileage"
   ]
  },
  {
   "cell_type": "markdown",
   "metadata": {},
   "source": [
    "### get engine capacity"
   ]
  },
  {
   "cell_type": "code",
   "execution_count": 501,
   "metadata": {},
   "outputs": [],
   "source": [
    "def get_capa(r):\n",
    "    \n",
    "    # get soup\n",
    "    soup = BeautifulSoup(r, 'html.parser')\n",
    "    \n",
    "    # extract\n",
    "    step1 = soup.select('div[class*=\"im12_txt_ann\"]')\n",
    "    if len(step1)>0:\n",
    "        step2 = step1[0].select('li[class*=\"cyl\"]')\n",
    "        if len(step2)>0:\n",
    "            step3 = step2[0].select(\"span\")\n",
    "            if len(step3)>0:\n",
    "                return \"\".join(re.findall(\"[0-9]\", step3[0].text))\n",
    "    return None"
   ]
  },
  {
   "cell_type": "code",
   "execution_count": 502,
   "metadata": {},
   "outputs": [
    {
     "data": {
      "text/plain": [
       "'500'"
      ]
     },
     "execution_count": 502,
     "metadata": {},
     "output_type": "execute_result"
    }
   ],
   "source": [
    "with open(file_check_single, 'r') as f:\n",
    "    readable_html = f.read()\n",
    "    g_capa = get_capa(readable_html)\n",
    "g_capa"
   ]
  },
  {
   "cell_type": "markdown",
   "metadata": {},
   "source": [
    "### get comment"
   ]
  },
  {
   "cell_type": "code",
   "execution_count": 519,
   "metadata": {},
   "outputs": [],
   "source": [
    "def get_comment(r):\n",
    "    \n",
    "    # get soup\n",
    "    soup = BeautifulSoup(r, 'html.parser')\n",
    "    \n",
    "    # extract\n",
    "    step1 = soup.select('div[class*=\"im12_txt_ann\"]')\n",
    "    if len(step1)>0:\n",
    "        step2 = step1[0].select('div[class*=\"txt_annonceauto\"]')\n",
    "        if len(step2)>0:\n",
    "            return step2[0].text.split(\"Prix\")[0].strip()\n",
    "    return None"
   ]
  },
  {
   "cell_type": "code",
   "execution_count": 520,
   "metadata": {},
   "outputs": [
    {
     "data": {
      "text/plain": [
       "'SUZUKI GSE, 500 Cm3 , Routière, Essence 4 temps, 1993, 32000 Km , 5 CV , 1000 \\x80.Roulante vendue pour pièces car travaux à prévoir'"
      ]
     },
     "execution_count": 520,
     "metadata": {},
     "output_type": "execute_result"
    }
   ],
   "source": [
    "with open(file_check_single, 'r') as f:\n",
    "    readable_html = f.read()\n",
    "    g_comment = get_comment(readable_html)\n",
    "g_comment"
   ]
  },
  {
   "cell_type": "markdown",
   "metadata": {},
   "source": [
    "### get seller"
   ]
  },
  {
   "cell_type": "code",
   "execution_count": 570,
   "metadata": {},
   "outputs": [],
   "source": [
    "def get_seller(r):\n",
    "    \n",
    "    # get soup\n",
    "    soup = BeautifulSoup(r, 'html.parser')\n",
    "    \n",
    "    # extract\n",
    "    step1 = soup.select('p[class*=\"txtpresentation-vendeur\"]')\n",
    "    if len(step1)>0:\n",
    "        if step1[0].text.find(\"particulier\")>0:\n",
    "            return [\"Particulier\", step1[0].text.split(\":\")[-1].strip().split(\"\\n\")[0].strip()]\n",
    "        else:\n",
    "            return [\"Professionnel\", step1[0].text.strip().split(\"\\n\")[0]]\n",
    "    return None"
   ]
  },
  {
   "cell_type": "code",
   "execution_count": 571,
   "metadata": {},
   "outputs": [
    {
     "data": {
      "text/plain": [
       "['Professionnel', 'BONNIE AND CAR']"
      ]
     },
     "execution_count": 571,
     "metadata": {},
     "output_type": "execute_result"
    }
   ],
   "source": [
    "with open(file_check_single, 'r') as f:\n",
    "    readable_html = f.read()\n",
    "    g_seller = get_seller(readable_html)\n",
    "g_seller"
   ]
  },
  {
   "cell_type": "markdown",
   "metadata": {},
   "source": [
    "### TEST 100 ANNONCES"
   ]
  },
  {
   "cell_type": "code",
   "execution_count": 574,
   "metadata": {
    "scrolled": false
   },
   "outputs": [],
   "source": [
    "list_test = []\n",
    "for single_ in os.listdir(\"pages\")[0:100]:\n",
    "    with open(f\"pages/{single_}\", 'r') as f:\n",
    "        readable_html = f.read()\n",
    "        list_test.append([get_seller(readable_html), single_])"
   ]
  },
  {
   "cell_type": "code",
   "execution_count": 576,
   "metadata": {
    "scrolled": false
   },
   "outputs": [],
   "source": [
    "#list_test"
   ]
  },
  {
   "cell_type": "markdown",
   "metadata": {},
   "source": [
    "## Extract 1 announce"
   ]
  },
  {
   "cell_type": "code",
   "execution_count": null,
   "metadata": {},
   "outputs": [],
   "source": [
    "def process_announce(file_name):\n",
    "    # charger le csv si il existe ou le créer\n",
    "    # creer une template à partir du template\n",
    "    # remplir chaque champ avec les fonctions prédéfinies\n",
    "    # concaténer au csv\n",
    "    # sauvegarder le csv\n",
    "    # deplacer le fichier html traité\n",
    "    return"
   ]
  },
  {
   "cell_type": "code",
   "execution_count": null,
   "metadata": {},
   "outputs": [],
   "source": []
  },
  {
   "cell_type": "code",
   "execution_count": null,
   "metadata": {},
   "outputs": [],
   "source": []
  },
  {
   "cell_type": "code",
   "execution_count": null,
   "metadata": {},
   "outputs": [],
   "source": []
  },
  {
   "cell_type": "code",
   "execution_count": null,
   "metadata": {},
   "outputs": [],
   "source": []
  },
  {
   "cell_type": "code",
   "execution_count": null,
   "metadata": {},
   "outputs": [],
   "source": []
  },
  {
   "cell_type": "code",
   "execution_count": null,
   "metadata": {},
   "outputs": [],
   "source": []
  },
  {
   "cell_type": "code",
   "execution_count": null,
   "metadata": {},
   "outputs": [],
   "source": []
  },
  {
   "cell_type": "code",
   "execution_count": null,
   "metadata": {},
   "outputs": [],
   "source": []
  },
  {
   "cell_type": "code",
   "execution_count": null,
   "metadata": {},
   "outputs": [],
   "source": []
  },
  {
   "cell_type": "code",
   "execution_count": null,
   "metadata": {},
   "outputs": [],
   "source": []
  },
  {
   "cell_type": "code",
   "execution_count": null,
   "metadata": {},
   "outputs": [],
   "source": []
  },
  {
   "cell_type": "code",
   "execution_count": null,
   "metadata": {},
   "outputs": [],
   "source": []
  },
  {
   "cell_type": "code",
   "execution_count": null,
   "metadata": {},
   "outputs": [],
   "source": []
  },
  {
   "cell_type": "code",
   "execution_count": null,
   "metadata": {},
   "outputs": [],
   "source": []
  },
  {
   "cell_type": "code",
   "execution_count": null,
   "metadata": {},
   "outputs": [],
   "source": []
  },
  {
   "cell_type": "code",
   "execution_count": 214,
   "metadata": {},
   "outputs": [
    {
     "data": {
      "text/plain": [
       "'paruvendu-1249401565-2021-05-30_19h03.html'"
      ]
     },
     "execution_count": 214,
     "metadata": {},
     "output_type": "execute_result"
    }
   ],
   "source": [
    "os.listdir(\"pages\")[25]"
   ]
  },
  {
   "cell_type": "code",
   "execution_count": null,
   "metadata": {},
   "outputs": [],
   "source": []
  },
  {
   "cell_type": "code",
   "execution_count": null,
   "metadata": {},
   "outputs": [],
   "source": []
  },
  {
   "cell_type": "code",
   "execution_count": null,
   "metadata": {},
   "outputs": [],
   "source": []
  },
  {
   "cell_type": "code",
   "execution_count": null,
   "metadata": {},
   "outputs": [],
   "source": []
  },
  {
   "cell_type": "code",
   "execution_count": null,
   "metadata": {},
   "outputs": [],
   "source": []
  },
  {
   "cell_type": "code",
   "execution_count": null,
   "metadata": {},
   "outputs": [],
   "source": []
  },
  {
   "cell_type": "code",
   "execution_count": 3,
   "metadata": {},
   "outputs": [],
   "source": [
    "url_root = 'https://www.lacentrale.fr'"
   ]
  },
  {
   "cell_type": "code",
   "execution_count": 9,
   "metadata": {},
   "outputs": [],
   "source": [
    "page = 1\n",
    "url = \"https://www.lacentrale.fr/listing?makesModelsCommercialNames=&options=&page=\" + str(page) + \"&sortBy=firstOnlineDateDesc&vertical=moto\""
   ]
  },
  {
   "cell_type": "code",
   "execution_count": 10,
   "metadata": {
    "scrolled": false
   },
   "outputs": [],
   "source": [
    "response = requests.get(url, headers=headers, params=params)"
   ]
  },
  {
   "cell_type": "code",
   "execution_count": 11,
   "metadata": {
    "scrolled": false
   },
   "outputs": [],
   "source": [
    "soup = BeautifulSoup(response.content, 'html.parser')"
   ]
  },
  {
   "cell_type": "code",
   "execution_count": 12,
   "metadata": {
    "scrolled": false
   },
   "outputs": [
    {
     "data": {
      "text/plain": [
       "['https://www.lacentrale.fr/moto-occasion-annonce-87102063655.html',\n",
       " 'https://www.lacentrale.fr/moto-occasion-annonce-66101608557.html',\n",
       " 'https://www.lacentrale.fr/moto-occasion-annonce-66101608657.html',\n",
       " 'https://www.lacentrale.fr/moto-occasion-annonce-87102063659.html',\n",
       " 'https://www.lacentrale.fr/moto-occasion-annonce-87102063706.html',\n",
       " 'https://www.lacentrale.fr/moto-occasion-annonce-87102063799.html',\n",
       " 'https://www.lacentrale.fr/moto-occasion-annonce-87102063773.html',\n",
       " 'https://www.lacentrale.fr/moto-occasion-annonce-66101608452.html',\n",
       " 'https://www.lacentrale.fr/moto-occasion-annonce-66101608445.html',\n",
       " 'https://www.lacentrale.fr/moto-occasion-annonce-66101608444.html',\n",
       " 'https://www.lacentrale.fr/moto-occasion-annonce-66101608541.html',\n",
       " 'https://www.lacentrale.fr/moto-occasion-annonce-66101608522.html',\n",
       " 'https://www.lacentrale.fr/moto-occasion-annonce-66101608614.html',\n",
       " 'https://www.lacentrale.fr/moto-occasion-annonce-66101608589.html',\n",
       " 'https://www.lacentrale.fr/moto-occasion-annonce-66101608626.html',\n",
       " 'https://www.lacentrale.fr/moto-occasion-annonce-66101608649.html']"
      ]
     },
     "execution_count": 12,
     "metadata": {},
     "output_type": "execute_result"
    }
   ],
   "source": [
    "one_page_list = []\n",
    "for k in soup.select('a[class*=\"searchCard__link\"]'):\n",
    "    title = k.get('href')\n",
    "    one_page_list.append(url_root + title)\n",
    "one_page_list"
   ]
  },
  {
   "cell_type": "markdown",
   "metadata": {},
   "source": [
    "# Template dataframe line"
   ]
  },
  {
   "cell_type": "code",
   "execution_count": 13,
   "metadata": {},
   "outputs": [
    {
     "data": {
      "text/html": [
       "<div>\n",
       "<style scoped>\n",
       "    .dataframe tbody tr th:only-of-type {\n",
       "        vertical-align: middle;\n",
       "    }\n",
       "\n",
       "    .dataframe tbody tr th {\n",
       "        vertical-align: top;\n",
       "    }\n",
       "\n",
       "    .dataframe thead th {\n",
       "        text-align: right;\n",
       "    }\n",
       "</style>\n",
       "<table border=\"1\" class=\"dataframe\">\n",
       "  <thead>\n",
       "    <tr style=\"text-align: right;\">\n",
       "      <th></th>\n",
       "      <th>url</th>\n",
       "      <th>reference</th>\n",
       "      <th>date_scrapped</th>\n",
       "      <th>announce_publication_date</th>\n",
       "      <th>model</th>\n",
       "      <th>price</th>\n",
       "      <th>location</th>\n",
       "      <th>year</th>\n",
       "      <th>release date</th>\n",
       "      <th>mileage</th>\n",
       "      <th>gearbox</th>\n",
       "      <th>external color</th>\n",
       "      <th>first hand</th>\n",
       "      <th>number of owners</th>\n",
       "      <th>SAE gross horsepower [HP]</th>\n",
       "      <th>DIN horsepower [HP]</th>\n",
       "      <th>engine capacity [CC]</th>\n",
       "      <th>crit'air</th>\n",
       "      <th>guarantee</th>\n",
       "      <th>Norme Euro</th>\n",
       "      <th>options</th>\n",
       "      <th>seller</th>\n",
       "      <th>seller_name</th>\n",
       "      <th>seller_type</th>\n",
       "      <th>seller_created_at</th>\n",
       "      <th>selling_at_lacentrale_since</th>\n",
       "    </tr>\n",
       "  </thead>\n",
       "  <tbody>\n",
       "    <tr>\n",
       "      <th>0</th>\n",
       "      <td></td>\n",
       "      <td></td>\n",
       "      <td>1970-01-01</td>\n",
       "      <td>NaN</td>\n",
       "      <td></td>\n",
       "      <td>NaN</td>\n",
       "      <td>NaN</td>\n",
       "      <td>0</td>\n",
       "      <td>1970-01-01</td>\n",
       "      <td>0</td>\n",
       "      <td>NaN</td>\n",
       "      <td>NaN</td>\n",
       "      <td>NaN</td>\n",
       "      <td>NaN</td>\n",
       "      <td>NaN</td>\n",
       "      <td>NaN</td>\n",
       "      <td>NaN</td>\n",
       "      <td>NaN</td>\n",
       "      <td>NaN</td>\n",
       "      <td>NaN</td>\n",
       "      <td></td>\n",
       "      <td></td>\n",
       "      <td></td>\n",
       "      <td></td>\n",
       "      <td>NaN</td>\n",
       "      <td>NaN</td>\n",
       "    </tr>\n",
       "  </tbody>\n",
       "</table>\n",
       "</div>"
      ],
      "text/plain": [
       "  url reference date_scrapped  announce_publication_date model  price  \\\n",
       "0                  1970-01-01                        NaN          NaN   \n",
       "\n",
       "   location  year release date  mileage  gearbox  external color  first hand  \\\n",
       "0       NaN     0   1970-01-01        0      NaN             NaN         NaN   \n",
       "\n",
       "   number of owners  SAE gross horsepower [HP]  DIN horsepower [HP]  \\\n",
       "0               NaN                        NaN                  NaN   \n",
       "\n",
       "   engine capacity [CC]  crit'air  guarantee  Norme Euro options seller  \\\n",
       "0                   NaN       NaN        NaN         NaN                  \n",
       "\n",
       "  seller_name seller_type  seller_created_at  selling_at_lacentrale_since  \n",
       "0                                        NaN                          NaN  "
      ]
     },
     "execution_count": 13,
     "metadata": {},
     "output_type": "execute_result"
    }
   ],
   "source": [
    "announce_template = pd.DataFrame({\"url\": \"\",\n",
    "                                  \"reference\": \"\",\n",
    "                                  \"date_scrapped\": [datetime.datetime(1970, 1, 1)],\n",
    "                                  \"announce_publication_date\": [np.nan],\n",
    "                                  \"model\": \"\",\n",
    "                                  \"price\": [np.nan],\n",
    "                                  \"location\": [np.nan],\n",
    "                                  \"year\": [0],\n",
    "                                  \"release date\": [datetime.datetime(1970, 1, 1)],\n",
    "                                  \"mileage\": [0],\n",
    "                                  \"gearbox\": [np.nan],\n",
    "                                  \"external color\": [np.nan],\n",
    "                                  \"first hand\": [np.nan],\n",
    "                                  \"number of owners\": [np.nan],\n",
    "                                  \"SAE gross horsepower [HP]\": [np.nan],\n",
    "                                  \"DIN horsepower [HP]\": [np.nan],\n",
    "                                  \"engine capacity [CC]\": [np.nan],\n",
    "                                  \"crit'air\": [np.nan],\n",
    "                                  \"guarantee\": [np.nan],\n",
    "                                  \"Norme Euro\": [np.nan],\n",
    "                                  \"options\": \"\",\n",
    "                                  \"seller\": \"\",\n",
    "                                  \"seller_name\": \"\",\n",
    "                                  \"seller_type\": \"\",\n",
    "                                  \"seller_created_at\": [np.nan],\n",
    "                                  \"selling_at_lacentrale_since\": [np.nan]})\n",
    "announce_template"
   ]
  },
  {
   "cell_type": "markdown",
   "metadata": {},
   "source": [
    "# Defining functions"
   ]
  },
  {
   "cell_type": "markdown",
   "metadata": {},
   "source": [
    "## test_dataframe"
   ]
  },
  {
   "cell_type": "code",
   "execution_count": 14,
   "metadata": {},
   "outputs": [],
   "source": [
    "url_test = 'https://www.lacentrale.fr/moto-occasion-annonce-87102054557.html'"
   ]
  },
  {
   "cell_type": "code",
   "execution_count": 15,
   "metadata": {},
   "outputs": [],
   "source": [
    "resp_test = requests.get(url_test, headers=headers, params=params)\n",
    "soup_test = BeautifulSoup(resp_test.content, 'html.parser')"
   ]
  },
  {
   "cell_type": "markdown",
   "metadata": {},
   "source": [
    "## get seller info"
   ]
  },
  {
   "cell_type": "code",
   "execution_count": 16,
   "metadata": {},
   "outputs": [
    {
     "data": {
      "text/plain": [
       "{'seller': 'professionnel',\n",
       " 'seller_name': 'AUTOSTRAAT',\n",
       " 'seller_type': 'Centre multimarques',\n",
       " 'seller_created_at': '2016',\n",
       " 'selling_at_lacentrale_since': '2016'}"
      ]
     },
     "execution_count": 16,
     "metadata": {},
     "output_type": "execute_result"
    }
   ],
   "source": [
    "def get_seller_info(soup_):\n",
    "    \n",
    "    seller_ = dict({\"seller\": \"\",\n",
    "                     \"seller_name\": \"\",\n",
    "                     \"seller_type\": \"\",\n",
    "                     \"seller_created_at\": [np.nan],\n",
    "                     \"selling_at_lacentrale_since\": [np.nan]})\n",
    "    \n",
    "    seller1 = soup_.select('div[class*=\"cbm-moduleSeller\"]')\n",
    "    \n",
    "    if len(seller1)>0:\n",
    "        if seller1[0].select(\"h2\")[0].text.replace(\"\\n\", \"\").find(\"particulier\") > 0:\n",
    "            seller_[\"seller\"] = \"particulier\"\n",
    "        else:\n",
    "            seller_[\"seller\"] = \"professionnel\"\n",
    "    \n",
    "    if seller_[\"seller\"] == \"professionnel\":\n",
    "        \n",
    "        seller2 = soup_.select('ul[class*=\"cbm-sellerInfos\"]')\n",
    "        \n",
    "        if len(seller2)>0:\n",
    "            for k in seller2[0].select(\"li\"):\n",
    "                if k.select(\"span\")[0].text.find(\"Type de vendeur\")>=0:\n",
    "                    seller_[\"seller_type\"] = k.select(\"span\")[-1].text.replace(\"\\n\",\"\")\n",
    "                if k.select(\"span\")[0].text.find(\"création\")>=0:\n",
    "                    seller_[\"seller_created_at\"] = k.select(\"span\")[-1].text\n",
    "                if k.select(\"span\")[0].text.find(\"Centrale depuis\")>=0:\n",
    "                    seller_[\"selling_at_lacentrale_since\"] = k.select(\"span\")[-1].text\n",
    "        \n",
    "        seller3 = soup_.select('h3[class*=\"cbm-sellerName__Name\"]')\n",
    "        \n",
    "        if len(seller3)>0:\n",
    "            seller_[\"seller_name\"] = seller3[0].text\n",
    "    \n",
    "    return seller_\n",
    "get_seller_info(soup_test)"
   ]
  },
  {
   "cell_type": "markdown",
   "metadata": {},
   "source": [
    "## get price"
   ]
  },
  {
   "cell_type": "code",
   "execution_count": 17,
   "metadata": {},
   "outputs": [
    {
     "data": {
      "text/plain": [
       "13560.0"
      ]
     },
     "execution_count": 17,
     "metadata": {},
     "output_type": "execute_result"
    }
   ],
   "source": [
    "def get_price(soup_):\n",
    "    return float(re.findall('[0-9 ]*', soup_.select('span[class*=\"cbm__priceWrapper\"]')[0].text)[1].replace(\" \", \"\"))\n",
    "get_price(soup_test)"
   ]
  },
  {
   "cell_type": "markdown",
   "metadata": {},
   "source": [
    "## get location"
   ]
  },
  {
   "cell_type": "code",
   "execution_count": 18,
   "metadata": {},
   "outputs": [
    {
     "data": {
      "text/plain": [
       "'Haute-Garonne'"
      ]
     },
     "execution_count": 18,
     "metadata": {},
     "output_type": "execute_result"
    }
   ],
   "source": [
    "def get_location(soup_):\n",
    "    return soup_.select('span[itemprop*=\"name\"]')[-1].text\n",
    "get_location(soup_test)"
   ]
  },
  {
   "cell_type": "markdown",
   "metadata": {},
   "source": [
    "## get announce reference"
   ]
  },
  {
   "cell_type": "code",
   "execution_count": 19,
   "metadata": {},
   "outputs": [
    {
     "data": {
      "text/plain": [
       "'W102054557'"
      ]
     },
     "execution_count": 19,
     "metadata": {},
     "output_type": "execute_result"
    }
   ],
   "source": [
    "def get_announce_reference(soup_):\n",
    "    content_ = soup_.select('span[class*=\"headerSection-extraContent\"]')[0].text\n",
    "    findrefpos = content_.find(\"Réf. annonce : \")\n",
    "    return content_[findrefpos + len(\"Réf. annonce : \"):]\n",
    "get_announce_reference(soup_test)"
   ]
  },
  {
   "cell_type": "markdown",
   "metadata": {},
   "source": [
    "## Save images"
   ]
  },
  {
   "cell_type": "code",
   "execution_count": 20,
   "metadata": {},
   "outputs": [],
   "source": [
    "def save_images(images_list, uniq_id):\n",
    "    k=0\n",
    "    for image_url in images_list[0:3]:\n",
    "        image_name = f'images/{uniq_id}-{k}.jpg'\n",
    "        if os.path.isfile(image_name) is False:\n",
    "            img_data = requests.get(image_url).content\n",
    "            with open(image_name, 'wb') as handler:\n",
    "                handler.write(img_data)\n",
    "            image = Image.open(image_name) \n",
    "            ratio = image.size[0] / image.size[1]\n",
    "            image = image.resize((300,int(300/ratio)))\n",
    "            image.save(f'images/{uniq_id}-{k}.jpg',optimize = True, quality = 50)\n",
    "        k+=1"
   ]
  },
  {
   "cell_type": "code",
   "execution_count": 21,
   "metadata": {},
   "outputs": [],
   "source": [
    "def get_images(soup_, uniq_id):\n",
    "    \n",
    "    image_list = []\n",
    "    \n",
    "    container = soup_.find('div',id=\"cbm-carousel\")\n",
    "    \n",
    "    if container:\n",
    "        to_json = json.loads(container.text).get(\"slides\", [])\n",
    "        for k in to_json:\n",
    "            image_list.append(k[\"src\"])\n",
    "    save_images(image_list, uniq_id)\n",
    "    return"
   ]
  },
  {
   "cell_type": "markdown",
   "metadata": {},
   "source": [
    "## get model"
   ]
  },
  {
   "cell_type": "code",
   "execution_count": 23,
   "metadata": {},
   "outputs": [
    {
     "data": {
      "text/plain": [
       "'HONDA CROSSTOURER 1200 DCT'"
      ]
     },
     "execution_count": 23,
     "metadata": {},
     "output_type": "execute_result"
    }
   ],
   "source": [
    "def get_model(soup_):\n",
    "    if len(soup_.select('h1[class*=\"cbm-moduleInfos__informationListFirst\"]'))!=0:\n",
    "        return soup_.select('h1[class*=\"cbm-moduleInfos__informationListFirst\"]')[0].text\n",
    "get_model(soup_test)"
   ]
  },
  {
   "cell_type": "markdown",
   "metadata": {},
   "source": [
    "## get options"
   ]
  },
  {
   "cell_type": "code",
   "execution_count": 24,
   "metadata": {},
   "outputs": [
    {
     "data": {
      "text/plain": [
       "\"bulle réglable####valises####top case####ordi. de bord####factures d'entretien\""
      ]
     },
     "execution_count": 24,
     "metadata": {},
     "output_type": "execute_result"
    }
   ],
   "source": [
    "def get_options(soup_):\n",
    "    option_list = []\n",
    "    if len(soup_.select('article[data-id*=\"optionEquipments\"]'))!=0:\n",
    "        options_ = soup_.select('article[data-id*=\"optionEquipments\"]')[0].find_all(\"li\")\n",
    "        for k in options_:\n",
    "            option_list.append(k.text)\n",
    "    return \"####\".join(option_list)\n",
    "get_options(soup_test)"
   ]
  },
  {
   "cell_type": "markdown",
   "metadata": {},
   "source": [
    "## get announce publication date"
   ]
  },
  {
   "cell_type": "code",
   "execution_count": 25,
   "metadata": {
    "scrolled": false
   },
   "outputs": [
    {
     "data": {
      "text/plain": [
       "11"
      ]
     },
     "execution_count": 25,
     "metadata": {},
     "output_type": "execute_result"
    }
   ],
   "source": [
    "def get_publication_date(soup_):\n",
    "    if len(soup_.select('div[class*=\"cbm-toolboxButtons\"]'))!=0:\n",
    "        return int(re.findall('[0-9]*', soup_.select('div[class*=\"cbm-toolboxButtons\"]')[0].find(\"strong\").text)[0])\n",
    "get_publication_date(soup_test)"
   ]
  },
  {
   "cell_type": "markdown",
   "metadata": {},
   "source": [
    "## save page list"
   ]
  },
  {
   "cell_type": "code",
   "execution_count": 104,
   "metadata": {},
   "outputs": [],
   "source": [
    "def save_page_list(req, page=1):\n",
    "    datetime_1 = datetime.datetime.now().strftime(\"%Y-%m-%d_%Hh%M\")\n",
    "    page_list_name = \"lacentrale\" + \"-\" + datetime_1 + \"-\" + str(page)\n",
    "    with open(\"annonces/\" + page_list_name + \".html\", \"w\")  as file:\n",
    "        file.write(req.text)\n",
    "        file.close()"
   ]
  },
  {
   "cell_type": "markdown",
   "metadata": {},
   "source": [
    "## save announce"
   ]
  },
  {
   "cell_type": "code",
   "execution_count": 27,
   "metadata": {},
   "outputs": [],
   "source": [
    "def save_single_announce_html(req, uniq_id):\n",
    "    datetime_1 = datetime.datetime.now().strftime(\"%Y-%m-%d\")\n",
    "    page_announce = uniq_id + \"-\" + datetime_1\n",
    "    with open(\"pages/\" + page_announce + \".html\", \"w\")  as file:\n",
    "        file.write(req.text)\n",
    "        file.close()"
   ]
  },
  {
   "cell_type": "markdown",
   "metadata": {},
   "source": [
    "## get url list"
   ]
  },
  {
   "cell_type": "code",
   "execution_count": 552,
   "metadata": {
    "scrolled": false
   },
   "outputs": [
    {
     "name": "stdout",
     "output_type": "stream",
     "text": [
      "https://www.lacentrale.fr/moto-occasion-annonce-87102063655.html\n",
      "<div class=\"searchCard__fieldPriceBadge\"><div class=\"searchCard__fieldPrice\"><span class=\"text text-left text-color5 text-big text-regular\">19 911 €</span></div><div class=\"searchCard__badge\"><div class=\"goodDeal\"><span class=\"goodDeal-label\">Analyse indisponible</span><span class=\"goodDeal-badge goodDeal-badge-0\"><span></span><span></span><span></span><span></span><span></span></span></div></div></div>\n",
      "https://www.lacentrale.fr/moto-occasion-annonce-66101608557.html\n",
      "<div class=\"searchCard__fieldPriceBadge\"><div class=\"searchCard__fieldPrice\"><span class=\"text text-left text-color5 text-big text-regular\">12 500 €</span></div><div class=\"searchCard__badge\"><div class=\"goodDeal\"><span class=\"goodDeal-label\">Très bonne affaire</span><span class=\"goodDeal-badge goodDeal-badge-5\"><span></span><span></span><span></span><span></span><span></span></span></div></div></div>\n",
      "https://www.lacentrale.fr/moto-occasion-annonce-66101609221.html\n",
      "<div class=\"searchCard__fieldPriceBadge\"><div class=\"searchCard__fieldPrice\"><span class=\"text text-left text-color5 text-big text-regular\">6 200 €</span></div><div class=\"searchCard__badge\"><div class=\"goodDeal\"><span class=\"goodDeal-label\">Analyse indisponible</span><span class=\"goodDeal-badge goodDeal-badge-0\"><span></span><span></span><span></span><span></span><span></span></span></div></div></div>\n",
      "https://www.lacentrale.fr/moto-occasion-annonce-66101609034.html\n",
      "<div class=\"searchCard__fieldPriceBadge\"><div class=\"searchCard__fieldPrice\"><span class=\"text text-left text-color5 text-big text-regular\">9 800 €</span></div><div class=\"searchCard__badge\"><div class=\"goodDeal\"><span class=\"goodDeal-label\">Offre équitable</span><span class=\"goodDeal-badge goodDeal-badge-3\"><span></span><span></span><span></span><span></span><span></span></span></div></div></div>\n",
      "https://www.lacentrale.fr/moto-occasion-annonce-66101608657.html\n",
      "<div class=\"searchCard__fieldPriceBadge\"><div class=\"searchCard__fieldPrice\"><span class=\"text text-left text-color5 text-big text-regular\">8 199 €</span></div><div class=\"searchCard__badge\"><div class=\"goodDeal\"><span class=\"goodDeal-label\">Offre équitable</span><span class=\"goodDeal-badge goodDeal-badge-3\"><span></span><span></span><span></span><span></span><span></span></span></div></div></div>\n",
      "https://www.lacentrale.fr/moto-occasion-annonce-66101609161.html\n",
      "<div class=\"searchCard__fieldPriceBadge\"><div class=\"searchCard__fieldPrice\"><span class=\"text text-left text-color5 text-big text-regular\">3 300 €</span></div><div class=\"searchCard__badge\"><div class=\"goodDeal\"><span class=\"goodDeal-label\">Au dessus du marché</span><span class=\"goodDeal-badge goodDeal-badge-2\"><span></span><span></span><span></span><span></span><span></span></span></div></div></div>\n",
      "https://www.lacentrale.fr/moto-occasion-annonce-66101609268.html\n",
      "<div class=\"searchCard__fieldPriceBadge\"><div class=\"searchCard__fieldPrice\"><span class=\"text text-left text-color5 text-big text-regular\">5 400 €</span></div><div class=\"searchCard__badge\"><div class=\"goodDeal\"><span class=\"goodDeal-label\">Analyse indisponible</span><span class=\"goodDeal-badge goodDeal-badge-0\"><span></span><span></span><span></span><span></span><span></span></span></div></div></div>\n",
      "https://www.lacentrale.fr/moto-occasion-annonce-87102063799.html\n",
      "<div class=\"searchCard__fieldPriceBadge\"><div class=\"searchCard__fieldPrice\"><span class=\"text text-left text-color5 text-big text-regular\">5 990 €</span></div><div class=\"searchCard__badge\"><div class=\"goodDeal\"><span class=\"goodDeal-label\">Analyse indisponible</span><span class=\"goodDeal-badge goodDeal-badge-0\"><span></span><span></span><span></span><span></span><span></span></span></div></div></div>\n",
      "https://www.lacentrale.fr/moto-occasion-annonce-87102063773.html\n",
      "<div class=\"searchCard__fieldPriceBadge\"><div class=\"searchCard__fieldPrice\"><span class=\"text text-left text-color5 text-big text-regular\">9 490 €</span></div><div class=\"searchCard__badge\"><div class=\"goodDeal\"><span class=\"goodDeal-label\">Analyse indisponible</span><span class=\"goodDeal-badge goodDeal-badge-0\"><span></span><span></span><span></span><span></span><span></span></span></div></div></div>\n",
      "https://www.lacentrale.fr/moto-occasion-annonce-87102063659.html\n",
      "<div class=\"searchCard__fieldPriceBadge\"><div class=\"searchCard__fieldPrice\"><span class=\"text text-left text-color5 text-big text-regular\">7 500 €</span></div><div class=\"searchCard__badge\"><div class=\"goodDeal\"><span class=\"goodDeal-label\">Analyse indisponible</span><span class=\"goodDeal-badge goodDeal-badge-0\"><span></span><span></span><span></span><span></span><span></span></span></div></div></div>\n",
      "https://www.lacentrale.fr/moto-occasion-annonce-87102063706.html\n",
      "<div class=\"searchCard__fieldPriceBadge\"><div class=\"searchCard__fieldPrice\"><span class=\"text text-left text-color5 text-big text-regular\">5 990 €</span></div><div class=\"searchCard__badge\"><div class=\"goodDeal\"><span class=\"goodDeal-label\">Analyse indisponible</span><span class=\"goodDeal-badge goodDeal-badge-0\"><span></span><span></span><span></span><span></span><span></span></span></div></div></div>\n",
      "https://www.lacentrale.fr/moto-occasion-annonce-66101608927.html\n",
      "<div class=\"searchCard__fieldPriceBadge\"><div class=\"searchCard__fieldPrice\"><span class=\"text text-left text-color5 text-big text-regular\">19 500 €</span></div><div class=\"searchCard__badge\"><div class=\"goodDeal\"><span class=\"goodDeal-label\">Très bonne affaire</span><span class=\"goodDeal-badge goodDeal-badge-5\"><span></span><span></span><span></span><span></span><span></span></span></div></div></div>\n",
      "https://www.lacentrale.fr/moto-occasion-annonce-66101608739.html\n",
      "<div class=\"searchCard__fieldPriceBadge\"><div class=\"searchCard__fieldPrice\"><span class=\"text text-left text-color5 text-big text-regular\">3 200 €</span></div><div class=\"searchCard__badge\"><div class=\"goodDeal\"><span class=\"goodDeal-label\">Analyse indisponible</span><span class=\"goodDeal-badge goodDeal-badge-0\"><span></span><span></span><span></span><span></span><span></span></span></div></div></div>\n",
      "https://www.lacentrale.fr/moto-occasion-annonce-66101608858.html\n",
      "<div class=\"searchCard__fieldPriceBadge\"><div class=\"searchCard__fieldPrice\"><span class=\"text text-left text-color5 text-big text-regular\">6 800 €</span></div><div class=\"searchCard__badge\"><div class=\"goodDeal\"><span class=\"goodDeal-label\">Analyse indisponible</span><span class=\"goodDeal-badge goodDeal-badge-0\"><span></span><span></span><span></span><span></span><span></span></span></div></div></div>\n",
      "https://www.lacentrale.fr/moto-occasion-annonce-66101608444.html\n",
      "<div class=\"searchCard__fieldPriceBadge\"><div class=\"searchCard__fieldPrice\"><span class=\"text text-left text-color5 text-big text-regular\">8 900 €</span></div><div class=\"searchCard__badge\"><div class=\"goodDeal\"><span class=\"goodDeal-label\">Analyse indisponible</span><span class=\"goodDeal-badge goodDeal-badge-0\"><span></span><span></span><span></span><span></span><span></span></span></div></div></div>\n",
      "https://www.lacentrale.fr/moto-occasion-annonce-66101609029.html\n",
      "<div class=\"searchCard__fieldPriceBadge\"><div class=\"searchCard__fieldPrice\"><span class=\"text text-left text-color5 text-big text-regular\">5 300 €</span></div><div class=\"searchCard__badge\"><div class=\"goodDeal\"><span class=\"goodDeal-label\">Offre équitable</span><span class=\"goodDeal-badge goodDeal-badge-3\"><span></span><span></span><span></span><span></span><span></span></span></div></div></div>\n"
     ]
    }
   ],
   "source": [
    "def get_url_list(page=1):\n",
    "    \n",
    "    # defining dict template\n",
    "    page_announces = dict({\"request\": [np.nan],\n",
    "                           \"url_list\": [],\n",
    "                           \"price_list\": []})\n",
    "    \n",
    "    # defining page of announce according to page parameter\n",
    "    url_announces = f\"https://www.lacentrale.fr/listing?makesModelsCommercialNames=&options=&page={page}&sortBy=firstOnlineDateDesc&vertical=moto\"\n",
    "    \n",
    "    # listing all announces in the page\n",
    "    list_announces = requests.get(url_announces, headers=headers)#, params=params)\n",
    "    soup_announces = BeautifulSoup(list_announces.content, 'html.parser')\n",
    "    \n",
    "    result_container = soup_announces.find(\"div\", class_=\"resultListContainer\")\n",
    "    \n",
    "    # getting individual announces url\n",
    "    for k in result_container.select('a[class*=\"searchCard__link\"]'):\n",
    "        title = k.get('href')\n",
    "        page_announces[\"url_list\"].append(url_root + title)\n",
    "        print(url_root+title)\n",
    "        print(k.find(\"div\", class_=\"searchCard__fieldPriceBadge\"))\n",
    "    \n",
    "    # getting individual prices of announces url\n",
    "    #for z in soup_announces.select('a[class*=\"searchCard__link\"]'):\n",
    "    #    print(z.find_all(\"div\", class_=\"searchCard__fieldPriceBadge\"))\n",
    "        #title = k.get('href')\n",
    "        #page_announces[\"url_list\"].append(url_root + title)    \n",
    "    \n",
    "    return# one_page_url_list, list_announces\n",
    "get_url_list(page=1)"
   ]
  },
  {
   "cell_type": "markdown",
   "metadata": {},
   "source": [
    "## Check price change"
   ]
  },
  {
   "cell_type": "code",
   "execution_count": null,
   "metadata": {},
   "outputs": [],
   "source": [
    "def exists_or_changed(url, df):\n",
    "    for "
   ]
  },
  {
   "cell_type": "markdown",
   "metadata": {},
   "source": [
    "# Define function for 1 announce extraction"
   ]
  },
  {
   "cell_type": "code",
   "execution_count": 257,
   "metadata": {
    "scrolled": true
   },
   "outputs": [],
   "source": [
    "def get_one_announce(url):\n",
    "    \n",
    "    announce = announce_template.copy()\n",
    "    \n",
    "    resp_single = requests.get(url, headers=headers, params=params)\n",
    "    soup_single = BeautifulSoup(resp_single.content, 'html.parser')\n",
    "    uniq_id = \"lacentrale_\" + get_announce_reference(soup_single)\n",
    "    save_single_announce_html(resp_single, uniq_id)\n",
    "    seller_ = get_seller_info(soup_single)\n",
    "    \n",
    "    announce[\"seller\"] = seller_[\"seller\"]\n",
    "    announce[\"seller_name\"] = seller_[\"seller_name\"]\n",
    "    announce[\"seller_type\"] = seller_[\"seller_type\"]\n",
    "    announce[\"seller_created_at\"] = seller_[\"seller_created_at\"]\n",
    "    announce[\"selling_at_lacentrale_since\"] = seller_[\"selling_at_lacentrale_since\"]\n",
    "    \n",
    "    announce[\"url\"] = url\n",
    "    announce[\"reference\"] = uniq_id\n",
    "    announce[\"announce_publication_date\"] = get_publication_date(soup_single)\n",
    "    announce[\"model\"] = get_model(soup_single)\n",
    "    announce[\"price\"] = get_price(soup_single)\n",
    "    announce[\"location\"] = get_location(soup_single)\n",
    "    announce[\"options\"] = get_options(soup_single)\n",
    "    \n",
    "    announce[\"date_scrapped\"] = pd.to_datetime(datetime.datetime.now())\n",
    "    \n",
    "    get_images(soup_single, uniq_id)\n",
    "\n",
    "    list_single = []\n",
    "    \n",
    "    if len(soup_single.select('section[id*=\"generalInformation\"]'))!=0:\n",
    "        for k in soup_single.select('section[id*=\"generalInformation\"]')[0].select('li'):\n",
    "            feature_key = k.select('span')[0].text\n",
    "            feature_value = k.select('span')[1].text\n",
    "            list_single.append([feature_key, feature_value])\n",
    "        \n",
    "        for k in list_single:\n",
    "            if k[0].find(\"Année\")>=0:\n",
    "                announce[\"year\"] = int(k[1])\n",
    "            if k[0].find(\"circulation\")>=0:\n",
    "                announce[\"release date\"] = pd.to_datetime(k[1])\n",
    "            if k[0].find(\"vitesse\")>=0:\n",
    "                if len(k[1])!=0:\n",
    "                    announce[\"gearbox\"] = k[1]\n",
    "            if k[0].find(\"Kilométrage\")>=0:\n",
    "                announce[\"mileage\"] = float(re.findall('^[0-9 ]*', k[1])[0].replace(\" \", \"\"))\n",
    "            if k[0].find(\"Couleur\")>=0:\n",
    "                announce[\"external color\"] = k[1]\n",
    "            if k[0].find(\"Première main\")>=0:\n",
    "                announce[\"first hand\"] = k[1]\n",
    "            if k[0].find(\"Nombre de propri\")>=0:\n",
    "                announce[\"number of owners\"] = int(k[1])\n",
    "            if k[0].find(\"Puissance fiscale\")>=0:\n",
    "                announce[\"SAE gross horsepower [HP]\"] = int(re.findall('^[0-9 ]*', k[1])[0].replace(\" \", \"\"))\n",
    "            if k[0].find(\"Puissance din\")>=0:\n",
    "                announce[\"DIN horsepower [HP]\"] = int(re.findall('^[0-9 ]*', k[1])[0].replace(\" \", \"\"))\n",
    "            if k[0].find(\"Cylindrée\")>=0:\n",
    "                announce[\"engine capacity [CC]\"] = int(re.findall('^[0-9 ]*', k[1])[0].replace(\" \", \"\"))\n",
    "            if k[0].find(\"Crit'Air\")>=0:\n",
    "                announce[\"crit'air\"] = int(k[1])\n",
    "            if k[0].find(\"Garantie\")>=0:\n",
    "                announce[\"guarantee\"] = k[1]\n",
    "            if k[0].find(\"Norme Euro\")>=0:\n",
    "                announce[\"Norme Euro\"] = k[1]\n",
    "        \n",
    "    return announce"
   ]
  },
  {
   "cell_type": "markdown",
   "metadata": {},
   "source": [
    "## testing on one announce"
   ]
  },
  {
   "cell_type": "code",
   "execution_count": 258,
   "metadata": {},
   "outputs": [
    {
     "data": {
      "text/html": [
       "<div>\n",
       "<style scoped>\n",
       "    .dataframe tbody tr th:only-of-type {\n",
       "        vertical-align: middle;\n",
       "    }\n",
       "\n",
       "    .dataframe tbody tr th {\n",
       "        vertical-align: top;\n",
       "    }\n",
       "\n",
       "    .dataframe thead th {\n",
       "        text-align: right;\n",
       "    }\n",
       "</style>\n",
       "<table border=\"1\" class=\"dataframe\">\n",
       "  <thead>\n",
       "    <tr style=\"text-align: right;\">\n",
       "      <th></th>\n",
       "      <th>url</th>\n",
       "      <th>reference</th>\n",
       "      <th>date_scrapped</th>\n",
       "      <th>announce_publication_date</th>\n",
       "      <th>model</th>\n",
       "      <th>price</th>\n",
       "      <th>location</th>\n",
       "      <th>year</th>\n",
       "      <th>release date</th>\n",
       "      <th>mileage</th>\n",
       "      <th>gearbox</th>\n",
       "      <th>external color</th>\n",
       "      <th>first hand</th>\n",
       "      <th>number of owners</th>\n",
       "      <th>SAE gross horsepower [HP]</th>\n",
       "      <th>DIN horsepower [HP]</th>\n",
       "      <th>engine capacity [CC]</th>\n",
       "      <th>crit'air</th>\n",
       "      <th>guarantee</th>\n",
       "      <th>Norme Euro</th>\n",
       "      <th>options</th>\n",
       "      <th>seller</th>\n",
       "      <th>seller_name</th>\n",
       "      <th>seller_type</th>\n",
       "      <th>seller_created_at</th>\n",
       "      <th>selling_at_lacentrale_since</th>\n",
       "    </tr>\n",
       "  </thead>\n",
       "  <tbody>\n",
       "    <tr>\n",
       "      <th>0</th>\n",
       "      <td>https://www.lacentrale.fr/moto-occasion-annonc...</td>\n",
       "      <td>lacentrale_B101519288</td>\n",
       "      <td>2021-05-29 15:18:21.689511</td>\n",
       "      <td>60</td>\n",
       "      <td>HONDA CROSSTOURER 1200</td>\n",
       "      <td>8160.0</td>\n",
       "      <td>Paris</td>\n",
       "      <td>2014</td>\n",
       "      <td>2015-01-18</td>\n",
       "      <td>66000.0</td>\n",
       "      <td>NaN</td>\n",
       "      <td>rouge metal</td>\n",
       "      <td>non</td>\n",
       "      <td>3</td>\n",
       "      <td>11</td>\n",
       "      <td>113</td>\n",
       "      <td>1237</td>\n",
       "      <td>2</td>\n",
       "      <td>NaN</td>\n",
       "      <td>EURO3</td>\n",
       "      <td>suspension réglable####bulle haute####top case...</td>\n",
       "      <td>particulier</td>\n",
       "      <td></td>\n",
       "      <td></td>\n",
       "      <td>NaN</td>\n",
       "      <td>NaN</td>\n",
       "    </tr>\n",
       "  </tbody>\n",
       "</table>\n",
       "</div>"
      ],
      "text/plain": [
       "                                                 url              reference  \\\n",
       "0  https://www.lacentrale.fr/moto-occasion-annonc...  lacentrale_B101519288   \n",
       "\n",
       "               date_scrapped  announce_publication_date  \\\n",
       "0 2021-05-29 15:18:21.689511                         60   \n",
       "\n",
       "                    model   price location  year release date  mileage  \\\n",
       "0  HONDA CROSSTOURER 1200  8160.0    Paris  2014   2015-01-18  66000.0   \n",
       "\n",
       "   gearbox external color first hand  number of owners  \\\n",
       "0      NaN    rouge metal        non                 3   \n",
       "\n",
       "   SAE gross horsepower [HP]  DIN horsepower [HP]  engine capacity [CC]  \\\n",
       "0                         11                  113                  1237   \n",
       "\n",
       "   crit'air  guarantee Norme Euro  \\\n",
       "0         2        NaN      EURO3   \n",
       "\n",
       "                                             options       seller seller_name  \\\n",
       "0  suspension réglable####bulle haute####top case...  particulier               \n",
       "\n",
       "  seller_type  seller_created_at  selling_at_lacentrale_since  \n",
       "0                            NaN                          NaN  "
      ]
     },
     "execution_count": 258,
     "metadata": {},
     "output_type": "execute_result"
    }
   ],
   "source": [
    "get_one_announce(\"https://www.lacentrale.fr/moto-occasion-annonce-66101519288.html\")"
   ]
  },
  {
   "cell_type": "markdown",
   "metadata": {},
   "source": [
    "# Scrap pages"
   ]
  },
  {
   "cell_type": "markdown",
   "metadata": {},
   "source": [
    "## Loading data"
   ]
  },
  {
   "cell_type": "code",
   "execution_count": 272,
   "metadata": {},
   "outputs": [],
   "source": [
    "file_path = os.path.dirname(os.path.dirname(os.path.join(os.getcwd()))) + \"/tresboncoin/data/lacentrale.csv\""
   ]
  },
  {
   "cell_type": "code",
   "execution_count": 273,
   "metadata": {},
   "outputs": [],
   "source": [
    "if os.path.isfile(file_path) is True:\n",
    "    data = pd.read_csv(file_path)"
   ]
  },
  {
   "cell_type": "code",
   "execution_count": 274,
   "metadata": {},
   "outputs": [
    {
     "data": {
      "text/plain": [
       "(0, 26)"
      ]
     },
     "execution_count": 274,
     "metadata": {},
     "output_type": "execute_result"
    }
   ],
   "source": [
    "data.shape"
   ]
  },
  {
   "cell_type": "code",
   "execution_count": 275,
   "metadata": {},
   "outputs": [
    {
     "data": {
      "text/html": [
       "<div>\n",
       "<style scoped>\n",
       "    .dataframe tbody tr th:only-of-type {\n",
       "        vertical-align: middle;\n",
       "    }\n",
       "\n",
       "    .dataframe tbody tr th {\n",
       "        vertical-align: top;\n",
       "    }\n",
       "\n",
       "    .dataframe thead th {\n",
       "        text-align: right;\n",
       "    }\n",
       "</style>\n",
       "<table border=\"1\" class=\"dataframe\">\n",
       "  <thead>\n",
       "    <tr style=\"text-align: right;\">\n",
       "      <th></th>\n",
       "      <th>url</th>\n",
       "      <th>reference</th>\n",
       "      <th>model</th>\n",
       "      <th>price</th>\n",
       "      <th>location</th>\n",
       "      <th>year</th>\n",
       "      <th>release date</th>\n",
       "      <th>mileage</th>\n",
       "      <th>gearbox</th>\n",
       "      <th>external color</th>\n",
       "      <th>first hand</th>\n",
       "      <th>number of owners</th>\n",
       "      <th>SAE gross horsepower [HP]</th>\n",
       "      <th>DIN horsepower [HP]</th>\n",
       "      <th>engine capacity [CC]</th>\n",
       "      <th>crit'air</th>\n",
       "      <th>guarantee</th>\n",
       "      <th>Norme Euro</th>\n",
       "      <th>options</th>\n",
       "      <th>seller</th>\n",
       "      <th>seller_name</th>\n",
       "      <th>seller_type</th>\n",
       "      <th>seller_created_at</th>\n",
       "      <th>selling_at_lacentrale_since</th>\n",
       "      <th>date_scrapped</th>\n",
       "      <th>announce_publication_date</th>\n",
       "    </tr>\n",
       "  </thead>\n",
       "  <tbody>\n",
       "  </tbody>\n",
       "</table>\n",
       "</div>"
      ],
      "text/plain": [
       "Empty DataFrame\n",
       "Columns: [url, reference, model, price, location, year, release date, mileage, gearbox, external color, first hand, number of owners, SAE gross horsepower [HP], DIN horsepower [HP], engine capacity [CC], crit'air, guarantee, Norme Euro, options, seller, seller_name, seller_type, seller_created_at, selling_at_lacentrale_since, date_scrapped, announce_publication_date]\n",
       "Index: []"
      ]
     },
     "execution_count": 275,
     "metadata": {},
     "output_type": "execute_result"
    }
   ],
   "source": [
    "data.tail()"
   ]
  },
  {
   "cell_type": "markdown",
   "metadata": {},
   "source": [
    "## getting announces"
   ]
  },
  {
   "cell_type": "code",
   "execution_count": 276,
   "metadata": {
    "scrolled": true
   },
   "outputs": [
    {
     "name": "stdout",
     "output_type": "stream",
     "text": [
      "Pages scrapped:1\n"
     ]
    }
   ],
   "source": [
    "for k in range(1, 2):\n",
    "    \n",
    "    # getting urls from a page of 15 announces\n",
    "    list_url, list_announces = get_url_list(page=k)\n",
    "    \n",
    "    # saving page list (html file containing 15 announces)\n",
    "    save_page_list(list_announces, page=k)\n",
    "    \n",
    "    # scraping every announces in the list\n",
    "    for url in list_url:\n",
    "        if url not in list(data[\"url\"]):\n",
    "            announce_to_add = get_one_announce(url)\n",
    "            data = pd.concat([data, announce_to_add], axis=0)\n",
    "            time.sleep(1)\n",
    "            data.reset_index(drop=True)\n",
    "            data.to_csv(path_or_buf = file_path, index=False)\n",
    "    \n",
    "    # print page scrapped\n",
    "    print(\"Pages scrapped:\" + str(k))"
   ]
  },
  {
   "cell_type": "markdown",
   "metadata": {},
   "source": [
    "# Save pages x15"
   ]
  },
  {
   "cell_type": "code",
   "execution_count": 109,
   "metadata": {},
   "outputs": [],
   "source": [
    "# function reminder\n",
    "def save_page_list(req, page=1):\n",
    "    datetime_1 = datetime.datetime.now().strftime(\"%Y-%m-%d_%Hh%M\")\n",
    "    page_list_name = \"lacentrale\" + \"-\" + datetime_1 + \"-\" + str(page)\n",
    "    with open(\"annonces/\" + page_list_name + \".html\", \"w\")  as file:\n",
    "        file.write(req.text)\n",
    "        file.close()"
   ]
  },
  {
   "cell_type": "code",
   "execution_count": 99,
   "metadata": {},
   "outputs": [],
   "source": [
    "check_end = requests.get(\"https://www.lacentrale.fr/listing?makesModelsCommercialNames=&options=&page=1&sortBy=firstOnlineDateDesc&vertical=moto\",\n",
    "                         headers = headers)"
   ]
  },
  {
   "cell_type": "code",
   "execution_count": 116,
   "metadata": {
    "scrolled": false
   },
   "outputs": [],
   "source": [
    "#check_end_soup = BeautifulSoup(check_end.content, 'html.parser')\n",
    "save_page_list(check_end, page=1)"
   ]
  },
  {
   "cell_type": "markdown",
   "metadata": {},
   "source": [
    "## Let's save pages x16 without being blocked"
   ]
  },
  {
   "cell_type": "code",
   "execution_count": 529,
   "metadata": {},
   "outputs": [
    {
     "data": {
      "text/plain": [
       "array([20])"
      ]
     },
     "execution_count": 529,
     "metadata": {},
     "output_type": "execute_result"
    }
   ],
   "source": [
    "pages = np.arange(20, 21)\n",
    "pages"
   ]
  },
  {
   "cell_type": "code",
   "execution_count": 530,
   "metadata": {},
   "outputs": [
    {
     "name": "stdout",
     "output_type": "stream",
     "text": [
      "x16 saved: 20\n"
     ]
    }
   ],
   "source": [
    "for page in pages:\n",
    "    req_x16 = requests.get(f\"https://www.lacentrale.fr/listing?makesModelsCommercialNames=&options=&page={page}&sortBy=firstOnlineDateDesc&vertical=moto\",\n",
    "                           headers = headers)\n",
    "    save_page_list(req_x16, page=page)\n",
    "    time.sleep(random.randint(10, 15))\n",
    "    print(\"x16 saved: \" + str(page))"
   ]
  },
  {
   "cell_type": "markdown",
   "metadata": {},
   "source": [
    "## Get prices from saved x16"
   ]
  },
  {
   "cell_type": "code",
   "execution_count": 531,
   "metadata": {},
   "outputs": [],
   "source": [
    "file_check_x16_good = \"annonces/lacentrale-2021-05-29_21h56-20.html\""
   ]
  },
  {
   "cell_type": "code",
   "execution_count": 532,
   "metadata": {},
   "outputs": [],
   "source": [
    "def get_prices_from_saved_x16(r):\n",
    "    for k in range(4, len(r.split(\"€\"))-1):\n",
    "        print(float(\"\".join(re.findall('[0-9 ]', r.split(\"€\")[k][-20:-1]))))"
   ]
  },
  {
   "cell_type": "code",
   "execution_count": 533,
   "metadata": {},
   "outputs": [
    {
     "name": "stdout",
     "output_type": "stream",
     "text": [
      "11640.0\n",
      "18130.0\n",
      "8680.0\n",
      "10120.0\n",
      "10230.0\n",
      "9340.0\n",
      "5190.0\n",
      "5530.0\n",
      "8440.0\n",
      "3980.0\n",
      "14360.0\n",
      "10130.0\n",
      "1930.0\n",
      "16030.0\n"
     ]
    }
   ],
   "source": [
    "with open(file_check_x16_good, 'r') as f:\n",
    "    readable_html = f.read()\n",
    "    get_prices_from_saved_x16(readable_html)"
   ]
  },
  {
   "cell_type": "markdown",
   "metadata": {},
   "source": [
    "## Get references from saved x16"
   ]
  },
  {
   "cell_type": "code",
   "execution_count": 534,
   "metadata": {},
   "outputs": [],
   "source": [
    "def get_ref_from_saved_x16(r):\n",
    "    for k in range(2, len(r.split(\"searchCard__link\"))-1):\n",
    "        step1 = r.split(\"searchCard__link\")[k][-200:-1]\n",
    "        step2 = step1[step1.find(\"id=\")+3:step1.find(\"title=\")]\n",
    "        print(step2)"
   ]
  },
  {
   "cell_type": "code",
   "execution_count": 535,
   "metadata": {
    "scrolled": false
   },
   "outputs": [
    {
     "name": "stdout",
     "output_type": "stream",
     "text": [
      "\"E108625997\" \n",
      "\"E108626019\" \n",
      "\"E108626035\" \n",
      "\"E108626008\" \n",
      "\"E108626034\" \n",
      "\"E108626003\" \n",
      "\"E108626011\" \n",
      "\"E108626032\" \n",
      "\"E108626026\" \n",
      "\"E108626012\" \n",
      "\"W102061444\" \n",
      "\"E108625991\" \n",
      "\"E108625985\" \n",
      "\"E108625984\" \n"
     ]
    }
   ],
   "source": [
    "with open(file_check_x16_good, 'r') as f:\n",
    "    readable_html = f.read()\n",
    "    get_ref_from_saved_x16(readable_html)"
   ]
  },
  {
   "cell_type": "markdown",
   "metadata": {},
   "source": [
    "## Get Urls from saved x16"
   ]
  },
  {
   "cell_type": "code",
   "execution_count": 536,
   "metadata": {},
   "outputs": [],
   "source": [
    "def get_urls_from_saved_x16(r):\n",
    "    for k in range(2, len(r.split(\"searchCard__link\"))-1):\n",
    "        step1 = r.split(\"searchCard__link\")[k][-200:-1]\n",
    "        step2 = step1[step1.find(\"href=\")+6:step1.find(\"id=\")]\n",
    "        print(\"https://www.lacentrale.fr\" + step2[:-2])"
   ]
  },
  {
   "cell_type": "code",
   "execution_count": 537,
   "metadata": {
    "scrolled": true
   },
   "outputs": [
    {
     "name": "stdout",
     "output_type": "stream",
     "text": [
      "https://www.lacentrale.fr/moto-occasion-annonce-69108625997.html\n",
      "https://www.lacentrale.fr/moto-occasion-annonce-69108626019.html\n",
      "https://www.lacentrale.fr/moto-occasion-annonce-69108626035.html\n",
      "https://www.lacentrale.fr/moto-occasion-annonce-69108626008.html\n",
      "https://www.lacentrale.fr/moto-occasion-annonce-69108626034.html\n",
      "https://www.lacentrale.fr/moto-occasion-annonce-69108626003.html\n",
      "https://www.lacentrale.fr/moto-occasion-annonce-69108626011.html\n",
      "https://www.lacentrale.fr/moto-occasion-annonce-69108626032.html\n",
      "https://www.lacentrale.fr/moto-occasion-annonce-69108626026.html\n",
      "https://www.lacentrale.fr/moto-occasion-annonce-69108626012.html\n",
      "https://www.lacentrale.fr/moto-occasion-annonce-87102061444.html\n",
      "https://www.lacentrale.fr/moto-occasion-annonce-69108625991.html\n",
      "https://www.lacentrale.fr/moto-occasion-annonce-69108625985.html\n",
      "https://www.lacentrale.fr/moto-occasion-annonce-69108625984.html\n"
     ]
    }
   ],
   "source": [
    "with open(file_check_x16_good, 'r') as f:\n",
    "    readable_html = f.read()\n",
    "    get_urls_from_saved_x16(readable_html)"
   ]
  },
  {
   "cell_type": "markdown",
   "metadata": {},
   "source": [
    "# Tests"
   ]
  },
  {
   "cell_type": "code",
   "execution_count": 543,
   "metadata": {},
   "outputs": [],
   "source": [
    "response_test = requests.get(\"https://www.lacentrale.fr/moto-occasion-annonce-87102063655.html\")\n",
    "\n"
   ]
  },
  {
   "cell_type": "code",
   "execution_count": 544,
   "metadata": {},
   "outputs": [],
   "source": [
    "soup = BeautifulSoup(response_test.content, 'html.parser')"
   ]
  },
  {
   "cell_type": "code",
   "execution_count": 545,
   "metadata": {},
   "outputs": [
    {
     "data": {
      "text/plain": [
       "[<span class=\"cbm__priceWrapper\">\n",
       " 22 100 €\n",
       " </span>]"
      ]
     },
     "execution_count": 545,
     "metadata": {},
     "output_type": "execute_result"
    }
   ],
   "source": [
    "soup.findAll(\"span\", { \"class\": \"cbm__priceWrapper\"})"
   ]
  },
  {
   "cell_type": "code",
   "execution_count": 67,
   "metadata": {},
   "outputs": [],
   "source": [
    "save_single_announce_html(response_test, \"test\")"
   ]
  },
  {
   "cell_type": "code",
   "execution_count": 553,
   "metadata": {},
   "outputs": [],
   "source": [
    "test_lbc = requests.get(\"https://www.leboncoin.fr/recherche?category=3&moto_brand=yamaha&price=1250-3500&cubic_capacity=125-600\")"
   ]
  },
  {
   "cell_type": "code",
   "execution_count": 555,
   "metadata": {},
   "outputs": [
    {
     "data": {
      "text/plain": [
       "b'<html><head><title>leboncoin.fr</title><meta property=\"og:title\" content=\"Rendez-vous sur leboncoin pour d\\xc3\\xa9couvrir cette annonce !\" />\\r\\n<meta property=\"og:image\" content=\"https://img.datadome.co/captcha/page-customization/1872/866d27bc-26b6-476e-b41d-496f3e0a7fb4.jpeg\" /><style>#cmsg{animation: A 1.5s;}@keyframes A{0%{opacity:0;}99%{opacity:0;}100%{opacity:1;}}</style></head><body style=\"margin:0\"><p id=\"cmsg\">Please enable JS and disable any ad blocker</p><script>var dd={\\'cid\\':\\'AHrlqAAAAAMAL92Pinq5sfYAX5kfWA==\\',\\'hsh\\':\\'05B30BD9055986BD2EE8F5A199D973\\',\\'t\\':\\'bv\\',\\'s\\':2089,\\'host\\':\\'geo.captcha-delivery.com\\'}</script><script src=\"https://ct.captcha-delivery.com/c.js\"></script></body></html>\\n'"
      ]
     },
     "execution_count": 555,
     "metadata": {},
     "output_type": "execute_result"
    }
   ],
   "source": [
    "test_lbc.content"
   ]
  },
  {
   "cell_type": "code",
   "execution_count": 557,
   "metadata": {},
   "outputs": [],
   "source": [
    "headers = {\n",
    "    'authority': 'www.leboncoin.fr',\n",
    "    'cache-control': 'max-age=0',\n",
    "    'sec-ch-ua': '\" Not A;Brand\";v=\"99\", \"Chromium\";v=\"90\", \"Google Chrome\";v=\"90\"',\n",
    "    'sec-ch-ua-mobile': '?0',\n",
    "    'upgrade-insecure-requests': '1',\n",
    "    'user-agent': 'Mozilla/5.0 (Macintosh; Intel Mac OS X 10_15_7) AppleWebKit/537.36 (KHTML, like Gecko) Chrome/90.0.4430.212 Safari/537.36',\n",
    "    'accept': 'text/html,application/xhtml+xml,application/xml;q=0.9,image/avif,image/webp,image/apng,*/*;q=0.8,application/signed-exchange;v=b3;q=0.9',\n",
    "    'sec-fetch-site': 'same-origin',\n",
    "    'sec-fetch-mode': 'navigate',\n",
    "    'sec-fetch-user': '?1',\n",
    "    'sec-fetch-dest': 'document',\n",
    "    'accept-language': 'fr-FR,fr;q=0.9,en-US;q=0.8,en;q=0.7',\n",
    "    #'cookie': f\"__Secure-InstanceId=a953a2bb-9f2d-4c59-ac07-45fea40e40a1; ry_ry-l3b0nco_realytics=eyJpZCI6InJ5X0QzQjg2MDQ5LTNCQ0QtNEJCMS04NzFFLTk4RkUyMkNBQzM3MyIsImNpZCI6bnVsbCwiZXhwIjoxNjUzODU2NzQ1MTQwLCJjcyI6bnVsbH0%3D; ry_ry-l3b0nco_so_realytics=eyJpZCI6InJ5X0QzQjg2MDQ5LTNCQ0QtNEJCMS04NzFFLTk4RkUyMkNBQzM3MyIsImNpZCI6bnVsbCwib3JpZ2luIjp0cnVlLCJyZWYiOm51bGwsImNvbnQiOm51bGwsIm5zIjpmYWxzZX0%3D; didomi_token=eyJ1c2VyX2lkIjoiMTc5YjlkYTAtNzVlZS02ZmM4LWE0NTAtM2ExNzZiMTQ2NzNhIiwiY3JlYXRlZCI6IjIwMjEtMDUtMjlUMjA6Mzk6MDYuNTMzWiIsInVwZGF0ZWQiOiIyMDIxLTA1LTI5VDIwOjM5OjA2LjUzM1oiLCJ2ZW5kb3JzIjp7ImVuYWJsZWQiOlsiYW1hem9uIiwic2FsZXNmb3JjZSIsImdvb2dsZSIsImM6bmV4dC1wZXJmb3JtYW5jZSIsImM6Y29sbGVjdGl2ZS1oaFNZdFJWbiIsImM6cm9ja3lvdSIsImM6cHVib2NlYW4tYjZCSk10c2UiLCJjOnJ0YXJnZXQtR2VmTVZ5aUMiLCJjOnNjaGlic3RlZC1NUVBYYXF5aCIsImM6Z3JlZW5ob3VzZS1RS2JHQmtzNCIsImM6cmVhbHplaXRnLWI2S0NreHlWIiwiYzp2aWRlby1tZWRpYS1ncm91cCIsImM6c3dpdGNoLWNvbmNlcHRzIiwiYzpsdWNpZGhvbGQteWZ0YldUZjciLCJjOmxlbW9tZWRpYS16YllocDJRYyIsImM6eW9ybWVkaWFzLXFuQldoUXlTIiwiYzpzYW5vbWEiLCJjOnJhZHZlcnRpcy1TSnBhMjVIOCIsImM6cXdlcnRpemUtemRuZ0UyaHgiLCJjOnZkb3BpYSIsImM6cmV2bGlmdGVyLWNScE1ucDV4IiwiYzpyZXNlYXJjaC1ub3ciLCJjOndoZW5ldmVybS04Vllod2IyUCIsImM6YWRtb3Rpb24iLCJjOndvb2JpIiwiYzpzaG9wc3R5bGUtZldKSzJMaVAiLCJjOnRoaXJkcHJlc2UtU3NLd21IVksiLCJjOmIyYm1lZGlhLXBRVEZneVdrIiwiYzpwdXJjaCIsImM6bGlmZXN0cmVldC1tZWRpYSIsImM6c3luYy1uNzRYUXByZyIsImM6aW50b3dvd2luLXFhenQ1dEdpIiwiYzpkaWRvbWkiLCJjOnJhZGl1bW9uZSIsImM6YWRvdG1vYiIsImM6YWItdGFzdHkiLCJjOmdyYXBlc2hvdCIsImM6YWRtb2IiLCJjOmFkYWdpbyIsImM6bGJjZnJhbmNlIl19LCJwdXJwb3NlcyI6eyJlbmFibGVkIjpbInBlcnNvbm5hbGlzYXRpb25jb250ZW51IiwicGVyc29ubmFsaXNhdGlvbm1hcmtldGluZyIsInByaXgiLCJtZXN1cmVhdWRpZW5jZSIsImV4cGVyaWVuY2V1dGlsaXNhdGV1ciJdfSwidmVuZG9yc19saSI6eyJlbmFibGVkIjpbImdvb2dsZSJdfSwidmVyc2lvbiI6MiwiYWMiOiJERTJBd0FFSUFmb0JoUUR4QUhtQVNTQWtzQ0pJSEVBT3JBaURCRktDS2dFbTRKdkFUa0F0ckJiZUM0d0Z5UUxsZ1lEQXdpQmlhQUFBLkRFMkF3QUVJQWZvQmhRRHhBSG1BU1NBa3NDSklIRUFPckFpREJGS0NLZ0VtNEp2QVRrQXRyQmJlQzR3RnlRTGxnWURBd2lCaWFBQUEifQ==; euconsent-v2=CPG-oApPG-oApAHABBENBbCgAP_AAHLAAAAAG7tf_X_fb2vj-_599_t0eY1f9_63v6wzjheNs-8NyZ_X_L4Xo2M6vB36pq4KmR4Eu3LBAQdlHOHcTQmQ4IkVqTPsbk2Mr7NKJ7LEmlMbe2dYGH9_n8XTuZKY70_8___z_3-v_v__7rbgCAAAAAAAIAgc6ASYal8AA2JY4Ek0aVQogQhWEhUAoAKKAYWiawgJHBTsrgI9QQIAEJqAjAiBBiCjFgEAAgEASERACAHggEQBEAgABACpAQgAIkAQWAFgYBAAKAaFABFAEIEhBEYFRymBARItFBPIGAAQAAAAAAAAAAAAAAAgBigYIABwAEgANAAeABSADAAMgAigBSAFQALAAYgA1gB8AH8AQgBDACYAFoALkAXgBfgDCAMQAZgA2gB4AD1AH8AggBCwCNAI4ASYAlQBMwCfAKAAUgAqABWgCygFuAXEAygDLgGaAZ0A0wDVAGwANoAcEA4gDkAHMAOyAd4B4QDzAPSAfIB9AD8AH_AQUBBoCEgIUARAAjABHICSgJMASuAloCXAEwAJvATwBPgCggFFAKQAUsAqIBV4CugK-AWaAtAC0gFzgLsAu4BeQC-AF-AMCAYQAxUBnAGdANAAacA1oBtADeAHCgOaA5wB1QDsgHbAO-AeIA9YB7YD9AP2Af8BAgCBwEGAISAQuAh8BEoCLAEcQI6AjsBHoCQQEhgJFASiAlSBLwEvwJhAmIBM0CbAJtATuAn8BQoCiAFFAKMgUcBSACmYFNgU4Ap8BUQCpIFWgVeArMBW0CxALFgWOBZMCywLMAWcAtEBasC1wLYAW4AuCBcYFyQLmAugBdcC7QLugXmBesC9wL7AYEAwqBhoGHwMUAxUBjUDHgMgAZEAyUBlcDMAMxAZpAzgDOYGeAZ9A0EDQgGigNPga0BrcDXQNeAbAA2QBtQDbQG4ANygboBusDfQN-gcIBw0DiQOKAccA5IBykDmAOZAc8A6eB1oHYAO4Ad2A72B4QHhgPQgemB6kD1gPYAe4A94B8AD4gHzgPpAfYA-8YC9AAOAAkAB4AFIAMAAyACKAFIAVAAsABiADUAH8AQgBDACYAFMALgAXoAwgDEAGYANsAfwCCgEaAR4AkwBKgCZgE-AUAApABUACtAFlALcAuABjwDKAMsAZ0A0wDVAG0AOCAcQByADmAHZAO8A8IB5gHpAPoA_AB_wEJAQoAiABEgCMAEcAJKASsAloBMACbwE8AT4AoIBRQCkAFLAKiAVcArcBXQFfALEAWYAucBdgF3ALyAXwAvwBhADFQGcAZ0A0EBpgGnANaAbQA3gBwoDmgOcAdUA7IB2wDvgHiAPWAe0A-QB-wECAIHAQkAhcBD4CJQEWAI4gR0BHYCPQEggJDASKAk4BKICVIEvAS_AmECYgEzQJsAm0BOICdwE_gKFAUQAooBRkCjgKQAUzApsCnIFPAU-AqIBUkCrQKvAVmArYBYkCxwLJgWWBZgCzgFogLVgWuBbEC2wLcAXAAuOBcwF0ALrgXaBd0C8gL0gXuBfAC-wGBAMKAYaAw-BigGKgMaAY8AyABkQDJQGVgMxAZpAzgDOYGeAZ9A0EDQgGigNPga0BroDYAGyQNqA2wBuEDdAN1gb6Bv0DhAOGAcSA44ByQDlIHMAcyA54B08DrQOwAdwA7sB3sDwgPDAehA9MD1IHrAewA9wB7wD4AHxAPnAfSA-wB95AHIAAGAA4AEgALAAaAA8ACgAFoAMgA0AB0AEQAJAAVAAsABcADEAH8AQQBDgCYAJoAUwAqgBXAC5AF4AX4AwgDEAGYANAAbQA3gB6gD-AQIAi4BGgEeAJEASYAlYBPgFAAKQAVAAqgBWwCxALKAW4BcgC-AGEAMSAZQBlwDNAM6AaYBqgDYAG1AN8A4ABxADkgHMAc4A7IB3gHhAPMA9AB7QD5APwAf4BBYCEgIUARAAikBGAEZAI4ASUAlIBKwCXAEwgJuAnABPACfAFBAKGAUWApACkgFLAKeAVEAq4BWQCtwFdAV8AsQBZoC0ALSAXOAuwC7gF5AL4AX4AwABhADFAGZgM4AzoBoIDTANOAasA1oBtADeAHCAObAdQB1QDrgHZAO2Ad8A8QB6ID1APWAe2A_ID-AIAAQIAgcBCcCFwIYAQ-AiGBEoETAIsgRwBHcCPQI-gSCBIoCTgEogJUASuAlqBLwEvwJhAmIBMwCaYE2ATaAnEBO4Cf4FCAUKAoiBRgFIQKSApOBTIFOQKeAp8BUQCpIFWgVeArMBW0CvgK_gWIBYsCxwLJgWWBZgCzgFogLTAWrAtcC3AFvALggXGBckC5wLogXWBdwC8gF6QL2Av2BgIGBgMKgYYBh4DEoGKAYqAxoBjwDIAGRAMlAZOAysBloDMQGaQM3Az-BoIGhQNEA0UBo8DSQNLAaeA1OBqoGrQNaA12Br4GwgNkgbWBtgDbgG4QN0A3WBvIG9QN9A36BwAHAwOEA4YBxIDjAHHAOSgcwBzMDngOfAdHA6UDp4HUgdVA6wDsAHagO4Ad3A70DvgHgwPDA8QB48DyQPKgecB6MD0wPUgesB7ED3APegfAB8UD5wPpAfYAAA.f_gADlgAAAAA; include_in_experiment=true; __gads=ID=d88bc54f3d82773e:T=1622320748:S=ALNI_MY9oEltJiyOthW56mfS0iqrs3hRZw; trc_cookie_storage=taboola%2520global%253Auser-id%3D6e163d6b-a3e8-4022-9dd1-fa73ee700518-tuct700bbef; _fbp=fb.1.1622320764753.1451259724; _gcl_au=1.1.1235696903.1622320765; atidvisitor=%7B%22name%22%3A%22atidvisitor%22%2C%22val%22%3A%7B%22an%22%3A%22NaN%22%2C%22ac%22%3A%22%22%2C%22vrn%22%3A%22-562498-%22%7D%2C%22options%22%3A%7B%22path%22%3A%22%2F%22%2C%22session%22%3A34128000%2C%22end%22%3A34128000%7D%7D; atauthority=%7B%22name%22%3A%22atauthority%22%2C%22val%22%3A%7B%22authority_name%22%3A%22default%22%2C%22visitor_mode%22%3A%22optin%22%7D%2C%22options%22%3A%7B%22end%22%3A%222022-06-28T20%3A39%3A32.799Z%22%2C%22path%22%3A%22%2F%22%7D%7D; utag_main=v_id:0179b9da0695000ef69de15e575602079002507100942{_sn:1$_ss:0$_pn:4%3Bexp-session$_st:1622322572808$ses_id:1622320744085%3Bexp-session;} datadome=WoZ_oD2HnkdPsFn0eim2RX3gA~G7qVNrDHrechc_ZECxGVJvzJLnYOc.FVWp11vx6QgbD4XZrof_XczRYTCp_01vdgvVyxDJJtXJxxYamP\",\n",
    "    'if-none-match': 'W/\"6b82a-wm57vDMu4e5DTyohj/bXwdqh6A4\"',\n",
    "}\n",
    "\n",
    "params = (\n",
    "    ('category', '3'),\n",
    "    ('moto_brand', 'yamaha'),\n",
    "    ('price', '1250-3500'),\n",
    "    ('cubic_capacity', '125-600'),\n",
    ")\n",
    "\n",
    "response_lbc = requests.get('https://www.leboncoin.fr/recherche', headers=headers, params=params)"
   ]
  },
  {
   "cell_type": "code",
   "execution_count": 558,
   "metadata": {},
   "outputs": [
    {
     "data": {
      "text/plain": [
       "<Response [403]>"
      ]
     },
     "execution_count": 558,
     "metadata": {},
     "output_type": "execute_result"
    }
   ],
   "source": [
    "response_lbc"
   ]
  },
  {
   "cell_type": "code",
   "execution_count": 559,
   "metadata": {},
   "outputs": [
    {
     "data": {
      "text/plain": [
       "b'<html><head><title>leboncoin.fr</title><meta property=\"og:title\" content=\"Rendez-vous sur leboncoin pour d\\xc3\\xa9couvrir cette annonce !\" />\\r\\n<meta property=\"og:image\" content=\"https://img.datadome.co/captcha/page-customization/1872/866d27bc-26b6-476e-b41d-496f3e0a7fb4.jpeg\" /><style>#cmsg{animation: A 1.5s;}@keyframes A{0%{opacity:0;}99%{opacity:0;}100%{opacity:1;}}</style></head><body style=\"margin:0\"><p id=\"cmsg\">Please enable JS and disable any ad blocker</p><script>var dd={\\'cid\\':\\'AHrlqAAAAAMAmt9EEo6VQRkAX5kfWA==\\',\\'hsh\\':\\'05B30BD9055986BD2EE8F5A199D973\\',\\'t\\':\\'bv\\',\\'s\\':2089,\\'host\\':\\'geo.captcha-delivery.com\\'}</script><script src=\"https://ct.captcha-delivery.com/c.js\"></script></body></html>\\n'"
      ]
     },
     "execution_count": 559,
     "metadata": {},
     "output_type": "execute_result"
    }
   ],
   "source": [
    "response_lbc.content"
   ]
  },
  {
   "cell_type": "code",
   "execution_count": null,
   "metadata": {},
   "outputs": [],
   "source": []
  }
 ],
 "metadata": {
  "kernelspec": {
   "display_name": "Python 3",
   "language": "python",
   "name": "python3"
  },
  "language_info": {
   "codemirror_mode": {
    "name": "ipython",
    "version": 3
   },
   "file_extension": ".py",
   "mimetype": "text/x-python",
   "name": "python",
   "nbconvert_exporter": "python",
   "pygments_lexer": "ipython3",
   "version": "3.9.1"
  },
  "toc": {
   "base_numbering": 1,
   "nav_menu": {},
   "number_sections": true,
   "sideBar": true,
   "skip_h1_title": false,
   "title_cell": "Table of Contents",
   "title_sidebar": "Contents",
   "toc_cell": false,
   "toc_position": {},
   "toc_section_display": true,
   "toc_window_display": false
  },
  "varInspector": {
   "cols": {
    "lenName": 16,
    "lenType": 16,
    "lenVar": 40
   },
   "kernels_config": {
    "python": {
     "delete_cmd_postfix": "",
     "delete_cmd_prefix": "del ",
     "library": "var_list.py",
     "varRefreshCmd": "print(var_dic_list())"
    },
    "r": {
     "delete_cmd_postfix": ") ",
     "delete_cmd_prefix": "rm(",
     "library": "var_list.r",
     "varRefreshCmd": "cat(var_dic_list()) "
    }
   },
   "types_to_exclude": [
    "module",
    "function",
    "builtin_function_or_method",
    "instance",
    "_Feature"
   ],
   "window_display": false
  }
 },
 "nbformat": 4,
 "nbformat_minor": 4
}
