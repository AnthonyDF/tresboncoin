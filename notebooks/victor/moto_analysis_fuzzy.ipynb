{
 "cells": [
  {
   "cell_type": "markdown",
   "id": "ee6569e5",
   "metadata": {},
   "source": [
    "# Imports"
   ]
  },
  {
   "cell_type": "code",
   "execution_count": 54,
   "id": "a26bd5ed",
   "metadata": {},
   "outputs": [],
   "source": [
    "import pandas as pd\n",
    "import seaborn as sns\n",
    "import matplotlib.pyplot as plt\n",
    "from scipy import stats\n",
    "from datetime import datetime\n",
    "#\n",
    "from sklearn.impute import SimpleImputer\n",
    "from sklearn.model_selection import RandomizedSearchCV\n",
    "#\n",
    "from sklearn.preprocessing import MinMaxScaler\n",
    "from sklearn.preprocessing import StandardScaler\n",
    "from sklearn.preprocessing import RobustScaler\n",
    "from sklearn.preprocessing import OneHotEncoder\n",
    "from sklearn.pipeline import Pipeline\n",
    "from sklearn.compose import ColumnTransformer\n",
    "#\n",
    "from sklearn.ensemble import GradientBoostingRegressor\n",
    "from sklearn.linear_model import LinearRegression\n",
    "from sklearn.model_selection import cross_validate\n",
    "from sklearn.model_selection import train_test_split\n",
    "from sklearn.metrics import make_scorer\n",
    "from sklearn.ensemble import RandomForestRegressor\n",
    "from sklearn.svm import SVR\n",
    "from sklearn.ensemble import ExtraTreesRegressor"
   ]
  },
  {
   "cell_type": "markdown",
   "id": "04bd3671",
   "metadata": {},
   "source": [
    "# Import csv"
   ]
  },
  {
   "cell_type": "code",
   "execution_count": 2,
   "id": "9ec48a01",
   "metadata": {},
   "outputs": [],
   "source": [
    "data = pd.read_csv(\"../../tresboncoin/data/master_with_fuzzy_and_cleaning.csv\")"
   ]
  },
  {
   "cell_type": "markdown",
   "id": "46012775",
   "metadata": {},
   "source": [
    "# Exploring data"
   ]
  },
  {
   "cell_type": "markdown",
   "id": "864a9b0c",
   "metadata": {},
   "source": [
    "## Basic exploration"
   ]
  },
  {
   "cell_type": "code",
   "execution_count": 70,
   "id": "e73897a8",
   "metadata": {},
   "outputs": [
    {
     "data": {
      "text/html": [
       "<div>\n",
       "<style scoped>\n",
       "    .dataframe tbody tr th:only-of-type {\n",
       "        vertical-align: middle;\n",
       "    }\n",
       "\n",
       "    .dataframe tbody tr th {\n",
       "        vertical-align: top;\n",
       "    }\n",
       "\n",
       "    .dataframe thead th {\n",
       "        text-align: right;\n",
       "    }\n",
       "</style>\n",
       "<table border=\"1\" class=\"dataframe\">\n",
       "  <thead>\n",
       "    <tr style=\"text-align: right;\">\n",
       "      <th></th>\n",
       "      <th>category_db</th>\n",
       "      <th>bike_year</th>\n",
       "      <th>mileage</th>\n",
       "      <th>price</th>\n",
       "      <th>km/year</th>\n",
       "    </tr>\n",
       "  </thead>\n",
       "  <tbody>\n",
       "    <tr>\n",
       "      <th>13366</th>\n",
       "      <td>scooter</td>\n",
       "      <td>2019</td>\n",
       "      <td>4600.0</td>\n",
       "      <td>4190.0</td>\n",
       "      <td>2300.000000</td>\n",
       "    </tr>\n",
       "    <tr>\n",
       "      <th>13367</th>\n",
       "      <td>dual sport</td>\n",
       "      <td>2019</td>\n",
       "      <td>8294.0</td>\n",
       "      <td>4200.0</td>\n",
       "      <td>4147.000000</td>\n",
       "    </tr>\n",
       "    <tr>\n",
       "      <th>13369</th>\n",
       "      <td>street</td>\n",
       "      <td>2019</td>\n",
       "      <td>8420.0</td>\n",
       "      <td>12190.0</td>\n",
       "      <td>4210.000000</td>\n",
       "    </tr>\n",
       "    <tr>\n",
       "      <th>13370</th>\n",
       "      <td>scooter</td>\n",
       "      <td>2020</td>\n",
       "      <td>4300.0</td>\n",
       "      <td>10990.0</td>\n",
       "      <td>4300.000000</td>\n",
       "    </tr>\n",
       "    <tr>\n",
       "      <th>13371</th>\n",
       "      <td>street</td>\n",
       "      <td>2005</td>\n",
       "      <td>68530.0</td>\n",
       "      <td>2499.0</td>\n",
       "      <td>4283.125000</td>\n",
       "    </tr>\n",
       "    <tr>\n",
       "      <th>13374</th>\n",
       "      <td>dual sport</td>\n",
       "      <td>2019</td>\n",
       "      <td>10694.0</td>\n",
       "      <td>3899.0</td>\n",
       "      <td>5347.000000</td>\n",
       "    </tr>\n",
       "    <tr>\n",
       "      <th>13375</th>\n",
       "      <td>dual sport</td>\n",
       "      <td>2016</td>\n",
       "      <td>28850.0</td>\n",
       "      <td>8352.0</td>\n",
       "      <td>5770.000000</td>\n",
       "    </tr>\n",
       "    <tr>\n",
       "      <th>13376</th>\n",
       "      <td>street</td>\n",
       "      <td>2016</td>\n",
       "      <td>64395.0</td>\n",
       "      <td>7290.0</td>\n",
       "      <td>12879.000000</td>\n",
       "    </tr>\n",
       "    <tr>\n",
       "      <th>13379</th>\n",
       "      <td>dual sport</td>\n",
       "      <td>2019</td>\n",
       "      <td>2097.0</td>\n",
       "      <td>4890.0</td>\n",
       "      <td>1048.500000</td>\n",
       "    </tr>\n",
       "    <tr>\n",
       "      <th>13380</th>\n",
       "      <td>street</td>\n",
       "      <td>2010</td>\n",
       "      <td>25000.0</td>\n",
       "      <td>4490.0</td>\n",
       "      <td>2272.727273</td>\n",
       "    </tr>\n",
       "    <tr>\n",
       "      <th>13381</th>\n",
       "      <td>dual sport</td>\n",
       "      <td>2019</td>\n",
       "      <td>2708.0</td>\n",
       "      <td>4500.0</td>\n",
       "      <td>1354.000000</td>\n",
       "    </tr>\n",
       "    <tr>\n",
       "      <th>13382</th>\n",
       "      <td>dual sport</td>\n",
       "      <td>2019</td>\n",
       "      <td>2708.0</td>\n",
       "      <td>4500.0</td>\n",
       "      <td>1354.000000</td>\n",
       "    </tr>\n",
       "  </tbody>\n",
       "</table>\n",
       "</div>"
      ],
      "text/plain": [
       "       category_db  bike_year  mileage    price       km/year\n",
       "13366      scooter       2019   4600.0   4190.0   2300.000000\n",
       "13367  dual sport        2019   8294.0   4200.0   4147.000000\n",
       "13369      street        2019   8420.0  12190.0   4210.000000\n",
       "13370      scooter       2020   4300.0  10990.0   4300.000000\n",
       "13371      street        2005  68530.0   2499.0   4283.125000\n",
       "13374  dual sport        2019  10694.0   3899.0   5347.000000\n",
       "13375  dual sport        2016  28850.0   8352.0   5770.000000\n",
       "13376      street        2016  64395.0   7290.0  12879.000000\n",
       "13379  dual sport        2019   2097.0   4890.0   1048.500000\n",
       "13380      street        2010  25000.0   4490.0   2272.727273\n",
       "13381  dual sport        2019   2708.0   4500.0   1354.000000\n",
       "13382  dual sport        2019   2708.0   4500.0   1354.000000"
      ]
     },
     "execution_count": 70,
     "metadata": {},
     "output_type": "execute_result"
    }
   ],
   "source": [
    "data.tail(12)"
   ]
  },
  {
   "cell_type": "code",
   "execution_count": 71,
   "id": "c8906c6f",
   "metadata": {},
   "outputs": [
    {
     "data": {
      "text/plain": [
       "street         7762\n",
       "scooter        1593\n",
       "dual sport      411\n",
       "off-road        325\n",
       "Name: category_db, dtype: int64"
      ]
     },
     "execution_count": 71,
     "metadata": {},
     "output_type": "execute_result"
    }
   ],
   "source": [
    "data[\"category_db\"].value_counts()"
   ]
  },
  {
   "cell_type": "markdown",
   "id": "1d0e5733",
   "metadata": {},
   "source": [
    "## Duplicates"
   ]
  },
  {
   "cell_type": "code",
   "execution_count": 7,
   "id": "ce0d6b64",
   "metadata": {},
   "outputs": [
    {
     "name": "stdout",
     "output_type": "stream",
     "text": [
      "141 duplicates were removed.\n"
     ]
    }
   ],
   "source": [
    "size_before = len(data)\n",
    "data = data.drop_duplicates()\n",
    "size_after = len(data)\n",
    "print(str(size_before - size_after) + \" duplicates were removed.\")"
   ]
  },
  {
   "cell_type": "markdown",
   "id": "1cd92a3d",
   "metadata": {},
   "source": [
    "## Missing"
   ]
  },
  {
   "cell_type": "code",
   "execution_count": 8,
   "id": "480a7d73",
   "metadata": {},
   "outputs": [
    {
     "data": {
      "text/plain": [
       "brand_db       11.65987\n",
       "model_db       11.65987\n",
       "type_db        11.65987\n",
       "category_db    11.65987\n",
       "url             0.00000\n",
       "uniq_id         0.00000\n",
       "brand           0.00000\n",
       "model           0.00000\n",
       "bike_year       0.00000\n",
       "mileage         0.00000\n",
       "price           0.00000\n",
       "dtype: float64"
      ]
     },
     "execution_count": 8,
     "metadata": {},
     "output_type": "execute_result"
    }
   ],
   "source": [
    "100 * data.isnull().sum().sort_values(ascending=False)/len(data)"
   ]
  },
  {
   "cell_type": "markdown",
   "id": "ca19b8a7",
   "metadata": {},
   "source": [
    "Input most frequent for <i style=\"color:orangered\">brand</i>, <i style=\"color:orangered\">model</i>, <i style=\"color:orangered\">bike_type</i> features<br/>\n",
    "Input mean for <i style=\"color:orangered\">mileage</i>"
   ]
  },
  {
   "cell_type": "markdown",
   "id": "62355900",
   "metadata": {},
   "source": [
    "## Distribution and outliers"
   ]
  },
  {
   "cell_type": "code",
   "execution_count": 6,
   "id": "ffb796d3",
   "metadata": {},
   "outputs": [
    {
     "data": {
      "image/png": "[encoded data removed]",
      "text/plain": [
       "<Figure size 1152x360 with 1 Axes>"
      ]
     },
     "metadata": {
      "needs_background": "light"
     },
     "output_type": "display_data"
    }
   ],
   "source": [
    "fig = plt.figure(figsize=(16, 5))\n",
    "sns.histplot(data[\"mileage\"], palette='Blues', stat='density', bins=1000)\n",
    "sns.kdeplot(data[\"mileage\"], color='red')\n",
    "plt.xlim(0, 150000);"
   ]
  },
  {
   "cell_type": "code",
   "execution_count": 7,
   "id": "301c90d3",
   "metadata": {},
   "outputs": [
    {
     "data": {
      "image/png": "[encoded data removed]",
      "text/plain": [
       "<Figure size 1152x360 with 1 Axes>"
      ]
     },
     "metadata": {
      "needs_background": "light"
     },
     "output_type": "display_data"
    }
   ],
   "source": [
    "fig = plt.figure(figsize=(16, 5))\n",
    "sns.histplot(data[\"bike_year\"], palette='Blues', stat='density', bins=150)\n",
    "sns.kdeplot(data[\"bike_year\"], color='red')\n",
    "plt.xlim(1960, 2025);"
   ]
  },
  {
   "cell_type": "code",
   "execution_count": 8,
   "id": "4343a462",
   "metadata": {},
   "outputs": [
    {
     "data": {
      "image/png": "[encoded data removed]",
      "text/plain": [
       "<Figure size 1152x360 with 1 Axes>"
      ]
     },
     "metadata": {
      "needs_background": "light"
     },
     "output_type": "display_data"
    }
   ],
   "source": [
    "fig = plt.figure(figsize=(16, 5))\n",
    "sns.histplot(data[\"price\"], palette='Blues', stat='density', bins=40)\n",
    "sns.kdeplot(data[\"price\"], color='red')\n",
    "plt.xlim(0, 50000);"
   ]
  },
  {
   "cell_type": "code",
   "execution_count": 9,
   "id": "9684f15b",
   "metadata": {},
   "outputs": [
    {
     "data": {
      "text/plain": [
       "(0.0, 75000.0)"
      ]
     },
     "execution_count": 9,
     "metadata": {},
     "output_type": "execute_result"
    },
    {
     "data": {
      "image/png": "[encoded data removed]",
      "text/plain": [
       "<Figure size 432x288 with 1 Axes>"
      ]
     },
     "metadata": {
      "needs_background": "light"
     },
     "output_type": "display_data"
    }
   ],
   "source": [
    "sns.boxplot(y=data[\"mileage\"], palette=\"Blues\");\n",
    "plt.ylim(0, 75000)"
   ]
  },
  {
   "cell_type": "code",
   "execution_count": 10,
   "id": "90d40b11",
   "metadata": {},
   "outputs": [
    {
     "data": {
      "text/plain": [
       "(1960.0, 2022.0)"
      ]
     },
     "execution_count": 10,
     "metadata": {},
     "output_type": "execute_result"
    },
    {
     "data": {
      "image/png": "[encoded data removed]",
      "text/plain": [
       "<Figure size 432x288 with 1 Axes>"
      ]
     },
     "metadata": {
      "needs_background": "light"
     },
     "output_type": "display_data"
    }
   ],
   "source": [
    "sns.boxplot(y=data[\"bike_year\"], palette=\"Blues\");\n",
    "plt.ylim(1960, 2022)"
   ]
  },
  {
   "cell_type": "code",
   "execution_count": 11,
   "id": "bef945fa",
   "metadata": {},
   "outputs": [
    {
     "data": {
      "text/plain": [
       "(0.0, 50000.0)"
      ]
     },
     "execution_count": 11,
     "metadata": {},
     "output_type": "execute_result"
    },
    {
     "data": {
      "image/png": "[encoded data removed]",
      "text/plain": [
       "<Figure size 432x288 with 1 Axes>"
      ]
     },
     "metadata": {
      "needs_background": "light"
     },
     "output_type": "display_data"
    }
   ],
   "source": [
    "sns.boxplot(y=data[\"price\"], palette=\"Blues\");\n",
    "plt.ylim(0, 50000)"
   ]
  },
  {
   "cell_type": "markdown",
   "id": "aba35e4d",
   "metadata": {},
   "source": [
    "# Cleaning"
   ]
  },
  {
   "cell_type": "code",
   "execution_count": 20,
   "id": "c9f5a15c",
   "metadata": {},
   "outputs": [],
   "source": [
    "data = pd.read_csv(\"../../tresboncoin/data/master_with_fuzzy_and_cleaning.csv\")"
   ]
  },
  {
   "cell_type": "code",
   "execution_count": 21,
   "id": "e7253bc2",
   "metadata": {},
   "outputs": [],
   "source": [
    "data = data[~data[\"brand_db\"].isnull()]\n",
    "data = data[~data[\"model_db\"].isnull()]\n",
    "data = data[~data[\"type_db\"].isnull()]\n",
    "data = data[~data[\"category_db\"].isnull()]\n",
    "data = data[(data[\"bike_year\"]>=1970) & (data[\"bike_year\"]<=2022)]\n",
    "data = data[(data[\"mileage\"]>=1000) & (data[\"mileage\"]<=80000)]\n",
    "data = data[(data[\"price\"]>=1000) & (data[\"price\"]<30000)]"
   ]
  },
  {
   "cell_type": "code",
   "execution_count": 22,
   "id": "a6f5b1f1",
   "metadata": {},
   "outputs": [],
   "source": [
    "def km_per_year(km, bike_year):\n",
    "    if (datetime.now().year - bike_year) == 0:\n",
    "        return km\n",
    "    return km / (datetime.now().year - bike_year)"
   ]
  },
  {
   "cell_type": "code",
   "execution_count": 23,
   "id": "9f1641cf",
   "metadata": {},
   "outputs": [],
   "source": [
    "data.drop(['url', 'uniq_id', 'model_db', \"type_db\", 'brand', \"model\", \"brand_db\"], axis=1, inplace=True)\n",
    "data['km/year'] = data.apply(lambda x: km_per_year(x['mileage'], x['bike_year']), axis=1)"
   ]
  },
  {
   "cell_type": "markdown",
   "id": "892c566a",
   "metadata": {},
   "source": [
    "\n",
    "# Preparing model inputs"
   ]
  },
  {
   "cell_type": "code",
   "execution_count": 46,
   "id": "2903bffe",
   "metadata": {},
   "outputs": [],
   "source": [
    "X = data.drop([\"price\"], axis=1)\n",
    "y = data[\"price\"]"
   ]
  },
  {
   "cell_type": "markdown",
   "id": "42811261",
   "metadata": {},
   "source": [
    "# Pipelines"
   ]
  },
  {
   "cell_type": "code",
   "execution_count": 82,
   "id": "8a7dd934",
   "metadata": {},
   "outputs": [],
   "source": [
    "pipe_multiclass = Pipeline([\n",
    "    ('encoder', OneHotEncoder(sparse=False))\n",
    "])"
   ]
  },
  {
   "cell_type": "code",
   "execution_count": 83,
   "id": "59789368",
   "metadata": {},
   "outputs": [
    {
     "data": {
      "text/plain": [
       "['category_db', 'bike_year', 'mileage', 'km/year']"
      ]
     },
     "execution_count": 83,
     "metadata": {},
     "output_type": "execute_result"
    }
   ],
   "source": [
    "list(X.columns)"
   ]
  },
  {
   "cell_type": "code",
   "execution_count": 84,
   "id": "ca0b312d",
   "metadata": {},
   "outputs": [],
   "source": [
    "# applying encoder\n",
    "encoder = ColumnTransformer([\n",
    "    ('textual', pipe_multiclass, [\"category_db\"])\n",
    "], remainder='passthrough')"
   ]
  },
  {
   "cell_type": "code",
   "execution_count": 85,
   "id": "11ffda87",
   "metadata": {},
   "outputs": [],
   "source": [
    "# full preprocessor pipeline\n",
    "preprocessor = Pipeline([(\"encoder\", encoder),\n",
    "                         ('scaler', MinMaxScaler())])"
   ]
  },
  {
   "cell_type": "code",
   "execution_count": 86,
   "id": "bc6fb105",
   "metadata": {},
   "outputs": [],
   "source": [
    "output_pipe_columns = [\"category_db_dual sport\", \"category_db_off-road\", \"category_db_scooter\", \"category_db_street\", 'bike_year', 'mileage', 'km/year']"
   ]
  },
  {
   "cell_type": "code",
   "execution_count": 105,
   "id": "8589a3f4",
   "metadata": {},
   "outputs": [
    {
     "data": {
      "text/html": [
       "<div>\n",
       "<style scoped>\n",
       "    .dataframe tbody tr th:only-of-type {\n",
       "        vertical-align: middle;\n",
       "    }\n",
       "\n",
       "    .dataframe tbody tr th {\n",
       "        vertical-align: top;\n",
       "    }\n",
       "\n",
       "    .dataframe thead th {\n",
       "        text-align: right;\n",
       "    }\n",
       "</style>\n",
       "<table border=\"1\" class=\"dataframe\">\n",
       "  <thead>\n",
       "    <tr style=\"text-align: right;\">\n",
       "      <th></th>\n",
       "      <th>category_db_dual sport</th>\n",
       "      <th>category_db_off-road</th>\n",
       "      <th>category_db_scooter</th>\n",
       "      <th>category_db_street</th>\n",
       "      <th>bike_year</th>\n",
       "      <th>mileage</th>\n",
       "      <th>km/year</th>\n",
       "    </tr>\n",
       "  </thead>\n",
       "  <tbody>\n",
       "    <tr>\n",
       "      <th>10086</th>\n",
       "      <td>0.0</td>\n",
       "      <td>0.0</td>\n",
       "      <td>0.0</td>\n",
       "      <td>1.0</td>\n",
       "      <td>0.901961</td>\n",
       "      <td>0.802468</td>\n",
       "      <td>0.260985</td>\n",
       "    </tr>\n",
       "    <tr>\n",
       "      <th>10087</th>\n",
       "      <td>1.0</td>\n",
       "      <td>0.0</td>\n",
       "      <td>0.0</td>\n",
       "      <td>0.0</td>\n",
       "      <td>0.960784</td>\n",
       "      <td>0.013886</td>\n",
       "      <td>0.020604</td>\n",
       "    </tr>\n",
       "    <tr>\n",
       "      <th>10088</th>\n",
       "      <td>0.0</td>\n",
       "      <td>0.0</td>\n",
       "      <td>0.0</td>\n",
       "      <td>1.0</td>\n",
       "      <td>0.784314</td>\n",
       "      <td>0.303797</td>\n",
       "      <td>0.045478</td>\n",
       "    </tr>\n",
       "    <tr>\n",
       "      <th>10089</th>\n",
       "      <td>1.0</td>\n",
       "      <td>0.0</td>\n",
       "      <td>0.0</td>\n",
       "      <td>0.0</td>\n",
       "      <td>0.960784</td>\n",
       "      <td>0.021620</td>\n",
       "      <td>0.026811</td>\n",
       "    </tr>\n",
       "    <tr>\n",
       "      <th>10090</th>\n",
       "      <td>1.0</td>\n",
       "      <td>0.0</td>\n",
       "      <td>0.0</td>\n",
       "      <td>0.0</td>\n",
       "      <td>0.960784</td>\n",
       "      <td>0.021620</td>\n",
       "      <td>0.026811</td>\n",
       "    </tr>\n",
       "  </tbody>\n",
       "</table>\n",
       "</div>"
      ],
      "text/plain": [
       "       category_db_dual sport  category_db_off-road  category_db_scooter  \\\n",
       "10086                     0.0                   0.0                  0.0   \n",
       "10087                     1.0                   0.0                  0.0   \n",
       "10088                     0.0                   0.0                  0.0   \n",
       "10089                     1.0                   0.0                  0.0   \n",
       "10090                     1.0                   0.0                  0.0   \n",
       "\n",
       "       category_db_street  bike_year   mileage   km/year  \n",
       "10086                 1.0   0.901961  0.802468  0.260985  \n",
       "10087                 0.0   0.960784  0.013886  0.020604  \n",
       "10088                 1.0   0.784314  0.303797  0.045478  \n",
       "10089                 0.0   0.960784  0.021620  0.026811  \n",
       "10090                 0.0   0.960784  0.021620  0.026811  "
      ]
     },
     "execution_count": 105,
     "metadata": {},
     "output_type": "execute_result"
    }
   ],
   "source": [
    "X_train_scaled = pd.DataFrame(preprocessor.fit_transform(X), columns=output_pipe_columns)\n",
    "X_train_scaled.tail()"
   ]
  },
  {
   "cell_type": "code",
   "execution_count": 88,
   "id": "4b419ae2",
   "metadata": {},
   "outputs": [],
   "source": [
    "final_pipeline = Pipeline([\n",
    "                          (\"preprocessor\", preprocessor),\n",
    "                          ('model', ExtraTreesRegressor())\n",
    "                         ])"
   ]
  },
  {
   "cell_type": "markdown",
   "id": "374da580",
   "metadata": {},
   "source": [
    "# Baseline score"
   ]
  },
  {
   "cell_type": "code",
   "execution_count": 89,
   "id": "72baa705",
   "metadata": {},
   "outputs": [],
   "source": [
    "def custom_rmse(y_true, y_pred):\n",
    "    return np.sqrt(np.mean(np.square(y_true - y_pred)))\n",
    "rmse = make_scorer(custom_rmse, greater_is_better=False)"
   ]
  },
  {
   "cell_type": "code",
   "execution_count": 90,
   "id": "0fff5809",
   "metadata": {},
   "outputs": [],
   "source": [
    "baseline = cross_validate(final_pipeline,\n",
    "                          X,\n",
    "                          y,\n",
    "                          scoring={\"rmse\": rmse, \"r2\": \"r2\"},\n",
    "                          cv=10)\n",
    "baseline_r2 = baseline['test_r2'].mean()\n",
    "baseline_rmse = -baseline['test_rmse'].mean()"
   ]
  },
  {
   "cell_type": "code",
   "execution_count": 91,
   "id": "36bf9fa2",
   "metadata": {},
   "outputs": [
    {
     "name": "stdout",
     "output_type": "stream",
     "text": [
      "0.601707174191547 3109.3243454827525\n"
     ]
    }
   ],
   "source": [
    "print(baseline_r2, baseline_rmse)"
   ]
  },
  {
   "cell_type": "markdown",
   "id": "44d9565f",
   "metadata": {},
   "source": [
    "# Optimized score"
   ]
  },
  {
   "cell_type": "code",
   "execution_count": 92,
   "id": "42204178",
   "metadata": {},
   "outputs": [],
   "source": [
    "######################################################\n",
    "# Random Forest Classifier model\n",
    "######################################################\n",
    "grid_ETR = {'model__max_depth': stats.randint(1, 1000),\n",
    "            'model__min_samples_split': [2, 4, 6, 8, 10]\n",
    "            #\"preprocessor__scaler\": [StandardScaler(), RobustScaler(), MinMaxScaler()]\n",
    "            }\n",
    "params_ETR = {\"random_grid_search\": grid_ETR,\n",
    "              \"model\": ExtraTreesRegressor()}\n",
    "######################################################"
   ]
  },
  {
   "cell_type": "code",
   "execution_count": 93,
   "id": "110631db",
   "metadata": {},
   "outputs": [
    {
     "name": "stdout",
     "output_type": "stream",
     "text": [
      "Fitting 10 folds for each of 10 candidates, totalling 100 fits\n"
     ]
    },
    {
     "name": "stderr",
     "output_type": "stream",
     "text": [
      "/Users/victor/.pyenv/versions/3.9.1/envs/tresboncoin/lib/python3.9/site-packages/joblib/externals/loky/process_executor.py:688: UserWarning: A worker stopped while some jobs were given to the executor. This can be caused by a too short worker timeout or by a memory leak.\n",
      "  warnings.warn(\n"
     ]
    }
   ],
   "source": [
    "model_optimized = RandomizedSearchCV(final_pipeline,\n",
    "                                     grid_ETR,\n",
    "                                     scoring=\"r2\",\n",
    "                                     n_iter=10,\n",
    "                                     cv=10,\n",
    "                                     n_jobs=-1,\n",
    "                                     verbose=1)\n",
    "model_optimized.fit(X, y)\n",
    "optimized_r2 = model_optimized.best_score_"
   ]
  },
  {
   "cell_type": "code",
   "execution_count": 94,
   "id": "529ce92c",
   "metadata": {},
   "outputs": [
    {
     "name": "stdout",
     "output_type": "stream",
     "text": [
      "0.6026549958305452\n"
     ]
    }
   ],
   "source": [
    "print(optimized_r2)"
   ]
  },
  {
   "cell_type": "markdown",
   "id": "beaa573d",
   "metadata": {},
   "source": [
    "# Predict"
   ]
  },
  {
   "cell_type": "markdown",
   "id": "328ba4e3",
   "metadata": {},
   "source": [
    "street\n",
    "\n",
    "scooter\n",
    "\n",
    "dual sport\n",
    "\n",
    "off-road"
   ]
  },
  {
   "cell_type": "code",
   "execution_count": 106,
   "id": "bfff4571",
   "metadata": {},
   "outputs": [],
   "source": [
    "X_pred = pd.DataFrame({\"category_db\": [\"scooter\"],\n",
    "                       \"bike_year\": [2014],\n",
    "                       \"mileage\": [20000],\n",
    "                       \"km/year\": [20000]\n",
    "                       })"
   ]
  },
  {
   "cell_type": "code",
   "execution_count": 107,
   "id": "cef19ee6",
   "metadata": {
    "scrolled": false
   },
   "outputs": [
    {
     "data": {
      "text/plain": [
       "array([7385.45])"
      ]
     },
     "execution_count": 107,
     "metadata": {},
     "output_type": "execute_result"
    }
   ],
   "source": [
    "model_optimized.best_estimator_.predict(X_pred)"
   ]
  },
  {
   "cell_type": "code",
   "execution_count": null,
   "id": "86a26847",
   "metadata": {},
   "outputs": [],
   "source": []
  },
  {
   "cell_type": "code",
   "execution_count": null,
   "id": "e6250d9e",
   "metadata": {},
   "outputs": [],
   "source": []
  },
  {
   "cell_type": "code",
   "execution_count": null,
   "id": "a86a1a4f",
   "metadata": {},
   "outputs": [],
   "source": []
  },
  {
   "cell_type": "code",
   "execution_count": null,
   "id": "c2795e49",
   "metadata": {},
   "outputs": [],
   "source": []
  },
  {
   "cell_type": "code",
   "execution_count": null,
   "id": "88de807f",
   "metadata": {},
   "outputs": [],
   "source": []
  },
  {
   "cell_type": "code",
   "execution_count": null,
   "id": "a3098cc2",
   "metadata": {},
   "outputs": [],
   "source": []
  },
  {
   "cell_type": "code",
   "execution_count": null,
   "id": "3deb374a",
   "metadata": {},
   "outputs": [],
   "source": []
  },
  {
   "cell_type": "code",
   "execution_count": null,
   "id": "8bf12247",
   "metadata": {},
   "outputs": [],
   "source": []
  },
  {
   "cell_type": "code",
   "execution_count": 61,
   "id": "ea0b2bae",
   "metadata": {},
   "outputs": [],
   "source": [
    "scaler = RobustScaler()"
   ]
  },
  {
   "cell_type": "code",
   "execution_count": 62,
   "id": "4fbfaa91",
   "metadata": {},
   "outputs": [],
   "source": [
    "df_scaled = scaler.fit_transform(df)"
   ]
  },
  {
   "cell_type": "markdown",
   "id": "d4131ff8",
   "metadata": {},
   "source": [
    "# Training"
   ]
  },
  {
   "cell_type": "code",
   "execution_count": 63,
   "id": "bac9406c",
   "metadata": {},
   "outputs": [],
   "source": [
    "def custom_rmse(y_true, y_pred):\n",
    "    return np.sqrt(np.mean(np.square(y_true - y_pred)))\n",
    "#\n",
    "rmse = make_scorer(custom_rmse, greater_is_better=False)"
   ]
  },
  {
   "cell_type": "code",
   "execution_count": 64,
   "id": "a2d335c8",
   "metadata": {},
   "outputs": [
    {
     "data": {
      "text/plain": [
       "7866.19341894061"
      ]
     },
     "execution_count": 64,
     "metadata": {},
     "output_type": "execute_result"
    }
   ],
   "source": [
    "y_train.mean()"
   ]
  },
  {
   "cell_type": "markdown",
   "id": "6a2e97f6",
   "metadata": {},
   "source": [
    "## Test Random forest regressor"
   ]
  },
  {
   "cell_type": "code",
   "execution_count": 65,
   "id": "1ae9b8e5",
   "metadata": {},
   "outputs": [],
   "source": [
    "model_RFR = RandomForestRegressor()"
   ]
  },
  {
   "cell_type": "code",
   "execution_count": 66,
   "id": "2a4323c9",
   "metadata": {},
   "outputs": [
    {
     "data": {
      "text/plain": [
       "-0.57"
      ]
     },
     "execution_count": 66,
     "metadata": {},
     "output_type": "execute_result"
    }
   ],
   "source": [
    "baseline_RFR = cross_validate(model_RFR,\n",
    "                              df_scaled,\n",
    "                              y_train,\n",
    "                              #scoring=rmse,\n",
    "                              cv=5)\n",
    "baseline_RFR = -round(baseline_RFR[\"test_score\"].mean(), 3)\n",
    "baseline_RFR"
   ]
  },
  {
   "cell_type": "code",
   "execution_count": 125,
   "id": "b63a81ba",
   "metadata": {},
   "outputs": [
    {
     "name": "stdout",
     "output_type": "stream",
     "text": [
      "Fitting 2 folds for each of 10 candidates, totalling 20 fits\n"
     ]
    }
   ],
   "source": [
    "grid_RFR = {'n_estimators': stats.randint(1, 500),\n",
    "            'max_depth': stats.randint(1, 500),\n",
    "            \"criterion\": [\"mse\"]\n",
    "            }\n",
    "\n",
    "search_RFR = RandomizedSearchCV(model_RFR,\n",
    "                                grid_RFR,\n",
    "                                scoring=rmse,\n",
    "                                n_iter=10,\n",
    "                                cv=2,\n",
    "                                n_jobs=-1,\n",
    "                                verbose=True)\n",
    "\n",
    "search_RFR.fit(df_scaled, y_train);"
   ]
  },
  {
   "cell_type": "code",
   "execution_count": 126,
   "id": "3fb98401",
   "metadata": {},
   "outputs": [
    {
     "data": {
      "text/plain": [
       "{'criterion': 'mse', 'max_depth': 344, 'n_estimators': 426}"
      ]
     },
     "execution_count": 126,
     "metadata": {},
     "output_type": "execute_result"
    }
   ],
   "source": [
    "search_RFR.best_params_"
   ]
  },
  {
   "cell_type": "code",
   "execution_count": 127,
   "id": "e03755d6",
   "metadata": {},
   "outputs": [
    {
     "data": {
      "text/plain": [
       "RandomForestRegressor(max_depth=344, n_estimators=426)"
      ]
     },
     "execution_count": 127,
     "metadata": {},
     "output_type": "execute_result"
    }
   ],
   "source": [
    "search_RFR.best_estimator_ #RandomForestRegressor(max_depth=275, n_estimators=302)"
   ]
  },
  {
   "cell_type": "code",
   "execution_count": 128,
   "id": "da491c0a",
   "metadata": {},
   "outputs": [
    {
     "data": {
      "text/plain": [
       "2612.349"
      ]
     },
     "execution_count": 128,
     "metadata": {},
     "output_type": "execute_result"
    }
   ],
   "source": [
    "tuned_RFR = cross_validate(search_RFR.best_estimator_,\n",
    "                           df_scaled,\n",
    "                           y_train,\n",
    "                           scoring=rmse,\n",
    "                           cv=5)\n",
    "tuned_RFR = -round(tuned_RFR[\"test_score\"].mean(), 3)\n",
    "tuned_RFR"
   ]
  },
  {
   "cell_type": "markdown",
   "id": "abf18767",
   "metadata": {},
   "source": [
    "## extra tree"
   ]
  },
  {
   "cell_type": "code",
   "execution_count": 73,
   "id": "2cee9019",
   "metadata": {},
   "outputs": [],
   "source": [
    "from sklearn.ensemble import ExtraTreesRegressor\n",
    "model_Ensemble_extraTREE = ExtraTreesRegressor()"
   ]
  },
  {
   "cell_type": "code",
   "execution_count": 74,
   "id": "a98c4f56",
   "metadata": {},
   "outputs": [
    {
     "data": {
      "text/html": [
       "<div>\n",
       "<style scoped>\n",
       "    .dataframe tbody tr th:only-of-type {\n",
       "        vertical-align: middle;\n",
       "    }\n",
       "\n",
       "    .dataframe tbody tr th {\n",
       "        vertical-align: top;\n",
       "    }\n",
       "\n",
       "    .dataframe thead th {\n",
       "        text-align: right;\n",
       "    }\n",
       "</style>\n",
       "<table border=\"1\" class=\"dataframe\">\n",
       "  <thead>\n",
       "    <tr style=\"text-align: right;\">\n",
       "      <th></th>\n",
       "      <th>rmse</th>\n",
       "      <th>r2</th>\n",
       "    </tr>\n",
       "  </thead>\n",
       "  <tbody>\n",
       "    <tr>\n",
       "      <th>0</th>\n",
       "      <td>2975.81776</td>\n",
       "      <td>0.611413</td>\n",
       "    </tr>\n",
       "  </tbody>\n",
       "</table>\n",
       "</div>"
      ],
      "text/plain": [
       "         rmse        r2\n",
       "0  2975.81776  0.611413"
      ]
     },
     "execution_count": 74,
     "metadata": {},
     "output_type": "execute_result"
    }
   ],
   "source": [
    "baseline_Ensemble_extraTREE = cross_validate(model_Ensemble_extraTREE,\n",
    "                                             df_scaled,\n",
    "                                             y_train,\n",
    "                                             scoring={\"rmse\":rmse, \"r2\": \"r2\"},\n",
    "                                             cv=50);\n",
    "pd.DataFrame({\"rmse\": [-baseline_Ensemble_extraTREE['test_rmse'].mean()], \"r2\": [baseline_Ensemble_extraTREE['test_r2'].mean()]})"
   ]
  },
  {
   "cell_type": "code",
   "execution_count": 75,
   "id": "19158530",
   "metadata": {},
   "outputs": [
    {
     "data": {
      "text/plain": [
       "ExtraTreesRegressor()"
      ]
     },
     "execution_count": 75,
     "metadata": {},
     "output_type": "execute_result"
    }
   ],
   "source": [
    "model_Ensemble_extraTREE = ExtraTreesRegressor()\n",
    "model_Ensemble_extraTREE.fit(df_scaled, y_train)"
   ]
  },
  {
   "cell_type": "code",
   "execution_count": 76,
   "id": "3c8680ad",
   "metadata": {},
   "outputs": [],
   "source": [
    "new_moto = pd.DataFrame({\"bike_year\":[2016],\n",
    "                         \"mileage\":[20000],\n",
    "                         \"km/year\":[20000],\n",
    "                         \"category_db_dual sport\":[0],\n",
    "                         \"category_db_off-road\":[0],\n",
    "                         \"category_db_scooter\":[1],\n",
    "                         \"category_db_street\":[0]\n",
    "                        })\n",
    "new_moto_scaled = scaler.transform(new_moto)"
   ]
  },
  {
   "cell_type": "code",
   "execution_count": 72,
   "id": "390c0e85",
   "metadata": {},
   "outputs": [
    {
     "data": {
      "text/plain": [
       "array([7015.75666667])"
      ]
     },
     "execution_count": 72,
     "metadata": {},
     "output_type": "execute_result"
    }
   ],
   "source": [
    "model_Ensemble_extraTREE.predict(new_moto_scaled)"
   ]
  },
  {
   "cell_type": "code",
   "execution_count": 252,
   "id": "38b52b0c",
   "metadata": {},
   "outputs": [],
   "source": [
    "import joblib\n",
    "import os\n",
    "from termcolor import colored\n",
    "#\n",
    "def save_model():\n",
    "    \"\"\" Save the model into a .joblib format \"\"\"\n",
    "    joblib.dump(model_Ensemble_extraTREE, \"model.joblib\")\n",
    "    print(colored(\"Trained model saved locally\", \"green\"))"
   ]
  },
  {
   "cell_type": "code",
   "execution_count": 249,
   "id": "2b04b467",
   "metadata": {},
   "outputs": [
    {
     "name": "stdout",
     "output_type": "stream",
     "text": [
      "\u001b[32mTrained model saved locally\u001b[0m\n"
     ]
    }
   ],
   "source": [
    "save_model()"
   ]
  },
  {
   "cell_type": "code",
   "execution_count": 253,
   "id": "b1cf43bc",
   "metadata": {},
   "outputs": [],
   "source": [
    "def get_model():\n",
    "    return joblib.load(os.path.join(\".\", \"model.joblib\"))"
   ]
  },
  {
   "cell_type": "code",
   "execution_count": 254,
   "id": "a14cc9d0",
   "metadata": {},
   "outputs": [],
   "source": [
    "loaded_model = get_model()"
   ]
  },
  {
   "cell_type": "code",
   "execution_count": 255,
   "id": "fc7791ae",
   "metadata": {},
   "outputs": [
    {
     "data": {
      "text/plain": [
       "array([6979.38])"
      ]
     },
     "execution_count": 255,
     "metadata": {},
     "output_type": "execute_result"
    }
   ],
   "source": [
    "loaded_model.predict(new_moto_scaled)"
   ]
  },
  {
   "cell_type": "code",
   "execution_count": null,
   "id": "7719964a",
   "metadata": {},
   "outputs": [],
   "source": []
  }
 ],
 "metadata": {
  "kernelspec": {
   "display_name": "Python 3",
   "language": "python",
   "name": "python3"
  },
  "language_info": {
   "codemirror_mode": {
    "name": "ipython",
    "version": 3
   },
   "file_extension": ".py",
   "mimetype": "text/x-python",
   "name": "python",
   "nbconvert_exporter": "python",
   "pygments_lexer": "ipython3",
   "version": "3.9.1"
  },
  "toc": {
   "base_numbering": 1,
   "nav_menu": {},
   "number_sections": true,
   "sideBar": true,
   "skip_h1_title": false,
   "title_cell": "Table of Contents",
   "title_sidebar": "Contents",
   "toc_cell": false,
   "toc_position": {},
   "toc_section_display": true,
   "toc_window_display": false
  },
  "varInspector": {
   "cols": {
    "lenName": 16,
    "lenType": 16,
    "lenVar": 40
   },
   "kernels_config": {
    "python": {
     "delete_cmd_postfix": "",
     "delete_cmd_prefix": "del ",
     "library": "var_list.py",
     "varRefreshCmd": "print(var_dic_list())"
    },
    "r": {
     "delete_cmd_postfix": ") ",
     "delete_cmd_prefix": "rm(",
     "library": "var_list.r",
     "varRefreshCmd": "cat(var_dic_list()) "
    }
   },
   "types_to_exclude": [
    "module",
    "function",
    "builtin_function_or_method",
    "instance",
    "_Feature"
   ],
   "window_display": false
  }
 },
 "nbformat": 4,
 "nbformat_minor": 5
}
