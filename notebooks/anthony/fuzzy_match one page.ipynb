{
 "cells": [
  {
   "cell_type": "code",
   "execution_count": 89,
   "id": "3ab682c3",
   "metadata": {},
   "outputs": [],
   "source": [
    "import pandas as pd\n",
    "import string\n",
    "from rapidfuzz import process, fuzz\n",
    "import time\n",
    "import io\n",
    "import time\n",
    "import numpy as np"
   ]
  },
  {
   "cell_type": "markdown",
   "id": "b4e11a2c",
   "metadata": {},
   "source": [
    "# FUZZY MATCH FUNCTION"
   ]
  },
  {
   "cell_type": "code",
   "execution_count": 148,
   "id": "9025a45d",
   "metadata": {},
   "outputs": [],
   "source": [
    "# build dataframe from api\n",
    "X_pred = pd.DataFrame({'uniq_id':['ERT34983'],\n",
    "                       'brand':[None],\n",
    "                       'model':[None],\n",
    "                       'title':['BMW R100GS PD'],\n",
    "                       'price':[4500],\n",
    "                       'mileage':[5002],\n",
    "                       'bike_year':[1990],\n",
    "                       'engine_size':[None]})"
   ]
  },
  {
   "cell_type": "code",
   "execution_count": 149,
   "id": "81ae754d",
   "metadata": {},
   "outputs": [
    {
     "data": {
      "text/plain": [
       "True"
      ]
     },
     "execution_count": 149,
     "metadata": {},
     "output_type": "execute_result"
    }
   ],
   "source": [
    "X_pred.brand[0] == None"
   ]
  },
  {
   "cell_type": "code",
   "execution_count": 150,
   "id": "c4e6d1fe",
   "metadata": {
    "scrolled": true
   },
   "outputs": [],
   "source": [
    "def fuzzy_match(X_pred):\n",
    "    \"\"\"\n",
    "    fuction to fuzzy match motorbike name\n",
    "    \"\"\"\n",
    "    #remove punctuation\n",
    "    def remove_punctuations(text):\n",
    "        for punctuation in string.punctuation:\n",
    "            text = text.replace(punctuation, '')\n",
    "        return text\n",
    "\n",
    "    #remove punctuation\n",
    "    if X_pred.brand[0]!=None :\n",
    "        X_pred.brand = X_pred.brand.apply(remove_punctuations)\n",
    "        \n",
    "    if X_pred.model[0]!=None:\n",
    "        X_pred.model = X_pred.model.apply(remove_punctuations)\n",
    "\n",
    "    def create_title_is_missing(brand, model, title):\n",
    "        if title == None:\n",
    "            return brand + \" \" + model\n",
    "        return title\n",
    "\n",
    "    X_pred.title = X_pred.apply(lambda x: create_title_is_missing(x.brand, x.model, x.title), axis=1)\n",
    "\n",
    "    #import motorcycle databse\n",
    "    motorcycle_database = pd.read_csv('../../tresboncoin/data/master_vehicule_list/bikez.csv')\n",
    "\n",
    "    motorcycle_database.drop(columns=['Unnamed: 0', 'model_inv_db', 'model_submodel_inv_db',\n",
    "           'engine_type_db', 'torque_db',\n",
    "           'compression_db', 'cooling_system_db', 'dry_weight_db',\n",
    "           'power/weight_ratio_db', 'model_size_db', 'model_size_inv_db'], inplace=True)\n",
    "\n",
    "    def concat(brand, submodel):\n",
    "        return str(brand) + \" \" + str(submodel)\n",
    "\n",
    "    motorcycle_database['brand_submodel_db'] = motorcycle_database.apply(lambda x: concat(x.brand_db, x.model_submodel_db), axis=1)\n",
    "\n",
    "    def choices(year):\n",
    "        choices = motorcycle_database[motorcycle_database.year_db == year].brand_submodel_db.unique().tolist()\n",
    "        return [str(x) for  x in choices]\n",
    "\n",
    "    def match_model(choices, to_match):\n",
    "        return process.extractOne(to_match, choices)\n",
    "\n",
    "    X_pred[\"fuzzy_result\"] = X_pred.apply(lambda x: match_model(choices(x.bike_year), x.title), axis=1)\n",
    "\n",
    "    def unpack_tuple_name(result):\n",
    "        try:\n",
    "            return result[0]\n",
    "        except:\n",
    "            return np.nan\n",
    "\n",
    "    def unpack_tuple_score(result):\n",
    "        try:\n",
    "            return result[1]\n",
    "        except:\n",
    "            return np.nan\n",
    "\n",
    "    X_pred['fuzzy_score'] = X_pred['fuzzy_result'].apply(unpack_tuple_score)\n",
    "    X_pred['fuzzy_brand'] = X_pred['fuzzy_result'].apply(unpack_tuple_name)\n",
    "    X_pred.drop(columns=['fuzzy_result'], inplace=True)\n",
    "    X_pred.drop(columns=['brand','model','title'], inplace=True)\n",
    "\n",
    "    X_pred[['brand','model']] = X_pred.fuzzy_brand.apply(lambda x: pd.Series(str(x).split(\" \")))\n",
    "\n",
    "    X_pred.drop(columns=['fuzzy_brand'], inplace=True)\n",
    "\n",
    "\n",
    "    X_pred = X_pred.merge(motorcycle_database,how='left', left_on=['brand', 'model', 'bike_year'], right_on=['brand_db', 'model_submodel_db', 'year_db'])\n",
    "    X_pred.drop(columns=['brand_db','model_db','model_submodel_db','year_db', 'brand_submodel_db', 'fuzzy_score'], inplace=True)\n",
    "\n",
    "    return X_pred"
   ]
  },
  {
   "cell_type": "code",
   "execution_count": 151,
   "id": "2fd08f86",
   "metadata": {},
   "outputs": [
    {
     "data": {
      "text/html": [
       "<div>\n",
       "<style scoped>\n",
       "    .dataframe tbody tr th:only-of-type {\n",
       "        vertical-align: middle;\n",
       "    }\n",
       "\n",
       "    .dataframe tbody tr th {\n",
       "        vertical-align: top;\n",
       "    }\n",
       "\n",
       "    .dataframe thead th {\n",
       "        text-align: right;\n",
       "    }\n",
       "</style>\n",
       "<table border=\"1\" class=\"dataframe\">\n",
       "  <thead>\n",
       "    <tr style=\"text-align: right;\">\n",
       "      <th></th>\n",
       "      <th>uniq_id</th>\n",
       "      <th>price</th>\n",
       "      <th>mileage</th>\n",
       "      <th>bike_year</th>\n",
       "      <th>engine_size</th>\n",
       "      <th>brand</th>\n",
       "      <th>model</th>\n",
       "      <th>category_db</th>\n",
       "      <th>engine_size_db</th>\n",
       "      <th>power_db</th>\n",
       "    </tr>\n",
       "  </thead>\n",
       "  <tbody>\n",
       "    <tr>\n",
       "      <th>0</th>\n",
       "      <td>ERT34983</td>\n",
       "      <td>4500</td>\n",
       "      <td>5002</td>\n",
       "      <td>1990</td>\n",
       "      <td>None</td>\n",
       "      <td>bmw</td>\n",
       "      <td>r100gs</td>\n",
       "      <td>touring</td>\n",
       "      <td>979.0</td>\n",
       "      <td>60.0</td>\n",
       "    </tr>\n",
       "  </tbody>\n",
       "</table>\n",
       "</div>"
      ],
      "text/plain": [
       "    uniq_id  price  mileage  bike_year engine_size brand   model category_db  \\\n",
       "0  ERT34983   4500     5002       1990        None   bmw  r100gs     touring   \n",
       "\n",
       "   engine_size_db  power_db  \n",
       "0           979.0      60.0  "
      ]
     },
     "execution_count": 151,
     "metadata": {},
     "output_type": "execute_result"
    }
   ],
   "source": [
    "fuzzy_match(X_pred)"
   ]
  },
  {
   "cell_type": "code",
   "execution_count": null,
   "id": "74296256",
   "metadata": {},
   "outputs": [],
   "source": []
  }
 ],
 "metadata": {
  "kernelspec": {
   "display_name": "Python 3",
   "language": "python",
   "name": "python3"
  },
  "language_info": {
   "codemirror_mode": {
    "name": "ipython",
    "version": 3
   },
   "file_extension": ".py",
   "mimetype": "text/x-python",
   "name": "python",
   "nbconvert_exporter": "python",
   "pygments_lexer": "ipython3",
   "version": "3.8.6"
  },
  "toc": {
   "base_numbering": 1,
   "nav_menu": {},
   "number_sections": true,
   "sideBar": true,
   "skip_h1_title": false,
   "title_cell": "Table of Contents",
   "title_sidebar": "Contents",
   "toc_cell": false,
   "toc_position": {},
   "toc_section_display": true,
   "toc_window_display": false
  },
  "varInspector": {
   "cols": {
    "lenName": 16,
    "lenType": 16,
    "lenVar": 40
   },
   "kernels_config": {
    "python": {
     "delete_cmd_postfix": "",
     "delete_cmd_prefix": "del ",
     "library": "var_list.py",
     "varRefreshCmd": "print(var_dic_list())"
    },
    "r": {
     "delete_cmd_postfix": ") ",
     "delete_cmd_prefix": "rm(",
     "library": "var_list.r",
     "varRefreshCmd": "cat(var_dic_list()) "
    }
   },
   "types_to_exclude": [
    "module",
    "function",
    "builtin_function_or_method",
    "instance",
    "_Feature"
   ],
   "window_display": false
  }
 },
 "nbformat": 4,
 "nbformat_minor": 5
}
