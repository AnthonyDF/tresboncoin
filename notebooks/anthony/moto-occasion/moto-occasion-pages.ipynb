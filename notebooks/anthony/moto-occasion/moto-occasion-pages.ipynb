{
 "cells": [
  {
   "cell_type": "markdown",
   "id": "11cd9dea",
   "metadata": {},
   "source": [
    "## Save all pages as HTML files"
   ]
  },
  {
   "cell_type": "code",
   "execution_count": 1,
   "id": "1f55324e",
   "metadata": {},
   "outputs": [],
   "source": [
    "from datetime import datetime\n",
    "import requests\n",
    "from bs4 import BeautifulSoup\n",
    "import time\n",
    "import random\n",
    "import pandas as pd\n",
    "\n",
    "\n",
    "def scraping_pages():\n",
    "    try:\n",
    "        # Start time of the pages scrapping\n",
    "        start_time = datetime.now()\n",
    "\n",
    "        # site to scrap\n",
    "        source = 'moto-occasion'\n",
    "\n",
    "        # log update\n",
    "        log_import = pd.read_csv('../log.csv')\n",
    "        log_new = pd.DataFrame({'source': [source],\n",
    "                                'step': ['scrap pages'],\n",
    "                                'status': ['started'],\n",
    "                                'time': [datetime.now()],\n",
    "                                'details': [\"\"]})\n",
    "        log = log_import.append(log_new, ignore_index=True)\n",
    "        log.to_csv('../log.csv', index=False)\n",
    "\n",
    "        # init scrap\n",
    "        page_number = 1\n",
    "        scrap = True\n",
    "        while scrap == True:\n",
    "\n",
    "            print(\"page number:\", page_number)\n",
    "\n",
    "            # url to scrap\n",
    "            url = f'http://moto-occasion.motorevue.com/motos?page={page_number}'\n",
    "            response = requests.get(url)\n",
    "            file_name = source + \"-\" + str(page_number) + \"-\" + start_time.strftime(\"%Y-%m-%d_%Hh%M\")\n",
    "\n",
    "            with open(f\"pages/{file_name}.html\", \"w\") as file:\n",
    "                file.write(response.text)\n",
    "                file.close()\n",
    "\n",
    "            # check if page is empty, if yes stop scrapping\n",
    "            soup = BeautifulSoup(response.content, \"html.parser\")\n",
    "            warning = soup.find(\"div\", class_=\"media-body\").text.replace('\\r', '').replace('\\t', '').replace('\\n', '').strip()\n",
    "            if warning == 'Aucune annonce trouvée.':\n",
    "                scrap = False\n",
    "\n",
    "            time.sleep(random.randint(5, 9))\n",
    "            page_number += 1\n",
    "\n",
    "        # End time\n",
    "        end_time = datetime.now()\n",
    "        td = end_time - start_time\n",
    "\n",
    "        # log update\n",
    "        log_import = pd.read_csv('../log.csv')\n",
    "        log_new = pd.DataFrame({'source': [source],\n",
    "                                'step': ['scrap pages'],\n",
    "                                'status': ['completed'],\n",
    "                                'time': [datetime.now()],\n",
    "                                'details': [f\"{td.seconds/60} minutes elapsed, {page_number} pages scrapped\"]})\n",
    "        log = log_import.append(log_new, ignore_index=True)\n",
    "        log.to_csv('../log.csv', index=False)\n",
    "\n",
    "    except (ValueError, TypeError, NameError, KeyError, RuntimeWarning) as err:\n",
    "        # log update\n",
    "        log_import = pd.read_csv('../log.csv')\n",
    "        log_new = pd.DataFrame({'source': [source],\n",
    "                                'step': ['scrap pages'],\n",
    "                                'status': ['error'],\n",
    "                                'time': [datetime.now()],\n",
    "                                'details': [err]})\n",
    "        log = log_import.append(log_new, ignore_index=True)\n",
    "        log.to_csv('../log.csv', index=False)"
   ]
  },
  {
   "cell_type": "code",
   "execution_count": 2,
   "id": "a5c34782",
   "metadata": {},
   "outputs": [
    {
     "name": "stdout",
     "output_type": "stream",
     "text": [
      "page number: 1\n",
      "page number: 2\n"
     ]
    },
    {
     "ename": "KeyboardInterrupt",
     "evalue": "",
     "output_type": "error",
     "traceback": [
      "\u001b[0;31m---------------------------------------------------------------------------\u001b[0m",
      "\u001b[0;31mKeyboardInterrupt\u001b[0m                         Traceback (most recent call last)",
      "\u001b[0;32m<ipython-input-2-bbb3c9a52b08>\u001b[0m in \u001b[0;36m<module>\u001b[0;34m\u001b[0m\n\u001b[0;32m----> 1\u001b[0;31m \u001b[0mscraping_pages\u001b[0m\u001b[0;34m(\u001b[0m\u001b[0;34m)\u001b[0m\u001b[0;34m\u001b[0m\u001b[0;34m\u001b[0m\u001b[0m\n\u001b[0m",
      "\u001b[0;32m<ipython-input-1-f4bc44b443fb>\u001b[0m in \u001b[0;36mscraping_pages\u001b[0;34m()\u001b[0m\n\u001b[1;32m     47\u001b[0m                 \u001b[0mscrap\u001b[0m \u001b[0;34m=\u001b[0m \u001b[0;32mFalse\u001b[0m\u001b[0;34m\u001b[0m\u001b[0;34m\u001b[0m\u001b[0m\n\u001b[1;32m     48\u001b[0m \u001b[0;34m\u001b[0m\u001b[0m\n\u001b[0;32m---> 49\u001b[0;31m             \u001b[0mtime\u001b[0m\u001b[0;34m.\u001b[0m\u001b[0msleep\u001b[0m\u001b[0;34m(\u001b[0m\u001b[0mrandom\u001b[0m\u001b[0;34m.\u001b[0m\u001b[0mrandint\u001b[0m\u001b[0;34m(\u001b[0m\u001b[0;36m5\u001b[0m\u001b[0;34m,\u001b[0m \u001b[0;36m9\u001b[0m\u001b[0;34m)\u001b[0m\u001b[0;34m)\u001b[0m\u001b[0;34m\u001b[0m\u001b[0;34m\u001b[0m\u001b[0m\n\u001b[0m\u001b[1;32m     50\u001b[0m             \u001b[0mpage_number\u001b[0m \u001b[0;34m+=\u001b[0m \u001b[0;36m1\u001b[0m\u001b[0;34m\u001b[0m\u001b[0;34m\u001b[0m\u001b[0m\n\u001b[1;32m     51\u001b[0m \u001b[0;34m\u001b[0m\u001b[0m\n",
      "\u001b[0;31mKeyboardInterrupt\u001b[0m: "
     ]
    }
   ],
   "source": [
    "scraping_pages()"
   ]
  },
  {
   "cell_type": "code",
   "execution_count": null,
   "id": "f6c958aa",
   "metadata": {},
   "outputs": [],
   "source": []
  }
 ],
 "metadata": {
  "kernelspec": {
   "display_name": "Python 3",
   "language": "python",
   "name": "python3"
  },
  "language_info": {
   "codemirror_mode": {
    "name": "ipython",
    "version": 3
   },
   "file_extension": ".py",
   "mimetype": "text/x-python",
   "name": "python",
   "nbconvert_exporter": "python",
   "pygments_lexer": "ipython3",
   "version": "3.8.6"
  },
  "toc": {
   "base_numbering": 1,
   "nav_menu": {},
   "number_sections": true,
   "sideBar": true,
   "skip_h1_title": false,
   "title_cell": "Table of Contents",
   "title_sidebar": "Contents",
   "toc_cell": false,
   "toc_position": {},
   "toc_section_display": true,
   "toc_window_display": false
  },
  "varInspector": {
   "cols": {
    "lenName": 16,
    "lenType": 16,
    "lenVar": 40
   },
   "kernels_config": {
    "python": {
     "delete_cmd_postfix": "",
     "delete_cmd_prefix": "del ",
     "library": "var_list.py",
     "varRefreshCmd": "print(var_dic_list())"
    },
    "r": {
     "delete_cmd_postfix": ") ",
     "delete_cmd_prefix": "rm(",
     "library": "var_list.r",
     "varRefreshCmd": "cat(var_dic_list()) "
    }
   },
   "types_to_exclude": [
    "module",
    "function",
    "builtin_function_or_method",
    "instance",
    "_Feature"
   ],
   "window_display": false
  }
 },
 "nbformat": 4,
 "nbformat_minor": 5
}
