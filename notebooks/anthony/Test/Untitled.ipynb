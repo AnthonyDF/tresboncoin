{
 "cells": [
  {
   "cell_type": "code",
   "execution_count": 139,
   "id": "a97f682b",
   "metadata": {},
   "outputs": [],
   "source": [
    "from datetime import datetime\n",
    "import requests\n",
    "from bs4 import BeautifulSoup\n",
    "import time\n",
    "import random\n",
    "import pandas as pd\n",
    "import os\n",
    "\n",
    "\n",
    "# url to scrap\n",
    "url = f'http://www.motovente.com/moto-collection/annonce-moto-suzuki-1874431.html'\n",
    "response = requests.get(url)\n",
    "model_soup = BeautifulSoup(response.content, \"html.parser\")"
   ]
  },
  {
   "cell_type": "code",
   "execution_count": null,
   "id": "c45702fc",
   "metadata": {},
   "outputs": [],
   "source": [
    "<p > 1100€< /p >"
   ]
  },
  {
   "cell_type": "code",
   "execution_count": 158,
   "id": "cbc56447",
   "metadata": {},
   "outputs": [
    {
     "data": {
      "text/plain": [
       "1100"
      ]
     },
     "execution_count": 158,
     "metadata": {},
     "output_type": "execute_result"
    }
   ],
   "source": []
  },
  {
   "cell_type": "code",
   "execution_count": 140,
   "id": "77070415",
   "metadata": {},
   "outputs": [],
   "source": [
    "Raw_text = model_soup.find(class_='infovehicule').text\n",
    "keywords = [row.text for row in model_soup.find(\n",
    "    class_='infovehicule').find_all('p')]\n",
    "\n",
    "for word in keywords:\n",
    "    Raw_text = Raw_text.replace(word, '<>')\n",
    "\n",
    "values = Raw_text.split('<>')[1:]\n",
    "\n",
    "data = {}\n",
    "\n",
    "for key in keywords:\n",
    "    for value in values:\n",
    "        data[key] = [value]\n",
    "        values.remove(value)\n",
    "        break"
   ]
  },
  {
   "cell_type": "code",
   "execution_count": 141,
   "id": "7c6baedc",
   "metadata": {},
   "outputs": [],
   "source": [
    "import pandas as pd\n",
    "df = pd.DataFrame(data)"
   ]
  },
  {
   "cell_type": "code",
   "execution_count": 142,
   "id": "e476c01a",
   "metadata": {},
   "outputs": [],
   "source": [
    "import string\n",
    "import unidecode\n",
    "\n",
    "\n",
    "def remove_punctuations(text):\n",
    "    '''\n",
    "    remove punctuation in a string\n",
    "    '''\n",
    "    for punctuation in string.punctuation:\n",
    "        text = text.replace(punctuation, '')\n",
    "    return text\n",
    "\n",
    "\n",
    "df.columns = [remove_punctuations(unidecode.unidecode(\n",
    "    column)).lower() for column in df.columns]\n",
    "\n",
    "df.rename(columns={'marque': 'brand',\n",
    "                   'modele': 'model',\n",
    "                   'cylindree': 'engine_size',\n",
    "                   'categorie': 'bike_type',\n",
    "                   'energie': 'energy',\n",
    "                   'annee': 'bike_year',\n",
    "                   'date 1ere mise en circulation': 'year_circulation',\n",
    "                   'kilometrage': 'mileage',\n",
    "                   'couleur': 'bike_color',\n",
    "                   'garantie': 'warranty',\n",
    "                   'premiere main': 'first_hand'\n",
    "                   }, inplace=True)"
   ]
  },
  {
   "cell_type": "code",
   "execution_count": 145,
   "id": "17094207",
   "metadata": {},
   "outputs": [
    {
     "data": {
      "text/html": [
       "<div>\n",
       "<style scoped>\n",
       "    .dataframe tbody tr th:only-of-type {\n",
       "        vertical-align: middle;\n",
       "    }\n",
       "\n",
       "    .dataframe tbody tr th {\n",
       "        vertical-align: top;\n",
       "    }\n",
       "\n",
       "    .dataframe thead th {\n",
       "        text-align: right;\n",
       "    }\n",
       "</style>\n",
       "<table border=\"1\" class=\"dataframe\">\n",
       "  <thead>\n",
       "    <tr style=\"text-align: right;\">\n",
       "      <th></th>\n",
       "      <th>brand</th>\n",
       "      <th>model</th>\n",
       "      <th>engine_size</th>\n",
       "      <th>bike_type</th>\n",
       "      <th>energy</th>\n",
       "      <th>bike_year</th>\n",
       "      <th>year_circulation</th>\n",
       "      <th>mileage</th>\n",
       "      <th>bike_color</th>\n",
       "    </tr>\n",
       "  </thead>\n",
       "  <tbody>\n",
       "    <tr>\n",
       "      <th>0</th>\n",
       "      <td>Suzuki</td>\n",
       "      <td>GS</td>\n",
       "      <td>550 cm3</td>\n",
       "      <td>Collection</td>\n",
       "      <td>Essence 4t</td>\n",
       "      <td>1980</td>\n",
       "      <td>20-05-1980</td>\n",
       "      <td>55976 km</td>\n",
       "      <td>Bleu</td>\n",
       "    </tr>\n",
       "  </tbody>\n",
       "</table>\n",
       "</div>"
      ],
      "text/plain": [
       "    brand model engine_size   bike_type      energy bike_year  \\\n",
       "0  Suzuki    GS     550 cm3  Collection  Essence 4t      1980   \n",
       "\n",
       "  year_circulation   mileage bike_color  \n",
       "0       20-05-1980  55976 km       Bleu  "
      ]
     },
     "execution_count": 145,
     "metadata": {},
     "output_type": "execute_result"
    }
   ],
   "source": [
    "df"
   ]
  },
  {
   "cell_type": "code",
   "execution_count": null,
   "id": "d50fe03a",
   "metadata": {},
   "outputs": [],
   "source": []
  },
  {
   "cell_type": "code",
   "execution_count": null,
   "id": "7b0bbb3b",
   "metadata": {},
   "outputs": [],
   "source": []
  }
 ],
 "metadata": {
  "kernelspec": {
   "display_name": "Python 3",
   "language": "python",
   "name": "python3"
  },
  "language_info": {
   "codemirror_mode": {
    "name": "ipython",
    "version": 3
   },
   "file_extension": ".py",
   "mimetype": "text/x-python",
   "name": "python",
   "nbconvert_exporter": "python",
   "pygments_lexer": "ipython3",
   "version": "3.8.6"
  },
  "toc": {
   "base_numbering": 1,
   "nav_menu": {},
   "number_sections": true,
   "sideBar": true,
   "skip_h1_title": false,
   "title_cell": "Table of Contents",
   "title_sidebar": "Contents",
   "toc_cell": false,
   "toc_position": {},
   "toc_section_display": true,
   "toc_window_display": false
  },
  "varInspector": {
   "cols": {
    "lenName": 16,
    "lenType": 16,
    "lenVar": 40
   },
   "kernels_config": {
    "python": {
     "delete_cmd_postfix": "",
     "delete_cmd_prefix": "del ",
     "library": "var_list.py",
     "varRefreshCmd": "print(var_dic_list())"
    },
    "r": {
     "delete_cmd_postfix": ") ",
     "delete_cmd_prefix": "rm(",
     "library": "var_list.r",
     "varRefreshCmd": "cat(var_dic_list()) "
    }
   },
   "types_to_exclude": [
    "module",
    "function",
    "builtin_function_or_method",
    "instance",
    "_Feature"
   ],
   "window_display": false
  }
 },
 "nbformat": 4,
 "nbformat_minor": 5
}
