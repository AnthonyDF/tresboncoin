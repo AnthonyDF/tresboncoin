{
 "cells": [
  {
   "cell_type": "code",
   "execution_count": 2,
   "id": "165df565",
   "metadata": {},
   "outputs": [],
   "source": [
    "import pandas as pd\n",
    "import string\n",
    "from fuzzy_match import match\n",
    "from fuzzy_match import algorithims\n",
    "import time"
   ]
  },
  {
   "cell_type": "markdown",
   "id": "58df1edd",
   "metadata": {},
   "source": [
    "# Import data"
   ]
  },
  {
   "cell_type": "code",
   "execution_count": 5,
   "id": "ade0d15d",
   "metadata": {},
   "outputs": [],
   "source": [
    "# import\n",
    "master_data = pd.read_csv('../../tresboncoin/data/master/master_data.csv')\n",
    "moto_database = pd.read_csv('motorcycle_database/master_model.csv')"
   ]
  },
  {
   "cell_type": "code",
   "execution_count": 22,
   "id": "3cc16625",
   "metadata": {},
   "outputs": [
    {
     "data": {
      "text/plain": [
       "(13383, 8)"
      ]
     },
     "execution_count": 22,
     "metadata": {},
     "output_type": "execute_result"
    }
   ],
   "source": [
    "# append\n",
    "df  = master_data.copy().dropna()\n",
    "df.shape"
   ]
  },
  {
   "cell_type": "code",
   "execution_count": 23,
   "id": "26fe8ba6",
   "metadata": {},
   "outputs": [
    {
     "data": {
      "text/html": [
       "<div>\n",
       "<style scoped>\n",
       "    .dataframe tbody tr th:only-of-type {\n",
       "        vertical-align: middle;\n",
       "    }\n",
       "\n",
       "    .dataframe tbody tr th {\n",
       "        vertical-align: top;\n",
       "    }\n",
       "\n",
       "    .dataframe thead th {\n",
       "        text-align: right;\n",
       "    }\n",
       "</style>\n",
       "<table border=\"1\" class=\"dataframe\">\n",
       "  <thead>\n",
       "    <tr style=\"text-align: right;\">\n",
       "      <th></th>\n",
       "      <th>url</th>\n",
       "      <th>uniq_id</th>\n",
       "      <th>brand</th>\n",
       "      <th>bike_year</th>\n",
       "      <th>mileage</th>\n",
       "      <th>bike_type</th>\n",
       "      <th>price</th>\n",
       "      <th>model</th>\n",
       "    </tr>\n",
       "  </thead>\n",
       "  <tbody>\n",
       "    <tr>\n",
       "      <th>0</th>\n",
       "      <td>https://www.motoplanete.com/occasion-moto/3764...</td>\n",
       "      <td>motoplanete-37642</td>\n",
       "      <td>kawasaki</td>\n",
       "      <td>2021</td>\n",
       "      <td>476.0</td>\n",
       "      <td>Trail</td>\n",
       "      <td>16999.0</td>\n",
       "      <td>VERSYS 1000 2020</td>\n",
       "    </tr>\n",
       "    <tr>\n",
       "      <th>1</th>\n",
       "      <td>https://www.motoplanete.com/occasion-moto/2127...</td>\n",
       "      <td>motoplanete-21278</td>\n",
       "      <td>yamaha</td>\n",
       "      <td>2003</td>\n",
       "      <td>5130.0</td>\n",
       "      <td>Custom</td>\n",
       "      <td>3700.0</td>\n",
       "      <td>WILD STAR</td>\n",
       "    </tr>\n",
       "    <tr>\n",
       "      <th>2</th>\n",
       "      <td>https://www.motoplanete.com/occasion-moto/1139...</td>\n",
       "      <td>motoplanete-11392</td>\n",
       "      <td>yamaha</td>\n",
       "      <td>2019</td>\n",
       "      <td>2500.0</td>\n",
       "      <td>Routière &amp; GT</td>\n",
       "      <td>13490.0</td>\n",
       "      <td>NIKEN</td>\n",
       "    </tr>\n",
       "    <tr>\n",
       "      <th>3</th>\n",
       "      <td>https://www.motoplanete.com/occasion-moto/3923...</td>\n",
       "      <td>motoplanete-39239</td>\n",
       "      <td>bmw</td>\n",
       "      <td>2021</td>\n",
       "      <td>998.0</td>\n",
       "      <td>Roadster</td>\n",
       "      <td>13990.0</td>\n",
       "      <td>R NineT PURE</td>\n",
       "    </tr>\n",
       "    <tr>\n",
       "      <th>4</th>\n",
       "      <td>https://www.motoplanete.com/occasion-moto/1536...</td>\n",
       "      <td>motoplanete-15360</td>\n",
       "      <td>yamaha</td>\n",
       "      <td>2016</td>\n",
       "      <td>2600.0</td>\n",
       "      <td>Custom</td>\n",
       "      <td>8500.0</td>\n",
       "      <td>XV 950 BOLT</td>\n",
       "    </tr>\n",
       "  </tbody>\n",
       "</table>\n",
       "</div>"
      ],
      "text/plain": [
       "                                                 url            uniq_id  \\\n",
       "0  https://www.motoplanete.com/occasion-moto/3764...  motoplanete-37642   \n",
       "1  https://www.motoplanete.com/occasion-moto/2127...  motoplanete-21278   \n",
       "2  https://www.motoplanete.com/occasion-moto/1139...  motoplanete-11392   \n",
       "3  https://www.motoplanete.com/occasion-moto/3923...  motoplanete-39239   \n",
       "4  https://www.motoplanete.com/occasion-moto/1536...  motoplanete-15360   \n",
       "\n",
       "      brand  bike_year  mileage      bike_type    price             model  \n",
       "0  kawasaki       2021    476.0          Trail  16999.0  VERSYS 1000 2020  \n",
       "1    yamaha       2003   5130.0         Custom   3700.0         WILD STAR  \n",
       "2    yamaha       2019   2500.0  Routière & GT  13490.0             NIKEN  \n",
       "3       bmw       2021    998.0       Roadster  13990.0      R NineT PURE  \n",
       "4    yamaha       2016   2600.0         Custom   8500.0       XV 950 BOLT  "
      ]
     },
     "execution_count": 23,
     "metadata": {},
     "output_type": "execute_result"
    }
   ],
   "source": [
    "df.head()"
   ]
  },
  {
   "cell_type": "markdown",
   "id": "5c2848c7",
   "metadata": {},
   "source": [
    "# Cleaning"
   ]
  },
  {
   "cell_type": "markdown",
   "id": "a60bde9a",
   "metadata": {},
   "source": [
    "## Motorcycle name"
   ]
  },
  {
   "cell_type": "code",
   "execution_count": 24,
   "id": "c93d0a70",
   "metadata": {},
   "outputs": [],
   "source": [
    "# lower\n",
    "moto_database.brand = moto_database.brand.str.lower()\n",
    "moto_database.bike_model = moto_database.bike_model.str.lower()"
   ]
  },
  {
   "cell_type": "code",
   "execution_count": 25,
   "id": "12e6e1b6",
   "metadata": {},
   "outputs": [],
   "source": [
    "#remove punctuation\n",
    "def remove_punctuations(text):\n",
    "    for punctuation in string.punctuation:\n",
    "        text = text.replace(punctuation, '')\n",
    "    return text\n",
    "\n",
    "moto_database.brand = moto_database.brand.apply(remove_punctuations)\n",
    "moto_database.bike_model = moto_database.bike_model.apply(remove_punctuations)"
   ]
  },
  {
   "cell_type": "code",
   "execution_count": 26,
   "id": "35cea1e6",
   "metadata": {},
   "outputs": [],
   "source": [
    "# create column with brand + model\n",
    "moto_database['brand_bike_model'] = moto_database.brand + \" \" + moto_database.bike_model"
   ]
  },
  {
   "cell_type": "code",
   "execution_count": 27,
   "id": "23eac65a",
   "metadata": {},
   "outputs": [
    {
     "data": {
      "text/html": [
       "<div>\n",
       "<style scoped>\n",
       "    .dataframe tbody tr th:only-of-type {\n",
       "        vertical-align: middle;\n",
       "    }\n",
       "\n",
       "    .dataframe tbody tr th {\n",
       "        vertical-align: top;\n",
       "    }\n",
       "\n",
       "    .dataframe thead th {\n",
       "        text-align: right;\n",
       "    }\n",
       "</style>\n",
       "<table border=\"1\" class=\"dataframe\">\n",
       "  <thead>\n",
       "    <tr style=\"text-align: right;\">\n",
       "      <th></th>\n",
       "      <th>segment</th>\n",
       "      <th>brand</th>\n",
       "      <th>title_description</th>\n",
       "      <th>description</th>\n",
       "      <th>first_year_prod</th>\n",
       "      <th>last_year_prod</th>\n",
       "      <th>motor_type</th>\n",
       "      <th>motor_size</th>\n",
       "      <th>motor_power</th>\n",
       "      <th>fuel_system</th>\n",
       "      <th>gearbox</th>\n",
       "      <th>clutch</th>\n",
       "      <th>primary_drive</th>\n",
       "      <th>final_drive</th>\n",
       "      <th>length</th>\n",
       "      <th>width</th>\n",
       "      <th>weight</th>\n",
       "      <th>fuel_capacity</th>\n",
       "      <th>bike_model</th>\n",
       "      <th>brand_bike_model</th>\n",
       "    </tr>\n",
       "  </thead>\n",
       "  <tbody>\n",
       "    <tr>\n",
       "      <th>0</th>\n",
       "      <td>\\nSport Touring\\t\\t\\t</td>\n",
       "      <td>triumph</td>\n",
       "      <td>TRIUMPH Rocket III Touring 2011 - Present</td>\n",
       "      <td>Designed for riders who demand serious long ha...</td>\n",
       "      <td>2011.0</td>\n",
       "      <td>Present</td>\n",
       "      <td>liquid-cooled, DOHC, in-line 3-cylinder</td>\n",
       "      <td>2,294</td>\n",
       "      <td>106/5750 KW(hp)/RPM</td>\n",
       "      <td>multipoint sequential electronic fuel injectio...</td>\n",
       "      <td>5-speed</td>\n",
       "      <td>wet, multiplate</td>\n",
       "      <td>wet, multiplate</td>\n",
       "      <td>shaft</td>\n",
       "      <td>102.4 in OR 2601 mm</td>\n",
       "      <td>39.1 in OR 993 mm</td>\n",
       "      <td>869 lbs OR 394 kg</td>\n",
       "      <td>5.9 gallons OR 22.3 L</td>\n",
       "      <td>rocket iii touring</td>\n",
       "      <td>triumph rocket iii touring</td>\n",
       "    </tr>\n",
       "    <tr>\n",
       "      <th>1</th>\n",
       "      <td>\\nTouring\\t\\t\\t</td>\n",
       "      <td>harley davidson</td>\n",
       "      <td>HARLEY DAVIDSON Electra Glide Classic 2004 - 2005</td>\n",
       "      <td>The 2005 MY Harley Davidson FLHTC Electra Glid...</td>\n",
       "      <td>2004.0</td>\n",
       "      <td>2005</td>\n",
       "      <td>air-cooled, Twin Cam 88</td>\n",
       "      <td>1450</td>\n",
       "      <td>67/5200 KW(hp)/RPM</td>\n",
       "      <td>Electronic Sequential Port Fuel Injection (ESP...</td>\n",
       "      <td>5-speed, manual</td>\n",
       "      <td>wet multi-disc, manual</td>\n",
       "      <td>wet multi-disc, manual</td>\n",
       "      <td>belt</td>\n",
       "      <td>98.3 in OR 2497 mm</td>\n",
       "      <td>38 in OR 965 mm</td>\n",
       "      <td>827 lbs OR 375 kg</td>\n",
       "      <td>6 gallons OR 22.7 L</td>\n",
       "      <td>electra glide classic</td>\n",
       "      <td>harley davidson electra glide classic</td>\n",
       "    </tr>\n",
       "    <tr>\n",
       "      <th>2</th>\n",
       "      <td>\\nCustom/Cruiser\\t\\t\\t</td>\n",
       "      <td>triumph</td>\n",
       "      <td>TRIUMPH Thunderbird Storm 2010 - 2011</td>\n",
       "      <td>If you thought the 2010 Thunderbird was a toug...</td>\n",
       "      <td>2010.0</td>\n",
       "      <td>2011</td>\n",
       "      <td>4-stroke liquid-cooled, DOHC, parallel-twin</td>\n",
       "      <td>1699</td>\n",
       "      <td>97/5200 KW(hp)/RPM</td>\n",
       "      <td>multipoint sequential electronic fuel injection</td>\n",
       "      <td>6-speed, helical type 2nd - 6th</td>\n",
       "      <td>wet, multiplate</td>\n",
       "      <td>wet, multiplate</td>\n",
       "      <td>toothed belt</td>\n",
       "      <td>92.1 in OR 2339 mm</td>\n",
       "      <td>34.6 in OR 879 mm</td>\n",
       "      <td>746 lbs OR 338 kg</td>\n",
       "      <td>5.8 gallons OR 22.0 L</td>\n",
       "      <td>thunderbird storm</td>\n",
       "      <td>triumph thunderbird storm</td>\n",
       "    </tr>\n",
       "    <tr>\n",
       "      <th>3</th>\n",
       "      <td>\\nSport / Super Sport\\t\\t\\t</td>\n",
       "      <td>bimota</td>\n",
       "      <td>BIMOTA YB8 1991 - 1992</td>\n",
       "      <td>The 1992 MY Bimota YB8 is a powerful, liter-cl...</td>\n",
       "      <td>1991.0</td>\n",
       "      <td>1992</td>\n",
       "      <td>liquid-cooled, four-stroke, transverse four cy...</td>\n",
       "      <td>1002</td>\n",
       "      <td>149/10500 KW(hp)/RPM</td>\n",
       "      <td>4x38mm Mikuni carburetors</td>\n",
       "      <td>5-speed, manual</td>\n",
       "      <td>wet multi-disc, manual</td>\n",
       "      <td>wet multi-disc, manual</td>\n",
       "      <td>chain</td>\n",
       "      <td>-</td>\n",
       "      <td>-</td>\n",
       "      <td>397 lbs OR 180 kg</td>\n",
       "      <td>5.3 gallons OR 20.1 L</td>\n",
       "      <td>yb8</td>\n",
       "      <td>bimota yb8</td>\n",
       "    </tr>\n",
       "    <tr>\n",
       "      <th>4</th>\n",
       "      <td>\\nATV/Quad\\t\\t\\t</td>\n",
       "      <td>hyosung</td>\n",
       "      <td>HYOSUNG WOW 50 2005 - 2006</td>\n",
       "      <td>The 2006 MY Hyosung WOW 50 is a small ATV suit...</td>\n",
       "      <td>2005.0</td>\n",
       "      <td>2006</td>\n",
       "      <td>air-cooled, two-stroke, single cylinder</td>\n",
       "      <td>49</td>\n",
       "      <td>-/- KW(hp)/RPM</td>\n",
       "      <td>carburetor</td>\n",
       "      <td>CVT</td>\n",
       "      <td>dry, centrifugal</td>\n",
       "      <td>dry, centrifugal</td>\n",
       "      <td>chain</td>\n",
       "      <td>49.2 in OR 1250 mm</td>\n",
       "      <td>30.7 in OR 780 mm</td>\n",
       "      <td>187 lbs OR 85 kg</td>\n",
       "      <td>1.1 gallons OR 4.2 L</td>\n",
       "      <td>wow 50</td>\n",
       "      <td>hyosung wow 50</td>\n",
       "    </tr>\n",
       "  </tbody>\n",
       "</table>\n",
       "</div>"
      ],
      "text/plain": [
       "                       segment            brand  \\\n",
       "0        \\nSport Touring\\t\\t\\t          triumph   \n",
       "1              \\nTouring\\t\\t\\t  harley davidson   \n",
       "2       \\nCustom/Cruiser\\t\\t\\t          triumph   \n",
       "3  \\nSport / Super Sport\\t\\t\\t           bimota   \n",
       "4             \\nATV/Quad\\t\\t\\t          hyosung   \n",
       "\n",
       "                                   title_description  \\\n",
       "0          TRIUMPH Rocket III Touring 2011 - Present   \n",
       "1  HARLEY DAVIDSON Electra Glide Classic 2004 - 2005   \n",
       "2              TRIUMPH Thunderbird Storm 2010 - 2011   \n",
       "3                             BIMOTA YB8 1991 - 1992   \n",
       "4                         HYOSUNG WOW 50 2005 - 2006   \n",
       "\n",
       "                                         description  first_year_prod  \\\n",
       "0  Designed for riders who demand serious long ha...           2011.0   \n",
       "1  The 2005 MY Harley Davidson FLHTC Electra Glid...           2004.0   \n",
       "2  If you thought the 2010 Thunderbird was a toug...           2010.0   \n",
       "3  The 1992 MY Bimota YB8 is a powerful, liter-cl...           1991.0   \n",
       "4  The 2006 MY Hyosung WOW 50 is a small ATV suit...           2005.0   \n",
       "\n",
       "  last_year_prod                                         motor_type  \\\n",
       "0        Present           liquid-cooled, DOHC, in-line 3-cylinder    \n",
       "1           2005                           air-cooled, Twin Cam 88    \n",
       "2           2011       4-stroke liquid-cooled, DOHC, parallel-twin    \n",
       "3           1992  liquid-cooled, four-stroke, transverse four cy...   \n",
       "4           2006           air-cooled, two-stroke, single cylinder    \n",
       "\n",
       "  motor_size           motor_power  \\\n",
       "0      2,294   106/5750 KW(hp)/RPM   \n",
       "1       1450    67/5200 KW(hp)/RPM   \n",
       "2       1699    97/5200 KW(hp)/RPM   \n",
       "3       1002  149/10500 KW(hp)/RPM   \n",
       "4         49        -/- KW(hp)/RPM   \n",
       "\n",
       "                                         fuel_system  \\\n",
       "0  multipoint sequential electronic fuel injectio...   \n",
       "1  Electronic Sequential Port Fuel Injection (ESP...   \n",
       "2   multipoint sequential electronic fuel injection    \n",
       "3                         4x38mm Mikuni carburetors    \n",
       "4                                        carburetor    \n",
       "\n",
       "                            gearbox                   clutch  \\\n",
       "0                          5-speed          wet, multiplate    \n",
       "1                  5-speed, manual   wet multi-disc, manual    \n",
       "2  6-speed, helical type 2nd - 6th          wet, multiplate    \n",
       "3                  5-speed, manual   wet multi-disc, manual    \n",
       "4                              CVT         dry, centrifugal    \n",
       "\n",
       "             primary_drive    final_drive               length  \\\n",
       "0         wet, multiplate          shaft   102.4 in OR 2601 mm   \n",
       "1  wet multi-disc, manual           belt    98.3 in OR 2497 mm   \n",
       "2         wet, multiplate   toothed belt    92.1 in OR 2339 mm   \n",
       "3  wet multi-disc, manual          chain                    -    \n",
       "4        dry, centrifugal          chain    49.2 in OR 1250 mm   \n",
       "\n",
       "               width             weight          fuel_capacity  \\\n",
       "0  39.1 in OR 993 mm  869 lbs OR 394 kg  5.9 gallons OR 22.3 L   \n",
       "1    38 in OR 965 mm  827 lbs OR 375 kg    6 gallons OR 22.7 L   \n",
       "2  34.6 in OR 879 mm  746 lbs OR 338 kg  5.8 gallons OR 22.0 L   \n",
       "3                 -   397 lbs OR 180 kg  5.3 gallons OR 20.1 L   \n",
       "4  30.7 in OR 780 mm   187 lbs OR 85 kg   1.1 gallons OR 4.2 L   \n",
       "\n",
       "              bike_model                       brand_bike_model  \n",
       "0     rocket iii touring             triumph rocket iii touring  \n",
       "1  electra glide classic  harley davidson electra glide classic  \n",
       "2      thunderbird storm              triumph thunderbird storm  \n",
       "3                    yb8                             bimota yb8  \n",
       "4                 wow 50                         hyosung wow 50  "
      ]
     },
     "execution_count": 27,
     "metadata": {},
     "output_type": "execute_result"
    }
   ],
   "source": [
    "moto_database.head()"
   ]
  },
  {
   "cell_type": "markdown",
   "id": "c19e866d",
   "metadata": {},
   "source": [
    "## Dataframe"
   ]
  },
  {
   "cell_type": "code",
   "execution_count": 28,
   "id": "5c3a1718",
   "metadata": {},
   "outputs": [],
   "source": [
    "# lower text\n",
    "df.brand = df.brand.str.lower()\n",
    "df.model = df.model.str.lower()"
   ]
  },
  {
   "cell_type": "code",
   "execution_count": 29,
   "id": "f9db2b20",
   "metadata": {},
   "outputs": [],
   "source": [
    "#remove punctuation\n",
    "df.brand = df.brand.apply(remove_punctuations)\n",
    "df.model = df.model.apply(remove_punctuations)"
   ]
  },
  {
   "cell_type": "code",
   "execution_count": 30,
   "id": "ce00dee2",
   "metadata": {},
   "outputs": [],
   "source": [
    "# create column with brand + model\n",
    "df['brand_bike_model'] = df.brand + \" \" + df.model"
   ]
  },
  {
   "cell_type": "code",
   "execution_count": 31,
   "id": "4a944576",
   "metadata": {},
   "outputs": [
    {
     "data": {
      "text/html": [
       "<div>\n",
       "<style scoped>\n",
       "    .dataframe tbody tr th:only-of-type {\n",
       "        vertical-align: middle;\n",
       "    }\n",
       "\n",
       "    .dataframe tbody tr th {\n",
       "        vertical-align: top;\n",
       "    }\n",
       "\n",
       "    .dataframe thead th {\n",
       "        text-align: right;\n",
       "    }\n",
       "</style>\n",
       "<table border=\"1\" class=\"dataframe\">\n",
       "  <thead>\n",
       "    <tr style=\"text-align: right;\">\n",
       "      <th></th>\n",
       "      <th>url</th>\n",
       "      <th>uniq_id</th>\n",
       "      <th>brand</th>\n",
       "      <th>bike_year</th>\n",
       "      <th>mileage</th>\n",
       "      <th>bike_type</th>\n",
       "      <th>price</th>\n",
       "      <th>model</th>\n",
       "      <th>brand_bike_model</th>\n",
       "    </tr>\n",
       "  </thead>\n",
       "  <tbody>\n",
       "    <tr>\n",
       "      <th>0</th>\n",
       "      <td>https://www.motoplanete.com/occasion-moto/3764...</td>\n",
       "      <td>motoplanete-37642</td>\n",
       "      <td>kawasaki</td>\n",
       "      <td>2021</td>\n",
       "      <td>476.0</td>\n",
       "      <td>Trail</td>\n",
       "      <td>16999.0</td>\n",
       "      <td>versys 1000 2020</td>\n",
       "      <td>kawasaki versys 1000 2020</td>\n",
       "    </tr>\n",
       "    <tr>\n",
       "      <th>1</th>\n",
       "      <td>https://www.motoplanete.com/occasion-moto/2127...</td>\n",
       "      <td>motoplanete-21278</td>\n",
       "      <td>yamaha</td>\n",
       "      <td>2003</td>\n",
       "      <td>5130.0</td>\n",
       "      <td>Custom</td>\n",
       "      <td>3700.0</td>\n",
       "      <td>wild star</td>\n",
       "      <td>yamaha wild star</td>\n",
       "    </tr>\n",
       "    <tr>\n",
       "      <th>2</th>\n",
       "      <td>https://www.motoplanete.com/occasion-moto/1139...</td>\n",
       "      <td>motoplanete-11392</td>\n",
       "      <td>yamaha</td>\n",
       "      <td>2019</td>\n",
       "      <td>2500.0</td>\n",
       "      <td>Routière &amp; GT</td>\n",
       "      <td>13490.0</td>\n",
       "      <td>niken</td>\n",
       "      <td>yamaha niken</td>\n",
       "    </tr>\n",
       "    <tr>\n",
       "      <th>3</th>\n",
       "      <td>https://www.motoplanete.com/occasion-moto/3923...</td>\n",
       "      <td>motoplanete-39239</td>\n",
       "      <td>bmw</td>\n",
       "      <td>2021</td>\n",
       "      <td>998.0</td>\n",
       "      <td>Roadster</td>\n",
       "      <td>13990.0</td>\n",
       "      <td>r ninet pure</td>\n",
       "      <td>bmw r ninet pure</td>\n",
       "    </tr>\n",
       "    <tr>\n",
       "      <th>4</th>\n",
       "      <td>https://www.motoplanete.com/occasion-moto/1536...</td>\n",
       "      <td>motoplanete-15360</td>\n",
       "      <td>yamaha</td>\n",
       "      <td>2016</td>\n",
       "      <td>2600.0</td>\n",
       "      <td>Custom</td>\n",
       "      <td>8500.0</td>\n",
       "      <td>xv 950 bolt</td>\n",
       "      <td>yamaha xv 950 bolt</td>\n",
       "    </tr>\n",
       "  </tbody>\n",
       "</table>\n",
       "</div>"
      ],
      "text/plain": [
       "                                                 url            uniq_id  \\\n",
       "0  https://www.motoplanete.com/occasion-moto/3764...  motoplanete-37642   \n",
       "1  https://www.motoplanete.com/occasion-moto/2127...  motoplanete-21278   \n",
       "2  https://www.motoplanete.com/occasion-moto/1139...  motoplanete-11392   \n",
       "3  https://www.motoplanete.com/occasion-moto/3923...  motoplanete-39239   \n",
       "4  https://www.motoplanete.com/occasion-moto/1536...  motoplanete-15360   \n",
       "\n",
       "      brand  bike_year  mileage      bike_type    price             model  \\\n",
       "0  kawasaki       2021    476.0          Trail  16999.0  versys 1000 2020   \n",
       "1    yamaha       2003   5130.0         Custom   3700.0         wild star   \n",
       "2    yamaha       2019   2500.0  Routière & GT  13490.0             niken   \n",
       "3       bmw       2021    998.0       Roadster  13990.0      r ninet pure   \n",
       "4    yamaha       2016   2600.0         Custom   8500.0       xv 950 bolt   \n",
       "\n",
       "            brand_bike_model  \n",
       "0  kawasaki versys 1000 2020  \n",
       "1           yamaha wild star  \n",
       "2               yamaha niken  \n",
       "3           bmw r ninet pure  \n",
       "4         yamaha xv 950 bolt  "
      ]
     },
     "execution_count": 31,
     "metadata": {},
     "output_type": "execute_result"
    }
   ],
   "source": [
    "df.head()"
   ]
  },
  {
   "cell_type": "code",
   "execution_count": 33,
   "id": "4b8f79e7",
   "metadata": {},
   "outputs": [
    {
     "data": {
      "text/plain": [
       "3748"
      ]
     },
     "execution_count": 33,
     "metadata": {},
     "output_type": "execute_result"
    }
   ],
   "source": [
    "df.model.nunique()"
   ]
  },
  {
   "cell_type": "code",
   "execution_count": 34,
   "id": "62ecd468",
   "metadata": {},
   "outputs": [
    {
     "data": {
      "text/plain": [
       "r 1200 rt                                                     113\n",
       "mp3 500 lt                                                    112\n",
       "r 1200                                                        109\n",
       "r 1200 gs                                                      96\n",
       "z 900                                                          93\n",
       "                                                             ... \n",
       "dr 125 sm                                                       1\n",
       "er6 n bridable a2                                               1\n",
       "xj6f xj6 f                                                      1\n",
       "electra glide ultra limited 103 ci  harley  davidson  agen      1\n",
       "multistrada 950 s  abs                                          1\n",
       "Name: model, Length: 3748, dtype: int64"
      ]
     },
     "execution_count": 34,
     "metadata": {},
     "output_type": "execute_result"
    }
   ],
   "source": [
    "df.model.value_counts()"
   ]
  },
  {
   "cell_type": "markdown",
   "id": "3aecf6a6",
   "metadata": {},
   "source": [
    "# Fuzzy matching"
   ]
  },
  {
   "cell_type": "markdown",
   "id": "1491d863",
   "metadata": {
    "heading_collapsed": true
   },
   "source": [
    "## test"
   ]
  },
  {
   "cell_type": "markdown",
   "id": "6ec685e6",
   "metadata": {
    "heading_collapsed": true,
    "hidden": true
   },
   "source": [
    "### Trigram"
   ]
  },
  {
   "cell_type": "code",
   "execution_count": null,
   "id": "3d8e0751",
   "metadata": {
    "hidden": true
   },
   "outputs": [],
   "source": [
    "algorithims.trigram(\"ktm duke 1200\", 'ktm 1200 duke abs')"
   ]
  },
  {
   "cell_type": "code",
   "execution_count": null,
   "id": "49ab9864",
   "metadata": {
    "hidden": true
   },
   "outputs": [],
   "source": [
    "algorithims.trigram(\"Yamaha XMAX\", 'Yamaha X-MAX 125')"
   ]
  },
  {
   "cell_type": "markdown",
   "id": "e3de1dd1",
   "metadata": {
    "hidden": true
   },
   "source": [
    "### Cosine"
   ]
  },
  {
   "cell_type": "code",
   "execution_count": null,
   "id": "fd21cfde",
   "metadata": {
    "hidden": true
   },
   "outputs": [],
   "source": [
    "algorithims.cosine(\"ktm duke 1200\", 'ktm 1200 duke abs')"
   ]
  },
  {
   "cell_type": "code",
   "execution_count": null,
   "id": "130fc849",
   "metadata": {
    "hidden": true
   },
   "outputs": [],
   "source": [
    "algorithims.cosine(\"Yamaha XMAX\", 'Yamaha X-MAX 125')"
   ]
  },
  {
   "cell_type": "markdown",
   "id": "371eff5b",
   "metadata": {
    "hidden": true
   },
   "source": [
    "### Levenshtein"
   ]
  },
  {
   "cell_type": "code",
   "execution_count": null,
   "id": "3c62f412",
   "metadata": {
    "hidden": true
   },
   "outputs": [],
   "source": [
    "algorithims.levenshtein(\"ktm duke 1200\", 'ktm 1200 duke abs')"
   ]
  },
  {
   "cell_type": "code",
   "execution_count": null,
   "id": "bc0e860f",
   "metadata": {
    "hidden": true
   },
   "outputs": [],
   "source": [
    "algorithims.levenshtein(\"Yamaha XMAX\", 'Yamaha X-MAX 125')"
   ]
  },
  {
   "cell_type": "markdown",
   "id": "d7f078b0",
   "metadata": {
    "hidden": true
   },
   "source": [
    "### Jaro-Winkler"
   ]
  },
  {
   "cell_type": "code",
   "execution_count": null,
   "id": "14aeec6c",
   "metadata": {
    "hidden": true
   },
   "outputs": [],
   "source": [
    "algorithims.jaro_winkler(\"ktm duke 1200\", 'ktm 1200 duke abs')"
   ]
  },
  {
   "cell_type": "code",
   "execution_count": null,
   "id": "cf54361f",
   "metadata": {
    "hidden": true
   },
   "outputs": [],
   "source": [
    "algorithims.jaro_winkler(\"Yamaha XMAX\", 'Yamaha X-MAX 125')"
   ]
  },
  {
   "cell_type": "markdown",
   "id": "0fd38aa7",
   "metadata": {},
   "source": [
    "## Match"
   ]
  },
  {
   "cell_type": "code",
   "execution_count": 35,
   "id": "19a8c1a0",
   "metadata": {},
   "outputs": [],
   "source": [
    "choices = moto_database.brand_bike_model.to_list()"
   ]
  },
  {
   "cell_type": "code",
   "execution_count": 36,
   "id": "3e308177",
   "metadata": {},
   "outputs": [],
   "source": [
    "def match_one(choices, bike_brand_model, match_type='jaro_winkler'): #match_type options include trigram, cosine, levenshtein, jaro_winkler\n",
    "    return match.extractOne(bike_brand_model, choices, match_type=match_type, score_cutoff=0.5)"
   ]
  },
  {
   "cell_type": "code",
   "execution_count": null,
   "id": "0d4b55f4",
   "metadata": {},
   "outputs": [],
   "source": [
    "df['fuzzy_result']= df.brand_bike_model.apply(lambda x: match_one(moto_database.brand_bike_model.to_list(),x))"
   ]
  },
  {
   "cell_type": "code",
   "execution_count": null,
   "id": "ab8d6f30",
   "metadata": {},
   "outputs": [],
   "source": [
    "df.to_csv('master_data_fuzzy.csv')"
   ]
  }
 ],
 "metadata": {
  "kernelspec": {
   "display_name": "Python 3",
   "language": "python",
   "name": "python3"
  },
  "language_info": {
   "codemirror_mode": {
    "name": "ipython",
    "version": 3
   },
   "file_extension": ".py",
   "mimetype": "text/x-python",
   "name": "python",
   "nbconvert_exporter": "python",
   "pygments_lexer": "ipython3",
   "version": "3.8.6"
  },
  "toc": {
   "base_numbering": 1,
   "nav_menu": {},
   "number_sections": true,
   "sideBar": true,
   "skip_h1_title": false,
   "title_cell": "Table of Contents",
   "title_sidebar": "Contents",
   "toc_cell": false,
   "toc_position": {},
   "toc_section_display": true,
   "toc_window_display": false
  },
  "varInspector": {
   "cols": {
    "lenName": 16,
    "lenType": 16,
    "lenVar": 40
   },
   "kernels_config": {
    "python": {
     "delete_cmd_postfix": "",
     "delete_cmd_prefix": "del ",
     "library": "var_list.py",
     "varRefreshCmd": "print(var_dic_list())"
    },
    "r": {
     "delete_cmd_postfix": ") ",
     "delete_cmd_prefix": "rm(",
     "library": "var_list.r",
     "varRefreshCmd": "cat(var_dic_list()) "
    }
   },
   "types_to_exclude": [
    "module",
    "function",
    "builtin_function_or_method",
    "instance",
    "_Feature"
   ],
   "window_display": false
  }
 },
 "nbformat": 4,
 "nbformat_minor": 5
}
