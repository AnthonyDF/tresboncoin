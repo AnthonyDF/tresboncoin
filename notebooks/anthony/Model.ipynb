{
 "cells": [
  {
   "cell_type": "code",
   "execution_count": 2,
   "id": "cbb2f696",
   "metadata": {},
   "outputs": [],
   "source": [
    "import pandas as pd\n",
    "import seaborn as sns\n",
    "from datetime import datetime\n",
    "import numpy as np\n",
    "from sklearn.metrics import r2_score"
   ]
  },
  {
   "cell_type": "code",
   "execution_count": 3,
   "id": "0537947e",
   "metadata": {},
   "outputs": [],
   "source": [
    "sns.set(rc={\"figure.figsize\":(12, 8)})\n",
    "pd.set_option(\"display.max_columns\", None)"
   ]
  },
  {
   "cell_type": "markdown",
   "id": "ea1f2565",
   "metadata": {},
   "source": [
    "# Import data"
   ]
  },
  {
   "cell_type": "code",
   "execution_count": 4,
   "id": "7d0c2623",
   "metadata": {},
   "outputs": [
    {
     "data": {
      "text/plain": [
       "(25960, 23)"
      ]
     },
     "execution_count": 4,
     "metadata": {},
     "output_type": "execute_result"
    }
   ],
   "source": [
    "data = pd.read_csv('../../tresboncoin/data/master/master_with_fuzzy_and_cleaning.csv')\n",
    "#data = pd.read_csv('master_with_fuzzy_and_cleaning.csv')\n",
    "data.drop_duplicates(subset=['model_db', 'brand_db', 'price', 'engine_size_db', 'mileage', 'bike_year'], inplace=True)\n",
    "#data.drop(columns=['Unnamed: 0'], inplace=True)\n",
    "data.shape"
   ]
  },
  {
   "cell_type": "code",
   "execution_count": null,
   "id": "675ceb32",
   "metadata": {
    "scrolled": true
   },
   "outputs": [],
   "source": [
    "sns.displot(data.engine_size)"
   ]
  },
  {
   "cell_type": "markdown",
   "id": "5fda6996",
   "metadata": {},
   "source": [
    "# Feature engineering"
   ]
  },
  {
   "cell_type": "markdown",
   "id": "9b53465c",
   "metadata": {},
   "source": [
    "## Calculated"
   ]
  },
  {
   "cell_type": "code",
   "execution_count": null,
   "id": "28c67cdc",
   "metadata": {},
   "outputs": [],
   "source": [
    "def km_per_year(km, bike_year):\n",
    "    if (datetime.now().year- bike_year) == 0:\n",
    "        return km\n",
    "    return km / (datetime.now().year- bike_year)\n",
    "\n",
    "data['km/year'] = data.apply(lambda x: km_per_year(x['mileage'],x['bike_year']), axis=1)"
   ]
  },
  {
   "cell_type": "code",
   "execution_count": null,
   "id": "387b9dfd",
   "metadata": {},
   "outputs": [],
   "source": [
    "def age(bike_year):\n",
    "    return datetime.now().year - bike_year\n",
    "\n",
    "data['age'] = data.bike_year.apply(age)"
   ]
  },
  {
   "cell_type": "code",
   "execution_count": null,
   "id": "9d5e9455",
   "metadata": {},
   "outputs": [],
   "source": [
    "data = data[data.engine_size<2000]\n",
    "data = data[data.engine_size>=49]"
   ]
  },
  {
   "cell_type": "markdown",
   "id": "8d3d3739",
   "metadata": {},
   "source": [
    "# Explore data"
   ]
  },
  {
   "cell_type": "code",
   "execution_count": null,
   "id": "76b97ec0",
   "metadata": {
    "scrolled": true
   },
   "outputs": [],
   "source": [
    "data.model.nunique()"
   ]
  },
  {
   "cell_type": "code",
   "execution_count": null,
   "id": "de7dbeee",
   "metadata": {},
   "outputs": [],
   "source": [
    "data.model_submodel_db.nunique()"
   ]
  },
  {
   "cell_type": "markdown",
   "id": "03aeca3f",
   "metadata": {},
   "source": [
    "## Price\n",
    "### vs mileage (km) per category"
   ]
  },
  {
   "cell_type": "code",
   "execution_count": null,
   "id": "c64cec62",
   "metadata": {
    "scrolled": false
   },
   "outputs": [],
   "source": [
    "sns.scatterplot(x='mileage', y='price', hue='category_db', data=data);"
   ]
  },
  {
   "cell_type": "markdown",
   "id": "d2c57a02",
   "metadata": {},
   "source": [
    "### vs mileage (km) per engine size"
   ]
  },
  {
   "cell_type": "code",
   "execution_count": null,
   "id": "89fad902",
   "metadata": {
    "scrolled": false
   },
   "outputs": [],
   "source": [
    "sns.scatterplot(x='mileage', y='price', hue='engine_size_db', data=data);"
   ]
  },
  {
   "cell_type": "markdown",
   "id": "7a8fd4e9",
   "metadata": {},
   "source": [
    "### vs mileage (km) per power range"
   ]
  },
  {
   "cell_type": "code",
   "execution_count": null,
   "id": "1449d2c8",
   "metadata": {},
   "outputs": [],
   "source": [
    "sns.scatterplot(x='mileage', y='price', hue='power_db', data=data);"
   ]
  },
  {
   "cell_type": "markdown",
   "id": "55b8e588",
   "metadata": {},
   "source": [
    "### vs year of release per category"
   ]
  },
  {
   "cell_type": "code",
   "execution_count": null,
   "id": "cfe06851",
   "metadata": {},
   "outputs": [],
   "source": [
    "sns.scatterplot(x='age', y='price', hue='category_db',data=data);"
   ]
  },
  {
   "cell_type": "markdown",
   "id": "cc3996c8",
   "metadata": {},
   "source": [
    "### vs year of release per engine size"
   ]
  },
  {
   "cell_type": "code",
   "execution_count": null,
   "id": "aaa364b5",
   "metadata": {},
   "outputs": [],
   "source": [
    "sns.scatterplot(x='age', y='price', hue='engine_size_db', data=data);"
   ]
  },
  {
   "cell_type": "markdown",
   "id": "4388ea78",
   "metadata": {},
   "source": [
    "### vs km/year"
   ]
  },
  {
   "cell_type": "code",
   "execution_count": null,
   "id": "b6c95ddc",
   "metadata": {
    "scrolled": false
   },
   "outputs": [],
   "source": [
    "sns.scatterplot(x='km/year', y='price', hue='engine_size_db',data=data);"
   ]
  },
  {
   "cell_type": "markdown",
   "id": "d652b73c",
   "metadata": {},
   "source": [
    "### Average price per engine size"
   ]
  },
  {
   "cell_type": "code",
   "execution_count": null,
   "id": "4ee94f77",
   "metadata": {
    "scrolled": false
   },
   "outputs": [],
   "source": [
    "data.groupby('engine_size_db').agg(Mean=('price', 'mean'), Std=('price', 'std'), Count=('price', 'count'))"
   ]
  },
  {
   "cell_type": "code",
   "execution_count": null,
   "id": "d09dce10",
   "metadata": {},
   "outputs": [],
   "source": [
    "#engine_size_count_threshold = 3\n",
    "#groupby_engine_size = data.groupby('engine_size').agg(Mean=('price', 'mean'), Std=('price', 'std'), Count=('price', 'count'))\n",
    "#groupby_engine_size[groupby_engine_size.Count < 4]\n",
    "#groupby_engine_size"
   ]
  },
  {
   "cell_type": "markdown",
   "id": "9a414df9",
   "metadata": {},
   "source": [
    "### Average price per category"
   ]
  },
  {
   "cell_type": "code",
   "execution_count": null,
   "id": "8aab3601",
   "metadata": {},
   "outputs": [],
   "source": [
    "data.groupby('category_db').agg(Mean=('price', 'mean'), Std=('price', 'std'), Count=('price', 'count'))"
   ]
  },
  {
   "cell_type": "code",
   "execution_count": null,
   "id": "ddad3015",
   "metadata": {
    "scrolled": false
   },
   "outputs": [],
   "source": [
    "category_count_threshold = 200\n",
    "groupby_category = data.groupby('category_db').agg(Mean=('price', 'mean'), Std=('price', 'std'), Count=('price', 'count'))\n",
    "drop_category = groupby_category[groupby_category .Count < category_count_threshold].index.to_list()\n",
    "drop_category.append('unspecified category')"
   ]
  },
  {
   "cell_type": "code",
   "execution_count": null,
   "id": "a72bb6d7",
   "metadata": {},
   "outputs": [],
   "source": [
    "data = data[data.category_db.isin(drop_category) == False]"
   ]
  },
  {
   "cell_type": "markdown",
   "id": "4a56bdd6",
   "metadata": {},
   "source": [
    "### Average price per brand"
   ]
  },
  {
   "cell_type": "code",
   "execution_count": 7,
   "id": "0b97b186",
   "metadata": {
    "scrolled": false
   },
   "outputs": [
    {
     "data": {
      "text/html": [
       "<div>\n",
       "<style scoped>\n",
       "    .dataframe tbody tr th:only-of-type {\n",
       "        vertical-align: middle;\n",
       "    }\n",
       "\n",
       "    .dataframe tbody tr th {\n",
       "        vertical-align: top;\n",
       "    }\n",
       "\n",
       "    .dataframe thead th {\n",
       "        text-align: right;\n",
       "    }\n",
       "</style>\n",
       "<table border=\"1\" class=\"dataframe\">\n",
       "  <thead>\n",
       "    <tr style=\"text-align: right;\">\n",
       "      <th></th>\n",
       "      <th>Mean</th>\n",
       "      <th>Std</th>\n",
       "      <th>Count</th>\n",
       "    </tr>\n",
       "    <tr>\n",
       "      <th>brand_db</th>\n",
       "      <th></th>\n",
       "      <th></th>\n",
       "      <th></th>\n",
       "    </tr>\n",
       "  </thead>\n",
       "  <tbody>\n",
       "    <tr>\n",
       "      <th>aprilia</th>\n",
       "      <td>7873.865900</td>\n",
       "      <td>5556.722437</td>\n",
       "      <td>261</td>\n",
       "    </tr>\n",
       "    <tr>\n",
       "      <th>benelli</th>\n",
       "      <td>5003.357724</td>\n",
       "      <td>2109.479678</td>\n",
       "      <td>123</td>\n",
       "    </tr>\n",
       "    <tr>\n",
       "      <th>beta</th>\n",
       "      <td>5346.966667</td>\n",
       "      <td>2958.812232</td>\n",
       "      <td>30</td>\n",
       "    </tr>\n",
       "    <tr>\n",
       "      <th>bmw</th>\n",
       "      <td>10005.638191</td>\n",
       "      <td>5989.080766</td>\n",
       "      <td>4378</td>\n",
       "    </tr>\n",
       "    <tr>\n",
       "      <th>buell</th>\n",
       "      <td>6291.113636</td>\n",
       "      <td>1572.758521</td>\n",
       "      <td>88</td>\n",
       "    </tr>\n",
       "    <tr>\n",
       "      <th>cagiva</th>\n",
       "      <td>2302.833333</td>\n",
       "      <td>854.176033</td>\n",
       "      <td>30</td>\n",
       "    </tr>\n",
       "    <tr>\n",
       "      <th>cfmoto</th>\n",
       "      <td>6521.545455</td>\n",
       "      <td>4195.005325</td>\n",
       "      <td>11</td>\n",
       "    </tr>\n",
       "    <tr>\n",
       "      <th>daelim</th>\n",
       "      <td>3248.263158</td>\n",
       "      <td>3853.901187</td>\n",
       "      <td>38</td>\n",
       "    </tr>\n",
       "    <tr>\n",
       "      <th>derbi</th>\n",
       "      <td>1706.381743</td>\n",
       "      <td>1361.220021</td>\n",
       "      <td>241</td>\n",
       "    </tr>\n",
       "    <tr>\n",
       "      <th>ducati</th>\n",
       "      <td>10511.910989</td>\n",
       "      <td>6209.998611</td>\n",
       "      <td>1820</td>\n",
       "    </tr>\n",
       "    <tr>\n",
       "      <th>enfield</th>\n",
       "      <td>6203.837838</td>\n",
       "      <td>5245.289558</td>\n",
       "      <td>74</td>\n",
       "    </tr>\n",
       "    <tr>\n",
       "      <th>fantic</th>\n",
       "      <td>6091.444444</td>\n",
       "      <td>2858.861776</td>\n",
       "      <td>36</td>\n",
       "    </tr>\n",
       "    <tr>\n",
       "      <th>gasgas</th>\n",
       "      <td>5256.500000</td>\n",
       "      <td>5340.273188</td>\n",
       "      <td>12</td>\n",
       "    </tr>\n",
       "    <tr>\n",
       "      <th>gilera</th>\n",
       "      <td>3811.090909</td>\n",
       "      <td>2443.586550</td>\n",
       "      <td>22</td>\n",
       "    </tr>\n",
       "    <tr>\n",
       "      <th>harleydavidson</th>\n",
       "      <td>13520.729373</td>\n",
       "      <td>7049.132046</td>\n",
       "      <td>606</td>\n",
       "    </tr>\n",
       "    <tr>\n",
       "      <th>honda</th>\n",
       "      <td>6804.462470</td>\n",
       "      <td>5816.860766</td>\n",
       "      <td>4210</td>\n",
       "    </tr>\n",
       "    <tr>\n",
       "      <th>husqvarna</th>\n",
       "      <td>7080.523179</td>\n",
       "      <td>3458.706078</td>\n",
       "      <td>151</td>\n",
       "    </tr>\n",
       "    <tr>\n",
       "      <th>hyosung</th>\n",
       "      <td>3788.086957</td>\n",
       "      <td>2518.639963</td>\n",
       "      <td>23</td>\n",
       "    </tr>\n",
       "    <tr>\n",
       "      <th>indian</th>\n",
       "      <td>14367.540107</td>\n",
       "      <td>7629.291319</td>\n",
       "      <td>187</td>\n",
       "    </tr>\n",
       "    <tr>\n",
       "      <th>kawasaki</th>\n",
       "      <td>6782.350725</td>\n",
       "      <td>4163.743093</td>\n",
       "      <td>2760</td>\n",
       "    </tr>\n",
       "    <tr>\n",
       "      <th>ktm</th>\n",
       "      <td>8606.187870</td>\n",
       "      <td>4566.175035</td>\n",
       "      <td>676</td>\n",
       "    </tr>\n",
       "    <tr>\n",
       "      <th>kymco</th>\n",
       "      <td>5204.384868</td>\n",
       "      <td>5223.548966</td>\n",
       "      <td>304</td>\n",
       "    </tr>\n",
       "    <tr>\n",
       "      <th>mash</th>\n",
       "      <td>4103.055556</td>\n",
       "      <td>3455.442576</td>\n",
       "      <td>108</td>\n",
       "    </tr>\n",
       "    <tr>\n",
       "      <th>mbk</th>\n",
       "      <td>3586.020408</td>\n",
       "      <td>4125.706512</td>\n",
       "      <td>98</td>\n",
       "    </tr>\n",
       "    <tr>\n",
       "      <th>motoguzzi</th>\n",
       "      <td>7642.311475</td>\n",
       "      <td>3936.179563</td>\n",
       "      <td>122</td>\n",
       "    </tr>\n",
       "    <tr>\n",
       "      <th>mvagusta</th>\n",
       "      <td>9553.647059</td>\n",
       "      <td>8785.804375</td>\n",
       "      <td>51</td>\n",
       "    </tr>\n",
       "    <tr>\n",
       "      <th>niu</th>\n",
       "      <td>6013.750000</td>\n",
       "      <td>5153.502395</td>\n",
       "      <td>12</td>\n",
       "    </tr>\n",
       "    <tr>\n",
       "      <th>orcal</th>\n",
       "      <td>5431.526316</td>\n",
       "      <td>5073.397485</td>\n",
       "      <td>19</td>\n",
       "    </tr>\n",
       "    <tr>\n",
       "      <th>peugeot</th>\n",
       "      <td>4630.888393</td>\n",
       "      <td>4175.316833</td>\n",
       "      <td>224</td>\n",
       "    </tr>\n",
       "    <tr>\n",
       "      <th>piaggio</th>\n",
       "      <td>5607.345804</td>\n",
       "      <td>4085.092946</td>\n",
       "      <td>989</td>\n",
       "    </tr>\n",
       "    <tr>\n",
       "      <th>polaris</th>\n",
       "      <td>11587.300000</td>\n",
       "      <td>7354.086182</td>\n",
       "      <td>10</td>\n",
       "    </tr>\n",
       "    <tr>\n",
       "      <th>pope</th>\n",
       "      <td>5573.900000</td>\n",
       "      <td>5944.412773</td>\n",
       "      <td>10</td>\n",
       "    </tr>\n",
       "    <tr>\n",
       "      <th>quadro</th>\n",
       "      <td>6606.647059</td>\n",
       "      <td>4193.343216</td>\n",
       "      <td>34</td>\n",
       "    </tr>\n",
       "    <tr>\n",
       "      <th>rieju</th>\n",
       "      <td>5408.666667</td>\n",
       "      <td>6211.350274</td>\n",
       "      <td>27</td>\n",
       "    </tr>\n",
       "    <tr>\n",
       "      <th>sherco</th>\n",
       "      <td>6309.580000</td>\n",
       "      <td>3246.055459</td>\n",
       "      <td>50</td>\n",
       "    </tr>\n",
       "    <tr>\n",
       "      <th>suzuki</th>\n",
       "      <td>5812.944389</td>\n",
       "      <td>4112.772133</td>\n",
       "      <td>1996</td>\n",
       "    </tr>\n",
       "    <tr>\n",
       "      <th>swm</th>\n",
       "      <td>7913.900000</td>\n",
       "      <td>6972.768212</td>\n",
       "      <td>10</td>\n",
       "    </tr>\n",
       "    <tr>\n",
       "      <th>sym</th>\n",
       "      <td>4904.622047</td>\n",
       "      <td>4624.636107</td>\n",
       "      <td>127</td>\n",
       "    </tr>\n",
       "    <tr>\n",
       "      <th>tgb</th>\n",
       "      <td>3716.769231</td>\n",
       "      <td>2787.249934</td>\n",
       "      <td>13</td>\n",
       "    </tr>\n",
       "    <tr>\n",
       "      <th>tmracing</th>\n",
       "      <td>8640.794355</td>\n",
       "      <td>4322.744548</td>\n",
       "      <td>248</td>\n",
       "    </tr>\n",
       "    <tr>\n",
       "      <th>triumph</th>\n",
       "      <td>8733.868267</td>\n",
       "      <td>4128.874882</td>\n",
       "      <td>1875</td>\n",
       "    </tr>\n",
       "    <tr>\n",
       "      <th>vespa</th>\n",
       "      <td>5407.854545</td>\n",
       "      <td>4252.960652</td>\n",
       "      <td>165</td>\n",
       "    </tr>\n",
       "    <tr>\n",
       "      <th>victory</th>\n",
       "      <td>10110.692308</td>\n",
       "      <td>1665.015385</td>\n",
       "      <td>13</td>\n",
       "    </tr>\n",
       "    <tr>\n",
       "      <th>yamaha</th>\n",
       "      <td>6998.914918</td>\n",
       "      <td>5110.602972</td>\n",
       "      <td>3479</td>\n",
       "    </tr>\n",
       "    <tr>\n",
       "      <th>zero</th>\n",
       "      <td>10266.666667</td>\n",
       "      <td>5934.617170</td>\n",
       "      <td>15</td>\n",
       "    </tr>\n",
       "  </tbody>\n",
       "</table>\n",
       "</div>"
      ],
      "text/plain": [
       "                        Mean          Std  Count\n",
       "brand_db                                        \n",
       "aprilia          7873.865900  5556.722437    261\n",
       "benelli          5003.357724  2109.479678    123\n",
       "beta             5346.966667  2958.812232     30\n",
       "bmw             10005.638191  5989.080766   4378\n",
       "buell            6291.113636  1572.758521     88\n",
       "cagiva           2302.833333   854.176033     30\n",
       "cfmoto           6521.545455  4195.005325     11\n",
       "daelim           3248.263158  3853.901187     38\n",
       "derbi            1706.381743  1361.220021    241\n",
       "ducati          10511.910989  6209.998611   1820\n",
       "enfield          6203.837838  5245.289558     74\n",
       "fantic           6091.444444  2858.861776     36\n",
       "gasgas           5256.500000  5340.273188     12\n",
       "gilera           3811.090909  2443.586550     22\n",
       "harleydavidson  13520.729373  7049.132046    606\n",
       "honda            6804.462470  5816.860766   4210\n",
       "husqvarna        7080.523179  3458.706078    151\n",
       "hyosung          3788.086957  2518.639963     23\n",
       "indian          14367.540107  7629.291319    187\n",
       "kawasaki         6782.350725  4163.743093   2760\n",
       "ktm              8606.187870  4566.175035    676\n",
       "kymco            5204.384868  5223.548966    304\n",
       "mash             4103.055556  3455.442576    108\n",
       "mbk              3586.020408  4125.706512     98\n",
       "motoguzzi        7642.311475  3936.179563    122\n",
       "mvagusta         9553.647059  8785.804375     51\n",
       "niu              6013.750000  5153.502395     12\n",
       "orcal            5431.526316  5073.397485     19\n",
       "peugeot          4630.888393  4175.316833    224\n",
       "piaggio          5607.345804  4085.092946    989\n",
       "polaris         11587.300000  7354.086182     10\n",
       "pope             5573.900000  5944.412773     10\n",
       "quadro           6606.647059  4193.343216     34\n",
       "rieju            5408.666667  6211.350274     27\n",
       "sherco           6309.580000  3246.055459     50\n",
       "suzuki           5812.944389  4112.772133   1996\n",
       "swm              7913.900000  6972.768212     10\n",
       "sym              4904.622047  4624.636107    127\n",
       "tgb              3716.769231  2787.249934     13\n",
       "tmracing         8640.794355  4322.744548    248\n",
       "triumph          8733.868267  4128.874882   1875\n",
       "vespa            5407.854545  4252.960652    165\n",
       "victory         10110.692308  1665.015385     13\n",
       "yamaha           6998.914918  5110.602972   3479\n",
       "zero            10266.666667  5934.617170     15"
      ]
     },
     "execution_count": 7,
     "metadata": {},
     "output_type": "execute_result"
    }
   ],
   "source": [
    "data.groupby('brand_db').agg(Mean=('price', 'mean'), Std=('price', 'std'), Count=('price', 'count'))"
   ]
  },
  {
   "cell_type": "code",
   "execution_count": 6,
   "id": "674c765a",
   "metadata": {},
   "outputs": [],
   "source": [
    "brand_count_threshold = 10\n",
    "groupby_brand = data.groupby('brand_db').agg(Mean=('price', 'mean'), Std=('price', 'std'), Count=('price', 'count'))\n",
    "drop_brand = groupby_brand[groupby_brand.Count < brand_count_threshold].index.to_list()\n",
    "data = data[data.brand_db.isin(drop_brand) == False]"
   ]
  },
  {
   "cell_type": "markdown",
   "id": "1d9ab8ad",
   "metadata": {},
   "source": [
    "### Average price per model"
   ]
  },
  {
   "cell_type": "code",
   "execution_count": null,
   "id": "fd4b54cc",
   "metadata": {},
   "outputs": [],
   "source": [
    "data.groupby(['brand_db','model_db']).agg(Mean=('price', 'mean'), Std=('price', 'std'), Count=('price', 'count'))"
   ]
  },
  {
   "cell_type": "code",
   "execution_count": null,
   "id": "ddf0a73b",
   "metadata": {},
   "outputs": [],
   "source": [
    "#model_count_threshold = 1\n",
    "#groupby_model = data.groupby(['model_db']).agg(Mean=('price', 'mean'), Std=('price', 'std'), Count=('price', 'count'))\n",
    "#drop_model = groupby_model[groupby_model.Count < model_count_threshold].index.to_list()\n",
    "#data = data[data.model_db.isin(drop_model) == False]"
   ]
  },
  {
   "cell_type": "markdown",
   "id": "ffb54597",
   "metadata": {},
   "source": [
    "## Correlation matrix"
   ]
  },
  {
   "cell_type": "code",
   "execution_count": null,
   "id": "d93b851e",
   "metadata": {},
   "outputs": [],
   "source": [
    "sns.heatmap(data.corr(), annot = True, mask=np.triu(np.ones_like(data.corr(), dtype=bool)));"
   ]
  },
  {
   "cell_type": "markdown",
   "id": "aef65e11",
   "metadata": {},
   "source": [
    "# BASELINE"
   ]
  },
  {
   "cell_type": "code",
   "execution_count": null,
   "id": "0c983f1e",
   "metadata": {},
   "outputs": [],
   "source": [
    "# mean\n",
    "average_price = data.price.mean()\n",
    "\n",
    "#rmse\n",
    "rmse_baseline = np.sqrt(sum((data['price']-average_price)**2)/((data['price'].count())))\n",
    "\n",
    "print(\"Average price :\", average_price)\n",
    "print(\"RMSE Baseline\", rmse_baseline )"
   ]
  },
  {
   "cell_type": "code",
   "execution_count": null,
   "id": "5c9a6bfc",
   "metadata": {},
   "outputs": [],
   "source": [
    "sns.displot(data.price)"
   ]
  },
  {
   "cell_type": "markdown",
   "id": "d7da1f25",
   "metadata": {},
   "source": [
    "# LINEAR REGRESSION"
   ]
  },
  {
   "cell_type": "code",
   "execution_count": null,
   "id": "124b0919",
   "metadata": {},
   "outputs": [],
   "source": [
    "from sklearn.linear_model import LinearRegression\n",
    "from sklearn.model_selection import train_test_split\n",
    "from sklearn.model_selection import cross_validate\n",
    "from sklearn.neighbors import KNeighborsRegressor\n",
    "from sklearn.preprocessing import OneHotEncoder"
   ]
  },
  {
   "cell_type": "markdown",
   "id": "8be55ee6",
   "metadata": {
    "heading_collapsed": true
   },
   "source": [
    "## Numerical features (not scaled)"
   ]
  },
  {
   "cell_type": "code",
   "execution_count": null,
   "id": "c85a62e2",
   "metadata": {
    "hidden": true
   },
   "outputs": [],
   "source": [
    "data_1 = data.copy()\n",
    "data_1.shape"
   ]
  },
  {
   "cell_type": "code",
   "execution_count": null,
   "id": "21a63cea",
   "metadata": {
    "hidden": true
   },
   "outputs": [],
   "source": [
    "features_1 = ['bike_year', 'mileage', 'km/year', 'engine_size']"
   ]
  },
  {
   "cell_type": "code",
   "execution_count": null,
   "id": "00ebe60c",
   "metadata": {
    "hidden": true
   },
   "outputs": [],
   "source": [
    "for feature in features_1:\n",
    "    data_1.dropna(subset=[feature],inplace=True)\n",
    "data_1.shape  "
   ]
  },
  {
   "cell_type": "code",
   "execution_count": null,
   "id": "877e0638",
   "metadata": {
    "hidden": true
   },
   "outputs": [],
   "source": [
    "X = data_1[features_1]\n",
    "y = data_1['price']\n",
    "\n",
    "model_1 = LinearRegression()\n",
    "\n",
    "cv_results = cross_validate(model_1, X, y, cv=5)\n",
    "cv_results['test_score'].mean()"
   ]
  },
  {
   "cell_type": "markdown",
   "id": "31583208",
   "metadata": {
    "heading_collapsed": true
   },
   "source": [
    "## Numerical features (not scaled) + brand encoded"
   ]
  },
  {
   "cell_type": "code",
   "execution_count": null,
   "id": "82006fc1",
   "metadata": {
    "hidden": true
   },
   "outputs": [],
   "source": [
    "data_2 = data.copy()[['brand', 'bike_year', 'mileage', 'engine_size', 'km/year', 'price']]\n",
    "data_2.reset_index(inplace=True, drop=True)\n",
    "\n",
    "ohe = OneHotEncoder(sparse=False)\n",
    "\n",
    "ohe.fit(data_2[['brand']])\n",
    "\n",
    "feature_encoded = ohe.transform(data_2[['brand']])\n",
    "\n",
    "encoded = pd.DataFrame(feature_encoded, columns=ohe.categories_)\n",
    "\n",
    "encoded = encoded.T.reset_index().set_index('level_0').T\n",
    "\n",
    "data_2 = data_2.join(encoded,how=\"inner\")\n",
    "\n",
    "X = data_2.drop(columns=['brand', 'price'])\n",
    "y = data_2['price']\n",
    "\n",
    "model_2 = LinearRegression()\n",
    "\n",
    "cv_results = cross_validate(model_2, X, y, cv=5)\n",
    "cv_results['test_score'].mean()"
   ]
  },
  {
   "cell_type": "markdown",
   "id": "2dfbbeaa",
   "metadata": {},
   "source": [
    "# KNR"
   ]
  },
  {
   "cell_type": "markdown",
   "id": "ae128071",
   "metadata": {
    "heading_collapsed": true
   },
   "source": [
    "## KNeighborsRegressor - Numerical features (not scaled) + brand encoded"
   ]
  },
  {
   "cell_type": "code",
   "execution_count": null,
   "id": "ee79226a",
   "metadata": {
    "hidden": true
   },
   "outputs": [],
   "source": [
    "data_2 = data.copy()[['brand', 'bike_year', 'mileage', 'engine_size', 'km/year', 'price']]\n",
    "data_2.reset_index(inplace=True, drop=True)\n",
    "\n",
    "ohe = OneHotEncoder(sparse=False)\n",
    "\n",
    "ohe.fit(data_2[['brand']])\n",
    "\n",
    "feature_encoded = ohe.transform(data_2[['brand']])\n",
    "\n",
    "encoded = pd.DataFrame(feature_encoded, columns=ohe.categories_)\n",
    "\n",
    "encoded = encoded.T.reset_index().set_index('level_0').T\n",
    "\n",
    "data_2 = data_2.join(encoded,how=\"inner\")\n",
    "\n",
    "X = data_2.drop(columns=['brand', 'price'])\n",
    "y = data_2['price']"
   ]
  },
  {
   "cell_type": "code",
   "execution_count": null,
   "id": "893a0647",
   "metadata": {
    "hidden": true
   },
   "outputs": [],
   "source": [
    "model_3 = KNeighborsRegressor(n_neighbors=5)\n",
    "\n",
    "cv_results = cross_validate(model_3, X, y, cv=5)\n",
    "cv_results['test_score'].mean()"
   ]
  },
  {
   "cell_type": "markdown",
   "id": "f33c97c9",
   "metadata": {},
   "source": [
    "## KNeighborsRegressor - Numerical features (scaled) + brand encoded"
   ]
  },
  {
   "cell_type": "markdown",
   "id": "cf5acfe2",
   "metadata": {},
   "source": [
    "### Brand"
   ]
  },
  {
   "cell_type": "markdown",
   "id": "9d9f6299",
   "metadata": {
    "heading_collapsed": true
   },
   "source": [
    "### Category"
   ]
  },
  {
   "cell_type": "code",
   "execution_count": null,
   "id": "0b5040d9",
   "metadata": {
    "hidden": true
   },
   "outputs": [],
   "source": [
    "from sklearn.neighbors import KNeighborsRegressor\n",
    "from sklearn.preprocessing import MinMaxScaler, OneHotEncoder, StandardScaler\n",
    "from sklearn.model_selection import cross_validate\n",
    "\n",
    "data_4 = data.copy()[['category_db','brand_db', 'age','mileage','engine_size','price','km/year']]\n",
    "data_4.dropna(inplace=True)\n",
    "data_4.reset_index(inplace=True, drop=True)\n",
    "\n",
    "\n",
    "for feature in ['age','mileage','engine_size','km/year']:\n",
    "    scaler = StandardScaler()\n",
    "    data_4[feature]=scaler.fit_transform(data_4[[feature]])\n",
    "\n",
    "ohe = OneHotEncoder(sparse=False)\n",
    "ohe.fit(data_4[['brand_db']])\n",
    "feature_encoded = ohe.transform(data_4[['brand_db']])\n",
    "encoded = pd.DataFrame(feature_encoded, columns=ohe.categories_)\n",
    "encoded = encoded.T.reset_index().set_index('level_0').T\n",
    "data_4 = data_4.join(encoded,how=\"inner\")\n",
    "\n",
    "features_4 = data_4.drop(columns=['brand_db', 'category_db','price'])\n",
    "\n",
    "X_4 = features_4\n",
    "y_4 = data_4['price']\n",
    "\n",
    "model_4 = KNeighborsRegressor() #n_neighbors=12, metric='euclidean', leaf_size=2\n",
    "\n",
    "cv_results = cross_validate(model_4, X_4, y_4, cv=5, scoring=['r2', 'neg_root_mean_squared_error'])\n",
    "print(\"r2\", cv_results['test_r2'].mean())\n",
    "print(\"RMSE\",cv_results['test_neg_root_mean_squared_error'].mean())"
   ]
  },
  {
   "cell_type": "code",
   "execution_count": null,
   "id": "a01646d7",
   "metadata": {
    "hidden": true
   },
   "outputs": [],
   "source": [
    "from sklearn.neighbors import KNeighborsRegressor\n",
    "from sklearn.preprocessing import MinMaxScaler, OneHotEncoder, StandardScaler\n",
    "from sklearn.model_selection import cross_validate\n",
    "\n",
    "data_4 = data.copy()[['brand_db', 'category_db', 'age','mileage','engine_size','price','km/year']]\n",
    "data_4.dropna(inplace=True)\n",
    "data_4.reset_index(inplace=True, drop=True)\n",
    "\n",
    "\n",
    "for feature in ['age','mileage','engine_size','km/year']:\n",
    "    scaler = StandardScaler()\n",
    "    data_4[feature]=scaler.fit_transform(data_4[[feature]])\n",
    "\n",
    "ohe = OneHotEncoder(sparse=False)\n",
    "ohe.fit(data_4[['category_db']])\n",
    "feature_encoded = ohe.transform(data_4[['category_db']])\n",
    "encoded = pd.DataFrame(feature_encoded, columns=ohe.categories_)\n",
    "encoded = encoded.T.reset_index().set_index('level_0').T\n",
    "data_4 = data_4.join(encoded,how=\"inner\")\n",
    "\n",
    "features_4 = data_4.drop(columns=['brand_db', 'category_db','price'])\n",
    "\n",
    "X_4 = features_4\n",
    "y_4 = data_4['price']\n",
    "\n",
    "model_4 = KNeighborsRegressor() #n_neighbors=12, metric='euclidean', leaf_size=2\n",
    "\n",
    "cv_results = cross_validate(model_4, X_4, y_4, cv=5, scoring=['r2', 'neg_root_mean_squared_error'])\n",
    "print(\"r2\", cv_results['test_r2'].mean())\n",
    "print(\"RMSE\",cv_results['test_neg_root_mean_squared_error'].mean())"
   ]
  },
  {
   "cell_type": "markdown",
   "id": "3f57ccc2",
   "metadata": {
    "heading_collapsed": true
   },
   "source": [
    "### Brand and category"
   ]
  },
  {
   "cell_type": "code",
   "execution_count": null,
   "id": "2d4545f0",
   "metadata": {
    "hidden": true
   },
   "outputs": [],
   "source": [
    "from sklearn.neighbors import KNeighborsRegressor\n",
    "from sklearn.preprocessing import MinMaxScaler, OneHotEncoder, StandardScaler\n",
    "from sklearn.model_selection import cross_validate\n",
    "\n",
    "data_4 = data.copy()[['brand_db', 'category_db', 'age','mileage','engine_size','price','km/year']]\n",
    "data_4.dropna(inplace=True)\n",
    "data_4.reset_index(inplace=True, drop=True)\n",
    "\n",
    "\n",
    "for feature in ['age','mileage','engine_size','km/year']:\n",
    "    scaler = StandardScaler()\n",
    "    data_4[feature]=scaler.fit_transform(data_4[[feature]])\n",
    "\n",
    "ohe = OneHotEncoder(sparse=False)\n",
    "ohe.fit(data_4[['category_db']])\n",
    "feature_encoded = ohe.transform(data_4[['category_db']])\n",
    "encoded = pd.DataFrame(feature_encoded, columns=ohe.categories_)\n",
    "encoded = encoded.T.reset_index().set_index('level_0').T\n",
    "data_4 = data_4.join(encoded,how=\"inner\")\n",
    "\n",
    "ohe = OneHotEncoder(sparse=False)\n",
    "ohe.fit(data_4[['brand_db']])\n",
    "feature_encoded = ohe.transform(data_4[['brand_db']])\n",
    "encoded = pd.DataFrame(feature_encoded, columns=ohe.categories_)\n",
    "encoded = encoded.T.reset_index().set_index('level_0').T\n",
    "data_4 = data_4.join(encoded,how=\"inner\")\n",
    "\n",
    "features_4 = data_4.drop(columns=['brand_db', 'category_db','price'])\n",
    "\n",
    "X_4 = features_4\n",
    "y_4 = data_4['price']\n",
    "\n",
    "model_4 = KNeighborsRegressor() #n_neighbors=12, metric='euclidean', leaf_size=2\n",
    "\n",
    "cv_results = cross_validate(model_4, X_4, y_4, cv=5, scoring=['r2', 'neg_root_mean_squared_error'])\n",
    "print(\"r2\", cv_results['test_r2'].mean())\n",
    "print(\"RMSE\",cv_results['test_neg_root_mean_squared_error'].mean())"
   ]
  },
  {
   "cell_type": "markdown",
   "id": "7f422eb4",
   "metadata": {},
   "source": [
    "# PIPELINE"
   ]
  },
  {
   "cell_type": "code",
   "execution_count": null,
   "id": "efcd6da0",
   "metadata": {},
   "outputs": [],
   "source": [
    "from sklearn.preprocessing import MinMaxScaler, RobustScaler, StandardScaler, OneHotEncoder\n",
    "from sklearn.pipeline import Pipeline\n",
    "from sklearn.compose import ColumnTransformer\n",
    "from sklearn.model_selection import GridSearchCV, train_test_split\n",
    "from sklearn.neighbors import KNeighborsRegressor\n",
    "import numpy as np\n",
    "from sklearn import set_config\n",
    "\n",
    "set_config(display='diagram')"
   ]
  },
  {
   "cell_type": "markdown",
   "id": "200b10f1",
   "metadata": {},
   "source": [
    "## Pipeline Baseline"
   ]
  },
  {
   "cell_type": "markdown",
   "id": "4827be42",
   "metadata": {},
   "source": [
    "### Category"
   ]
  },
  {
   "cell_type": "code",
   "execution_count": null,
   "id": "ad16b6d8",
   "metadata": {},
   "outputs": [],
   "source": [
    "data_1=data.copy()[['age','mileage','engine_size','km/year', 'category_db','price']]\n",
    "data_1.dropna(inplace=True)\n",
    "data_1.reset_index(inplace=True, drop=True)\n",
    "\n",
    "\n",
    "X_1 = data_1[['age','mileage','engine_size','km/year', 'category_db']] #, 'brand_db'\n",
    "y_1 = data_1['price']\n",
    "\n",
    "# Train test split\n",
    "X_train, X_test, y_train, y_test = train_test_split(X_1,y_1, test_size=0.3, random_state=0)\n",
    "num_transformer = Pipeline([('scaler', StandardScaler())])\n",
    "cat_transformer = Pipeline([('OHE', OneHotEncoder(sparse=False))])\n",
    "# Preprocessor\n",
    "preprocessor = ColumnTransformer([\n",
    "    ('num_transformer', num_transformer, ['age','mileage','engine_size','km/year']) ,\n",
    "    ('cat_transformer',cat_transformer , ['category_db']),\n",
    "])\n",
    "\n",
    "# Combine preprocessor and LogisticRegression model in pipeline\n",
    "final_pipe = Pipeline([\n",
    "    ('preprocessing', preprocessor),\n",
    "    ('KNeighborsRegressor', KNeighborsRegressor())])\n",
    "\n",
    "# Train pipeline\n",
    "final_pipe_trained = final_pipe.fit(X_train,y_train)\n",
    "\n",
    "# Score model\n",
    "final_pipe_trained.score(X_test,y_test)"
   ]
  },
  {
   "cell_type": "markdown",
   "id": "b3585620",
   "metadata": {},
   "source": [
    "### Brand"
   ]
  },
  {
   "cell_type": "code",
   "execution_count": null,
   "id": "b066e7e0",
   "metadata": {},
   "outputs": [],
   "source": [
    "data_1=data.copy()[['age','mileage','engine_size','km/year','brand_db','price']]\n",
    "data_1.dropna(inplace=True)\n",
    "data_1.reset_index(inplace=True, drop=True)\n",
    "\n",
    "\n",
    "X_1 = data_1[['age','mileage','engine_size','km/year','brand_db']] #, 'brand_db'\n",
    "y_1 = data_1['price']\n",
    "\n",
    "# Train test split\n",
    "X_train, X_test, y_train, y_test = train_test_split(X_1,y_1, test_size=0.2, random_state=0)\n",
    "num_transformer = Pipeline([('scaler', StandardScaler())])\n",
    "cat_transformer = Pipeline([('OHE', OneHotEncoder(sparse=False))])\n",
    "# Preprocessor\n",
    "preprocessor = ColumnTransformer([\n",
    "    ('num_transformer', num_transformer, ['age','mileage','engine_size','km/year']) ,\n",
    "    ('cat_transformer',cat_transformer , ['brand_db']),\n",
    "])\n",
    "\n",
    "# Combine preprocessor and LogisticRegression model in pipeline\n",
    "final_pipe = Pipeline([\n",
    "    ('preprocessing', preprocessor),\n",
    "    ('KNeighborsRegressor', KNeighborsRegressor())])\n",
    "\n",
    "# Train pipeline\n",
    "final_pipe_trained = final_pipe.fit(X_train,y_train)\n",
    "\n",
    "# Score model\n",
    "final_pipe_trained.score(X_test,y_test)"
   ]
  },
  {
   "cell_type": "markdown",
   "id": "4e83ea4f",
   "metadata": {},
   "source": [
    "### Brand & Category"
   ]
  },
  {
   "cell_type": "code",
   "execution_count": null,
   "id": "466d8b32",
   "metadata": {},
   "outputs": [],
   "source": [
    "data_1=data.copy()[['age','mileage','engine_size','km/year','brand_db','category_db','price']]\n",
    "data_1.dropna(inplace=True)\n",
    "data_1.reset_index(inplace=True, drop=True)\n",
    "\n",
    "\n",
    "X_1 = data_1[['age','mileage','engine_size','km/year','brand_db','category_db',]] #, 'brand_db'\n",
    "y_1 = data_1['price']\n",
    "\n",
    "# Train test split\n",
    "X_train, X_test, y_train, y_test = train_test_split(X_1,y_1, test_size=0.2, random_state=0)\n",
    "num_transformer = Pipeline([('scaler', StandardScaler())])\n",
    "cat_transformer = Pipeline([('OHE', OneHotEncoder(sparse=False))])\n",
    "# Preprocessor\n",
    "preprocessor = ColumnTransformer([\n",
    "    ('num_transformer', num_transformer, ['age','mileage','engine_size','km/year']) ,\n",
    "    ('cat_transformer',cat_transformer , ['brand_db', 'category_db']),\n",
    "])\n",
    "\n",
    "# Combine preprocessor and LogisticRegression model in pipeline\n",
    "final_pipe = Pipeline([\n",
    "    ('preprocessing', preprocessor),\n",
    "    ('KNeighborsRegressor', KNeighborsRegressor())])\n",
    "\n",
    "# Train pipeline\n",
    "final_pipe_trained = final_pipe.fit(X_train,y_train)\n",
    "\n",
    "# Score model\n",
    "final_pipe_trained.score(X_test,y_test)"
   ]
  },
  {
   "cell_type": "markdown",
   "id": "aafd356b",
   "metadata": {},
   "source": [
    "## Pipeline gridsearch"
   ]
  },
  {
   "cell_type": "code",
   "execution_count": null,
   "id": "f90c209c",
   "metadata": {},
   "outputs": [],
   "source": [
    "# Instanciate grid search\n",
    "grid_search = GridSearchCV(\n",
    "    final_pipe, \n",
    "    param_grid={\n",
    "        'preprocessing__num_transformer__scaler': [StandardScaler()], #MinMaxScaler(), RobustScaler(), \n",
    "        'KNeighborsRegressor__n_neighbors': list(range(9,13)),\n",
    "        #'KNeighborsRegressor__leaf_size': [1,2,3],\n",
    "        'KNeighborsRegressor__metric': ['euclidean',\n",
    "                                        'manhattan'],\n",
    "        'KNeighborsRegressor__weights': ['uniform', 'distance']},\n",
    "    cv=3,\n",
    "    scoring=['r2', 'neg_root_mean_squared_error'],\n",
    "    refit='r2')\n",
    "\n",
    "grid_search.fit(X_1, y_1)\n",
    "print(\"best_params\",grid_search.best_params_)\n",
    "print(\"best_score\",grid_search.best_score_)"
   ]
  },
  {
   "cell_type": "code",
   "execution_count": null,
   "id": "b20123e8",
   "metadata": {},
   "outputs": [],
   "source": [
    "print(grid_search.score(X_1,y_1))\n",
    "print(final_pipe_trained.score(X_1,y_1))"
   ]
  },
  {
   "cell_type": "code",
   "execution_count": null,
   "id": "5f60c87f",
   "metadata": {},
   "outputs": [],
   "source": [
    "grid_search.cv_results_"
   ]
  },
  {
   "cell_type": "markdown",
   "id": "8ffe0cf9",
   "metadata": {},
   "source": [
    "## Optimized Pipeline"
   ]
  },
  {
   "cell_type": "code",
   "execution_count": null,
   "id": "d873f0ff",
   "metadata": {},
   "outputs": [],
   "source": [
    "num_transformer = Pipeline([('scaler', grid_search.best_params_['preprocessing__num_transformer__scaler'])])\n",
    "cat_transformer = Pipeline([('OHE', OneHotEncoder(sparse=False))])\n",
    "# Preprocessor\n",
    "preprocessor = ColumnTransformer([\n",
    "    ('num_transformer', num_transformer, ['age','mileage','engine_size','km/year']) ,\n",
    "    ('cat_transformer',cat_transformer , ['brand_db']),\n",
    "])\n",
    "\n",
    "# Combine preprocessor and Regression model in pipeline\n",
    "final_pipe = Pipeline([\n",
    "    ('preprocessing', preprocessor),\n",
    "    ('KNeighborsRegressor', KNeighborsRegressor(\n",
    "        #leaf_size=grid_search.best_params_['KNeighborsRegressor__leaf_size'],\n",
    "        metric=grid_search.best_params_['KNeighborsRegressor__metric'], \n",
    "        n_neighbors=grid_search.best_params_['KNeighborsRegressor__n_neighbors'], \n",
    "        weights=grid_search.best_params_['KNeighborsRegressor__weights']))])\n",
    "\n",
    "# Train pipeline\n",
    "final_pipe_trained = final_pipe.fit(X_train,y_train)\n",
    "\n",
    "# Score model\n",
    "final_pipe_trained.score(X_test,y_test)"
   ]
  },
  {
   "cell_type": "code",
   "execution_count": null,
   "id": "96f989cf",
   "metadata": {},
   "outputs": [],
   "source": [
    "from sklearn.model_selection import cross_validate\n",
    "cv_results = cross_validate(final_pipe, X_1, y_1, cv=3, scoring=['r2', 'neg_root_mean_squared_error'])\n",
    "print(\"r2\", cv_results['test_r2'].mean())\n",
    "print(\"RMSE\",cv_results['test_neg_root_mean_squared_error'].mean())"
   ]
  },
  {
   "cell_type": "markdown",
   "id": "de0664c9",
   "metadata": {},
   "source": [
    "## Prediction"
   ]
  },
  {
   "cell_type": "code",
   "execution_count": null,
   "id": "166412e6",
   "metadata": {},
   "outputs": [],
   "source": [
    "X_pred = pd.DataFrame([[10,5000,800,1000,'bmw']],columns=['age', 'mileage', 'engine_size', 'km/year', 'brand_db'])"
   ]
  },
  {
   "cell_type": "code",
   "execution_count": null,
   "id": "e13d2caf",
   "metadata": {},
   "outputs": [],
   "source": [
    "final_pipe.predict(X_pred )"
   ]
  },
  {
   "cell_type": "code",
   "execution_count": null,
   "id": "0ef1b3dd",
   "metadata": {},
   "outputs": [],
   "source": [
    "X_pred = pd.DataFrame([[4,2347,1200,586,'triumph']],columns=['age', 'mileage', 'engine_size', 'km/year', 'brand_db'])\n",
    "final_pipe.predict(X_pred )"
   ]
  },
  {
   "cell_type": "code",
   "execution_count": null,
   "id": "610494a3",
   "metadata": {},
   "outputs": [],
   "source": [
    "X_pred = pd.DataFrame([[6,26500,990,4416,'ktm']],columns=['age', 'mileage', 'engine_size', 'km/year', 'brand_db'])\n",
    "final_pipe.predict(X_pred )"
   ]
  }
 ],
 "metadata": {
  "kernelspec": {
   "display_name": "Python 3",
   "language": "python",
   "name": "python3"
  },
  "language_info": {
   "codemirror_mode": {
    "name": "ipython",
    "version": 3
   },
   "file_extension": ".py",
   "mimetype": "text/x-python",
   "name": "python",
   "nbconvert_exporter": "python",
   "pygments_lexer": "ipython3",
   "version": "3.8.6"
  },
  "toc": {
   "base_numbering": 1,
   "nav_menu": {},
   "number_sections": true,
   "sideBar": true,
   "skip_h1_title": false,
   "title_cell": "Table of Contents",
   "title_sidebar": "Contents",
   "toc_cell": false,
   "toc_position": {},
   "toc_section_display": true,
   "toc_window_display": false
  },
  "varInspector": {
   "cols": {
    "lenName": 16,
    "lenType": 16,
    "lenVar": 40
   },
   "kernels_config": {
    "python": {
     "delete_cmd_postfix": "",
     "delete_cmd_prefix": "del ",
     "library": "var_list.py",
     "varRefreshCmd": "print(var_dic_list())"
    },
    "r": {
     "delete_cmd_postfix": ") ",
     "delete_cmd_prefix": "rm(",
     "library": "var_list.r",
     "varRefreshCmd": "cat(var_dic_list()) "
    }
   },
   "types_to_exclude": [
    "module",
    "function",
    "builtin_function_or_method",
    "instance",
    "_Feature"
   ],
   "window_display": false
  }
 },
 "nbformat": 4,
 "nbformat_minor": 5
}
