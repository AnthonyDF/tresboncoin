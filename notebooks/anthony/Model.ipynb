{
 "cells": [
  {
   "cell_type": "code",
   "execution_count": 1,
   "id": "cbb2f696",
   "metadata": {},
   "outputs": [],
   "source": [
    "import pandas as pd\n",
    "import seaborn as sns\n",
    "from datetime import datetime\n",
    "import numpy as np\n",
    "from sklearn.metrics import r2_score"
   ]
  },
  {
   "cell_type": "code",
   "execution_count": 2,
   "id": "0537947e",
   "metadata": {},
   "outputs": [],
   "source": [
    "sns.set(rc={\"figure.figsize\":(12, 8)})\n",
    "pd.set_option(\"display.max_columns\", None)"
   ]
  },
  {
   "cell_type": "markdown",
   "id": "ea1f2565",
   "metadata": {},
   "source": [
    "# Import data"
   ]
  },
  {
   "cell_type": "code",
   "execution_count": 3,
   "id": "7d0c2623",
   "metadata": {},
   "outputs": [
    {
     "data": {
      "text/plain": [
       "(15301, 23)"
      ]
     },
     "execution_count": 3,
     "metadata": {},
     "output_type": "execute_result"
    }
   ],
   "source": [
    "data = pd.read_csv('../../tresboncoin/data/master/master_with_fuzzy_and_cleaning.csv')\n",
    "data.drop_duplicates(subset=['model_db', 'brand_db', 'price', 'engine_size', 'mileage', 'bike_year'], inplace=True)\n",
    "#data.drop(columns=['Unnamed: 0'], inplace=True)\n",
    "data.shape"
   ]
  },
  {
   "cell_type": "markdown",
   "id": "5fda6996",
   "metadata": {},
   "source": [
    "# Feature engineering"
   ]
  },
  {
   "cell_type": "markdown",
   "id": "9b53465c",
   "metadata": {},
   "source": [
    "## Calculated"
   ]
  },
  {
   "cell_type": "code",
   "execution_count": 4,
   "id": "28c67cdc",
   "metadata": {},
   "outputs": [],
   "source": [
    "def km_per_year(km, bike_year):\n",
    "    if (datetime.now().year- bike_year) == 0:\n",
    "        return km\n",
    "    return km / (datetime.now().year- bike_year)\n",
    "\n",
    "data['km/year'] = data.apply(lambda x: km_per_year(x['mileage'],x['bike_year']), axis=1)"
   ]
  },
  {
   "cell_type": "code",
   "execution_count": 5,
   "id": "efd84634",
   "metadata": {},
   "outputs": [],
   "source": [
    "def price_per_cc_per_km(cc, price, mileage):\n",
    "    return (price/cc) / mileage\n",
    "\n",
    "data['price/cc/km'] = data.apply(lambda x: price_per_cc_per_km(x['engine_size'],x['price'], x['mileage'] ), axis=1)"
   ]
  },
  {
   "cell_type": "code",
   "execution_count": 6,
   "id": "387b9dfd",
   "metadata": {},
   "outputs": [],
   "source": [
    "def age(bike_year):\n",
    "    return datetime.now().year - bike_year\n",
    "\n",
    "data['age'] = data.bike_year.apply(age)"
   ]
  },
  {
   "cell_type": "markdown",
   "id": "8d3d3739",
   "metadata": {},
   "source": [
    "# Explore data"
   ]
  },
  {
   "cell_type": "code",
   "execution_count": null,
   "id": "76b97ec0",
   "metadata": {
    "scrolled": true
   },
   "outputs": [],
   "source": [
    "data.model.nunique()"
   ]
  },
  {
   "cell_type": "code",
   "execution_count": null,
   "id": "de7dbeee",
   "metadata": {},
   "outputs": [],
   "source": [
    "data.model_submodel_db.nunique()"
   ]
  },
  {
   "cell_type": "markdown",
   "id": "03aeca3f",
   "metadata": {},
   "source": [
    "## Price\n",
    "### vs mileage (km) per category"
   ]
  },
  {
   "cell_type": "code",
   "execution_count": null,
   "id": "c64cec62",
   "metadata": {
    "scrolled": false
   },
   "outputs": [],
   "source": [
    "sns.scatterplot(x='mileage', y='price', hue='category_db', data=data);"
   ]
  },
  {
   "cell_type": "markdown",
   "id": "d2c57a02",
   "metadata": {},
   "source": [
    "### vs mileage (km) per engine size"
   ]
  },
  {
   "cell_type": "code",
   "execution_count": null,
   "id": "89fad902",
   "metadata": {
    "scrolled": false
   },
   "outputs": [],
   "source": [
    "sns.scatterplot(x='mileage', y='price', hue='engine_size', data=data);"
   ]
  },
  {
   "cell_type": "markdown",
   "id": "7a8fd4e9",
   "metadata": {},
   "source": [
    "### vs mileage (km) per power range"
   ]
  },
  {
   "cell_type": "code",
   "execution_count": null,
   "id": "1449d2c8",
   "metadata": {},
   "outputs": [],
   "source": [
    "sns.scatterplot(x='mileage', y='price', hue='power_db', data=data);"
   ]
  },
  {
   "cell_type": "markdown",
   "id": "55b8e588",
   "metadata": {},
   "source": [
    "### vs year of release per category"
   ]
  },
  {
   "cell_type": "code",
   "execution_count": null,
   "id": "cfe06851",
   "metadata": {},
   "outputs": [],
   "source": [
    "sns.scatterplot(x='age', y='price', hue='category_db',data=data);"
   ]
  },
  {
   "cell_type": "markdown",
   "id": "cc3996c8",
   "metadata": {},
   "source": [
    "### vs year of release per engine size"
   ]
  },
  {
   "cell_type": "code",
   "execution_count": null,
   "id": "aaa364b5",
   "metadata": {},
   "outputs": [],
   "source": [
    "sns.scatterplot(x='age', y='price', hue='engine_size', data=data);"
   ]
  },
  {
   "cell_type": "markdown",
   "id": "4388ea78",
   "metadata": {},
   "source": [
    "### vs km/year"
   ]
  },
  {
   "cell_type": "code",
   "execution_count": null,
   "id": "b6c95ddc",
   "metadata": {
    "scrolled": false
   },
   "outputs": [],
   "source": [
    "sns.scatterplot(x='km/year', y='price', hue='engine_size',data=data);"
   ]
  },
  {
   "cell_type": "markdown",
   "id": "afbbf411",
   "metadata": {},
   "source": [
    "### Price/cc vs km"
   ]
  },
  {
   "cell_type": "code",
   "execution_count": null,
   "id": "adde2f81",
   "metadata": {},
   "outputs": [],
   "source": [
    "data['price/cc/km'].mean()"
   ]
  },
  {
   "cell_type": "markdown",
   "id": "d652b73c",
   "metadata": {},
   "source": [
    "### Average price per engine size"
   ]
  },
  {
   "cell_type": "code",
   "execution_count": 8,
   "id": "4ee94f77",
   "metadata": {
    "scrolled": false
   },
   "outputs": [
    {
     "data": {
      "text/html": [
       "<div>\n",
       "<style scoped>\n",
       "    .dataframe tbody tr th:only-of-type {\n",
       "        vertical-align: middle;\n",
       "    }\n",
       "\n",
       "    .dataframe tbody tr th {\n",
       "        vertical-align: top;\n",
       "    }\n",
       "\n",
       "    .dataframe thead th {\n",
       "        text-align: right;\n",
       "    }\n",
       "</style>\n",
       "<table border=\"1\" class=\"dataframe\">\n",
       "  <thead>\n",
       "    <tr style=\"text-align: right;\">\n",
       "      <th></th>\n",
       "      <th>Mean</th>\n",
       "      <th>Std</th>\n",
       "      <th>Count</th>\n",
       "    </tr>\n",
       "    <tr>\n",
       "      <th>engine_size</th>\n",
       "      <th></th>\n",
       "      <th></th>\n",
       "      <th></th>\n",
       "    </tr>\n",
       "  </thead>\n",
       "  <tbody>\n",
       "    <tr>\n",
       "      <th>49.0</th>\n",
       "      <td>2252.000000</td>\n",
       "      <td>489.101217</td>\n",
       "      <td>5</td>\n",
       "    </tr>\n",
       "    <tr>\n",
       "      <th>50.0</th>\n",
       "      <td>1948.898917</td>\n",
       "      <td>1449.762613</td>\n",
       "      <td>277</td>\n",
       "    </tr>\n",
       "    <tr>\n",
       "      <th>65.0</th>\n",
       "      <td>3740.000000</td>\n",
       "      <td>100.000000</td>\n",
       "      <td>4</td>\n",
       "    </tr>\n",
       "    <tr>\n",
       "      <th>70.0</th>\n",
       "      <td>3427.500000</td>\n",
       "      <td>616.296543</td>\n",
       "      <td>8</td>\n",
       "    </tr>\n",
       "    <tr>\n",
       "      <th>75.0</th>\n",
       "      <td>1862.857143</td>\n",
       "      <td>854.940822</td>\n",
       "      <td>7</td>\n",
       "    </tr>\n",
       "    <tr>\n",
       "      <th>...</th>\n",
       "      <td>...</td>\n",
       "      <td>...</td>\n",
       "      <td>...</td>\n",
       "    </tr>\n",
       "    <tr>\n",
       "      <th>1868.0</th>\n",
       "      <td>26146.666667</td>\n",
       "      <td>3636.227441</td>\n",
       "      <td>9</td>\n",
       "    </tr>\n",
       "    <tr>\n",
       "      <th>1890.0</th>\n",
       "      <td>20663.333333</td>\n",
       "      <td>282.901632</td>\n",
       "      <td>3</td>\n",
       "    </tr>\n",
       "    <tr>\n",
       "      <th>1900.0</th>\n",
       "      <td>14893.333333</td>\n",
       "      <td>7453.591975</td>\n",
       "      <td>3</td>\n",
       "    </tr>\n",
       "    <tr>\n",
       "      <th>1923.0</th>\n",
       "      <td>24990.000000</td>\n",
       "      <td>0.000000</td>\n",
       "      <td>3</td>\n",
       "    </tr>\n",
       "    <tr>\n",
       "      <th>1924.0</th>\n",
       "      <td>30900.000000</td>\n",
       "      <td>0.000000</td>\n",
       "      <td>2</td>\n",
       "    </tr>\n",
       "  </tbody>\n",
       "</table>\n",
       "<p>213 rows × 3 columns</p>\n",
       "</div>"
      ],
      "text/plain": [
       "                     Mean          Std  Count\n",
       "engine_size                                  \n",
       "49.0          2252.000000   489.101217      5\n",
       "50.0          1948.898917  1449.762613    277\n",
       "65.0          3740.000000   100.000000      4\n",
       "70.0          3427.500000   616.296543      8\n",
       "75.0          1862.857143   854.940822      7\n",
       "...                   ...          ...    ...\n",
       "1868.0       26146.666667  3636.227441      9\n",
       "1890.0       20663.333333   282.901632      3\n",
       "1900.0       14893.333333  7453.591975      3\n",
       "1923.0       24990.000000     0.000000      3\n",
       "1924.0       30900.000000     0.000000      2\n",
       "\n",
       "[213 rows x 3 columns]"
      ]
     },
     "execution_count": 8,
     "metadata": {},
     "output_type": "execute_result"
    }
   ],
   "source": [
    "data.groupby('engine_size').agg(Mean=('price', 'mean'), Std=('price', 'std'), Count=('price', 'count'))"
   ]
  },
  {
   "cell_type": "code",
   "execution_count": 7,
   "id": "d09dce10",
   "metadata": {},
   "outputs": [],
   "source": [
    "#engine_size_count_threshold = 3\n",
    "#groupby_engine_size = data.groupby('engine_size').agg(Mean=('price', 'mean'), Std=('price', 'std'), Count=('price', 'count'))\n",
    "#groupby_engine_size[groupby_engine_size.Count < 4]\n",
    "#groupby_engine_size\n",
    "\n",
    "data = data[data.engine_size>48]"
   ]
  },
  {
   "cell_type": "markdown",
   "id": "9a414df9",
   "metadata": {},
   "source": [
    "### Average price per category"
   ]
  },
  {
   "cell_type": "code",
   "execution_count": null,
   "id": "8aab3601",
   "metadata": {},
   "outputs": [],
   "source": [
    "data.groupby('category_db').agg(Mean=('price', 'mean'), Std=('price', 'std'), Count=('price', 'count'))"
   ]
  },
  {
   "cell_type": "code",
   "execution_count": 9,
   "id": "ddad3015",
   "metadata": {
    "scrolled": false
   },
   "outputs": [],
   "source": [
    "category_count_threshold = 100\n",
    "groupby_category = data.groupby('category_db').agg(Mean=('price', 'mean'), Std=('price', 'std'), Count=('price', 'count'))\n",
    "drop_category = groupby_category[groupby_category .Count < category_count_threshold].index.to_list()\n",
    "drop_category.append('unspecified category')"
   ]
  },
  {
   "cell_type": "code",
   "execution_count": null,
   "id": "a72bb6d7",
   "metadata": {},
   "outputs": [],
   "source": [
    "data = data[data.category_db.isin(drop_category) == False]"
   ]
  },
  {
   "cell_type": "markdown",
   "id": "4a56bdd6",
   "metadata": {},
   "source": [
    "### Average price per brand"
   ]
  },
  {
   "cell_type": "code",
   "execution_count": null,
   "id": "0b97b186",
   "metadata": {
    "scrolled": false
   },
   "outputs": [],
   "source": [
    "data.groupby('brand_db').agg(Mean=('price', 'mean'), Std=('price', 'std'), Count=('price', 'count'))"
   ]
  },
  {
   "cell_type": "code",
   "execution_count": 10,
   "id": "674c765a",
   "metadata": {},
   "outputs": [],
   "source": [
    "brand_count_threshold = 10\n",
    "groupby_brand = data.groupby('brand_db').agg(Mean=('price', 'mean'), Std=('price', 'std'), Count=('price', 'count'))\n",
    "drop_brand = groupby_brand[groupby_brand.Count < brand_count_threshold].index.to_list()\n",
    "data = data[data.brand_db.isin(drop_brand) == False]"
   ]
  },
  {
   "cell_type": "markdown",
   "id": "1d9ab8ad",
   "metadata": {},
   "source": [
    "### Average price per model"
   ]
  },
  {
   "cell_type": "code",
   "execution_count": null,
   "id": "fd4b54cc",
   "metadata": {},
   "outputs": [],
   "source": [
    "data.groupby(['brand_db','model_db']).agg(Mean=('price', 'mean'), Std=('price', 'std'), Count=('price', 'count'))"
   ]
  },
  {
   "cell_type": "code",
   "execution_count": null,
   "id": "ddf0a73b",
   "metadata": {},
   "outputs": [],
   "source": [
    "#model_count_threshold = 1\n",
    "#groupby_model = data.groupby(['model_db']).agg(Mean=('price', 'mean'), Std=('price', 'std'), Count=('price', 'count'))\n",
    "#drop_model = groupby_model[groupby_model.Count < model_count_threshold].index.to_list()\n",
    "#data = data[data.model_db.isin(drop_model) == False]"
   ]
  },
  {
   "cell_type": "markdown",
   "id": "ffb54597",
   "metadata": {},
   "source": [
    "## Correlation matrix"
   ]
  },
  {
   "cell_type": "code",
   "execution_count": 11,
   "id": "d93b851e",
   "metadata": {},
   "outputs": [
    {
     "data": {
      "image/png": "[encoded data removed]",
      "text/plain": [
       "<Figure size 864x576 with 2 Axes>"
      ]
     },
     "metadata": {},
     "output_type": "display_data"
    }
   ],
   "source": [
    "sns.heatmap(data.corr(), annot = True, mask=np.triu(np.ones_like(data.corr(), dtype=bool)));"
   ]
  },
  {
   "cell_type": "markdown",
   "id": "aef65e11",
   "metadata": {},
   "source": [
    "# BASELINE"
   ]
  },
  {
   "cell_type": "code",
   "execution_count": null,
   "id": "0c983f1e",
   "metadata": {},
   "outputs": [],
   "source": [
    "# mean\n",
    "average_price = data.price.mean()\n",
    "\n",
    "#rmse\n",
    "rmse_baseline = np.sqrt(sum((data['price']-average_price)**2)/((data['price'].count())))\n",
    "\n",
    "print(\"Average price :\", average_price)\n",
    "print(\"RMSE Baseline\", rmse_baseline )"
   ]
  },
  {
   "cell_type": "code",
   "execution_count": null,
   "id": "5c9a6bfc",
   "metadata": {},
   "outputs": [],
   "source": [
    "sns.displot(data.price)"
   ]
  },
  {
   "cell_type": "markdown",
   "id": "d7da1f25",
   "metadata": {
    "heading_collapsed": true
   },
   "source": [
    "# LINEAR REGRESSION"
   ]
  },
  {
   "cell_type": "code",
   "execution_count": null,
   "id": "124b0919",
   "metadata": {
    "hidden": true
   },
   "outputs": [],
   "source": [
    "from sklearn.linear_model import LinearRegression\n",
    "from sklearn.model_selection import train_test_split\n",
    "from sklearn.model_selection import cross_validate\n",
    "from sklearn.neighbors import KNeighborsRegressor\n",
    "from sklearn.preprocessing import OneHotEncoder"
   ]
  },
  {
   "cell_type": "markdown",
   "id": "8be55ee6",
   "metadata": {
    "hidden": true
   },
   "source": [
    "## Numerical features (not scaled)"
   ]
  },
  {
   "cell_type": "code",
   "execution_count": null,
   "id": "c85a62e2",
   "metadata": {
    "hidden": true
   },
   "outputs": [],
   "source": [
    "data_1 = data.copy()\n",
    "data_1.shape"
   ]
  },
  {
   "cell_type": "code",
   "execution_count": null,
   "id": "21a63cea",
   "metadata": {
    "hidden": true
   },
   "outputs": [],
   "source": [
    "features_1 = ['bike_year', 'mileage', 'km/year', 'engine_size']"
   ]
  },
  {
   "cell_type": "code",
   "execution_count": null,
   "id": "00ebe60c",
   "metadata": {
    "hidden": true
   },
   "outputs": [],
   "source": [
    "for feature in features_1:\n",
    "    data_1.dropna(subset=[feature],inplace=True)\n",
    "data_1.shape  "
   ]
  },
  {
   "cell_type": "code",
   "execution_count": null,
   "id": "877e0638",
   "metadata": {
    "hidden": true
   },
   "outputs": [],
   "source": [
    "X = data_1[features_1]\n",
    "y = data_1['price']\n",
    "\n",
    "model_1 = LinearRegression()\n",
    "\n",
    "cv_results = cross_validate(model_1, X, y, cv=5)\n",
    "cv_results['test_score'].mean()"
   ]
  },
  {
   "cell_type": "markdown",
   "id": "31583208",
   "metadata": {
    "hidden": true
   },
   "source": [
    "## Numerical features (not scaled) + brand encoded"
   ]
  },
  {
   "cell_type": "code",
   "execution_count": null,
   "id": "82006fc1",
   "metadata": {
    "hidden": true
   },
   "outputs": [],
   "source": [
    "data_2 = data.copy()[['brand', 'bike_year', 'mileage', 'engine_size', 'km/year', 'price']]\n",
    "data_2.reset_index(inplace=True, drop=True)\n",
    "\n",
    "ohe = OneHotEncoder(sparse=False)\n",
    "\n",
    "ohe.fit(data_2[['brand']])\n",
    "\n",
    "feature_encoded = ohe.transform(data_2[['brand']])\n",
    "\n",
    "encoded = pd.DataFrame(feature_encoded, columns=ohe.categories_)\n",
    "\n",
    "encoded = encoded.T.reset_index().set_index('level_0').T\n",
    "\n",
    "data_2 = data_2.join(encoded,how=\"inner\")\n",
    "\n",
    "X = data_2.drop(columns=['brand', 'price'])\n",
    "y = data_2['price']\n",
    "\n",
    "model_2 = LinearRegression()\n",
    "\n",
    "cv_results = cross_validate(model_2, X, y, cv=5)\n",
    "cv_results['test_score'].mean()"
   ]
  },
  {
   "cell_type": "markdown",
   "id": "2dfbbeaa",
   "metadata": {
    "heading_collapsed": true
   },
   "source": [
    "# KNR"
   ]
  },
  {
   "cell_type": "markdown",
   "id": "ae128071",
   "metadata": {
    "heading_collapsed": true,
    "hidden": true
   },
   "source": [
    "## KNeighborsRegressor - Numerical features (not scaled) + brand encoded"
   ]
  },
  {
   "cell_type": "code",
   "execution_count": null,
   "id": "ee79226a",
   "metadata": {
    "hidden": true
   },
   "outputs": [],
   "source": [
    "data_2 = data.copy()[['brand', 'bike_year', 'mileage', 'engine_size', 'km/year', 'price']]\n",
    "data_2.reset_index(inplace=True, drop=True)\n",
    "\n",
    "ohe = OneHotEncoder(sparse=False)\n",
    "\n",
    "ohe.fit(data_2[['brand']])\n",
    "\n",
    "feature_encoded = ohe.transform(data_2[['brand']])\n",
    "\n",
    "encoded = pd.DataFrame(feature_encoded, columns=ohe.categories_)\n",
    "\n",
    "encoded = encoded.T.reset_index().set_index('level_0').T\n",
    "\n",
    "data_2 = data_2.join(encoded,how=\"inner\")\n",
    "\n",
    "X = data_2.drop(columns=['brand', 'price'])\n",
    "y = data_2['price']"
   ]
  },
  {
   "cell_type": "code",
   "execution_count": null,
   "id": "893a0647",
   "metadata": {
    "hidden": true
   },
   "outputs": [],
   "source": [
    "model_3 = KNeighborsRegressor(n_neighbors=5)\n",
    "\n",
    "cv_results = cross_validate(model_3, X, y, cv=5)\n",
    "cv_results['test_score'].mean()"
   ]
  },
  {
   "cell_type": "markdown",
   "id": "f33c97c9",
   "metadata": {
    "hidden": true
   },
   "source": [
    "## KNeighborsRegressor - Numerical features (scaled) + brand encoded"
   ]
  },
  {
   "cell_type": "markdown",
   "id": "cf5acfe2",
   "metadata": {
    "hidden": true
   },
   "source": [
    "### Brand"
   ]
  },
  {
   "cell_type": "markdown",
   "id": "9d9f6299",
   "metadata": {
    "heading_collapsed": true,
    "hidden": true
   },
   "source": [
    "### Category"
   ]
  },
  {
   "cell_type": "code",
   "execution_count": null,
   "id": "0b5040d9",
   "metadata": {
    "hidden": true
   },
   "outputs": [],
   "source": [
    "from sklearn.neighbors import KNeighborsRegressor\n",
    "from sklearn.preprocessing import MinMaxScaler, OneHotEncoder, StandardScaler\n",
    "from sklearn.model_selection import cross_validate\n",
    "\n",
    "data_4 = data.copy()[['category_db','brand_db', 'age','mileage','engine_size','price','km/year']]\n",
    "data_4.dropna(inplace=True)\n",
    "data_4.reset_index(inplace=True, drop=True)\n",
    "\n",
    "\n",
    "for feature in ['age','mileage','engine_size','km/year']:\n",
    "    scaler = StandardScaler()\n",
    "    data_4[feature]=scaler.fit_transform(data_4[[feature]])\n",
    "\n",
    "ohe = OneHotEncoder(sparse=False)\n",
    "ohe.fit(data_4[['brand_db']])\n",
    "feature_encoded = ohe.transform(data_4[['brand_db']])\n",
    "encoded = pd.DataFrame(feature_encoded, columns=ohe.categories_)\n",
    "encoded = encoded.T.reset_index().set_index('level_0').T\n",
    "data_4 = data_4.join(encoded,how=\"inner\")\n",
    "\n",
    "features_4 = data_4.drop(columns=['brand_db', 'category_db','price'])\n",
    "\n",
    "X_4 = features_4\n",
    "y_4 = data_4['price']\n",
    "\n",
    "model_4 = KNeighborsRegressor() #n_neighbors=12, metric='euclidean', leaf_size=2\n",
    "\n",
    "cv_results = cross_validate(model_4, X_4, y_4, cv=5, scoring=['r2', 'neg_root_mean_squared_error'])\n",
    "print(\"r2\", cv_results['test_r2'].mean())\n",
    "print(\"RMSE\",cv_results['test_neg_root_mean_squared_error'].mean())"
   ]
  },
  {
   "cell_type": "code",
   "execution_count": null,
   "id": "a01646d7",
   "metadata": {
    "hidden": true
   },
   "outputs": [],
   "source": [
    "from sklearn.neighbors import KNeighborsRegressor\n",
    "from sklearn.preprocessing import MinMaxScaler, OneHotEncoder, StandardScaler\n",
    "from sklearn.model_selection import cross_validate\n",
    "\n",
    "data_4 = data.copy()[['brand_db', 'category_db', 'age','mileage','engine_size','price','km/year']]\n",
    "data_4.dropna(inplace=True)\n",
    "data_4.reset_index(inplace=True, drop=True)\n",
    "\n",
    "\n",
    "for feature in ['age','mileage','engine_size','km/year']:\n",
    "    scaler = StandardScaler()\n",
    "    data_4[feature]=scaler.fit_transform(data_4[[feature]])\n",
    "\n",
    "ohe = OneHotEncoder(sparse=False)\n",
    "ohe.fit(data_4[['category_db']])\n",
    "feature_encoded = ohe.transform(data_4[['category_db']])\n",
    "encoded = pd.DataFrame(feature_encoded, columns=ohe.categories_)\n",
    "encoded = encoded.T.reset_index().set_index('level_0').T\n",
    "data_4 = data_4.join(encoded,how=\"inner\")\n",
    "\n",
    "features_4 = data_4.drop(columns=['brand_db', 'category_db','price'])\n",
    "\n",
    "X_4 = features_4\n",
    "y_4 = data_4['price']\n",
    "\n",
    "model_4 = KNeighborsRegressor() #n_neighbors=12, metric='euclidean', leaf_size=2\n",
    "\n",
    "cv_results = cross_validate(model_4, X_4, y_4, cv=5, scoring=['r2', 'neg_root_mean_squared_error'])\n",
    "print(\"r2\", cv_results['test_r2'].mean())\n",
    "print(\"RMSE\",cv_results['test_neg_root_mean_squared_error'].mean())"
   ]
  },
  {
   "cell_type": "markdown",
   "id": "3f57ccc2",
   "metadata": {
    "heading_collapsed": true,
    "hidden": true
   },
   "source": [
    "### Brand and category"
   ]
  },
  {
   "cell_type": "code",
   "execution_count": null,
   "id": "2d4545f0",
   "metadata": {
    "hidden": true
   },
   "outputs": [],
   "source": [
    "from sklearn.neighbors import KNeighborsRegressor\n",
    "from sklearn.preprocessing import MinMaxScaler, OneHotEncoder, StandardScaler\n",
    "from sklearn.model_selection import cross_validate\n",
    "\n",
    "data_4 = data.copy()[['brand_db', 'category_db', 'age','mileage','engine_size','price','km/year']]\n",
    "data_4.dropna(inplace=True)\n",
    "data_4.reset_index(inplace=True, drop=True)\n",
    "\n",
    "\n",
    "for feature in ['age','mileage','engine_size','km/year']:\n",
    "    scaler = StandardScaler()\n",
    "    data_4[feature]=scaler.fit_transform(data_4[[feature]])\n",
    "\n",
    "ohe = OneHotEncoder(sparse=False)\n",
    "ohe.fit(data_4[['category_db']])\n",
    "feature_encoded = ohe.transform(data_4[['category_db']])\n",
    "encoded = pd.DataFrame(feature_encoded, columns=ohe.categories_)\n",
    "encoded = encoded.T.reset_index().set_index('level_0').T\n",
    "data_4 = data_4.join(encoded,how=\"inner\")\n",
    "\n",
    "ohe = OneHotEncoder(sparse=False)\n",
    "ohe.fit(data_4[['brand_db']])\n",
    "feature_encoded = ohe.transform(data_4[['brand_db']])\n",
    "encoded = pd.DataFrame(feature_encoded, columns=ohe.categories_)\n",
    "encoded = encoded.T.reset_index().set_index('level_0').T\n",
    "data_4 = data_4.join(encoded,how=\"inner\")\n",
    "\n",
    "features_4 = data_4.drop(columns=['brand_db', 'category_db','price'])\n",
    "\n",
    "X_4 = features_4\n",
    "y_4 = data_4['price']\n",
    "\n",
    "model_4 = KNeighborsRegressor() #n_neighbors=12, metric='euclidean', leaf_size=2\n",
    "\n",
    "cv_results = cross_validate(model_4, X_4, y_4, cv=5, scoring=['r2', 'neg_root_mean_squared_error'])\n",
    "print(\"r2\", cv_results['test_r2'].mean())\n",
    "print(\"RMSE\",cv_results['test_neg_root_mean_squared_error'].mean())"
   ]
  },
  {
   "cell_type": "markdown",
   "id": "7f422eb4",
   "metadata": {},
   "source": [
    "# PIPELINE"
   ]
  },
  {
   "cell_type": "code",
   "execution_count": 12,
   "id": "efcd6da0",
   "metadata": {},
   "outputs": [],
   "source": [
    "from sklearn.preprocessing import MinMaxScaler, RobustScaler, StandardScaler, OneHotEncoder\n",
    "from sklearn.pipeline import Pipeline\n",
    "from sklearn.compose import ColumnTransformer\n",
    "from sklearn.model_selection import GridSearchCV, train_test_split\n",
    "from sklearn.neighbors import KNeighborsRegressor\n",
    "import numpy as np\n",
    "from sklearn import set_config\n",
    "\n",
    "set_config(display='diagram')"
   ]
  },
  {
   "cell_type": "markdown",
   "id": "200b10f1",
   "metadata": {},
   "source": [
    "## Pipeline Baseline"
   ]
  },
  {
   "cell_type": "markdown",
   "id": "4827be42",
   "metadata": {},
   "source": [
    "### Category"
   ]
  },
  {
   "cell_type": "code",
   "execution_count": 13,
   "id": "ad16b6d8",
   "metadata": {},
   "outputs": [
    {
     "data": {
      "text/plain": [
       "0.7300507713386886"
      ]
     },
     "execution_count": 13,
     "metadata": {},
     "output_type": "execute_result"
    }
   ],
   "source": [
    "data_1=data.copy()[['age','mileage','engine_size','km/year', 'category_db','price']]\n",
    "data_1.dropna(inplace=True)\n",
    "data_1.reset_index(inplace=True, drop=True)\n",
    "\n",
    "\n",
    "X_1 = data_1[['age','mileage','engine_size','km/year', 'category_db']] #, 'brand_db'\n",
    "y_1 = data_1['price']\n",
    "\n",
    "# Train test split\n",
    "X_train, X_test, y_train, y_test = train_test_split(X_1,y_1, test_size=0.3, random_state=0)\n",
    "num_transformer = Pipeline([('scaler', StandardScaler())])\n",
    "cat_transformer = Pipeline([('OHE', OneHotEncoder(sparse=False))])\n",
    "# Preprocessor\n",
    "preprocessor = ColumnTransformer([\n",
    "    ('num_transformer', num_transformer, ['age','mileage','engine_size','km/year']) ,\n",
    "    ('cat_transformer',cat_transformer , ['category_db']),\n",
    "])\n",
    "\n",
    "# Combine preprocessor and LogisticRegression model in pipeline\n",
    "final_pipe = Pipeline([\n",
    "    ('preprocessing', preprocessor),\n",
    "    ('KNeighborsRegressor', KNeighborsRegressor())])\n",
    "\n",
    "# Train pipeline\n",
    "final_pipe_trained = final_pipe.fit(X_train,y_train)\n",
    "\n",
    "# Score model\n",
    "final_pipe_trained.score(X_test,y_test)"
   ]
  },
  {
   "cell_type": "markdown",
   "id": "b3585620",
   "metadata": {},
   "source": [
    "### Brand"
   ]
  },
  {
   "cell_type": "code",
   "execution_count": 14,
   "id": "b066e7e0",
   "metadata": {},
   "outputs": [
    {
     "data": {
      "text/plain": [
       "0.7527746765221357"
      ]
     },
     "execution_count": 14,
     "metadata": {},
     "output_type": "execute_result"
    }
   ],
   "source": [
    "data_1=data.copy()[['age','mileage','engine_size','km/year','brand_db','price']]\n",
    "data_1.dropna(inplace=True)\n",
    "data_1.reset_index(inplace=True, drop=True)\n",
    "\n",
    "\n",
    "X_1 = data_1[['age','mileage','engine_size','km/year','brand_db']] #, 'brand_db'\n",
    "y_1 = data_1['price']\n",
    "\n",
    "# Train test split\n",
    "X_train, X_test, y_train, y_test = train_test_split(X_1,y_1, test_size=0.3, random_state=0)\n",
    "num_transformer = Pipeline([('scaler', StandardScaler())])\n",
    "cat_transformer = Pipeline([('OHE', OneHotEncoder(sparse=False))])\n",
    "# Preprocessor\n",
    "preprocessor = ColumnTransformer([\n",
    "    ('num_transformer', num_transformer, ['age','mileage','engine_size','km/year']) ,\n",
    "    ('cat_transformer',cat_transformer , ['brand_db']),\n",
    "])\n",
    "\n",
    "# Combine preprocessor and LogisticRegression model in pipeline\n",
    "final_pipe = Pipeline([\n",
    "    ('preprocessing', preprocessor),\n",
    "    ('KNeighborsRegressor', KNeighborsRegressor())])\n",
    "\n",
    "# Train pipeline\n",
    "final_pipe_trained = final_pipe.fit(X_train,y_train)\n",
    "\n",
    "# Score model\n",
    "final_pipe_trained.score(X_test,y_test)"
   ]
  },
  {
   "cell_type": "code",
   "execution_count": null,
   "id": "11113bdf",
   "metadata": {},
   "outputs": [],
   "source": [
    "final_pipe_trained.get_params();"
   ]
  },
  {
   "cell_type": "markdown",
   "id": "aafd356b",
   "metadata": {},
   "source": [
    "## Pipeline gridsearch"
   ]
  },
  {
   "cell_type": "code",
   "execution_count": null,
   "id": "f90c209c",
   "metadata": {},
   "outputs": [],
   "source": [
    "# Instanciate grid search\n",
    "grid_search = GridSearchCV(\n",
    "    final_pipe, \n",
    "    param_grid={\n",
    "        'preprocessing__num_transformer__scaler': [MinMaxScaler(), RobustScaler(), StandardScaler()],\n",
    "        'KNeighborsRegressor__n_neighbors': list(range(9,13)),\n",
    "        'KNeighborsRegressor__leaf_size': [1,2,3],\n",
    "        'KNeighborsRegressor__metric': ['euclidean',\n",
    "                                        'manhattan'],\n",
    "        'KNeighborsRegressor__weights': ['uniform', 'distance']},\n",
    "    cv=5,\n",
    "    scoring=['r2', 'neg_root_mean_squared_error'],\n",
    "    refit='r2')\n",
    "\n",
    "grid_search.fit(X_1, y_1)\n",
    "print(\"best_params\",grid_search.best_params_)\n",
    "print(\"best_score\",grid_search.best_score_)"
   ]
  },
  {
   "cell_type": "markdown",
   "id": "8ffe0cf9",
   "metadata": {},
   "source": [
    "## Optimized Pipeline"
   ]
  },
  {
   "cell_type": "code",
   "execution_count": null,
   "id": "d873f0ff",
   "metadata": {},
   "outputs": [],
   "source": [
    "num_transformer = Pipeline([('scaler', grid_search.best_params_['preprocessing__num_transformer__scaler'])])\n",
    "cat_transformer = Pipeline([('OHE', OneHotEncoder(sparse=False))])\n",
    "# Preprocessor\n",
    "preprocessor = ColumnTransformer([\n",
    "    ('num_transformer', num_transformer, ['age','mileage','engine_size','km/year']) ,\n",
    "    ('cat_transformer',cat_transformer , ['brand_db']),\n",
    "])\n",
    "\n",
    "# Combine preprocessor and Regression model in pipeline\n",
    "final_pipe = Pipeline([\n",
    "    ('preprocessing', preprocessor),\n",
    "    ('KNeighborsRegressor', KNeighborsRegressor(\n",
    "        leaf_size=grid_search.best_params_['KNeighborsRegressor__leaf_size'],\n",
    "        metric=grid_search.best_params_['KNeighborsRegressor__metric'], \n",
    "        n_neighbors=grid_search.best_params_['KNeighborsRegressor__n_neighbors'], \n",
    "        weights=grid_search.best_params_['KNeighborsRegressor__weights']))])\n",
    "\n",
    "# Train pipeline\n",
    "final_pipe_trained = final_pipe.fit(X_train,y_train)\n",
    "\n",
    "# Score model\n",
    "final_pipe_trained.score(X_test,y_test)"
   ]
  },
  {
   "cell_type": "code",
   "execution_count": null,
   "id": "96f989cf",
   "metadata": {},
   "outputs": [],
   "source": [
    "cv_results = cross_validate(final_pipe, X_1, y_1, cv=5, scoring=['r2', 'neg_root_mean_squared_error'])\n",
    "print(\"r2\", cv_results['test_r2'].mean())\n",
    "print(\"RMSE\",cv_results['test_neg_root_mean_squared_error'].mean())"
   ]
  },
  {
   "cell_type": "markdown",
   "id": "de0664c9",
   "metadata": {},
   "source": [
    "## Prediction"
   ]
  },
  {
   "cell_type": "code",
   "execution_count": null,
   "id": "166412e6",
   "metadata": {},
   "outputs": [],
   "source": [
    "X_pred = pd.DataFrame([[10,5000,800,1000,'bmw']],columns=['age', 'mileage', 'engine_size', 'km/year', 'brand_db'])"
   ]
  },
  {
   "cell_type": "code",
   "execution_count": null,
   "id": "e13d2caf",
   "metadata": {},
   "outputs": [],
   "source": [
    "final_pipe.predict(X_pred )"
   ]
  },
  {
   "cell_type": "code",
   "execution_count": null,
   "id": "0ef1b3dd",
   "metadata": {},
   "outputs": [],
   "source": [
    "X_pred = pd.DataFrame([[4,2347,1200,586,'triumph']],columns=['age', 'mileage', 'engine_size', 'km/year', 'brand_db'])\n",
    "final_pipe.predict(X_pred )"
   ]
  },
  {
   "cell_type": "code",
   "execution_count": null,
   "id": "610494a3",
   "metadata": {},
   "outputs": [],
   "source": [
    "X_pred = pd.DataFrame([[6,26500,990,4416,'ktm']],columns=['age', 'mileage', 'engine_size', 'km/year', 'brand_db'])\n",
    "final_pipe.predict(X_pred )"
   ]
  }
 ],
 "metadata": {
  "kernelspec": {
   "display_name": "Python 3",
   "language": "python",
   "name": "python3"
  },
  "language_info": {
   "codemirror_mode": {
    "name": "ipython",
    "version": 3
   },
   "file_extension": ".py",
   "mimetype": "text/x-python",
   "name": "python",
   "nbconvert_exporter": "python",
   "pygments_lexer": "ipython3",
   "version": "3.8.6"
  },
  "toc": {
   "base_numbering": 1,
   "nav_menu": {},
   "number_sections": true,
   "sideBar": true,
   "skip_h1_title": false,
   "title_cell": "Table of Contents",
   "title_sidebar": "Contents",
   "toc_cell": false,
   "toc_position": {},
   "toc_section_display": true,
   "toc_window_display": false
  },
  "varInspector": {
   "cols": {
    "lenName": 16,
    "lenType": 16,
    "lenVar": 40
   },
   "kernels_config": {
    "python": {
     "delete_cmd_postfix": "",
     "delete_cmd_prefix": "del ",
     "library": "var_list.py",
     "varRefreshCmd": "print(var_dic_list())"
    },
    "r": {
     "delete_cmd_postfix": ") ",
     "delete_cmd_prefix": "rm(",
     "library": "var_list.r",
     "varRefreshCmd": "cat(var_dic_list()) "
    }
   },
   "types_to_exclude": [
    "module",
    "function",
    "builtin_function_or_method",
    "instance",
    "_Feature"
   ],
   "window_display": false
  }
 },
 "nbformat": 4,
 "nbformat_minor": 5
}
