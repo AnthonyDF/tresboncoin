{
 "cells": [
  {
   "cell_type": "code",
   "execution_count": 1,
   "id": "cbb2f696",
   "metadata": {},
   "outputs": [],
   "source": [
    "import pandas as pd\n",
    "import seaborn as sns\n",
    "from datetime import datetime\n",
    "import numpy as np\n",
    "from sklearn.metrics import r2_score"
   ]
  },
  {
   "cell_type": "code",
   "execution_count": 2,
   "id": "0537947e",
   "metadata": {},
   "outputs": [],
   "source": [
    "sns.set(rc={\"figure.figsize\":(12, 8)})\n",
    "pd.set_option(\"display.max_columns\", None)"
   ]
  },
  {
   "cell_type": "markdown",
   "id": "ea1f2565",
   "metadata": {},
   "source": [
    "# Import data"
   ]
  },
  {
   "cell_type": "code",
   "execution_count": 3,
   "id": "7d0c2623",
   "metadata": {},
   "outputs": [
    {
     "data": {
      "text/plain": [
       "(18417, 18)"
      ]
     },
     "execution_count": 3,
     "metadata": {},
     "output_type": "execute_result"
    }
   ],
   "source": [
    "data = pd.read_csv('../../tresboncoin/data/master/master_with_fuzzy.csv')\n",
    "#data.drop(columns=['Unnamed: 0'], inplace=True)\n",
    "data.shape"
   ]
  },
  {
   "cell_type": "code",
   "execution_count": 4,
   "id": "1f6f3750",
   "metadata": {},
   "outputs": [
    {
     "data": {
      "text/html": [
       "<div>\n",
       "<style scoped>\n",
       "    .dataframe tbody tr th:only-of-type {\n",
       "        vertical-align: middle;\n",
       "    }\n",
       "\n",
       "    .dataframe tbody tr th {\n",
       "        vertical-align: top;\n",
       "    }\n",
       "\n",
       "    .dataframe thead th {\n",
       "        text-align: right;\n",
       "    }\n",
       "</style>\n",
       "<table border=\"1\" class=\"dataframe\">\n",
       "  <thead>\n",
       "    <tr style=\"text-align: right;\">\n",
       "      <th></th>\n",
       "      <th>url</th>\n",
       "      <th>uniq_id</th>\n",
       "      <th>brand</th>\n",
       "      <th>bike_year</th>\n",
       "      <th>mileage</th>\n",
       "      <th>bike_type</th>\n",
       "      <th>price</th>\n",
       "      <th>model</th>\n",
       "      <th>engine_size</th>\n",
       "      <th>date_scrapped</th>\n",
       "      <th>fuzzy_score</th>\n",
       "      <th>fuzzy_brand</th>\n",
       "      <th>fuzzy_result_model</th>\n",
       "      <th>fuzzy_result_submodel</th>\n",
       "      <th>fuzzy_result_submodel_inv</th>\n",
       "      <th>fuzzy_result_model_size</th>\n",
       "      <th>fuzzy_result_model_size_inv</th>\n",
       "      <th>fuzzy_result_model_inv</th>\n",
       "    </tr>\n",
       "  </thead>\n",
       "  <tbody>\n",
       "    <tr>\n",
       "      <th>0</th>\n",
       "      <td>https://www.motoplanete.com/occasion-moto/3764...</td>\n",
       "      <td>motoplanete-37642</td>\n",
       "      <td>kawasaki</td>\n",
       "      <td>2021</td>\n",
       "      <td>476.0</td>\n",
       "      <td>Trail</td>\n",
       "      <td>16999.0</td>\n",
       "      <td>versys10002020</td>\n",
       "      <td>1000.0</td>\n",
       "      <td>2021/06/04 - 22h18</td>\n",
       "      <td>100.0</td>\n",
       "      <td>kawasaki</td>\n",
       "      <td>('100', 90.0, 130)</td>\n",
       "      <td>('versys', 90.0, 353)</td>\n",
       "      <td>('versys', 90.0, 406)</td>\n",
       "      <td>('versys10001043', 78.57142857142857, 74)</td>\n",
       "      <td>('versys10001043', 78.57142857142857, 74)</td>\n",
       "      <td>('100', 90.0, 131)</td>\n",
       "    </tr>\n",
       "    <tr>\n",
       "      <th>1</th>\n",
       "      <td>https://www.motoplanete.com/occasion-moto/2127...</td>\n",
       "      <td>motoplanete-21278</td>\n",
       "      <td>yamaha</td>\n",
       "      <td>2003</td>\n",
       "      <td>5130.0</td>\n",
       "      <td>Custom</td>\n",
       "      <td>3700.0</td>\n",
       "      <td>wildstar</td>\n",
       "      <td>1600.0</td>\n",
       "      <td>2021/06/04 - 22h18</td>\n",
       "      <td>100.0</td>\n",
       "      <td>yamaha</td>\n",
       "      <td>('roadstar', 62.5, 5)</td>\n",
       "      <td>('xv1600awildstar', 90.0, 107)</td>\n",
       "      <td>('cowlbulletraiderstar', 67.5, 372)</td>\n",
       "      <td>('roadstar1671.6', 56.25, 5)</td>\n",
       "      <td>('roadstar1671.6', 56.25, 5)</td>\n",
       "      <td>('raiderstar', 66.66666666666666, 100)</td>\n",
       "    </tr>\n",
       "    <tr>\n",
       "      <th>2</th>\n",
       "      <td>https://www.motoplanete.com/occasion-moto/1139...</td>\n",
       "      <td>motoplanete-11392</td>\n",
       "      <td>yamaha</td>\n",
       "      <td>2019</td>\n",
       "      <td>2500.0</td>\n",
       "      <td>Routière &amp; GT</td>\n",
       "      <td>13490.0</td>\n",
       "      <td>niken</td>\n",
       "      <td>847.0</td>\n",
       "      <td>2021/06/04 - 22h18</td>\n",
       "      <td>100.0</td>\n",
       "      <td>yamaha</td>\n",
       "      <td>('niken', 100.0, 339)</td>\n",
       "      <td>('niken', 100.0, 748)</td>\n",
       "      <td>('niken', 100.0, 840)</td>\n",
       "      <td>('niken847', 90.0, 491)</td>\n",
       "      <td>('niken847', 90.0, 491)</td>\n",
       "      <td>('niken', 100.0, 348)</td>\n",
       "    </tr>\n",
       "    <tr>\n",
       "      <th>3</th>\n",
       "      <td>https://www.motoplanete.com/occasion-moto/3923...</td>\n",
       "      <td>motoplanete-39239</td>\n",
       "      <td>bmw</td>\n",
       "      <td>2021</td>\n",
       "      <td>998.0</td>\n",
       "      <td>Roadster</td>\n",
       "      <td>13990.0</td>\n",
       "      <td>rninetpure</td>\n",
       "      <td>1200.0</td>\n",
       "      <td>2021/06/04 - 22h18</td>\n",
       "      <td>100.0</td>\n",
       "      <td>bmw</td>\n",
       "      <td>('rninet', 90.0, 33)</td>\n",
       "      <td>('rninetpure', 100.0, 62)</td>\n",
       "      <td>('ninetr', 75.0, 173)</td>\n",
       "      <td>('rninet1170', 60.0, 40)</td>\n",
       "      <td>('rninet1170', 60.0, 40)</td>\n",
       "      <td>('tniner', 62.5, 33)</td>\n",
       "    </tr>\n",
       "    <tr>\n",
       "      <th>4</th>\n",
       "      <td>https://www.motoplanete.com/occasion-moto/1536...</td>\n",
       "      <td>motoplanete-15360</td>\n",
       "      <td>yamaha</td>\n",
       "      <td>2016</td>\n",
       "      <td>2600.0</td>\n",
       "      <td>Custom</td>\n",
       "      <td>8500.0</td>\n",
       "      <td>xv950bolt</td>\n",
       "      <td>950.0</td>\n",
       "      <td>2021/06/04 - 22h18</td>\n",
       "      <td>100.0</td>\n",
       "      <td>yamaha</td>\n",
       "      <td>('bolt', 90.0, 147)</td>\n",
       "      <td>('bolt', 90.0, 228)</td>\n",
       "      <td>('bolt', 90.0, 238)</td>\n",
       "      <td>('xvs950942', 55.55555555555556, 533)</td>\n",
       "      <td>('xvs950942', 55.55555555555556, 533)</td>\n",
       "      <td>('bolt', 90.0, 149)</td>\n",
       "    </tr>\n",
       "  </tbody>\n",
       "</table>\n",
       "</div>"
      ],
      "text/plain": [
       "                                                 url            uniq_id  \\\n",
       "0  https://www.motoplanete.com/occasion-moto/3764...  motoplanete-37642   \n",
       "1  https://www.motoplanete.com/occasion-moto/2127...  motoplanete-21278   \n",
       "2  https://www.motoplanete.com/occasion-moto/1139...  motoplanete-11392   \n",
       "3  https://www.motoplanete.com/occasion-moto/3923...  motoplanete-39239   \n",
       "4  https://www.motoplanete.com/occasion-moto/1536...  motoplanete-15360   \n",
       "\n",
       "      brand  bike_year  mileage      bike_type    price           model  \\\n",
       "0  kawasaki       2021    476.0          Trail  16999.0  versys10002020   \n",
       "1    yamaha       2003   5130.0         Custom   3700.0        wildstar   \n",
       "2    yamaha       2019   2500.0  Routière & GT  13490.0           niken   \n",
       "3       bmw       2021    998.0       Roadster  13990.0      rninetpure   \n",
       "4    yamaha       2016   2600.0         Custom   8500.0       xv950bolt   \n",
       "\n",
       "   engine_size       date_scrapped  fuzzy_score fuzzy_brand  \\\n",
       "0       1000.0  2021/06/04 - 22h18        100.0    kawasaki   \n",
       "1       1600.0  2021/06/04 - 22h18        100.0      yamaha   \n",
       "2        847.0  2021/06/04 - 22h18        100.0      yamaha   \n",
       "3       1200.0  2021/06/04 - 22h18        100.0         bmw   \n",
       "4        950.0  2021/06/04 - 22h18        100.0      yamaha   \n",
       "\n",
       "      fuzzy_result_model           fuzzy_result_submodel  \\\n",
       "0     ('100', 90.0, 130)           ('versys', 90.0, 353)   \n",
       "1  ('roadstar', 62.5, 5)  ('xv1600awildstar', 90.0, 107)   \n",
       "2  ('niken', 100.0, 339)           ('niken', 100.0, 748)   \n",
       "3   ('rninet', 90.0, 33)       ('rninetpure', 100.0, 62)   \n",
       "4    ('bolt', 90.0, 147)             ('bolt', 90.0, 228)   \n",
       "\n",
       "             fuzzy_result_submodel_inv  \\\n",
       "0                ('versys', 90.0, 406)   \n",
       "1  ('cowlbulletraiderstar', 67.5, 372)   \n",
       "2                ('niken', 100.0, 840)   \n",
       "3                ('ninetr', 75.0, 173)   \n",
       "4                  ('bolt', 90.0, 238)   \n",
       "\n",
       "                     fuzzy_result_model_size  \\\n",
       "0  ('versys10001043', 78.57142857142857, 74)   \n",
       "1               ('roadstar1671.6', 56.25, 5)   \n",
       "2                    ('niken847', 90.0, 491)   \n",
       "3                   ('rninet1170', 60.0, 40)   \n",
       "4      ('xvs950942', 55.55555555555556, 533)   \n",
       "\n",
       "                 fuzzy_result_model_size_inv  \\\n",
       "0  ('versys10001043', 78.57142857142857, 74)   \n",
       "1               ('roadstar1671.6', 56.25, 5)   \n",
       "2                    ('niken847', 90.0, 491)   \n",
       "3                   ('rninet1170', 60.0, 40)   \n",
       "4      ('xvs950942', 55.55555555555556, 533)   \n",
       "\n",
       "                   fuzzy_result_model_inv  \n",
       "0                      ('100', 90.0, 131)  \n",
       "1  ('raiderstar', 66.66666666666666, 100)  \n",
       "2                   ('niken', 100.0, 348)  \n",
       "3                    ('tniner', 62.5, 33)  \n",
       "4                     ('bolt', 90.0, 149)  "
      ]
     },
     "execution_count": 4,
     "metadata": {},
     "output_type": "execute_result"
    }
   ],
   "source": [
    "data.head()"
   ]
  },
  {
   "cell_type": "code",
   "execution_count": 5,
   "id": "4e4a3c9b",
   "metadata": {},
   "outputs": [
    {
     "data": {
      "text/html": [
       "<div>\n",
       "<style scoped>\n",
       "    .dataframe tbody tr th:only-of-type {\n",
       "        vertical-align: middle;\n",
       "    }\n",
       "\n",
       "    .dataframe tbody tr th {\n",
       "        vertical-align: top;\n",
       "    }\n",
       "\n",
       "    .dataframe thead th {\n",
       "        text-align: right;\n",
       "    }\n",
       "</style>\n",
       "<table border=\"1\" class=\"dataframe\">\n",
       "  <thead>\n",
       "    <tr style=\"text-align: right;\">\n",
       "      <th></th>\n",
       "      <th>url</th>\n",
       "      <th>uniq_id</th>\n",
       "      <th>brand</th>\n",
       "      <th>bike_year</th>\n",
       "      <th>mileage</th>\n",
       "      <th>bike_type</th>\n",
       "      <th>price</th>\n",
       "      <th>model</th>\n",
       "      <th>engine_size</th>\n",
       "      <th>date_scrapped</th>\n",
       "      <th>fuzzy_score</th>\n",
       "      <th>fuzzy_brand</th>\n",
       "      <th>fuzzy_model</th>\n",
       "      <th>fuzzy_model_score</th>\n",
       "      <th>fuzzy_model_inv</th>\n",
       "      <th>fuzzy_model_inv_score</th>\n",
       "      <th>fuzzy_submodel</th>\n",
       "      <th>fuzzy_submodel_score</th>\n",
       "      <th>fuzzy_submodel_inv</th>\n",
       "      <th>fuzzy_submodel_inv_score</th>\n",
       "      <th>fuzzy_model_size</th>\n",
       "      <th>fuzzy_model_size_score</th>\n",
       "      <th>fuzzy_model_size_inv</th>\n",
       "      <th>fuzzy_model_size_inv_score</th>\n",
       "    </tr>\n",
       "  </thead>\n",
       "  <tbody>\n",
       "    <tr>\n",
       "      <th>0</th>\n",
       "      <td>https://www.motoplanete.com/occasion-moto/3764...</td>\n",
       "      <td>motoplanete-37642</td>\n",
       "      <td>kawasaki</td>\n",
       "      <td>2021</td>\n",
       "      <td>476.0</td>\n",
       "      <td>Trail</td>\n",
       "      <td>16999.0</td>\n",
       "      <td>versys10002020</td>\n",
       "      <td>1000.0</td>\n",
       "      <td>2021/06/04 - 22h18</td>\n",
       "      <td>100.0</td>\n",
       "      <td>kawasaki</td>\n",
       "      <td>100</td>\n",
       "      <td>90.0</td>\n",
       "      <td>100</td>\n",
       "      <td>90.0</td>\n",
       "      <td>versys</td>\n",
       "      <td>90.0</td>\n",
       "      <td>versys</td>\n",
       "      <td>90.0</td>\n",
       "      <td>versys10001043</td>\n",
       "      <td>78.57142857142857</td>\n",
       "      <td>versys10001043</td>\n",
       "      <td>78.57142857142857</td>\n",
       "    </tr>\n",
       "    <tr>\n",
       "      <th>1</th>\n",
       "      <td>https://www.motoplanete.com/occasion-moto/2127...</td>\n",
       "      <td>motoplanete-21278</td>\n",
       "      <td>yamaha</td>\n",
       "      <td>2003</td>\n",
       "      <td>5130.0</td>\n",
       "      <td>Custom</td>\n",
       "      <td>3700.0</td>\n",
       "      <td>wildstar</td>\n",
       "      <td>1600.0</td>\n",
       "      <td>2021/06/04 - 22h18</td>\n",
       "      <td>100.0</td>\n",
       "      <td>yamaha</td>\n",
       "      <td>roadstar</td>\n",
       "      <td>62.5</td>\n",
       "      <td>raiderstar</td>\n",
       "      <td>66.66666666666666</td>\n",
       "      <td>xv1600awildstar</td>\n",
       "      <td>90.0</td>\n",
       "      <td>cowlbulletraiderstar</td>\n",
       "      <td>67.5</td>\n",
       "      <td>roadstar1671.6</td>\n",
       "      <td>56.25</td>\n",
       "      <td>roadstar1671.6</td>\n",
       "      <td>56.25</td>\n",
       "    </tr>\n",
       "    <tr>\n",
       "      <th>2</th>\n",
       "      <td>https://www.motoplanete.com/occasion-moto/1139...</td>\n",
       "      <td>motoplanete-11392</td>\n",
       "      <td>yamaha</td>\n",
       "      <td>2019</td>\n",
       "      <td>2500.0</td>\n",
       "      <td>Routière &amp; GT</td>\n",
       "      <td>13490.0</td>\n",
       "      <td>niken</td>\n",
       "      <td>847.0</td>\n",
       "      <td>2021/06/04 - 22h18</td>\n",
       "      <td>100.0</td>\n",
       "      <td>yamaha</td>\n",
       "      <td>niken</td>\n",
       "      <td>100.0</td>\n",
       "      <td>niken</td>\n",
       "      <td>100.0</td>\n",
       "      <td>niken</td>\n",
       "      <td>100.0</td>\n",
       "      <td>niken</td>\n",
       "      <td>100.0</td>\n",
       "      <td>niken847</td>\n",
       "      <td>90.0</td>\n",
       "      <td>niken847</td>\n",
       "      <td>90.0</td>\n",
       "    </tr>\n",
       "    <tr>\n",
       "      <th>3</th>\n",
       "      <td>https://www.motoplanete.com/occasion-moto/3923...</td>\n",
       "      <td>motoplanete-39239</td>\n",
       "      <td>bmw</td>\n",
       "      <td>2021</td>\n",
       "      <td>998.0</td>\n",
       "      <td>Roadster</td>\n",
       "      <td>13990.0</td>\n",
       "      <td>rninetpure</td>\n",
       "      <td>1200.0</td>\n",
       "      <td>2021/06/04 - 22h18</td>\n",
       "      <td>100.0</td>\n",
       "      <td>bmw</td>\n",
       "      <td>rninet</td>\n",
       "      <td>90.0</td>\n",
       "      <td>tniner</td>\n",
       "      <td>62.5</td>\n",
       "      <td>rninetpure</td>\n",
       "      <td>100.0</td>\n",
       "      <td>ninetr</td>\n",
       "      <td>75.0</td>\n",
       "      <td>rninet1170</td>\n",
       "      <td>60.0</td>\n",
       "      <td>rninet1170</td>\n",
       "      <td>60.0</td>\n",
       "    </tr>\n",
       "    <tr>\n",
       "      <th>4</th>\n",
       "      <td>https://www.motoplanete.com/occasion-moto/1536...</td>\n",
       "      <td>motoplanete-15360</td>\n",
       "      <td>yamaha</td>\n",
       "      <td>2016</td>\n",
       "      <td>2600.0</td>\n",
       "      <td>Custom</td>\n",
       "      <td>8500.0</td>\n",
       "      <td>xv950bolt</td>\n",
       "      <td>950.0</td>\n",
       "      <td>2021/06/04 - 22h18</td>\n",
       "      <td>100.0</td>\n",
       "      <td>yamaha</td>\n",
       "      <td>bolt</td>\n",
       "      <td>90.0</td>\n",
       "      <td>bolt</td>\n",
       "      <td>90.0</td>\n",
       "      <td>bolt</td>\n",
       "      <td>90.0</td>\n",
       "      <td>bolt</td>\n",
       "      <td>90.0</td>\n",
       "      <td>xvs950942</td>\n",
       "      <td>55.55555555555556</td>\n",
       "      <td>xvs950942</td>\n",
       "      <td>55.55555555555556</td>\n",
       "    </tr>\n",
       "  </tbody>\n",
       "</table>\n",
       "</div>"
      ],
      "text/plain": [
       "                                                 url            uniq_id  \\\n",
       "0  https://www.motoplanete.com/occasion-moto/3764...  motoplanete-37642   \n",
       "1  https://www.motoplanete.com/occasion-moto/2127...  motoplanete-21278   \n",
       "2  https://www.motoplanete.com/occasion-moto/1139...  motoplanete-11392   \n",
       "3  https://www.motoplanete.com/occasion-moto/3923...  motoplanete-39239   \n",
       "4  https://www.motoplanete.com/occasion-moto/1536...  motoplanete-15360   \n",
       "\n",
       "      brand  bike_year  mileage      bike_type    price           model  \\\n",
       "0  kawasaki       2021    476.0          Trail  16999.0  versys10002020   \n",
       "1    yamaha       2003   5130.0         Custom   3700.0        wildstar   \n",
       "2    yamaha       2019   2500.0  Routière & GT  13490.0           niken   \n",
       "3       bmw       2021    998.0       Roadster  13990.0      rninetpure   \n",
       "4    yamaha       2016   2600.0         Custom   8500.0       xv950bolt   \n",
       "\n",
       "   engine_size       date_scrapped  fuzzy_score fuzzy_brand fuzzy_model  \\\n",
       "0       1000.0  2021/06/04 - 22h18        100.0    kawasaki         100   \n",
       "1       1600.0  2021/06/04 - 22h18        100.0      yamaha    roadstar   \n",
       "2        847.0  2021/06/04 - 22h18        100.0      yamaha       niken   \n",
       "3       1200.0  2021/06/04 - 22h18        100.0         bmw      rninet   \n",
       "4        950.0  2021/06/04 - 22h18        100.0      yamaha        bolt   \n",
       "\n",
       "  fuzzy_model_score fuzzy_model_inv fuzzy_model_inv_score   fuzzy_submodel  \\\n",
       "0              90.0             100                  90.0           versys   \n",
       "1              62.5      raiderstar     66.66666666666666  xv1600awildstar   \n",
       "2             100.0           niken                 100.0            niken   \n",
       "3              90.0          tniner                  62.5       rninetpure   \n",
       "4              90.0            bolt                  90.0             bolt   \n",
       "\n",
       "  fuzzy_submodel_score    fuzzy_submodel_inv fuzzy_submodel_inv_score  \\\n",
       "0                 90.0                versys                     90.0   \n",
       "1                 90.0  cowlbulletraiderstar                     67.5   \n",
       "2                100.0                 niken                    100.0   \n",
       "3                100.0                ninetr                     75.0   \n",
       "4                 90.0                  bolt                     90.0   \n",
       "\n",
       "  fuzzy_model_size fuzzy_model_size_score fuzzy_model_size_inv  \\\n",
       "0   versys10001043      78.57142857142857       versys10001043   \n",
       "1   roadstar1671.6                  56.25       roadstar1671.6   \n",
       "2         niken847                   90.0             niken847   \n",
       "3       rninet1170                   60.0           rninet1170   \n",
       "4        xvs950942      55.55555555555556            xvs950942   \n",
       "\n",
       "  fuzzy_model_size_inv_score  \n",
       "0          78.57142857142857  \n",
       "1                      56.25  \n",
       "2                       90.0  \n",
       "3                       60.0  \n",
       "4          55.55555555555556  "
      ]
     },
     "execution_count": 5,
     "metadata": {},
     "output_type": "execute_result"
    }
   ],
   "source": [
    "def unpack_result(result, position):\n",
    "    try:\n",
    "        return result.replace('(', '').replace(')', '').replace(\"'\", '').split(',')[position]\n",
    "    except:\n",
    "        return np.nan\n",
    "\n",
    "data['fuzzy_model'] = data['fuzzy_result_model'].apply(lambda x: unpack_result(x, 0))\n",
    "data['fuzzy_model_score'] = data['fuzzy_result_model'].apply(lambda x: unpack_result(x, 1))\n",
    "data.drop(columns='fuzzy_result_model', inplace=True)\n",
    "\n",
    "data['fuzzy_model_inv'] = data['fuzzy_result_model_inv'].apply(lambda x: unpack_result(x, 0))\n",
    "data['fuzzy_model_inv_score'] = data['fuzzy_result_model_inv'].apply(lambda x: unpack_result(x, 1))\n",
    "data.drop(columns='fuzzy_result_model_inv', inplace=True)\n",
    "\n",
    "data['fuzzy_submodel'] = data['fuzzy_result_submodel'].apply(lambda x: unpack_result(x, 0))\n",
    "data['fuzzy_submodel_score'] = data['fuzzy_result_submodel'].apply(lambda x: unpack_result(x, 1))\n",
    "data.drop(columns='fuzzy_result_submodel', inplace=True)\n",
    "\n",
    "data['fuzzy_submodel_inv'] = data['fuzzy_result_submodel_inv'].apply(lambda x: unpack_result(x, 0))\n",
    "data['fuzzy_submodel_inv_score'] = data['fuzzy_result_submodel_inv'].apply(lambda x: unpack_result(x, 1))\n",
    "data.drop(columns='fuzzy_result_submodel_inv', inplace=True)\n",
    "\n",
    "data['fuzzy_model_size'] = data['fuzzy_result_model_size'].apply(lambda x: unpack_result(x, 0))\n",
    "data['fuzzy_model_size_score'] = data['fuzzy_result_model_size'].apply(lambda x: unpack_result(x, 1))\n",
    "data.drop(columns='fuzzy_result_model_size', inplace=True)\n",
    "\n",
    "data['fuzzy_model_size_inv'] = data['fuzzy_result_model_size_inv'].apply(lambda x: unpack_result(x, 0))\n",
    "data['fuzzy_model_size_inv_score'] = data['fuzzy_result_model_size_inv'].apply(lambda x: unpack_result(x, 1))\n",
    "data.drop(columns='fuzzy_result_model_size_inv', inplace=True)\n",
    "\n",
    "data.head()"
   ]
  },
  {
   "cell_type": "code",
   "execution_count": 6,
   "id": "d45ecfe9",
   "metadata": {},
   "outputs": [],
   "source": [
    "def is_best(fuzzy_model_score, \n",
    "            fuzzy_model_inv_score,\n",
    "            fuzzy_submodel_score, \n",
    "            fuzzy_submodel_inv_score,\n",
    "            fuzzy_model_size_score, \n",
    "            fuzzy_model_size_inv_score):\n",
    "    \n",
    "    scores = [float(fuzzy_model_score), \n",
    "              float(fuzzy_model_inv_score), \n",
    "              float(fuzzy_submodel_score), \n",
    "              float(fuzzy_submodel_inv_score),\n",
    "              float(fuzzy_model_size_score), \n",
    "              float(fuzzy_model_size_inv_score),] \n",
    "    \n",
    "    max_score= max(scores)\n",
    "    max_score_postion = scores.index(max_score)\n",
    "\n",
    "    return max_score_postion"
   ]
  },
  {
   "cell_type": "code",
   "execution_count": 7,
   "id": "c472d5ad",
   "metadata": {},
   "outputs": [],
   "source": [
    "data['fuzzy_model_score'] = data['fuzzy_model_score'].fillna(0)\n",
    "data['fuzzy_model_inv_score'] = data['fuzzy_model_inv_score'].fillna(0)\n",
    "data['fuzzy_submodel_score'] = data['fuzzy_submodel_score'].fillna(0)\n",
    "data['fuzzy_submodel_inv_score'] = data['fuzzy_submodel_inv_score'].fillna(0)\n",
    "data['fuzzy_model_size_score'] = data['fuzzy_model_size_score'].fillna(0)\n",
    "data['fuzzy_model_size_inv_score'] = data['fuzzy_model_size_inv_score'].fillna(0)"
   ]
  },
  {
   "cell_type": "code",
   "execution_count": 8,
   "id": "5d593b03",
   "metadata": {
    "scrolled": true
   },
   "outputs": [],
   "source": [
    "data['is_best']= data.apply(\n",
    "    lambda x: is_best(\n",
    "        x['fuzzy_model_score'],\n",
    "        x['fuzzy_model_inv_score'],\n",
    "        x['fuzzy_submodel_score'],\n",
    "        x['fuzzy_submodel_inv_score'],\n",
    "        x['fuzzy_model_size_score'],\n",
    "        x['fuzzy_model_size_inv_score'],),\n",
    "    axis=1)\n",
    "\n",
    "data.dropna(subset=['is_best'], inplace=True)"
   ]
  },
  {
   "cell_type": "code",
   "execution_count": 9,
   "id": "b71961b1",
   "metadata": {},
   "outputs": [
    {
     "data": {
      "text/plain": [
       "(10920, 25)"
      ]
     },
     "execution_count": 9,
     "metadata": {},
     "output_type": "execute_result"
    }
   ],
   "source": [
    "data_model = data.copy()[data.is_best==0]\n",
    "data_model.shape"
   ]
  },
  {
   "cell_type": "code",
   "execution_count": 10,
   "id": "05764f27",
   "metadata": {},
   "outputs": [
    {
     "data": {
      "text/plain": [
       "(353, 25)"
      ]
     },
     "execution_count": 10,
     "metadata": {},
     "output_type": "execute_result"
    }
   ],
   "source": [
    "data_model_inv = data.copy()[data.is_best==1]\n",
    "data_model_inv.shape"
   ]
  },
  {
   "cell_type": "code",
   "execution_count": 11,
   "id": "6c035d2b",
   "metadata": {},
   "outputs": [
    {
     "data": {
      "text/plain": [
       "(6169, 25)"
      ]
     },
     "execution_count": 11,
     "metadata": {},
     "output_type": "execute_result"
    }
   ],
   "source": [
    "data_submodel = data.copy()[data.is_best==2]\n",
    "data_submodel.shape"
   ]
  },
  {
   "cell_type": "code",
   "execution_count": 12,
   "id": "42888034",
   "metadata": {},
   "outputs": [
    {
     "data": {
      "text/plain": [
       "(540, 25)"
      ]
     },
     "execution_count": 12,
     "metadata": {},
     "output_type": "execute_result"
    }
   ],
   "source": [
    "data_submodel_inv = data.copy()[data.is_best==3]\n",
    "data_submodel_inv.shape"
   ]
  },
  {
   "cell_type": "code",
   "execution_count": 13,
   "id": "107898a7",
   "metadata": {},
   "outputs": [
    {
     "data": {
      "text/plain": [
       "(435, 25)"
      ]
     },
     "execution_count": 13,
     "metadata": {},
     "output_type": "execute_result"
    }
   ],
   "source": [
    "data_model_size = data.copy()[data.is_best==4]\n",
    "data_model_size.shape"
   ]
  },
  {
   "cell_type": "code",
   "execution_count": 14,
   "id": "7e92cd5a",
   "metadata": {},
   "outputs": [
    {
     "data": {
      "text/plain": [
       "(0, 25)"
      ]
     },
     "execution_count": 14,
     "metadata": {},
     "output_type": "execute_result"
    }
   ],
   "source": [
    "data_model_size_inv = data.copy()[data.is_best==5]\n",
    "data_model_size_inv.shape"
   ]
  },
  {
   "cell_type": "code",
   "execution_count": 15,
   "id": "158c80bf",
   "metadata": {
    "scrolled": false
   },
   "outputs": [
    {
     "data": {
      "text/html": [
       "<div>\n",
       "<style scoped>\n",
       "    .dataframe tbody tr th:only-of-type {\n",
       "        vertical-align: middle;\n",
       "    }\n",
       "\n",
       "    .dataframe tbody tr th {\n",
       "        vertical-align: top;\n",
       "    }\n",
       "\n",
       "    .dataframe thead th {\n",
       "        text-align: right;\n",
       "    }\n",
       "</style>\n",
       "<table border=\"1\" class=\"dataframe\">\n",
       "  <thead>\n",
       "    <tr style=\"text-align: right;\">\n",
       "      <th></th>\n",
       "      <th>Unnamed: 0</th>\n",
       "      <th>brand_db</th>\n",
       "      <th>model_db</th>\n",
       "      <th>model_inv_db</th>\n",
       "      <th>model_submodel_db</th>\n",
       "      <th>model_submodel_inv_db</th>\n",
       "      <th>year_db</th>\n",
       "      <th>category_db</th>\n",
       "      <th>engine_type_db</th>\n",
       "      <th>engine_size_db</th>\n",
       "      <th>power_db</th>\n",
       "      <th>torque_db</th>\n",
       "      <th>compression_db</th>\n",
       "      <th>cooling_system_db</th>\n",
       "      <th>dry_weight_db</th>\n",
       "      <th>power/weight_ratio_db</th>\n",
       "      <th>model_size_db</th>\n",
       "      <th>model_size_inv_db</th>\n",
       "    </tr>\n",
       "  </thead>\n",
       "  <tbody>\n",
       "    <tr>\n",
       "      <th>0</th>\n",
       "      <td>0</td>\n",
       "      <td>ajs</td>\n",
       "      <td>model8</td>\n",
       "      <td>8model</td>\n",
       "      <td>model8350</td>\n",
       "      <td>3508model</td>\n",
       "      <td>1962</td>\n",
       "      <td>sport</td>\n",
       "      <td>single cylinder</td>\n",
       "      <td>348.0</td>\n",
       "      <td>21.0</td>\n",
       "      <td>NaN</td>\n",
       "      <td>7.5:1</td>\n",
       "      <td>Air</td>\n",
       "      <td>153.0</td>\n",
       "      <td>0.1373</td>\n",
       "      <td>model8348</td>\n",
       "      <td>model8348</td>\n",
       "    </tr>\n",
       "    <tr>\n",
       "      <th>1</th>\n",
       "      <td>1</td>\n",
       "      <td>veli</td>\n",
       "      <td>NaN</td>\n",
       "      <td>NaN</td>\n",
       "      <td>vl110gys</td>\n",
       "      <td>110gysupervl110gys</td>\n",
       "      <td>2007</td>\n",
       "      <td>minibike, cross</td>\n",
       "      <td>single cylinder</td>\n",
       "      <td>110.0</td>\n",
       "      <td>6.7</td>\n",
       "      <td>7.5</td>\n",
       "      <td>10.5:1</td>\n",
       "      <td>Air</td>\n",
       "      <td>46.0</td>\n",
       "      <td>0.1457</td>\n",
       "      <td>nan110</td>\n",
       "      <td>nan110</td>\n",
       "    </tr>\n",
       "    <tr>\n",
       "      <th>2</th>\n",
       "      <td>2</td>\n",
       "      <td>puch</td>\n",
       "      <td>350hwe</td>\n",
       "      <td>hwe350</td>\n",
       "      <td>350hwesafari</td>\n",
       "      <td>safarihwe350</td>\n",
       "      <td>1988</td>\n",
       "      <td>speedway</td>\n",
       "      <td>single cylinder</td>\n",
       "      <td>347.0</td>\n",
       "      <td>27.0</td>\n",
       "      <td>NaN</td>\n",
       "      <td>9.2:1</td>\n",
       "      <td>Air</td>\n",
       "      <td>NaN</td>\n",
       "      <td>NaN</td>\n",
       "      <td>350hwe347</td>\n",
       "      <td>350hwe347</td>\n",
       "    </tr>\n",
       "    <tr>\n",
       "      <th>3</th>\n",
       "      <td>3</td>\n",
       "      <td>puch</td>\n",
       "      <td>gs560</td>\n",
       "      <td>560gs</td>\n",
       "      <td>gs560f4t</td>\n",
       "      <td>t4f560gs</td>\n",
       "      <td>1986</td>\n",
       "      <td>unspecified category</td>\n",
       "      <td>single cylinder</td>\n",
       "      <td>562.0</td>\n",
       "      <td>27.0</td>\n",
       "      <td>NaN</td>\n",
       "      <td>9.2:1</td>\n",
       "      <td>Air</td>\n",
       "      <td>NaN</td>\n",
       "      <td>NaN</td>\n",
       "      <td>gs560562</td>\n",
       "      <td>gs560562</td>\n",
       "    </tr>\n",
       "    <tr>\n",
       "      <th>4</th>\n",
       "      <td>4</td>\n",
       "      <td>yamaha</td>\n",
       "      <td>xmax125</td>\n",
       "      <td>125xmax</td>\n",
       "      <td>xmax125sport</td>\n",
       "      <td>sport125xmax</td>\n",
       "      <td>2011</td>\n",
       "      <td>scooter</td>\n",
       "      <td>single cylinder</td>\n",
       "      <td>124.7</td>\n",
       "      <td>14.0</td>\n",
       "      <td>11.3</td>\n",
       "      <td>11.2:1</td>\n",
       "      <td>Liquid</td>\n",
       "      <td>NaN</td>\n",
       "      <td>NaN</td>\n",
       "      <td>xmax125124.7</td>\n",
       "      <td>xmax125124.7</td>\n",
       "    </tr>\n",
       "  </tbody>\n",
       "</table>\n",
       "</div>"
      ],
      "text/plain": [
       "   Unnamed: 0 brand_db model_db model_inv_db model_submodel_db  \\\n",
       "0           0      ajs   model8       8model         model8350   \n",
       "1           1     veli      NaN          NaN          vl110gys   \n",
       "2           2     puch   350hwe       hwe350      350hwesafari   \n",
       "3           3     puch    gs560        560gs          gs560f4t   \n",
       "4           4   yamaha  xmax125      125xmax      xmax125sport   \n",
       "\n",
       "  model_submodel_inv_db  year_db           category_db   engine_type_db  \\\n",
       "0             3508model     1962                 sport  single cylinder   \n",
       "1    110gysupervl110gys     2007       minibike, cross  single cylinder   \n",
       "2          safarihwe350     1988              speedway  single cylinder   \n",
       "3              t4f560gs     1986  unspecified category  single cylinder   \n",
       "4          sport125xmax     2011               scooter  single cylinder   \n",
       "\n",
       "   engine_size_db  power_db  torque_db compression_db cooling_system_db  \\\n",
       "0           348.0      21.0        NaN          7.5:1               Air   \n",
       "1           110.0       6.7        7.5         10.5:1               Air   \n",
       "2           347.0      27.0        NaN          9.2:1               Air   \n",
       "3           562.0      27.0        NaN          9.2:1               Air   \n",
       "4           124.7      14.0       11.3         11.2:1            Liquid   \n",
       "\n",
       "   dry_weight_db  power/weight_ratio_db model_size_db model_size_inv_db  \n",
       "0          153.0                 0.1373     model8348         model8348  \n",
       "1           46.0                 0.1457        nan110            nan110  \n",
       "2            NaN                    NaN     350hwe347         350hwe347  \n",
       "3            NaN                    NaN      gs560562          gs560562  \n",
       "4            NaN                    NaN  xmax125124.7      xmax125124.7  "
      ]
     },
     "execution_count": 15,
     "metadata": {},
     "output_type": "execute_result"
    }
   ],
   "source": [
    "motorcycle_database = pd.read_csv('motorcycle_database/bikez.csv')\n",
    "#motorcycle_database.drop(columns='unnamed 0',inplace=True)\n",
    "motorcycle_database.head()"
   ]
  },
  {
   "cell_type": "code",
   "execution_count": 16,
   "id": "d81e7298",
   "metadata": {},
   "outputs": [
    {
     "data": {
      "text/plain": [
       "(35036, 18)"
      ]
     },
     "execution_count": 16,
     "metadata": {},
     "output_type": "execute_result"
    }
   ],
   "source": [
    "motorcycle_database.shape"
   ]
  },
  {
   "cell_type": "code",
   "execution_count": 17,
   "id": "44f4c6cf",
   "metadata": {},
   "outputs": [
    {
     "data": {
      "text/plain": [
       "(7407, 18)"
      ]
     },
     "execution_count": 17,
     "metadata": {},
     "output_type": "execute_result"
    }
   ],
   "source": [
    "motorcycle_database_model = motorcycle_database.copy()\n",
    "motorcycle_database_model.drop_duplicates(subset=['brand_db','model_db'],inplace=True)\n",
    "motorcycle_database_model.shape"
   ]
  },
  {
   "cell_type": "code",
   "execution_count": 18,
   "id": "12b37cdc",
   "metadata": {},
   "outputs": [
    {
     "data": {
      "text/plain": [
       "(7433, 18)"
      ]
     },
     "execution_count": 18,
     "metadata": {},
     "output_type": "execute_result"
    }
   ],
   "source": [
    "motorcycle_database_model_inv = motorcycle_database.copy()\n",
    "motorcycle_database_model_inv.drop_duplicates(subset=['brand_db','model_inv_db'],inplace=True)\n",
    "motorcycle_database_model_inv.shape"
   ]
  },
  {
   "cell_type": "code",
   "execution_count": 19,
   "id": "ded960c4",
   "metadata": {},
   "outputs": [
    {
     "data": {
      "text/plain": [
       "(15846, 18)"
      ]
     },
     "execution_count": 19,
     "metadata": {},
     "output_type": "execute_result"
    }
   ],
   "source": [
    "motorcycle_database_submodel = motorcycle_database.copy()\n",
    "motorcycle_database_submodel.drop_duplicates(subset=['brand_db','model_submodel_db'],inplace=True)\n",
    "motorcycle_database_submodel.shape"
   ]
  },
  {
   "cell_type": "code",
   "execution_count": 20,
   "id": "13459ae6",
   "metadata": {},
   "outputs": [
    {
     "data": {
      "text/plain": [
       "(16895, 18)"
      ]
     },
     "execution_count": 20,
     "metadata": {},
     "output_type": "execute_result"
    }
   ],
   "source": [
    "motorcycle_database_submodel_inv = motorcycle_database.copy()\n",
    "motorcycle_database_submodel_inv.drop_duplicates(subset=['brand_db','model_submodel_inv_db'],inplace=True)\n",
    "motorcycle_database_submodel_inv.shape"
   ]
  },
  {
   "cell_type": "code",
   "execution_count": 21,
   "id": "d5b0c223",
   "metadata": {},
   "outputs": [
    {
     "data": {
      "text/plain": [
       "(10669, 18)"
      ]
     },
     "execution_count": 21,
     "metadata": {},
     "output_type": "execute_result"
    }
   ],
   "source": [
    "motorcycle_database_model_size = motorcycle_database.copy()\n",
    "motorcycle_database_model_size.drop_duplicates(subset=['brand_db','model_size_db'],inplace=True)\n",
    "motorcycle_database_model_size.shape"
   ]
  },
  {
   "cell_type": "code",
   "execution_count": 22,
   "id": "20b17b85",
   "metadata": {},
   "outputs": [
    {
     "data": {
      "text/plain": [
       "(10669, 18)"
      ]
     },
     "execution_count": 22,
     "metadata": {},
     "output_type": "execute_result"
    }
   ],
   "source": [
    "motorcycle_database_model_size_inv = motorcycle_database.copy()\n",
    "motorcycle_database_model_size_inv.drop_duplicates(subset=['brand_db','model_size_inv_db'],inplace=True)\n",
    "motorcycle_database_model_size_inv.shape"
   ]
  },
  {
   "cell_type": "markdown",
   "id": "362aa6d2",
   "metadata": {},
   "source": [
    "## merged from motorcycle database"
   ]
  },
  {
   "cell_type": "code",
   "execution_count": 23,
   "id": "ff634d49",
   "metadata": {},
   "outputs": [
    {
     "data": {
      "text/plain": [
       "(10920, 43)"
      ]
     },
     "execution_count": 23,
     "metadata": {},
     "output_type": "execute_result"
    }
   ],
   "source": [
    "data_model = data_model.merge(\n",
    "    motorcycle_database_model, \n",
    "    how='left', \n",
    "    left_on=['fuzzy_brand', 'fuzzy_model'], \n",
    "    right_on=['brand_db', 'model_db'])\n",
    "\n",
    "data_model.shape"
   ]
  },
  {
   "cell_type": "code",
   "execution_count": 24,
   "id": "a9b20203",
   "metadata": {},
   "outputs": [
    {
     "data": {
      "text/plain": [
       "(353, 43)"
      ]
     },
     "execution_count": 24,
     "metadata": {},
     "output_type": "execute_result"
    }
   ],
   "source": [
    "data_model_inv = data_model_inv.merge(\n",
    "    motorcycle_database_model_inv, \n",
    "    how='left', \n",
    "    left_on=['fuzzy_brand', 'fuzzy_model_inv'], \n",
    "    right_on=['brand_db', 'model_inv_db'])\n",
    "\n",
    "data_model_inv.shape"
   ]
  },
  {
   "cell_type": "code",
   "execution_count": 25,
   "id": "f0d4a27c",
   "metadata": {},
   "outputs": [
    {
     "data": {
      "text/plain": [
       "(6169, 43)"
      ]
     },
     "execution_count": 25,
     "metadata": {},
     "output_type": "execute_result"
    }
   ],
   "source": [
    "data_submodel = data_submodel.merge(\n",
    "    motorcycle_database_submodel, \n",
    "    how='left', \n",
    "    left_on=['fuzzy_brand', 'fuzzy_submodel'], \n",
    "    right_on=['brand_db', 'model_submodel_db'])\n",
    "\n",
    "data_submodel.shape"
   ]
  },
  {
   "cell_type": "code",
   "execution_count": 26,
   "id": "cde9cca6",
   "metadata": {},
   "outputs": [
    {
     "data": {
      "text/plain": [
       "(540, 43)"
      ]
     },
     "execution_count": 26,
     "metadata": {},
     "output_type": "execute_result"
    }
   ],
   "source": [
    "data_submodel_inv = data_submodel_inv.merge(\n",
    "    motorcycle_database_submodel_inv, \n",
    "    how='left', \n",
    "    left_on=['fuzzy_brand', 'fuzzy_submodel_inv'], \n",
    "    right_on=['brand_db', 'model_submodel_inv_db'])\n",
    "\n",
    "data_submodel_inv.shape"
   ]
  },
  {
   "cell_type": "code",
   "execution_count": 27,
   "id": "89e736a3",
   "metadata": {},
   "outputs": [
    {
     "data": {
      "text/plain": [
       "(435, 43)"
      ]
     },
     "execution_count": 27,
     "metadata": {},
     "output_type": "execute_result"
    }
   ],
   "source": [
    "data_model_size = data_model_size.merge(\n",
    "    motorcycle_database_model_size, \n",
    "    how='left', \n",
    "    left_on=['fuzzy_brand', 'fuzzy_model_size'], \n",
    "    right_on=['brand_db', 'model_size_db'])\n",
    "\n",
    "data_model_size.shape"
   ]
  },
  {
   "cell_type": "code",
   "execution_count": 28,
   "id": "34f28d0f",
   "metadata": {
    "scrolled": true
   },
   "outputs": [
    {
     "data": {
      "text/plain": [
       "(0, 43)"
      ]
     },
     "execution_count": 28,
     "metadata": {},
     "output_type": "execute_result"
    }
   ],
   "source": [
    "data_model_size_inv = data_model_size_inv.merge(\n",
    "    motorcycle_database_model_size_inv, \n",
    "    how='left', \n",
    "    left_on=['fuzzy_brand', 'fuzzy_model_size_inv'], \n",
    "    right_on=['brand_db', 'model_size_inv_db'])\n",
    "\n",
    "data_model_size_inv.shape"
   ]
  },
  {
   "cell_type": "code",
   "execution_count": 29,
   "id": "7d68a1b2",
   "metadata": {
    "scrolled": true
   },
   "outputs": [
    {
     "data": {
      "text/html": [
       "<div>\n",
       "<style scoped>\n",
       "    .dataframe tbody tr th:only-of-type {\n",
       "        vertical-align: middle;\n",
       "    }\n",
       "\n",
       "    .dataframe tbody tr th {\n",
       "        vertical-align: top;\n",
       "    }\n",
       "\n",
       "    .dataframe thead th {\n",
       "        text-align: right;\n",
       "    }\n",
       "</style>\n",
       "<table border=\"1\" class=\"dataframe\">\n",
       "  <thead>\n",
       "    <tr style=\"text-align: right;\">\n",
       "      <th></th>\n",
       "      <th>url</th>\n",
       "      <th>uniq_id</th>\n",
       "      <th>brand</th>\n",
       "      <th>bike_year</th>\n",
       "      <th>mileage</th>\n",
       "      <th>bike_type</th>\n",
       "      <th>price</th>\n",
       "      <th>model</th>\n",
       "      <th>engine_size</th>\n",
       "      <th>date_scrapped</th>\n",
       "      <th>fuzzy_score</th>\n",
       "      <th>fuzzy_brand</th>\n",
       "      <th>fuzzy_model</th>\n",
       "      <th>fuzzy_model_score</th>\n",
       "      <th>fuzzy_model_inv</th>\n",
       "      <th>fuzzy_model_inv_score</th>\n",
       "      <th>fuzzy_submodel</th>\n",
       "      <th>fuzzy_submodel_score</th>\n",
       "      <th>fuzzy_submodel_inv</th>\n",
       "      <th>fuzzy_submodel_inv_score</th>\n",
       "      <th>fuzzy_model_size</th>\n",
       "      <th>fuzzy_model_size_score</th>\n",
       "      <th>fuzzy_model_size_inv</th>\n",
       "      <th>fuzzy_model_size_inv_score</th>\n",
       "      <th>is_best</th>\n",
       "      <th>Unnamed: 0</th>\n",
       "      <th>brand_db</th>\n",
       "      <th>model_db</th>\n",
       "      <th>model_inv_db</th>\n",
       "      <th>model_submodel_db</th>\n",
       "      <th>model_submodel_inv_db</th>\n",
       "      <th>year_db</th>\n",
       "      <th>category_db</th>\n",
       "      <th>engine_type_db</th>\n",
       "      <th>engine_size_db</th>\n",
       "      <th>power_db</th>\n",
       "      <th>torque_db</th>\n",
       "      <th>compression_db</th>\n",
       "      <th>cooling_system_db</th>\n",
       "      <th>dry_weight_db</th>\n",
       "      <th>power/weight_ratio_db</th>\n",
       "      <th>model_size_db</th>\n",
       "      <th>model_size_inv_db</th>\n",
       "    </tr>\n",
       "  </thead>\n",
       "  <tbody>\n",
       "    <tr>\n",
       "      <th>0</th>\n",
       "      <td>https://www.motoplanete.com/occasion-moto/3764...</td>\n",
       "      <td>motoplanete-37642</td>\n",
       "      <td>kawasaki</td>\n",
       "      <td>2021</td>\n",
       "      <td>476.0</td>\n",
       "      <td>Trail</td>\n",
       "      <td>16999.0</td>\n",
       "      <td>versys10002020</td>\n",
       "      <td>1000.0</td>\n",
       "      <td>2021/06/04 - 22h18</td>\n",
       "      <td>100.0</td>\n",
       "      <td>kawasaki</td>\n",
       "      <td>100</td>\n",
       "      <td>90.0</td>\n",
       "      <td>100</td>\n",
       "      <td>90.0</td>\n",
       "      <td>versys</td>\n",
       "      <td>90.0</td>\n",
       "      <td>versys</td>\n",
       "      <td>90.0</td>\n",
       "      <td>versys10001043</td>\n",
       "      <td>78.57142857142857</td>\n",
       "      <td>versys10001043</td>\n",
       "      <td>78.57142857142857</td>\n",
       "      <td>0</td>\n",
       "      <td>6405.0</td>\n",
       "      <td>kawasaki</td>\n",
       "      <td>100</td>\n",
       "      <td>100</td>\n",
       "      <td>1000gtr</td>\n",
       "      <td>gtr1000</td>\n",
       "      <td>1990.0</td>\n",
       "      <td>sport touring</td>\n",
       "      <td>in-line four</td>\n",
       "      <td>997.0</td>\n",
       "      <td>92.0</td>\n",
       "      <td>NaN</td>\n",
       "      <td>10.2:1</td>\n",
       "      <td>Liquid</td>\n",
       "      <td>NaN</td>\n",
       "      <td>NaN</td>\n",
       "      <td>100997</td>\n",
       "      <td>100997</td>\n",
       "    </tr>\n",
       "    <tr>\n",
       "      <th>1</th>\n",
       "      <td>https://www.motoplanete.com/occasion-moto/1139...</td>\n",
       "      <td>motoplanete-11392</td>\n",
       "      <td>yamaha</td>\n",
       "      <td>2019</td>\n",
       "      <td>2500.0</td>\n",
       "      <td>Routière &amp; GT</td>\n",
       "      <td>13490.0</td>\n",
       "      <td>niken</td>\n",
       "      <td>847.0</td>\n",
       "      <td>2021/06/04 - 22h18</td>\n",
       "      <td>100.0</td>\n",
       "      <td>yamaha</td>\n",
       "      <td>niken</td>\n",
       "      <td>100.0</td>\n",
       "      <td>niken</td>\n",
       "      <td>100.0</td>\n",
       "      <td>niken</td>\n",
       "      <td>100.0</td>\n",
       "      <td>niken</td>\n",
       "      <td>100.0</td>\n",
       "      <td>niken847</td>\n",
       "      <td>90.0</td>\n",
       "      <td>niken847</td>\n",
       "      <td>90.0</td>\n",
       "      <td>0</td>\n",
       "      <td>22498.0</td>\n",
       "      <td>yamaha</td>\n",
       "      <td>niken</td>\n",
       "      <td>niken</td>\n",
       "      <td>niken</td>\n",
       "      <td>niken</td>\n",
       "      <td>2018.0</td>\n",
       "      <td>naked bike</td>\n",
       "      <td>in-line three</td>\n",
       "      <td>847.0</td>\n",
       "      <td>115.0</td>\n",
       "      <td>61.5</td>\n",
       "      <td>11.5:1</td>\n",
       "      <td>Liquid</td>\n",
       "      <td>NaN</td>\n",
       "      <td>NaN</td>\n",
       "      <td>niken847</td>\n",
       "      <td>niken847</td>\n",
       "    </tr>\n",
       "    <tr>\n",
       "      <th>2</th>\n",
       "      <td>https://www.motoplanete.com/occasion-moto/1536...</td>\n",
       "      <td>motoplanete-15360</td>\n",
       "      <td>yamaha</td>\n",
       "      <td>2016</td>\n",
       "      <td>2600.0</td>\n",
       "      <td>Custom</td>\n",
       "      <td>8500.0</td>\n",
       "      <td>xv950bolt</td>\n",
       "      <td>950.0</td>\n",
       "      <td>2021/06/04 - 22h18</td>\n",
       "      <td>100.0</td>\n",
       "      <td>yamaha</td>\n",
       "      <td>bolt</td>\n",
       "      <td>90.0</td>\n",
       "      <td>bolt</td>\n",
       "      <td>90.0</td>\n",
       "      <td>bolt</td>\n",
       "      <td>90.0</td>\n",
       "      <td>bolt</td>\n",
       "      <td>90.0</td>\n",
       "      <td>xvs950942</td>\n",
       "      <td>55.55555555555556</td>\n",
       "      <td>xvs950942</td>\n",
       "      <td>55.55555555555556</td>\n",
       "      <td>0</td>\n",
       "      <td>3258.0</td>\n",
       "      <td>yamaha</td>\n",
       "      <td>bolt</td>\n",
       "      <td>bolt</td>\n",
       "      <td>boltrspec</td>\n",
       "      <td>rspecbolt</td>\n",
       "      <td>2021.0</td>\n",
       "      <td>custom / cruiser</td>\n",
       "      <td>v2</td>\n",
       "      <td>942.0</td>\n",
       "      <td>NaN</td>\n",
       "      <td>80.4</td>\n",
       "      <td>9.0:1</td>\n",
       "      <td>Air</td>\n",
       "      <td>NaN</td>\n",
       "      <td>NaN</td>\n",
       "      <td>bolt942</td>\n",
       "      <td>bolt942</td>\n",
       "    </tr>\n",
       "    <tr>\n",
       "      <th>3</th>\n",
       "      <td>https://www.motoplanete.com/occasion-moto/4082...</td>\n",
       "      <td>motoplanete-40822</td>\n",
       "      <td>kawasaki</td>\n",
       "      <td>2009</td>\n",
       "      <td>20000.0</td>\n",
       "      <td>Routière &amp; GT</td>\n",
       "      <td>8490.0</td>\n",
       "      <td>zzr</td>\n",
       "      <td>1400.0</td>\n",
       "      <td>2021/06/04 - 22h18</td>\n",
       "      <td>100.0</td>\n",
       "      <td>kawasaki</td>\n",
       "      <td>zzr1400</td>\n",
       "      <td>90.0</td>\n",
       "      <td>1400zzr</td>\n",
       "      <td>90.0</td>\n",
       "      <td>zzr600</td>\n",
       "      <td>90.0</td>\n",
       "      <td>600zzr</td>\n",
       "      <td>90.0</td>\n",
       "      <td>zzr14001441</td>\n",
       "      <td>90.0</td>\n",
       "      <td>zzr14001441</td>\n",
       "      <td>90.0</td>\n",
       "      <td>0</td>\n",
       "      <td>1203.0</td>\n",
       "      <td>kawasaki</td>\n",
       "      <td>zzr1400</td>\n",
       "      <td>1400zzr</td>\n",
       "      <td>zzr1400performancesport</td>\n",
       "      <td>sportperformance1400zzr</td>\n",
       "      <td>2015.0</td>\n",
       "      <td>sport</td>\n",
       "      <td>in-line four</td>\n",
       "      <td>1441.0</td>\n",
       "      <td>200.0</td>\n",
       "      <td>162.5</td>\n",
       "      <td>12.3:1</td>\n",
       "      <td>Liquid</td>\n",
       "      <td>NaN</td>\n",
       "      <td>NaN</td>\n",
       "      <td>zzr14001441</td>\n",
       "      <td>zzr14001441</td>\n",
       "    </tr>\n",
       "    <tr>\n",
       "      <th>4</th>\n",
       "      <td>https://www.motoplanete.com/occasion-moto/3248...</td>\n",
       "      <td>motoplanete-32485</td>\n",
       "      <td>harleydavidson</td>\n",
       "      <td>2014</td>\n",
       "      <td>11500.0</td>\n",
       "      <td>Custom</td>\n",
       "      <td>17200.0</td>\n",
       "      <td>softailslim</td>\n",
       "      <td>1584.0</td>\n",
       "      <td>2021/06/04 - 22h18</td>\n",
       "      <td>100.0</td>\n",
       "      <td>harleydavidson</td>\n",
       "      <td>softailslim</td>\n",
       "      <td>100.0</td>\n",
       "      <td>softail</td>\n",
       "      <td>90.0</td>\n",
       "      <td>softailslim</td>\n",
       "      <td>100.0</td>\n",
       "      <td>effectreducedsoftailspringer1340</td>\n",
       "      <td>73.63636363636364</td>\n",
       "      <td>softailslim1801</td>\n",
       "      <td>84.61538461538461</td>\n",
       "      <td>softailslim1801</td>\n",
       "      <td>84.61538461538461</td>\n",
       "      <td>0</td>\n",
       "      <td>1747.0</td>\n",
       "      <td>harleydavidson</td>\n",
       "      <td>softailslim</td>\n",
       "      <td>slimsoftail</td>\n",
       "      <td>softailslims</td>\n",
       "      <td>sslimsoftail</td>\n",
       "      <td>2016.0</td>\n",
       "      <td>custom / cruiser</td>\n",
       "      <td>v2</td>\n",
       "      <td>1801.0</td>\n",
       "      <td>92.5</td>\n",
       "      <td>145.0</td>\n",
       "      <td>9.5:1</td>\n",
       "      <td>Air</td>\n",
       "      <td>308.0</td>\n",
       "      <td>0.3003</td>\n",
       "      <td>softailslim1801</td>\n",
       "      <td>softailslim1801</td>\n",
       "    </tr>\n",
       "  </tbody>\n",
       "</table>\n",
       "</div>"
      ],
      "text/plain": [
       "                                                 url            uniq_id  \\\n",
       "0  https://www.motoplanete.com/occasion-moto/3764...  motoplanete-37642   \n",
       "1  https://www.motoplanete.com/occasion-moto/1139...  motoplanete-11392   \n",
       "2  https://www.motoplanete.com/occasion-moto/1536...  motoplanete-15360   \n",
       "3  https://www.motoplanete.com/occasion-moto/4082...  motoplanete-40822   \n",
       "4  https://www.motoplanete.com/occasion-moto/3248...  motoplanete-32485   \n",
       "\n",
       "            brand  bike_year  mileage      bike_type    price           model  \\\n",
       "0        kawasaki       2021    476.0          Trail  16999.0  versys10002020   \n",
       "1          yamaha       2019   2500.0  Routière & GT  13490.0           niken   \n",
       "2          yamaha       2016   2600.0         Custom   8500.0       xv950bolt   \n",
       "3        kawasaki       2009  20000.0  Routière & GT   8490.0             zzr   \n",
       "4  harleydavidson       2014  11500.0         Custom  17200.0     softailslim   \n",
       "\n",
       "   engine_size       date_scrapped  fuzzy_score     fuzzy_brand  fuzzy_model  \\\n",
       "0       1000.0  2021/06/04 - 22h18        100.0        kawasaki          100   \n",
       "1        847.0  2021/06/04 - 22h18        100.0          yamaha        niken   \n",
       "2        950.0  2021/06/04 - 22h18        100.0          yamaha         bolt   \n",
       "3       1400.0  2021/06/04 - 22h18        100.0        kawasaki      zzr1400   \n",
       "4       1584.0  2021/06/04 - 22h18        100.0  harleydavidson  softailslim   \n",
       "\n",
       "  fuzzy_model_score fuzzy_model_inv fuzzy_model_inv_score fuzzy_submodel  \\\n",
       "0              90.0             100                  90.0         versys   \n",
       "1             100.0           niken                 100.0          niken   \n",
       "2              90.0            bolt                  90.0           bolt   \n",
       "3              90.0         1400zzr                  90.0         zzr600   \n",
       "4             100.0         softail                  90.0    softailslim   \n",
       "\n",
       "  fuzzy_submodel_score                fuzzy_submodel_inv  \\\n",
       "0                 90.0                            versys   \n",
       "1                100.0                             niken   \n",
       "2                 90.0                              bolt   \n",
       "3                 90.0                            600zzr   \n",
       "4                100.0  effectreducedsoftailspringer1340   \n",
       "\n",
       "  fuzzy_submodel_inv_score fuzzy_model_size fuzzy_model_size_score  \\\n",
       "0                     90.0   versys10001043      78.57142857142857   \n",
       "1                    100.0         niken847                   90.0   \n",
       "2                     90.0        xvs950942      55.55555555555556   \n",
       "3                     90.0      zzr14001441                   90.0   \n",
       "4        73.63636363636364  softailslim1801      84.61538461538461   \n",
       "\n",
       "  fuzzy_model_size_inv fuzzy_model_size_inv_score  is_best  Unnamed: 0  \\\n",
       "0       versys10001043          78.57142857142857        0      6405.0   \n",
       "1             niken847                       90.0        0     22498.0   \n",
       "2            xvs950942          55.55555555555556        0      3258.0   \n",
       "3          zzr14001441                       90.0        0      1203.0   \n",
       "4      softailslim1801          84.61538461538461        0      1747.0   \n",
       "\n",
       "         brand_db     model_db model_inv_db        model_submodel_db  \\\n",
       "0        kawasaki          100          100                  1000gtr   \n",
       "1          yamaha        niken        niken                    niken   \n",
       "2          yamaha         bolt         bolt                boltrspec   \n",
       "3        kawasaki      zzr1400      1400zzr  zzr1400performancesport   \n",
       "4  harleydavidson  softailslim  slimsoftail             softailslims   \n",
       "\n",
       "     model_submodel_inv_db  year_db       category_db engine_type_db  \\\n",
       "0                  gtr1000   1990.0     sport touring   in-line four   \n",
       "1                    niken   2018.0        naked bike  in-line three   \n",
       "2                rspecbolt   2021.0  custom / cruiser             v2   \n",
       "3  sportperformance1400zzr   2015.0             sport   in-line four   \n",
       "4             sslimsoftail   2016.0  custom / cruiser             v2   \n",
       "\n",
       "   engine_size_db  power_db  torque_db compression_db cooling_system_db  \\\n",
       "0           997.0      92.0        NaN         10.2:1            Liquid   \n",
       "1           847.0     115.0       61.5         11.5:1            Liquid   \n",
       "2           942.0       NaN       80.4          9.0:1               Air   \n",
       "3          1441.0     200.0      162.5         12.3:1            Liquid   \n",
       "4          1801.0      92.5      145.0          9.5:1               Air   \n",
       "\n",
       "   dry_weight_db  power/weight_ratio_db    model_size_db model_size_inv_db  \n",
       "0            NaN                    NaN           100997            100997  \n",
       "1            NaN                    NaN         niken847          niken847  \n",
       "2            NaN                    NaN          bolt942           bolt942  \n",
       "3            NaN                    NaN      zzr14001441       zzr14001441  \n",
       "4          308.0                 0.3003  softailslim1801   softailslim1801  "
      ]
     },
     "execution_count": 29,
     "metadata": {},
     "output_type": "execute_result"
    }
   ],
   "source": [
    "data = data_model.append(data_model_inv)\n",
    "data = data.append(data_submodel)\n",
    "data = data.append(data_submodel_inv)\n",
    "data = data.append(data_model_size)\n",
    "data = data.append(data_model_size_inv)\n",
    "data.reset_index(drop=True)\n",
    "data.head()"
   ]
  },
  {
   "cell_type": "code",
   "execution_count": 30,
   "id": "1c15ce14",
   "metadata": {},
   "outputs": [
    {
     "data": {
      "text/plain": [
       "(18417, 43)"
      ]
     },
     "execution_count": 30,
     "metadata": {},
     "output_type": "execute_result"
    }
   ],
   "source": [
    "data.shape"
   ]
  },
  {
   "cell_type": "code",
   "execution_count": 31,
   "id": "d379fda5",
   "metadata": {},
   "outputs": [
    {
     "data": {
      "text/html": [
       "<div>\n",
       "<style scoped>\n",
       "    .dataframe tbody tr th:only-of-type {\n",
       "        vertical-align: middle;\n",
       "    }\n",
       "\n",
       "    .dataframe tbody tr th {\n",
       "        vertical-align: top;\n",
       "    }\n",
       "\n",
       "    .dataframe thead th {\n",
       "        text-align: right;\n",
       "    }\n",
       "</style>\n",
       "<table border=\"1\" class=\"dataframe\">\n",
       "  <thead>\n",
       "    <tr style=\"text-align: right;\">\n",
       "      <th></th>\n",
       "      <th>url</th>\n",
       "      <th>uniq_id</th>\n",
       "      <th>brand</th>\n",
       "      <th>bike_year</th>\n",
       "      <th>mileage</th>\n",
       "      <th>bike_type</th>\n",
       "      <th>price</th>\n",
       "      <th>model</th>\n",
       "      <th>engine_size</th>\n",
       "      <th>date_scrapped</th>\n",
       "      <th>Unnamed: 0</th>\n",
       "      <th>brand_db</th>\n",
       "      <th>model_db</th>\n",
       "      <th>model_submodel_db</th>\n",
       "      <th>year_db</th>\n",
       "      <th>category_db</th>\n",
       "      <th>engine_type_db</th>\n",
       "      <th>engine_size_db</th>\n",
       "      <th>power_db</th>\n",
       "      <th>torque_db</th>\n",
       "      <th>compression_db</th>\n",
       "      <th>cooling_system_db</th>\n",
       "      <th>dry_weight_db</th>\n",
       "      <th>power/weight_ratio_db</th>\n",
       "    </tr>\n",
       "  </thead>\n",
       "  <tbody>\n",
       "    <tr>\n",
       "      <th>0</th>\n",
       "      <td>https://www.motoplanete.com/occasion-moto/3764...</td>\n",
       "      <td>motoplanete-37642</td>\n",
       "      <td>kawasaki</td>\n",
       "      <td>2021</td>\n",
       "      <td>476.0</td>\n",
       "      <td>Trail</td>\n",
       "      <td>16999.0</td>\n",
       "      <td>versys10002020</td>\n",
       "      <td>1000.0</td>\n",
       "      <td>2021/06/04 - 22h18</td>\n",
       "      <td>6405.0</td>\n",
       "      <td>kawasaki</td>\n",
       "      <td>100</td>\n",
       "      <td>1000gtr</td>\n",
       "      <td>1990.0</td>\n",
       "      <td>sport touring</td>\n",
       "      <td>in-line four</td>\n",
       "      <td>997.0</td>\n",
       "      <td>92.0</td>\n",
       "      <td>NaN</td>\n",
       "      <td>10.2:1</td>\n",
       "      <td>Liquid</td>\n",
       "      <td>NaN</td>\n",
       "      <td>NaN</td>\n",
       "    </tr>\n",
       "    <tr>\n",
       "      <th>1</th>\n",
       "      <td>https://www.motoplanete.com/occasion-moto/1139...</td>\n",
       "      <td>motoplanete-11392</td>\n",
       "      <td>yamaha</td>\n",
       "      <td>2019</td>\n",
       "      <td>2500.0</td>\n",
       "      <td>Routière &amp; GT</td>\n",
       "      <td>13490.0</td>\n",
       "      <td>niken</td>\n",
       "      <td>847.0</td>\n",
       "      <td>2021/06/04 - 22h18</td>\n",
       "      <td>22498.0</td>\n",
       "      <td>yamaha</td>\n",
       "      <td>niken</td>\n",
       "      <td>niken</td>\n",
       "      <td>2018.0</td>\n",
       "      <td>naked bike</td>\n",
       "      <td>in-line three</td>\n",
       "      <td>847.0</td>\n",
       "      <td>115.0</td>\n",
       "      <td>61.5</td>\n",
       "      <td>11.5:1</td>\n",
       "      <td>Liquid</td>\n",
       "      <td>NaN</td>\n",
       "      <td>NaN</td>\n",
       "    </tr>\n",
       "    <tr>\n",
       "      <th>2</th>\n",
       "      <td>https://www.motoplanete.com/occasion-moto/1536...</td>\n",
       "      <td>motoplanete-15360</td>\n",
       "      <td>yamaha</td>\n",
       "      <td>2016</td>\n",
       "      <td>2600.0</td>\n",
       "      <td>Custom</td>\n",
       "      <td>8500.0</td>\n",
       "      <td>xv950bolt</td>\n",
       "      <td>950.0</td>\n",
       "      <td>2021/06/04 - 22h18</td>\n",
       "      <td>3258.0</td>\n",
       "      <td>yamaha</td>\n",
       "      <td>bolt</td>\n",
       "      <td>boltrspec</td>\n",
       "      <td>2021.0</td>\n",
       "      <td>custom / cruiser</td>\n",
       "      <td>v2</td>\n",
       "      <td>942.0</td>\n",
       "      <td>NaN</td>\n",
       "      <td>80.4</td>\n",
       "      <td>9.0:1</td>\n",
       "      <td>Air</td>\n",
       "      <td>NaN</td>\n",
       "      <td>NaN</td>\n",
       "    </tr>\n",
       "    <tr>\n",
       "      <th>3</th>\n",
       "      <td>https://www.motoplanete.com/occasion-moto/4082...</td>\n",
       "      <td>motoplanete-40822</td>\n",
       "      <td>kawasaki</td>\n",
       "      <td>2009</td>\n",
       "      <td>20000.0</td>\n",
       "      <td>Routière &amp; GT</td>\n",
       "      <td>8490.0</td>\n",
       "      <td>zzr</td>\n",
       "      <td>1400.0</td>\n",
       "      <td>2021/06/04 - 22h18</td>\n",
       "      <td>1203.0</td>\n",
       "      <td>kawasaki</td>\n",
       "      <td>zzr1400</td>\n",
       "      <td>zzr1400performancesport</td>\n",
       "      <td>2015.0</td>\n",
       "      <td>sport</td>\n",
       "      <td>in-line four</td>\n",
       "      <td>1441.0</td>\n",
       "      <td>200.0</td>\n",
       "      <td>162.5</td>\n",
       "      <td>12.3:1</td>\n",
       "      <td>Liquid</td>\n",
       "      <td>NaN</td>\n",
       "      <td>NaN</td>\n",
       "    </tr>\n",
       "    <tr>\n",
       "      <th>4</th>\n",
       "      <td>https://www.motoplanete.com/occasion-moto/3248...</td>\n",
       "      <td>motoplanete-32485</td>\n",
       "      <td>harleydavidson</td>\n",
       "      <td>2014</td>\n",
       "      <td>11500.0</td>\n",
       "      <td>Custom</td>\n",
       "      <td>17200.0</td>\n",
       "      <td>softailslim</td>\n",
       "      <td>1584.0</td>\n",
       "      <td>2021/06/04 - 22h18</td>\n",
       "      <td>1747.0</td>\n",
       "      <td>harleydavidson</td>\n",
       "      <td>softailslim</td>\n",
       "      <td>softailslims</td>\n",
       "      <td>2016.0</td>\n",
       "      <td>custom / cruiser</td>\n",
       "      <td>v2</td>\n",
       "      <td>1801.0</td>\n",
       "      <td>92.5</td>\n",
       "      <td>145.0</td>\n",
       "      <td>9.5:1</td>\n",
       "      <td>Air</td>\n",
       "      <td>308.0</td>\n",
       "      <td>0.3003</td>\n",
       "    </tr>\n",
       "  </tbody>\n",
       "</table>\n",
       "</div>"
      ],
      "text/plain": [
       "                                                 url            uniq_id  \\\n",
       "0  https://www.motoplanete.com/occasion-moto/3764...  motoplanete-37642   \n",
       "1  https://www.motoplanete.com/occasion-moto/1139...  motoplanete-11392   \n",
       "2  https://www.motoplanete.com/occasion-moto/1536...  motoplanete-15360   \n",
       "3  https://www.motoplanete.com/occasion-moto/4082...  motoplanete-40822   \n",
       "4  https://www.motoplanete.com/occasion-moto/3248...  motoplanete-32485   \n",
       "\n",
       "            brand  bike_year  mileage      bike_type    price           model  \\\n",
       "0        kawasaki       2021    476.0          Trail  16999.0  versys10002020   \n",
       "1          yamaha       2019   2500.0  Routière & GT  13490.0           niken   \n",
       "2          yamaha       2016   2600.0         Custom   8500.0       xv950bolt   \n",
       "3        kawasaki       2009  20000.0  Routière & GT   8490.0             zzr   \n",
       "4  harleydavidson       2014  11500.0         Custom  17200.0     softailslim   \n",
       "\n",
       "   engine_size       date_scrapped  Unnamed: 0        brand_db     model_db  \\\n",
       "0       1000.0  2021/06/04 - 22h18      6405.0        kawasaki          100   \n",
       "1        847.0  2021/06/04 - 22h18     22498.0          yamaha        niken   \n",
       "2        950.0  2021/06/04 - 22h18      3258.0          yamaha         bolt   \n",
       "3       1400.0  2021/06/04 - 22h18      1203.0        kawasaki      zzr1400   \n",
       "4       1584.0  2021/06/04 - 22h18      1747.0  harleydavidson  softailslim   \n",
       "\n",
       "         model_submodel_db  year_db       category_db engine_type_db  \\\n",
       "0                  1000gtr   1990.0     sport touring   in-line four   \n",
       "1                    niken   2018.0        naked bike  in-line three   \n",
       "2                boltrspec   2021.0  custom / cruiser             v2   \n",
       "3  zzr1400performancesport   2015.0             sport   in-line four   \n",
       "4             softailslims   2016.0  custom / cruiser             v2   \n",
       "\n",
       "   engine_size_db  power_db  torque_db compression_db cooling_system_db  \\\n",
       "0           997.0      92.0        NaN         10.2:1            Liquid   \n",
       "1           847.0     115.0       61.5         11.5:1            Liquid   \n",
       "2           942.0       NaN       80.4          9.0:1               Air   \n",
       "3          1441.0     200.0      162.5         12.3:1            Liquid   \n",
       "4          1801.0      92.5      145.0          9.5:1               Air   \n",
       "\n",
       "   dry_weight_db  power/weight_ratio_db  \n",
       "0            NaN                    NaN  \n",
       "1            NaN                    NaN  \n",
       "2            NaN                    NaN  \n",
       "3            NaN                    NaN  \n",
       "4          308.0                 0.3003  "
      ]
     },
     "execution_count": 31,
     "metadata": {},
     "output_type": "execute_result"
    }
   ],
   "source": [
    "data.drop(\n",
    "    columns=[\n",
    "        'fuzzy_brand', 'fuzzy_score',\n",
    "        'fuzzy_model', 'fuzzy_model_score', 'fuzzy_model_inv','fuzzy_model_inv_score', \n",
    "        'fuzzy_model_size', 'fuzzy_model_size_score', 'fuzzy_model_size_inv','fuzzy_model_size_inv_score', \n",
    "        'fuzzy_submodel', 'fuzzy_submodel_score', 'fuzzy_submodel_inv', 'fuzzy_submodel_inv_score', \n",
    "        'is_best','model_submodel_inv_db', 'model_inv_db', 'model_size_db', 'model_size_inv_db'],\n",
    "    inplace=True)\n",
    "\n",
    "data.head()"
   ]
  },
  {
   "cell_type": "code",
   "execution_count": 32,
   "id": "d218ff98",
   "metadata": {},
   "outputs": [],
   "source": [
    "data.model_db = data.model_db.fillna('-')"
   ]
  },
  {
   "cell_type": "code",
   "execution_count": 33,
   "id": "d32518d7",
   "metadata": {
    "scrolled": true
   },
   "outputs": [
    {
     "data": {
      "text/html": [
       "<div>\n",
       "<style scoped>\n",
       "    .dataframe tbody tr th:only-of-type {\n",
       "        vertical-align: middle;\n",
       "    }\n",
       "\n",
       "    .dataframe tbody tr th {\n",
       "        vertical-align: top;\n",
       "    }\n",
       "\n",
       "    .dataframe thead th {\n",
       "        text-align: right;\n",
       "    }\n",
       "</style>\n",
       "<table border=\"1\" class=\"dataframe\">\n",
       "  <thead>\n",
       "    <tr style=\"text-align: right;\">\n",
       "      <th></th>\n",
       "      <th>url</th>\n",
       "      <th>uniq_id</th>\n",
       "      <th>brand</th>\n",
       "      <th>bike_year</th>\n",
       "      <th>mileage</th>\n",
       "      <th>bike_type</th>\n",
       "      <th>price</th>\n",
       "      <th>model</th>\n",
       "      <th>engine_size</th>\n",
       "      <th>date_scrapped</th>\n",
       "      <th>Unnamed: 0</th>\n",
       "      <th>brand_db</th>\n",
       "      <th>model_db</th>\n",
       "      <th>model_submodel_db</th>\n",
       "      <th>year_db</th>\n",
       "      <th>category_db</th>\n",
       "      <th>engine_type_db</th>\n",
       "      <th>engine_size_db</th>\n",
       "      <th>power_db</th>\n",
       "      <th>torque_db</th>\n",
       "      <th>compression_db</th>\n",
       "      <th>cooling_system_db</th>\n",
       "      <th>dry_weight_db</th>\n",
       "      <th>power/weight_ratio_db</th>\n",
       "    </tr>\n",
       "  </thead>\n",
       "  <tbody>\n",
       "    <tr>\n",
       "      <th>0</th>\n",
       "      <td>https://www.motoplanete.com/occasion-moto/3764...</td>\n",
       "      <td>motoplanete-37642</td>\n",
       "      <td>kawasaki</td>\n",
       "      <td>2021</td>\n",
       "      <td>476.0</td>\n",
       "      <td>Trail</td>\n",
       "      <td>16999.0</td>\n",
       "      <td>versys10002020</td>\n",
       "      <td>1000.0</td>\n",
       "      <td>2021/06/04 - 22h18</td>\n",
       "      <td>6405.0</td>\n",
       "      <td>kawasaki</td>\n",
       "      <td>100</td>\n",
       "      <td>1000gtr</td>\n",
       "      <td>1990.0</td>\n",
       "      <td>sport touring</td>\n",
       "      <td>in-line four</td>\n",
       "      <td>997.0</td>\n",
       "      <td>92.0</td>\n",
       "      <td>NaN</td>\n",
       "      <td>10.2:1</td>\n",
       "      <td>Liquid</td>\n",
       "      <td>NaN</td>\n",
       "      <td>NaN</td>\n",
       "    </tr>\n",
       "    <tr>\n",
       "      <th>1</th>\n",
       "      <td>https://www.motoplanete.com/occasion-moto/1139...</td>\n",
       "      <td>motoplanete-11392</td>\n",
       "      <td>yamaha</td>\n",
       "      <td>2019</td>\n",
       "      <td>2500.0</td>\n",
       "      <td>Routière &amp; GT</td>\n",
       "      <td>13490.0</td>\n",
       "      <td>niken</td>\n",
       "      <td>847.0</td>\n",
       "      <td>2021/06/04 - 22h18</td>\n",
       "      <td>22498.0</td>\n",
       "      <td>yamaha</td>\n",
       "      <td>niken</td>\n",
       "      <td>niken</td>\n",
       "      <td>2018.0</td>\n",
       "      <td>naked bike</td>\n",
       "      <td>in-line three</td>\n",
       "      <td>847.0</td>\n",
       "      <td>115.0</td>\n",
       "      <td>61.5</td>\n",
       "      <td>11.5:1</td>\n",
       "      <td>Liquid</td>\n",
       "      <td>NaN</td>\n",
       "      <td>NaN</td>\n",
       "    </tr>\n",
       "    <tr>\n",
       "      <th>2</th>\n",
       "      <td>https://www.motoplanete.com/occasion-moto/1536...</td>\n",
       "      <td>motoplanete-15360</td>\n",
       "      <td>yamaha</td>\n",
       "      <td>2016</td>\n",
       "      <td>2600.0</td>\n",
       "      <td>Custom</td>\n",
       "      <td>8500.0</td>\n",
       "      <td>xv950bolt</td>\n",
       "      <td>950.0</td>\n",
       "      <td>2021/06/04 - 22h18</td>\n",
       "      <td>3258.0</td>\n",
       "      <td>yamaha</td>\n",
       "      <td>bolt</td>\n",
       "      <td>boltrspec</td>\n",
       "      <td>2021.0</td>\n",
       "      <td>custom / cruiser</td>\n",
       "      <td>v2</td>\n",
       "      <td>942.0</td>\n",
       "      <td>NaN</td>\n",
       "      <td>80.4</td>\n",
       "      <td>9.0:1</td>\n",
       "      <td>Air</td>\n",
       "      <td>NaN</td>\n",
       "      <td>NaN</td>\n",
       "    </tr>\n",
       "    <tr>\n",
       "      <th>3</th>\n",
       "      <td>https://www.motoplanete.com/occasion-moto/4082...</td>\n",
       "      <td>motoplanete-40822</td>\n",
       "      <td>kawasaki</td>\n",
       "      <td>2009</td>\n",
       "      <td>20000.0</td>\n",
       "      <td>Routière &amp; GT</td>\n",
       "      <td>8490.0</td>\n",
       "      <td>zzr</td>\n",
       "      <td>1400.0</td>\n",
       "      <td>2021/06/04 - 22h18</td>\n",
       "      <td>1203.0</td>\n",
       "      <td>kawasaki</td>\n",
       "      <td>zzr1400</td>\n",
       "      <td>zzr1400performancesport</td>\n",
       "      <td>2015.0</td>\n",
       "      <td>sport</td>\n",
       "      <td>in-line four</td>\n",
       "      <td>1441.0</td>\n",
       "      <td>200.0</td>\n",
       "      <td>162.5</td>\n",
       "      <td>12.3:1</td>\n",
       "      <td>Liquid</td>\n",
       "      <td>NaN</td>\n",
       "      <td>NaN</td>\n",
       "    </tr>\n",
       "    <tr>\n",
       "      <th>4</th>\n",
       "      <td>https://www.motoplanete.com/occasion-moto/3248...</td>\n",
       "      <td>motoplanete-32485</td>\n",
       "      <td>harleydavidson</td>\n",
       "      <td>2014</td>\n",
       "      <td>11500.0</td>\n",
       "      <td>Custom</td>\n",
       "      <td>17200.0</td>\n",
       "      <td>softailslim</td>\n",
       "      <td>1584.0</td>\n",
       "      <td>2021/06/04 - 22h18</td>\n",
       "      <td>1747.0</td>\n",
       "      <td>harleydavidson</td>\n",
       "      <td>softailslim</td>\n",
       "      <td>softailslims</td>\n",
       "      <td>2016.0</td>\n",
       "      <td>custom / cruiser</td>\n",
       "      <td>v2</td>\n",
       "      <td>1801.0</td>\n",
       "      <td>92.5</td>\n",
       "      <td>145.0</td>\n",
       "      <td>9.5:1</td>\n",
       "      <td>Air</td>\n",
       "      <td>308.0</td>\n",
       "      <td>0.3003</td>\n",
       "    </tr>\n",
       "  </tbody>\n",
       "</table>\n",
       "</div>"
      ],
      "text/plain": [
       "                                                 url            uniq_id  \\\n",
       "0  https://www.motoplanete.com/occasion-moto/3764...  motoplanete-37642   \n",
       "1  https://www.motoplanete.com/occasion-moto/1139...  motoplanete-11392   \n",
       "2  https://www.motoplanete.com/occasion-moto/1536...  motoplanete-15360   \n",
       "3  https://www.motoplanete.com/occasion-moto/4082...  motoplanete-40822   \n",
       "4  https://www.motoplanete.com/occasion-moto/3248...  motoplanete-32485   \n",
       "\n",
       "            brand  bike_year  mileage      bike_type    price           model  \\\n",
       "0        kawasaki       2021    476.0          Trail  16999.0  versys10002020   \n",
       "1          yamaha       2019   2500.0  Routière & GT  13490.0           niken   \n",
       "2          yamaha       2016   2600.0         Custom   8500.0       xv950bolt   \n",
       "3        kawasaki       2009  20000.0  Routière & GT   8490.0             zzr   \n",
       "4  harleydavidson       2014  11500.0         Custom  17200.0     softailslim   \n",
       "\n",
       "   engine_size       date_scrapped  Unnamed: 0        brand_db     model_db  \\\n",
       "0       1000.0  2021/06/04 - 22h18      6405.0        kawasaki          100   \n",
       "1        847.0  2021/06/04 - 22h18     22498.0          yamaha        niken   \n",
       "2        950.0  2021/06/04 - 22h18      3258.0          yamaha         bolt   \n",
       "3       1400.0  2021/06/04 - 22h18      1203.0        kawasaki      zzr1400   \n",
       "4       1584.0  2021/06/04 - 22h18      1747.0  harleydavidson  softailslim   \n",
       "\n",
       "         model_submodel_db  year_db       category_db engine_type_db  \\\n",
       "0                  1000gtr   1990.0     sport touring   in-line four   \n",
       "1                    niken   2018.0        naked bike  in-line three   \n",
       "2                boltrspec   2021.0  custom / cruiser             v2   \n",
       "3  zzr1400performancesport   2015.0             sport   in-line four   \n",
       "4             softailslims   2016.0  custom / cruiser             v2   \n",
       "\n",
       "   engine_size_db  power_db  torque_db compression_db cooling_system_db  \\\n",
       "0           997.0      92.0        NaN         10.2:1            Liquid   \n",
       "1           847.0     115.0       61.5         11.5:1            Liquid   \n",
       "2           942.0       NaN       80.4          9.0:1               Air   \n",
       "3          1441.0     200.0      162.5         12.3:1            Liquid   \n",
       "4          1801.0      92.5      145.0          9.5:1               Air   \n",
       "\n",
       "   dry_weight_db  power/weight_ratio_db  \n",
       "0            NaN                    NaN  \n",
       "1            NaN                    NaN  \n",
       "2            NaN                    NaN  \n",
       "3            NaN                    NaN  \n",
       "4          308.0                 0.3003  "
      ]
     },
     "execution_count": 33,
     "metadata": {},
     "output_type": "execute_result"
    }
   ],
   "source": [
    "def imput_model(model,submodel):\n",
    "    if model == '-':\n",
    "        return submodel\n",
    "    return model\n",
    "\n",
    "data.model_db = data.apply(lambda x: imput_model(x['model_db'], x['model_submodel_db']), axis=1)\n",
    "data.head()"
   ]
  },
  {
   "cell_type": "markdown",
   "id": "0b646894",
   "metadata": {},
   "source": [
    "# Clean data"
   ]
  },
  {
   "cell_type": "code",
   "execution_count": 34,
   "id": "b8fe7b8a",
   "metadata": {},
   "outputs": [
    {
     "name": "stdout",
     "output_type": "stream",
     "text": [
      "129 rows removed\n"
     ]
    }
   ],
   "source": [
    "before = data.shape[0]\n",
    "data = data[(data['model']!= 'r1200')]\n",
    "after= data.shape[0]\n",
    "print(before-after, \"rows removed\")"
   ]
  },
  {
   "cell_type": "code",
   "execution_count": 35,
   "id": "a653169d",
   "metadata": {},
   "outputs": [
    {
     "name": "stdout",
     "output_type": "stream",
     "text": [
      "0 rows removed\n"
     ]
    }
   ],
   "source": [
    "before = data.shape[0]\n",
    "data = data[(data['model']!= 'r 1200')]\n",
    "after= data.shape[0]\n",
    "print(before-after, \"rows removed\")"
   ]
  },
  {
   "cell_type": "code",
   "execution_count": 36,
   "id": "c9bd7e92",
   "metadata": {},
   "outputs": [
    {
     "name": "stdout",
     "output_type": "stream",
     "text": [
      "387 rows removed\n"
     ]
    }
   ],
   "source": [
    "before = data.shape[0]\n",
    "data = data[(data['engine_size']<2000)&(data['engine_size']>45)]\n",
    "after= data.shape[0]\n",
    "print(before-after, \"rows removed\")"
   ]
  },
  {
   "cell_type": "code",
   "execution_count": 37,
   "id": "243eadfb",
   "metadata": {},
   "outputs": [
    {
     "name": "stdout",
     "output_type": "stream",
     "text": [
      "4 rows removed\n"
     ]
    }
   ],
   "source": [
    "before = data.shape[0]\n",
    "data = data[data['mileage']<500000]\n",
    "after= data.shape[0]\n",
    "print(before-after, \"rows removed\")"
   ]
  },
  {
   "cell_type": "code",
   "execution_count": 38,
   "id": "74302746",
   "metadata": {},
   "outputs": [
    {
     "name": "stdout",
     "output_type": "stream",
     "text": [
      "9 rows removed\n"
     ]
    }
   ],
   "source": [
    "before = data.shape[0]\n",
    "data = data[data['price']>100]\n",
    "after= data.shape[0]\n",
    "print(before-after, \"rows removed\")"
   ]
  },
  {
   "cell_type": "code",
   "execution_count": 39,
   "id": "ac1c078b",
   "metadata": {},
   "outputs": [
    {
     "name": "stdout",
     "output_type": "stream",
     "text": [
      "1 rows removed\n"
     ]
    }
   ],
   "source": [
    "before = data.shape[0]\n",
    "data = data[data['price']<60000]\n",
    "after= data.shape[0]\n",
    "print(before-after, \"rows removed\")"
   ]
  },
  {
   "cell_type": "code",
   "execution_count": 40,
   "id": "3ed694d4",
   "metadata": {},
   "outputs": [
    {
     "name": "stdout",
     "output_type": "stream",
     "text": [
      "0 rows removed\n"
     ]
    }
   ],
   "source": [
    "before = data.shape[0]\n",
    "data = data[data['bike_year']>1800]\n",
    "after= data.shape[0]\n",
    "print(before-after, \"rows removed\")"
   ]
  },
  {
   "cell_type": "code",
   "execution_count": 41,
   "id": "7367d961",
   "metadata": {},
   "outputs": [
    {
     "name": "stdout",
     "output_type": "stream",
     "text": [
      "6 rows removed\n"
     ]
    }
   ],
   "source": [
    "before = data.shape[0]\n",
    "data = data[data['bike_year']<=datetime.now().year]\n",
    "after= data.shape[0]\n",
    "print(before-after, \"rows removed\")"
   ]
  },
  {
   "cell_type": "code",
   "execution_count": 42,
   "id": "b08415fd",
   "metadata": {},
   "outputs": [
    {
     "name": "stdout",
     "output_type": "stream",
     "text": [
      "6 rows removed\n"
     ]
    }
   ],
   "source": [
    "before = data.shape[0]\n",
    "data.dropna(subset=['model_db'], inplace=True)\n",
    "after= data.shape[0]\n",
    "print(before-after, \"rows removed\")"
   ]
  },
  {
   "cell_type": "code",
   "execution_count": 43,
   "id": "76b58ab2",
   "metadata": {},
   "outputs": [
    {
     "name": "stdout",
     "output_type": "stream",
     "text": [
      "5360 rows removed\n"
     ]
    }
   ],
   "source": [
    "before = data.shape[0]\n",
    "data.drop_duplicates(subset=['model_db','brand_db', 'mileage', 'price', 'bike_year'], inplace=True)\n",
    "after= data.shape[0]\n",
    "print(before-after, \"rows removed\")"
   ]
  },
  {
   "cell_type": "code",
   "execution_count": 44,
   "id": "22d28923",
   "metadata": {},
   "outputs": [],
   "source": [
    "data.to_csv(\"master_with_fuzzy_and_cleaning.csv\", index=False)"
   ]
  },
  {
   "cell_type": "code",
   "execution_count": 45,
   "id": "0fc2a0ee",
   "metadata": {},
   "outputs": [
    {
     "data": {
      "text/html": [
       "<div>\n",
       "<style scoped>\n",
       "    .dataframe tbody tr th:only-of-type {\n",
       "        vertical-align: middle;\n",
       "    }\n",
       "\n",
       "    .dataframe tbody tr th {\n",
       "        vertical-align: top;\n",
       "    }\n",
       "\n",
       "    .dataframe thead th {\n",
       "        text-align: right;\n",
       "    }\n",
       "</style>\n",
       "<table border=\"1\" class=\"dataframe\">\n",
       "  <thead>\n",
       "    <tr style=\"text-align: right;\">\n",
       "      <th></th>\n",
       "      <th>url</th>\n",
       "      <th>uniq_id</th>\n",
       "      <th>brand</th>\n",
       "      <th>bike_year</th>\n",
       "      <th>mileage</th>\n",
       "      <th>bike_type</th>\n",
       "      <th>price</th>\n",
       "      <th>model</th>\n",
       "      <th>engine_size</th>\n",
       "      <th>date_scrapped</th>\n",
       "      <th>Unnamed: 0</th>\n",
       "      <th>brand_db</th>\n",
       "      <th>model_db</th>\n",
       "      <th>model_submodel_db</th>\n",
       "      <th>year_db</th>\n",
       "      <th>category_db</th>\n",
       "      <th>engine_type_db</th>\n",
       "      <th>engine_size_db</th>\n",
       "      <th>power_db</th>\n",
       "      <th>torque_db</th>\n",
       "      <th>compression_db</th>\n",
       "      <th>cooling_system_db</th>\n",
       "      <th>dry_weight_db</th>\n",
       "      <th>power/weight_ratio_db</th>\n",
       "    </tr>\n",
       "  </thead>\n",
       "  <tbody>\n",
       "    <tr>\n",
       "      <th>0</th>\n",
       "      <td>https://www.motoplanete.com/occasion-moto/3764...</td>\n",
       "      <td>motoplanete-37642</td>\n",
       "      <td>kawasaki</td>\n",
       "      <td>2021</td>\n",
       "      <td>476.0</td>\n",
       "      <td>Trail</td>\n",
       "      <td>16999.0</td>\n",
       "      <td>versys10002020</td>\n",
       "      <td>1000.0</td>\n",
       "      <td>2021/06/04 - 22h18</td>\n",
       "      <td>6405.0</td>\n",
       "      <td>kawasaki</td>\n",
       "      <td>100</td>\n",
       "      <td>1000gtr</td>\n",
       "      <td>1990.0</td>\n",
       "      <td>sport touring</td>\n",
       "      <td>in-line four</td>\n",
       "      <td>997.0</td>\n",
       "      <td>92.0</td>\n",
       "      <td>NaN</td>\n",
       "      <td>10.2:1</td>\n",
       "      <td>Liquid</td>\n",
       "      <td>NaN</td>\n",
       "      <td>NaN</td>\n",
       "    </tr>\n",
       "    <tr>\n",
       "      <th>1</th>\n",
       "      <td>https://www.motoplanete.com/occasion-moto/1139...</td>\n",
       "      <td>motoplanete-11392</td>\n",
       "      <td>yamaha</td>\n",
       "      <td>2019</td>\n",
       "      <td>2500.0</td>\n",
       "      <td>Routière &amp; GT</td>\n",
       "      <td>13490.0</td>\n",
       "      <td>niken</td>\n",
       "      <td>847.0</td>\n",
       "      <td>2021/06/04 - 22h18</td>\n",
       "      <td>22498.0</td>\n",
       "      <td>yamaha</td>\n",
       "      <td>niken</td>\n",
       "      <td>niken</td>\n",
       "      <td>2018.0</td>\n",
       "      <td>naked bike</td>\n",
       "      <td>in-line three</td>\n",
       "      <td>847.0</td>\n",
       "      <td>115.0</td>\n",
       "      <td>61.5</td>\n",
       "      <td>11.5:1</td>\n",
       "      <td>Liquid</td>\n",
       "      <td>NaN</td>\n",
       "      <td>NaN</td>\n",
       "    </tr>\n",
       "    <tr>\n",
       "      <th>2</th>\n",
       "      <td>https://www.motoplanete.com/occasion-moto/1536...</td>\n",
       "      <td>motoplanete-15360</td>\n",
       "      <td>yamaha</td>\n",
       "      <td>2016</td>\n",
       "      <td>2600.0</td>\n",
       "      <td>Custom</td>\n",
       "      <td>8500.0</td>\n",
       "      <td>xv950bolt</td>\n",
       "      <td>950.0</td>\n",
       "      <td>2021/06/04 - 22h18</td>\n",
       "      <td>3258.0</td>\n",
       "      <td>yamaha</td>\n",
       "      <td>bolt</td>\n",
       "      <td>boltrspec</td>\n",
       "      <td>2021.0</td>\n",
       "      <td>custom / cruiser</td>\n",
       "      <td>v2</td>\n",
       "      <td>942.0</td>\n",
       "      <td>NaN</td>\n",
       "      <td>80.4</td>\n",
       "      <td>9.0:1</td>\n",
       "      <td>Air</td>\n",
       "      <td>NaN</td>\n",
       "      <td>NaN</td>\n",
       "    </tr>\n",
       "    <tr>\n",
       "      <th>3</th>\n",
       "      <td>https://www.motoplanete.com/occasion-moto/4082...</td>\n",
       "      <td>motoplanete-40822</td>\n",
       "      <td>kawasaki</td>\n",
       "      <td>2009</td>\n",
       "      <td>20000.0</td>\n",
       "      <td>Routière &amp; GT</td>\n",
       "      <td>8490.0</td>\n",
       "      <td>zzr</td>\n",
       "      <td>1400.0</td>\n",
       "      <td>2021/06/04 - 22h18</td>\n",
       "      <td>1203.0</td>\n",
       "      <td>kawasaki</td>\n",
       "      <td>zzr1400</td>\n",
       "      <td>zzr1400performancesport</td>\n",
       "      <td>2015.0</td>\n",
       "      <td>sport</td>\n",
       "      <td>in-line four</td>\n",
       "      <td>1441.0</td>\n",
       "      <td>200.0</td>\n",
       "      <td>162.5</td>\n",
       "      <td>12.3:1</td>\n",
       "      <td>Liquid</td>\n",
       "      <td>NaN</td>\n",
       "      <td>NaN</td>\n",
       "    </tr>\n",
       "    <tr>\n",
       "      <th>4</th>\n",
       "      <td>https://www.motoplanete.com/occasion-moto/3248...</td>\n",
       "      <td>motoplanete-32485</td>\n",
       "      <td>harleydavidson</td>\n",
       "      <td>2014</td>\n",
       "      <td>11500.0</td>\n",
       "      <td>Custom</td>\n",
       "      <td>17200.0</td>\n",
       "      <td>softailslim</td>\n",
       "      <td>1584.0</td>\n",
       "      <td>2021/06/04 - 22h18</td>\n",
       "      <td>1747.0</td>\n",
       "      <td>harleydavidson</td>\n",
       "      <td>softailslim</td>\n",
       "      <td>softailslims</td>\n",
       "      <td>2016.0</td>\n",
       "      <td>custom / cruiser</td>\n",
       "      <td>v2</td>\n",
       "      <td>1801.0</td>\n",
       "      <td>92.5</td>\n",
       "      <td>145.0</td>\n",
       "      <td>9.5:1</td>\n",
       "      <td>Air</td>\n",
       "      <td>308.0</td>\n",
       "      <td>0.3003</td>\n",
       "    </tr>\n",
       "  </tbody>\n",
       "</table>\n",
       "</div>"
      ],
      "text/plain": [
       "                                                 url            uniq_id  \\\n",
       "0  https://www.motoplanete.com/occasion-moto/3764...  motoplanete-37642   \n",
       "1  https://www.motoplanete.com/occasion-moto/1139...  motoplanete-11392   \n",
       "2  https://www.motoplanete.com/occasion-moto/1536...  motoplanete-15360   \n",
       "3  https://www.motoplanete.com/occasion-moto/4082...  motoplanete-40822   \n",
       "4  https://www.motoplanete.com/occasion-moto/3248...  motoplanete-32485   \n",
       "\n",
       "            brand  bike_year  mileage      bike_type    price           model  \\\n",
       "0        kawasaki       2021    476.0          Trail  16999.0  versys10002020   \n",
       "1          yamaha       2019   2500.0  Routière & GT  13490.0           niken   \n",
       "2          yamaha       2016   2600.0         Custom   8500.0       xv950bolt   \n",
       "3        kawasaki       2009  20000.0  Routière & GT   8490.0             zzr   \n",
       "4  harleydavidson       2014  11500.0         Custom  17200.0     softailslim   \n",
       "\n",
       "   engine_size       date_scrapped  Unnamed: 0        brand_db     model_db  \\\n",
       "0       1000.0  2021/06/04 - 22h18      6405.0        kawasaki          100   \n",
       "1        847.0  2021/06/04 - 22h18     22498.0          yamaha        niken   \n",
       "2        950.0  2021/06/04 - 22h18      3258.0          yamaha         bolt   \n",
       "3       1400.0  2021/06/04 - 22h18      1203.0        kawasaki      zzr1400   \n",
       "4       1584.0  2021/06/04 - 22h18      1747.0  harleydavidson  softailslim   \n",
       "\n",
       "         model_submodel_db  year_db       category_db engine_type_db  \\\n",
       "0                  1000gtr   1990.0     sport touring   in-line four   \n",
       "1                    niken   2018.0        naked bike  in-line three   \n",
       "2                boltrspec   2021.0  custom / cruiser             v2   \n",
       "3  zzr1400performancesport   2015.0             sport   in-line four   \n",
       "4             softailslims   2016.0  custom / cruiser             v2   \n",
       "\n",
       "   engine_size_db  power_db  torque_db compression_db cooling_system_db  \\\n",
       "0           997.0      92.0        NaN         10.2:1            Liquid   \n",
       "1           847.0     115.0       61.5         11.5:1            Liquid   \n",
       "2           942.0       NaN       80.4          9.0:1               Air   \n",
       "3          1441.0     200.0      162.5         12.3:1            Liquid   \n",
       "4          1801.0      92.5      145.0          9.5:1               Air   \n",
       "\n",
       "   dry_weight_db  power/weight_ratio_db  \n",
       "0            NaN                    NaN  \n",
       "1            NaN                    NaN  \n",
       "2            NaN                    NaN  \n",
       "3            NaN                    NaN  \n",
       "4          308.0                 0.3003  "
      ]
     },
     "execution_count": 45,
     "metadata": {},
     "output_type": "execute_result"
    }
   ],
   "source": [
    "data.head()"
   ]
  },
  {
   "cell_type": "markdown",
   "id": "5fda6996",
   "metadata": {},
   "source": [
    "# Feature engineering"
   ]
  },
  {
   "cell_type": "markdown",
   "id": "9b53465c",
   "metadata": {},
   "source": [
    "## Calculated"
   ]
  },
  {
   "cell_type": "code",
   "execution_count": 46,
   "id": "28c67cdc",
   "metadata": {},
   "outputs": [],
   "source": [
    "def km_per_year(km, bike_year):\n",
    "    if (datetime.now().year- bike_year) == 0:\n",
    "        return km\n",
    "    return km / (datetime.now().year- bike_year)\n",
    "\n",
    "data['km/year'] = data.apply(lambda x: km_per_year(x['mileage'],x['bike_year']), axis=1)"
   ]
  },
  {
   "cell_type": "code",
   "execution_count": 56,
   "id": "efd84634",
   "metadata": {},
   "outputs": [],
   "source": [
    "def price_per_cc_per_km(cc, price, mileage):\n",
    "    return (price/cc) / mileage\n",
    "\n",
    "data['price/cc/km'] = data.apply(lambda x: price_per_cc_per_km(x['engine_size'],x['price'], x['mileage'] ), axis=1)"
   ]
  },
  {
   "cell_type": "markdown",
   "id": "8d3d3739",
   "metadata": {},
   "source": [
    "# Explore data"
   ]
  },
  {
   "cell_type": "code",
   "execution_count": null,
   "id": "d6501e32",
   "metadata": {},
   "outputs": [],
   "source": [
    "data.model.value_counts()"
   ]
  },
  {
   "cell_type": "code",
   "execution_count": null,
   "id": "c6b7edb3",
   "metadata": {
    "scrolled": true
   },
   "outputs": [],
   "source": [
    "data.model_submodel_db.value_counts()"
   ]
  },
  {
   "cell_type": "markdown",
   "id": "e4ec0b39",
   "metadata": {},
   "source": [
    "## Overview"
   ]
  },
  {
   "cell_type": "code",
   "execution_count": null,
   "id": "76b97ec0",
   "metadata": {
    "scrolled": true
   },
   "outputs": [],
   "source": [
    "data.model.nunique()"
   ]
  },
  {
   "cell_type": "code",
   "execution_count": null,
   "id": "de7dbeee",
   "metadata": {},
   "outputs": [],
   "source": [
    "data.model_submodel_db.nunique()"
   ]
  },
  {
   "cell_type": "markdown",
   "id": "03aeca3f",
   "metadata": {},
   "source": [
    "## Price\n",
    "### vs mileage (km) per category"
   ]
  },
  {
   "cell_type": "code",
   "execution_count": null,
   "id": "c64cec62",
   "metadata": {
    "scrolled": false
   },
   "outputs": [],
   "source": [
    "sns.scatterplot(x='mileage', y='price', hue='category_db', data=data);"
   ]
  },
  {
   "cell_type": "markdown",
   "id": "d2c57a02",
   "metadata": {},
   "source": [
    "### vs mileage (km) per engine size"
   ]
  },
  {
   "cell_type": "code",
   "execution_count": null,
   "id": "89fad902",
   "metadata": {
    "scrolled": false
   },
   "outputs": [],
   "source": [
    "sns.scatterplot(x='mileage', y='price', hue='engine_size', data=data);"
   ]
  },
  {
   "cell_type": "markdown",
   "id": "7a8fd4e9",
   "metadata": {},
   "source": [
    "### vs mileage (km) per power range"
   ]
  },
  {
   "cell_type": "code",
   "execution_count": null,
   "id": "fd9c379e",
   "metadata": {},
   "outputs": [],
   "source": [
    "data.head()"
   ]
  },
  {
   "cell_type": "code",
   "execution_count": null,
   "id": "1449d2c8",
   "metadata": {},
   "outputs": [],
   "source": [
    "sns.scatterplot(x='mileage', y='price', hue='power_db', data=data);"
   ]
  },
  {
   "cell_type": "markdown",
   "id": "55b8e588",
   "metadata": {},
   "source": [
    "### vs year of release per category"
   ]
  },
  {
   "cell_type": "code",
   "execution_count": null,
   "id": "cfe06851",
   "metadata": {},
   "outputs": [],
   "source": [
    "sns.scatterplot(x='bike_year', y='price', hue='category_db',data=data);"
   ]
  },
  {
   "cell_type": "markdown",
   "id": "cc3996c8",
   "metadata": {},
   "source": [
    "### vs year of release per engine size"
   ]
  },
  {
   "cell_type": "code",
   "execution_count": null,
   "id": "aaa364b5",
   "metadata": {},
   "outputs": [],
   "source": [
    "sns.scatterplot(x='bike_year', y='price', hue='engine_size', data=data);"
   ]
  },
  {
   "cell_type": "markdown",
   "id": "4388ea78",
   "metadata": {},
   "source": [
    "### vs km/year"
   ]
  },
  {
   "cell_type": "code",
   "execution_count": null,
   "id": "b6c95ddc",
   "metadata": {
    "scrolled": false
   },
   "outputs": [],
   "source": [
    "sns.scatterplot(x='km/year', y='price', hue='engine_size',data=data);"
   ]
  },
  {
   "cell_type": "markdown",
   "id": "afbbf411",
   "metadata": {},
   "source": [
    "## Price/cc vs km"
   ]
  },
  {
   "cell_type": "code",
   "execution_count": 61,
   "id": "adde2f81",
   "metadata": {},
   "outputs": [
    {
     "data": {
      "text/plain": [
       "0.1251841721486922"
      ]
     },
     "execution_count": 61,
     "metadata": {},
     "output_type": "execute_result"
    }
   ],
   "source": [
    "data['price/cc/km'].mean()"
   ]
  },
  {
   "cell_type": "markdown",
   "id": "d652b73c",
   "metadata": {},
   "source": [
    "### Average price per engine size"
   ]
  },
  {
   "cell_type": "code",
   "execution_count": null,
   "id": "4ee94f77",
   "metadata": {},
   "outputs": [],
   "source": [
    "data.groupby('engine_size').agg(Mean=('price', 'mean'), Std=('price', 'std'), Count=('price', 'count'))"
   ]
  },
  {
   "cell_type": "markdown",
   "id": "9a414df9",
   "metadata": {},
   "source": [
    "### Average price per category"
   ]
  },
  {
   "cell_type": "code",
   "execution_count": null,
   "id": "ddad3015",
   "metadata": {
    "scrolled": false
   },
   "outputs": [],
   "source": [
    "data.groupby('category_db').agg(Mean=('price', 'mean'), Std=('price', 'std'), Count=('price', 'count'))"
   ]
  },
  {
   "cell_type": "markdown",
   "id": "4a56bdd6",
   "metadata": {},
   "source": [
    "### Average price per brand"
   ]
  },
  {
   "cell_type": "code",
   "execution_count": null,
   "id": "0b97b186",
   "metadata": {},
   "outputs": [],
   "source": [
    "data.groupby('brand_db').agg(Mean=('price', 'mean'), Std=('price', 'std'), Count=('price', 'count'))"
   ]
  },
  {
   "cell_type": "markdown",
   "id": "1d9ab8ad",
   "metadata": {},
   "source": [
    "### Average price per model"
   ]
  },
  {
   "cell_type": "code",
   "execution_count": null,
   "id": "ddf0a73b",
   "metadata": {},
   "outputs": [],
   "source": [
    "data.groupby(['brand_db','model_db']).agg(Mean=('price', 'mean'), Std=('price', 'std'), Count=('price', 'count'))"
   ]
  },
  {
   "cell_type": "markdown",
   "id": "ffb54597",
   "metadata": {},
   "source": [
    "## Correlation matrix"
   ]
  },
  {
   "cell_type": "code",
   "execution_count": 62,
   "id": "d93b851e",
   "metadata": {},
   "outputs": [
    {
     "data": {
      "image/png": "[encoded data removed]",
      "text/plain": [
       "<Figure size 864x576 with 2 Axes>"
      ]
     },
     "metadata": {},
     "output_type": "display_data"
    }
   ],
   "source": [
    "sns.heatmap(data.corr(), annot = True);"
   ]
  },
  {
   "cell_type": "markdown",
   "id": "aef65e11",
   "metadata": {},
   "source": [
    "# BASELINE"
   ]
  },
  {
   "cell_type": "code",
   "execution_count": 63,
   "id": "0c983f1e",
   "metadata": {},
   "outputs": [
    {
     "name": "stdout",
     "output_type": "stream",
     "text": [
      "Average price : 7588.487495005993\n",
      "RMSE Baseline 5550.784196438278\n"
     ]
    }
   ],
   "source": [
    "# mean\n",
    "average_price = data.price.mean()\n",
    "\n",
    "#rmse\n",
    "rmse_baseline = np.sqrt(sum((data['price']-average_price)**2)/((data['price'].count())))\n",
    "\n",
    "print(\"Average price :\", average_price)\n",
    "print(\"RMSE Baseline\", rmse_baseline )"
   ]
  },
  {
   "cell_type": "code",
   "execution_count": 64,
   "id": "5c9a6bfc",
   "metadata": {},
   "outputs": [
    {
     "data": {
      "text/plain": [
       "<seaborn.axisgrid.FacetGrid at 0x12bfbf040>"
      ]
     },
     "execution_count": 64,
     "metadata": {},
     "output_type": "execute_result"
    },
    {
     "data": {
      "image/png": "[encoded data removed]",
      "text/plain": [
       "<Figure size 360x360 with 1 Axes>"
      ]
     },
     "metadata": {},
     "output_type": "display_data"
    }
   ],
   "source": [
    "sns.displot(data.price)"
   ]
  },
  {
   "cell_type": "markdown",
   "id": "d7da1f25",
   "metadata": {},
   "source": [
    "# LINEAR REGRESSION"
   ]
  },
  {
   "cell_type": "code",
   "execution_count": 65,
   "id": "124b0919",
   "metadata": {},
   "outputs": [],
   "source": [
    "from sklearn.linear_model import LinearRegression\n",
    "from sklearn.model_selection import train_test_split\n",
    "from sklearn.model_selection import cross_validate\n",
    "from sklearn.neighbors import KNeighborsRegressor\n",
    "from sklearn.preprocessing import OneHotEncoder"
   ]
  },
  {
   "cell_type": "markdown",
   "id": "8be55ee6",
   "metadata": {},
   "source": [
    "## Numerical features (not scaled)"
   ]
  },
  {
   "cell_type": "code",
   "execution_count": 66,
   "id": "c85a62e2",
   "metadata": {},
   "outputs": [
    {
     "data": {
      "text/plain": [
       "(12515, 27)"
      ]
     },
     "execution_count": 66,
     "metadata": {},
     "output_type": "execute_result"
    }
   ],
   "source": [
    "data_1 = data.copy()\n",
    "data_1.shape"
   ]
  },
  {
   "cell_type": "code",
   "execution_count": 67,
   "id": "21a63cea",
   "metadata": {},
   "outputs": [],
   "source": [
    "features_1 = ['bike_year', 'mileage', 'km/year', 'engine_size']"
   ]
  },
  {
   "cell_type": "code",
   "execution_count": 68,
   "id": "00ebe60c",
   "metadata": {},
   "outputs": [
    {
     "data": {
      "text/plain": [
       "(12515, 27)"
      ]
     },
     "execution_count": 68,
     "metadata": {},
     "output_type": "execute_result"
    }
   ],
   "source": [
    "for feature in features_1:\n",
    "    data_1.dropna(subset=[feature],inplace=True)\n",
    "data_1.shape  "
   ]
  },
  {
   "cell_type": "code",
   "execution_count": 69,
   "id": "877e0638",
   "metadata": {},
   "outputs": [
    {
     "data": {
      "text/plain": [
       "0.6453499778960038"
      ]
     },
     "execution_count": 69,
     "metadata": {},
     "output_type": "execute_result"
    }
   ],
   "source": [
    "X = data_1[features_1]\n",
    "y = data_1['price']\n",
    "\n",
    "model_1 = LinearRegression()\n",
    "\n",
    "cv_results = cross_validate(model_1, X, y, cv=5)\n",
    "cv_results['test_score'].mean()"
   ]
  },
  {
   "cell_type": "markdown",
   "id": "31583208",
   "metadata": {},
   "source": [
    "## Numerical features (not scaled) + brand encoded"
   ]
  },
  {
   "cell_type": "code",
   "execution_count": 70,
   "id": "82006fc1",
   "metadata": {},
   "outputs": [
    {
     "data": {
      "text/plain": [
       "0.6487260541436367"
      ]
     },
     "execution_count": 70,
     "metadata": {},
     "output_type": "execute_result"
    }
   ],
   "source": [
    "data_2 = data.copy()[['brand', 'bike_year', 'mileage', 'engine_size', 'km/year', 'price']]\n",
    "data_2.reset_index(inplace=True, drop=True)\n",
    "\n",
    "ohe = OneHotEncoder(sparse=False)\n",
    "\n",
    "ohe.fit(data_2[['brand']])\n",
    "\n",
    "feature_encoded = ohe.transform(data_2[['brand']])\n",
    "\n",
    "encoded = pd.DataFrame(feature_encoded, columns=ohe.categories_)\n",
    "\n",
    "encoded = encoded.T.reset_index().set_index('level_0').T\n",
    "\n",
    "data_2 = data_2.join(encoded,how=\"inner\")\n",
    "\n",
    "X = data_2.drop(columns=['brand', 'price'])\n",
    "y = data_2['price']\n",
    "\n",
    "model_2 = LinearRegression()\n",
    "\n",
    "cv_results = cross_validate(model_2, X, y, cv=5)\n",
    "cv_results['test_score'].mean()"
   ]
  },
  {
   "cell_type": "markdown",
   "id": "ae128071",
   "metadata": {},
   "source": [
    "## KNeighborsRegressor - Numerical features (not scaled) + brand encoded"
   ]
  },
  {
   "cell_type": "code",
   "execution_count": 71,
   "id": "ee79226a",
   "metadata": {},
   "outputs": [],
   "source": [
    "data_2 = data.copy()[['brand', 'bike_year', 'mileage', 'engine_size', 'km/year', 'price']]\n",
    "data_2.reset_index(inplace=True, drop=True)\n",
    "\n",
    "ohe = OneHotEncoder(sparse=False)\n",
    "\n",
    "ohe.fit(data_2[['brand']])\n",
    "\n",
    "feature_encoded = ohe.transform(data_2[['brand']])\n",
    "\n",
    "encoded = pd.DataFrame(feature_encoded, columns=ohe.categories_)\n",
    "\n",
    "encoded = encoded.T.reset_index().set_index('level_0').T\n",
    "\n",
    "data_2 = data_2.join(encoded,how=\"inner\")\n",
    "\n",
    "X = data_2.drop(columns=['brand', 'price'])\n",
    "y = data_2['price']"
   ]
  },
  {
   "cell_type": "code",
   "execution_count": 72,
   "id": "893a0647",
   "metadata": {},
   "outputs": [
    {
     "data": {
      "text/plain": [
       "0.713697220986114"
      ]
     },
     "execution_count": 72,
     "metadata": {},
     "output_type": "execute_result"
    }
   ],
   "source": [
    "model_3 = KNeighborsRegressor(n_neighbors=5)\n",
    "\n",
    "cv_results = cross_validate(model_3, X, y, cv=5)\n",
    "cv_results['test_score'].mean()"
   ]
  },
  {
   "cell_type": "markdown",
   "id": "f33c97c9",
   "metadata": {},
   "source": [
    "## KNeighborsRegressor - Numerical features (scaled) + brand encoded"
   ]
  },
  {
   "cell_type": "code",
   "execution_count": 73,
   "id": "722db23e",
   "metadata": {},
   "outputs": [],
   "source": [
    "from sklearn.neighbors import KNeighborsRegressor\n",
    "\n",
    "data_4 = data.copy()[['brand_db', 'bike_year','mileage','engine_size','price','km/year']]\n",
    "data_4.reset_index(inplace=True, drop=True)"
   ]
  },
  {
   "cell_type": "code",
   "execution_count": 74,
   "id": "a9c6528d",
   "metadata": {},
   "outputs": [],
   "source": [
    "from sklearn.preprocessing import MinMaxScaler\n",
    "\n",
    "scaler = MinMaxScaler()\n",
    "\n",
    "for feature in ['bike_year','mileage','engine_size','price','km/year']:\n",
    "    data_4[feature]=scaler.fit_transform(data_4[[feature]])"
   ]
  },
  {
   "cell_type": "code",
   "execution_count": 75,
   "id": "fdd1f314",
   "metadata": {},
   "outputs": [],
   "source": [
    "from sklearn.preprocessing import OneHotEncoder\n",
    "\n",
    "ohe = OneHotEncoder(sparse=False)\n",
    "\n",
    "ohe.fit(data_4[['brand_db']])\n",
    "\n",
    "feature_encoded = ohe.transform(data_4[['brand_db']])\n",
    "\n",
    "encoded = pd.DataFrame(feature_encoded, columns=ohe.categories_)\n",
    "\n",
    "encoded = encoded.T.reset_index().set_index('level_0').T\n",
    "\n",
    "data_4 = data_4.join(encoded,how=\"inner\")\n",
    "\n",
    "features_4 = data_4.drop(columns=['brand_db'])"
   ]
  },
  {
   "cell_type": "code",
   "execution_count": 76,
   "id": "4e2408e0",
   "metadata": {},
   "outputs": [
    {
     "name": "stdout",
     "output_type": "stream",
     "text": [
      "r2 0.915015203156481\n",
      "RMSE -0.02665418522061248\n"
     ]
    }
   ],
   "source": [
    "X = features_4\n",
    "y = data_4['price']\n",
    "\n",
    "model_4 = KNeighborsRegressor(n_neighbors=2)\n",
    "\n",
    "cv_results = cross_validate(model_4, X, y, cv=5, scoring=['neg_root_mean_squared_error', 'r2'])\n",
    "print(\"r2\", cv_results['test_r2'].mean())\n",
    "print(\"RMSE\",cv_results['test_neg_root_mean_squared_error'].mean())"
   ]
  }
 ],
 "metadata": {
  "kernelspec": {
   "display_name": "Python 3",
   "language": "python",
   "name": "python3"
  },
  "language_info": {
   "codemirror_mode": {
    "name": "ipython",
    "version": 3
   },
   "file_extension": ".py",
   "mimetype": "text/x-python",
   "name": "python",
   "nbconvert_exporter": "python",
   "pygments_lexer": "ipython3",
   "version": "3.8.6"
  },
  "toc": {
   "base_numbering": 1,
   "nav_menu": {},
   "number_sections": true,
   "sideBar": true,
   "skip_h1_title": false,
   "title_cell": "Table of Contents",
   "title_sidebar": "Contents",
   "toc_cell": false,
   "toc_position": {},
   "toc_section_display": true,
   "toc_window_display": false
  },
  "varInspector": {
   "cols": {
    "lenName": 16,
    "lenType": 16,
    "lenVar": 40
   },
   "kernels_config": {
    "python": {
     "delete_cmd_postfix": "",
     "delete_cmd_prefix": "del ",
     "library": "var_list.py",
     "varRefreshCmd": "print(var_dic_list())"
    },
    "r": {
     "delete_cmd_postfix": ") ",
     "delete_cmd_prefix": "rm(",
     "library": "var_list.r",
     "varRefreshCmd": "cat(var_dic_list()) "
    }
   },
   "types_to_exclude": [
    "module",
    "function",
    "builtin_function_or_method",
    "instance",
    "_Feature"
   ],
   "window_display": false
  }
 },
 "nbformat": 4,
 "nbformat_minor": 5
}
