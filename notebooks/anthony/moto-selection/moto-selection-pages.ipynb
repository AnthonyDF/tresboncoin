{
 "cells": [
  {
   "cell_type": "markdown",
   "id": "11cd9dea",
   "metadata": {},
   "source": [
    "## Save all pages as HTML files"
   ]
  },
  {
   "cell_type": "code",
   "execution_count": 1,
   "id": "1f55324e",
   "metadata": {},
   "outputs": [],
   "source": [
    "from datetime import datetime\n",
    "import requests\n",
    "from bs4 import BeautifulSoup\n",
    "import time\n",
    "import random\n",
    "import pandas as pd\n",
    "\n",
    "def scraping_pages():\n",
    "    try:\n",
    "        #Start time\n",
    "        start_time = datetime.now()\n",
    "\n",
    "        #site to scrap\n",
    "        source = 'moto-selection'\n",
    "\n",
    "\n",
    "        #log update\n",
    "        log_import = pd.read_csv('log.csv')\n",
    "        log_new = pd.DataFrame({'source' : [source],\n",
    "                                'step' : ['scrap pages'],\n",
    "                                'status' : ['started'],\n",
    "                                'time' : [datetime.now()],\n",
    "                                'details' : [\"\"]})\n",
    "        log = log_import.append(log_new , ignore_index=True)\n",
    "        log.to_csv('log.csv', index=False)\n",
    "\n",
    "        #Scrap the first page to find the max page number and save this page as html\n",
    "        url = f'http://www.moto-selection.com/moto-occasion/page-1.html'\n",
    "        response = requests.get(url)\n",
    "        file_name = source + \"-\" + str(1) + \"-\" + start_time.strftime(\"%Y-%m-%d_%Hh%M\")\n",
    "\n",
    "        with open(f\"pages/{file_name}.html\", \"w\")  as file:\n",
    "            file.write(response.text)\n",
    "            file.close()\n",
    "\n",
    "        soup = BeautifulSoup(response.content, \"html.parser\")\n",
    "        max_page = int(soup.select('#announces_list > h2:nth-child(2) > span:nth-child(2)')[0].text.split(' / ')[-1])\n",
    "\n",
    "        for page_number in range(2,max_page+1):\n",
    "            #url to scrap\n",
    "            url = f'http://www.moto-selection.com/moto-occasion/page-{page_number}.html'\n",
    "            response = requests.get(url)\n",
    "            file_name = source + \"-\" + str(page_number) + \"-\" + start_time.strftime(\"%Y-%m-%d_%Hh%M\")\n",
    "\n",
    "            with open(f\"pages/{file_name}.html\", \"w\")  as file:\n",
    "                file.write(response.text)\n",
    "                file.close()\n",
    "\n",
    "            print(page_number)\n",
    "            time.sleep(random.randint(4,9)) \n",
    "\n",
    "        #End time\n",
    "        end_time = datetime.now()\n",
    "        td = end_time - start_time\n",
    "\n",
    "        #log update\n",
    "        log_import = pd.read_csv('log.csv')\n",
    "        log_new = pd.DataFrame({'source' : [source],\n",
    "                                'step' : ['scrap pages'],\n",
    "                                'status' : ['completed'],\n",
    "                                'time' : [datetime.now()],\n",
    "                                'details' : [f\"{td.seconds/60} minutes elapsed, {page_number} pages scrapped\"]})\n",
    "        log = log_import.append(log_new , ignore_index=True)\n",
    "        log.to_csv('log.csv', index=False)\n",
    "    \n",
    "    except (ValueError, TypeError, NameError, KeyError, RuntimeWarning) as err:\n",
    "            #log update\n",
    "            log_import = pd.read_csv('log.csv')\n",
    "            log_new = pd.DataFrame({'source' : [source],\n",
    "                                    'step' : ['scrap pages'],\n",
    "                                    'status' : ['error'],\n",
    "                                    'time' : [datetime.now()],\n",
    "                                    'details' : [err]})\n",
    "            log = log_import.append(log_new , ignore_index=True)\n",
    "            log.to_csv('log.csv', index=False)\n",
    "\n",
    "scraping_pages()"
   ]
  },
  {
   "cell_type": "code",
   "execution_count": null,
   "id": "1177b937",
   "metadata": {},
   "outputs": [],
   "source": [
    "\n"
   ]
  }
 ],
 "metadata": {
  "kernelspec": {
   "display_name": "Python 3",
   "language": "python",
   "name": "python3"
  },
  "language_info": {
   "codemirror_mode": {
    "name": "ipython",
    "version": 3
   },
   "file_extension": ".py",
   "mimetype": "text/x-python",
   "name": "python",
   "nbconvert_exporter": "python",
   "pygments_lexer": "ipython3",
   "version": "3.8.6"
  },
  "toc": {
   "base_numbering": 1,
   "nav_menu": {},
   "number_sections": true,
   "sideBar": true,
   "skip_h1_title": false,
   "title_cell": "Table of Contents",
   "title_sidebar": "Contents",
   "toc_cell": false,
   "toc_position": {},
   "toc_section_display": true,
   "toc_window_display": false
  },
  "varInspector": {
   "cols": {
    "lenName": 16,
    "lenType": 16,
    "lenVar": 40
   },
   "kernels_config": {
    "python": {
     "delete_cmd_postfix": "",
     "delete_cmd_prefix": "del ",
     "library": "var_list.py",
     "varRefreshCmd": "print(var_dic_list())"
    },
    "r": {
     "delete_cmd_postfix": ") ",
     "delete_cmd_prefix": "rm(",
     "library": "var_list.r",
     "varRefreshCmd": "cat(var_dic_list()) "
    }
   },
   "types_to_exclude": [
    "module",
    "function",
    "builtin_function_or_method",
    "instance",
    "_Feature"
   ],
   "window_display": false
  }
 },
 "nbformat": 4,
 "nbformat_minor": 5
}
