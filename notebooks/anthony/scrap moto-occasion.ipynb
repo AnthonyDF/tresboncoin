{
 "cells": [
  {
   "cell_type": "code",
   "execution_count": 1,
   "id": "8b5ead8b",
   "metadata": {},
   "outputs": [],
   "source": [
    "import requests\n",
    "from bs4 import BeautifulSoup"
   ]
  },
  {
   "cell_type": "code",
   "execution_count": 2,
   "id": "6fcd5b4d",
   "metadata": {},
   "outputs": [],
   "source": [
    "url = 'http://moto-occasion.motorevue.com/motos?page=1'\n",
    "response = requests.get(url)"
   ]
  },
  {
   "cell_type": "code",
   "execution_count": 3,
   "id": "333556f9",
   "metadata": {},
   "outputs": [],
   "source": [
    "soup = BeautifulSoup(response.content, \"html.parser\")"
   ]
  },
  {
   "cell_type": "code",
   "execution_count": 12,
   "id": "db5000c3",
   "metadata": {},
   "outputs": [
    {
     "name": "stdout",
     "output_type": "stream",
     "text": [
      "http://moto-occasion.motorevue.com/motos/suzuki/burgman-400/WT140282.html\n",
      "--------------\n",
      "http://moto-occasion.motorevue.com/motos/bmw/r-1200-rs/WT140281.html\n",
      "--------------\n",
      "http://moto-occasion.motorevue.com/motos/kawasaki/ninja/WT140280.html\n",
      "--------------\n",
      "http://moto-occasion.motorevue.com/motos/honda/goldwing/WT140279.html\n",
      "--------------\n",
      "http://moto-occasion.motorevue.com/motos/honda/vfr/WT140278.html\n",
      "--------------\n",
      "http://moto-occasion.motorevue.com/motos/suzuki/burgman/WT140277.html\n",
      "--------------\n",
      "http://moto-occasion.motorevue.com/motos/piaggio/mp3-lt-300/WT140276.html\n",
      "--------------\n",
      "http://moto-occasion.motorevue.com/motos/honda/cb-x-500/WT140275.html\n",
      "--------------\n",
      "http://moto-occasion.motorevue.com/motos/suzuki/gsx-s-1000/WT140274.html\n",
      "--------------\n",
      "http://moto-occasion.motorevue.com/motos/suzuki/bandit-n-1250/WT140273.html\n",
      "--------------\n",
      "http://moto-occasion.motorevue.com/motos/suzuki/v-strom-650/WT140272.html\n",
      "--------------\n",
      "http://moto-occasion.motorevue.com/motos/yamaha/mt-07-700/WT140271.html\n",
      "--------------\n",
      "http://moto-occasion.motorevue.com/motos/suzuki/gsx-1250/WT140270.html\n",
      "--------------\n",
      "http://moto-occasion.motorevue.com/motos/kawasaki/z1000sx/WT140269.html\n",
      "--------------\n",
      "http://moto-occasion.motorevue.com/motos/yamaha/x-max-125/WT140268.html\n",
      "--------------\n"
     ]
    }
   ],
   "source": [
    "for bike in soup.find_all(\"li\", class_=\"list-items__item\"):\n",
    "    link = bike.find(\"a\", class_=\"list-items__link\").get('href')\n",
    "    url_site = 'http://moto-occasion.motorevue.com'\n",
    "    url_bike = url_site + link \n",
    "    \n",
    "    response_bike = requests.get(url_bike)\n",
    "    bike_soup = BeautifulSoup(response_bike.content, \"html.parser\")\n",
    "    \n",
    "    print('--------------')"
   ]
  },
  {
   "cell_type": "code",
   "execution_count": null,
   "id": "bc3cce7a",
   "metadata": {},
   "outputs": [],
   "source": [
    "for bike in soup.find_all(\"div\", class_=\"searchCard\"):\n",
    "    #bike description \n",
    "    description = bike.find(\"span\", class_=\"searchCard__makeModel\").string\n",
    "    version = bike.find(\"span\", class_=\"searchCard__version\").string\n",
    "    price = bike.find(\"span\", class_=\"text text-left text-color5 text-big text-regular\").string\n",
    "    deal_label = bike.find(\"span\", class_=\"goodDeal-label\").string\n",
    "    \n",
    "    link = bike.find(\"a\", class_=\"searchCard__link\").get('href')\n",
    "    url_site = 'https://www.lacentrale.fr'\n",
    "    url_bike = url_site + link \n",
    "    \n",
    "    print(\"description:\",description)\n",
    "    print(\"version:\",version)\n",
    "    print(\"price:\", price)\n",
    "    print(\"deal_label:\",deal_label)\n",
    "    print(\"url:\", url_bike) \n",
    "    \n",
    "    response_bike = requests.get(url_bike)\n",
    "    bike_soup = BeautifulSoup(response_bike.content, \"html.parser\")\n",
    "    bike_information = bike_soup.find(\"div\", class_=\"cbm-moduleInfos__informationList\").find_all(\"span\")\n",
    "    for info in bike_information:\n",
    "        print(info)\n",
    "        \"\"\"for info_2 in bike_information.find_all('span'):\n",
    "            print(\"->\",info_2.get_text())\n",
    "        #for info in bike_information.find_all(\"span\"):\"\"\"\n",
    "\n",
    "       \n",
    "    print('--------------')"
   ]
  }
 ],
 "metadata": {
  "kernelspec": {
   "display_name": "Python 3",
   "language": "python",
   "name": "python3"
  },
  "language_info": {
   "codemirror_mode": {
    "name": "ipython",
    "version": 3
   },
   "file_extension": ".py",
   "mimetype": "text/x-python",
   "name": "python",
   "nbconvert_exporter": "python",
   "pygments_lexer": "ipython3",
   "version": "3.8.6"
  },
  "toc": {
   "base_numbering": 1,
   "nav_menu": {},
   "number_sections": true,
   "sideBar": true,
   "skip_h1_title": false,
   "title_cell": "Table of Contents",
   "title_sidebar": "Contents",
   "toc_cell": false,
   "toc_position": {},
   "toc_section_display": true,
   "toc_window_display": false
  },
  "varInspector": {
   "cols": {
    "lenName": 16,
    "lenType": 16,
    "lenVar": 40
   },
   "kernels_config": {
    "python": {
     "delete_cmd_postfix": "",
     "delete_cmd_prefix": "del ",
     "library": "var_list.py",
     "varRefreshCmd": "print(var_dic_list())"
    },
    "r": {
     "delete_cmd_postfix": ") ",
     "delete_cmd_prefix": "rm(",
     "library": "var_list.r",
     "varRefreshCmd": "cat(var_dic_list()) "
    }
   },
   "types_to_exclude": [
    "module",
    "function",
    "builtin_function_or_method",
    "instance",
    "_Feature"
   ],
   "window_display": false
  }
 },
 "nbformat": 4,
 "nbformat_minor": 5
}
